{
 "cells": [
  {
   "cell_type": "markdown",
   "metadata": {},
   "source": [
    "# Self-Attention\n",
    "\n"
   ]
  },
  {
   "cell_type": "markdown",
   "metadata": {},
   "source": [
    "Start with our token embeddings.\n",
    "\n",
    "For this example we use 3 dimensional embeddings that were arbitrarily created to represent each token for illustrative purposes. Also, we just assume each word is a token (rather than breaking a word into smaller tokens).\n",
    "\n",
    "In reality, tokens are often sub-words and have many more dimensions. GPT-3 used over 12k diomensions for it's token embeddings."
   ]
  },
  {
   "cell_type": "code",
   "execution_count": 1,
   "metadata": {},
   "outputs": [],
   "source": [
    "import torch\n",
    "\n",
    "inputs = torch.tensor(\n",
    "    [[0.21, 0.47, 0.91], # I\n",
    "     [0.52, 0.11, 0.65], # can't\n",
    "     [0.03, 0.85, 0.19], # find\n",
    "     [0.73, 0.64, 0.39], # the\n",
    "     [0.13, 0.55, 0.68], # light\n",
    "     [0.22, 0.77, 0.08]] # switch\n",
    ")"
   ]
  },
  {
   "cell_type": "markdown",
   "metadata": {},
   "source": [
    "### Step 1 - Compute Attention Scores\n",
    "\n",
    "Each token in our 6 word context window above needs to know how much it shoud \"pay attention\" to the other tokens in our sequence. \n",
    "\n",
    "In other words - how much does a token impact another token's meaning/ change it's context.\n",
    "\n",
    "To tell our model how much attention a token should should give the other tokens in the sequence we compute the attention weights.\n",
    "\n",
    "##### Computing Attention Weights\n",
    "For every token in our context window, we take that token as our \"query\" and compute a dot product between the query and every other token in the context window.\n",
    "\n",
    "The dot product is a measure of similarity between the tokens."
   ]
  },
  {
   "cell_type": "code",
   "execution_count": 6,
   "metadata": {},
   "outputs": [],
   "source": [
    "# Computing attention scores for only one token.\n",
    "# Example taking the token \"light\" as the query\n",
    "query = inputs[4]\n",
    "\n",
    "# Create empty tensor, sized for each token in our context window\n",
    "attention_scores_for_light = torch.empty(inputs.shape[0])\n",
    "\n",
    "# Compute attention scores for each token in the context window\n",
    "for i, token in enumerate(inputs):\n",
    "    attention_scores_for_light[i] = torch.dot(query, token)"
   ]
  },
  {
   "cell_type": "code",
   "execution_count": 7,
   "metadata": {},
   "outputs": [
    {
     "data": {
      "text/plain": [
       "tensor([0.9046, 0.5701, 0.6006, 0.7121, 0.7818, 0.5065])"
      ]
     },
     "execution_count": 7,
     "metadata": {},
     "output_type": "execute_result"
    }
   ],
   "source": [
    "attention_scores_for_light"
   ]
  },
  {
   "cell_type": "markdown",
   "metadata": {},
   "source": [
    "### Normalize the Attention Scores to Weights\n",
    "\n",
    "We want our scores to sum to 1, so we normalize them to create our attention weights"
   ]
  },
  {
   "cell_type": "code",
   "execution_count": null,
   "metadata": {},
   "outputs": [],
   "source": []
  }
 ],
 "metadata": {
  "kernelspec": {
   "display_name": "env",
   "language": "python",
   "name": "python3"
  },
  "language_info": {
   "codemirror_mode": {
    "name": "ipython",
    "version": 3
   },
   "file_extension": ".py",
   "mimetype": "text/x-python",
   "name": "python",
   "nbconvert_exporter": "python",
   "pygments_lexer": "ipython3",
   "version": "3.10.12"
  }
 },
 "nbformat": 4,
 "nbformat_minor": 2
}
