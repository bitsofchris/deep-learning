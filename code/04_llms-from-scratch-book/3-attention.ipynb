{
 "cells": [
  {
   "cell_type": "markdown",
   "metadata": {},
   "source": [
    "# Self-Attention\n",
    "\n"
   ]
  },
  {
   "cell_type": "markdown",
   "metadata": {},
   "source": [
    "Start with our token embeddings.\n",
    "\n",
    "For this example we use 3 dimensional embeddings that were arbitrarily created to represent each token for illustrative purposes. Also, we just assume each word is a token (rather than breaking a word into smaller tokens).\n",
    "\n",
    "In reality, tokens are often sub-words and have many more dimensions. GPT-3 used over 12k diomensions for it's token embeddings."
   ]
  },
  {
   "cell_type": "code",
   "execution_count": 1,
   "metadata": {},
   "outputs": [],
   "source": [
    "import torch\n",
    "\n",
    "inputs = torch.tensor(\n",
    "    [[0.21, 0.47, 0.91], # I\n",
    "     [0.52, 0.11, 0.65], # can't\n",
    "     [0.03, 0.85, 0.19], # find\n",
    "     [0.73, 0.64, 0.39], # the\n",
    "     [0.13, 0.55, 0.68], # light\n",
    "     [0.22, 0.77, 0.08]] # switch\n",
    ")"
   ]
  },
  {
   "cell_type": "code",
   "execution_count": 27,
   "metadata": {},
   "outputs": [
    {
     "data": {
      "text/plain": [
       "torch.Size([6, 3])"
      ]
     },
     "execution_count": 27,
     "metadata": {},
     "output_type": "execute_result"
    }
   ],
   "source": [
    "inputs.shape"
   ]
  },
  {
   "cell_type": "markdown",
   "metadata": {},
   "source": [
    "### Step 1 - Compute Attention Scores\n",
    "\n",
    "Each token in our 6 word context window above needs to know how much it shoud \"pay attention\" to the other tokens in our sequence. \n",
    "\n",
    "In other words - how much does a token impact another token's meaning/ change it's context.\n",
    "\n",
    "To tell our model how much attention a token should should give the other tokens in the sequence we compute the attention weights.\n",
    "\n",
    "##### Computing Attention Weights\n",
    "For every token in our context window, we take that token as our \"query\" and compute a dot product between the query and every other token in the context window.\n",
    "\n",
    "The dot product is a measure of similarity between the tokens."
   ]
  },
  {
   "cell_type": "code",
   "execution_count": null,
   "metadata": {},
   "outputs": [],
   "source": [
    "# Computing attention scores for only one token.\n",
    "# Example taking the token \"light\" as the query\n",
    "query = inputs[4]\n",
    "\n",
    "# Create empty tensor, sized for each token in our context window\n",
    "attention_scores_for_light = torch.empty(inputs.shape[0])\n",
    "\n",
    "# Compute attention scores for each token in the context window\n",
    "for i, token_embedding in enumerate(inputs):\n",
    "    attention_scores_for_light[i] = torch.dot(query, token_embedding)"
   ]
  },
  {
   "cell_type": "code",
   "execution_count": 3,
   "metadata": {},
   "outputs": [
    {
     "data": {
      "text/plain": [
       "tensor([0.9046, 0.5701, 0.6006, 0.7121, 0.7818, 0.5065])"
      ]
     },
     "execution_count": 3,
     "metadata": {},
     "output_type": "execute_result"
    }
   ],
   "source": [
    "attention_scores_for_light"
   ]
  },
  {
   "cell_type": "markdown",
   "metadata": {},
   "source": [
    "### Step 2 - Normalize the Attention Scores to Weights\n",
    "\n",
    "We want our scores to sum to 1, so we normalize them to create our attention weights"
   ]
  },
  {
   "cell_type": "code",
   "execution_count": 5,
   "metadata": {},
   "outputs": [
    {
     "data": {
      "text/plain": [
       "tensor(1.0000)"
      ]
     },
     "execution_count": 5,
     "metadata": {},
     "output_type": "execute_result"
    }
   ],
   "source": [
    "import torch.nn.functional as F\n",
    "\n",
    "attention_weights_for_light = F.softmax(attention_scores_for_light, dim=0)\n",
    "sum(attention_weights_for_light)"
   ]
  },
  {
   "cell_type": "markdown",
   "metadata": {},
   "source": [
    "### Step 3 - Compute the Context Vector\n",
    "Take the input vectors of each token * the attention weights w.r.t. a given token to get that token's context vector (simplified version)."
   ]
  },
  {
   "cell_type": "code",
   "execution_count": 15,
   "metadata": {},
   "outputs": [
    {
     "data": {
      "text/plain": [
       "tensor([0.3039, 0.5600, 0.5155])"
      ]
     },
     "execution_count": 15,
     "metadata": {},
     "output_type": "execute_result"
    }
   ],
   "source": [
    "context_vector_for_light = torch.zeros_like(query)\n",
    "\n",
    "for i, token_embedding in enumerate(inputs):\n",
    "    context_vector_for_light += attention_weights_for_light[i] * token_embedding\n",
    "\n",
    "context_vector_for_light"
   ]
  },
  {
   "cell_type": "markdown",
   "metadata": {},
   "source": [
    "This is one simplified example for updating the input embedding vector for a given token with contextual information that \"attends to\" the other tokens in the context sequence."
   ]
  },
  {
   "cell_type": "markdown",
   "metadata": {},
   "source": [
    "# Extending this to All Tokens\n",
    "1) Compute attention scores\n",
    "2) Compute attention weights\n",
    "3) Compute context vectors"
   ]
  },
  {
   "cell_type": "code",
   "execution_count": 31,
   "metadata": {},
   "outputs": [
    {
     "data": {
      "text/plain": [
       "torch.Size([6, 3])"
      ]
     },
     "execution_count": 31,
     "metadata": {},
     "output_type": "execute_result"
    }
   ],
   "source": [
    "inputs.shape"
   ]
  },
  {
   "cell_type": "code",
   "execution_count": 32,
   "metadata": {},
   "outputs": [
    {
     "data": {
      "text/plain": [
       "torch.Size([3, 6])"
      ]
     },
     "execution_count": 32,
     "metadata": {},
     "output_type": "execute_result"
    }
   ],
   "source": [
    "inputs.T.shape"
   ]
  },
  {
   "cell_type": "code",
   "execution_count": null,
   "metadata": {},
   "outputs": [
    {
     "data": {
      "text/plain": [
       "tensor([[1.0931, 0.7524, 0.5787, 0.8090, 0.9046, 0.4809],\n",
       "        [0.7524, 0.7050, 0.2326, 0.7035, 0.5701, 0.2511],\n",
       "        [0.5787, 0.2326, 0.7595, 0.6400, 0.6006, 0.6763],\n",
       "        [0.8090, 0.7035, 0.6400, 1.0946, 0.7121, 0.6846],\n",
       "        [0.9046, 0.5701, 0.6006, 0.7121, 0.7818, 0.5065],\n",
       "        [0.4809, 0.2511, 0.6763, 0.6846, 0.5065, 0.6477]])"
      ]
     },
     "execution_count": 16,
     "metadata": {},
     "output_type": "execute_result"
    }
   ],
   "source": [
    "# Compute the dot product of the input embeddings with themselves\n",
    "# Matrix multiplication (@) of the input embeddings with their transpose (.T)\n",
    "attention_scores = inputs @ inputs.T\n",
    "attention_scores"
   ]
  },
  {
   "cell_type": "markdown",
   "metadata": {},
   "source": [
    "Each row above is an attention score vector for that token in our context window."
   ]
  },
  {
   "cell_type": "code",
   "execution_count": null,
   "metadata": {},
   "outputs": [
    {
     "data": {
      "text/plain": [
       "tensor([[0.2256, 0.1605, 0.1349, 0.1698, 0.1869, 0.1223],\n",
       "        [0.2024, 0.1931, 0.1204, 0.1928, 0.1687, 0.1226],\n",
       "        [0.1641, 0.1161, 0.1966, 0.1745, 0.1677, 0.1809],\n",
       "        [0.1705, 0.1534, 0.1440, 0.2268, 0.1547, 0.1505],\n",
       "        [0.2068, 0.1480, 0.1526, 0.1706, 0.1829, 0.1389],\n",
       "        [0.1552, 0.1233, 0.1887, 0.1902, 0.1592, 0.1834]])"
      ]
     },
     "execution_count": 22,
     "metadata": {},
     "output_type": "execute_result"
    }
   ],
   "source": [
    "# dim= -1 means apply the softmax function to the last dimension of the attention_scores tensor\n",
    "# in this case that means normalize the scores for each token in the context window\n",
    "# since the last dimension of the attention_scores tensor is the vector for each token\n",
    "attention_weights = F.softmax(attention_scores, dim=-1)\n",
    "attention_weights"
   ]
  },
  {
   "cell_type": "code",
   "execution_count": 35,
   "metadata": {},
   "outputs": [
    {
     "data": {
      "text/plain": [
       "tensor([[0.3101, 0.5440, 0.5383],\n",
       "        [0.3362, 0.5293, 0.5323],\n",
       "        [0.2897, 0.6003, 0.4588],\n",
       "        [0.3387, 0.5656, 0.4880],\n",
       "        [0.3039, 0.5600, 0.5155],\n",
       "        [0.3023, 0.5974, 0.4544]])"
      ]
     },
     "execution_count": 35,
     "metadata": {},
     "output_type": "execute_result"
    }
   ],
   "source": [
    "context_vectors = attention_weights @ inputs\n",
    "context_vectors"
   ]
  },
  {
   "cell_type": "code",
   "execution_count": 36,
   "metadata": {},
   "outputs": [
    {
     "data": {
      "text/plain": [
       "(torch.Size([6, 6]), torch.Size([6, 3]), torch.Size([6, 3]))"
      ]
     },
     "execution_count": 36,
     "metadata": {},
     "output_type": "execute_result"
    }
   ],
   "source": [
    "attention_weights.shape, inputs.shape, context_vectors.shape"
   ]
  },
  {
   "cell_type": "markdown",
   "metadata": {},
   "source": [
    "# Self-Attention with weights\n",
    "More specifically, scaled dot-product attention.\n",
    "\n",
    "### Three Trainable Weight Matrices\n",
    "Wquery, Wkey, Wvalue.\n",
    "\n",
    "These three matrices project each embedding from our input tokens into their respective Query, Key, and Value vectors.\n",
    "\n",
    "The context vector = attention weighted sum of each value vector"
   ]
  },
  {
   "cell_type": "code",
   "execution_count": null,
   "metadata": {},
   "outputs": [
    {
     "data": {
      "text/plain": [
       "tensor([0.1300, 0.5500, 0.6800])"
      ]
     },
     "execution_count": 3,
     "metadata": {},
     "output_type": "execute_result"
    }
   ],
   "source": [
    "x_4 = inputs[4] # Using the word \"light\" as our example again"
   ]
  },
  {
   "cell_type": "markdown",
   "metadata": {},
   "source": [
    "In practice, our KQV matrices will have fewer dimensions than our input.\n",
    "\n",
    "In multi-headed attention it's often: \n",
    "```\n",
    "model_input_dimensions / number_of_attention_heads = KQV output dimensions for each head\n",
    "```\n",
    "\n",
    "In PyTorch - the last dimension of your input tensor must match the input_dimension size."
   ]
  },
  {
   "cell_type": "code",
   "execution_count": 6,
   "metadata": {},
   "outputs": [],
   "source": [
    "d_in = inputs.shape[-1] # last dimension of the input tensor, size of our token embeddings\n",
    "d_out = 2 # arbitrary size for illustration purposes it is different\n",
    "\n",
    "torch.manual_seed(123)\n",
    "W_query = torch.nn.Parameter(torch.rand(d_in, d_out), requires_grad=False)\n",
    "W_key   = torch.nn.Parameter(torch.rand(d_in, d_out), requires_grad=False)\n",
    "W_value = torch.nn.Parameter(torch.rand(d_in, d_out), requires_grad=False)\n"
   ]
  },
  {
   "cell_type": "code",
   "execution_count": 8,
   "metadata": {},
   "outputs": [
    {
     "data": {
      "text/plain": [
       "Parameter containing:\n",
       "tensor([[0.2961, 0.5166],\n",
       "        [0.2517, 0.6886],\n",
       "        [0.0740, 0.8665]])"
      ]
     },
     "execution_count": 8,
     "metadata": {},
     "output_type": "execute_result"
    }
   ],
   "source": [
    "W_query"
   ]
  },
  {
   "cell_type": "code",
   "execution_count": 9,
   "metadata": {},
   "outputs": [],
   "source": [
    "# Compute the vectors for our x_4 input\n",
    "query_4 = x_4 @ W_query\n",
    "key_4 = x_4 @ W_key\n",
    "value_4 = x_4 @ W_value"
   ]
  },
  {
   "cell_type": "code",
   "execution_count": 11,
   "metadata": {},
   "outputs": [
    {
     "name": "stdout",
     "output_type": "stream",
     "text": [
      "torch.Size([3]) torch.Size([3, 2]) torch.Size([2])\n"
     ]
    },
    {
     "data": {
      "text/plain": [
       "tensor([0.2272, 1.0351])"
      ]
     },
     "execution_count": 11,
     "metadata": {},
     "output_type": "execute_result"
    }
   ],
   "source": [
    "print(x_4.shape, W_query.shape, query_4.shape)\n",
    "query_4"
   ]
  },
  {
   "cell_type": "code",
   "execution_count": 12,
   "metadata": {},
   "outputs": [
    {
     "name": "stdout",
     "output_type": "stream",
     "text": [
      "torch.Size([6, 2]) torch.Size([6, 2])\n"
     ]
    }
   ],
   "source": [
    "# Compute for all inputs\n",
    "keys = inputs @ W_key\n",
    "values = inputs @ W_value\n",
    "\n",
    "print(keys.shape, values.shape)"
   ]
  },
  {
   "cell_type": "code",
   "execution_count": 14,
   "metadata": {},
   "outputs": [
    {
     "data": {
      "text/plain": [
       "tensor([1.1143, 0.6675, 0.8276, 0.9134, 0.9867, 0.7040])"
      ]
     },
     "execution_count": 14,
     "metadata": {},
     "output_type": "execute_result"
    }
   ],
   "source": [
    "# Compute unnormalized attention scores, for one token\n",
    "attention_score_4 = query_4.dot(keys[4])\n",
    "\n",
    "# Compute attention scores for all tokens for a given query\n",
    "attention_scores_4 = query_4 @ keys.T\n",
    "attention_scores_4"
   ]
  },
  {
   "cell_type": "code",
   "execution_count": null,
   "metadata": {},
   "outputs": [
    {
     "data": {
      "text/plain": [
       "tensor(1.0000)"
      ]
     },
     "execution_count": 16,
     "metadata": {},
     "output_type": "execute_result"
    }
   ],
   "source": [
    "# Compute the attention weights with softmax (scaled by sqrt of embedding size)\n",
    "d_k = keys.shape[-1]\n",
    "attention_weights_4 = torch.softmax(attention_scores_4 / (d_k ** 0.5), dim=-1)\n",
    "sum(attention_weights_4)"
   ]
  },
  {
   "cell_type": "code",
   "execution_count": 17,
   "metadata": {},
   "outputs": [
    {
     "data": {
      "text/plain": [
       "tensor([0.2620, 0.7043])"
      ]
     },
     "execution_count": 17,
     "metadata": {},
     "output_type": "execute_result"
    }
   ],
   "source": [
    "# Get the context vector for the token \"light\"\n",
    "context_vector_4 = attention_weights_4 @ values\n",
    "context_vector_4"
   ]
  },
  {
   "cell_type": "markdown",
   "metadata": {},
   "source": [
    "# SelfAttention Class\n",
    "\n",
    "Linear layers replace the matrix multiplication (equivalent operatoin just with better weight initialization).\n",
    "\n"
   ]
  },
  {
   "cell_type": "code",
   "execution_count": 3,
   "metadata": {},
   "outputs": [
    {
     "name": "stdout",
     "output_type": "stream",
     "text": [
      "tensor([[ 0.2480, -0.0219],\n",
      "        [ 0.2481, -0.0209],\n",
      "        [ 0.2488, -0.0185],\n",
      "        [ 0.2487, -0.0175],\n",
      "        [ 0.2482, -0.0210],\n",
      "        [ 0.2489, -0.0177]], grad_fn=<MmBackward0>)\n"
     ]
    }
   ],
   "source": [
    "class SelfAttention(torch.nn.Module):\n",
    "    def __init__(self, d_in, d_out, qkv_bias=False):\n",
    "        super(SelfAttention, self).__init__()\n",
    "        # Initialize the linear layers (weight matrices) for the query, key, and value\n",
    "        self.W_query = torch.nn.Linear(d_in, d_out, bias=qkv_bias)\n",
    "        self.W_key = torch.nn.Linear(d_in, d_out, bias=qkv_bias)\n",
    "        self.W_value = torch.nn.Linear(d_in, d_out, bias=qkv_bias)\n",
    "\n",
    "    def forward(self, inputs):\n",
    "        # Compute the query, key, and value vectors for all tokens in the input\n",
    "        # (matrix multiplication of the input tensor with the weight matrices)\n",
    "        keys = self.W_key(inputs)\n",
    "        queries = self.W_query(inputs)\n",
    "        values = self.W_value(inputs)\n",
    "\n",
    "        # Compute the unnormalized attention scores for a given query\n",
    "        # (dot product between the query vector of each token and the key vectors of all tokens)\n",
    "        attention_scores = queries @ keys.T\n",
    "        d_k = keys.shape[-1]\n",
    "        # Normalize with softmax\n",
    "        attention_weights = torch.softmax(attention_scores / (d_k ** 0.5), dim=-1)\n",
    "\n",
    "        # Compute the context vector for each token\n",
    "        context_vector = attention_weights @ values\n",
    "        return context_vector\n",
    "    \n",
    "self_attention = SelfAttention(d_in=3, d_out=2)\n",
    "print(self_attention(inputs))"
   ]
  },
  {
   "cell_type": "markdown",
   "metadata": {},
   "source": [
    "# Causal Attention\n",
    "\n",
    "Mask future words in a sequence so not looking a head.\n",
    "\n",
    "1. Mask the unnormalizd attention scores aobve the diagonal (future words) with negative infinity.\n",
    "2. Then normalize with softmax.\n",
    "3. Optionally apply dropout after computing the attention weights "
   ]
  },
  {
   "cell_type": "code",
   "execution_count": null,
   "metadata": {},
   "outputs": [
    {
     "data": {
      "text/plain": [
       "tensor([[-0.1339,    -inf,    -inf,    -inf,    -inf,    -inf],\n",
       "        [-0.1302, -0.0741,    -inf,    -inf,    -inf,    -inf],\n",
       "        [ 0.0732,  0.0379,  0.0315,    -inf,    -inf,    -inf],\n",
       "        [-0.0057, -0.0097, -0.0499, -0.0668,    -inf,    -inf],\n",
       "        [-0.0730, -0.0409, -0.0532, -0.0537, -0.0646,    -inf],\n",
       "        [ 0.0839,  0.0422,  0.0275,  0.0157,  0.0663,  0.0084]],\n",
       "       grad_fn=<MaskedFillBackward0>)"
      ]
     },
     "execution_count": 4,
     "metadata": {},
     "output_type": "execute_result"
    }
   ],
   "source": [
    "# Get attention scores for all tokens\n",
    "queries = self_attention.W_query(inputs)\n",
    "keys = self_attention.W_key(inputs)\n",
    "attention_scores = queries @ keys.T\n",
    "\n",
    "# Create the mask and apply it to our attention scores\n",
    "context_length = inputs.shape[0]\n",
    "mask = torch.triu(torch.ones(context_length, context_length), diagonal=1)\n",
    "masked = attention_scores.masked_fill(mask.bool(), -torch.inf)\n",
    "masked"
   ]
  },
  {
   "cell_type": "code",
   "execution_count": 14,
   "metadata": {},
   "outputs": [
    {
     "data": {
      "text/plain": [
       "tensor([[1.0000, 0.0000, 0.0000, 0.0000, 0.0000, 0.0000],\n",
       "        [0.4901, 0.5099, 0.0000, 0.0000, 0.0000, 0.0000],\n",
       "        [0.3394, 0.3310, 0.3295, 0.0000, 0.0000, 0.0000],\n",
       "        [0.2548, 0.2541, 0.2470, 0.2441, 0.0000, 0.0000],\n",
       "        [0.1978, 0.2023, 0.2005, 0.2005, 0.1989, 0.0000],\n",
       "        [0.1718, 0.1668, 0.1651, 0.1637, 0.1697, 0.1629]],\n",
       "       grad_fn=<SoftmaxBackward0>)"
      ]
     },
     "execution_count": 14,
     "metadata": {},
     "output_type": "execute_result"
    }
   ],
   "source": [
    "# Compute the attention weights with the masked scores\n",
    "masked_attention_weights = torch.softmax(masked / keys.shape[-1]**0.5, dim=-1)\n",
    "masked_attention_weights"
   ]
  },
  {
   "cell_type": "code",
   "execution_count": null,
   "metadata": {},
   "outputs": [
    {
     "data": {
      "text/plain": [
       "tensor([[0.0000, 0.0000, 0.0000, 0.0000, 0.0000, 0.0000],\n",
       "        [0.9802, 0.0000, 0.0000, 0.0000, 0.0000, 0.0000],\n",
       "        [0.6788, 0.6621, 0.0000, 0.0000, 0.0000, 0.0000],\n",
       "        [0.5097, 0.5082, 0.0000, 0.4881, 0.0000, 0.0000],\n",
       "        [0.0000, 0.0000, 0.0000, 0.0000, 0.0000, 0.0000],\n",
       "        [0.0000, 0.0000, 0.3302, 0.0000, 0.3394, 0.0000]],\n",
       "       grad_fn=<MulBackward0>)"
      ]
     },
     "execution_count": 15,
     "metadata": {},
     "output_type": "execute_result"
    }
   ],
   "source": [
    "# Apply dropout to the masked attention weights\n",
    "# non dropping out weights are scaled by 1/(1-p) to keep the expected value of the output the same\n",
    "dropout = torch.nn.Dropout(0.5)\n",
    "masked_with_dropout = dropout(masked_attention_weights)\n",
    "masked_with_dropout"
   ]
  },
  {
   "cell_type": "markdown",
   "metadata": {},
   "source": [
    "# Causal Self-Attention with Dropout"
   ]
  },
  {
   "cell_type": "code",
   "execution_count": 16,
   "metadata": {},
   "outputs": [
    {
     "data": {
      "text/plain": [
       "torch.Size([2, 6, 3])"
      ]
     },
     "execution_count": 16,
     "metadata": {},
     "output_type": "execute_result"
    }
   ],
   "source": [
    "# Make batches of inputs so can test loading multiple inputs\n",
    "batch = torch.stack((inputs, inputs), dim=0)\n",
    "batch.shape\n",
    "# 2 batches of 6 tokens with 3 dimensions each"
   ]
  },
  {
   "cell_type": "code",
   "execution_count": null,
   "metadata": {},
   "outputs": [
    {
     "name": "stdout",
     "output_type": "stream",
     "text": [
      "tensor([[[ 0.0000,  0.0000],\n",
      "         [-0.2933, -0.3942],\n",
      "         [-0.3239, -0.4191],\n",
      "         [-0.3118, -0.2910],\n",
      "         [ 0.0000,  0.0000],\n",
      "         [-0.1207, -0.0910]],\n",
      "\n",
      "        [[ 0.0000,  0.0000],\n",
      "         [-0.2933, -0.3942],\n",
      "         [-0.3239, -0.4191],\n",
      "         [-0.3118, -0.2910],\n",
      "         [ 0.0000,  0.0000],\n",
      "         [-0.1207, -0.0910]]], grad_fn=<CloneBackward0>)\n"
     ]
    }
   ],
   "source": [
    "class CausalAttention(torch.nn.Module):\n",
    "    def __init__(self, d_in, d_out, context_length, dropout, qkv_bias=False):\n",
    "        super().__init__()\n",
    "        self.W_query = torch.nn.Linear(d_in, d_out, bias=qkv_bias)\n",
    "        self.W_key = torch.nn.Linear(d_in, d_out, bias=qkv_bias)\n",
    "        self.W_value = torch.nn.Linear(d_in, d_out, bias=qkv_bias)\n",
    "        # Initialize dropout\n",
    "        self.dropout = torch.nn.Dropout(dropout)\n",
    "        # register_buffer is used to store the mask in the model's state_dict\n",
    "        # it is not a trainable parameter\n",
    "        self.register_buffer('mask', torch.triu(torch.ones(context_length, context_length), diagonal=1))\n",
    "\n",
    "\n",
    "    def forward(self, inputs):\n",
    "        batch_size, num_tokens, d_in = inputs.shape\n",
    "        keys = self.W_key(inputs)\n",
    "        queries = self.W_query(inputs)\n",
    "        values = self.W_value(inputs)\n",
    "\n",
    "        attention_scores = queries @ keys.transpose(1, 2) # TODO - changes b/c of batch?\n",
    "        # _ means function in pytorch occurs in place\n",
    "        # num_tokens instead of context_length b/c of may vary between batches\n",
    "        attention_scores.masked_fill_(self.mask.bool()[:num_tokens, :num_tokens], -torch.inf)\n",
    "        attention_weights = torch.softmax(attention_scores / (keys.shape[-1] ** 0.5), dim=-1)\n",
    "        attention_weights = self.dropout(attention_weights)\n",
    "\n",
    "        # Copmute the context vector for each token\n",
    "        context_vector = masked_with_dropout @ values\n",
    "        return context_vector\n",
    "    \n",
    "causal_attention = CausalAttention(d_in=3, d_out=2, context_length=6, dropout=0.5)\n",
    "print(causal_attention(batch))"
   ]
  },
  {
   "cell_type": "markdown",
   "metadata": {},
   "source": [
    "# Multihead Attention\n",
    "\n",
    "We could just stack single-head attention layers, but it's more efficient to use a 3 single matrices for QKV and split for each attention head."
   ]
  },
  {
   "cell_type": "code",
   "execution_count": 24,
   "metadata": {},
   "outputs": [
    {
     "name": "stdout",
     "output_type": "stream",
     "text": [
      "torch.Size([2, 6, 3])\n",
      "tensor([[[0.2958, 0.4672],\n",
      "         [0.2963, 0.4761],\n",
      "         [0.2559, 0.4713],\n",
      "         [0.2581, 0.4334],\n",
      "         [0.2586, 0.4435],\n",
      "         [0.2442, 0.4428]],\n",
      "\n",
      "        [[0.2958, 0.4672],\n",
      "         [0.2963, 0.4761],\n",
      "         [0.2559, 0.4713],\n",
      "         [0.2581, 0.4334],\n",
      "         [0.2586, 0.4435],\n",
      "         [0.2442, 0.4428]]], grad_fn=<ViewBackward0>)\n",
      "context_vecs.shape: torch.Size([2, 6, 2])\n"
     ]
    }
   ],
   "source": [
    "class MultiHeadAttention(torch.nn.Module):\n",
    "    def __init__(self, d_in, d_out, context_length, dropout, num_heads, qkv_bias=False):\n",
    "        super().__init__()\n",
    "        assert (d_out % num_heads == 0), \\\n",
    "            \"d_out must be divisible by num_heads\"\n",
    "\n",
    "        self.d_out = d_out\n",
    "        self.num_heads = num_heads\n",
    "        # The size of each individual head \n",
    "        self.head_dim = d_out // num_heads\n",
    "\n",
    "        # Same as before\n",
    "        self.W_query = torch.nn.Linear(d_in, d_out, bias=qkv_bias)\n",
    "        self.W_key = torch.nn.Linear(d_in, d_out, bias=qkv_bias)\n",
    "        self.W_value = torch.nn.Linear(d_in, d_out, bias=qkv_bias)\n",
    "        # this out_proj isn't necessary, but it's a common practice to combine the head outputs\n",
    "        self.out_proj = torch.nn.Linear(d_out, d_out)\n",
    "        self.dropout = torch.nn.Dropout(dropout)\n",
    "        self.register_buffer(\n",
    "            \"mask\",\n",
    "            torch.triu(torch.ones(context_length, context_length),\n",
    "                       diagonal=1)\n",
    "        )\n",
    "\n",
    "    def forward(self, x):\n",
    "        batch_size, num_tokens, d_in = x.shape\n",
    "\n",
    "        keys = self.W_key(x) # Shape: (b, num_tokens, d_out)\n",
    "        queries = self.W_query(x)\n",
    "        values = self.W_value(x)\n",
    "\n",
    "        # We implicitly split the matrix by adding a `num_heads` dimension\n",
    "        # Unroll last dim: (b, num_tokens, d_out) -> (b, num_tokens, num_heads, head_dim)\n",
    "        # This is how we allow each head to attend to different parts of the sequence\n",
    "        # we add a new dimension to our tensor for each head\n",
    "        keys = keys.view(batch_size, num_tokens, self.num_heads, self.head_dim) \n",
    "        values = values.view(batch_size, num_tokens, self.num_heads, self.head_dim)\n",
    "        queries = queries.view(batch_size, num_tokens, self.num_heads, self.head_dim)\n",
    "\n",
    "        # Transpose: (b, num_tokens, num_heads, head_dim) -> (b, num_heads, num_tokens, head_dim)\n",
    "        # This transpose allows us to perform the matrix multiplication on each head separately\n",
    "        # now each head is a bathc of tokens of head_dim size\n",
    "        keys = keys.transpose(1, 2)\n",
    "        queries = queries.transpose(1, 2)\n",
    "        values = values.transpose(1, 2)\n",
    "\n",
    "        # Compute scaled dot-product attention (aka self-attention) with a causal mask\n",
    "        attn_scores = queries @ keys.transpose(2, 3)  # Dot product for each head\n",
    "\n",
    "        # Original mask truncated to the number of tokens and converted to boolean\n",
    "        mask_bool = self.mask.bool()[:num_tokens, :num_tokens]\n",
    "\n",
    "        # Use the mask to fill attention scores\n",
    "        attn_scores.masked_fill_(mask_bool, -torch.inf)\n",
    "        \n",
    "        attn_weights = torch.softmax(attn_scores / keys.shape[-1]**0.5, dim=-1)\n",
    "        attn_weights = self.dropout(attn_weights)\n",
    "\n",
    "        # Shape: (b, num_tokens, num_heads, head_dim)\n",
    "        context_vec = (attn_weights @ values).transpose(1, 2) \n",
    "        \n",
    "        # Combine heads, where self.d_out = self.num_heads * self.head_dim\n",
    "        context_vec = context_vec.contiguous().view(batch_size, num_tokens, self.d_out)\n",
    "        context_vec = self.out_proj(context_vec) # optional projection\n",
    "\n",
    "        return context_vec\n",
    "\n",
    "torch.manual_seed(123)\n",
    "\n",
    "print(batch.shape)\n",
    "batch_size, context_length, d_in = batch.shape\n",
    "d_out = 2\n",
    "mha = MultiHeadAttention(d_in, d_out, context_length, 0.0, num_heads=2)\n",
    "\n",
    "context_vecs = mha(batch)\n",
    "\n",
    "print(context_vecs)\n",
    "print(\"context_vecs.shape:\", context_vecs.shape)"
   ]
  }
 ],
 "metadata": {
  "kernelspec": {
   "display_name": "env",
   "language": "python",
   "name": "python3"
  },
  "language_info": {
   "codemirror_mode": {
    "name": "ipython",
    "version": 3
   },
   "file_extension": ".py",
   "mimetype": "text/x-python",
   "name": "python",
   "nbconvert_exporter": "python",
   "pygments_lexer": "ipython3",
   "version": "3.10.12"
  }
 },
 "nbformat": 4,
 "nbformat_minor": 2
}
