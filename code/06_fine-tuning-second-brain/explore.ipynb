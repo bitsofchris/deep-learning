{
 "cells": [
  {
   "cell_type": "code",
   "execution_count": 1,
   "metadata": {},
   "outputs": [],
   "source": [
    "import os\n",
    "from llama_index.readers.obsidian import ObsidianReader\n",
    "\n",
    "from my_obsidian_reader import ObsidianReader as MyObsidianReader"
   ]
  },
  {
   "cell_type": "code",
   "execution_count": 2,
   "metadata": {},
   "outputs": [],
   "source": [
    "reader = reader = MyObsidianReader(\n",
    "    \n",
    "    input_dir=\"/Users/chris/zk-copy-for-testing/0-Current Focus\"\n",
    ")\n",
    "documents = reader.load_data()"
   ]
  },
  {
   "cell_type": "code",
   "execution_count": 3,
   "metadata": {},
   "outputs": [
    {
     "data": {
      "text/plain": [
       "154"
      ]
     },
     "execution_count": 3,
     "metadata": {},
     "output_type": "execute_result"
    }
   ],
   "source": [
    "len(documents)"
   ]
  },
  {
   "cell_type": "code",
   "execution_count": 4,
   "metadata": {},
   "outputs": [
    {
     "data": {
      "text/plain": [
       "llama_index.core.schema.Document"
      ]
     },
     "execution_count": 4,
     "metadata": {},
     "output_type": "execute_result"
    }
   ],
   "source": [
    "type(documents[0])"
   ]
  },
  {
   "cell_type": "code",
   "execution_count": 5,
   "metadata": {},
   "outputs": [
    {
     "data": {
      "text/plain": [
       "Document(id_='d982aff8-ea08-48aa-ad7a-4a3ac62ad5fa', embedding=None, metadata={'filename': 'YT - data pruning mnist.md', 'folder_name': '.', 'created_at': '2025-01-30T07:01:57.868417', 'modified_at': '2025-01-27T12:07:56.664999', 'wiki_links': ['PMOC - Data Pruning MNIST', 'MiniPile Challenge for Data-Efficient Language Models', 'Paper - Beyond Neural Scaling Laws - beating power law scaling via data pruning', 'More authentic content']}, excluded_embed_metadata_keys=[], excluded_llm_metadata_keys=[], relationships={}, metadata_template='{key}: {value}', metadata_separator='\\n', text_resource=MediaResource(embeddings=None, data=None, text='\\n\\nTitle\\nAi doesn’t need more data: my data pruning experiments\\nMy adventures with data pruning\\nBlog - data pruning for better ai: 99% accuracy with half the data in mnist\\nData Pruning MNIST: 99% accurate using half the data\\n99% accuracy with half the data\\nMnist data pruning: how I hit 99% using half the data\\nThumbnail text\\nLess data, better ai\\nbubble plot visual', path=None, url=None, mimetype=None), image_resource=None, audio_resource=None, video_resource=None, text_template='{metadata_str}\\n\\n{content}')"
      ]
     },
     "execution_count": 5,
     "metadata": {},
     "output_type": "execute_result"
    }
   ],
   "source": [
    "documents[2]"
   ]
  },
  {
   "cell_type": "code",
   "execution_count": null,
   "metadata": {},
   "outputs": [],
   "source": []
  },
  {
   "cell_type": "code",
   "execution_count": null,
   "metadata": {},
   "outputs": [],
   "source": [
    "from llama_index.readers.file import MarkdownReader\n",
    "from pathlib import Path\n",
    "MarkdownReader().load_data(Path(\"/Users/chris/zk-copy-for-testing/0-Current Focus/WK - 25-01-25.md\"))"
   ]
  }
 ],
 "metadata": {
  "kernelspec": {
   "display_name": ".venv",
   "language": "python",
   "name": "python3"
  },
  "language_info": {
   "codemirror_mode": {
    "name": "ipython",
    "version": 3
   },
   "file_extension": ".py",
   "mimetype": "text/x-python",
   "name": "python",
   "nbconvert_exporter": "python",
   "pygments_lexer": "ipython3",
   "version": "3.12.7"
  }
 },
 "nbformat": 4,
 "nbformat_minor": 2
}
