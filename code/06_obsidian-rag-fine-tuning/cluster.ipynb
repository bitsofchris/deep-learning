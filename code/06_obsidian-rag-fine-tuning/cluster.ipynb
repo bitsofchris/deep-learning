{
 "cells": [
  {
   "cell_type": "code",
   "execution_count": null,
   "metadata": {},
   "outputs": [],
   "source": [
    "from pathlib import Path\n",
    "\n",
    "from llama_index.core import VectorStoreIndex, load_index_from_storage\n",
    "from llama_index.core.storage import StorageContext\n",
    "from llama_index.embeddings.huggingface import HuggingFaceEmbedding\n",
    "from llama_index.core import Settings\n",
    "\n",
    "# Use this so don't need to bother with API key to default OPENAI model\n",
    "Settings.embed_model = HuggingFaceEmbedding(\n",
    "    model_name=\"BAAI/bge-small-en-v1.5\", device=\"cpu\"  # Use \"cuda\" for GPU acceleration\n",
    ")\n",
    "\n",
    "# Define the directory where the index is stored\n",
    "persist_dir = \"./storage\"  # Change this to your actual storage directory\n",
    "\n",
    "# Load the index from storage\n",
    "storage_context = StorageContext.from_defaults(persist_dir=persist_dir)\n",
    "index = load_index_from_storage(storage_context)\n",
    "retriever = index.as_retriever()\n",
    "nodes = list(index.docstore.docs.values())\n"
   ]
  },
  {
   "cell_type": "code",
   "execution_count": null,
   "metadata": {},
   "outputs": [],
   "source": [
    "len(nodes)"
   ]
  },
  {
   "cell_type": "code",
   "execution_count": null,
   "metadata": {},
   "outputs": [],
   "source": [
    "vars(nodes[0])"
   ]
  },
  {
   "cell_type": "code",
   "execution_count": null,
   "metadata": {},
   "outputs": [],
   "source": [
    "index._vector_store._data.embedding_dict[nodes[0].id_]"
   ]
  },
  {
   "cell_type": "code",
   "execution_count": null,
   "metadata": {},
   "outputs": [],
   "source": [
    "# Extract embeddings & data\n",
    "import numpy as np\n",
    "import pandas as pd\n",
    "\n",
    "# Extract embeddings and metadata\n",
    "data = []\n",
    "for node in nodes:\n",
    "    metadata = node.metadata  # Extract metadata\n",
    "    data.append({\n",
    "        \"note_id\": node.id_,\n",
    "        \"note_title\": metadata.get(\"file_name\", \"Unknown\").replace(\".md\", \"\"),\n",
    "        \"folder\": metadata.get(\"folder_name\", \"Uncategorized\"),\n",
    "        \"links\": metadata.get(\"wikilinks\", []),  # Store internal links\n",
    "        \"backlinks\": metadata.get(\"backlinks\", []),  # Store backlinks\n",
    "        \"embedding\": index._vector_store._data.embedding_dict[node.id_]\n",
    "    })\n",
    "\n",
    "# Convert to DataFrame\n",
    "df = pd.DataFrame(data)\n",
    "\n",
    "# Convert embeddings into a NumPy array for clustering\n",
    "embeddings = np.vstack(df[\"embedding\"].values)\n"
   ]
  },
  {
   "cell_type": "code",
   "execution_count": null,
   "metadata": {},
   "outputs": [],
   "source": [
    "df.head()"
   ]
  }
 ],
 "metadata": {
  "kernelspec": {
   "display_name": ".venv",
   "language": "python",
   "name": "python3"
  },
  "language_info": {
   "codemirror_mode": {
    "name": "ipython",
    "version": 3
   },
   "file_extension": ".py",
   "mimetype": "text/x-python",
   "name": "python",
   "nbconvert_exporter": "python",
   "pygments_lexer": "ipython3",
   "version": "3.12.7"
  }
 },
 "nbformat": 4,
 "nbformat_minor": 2
}
