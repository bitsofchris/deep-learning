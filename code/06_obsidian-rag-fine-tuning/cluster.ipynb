{
 "cells": [
  {
   "cell_type": "code",
   "execution_count": 1,
   "metadata": {},
   "outputs": [],
   "source": [
    "from pathlib import Path\n",
    "\n",
    "from llama_index.core import VectorStoreIndex, load_index_from_storage\n",
    "from llama_index.core.storage import StorageContext\n",
    "from llama_index.embeddings.huggingface import HuggingFaceEmbedding\n",
    "from llama_index.core import Settings\n",
    "\n",
    "# Use this so don't need to bother with API key to default OPENAI model\n",
    "Settings.embed_model = HuggingFaceEmbedding(\n",
    "    model_name=\"BAAI/bge-small-en-v1.5\", device=\"cpu\"  # Use \"cuda\" for GPU acceleration\n",
    ")\n",
    "\n",
    "# Define the directory where the index is stored\n",
    "persist_dir = \"./storage\"  # Change this to your actual storage directory\n",
    "\n",
    "# Load the index from storage\n",
    "storage_context = StorageContext.from_defaults(persist_dir=persist_dir)\n",
    "index = load_index_from_storage(storage_context)\n",
    "retriever = index.as_retriever()\n",
    "nodes = list(index.docstore.docs.values())\n"
   ]
  },
  {
   "cell_type": "code",
   "execution_count": 2,
   "metadata": {},
   "outputs": [
    {
     "data": {
      "text/plain": [
       "2968"
      ]
     },
     "execution_count": 2,
     "metadata": {},
     "output_type": "execute_result"
    }
   ],
   "source": [
    "len(nodes)"
   ]
  },
  {
   "cell_type": "code",
   "execution_count": 3,
   "metadata": {},
   "outputs": [],
   "source": [
    "# Extract embeddings & data\n",
    "import numpy as np\n",
    "import pandas as pd\n",
    "\n",
    "# Extract embeddings and metadata\n",
    "data = []\n",
    "for node in nodes:\n",
    "    metadata = node.metadata  # Extract metadata\n",
    "    data.append({\n",
    "        \"note_id\": node.id_,\n",
    "        \"note_title\": metadata.get(\"file_name\", \"Unknown\").replace(\".md\", \"\"),\n",
    "        \"folder\": metadata.get(\"folder_name\", \"Uncategorized\"),\n",
    "        \"links\": metadata.get(\"wikilinks\", []),  # Store internal links\n",
    "        \"backlinks\": metadata.get(\"backlinks\", []),  # Store backlinks\n",
    "        \"embedding\": index._vector_store._data.embedding_dict[node.id_]\n",
    "    })\n",
    "\n",
    "# Convert to DataFrame\n",
    "df = pd.DataFrame(data)\n",
    "\n",
    "# Convert embeddings into a NumPy array for clustering\n",
    "embeddings = np.vstack(df[\"embedding\"].values)\n"
   ]
  },
  {
   "cell_type": "code",
   "execution_count": 4,
   "metadata": {},
   "outputs": [
    {
     "name": "stderr",
     "output_type": "stream",
     "text": [
      "/Users/chris/repos/deep-learning/.venv/lib/python3.12/site-packages/sklearn/utils/deprecation.py:151: FutureWarning: 'force_all_finite' was renamed to 'ensure_all_finite' in 1.6 and will be removed in 1.8.\n",
      "  warnings.warn(\n"
     ]
    }
   ],
   "source": [
    "import umap\n",
    "\n",
    "# Reduce dimensionality to 2D for plotting\n",
    "reducer = umap.UMAP(n_neighbors=15, min_dist=0.1, metric=\"cosine\")\n",
    "embedding_2d = reducer.fit_transform(embeddings)\n",
    "\n",
    "# Add 2D coordinates to DataFrame\n",
    "df[\"x\"] = embedding_2d[:, 0]\n",
    "df[\"y\"] = embedding_2d[:, 1]\n"
   ]
  },
  {
   "cell_type": "code",
   "execution_count": 6,
   "metadata": {},
   "outputs": [
    {
     "name": "stderr",
     "output_type": "stream",
     "text": [
      "/Users/chris/repos/deep-learning/.venv/lib/python3.12/site-packages/threadpoolctl.py:1214: RuntimeWarning: \n",
      "Found Intel OpenMP ('libiomp') and LLVM OpenMP ('libomp') loaded at\n",
      "the same time. Both libraries are known to be incompatible and this\n",
      "can cause random crashes or deadlocks on Linux when loaded in the\n",
      "same Python program.\n",
      "Using threadpoolctl may cause crashes or deadlocks. For more\n",
      "information and possible workarounds, please see\n",
      "    https://github.com/joblib/threadpoolctl/blob/master/multiple_openmp.md\n",
      "\n",
      "  warnings.warn(msg, RuntimeWarning)\n"
     ]
    },
    {
     "name": "stdout",
     "output_type": "stream",
     "text": [
      "Clustering complete.\n"
     ]
    }
   ],
   "source": [
    "from sklearn.cluster import MiniBatchKMeans\n",
    "\n",
    "# Define number of clusters (can be tuned)\n",
    "num_clusters = 50 \n",
    "kmeans = MiniBatchKMeans(n_clusters=num_clusters, batch_size=100, random_state=42)\n",
    "df[\"cluster\"] = kmeans.fit_predict(embeddings)\n",
    "\n",
    "print(\"Clustering complete.\")\n"
   ]
  },
  {
   "cell_type": "code",
   "execution_count": 8,
   "metadata": {},
   "outputs": [
    {
     "data": {
      "application/vnd.plotly.v1+json": {
       "config": {
        "plotlyServerURL": "https://plot.ly"
       },
       "data": [
        {
         "customdata": [
          [
           "Home - Priorities, Next, Index",
           "."
          ],
          [
           "Home - Priorities, Next, Index",
           "."
          ],
          [
           "Home - Priorities, Next, Index",
           "."
          ],
          [
           "Home - Priorities, Next, Index",
           "."
          ],
          [
           "2025-02-01",
           "0-Inbox"
          ],
          [
           "MOC - Mind Mapping, Visual PKM",
           "3-MOCs and Projects"
          ],
          [
           "MOC - Drawing",
           "3-MOCs and Projects"
          ],
          [
           "MOC - My Mission",
           "3-MOCs and Projects"
          ],
          [
           "Ideas - Content and Projects Backlog",
           "3-MOCs and Projects"
          ],
          [
           "Ideas - Content and Projects Backlog",
           "3-MOCs and Projects"
          ],
          [
           "Ideas - Content and Projects Backlog",
           "3-MOCs and Projects"
          ],
          [
           "Ideas - Someday Maybe List",
           "3-MOCs and Projects"
          ],
          [
           "Ideas - Someday Maybe List",
           "3-MOCs and Projects"
          ],
          [
           "Ideas - Someday Maybe List",
           "3-MOCs and Projects"
          ],
          [
           "Ideas - Someday Maybe List",
           "3-MOCs and Projects"
          ],
          [
           "Ideas - Someday Maybe List",
           "3-MOCs and Projects"
          ],
          [
           "AMOC - Finances",
           "3-MOCs and Projects"
          ],
          [
           "AMOC - Finances",
           "3-MOCs and Projects"
          ],
          [
           "AMOC - Finances",
           "3-MOCs and Projects"
          ],
          [
           "AMOC - Finances",
           "3-MOCs and Projects"
          ],
          [
           "AMOC - Finances",
           "3-MOCs and Projects"
          ],
          [
           "AMOC - Finances",
           "3-MOCs and Projects"
          ],
          [
           "AMOC - Meta - Obsidian - Second Brain - My Organization Process",
           "3-MOCs and Projects"
          ],
          [
           "AMOC - Meta - Obsidian - Second Brain - My Organization Process",
           "3-MOCs and Projects"
          ],
          [
           "AMOC - Meta - Obsidian - Second Brain - My Organization Process",
           "3-MOCs and Projects"
          ],
          [
           "AMOC - Meta - Obsidian - Second Brain - My Organization Process",
           "3-MOCs and Projects"
          ],
          [
           "AMOC - Meta - Obsidian - Second Brain - My Organization Process",
           "3-MOCs and Projects"
          ],
          [
           "AMOC - Meta - Obsidian - Second Brain - My Organization Process",
           "3-MOCs and Projects"
          ],
          [
           "AMOC - Meta - Obsidian - Second Brain - My Organization Process",
           "3-MOCs and Projects"
          ],
          [
           "AMOC - Meta - Obsidian - Second Brain - My Organization Process",
           "3-MOCs and Projects"
          ],
          [
           "AMOC - Meta - Obsidian - Second Brain - My Organization Process",
           "3-MOCs and Projects"
          ],
          [
           "AMOC - Meta - Obsidian - Second Brain - My Organization Process",
           "3-MOCs and Projects"
          ],
          [
           "AMOC - Meta - Obsidian - Second Brain - My Organization Process",
           "3-MOCs and Projects"
          ],
          [
           "AMOC - Meta - Obsidian - Second Brain - My Organization Process",
           "3-MOCs and Projects"
          ],
          [
           "AMOC - Meta - Obsidian - Second Brain - My Organization Process",
           "3-MOCs and Projects"
          ],
          [
           "AMOC - Meta - Obsidian - Second Brain - My Organization Process",
           "3-MOCs and Projects"
          ],
          [
           "AMOC - Meta - Obsidian - Second Brain - My Organization Process",
           "3-MOCs and Projects"
          ],
          [
           "AMOC - Meta - Obsidian - Second Brain - My Organization Process",
           "3-MOCs and Projects"
          ],
          [
           "AMOC - Meta - Obsidian - Second Brain - My Organization Process",
           "3-MOCs and Projects"
          ],
          [
           "AMOC - Meta - Obsidian - Second Brain - My Organization Process",
           "3-MOCs and Projects"
          ],
          [
           "AMOC - Meta - Obsidian - Second Brain - My Organization Process",
           "3-MOCs and Projects"
          ],
          [
           "AMOC - Meta - Obsidian - Second Brain - My Organization Process",
           "3-MOCs and Projects"
          ],
          [
           "AMOC - Meta - Obsidian - Second Brain - My Organization Process",
           "3-MOCs and Projects"
          ],
          [
           "AMOC - Meta - Obsidian - Second Brain - My Organization Process",
           "3-MOCs and Projects"
          ],
          [
           "AMOC - Meta - Obsidian - Second Brain - My Organization Process",
           "3-MOCs and Projects"
          ],
          [
           "AMOC - Meta - Obsidian - Second Brain - My Organization Process",
           "3-MOCs and Projects"
          ],
          [
           "AMOC - Meta - Obsidian - Second Brain - My Organization Process",
           "3-MOCs and Projects"
          ],
          [
           "AMOC - Meta - Obsidian - Second Brain - My Organization Process",
           "3-MOCs and Projects"
          ],
          [
           "AMOC - Meta - Obsidian - Second Brain - My Organization Process",
           "3-MOCs and Projects"
          ],
          [
           "AMOC - Meta - Obsidian - Second Brain - My Organization Process",
           "3-MOCs and Projects"
          ],
          [
           "AMOC - Meta - Obsidian - Second Brain - My Organization Process",
           "3-MOCs and Projects"
          ],
          [
           "AMOC - Meta - Obsidian - Second Brain - My Organization Process",
           "3-MOCs and Projects"
          ],
          [
           "remsenburg trails society",
           "3-MOCs and Projects/Projects"
          ],
          [
           "Things that are obvious in hindsight",
           "3-MOCs and Projects/Projects/Comedy/Bits"
          ],
          [
           "Later List",
           "3-MOCs and Projects/Projects/Trading and Crypto"
          ],
          [
           "Later List",
           "3-MOCs and Projects/Projects/Trading and Crypto"
          ],
          [
           "Later List",
           "3-MOCs and Projects/Projects/Trading and Crypto"
          ],
          [
           "Later List",
           "3-MOCs and Projects/Projects/Trading and Crypto"
          ],
          [
           "Later List",
           "3-MOCs and Projects/Projects/Trading and Crypto"
          ],
          [
           "Later List",
           "3-MOCs and Projects/Projects/Trading and Crypto"
          ],
          [
           "MOC - Frank Matthews",
           "3-MOCs and Projects/Projects/Writing"
          ],
          [
           "Later List",
           "3-MOCs and Projects/Projects/Writing"
          ],
          [
           "dopamine post",
           "3-MOCs and Projects/Projects/Writing/Post Ideas"
          ],
          [
           "Digital Backups",
           "3-MOCs and Projects/Projects/Writing/Post Ideas"
          ],
          [
           "Wouter 1 on 1 Post",
           "3-MOCs and Projects/Projects/Writing/Post Ideas"
          ],
          [
           "Lower the bar to capture, game changer",
           "3-MOCs and Projects/Projects/Writing/Post Ideas"
          ],
          [
           "Obsidian with local Git and Obsidian Sync",
           "4-Tech Notes"
          ],
          [
           "Obsidian with local Git and Obsidian Sync",
           "4-Tech Notes"
          ],
          [
           "Obsidian with local Git and Obsidian Sync",
           "4-Tech Notes"
          ],
          [
           "obsidian shortcuts",
           "4-Tech Notes"
          ],
          [
           "obsidian shortcuts",
           "4-Tech Notes"
          ],
          [
           "obsidian shortcuts",
           "4-Tech Notes"
          ],
          [
           "Writing Dataview queries for obsidian",
           "4-Tech Notes"
          ],
          [
           "WK - 25-02-01",
           "0-Current Focus"
          ],
          [
           "WK - 25-02-01",
           "0-Current Focus"
          ],
          [
           "WK - 25-02-01",
           "0-Current Focus"
          ],
          [
           "WK - 25-02-01",
           "0-Current Focus"
          ],
          [
           "0 - Tasks this Week",
           "0-Current Focus"
          ],
          [
           "0 - Tasks this Week",
           "0-Current Focus"
          ],
          [
           "0 - Tasks this Week",
           "0-Current Focus"
          ],
          [
           "0 - Tasks this Week",
           "0-Current Focus"
          ],
          [
           "0 - Tasks this Week",
           "0-Current Focus"
          ],
          [
           "0 - Tasks this Week",
           "0-Current Focus"
          ],
          [
           "0 - Tasks this Week",
           "0-Current Focus"
          ],
          [
           "0 - Tasks this Week",
           "0-Current Focus"
          ],
          [
           "My Content Process",
           "1-Notes"
          ],
          [
           "My Content Process",
           "1-Notes"
          ],
          [
           "AMOC - Parenting",
           "1-Notes"
          ],
          [
           "MOC - Money Mistakes to Avoid",
           "1-Notes"
          ],
          [
           "MOC - Design, Visualizations",
           "1-Notes"
          ],
          [
           "MOC - Design, Visualizations",
           "1-Notes"
          ],
          [
           "Obsidian Digital Garden - Open Second Brain - with Git",
           "1-Notes"
          ],
          [
           "Obsidian Digital Garden - Open Second Brain - with Git",
           "1-Notes"
          ],
          [
           "Obsidian Digital Garden - Open Second Brain - with Git",
           "1-Notes"
          ],
          [
           "Don't use folders use Notes",
           "1-Notes"
          ],
          [
           "AMOC - Physical",
           "1-Notes"
          ],
          [
           "AMOC - Physical",
           "1-Notes"
          ],
          [
           "AMOC - Physical",
           "1-Notes"
          ],
          [
           "AMOC - Physical",
           "1-Notes"
          ],
          [
           "AMOC - Physical",
           "1-Notes"
          ],
          [
           "AMOC - Physical",
           "1-Notes"
          ],
          [
           "AMOC - Physical",
           "1-Notes"
          ],
          [
           "AMOC - Physical",
           "1-Notes"
          ],
          [
           "AMOC - Physical",
           "1-Notes"
          ],
          [
           "AMOC - Physical",
           "1-Notes"
          ],
          [
           "AMOC - Physical",
           "1-Notes"
          ],
          [
           "AMOC - Physical",
           "1-Notes"
          ],
          [
           "AMOC - Physical",
           "1-Notes"
          ],
          [
           "AMOC - Physical",
           "1-Notes"
          ],
          [
           "AMOC - Physical",
           "1-Notes"
          ],
          [
           "AMOC - Physical",
           "1-Notes"
          ],
          [
           "AMOC - Physical",
           "1-Notes"
          ],
          [
           "AMOC - Physical",
           "1-Notes"
          ]
         ],
         "hovertemplate": "color=13<br>x=%{x}<br>y=%{y}<br>note_title=%{customdata[0]}<br>folder=%{customdata[1]}<extra></extra>",
         "legendgroup": "13",
         "marker": {
          "color": "#636efa",
          "symbol": "circle"
         },
         "mode": "markers",
         "name": "13",
         "showlegend": true,
         "type": "scattergl",
         "x": [
          2.8717272,
          2.8006496,
          2.8361917,
          2.7239082,
          2.275788,
          4.7006397,
          1.793304,
          1.3986013,
          1.7763104,
          1.6837811,
          1.7348995,
          1.7879223,
          1.789186,
          1.79811,
          1.9212353,
          1.7805957,
          -1.325137,
          -1.3470368,
          -1.3108773,
          -1.3854098,
          -1.3296224,
          -1.3542879,
          5.000914,
          4.9691114,
          4.952691,
          4.953338,
          4.9414434,
          4.923073,
          4.9785223,
          4.9909906,
          5.0009913,
          5.0432715,
          5.060602,
          4.9791718,
          5.023962,
          5.0559916,
          5.169737,
          5.1263924,
          5.146931,
          5.0579596,
          4.980716,
          5.1880884,
          5.149105,
          5.1706834,
          5.169568,
          5.191958,
          5.187898,
          5.1691766,
          5.1857486,
          5.171916,
          5.1336813,
          4.959459,
          1.1107606,
          -0.4446142,
          -0.9101763,
          -0.8904145,
          -0.9176009,
          -0.93076813,
          -0.9343129,
          -0.91807586,
          -0.42526037,
          -0.9276146,
          0.41412085,
          4.3688526,
          2.247026,
          3.681655,
          4.519703,
          4.50412,
          4.483195,
          4.457174,
          4.364428,
          4.358376,
          2.643312,
          2.8282475,
          2.7966418,
          2.7992706,
          2.8440313,
          2.6898355,
          2.5883384,
          2.683719,
          2.6133447,
          2.638647,
          2.6973648,
          2.639272,
          2.6265137,
          2.6169086,
          2.7018328,
          -1.814343,
          1.3052582,
          1.7242062,
          1.7813878,
          4.758489,
          4.8023953,
          4.744341,
          4.1848907,
          -0.1976008,
          -0.17555952,
          -0.23713596,
          -0.20146708,
          -0.21417241,
          -0.12224231,
          -0.12092811,
          -0.20175692,
          -0.13720284,
          -0.1595875,
          -0.15432456,
          -0.20317462,
          -0.19932404,
          -0.12878253,
          -0.22702271,
          -0.22772573,
          -0.14889415,
          -0.23218255
         ],
         "xaxis": "x",
         "y": [
          6.1646314,
          6.00842,
          6.1433315,
          5.9057546,
          7.427776,
          6.37521,
          5.343366,
          5.227468,
          5.4853206,
          5.316372,
          5.506571,
          5.460128,
          5.450473,
          5.437133,
          5.2120275,
          5.388223,
          -4.029325,
          -4.05104,
          -4.0230784,
          -4.092442,
          -4.047846,
          -4.068326,
          6.612885,
          6.5962024,
          6.5903134,
          6.596233,
          6.637247,
          6.600046,
          6.605702,
          6.6104336,
          6.629333,
          6.61033,
          6.633174,
          6.637594,
          6.618187,
          6.657922,
          6.703276,
          6.6788645,
          6.6808844,
          6.666549,
          6.595557,
          6.7147636,
          6.6922383,
          6.7050033,
          6.7003,
          6.7088284,
          6.722883,
          6.700897,
          6.730013,
          6.7009354,
          6.683014,
          6.6110277,
          5.8230195,
          2.8249493,
          -2.0939806,
          -2.0573804,
          -2.0897655,
          -2.1107843,
          -2.114382,
          -2.1010895,
          3.138163,
          -2.0269687,
          3.256699,
          6.630443,
          5.5633006,
          6.1292715,
          6.6081076,
          6.6446886,
          6.6439767,
          6.7023325,
          6.7153277,
          6.6196585,
          5.843806,
          5.86031,
          5.861261,
          5.7870407,
          5.8878775,
          5.6816263,
          5.5282025,
          5.714286,
          5.6844063,
          5.633434,
          5.678275,
          5.6181283,
          5.563879,
          4.8484282,
          4.809301,
          2.2518673,
          3.9222243,
          5.2674966,
          5.253145,
          6.644804,
          6.661237,
          6.6290455,
          6.225125,
          3.851852,
          3.8421264,
          3.8730505,
          3.84399,
          3.8662157,
          3.7852578,
          3.7922802,
          3.879645,
          3.8216722,
          3.8129525,
          3.8322482,
          3.8636563,
          3.8838766,
          3.8434615,
          3.862964,
          3.8611803,
          3.8302765,
          3.8715005
         ],
         "yaxis": "y"
        },
        {
         "customdata": [
          [
           "Time series RAG",
           "0-Inbox"
          ],
          [
           "Post - Spark Lessons",
           "0-Inbox"
          ],
          [
           "Post - Spark Lessons",
           "0-Inbox"
          ],
          [
           "Post - RAG with LangChain",
           "0-Inbox"
          ],
          [
           "2025-02-01 - Hardly high note",
           "0-Inbox"
          ],
          [
           "2025-02-01 - Hardly high note",
           "0-Inbox"
          ],
          [
           "2025-02-01 - Hardly high note",
           "0-Inbox"
          ],
          [
           "prompting techniques",
           "0-Inbox"
          ],
          [
           "prompting techniques",
           "0-Inbox"
          ],
          [
           "prompting techniques",
           "0-Inbox"
          ],
          [
           "prompting techniques",
           "0-Inbox"
          ],
          [
           "llamaindex - RAG",
           "0-Inbox"
          ],
          [
           "llamaindex - RAG",
           "0-Inbox"
          ],
          [
           "2025-02-01 - Barbell approach to life",
           "0-Inbox"
          ],
          [
           "Notes - How to train LLM on my Data",
           "2-Reference"
          ],
          [
           "Notes - How to train LLM on my Data",
           "2-Reference"
          ],
          [
           "DD - Career Growth - Senior Staff",
           "2-Reference"
          ],
          [
           "DD - Career Growth",
           "2-Reference"
          ],
          [
           "Moment - Family of open source time-series foundation models - mononito",
           "2-Reference/Research"
          ],
          [
           "SEO Research",
           "2-Reference/Research"
          ],
          [
           "SEO Research",
           "2-Reference/Research"
          ],
          [
           "Student-Teacher Setting",
           "2-Reference/Research"
          ],
          [
           "Lessons Learned in 35 Years of Making Software",
           "2-Reference/Readwise/Articles"
          ],
          [
           "Snats Website",
           "2-Reference/Readwise/Articles"
          ],
          [
           "How to Learn in Private",
           "2-Reference/Readwise/Articles"
          ],
          [
           "LLMs Are Not Suitable for (Advanced) Brainstorming",
           "2-Reference/Readwise/Articles"
          ],
          [
           "Are You Making Something",
           "2-Reference/Readwise/Articles"
          ],
          [
           "Text2SQL Is Not Enough Unifying AI and Databases With TAG",
           "2-Reference/Readwise/Articles"
          ],
          [
           "What You (Want To) Want",
           "2-Reference/Readwise/Articles"
          ],
          [
           "🐙 to Generalize or to Specialize",
           "2-Reference/Readwise/Articles"
          ],
          [
           "Life Lessons From Einstein's Gedankenexperiments",
           "2-Reference/Readwise/Articles"
          ],
          [
           "9 Lessons From 9 Years of Marriage",
           "2-Reference/Readwise/Articles"
          ],
          [
           "Feynman Technique A Complete Beginner’s Guide - E-Student",
           "2-Reference/Readwise/Articles"
          ],
          [
           "How I Think About LLM Prompt Engineering",
           "2-Reference/Readwise/Articles"
          ],
          [
           "The Feynman Technique Master the Art of Learning",
           "2-Reference/Readwise/Articles"
          ],
          [
           "A Hierarchy First Approach to Note Taking",
           "2-Reference/Readwise/Articles"
          ],
          [
           "Learning to Learn  CSS-Tricks",
           "2-Reference/Readwise/Articles"
          ],
          [
           "Learning to Learn  KL",
           "2-Reference/Readwise/Articles"
          ],
          [
           "Advice to the Young",
           "2-Reference/Readwise/Articles"
          ],
          [
           "🐙 the Data-Driven Way to Hit 1M Views",
           "2-Reference/Readwise/Articles"
          ],
          [
           "Golden Ratio in Excalidraw",
           "2-Reference/Video"
          ],
          [
           "mind mapping - Justin sung",
           "2-Reference/Video"
          ],
          [
           "mind mapping - Justin sung",
           "2-Reference/Video"
          ],
          [
           "Build Your Own RAG for Unstructured PDF, Website via chatgpt and LangChain",
           "2-Reference/Video"
          ],
          [
           "Build Your Own RAG for Unstructured PDF, Website via chatgpt and LangChain",
           "2-Reference/Video"
          ],
          [
           "Mastering Visual Literacy",
           "2-Reference/Video"
          ],
          [
           "NN - Training Loop, SGD",
           "2-Reference/AI Conversations"
          ],
          [
           "Claude - Feature Engineering",
           "2-Reference/AI Conversations"
          ],
          [
           "Learning Gears",
           "2-Reference/Articles"
          ],
          [
           "Learning Gears",
           "2-Reference/Articles"
          ],
          [
           "Learning Gears",
           "2-Reference/Articles"
          ],
          [
           "PKM",
           "2-Reference/Articles"
          ],
          [
           "A few useful things to know about ML",
           "2-Reference/Articles"
          ],
          [
           "2025-01-28 - Expert networks",
           "2-Reference/Articles"
          ],
          [
           "Lincoln Quote",
           "2-Reference/Articles"
          ],
          [
           "Die With Zero",
           "2-Reference/Books"
          ],
          [
           "ultra learning book",
           "2-Reference/Books"
          ],
          [
           "Solve for Happy",
           "2-Reference/Books"
          ],
          [
           "LLMs from Scratch Book",
           "2-Reference/Books"
          ],
          [
           "LLMs from Scratch Book",
           "2-Reference/Books"
          ],
          [
           "LLMs from Scratch Book",
           "2-Reference/Books"
          ],
          [
           "LLMs from Scratch Book",
           "2-Reference/Books"
          ],
          [
           "LLMs from Scratch Book",
           "2-Reference/Books"
          ],
          [
           "LLMs from Scratch Book",
           "2-Reference/Books"
          ],
          [
           "LLMs from Scratch Book",
           "2-Reference/Books"
          ],
          [
           "StatQuest - Machine Learning",
           "2-Reference/Books"
          ],
          [
           "Algorithms to Live By",
           "2-Reference/Books"
          ],
          [
           "Espresso Hour",
           "2-Reference/Writing Skills"
          ],
          [
           "Free Email Course and Misc Notes",
           "2-Reference/Writing Skills"
          ],
          [
           "Observations on Other Influencers Creators",
           "2-Reference/Writing Skills"
          ],
          [
           "Sample Designs",
           "2-Reference/Writing Skills/Visualize Value"
          ],
          [
           "SDS - Kris LangChaing LLM",
           "2-Reference/Podcasts"
          ],
          [
           "LangChain for LLM Applications",
           "2-Reference/Courses"
          ],
          [
           "LangChain for LLM Applications",
           "2-Reference/Courses"
          ],
          [
           "LangChain for LLM Applications",
           "2-Reference/Courses"
          ],
          [
           "LangChain for LLM Applications",
           "2-Reference/Courses"
          ],
          [
           "LangChain for LLM Applications",
           "2-Reference/Courses"
          ],
          [
           "LangChain for LLM Applications",
           "2-Reference/Courses"
          ],
          [
           "LangChain for LLM Applications",
           "2-Reference/Courses"
          ],
          [
           "LangChain for LLM Applications",
           "2-Reference/Courses"
          ],
          [
           "LangChain for LLM Applications",
           "2-Reference/Courses"
          ],
          [
           "LangChain for LLM Applications",
           "2-Reference/Courses"
          ],
          [
           "Anatomy of a Story - Course",
           "2-Reference/Courses"
          ],
          [
           "LLM Basics - Brilliant App",
           "2-Reference/Courses"
          ],
          [
           "Finding Stories - Course",
           "2-Reference/Courses"
          ],
          [
           "Finding Stories - Course",
           "2-Reference/Courses"
          ],
          [
           "Finding Stories - Course",
           "2-Reference/Courses"
          ],
          [
           "Finding Stories - Course",
           "2-Reference/Courses"
          ],
          [
           "Starting with Stories",
           "2-Reference/Courses"
          ],
          [
           "Langchain Chat With Your Data",
           "2-Reference/Courses"
          ],
          [
           "Langchain Chat With Your Data",
           "2-Reference/Courses"
          ],
          [
           "Langchain Chat With Your Data",
           "2-Reference/Courses"
          ],
          [
           "Langchain Chat With Your Data",
           "2-Reference/Courses"
          ],
          [
           "Langchain Chat With Your Data",
           "2-Reference/Courses"
          ],
          [
           "Langchain Chat With Your Data",
           "2-Reference/Courses"
          ],
          [
           "Langchain Chat With Your Data",
           "2-Reference/Courses"
          ],
          [
           "Langchain Chat With Your Data",
           "2-Reference/Courses"
          ],
          [
           "Langchain Chat With Your Data",
           "2-Reference/Courses"
          ],
          [
           "Ali Abdaal Course",
           "2-Reference/Courses"
          ],
          [
           "Anatomy of a Story - Course 1",
           "2-Reference/Courses"
          ],
          [
           "Anatomy of a Story - Course 1",
           "2-Reference/Courses"
          ],
          [
           "Russell Pierce",
           "2-Reference/Conversations"
          ],
          [
           "Hair Care",
           "2-Reference/Conversations"
          ],
          [
           "Sophie Sithole",
           "2-Reference/Conversations"
          ],
          [
           "Wouter",
           "2-Reference/Conversations"
          ],
          [
           "Muness",
           "2-Reference/Conversations"
          ],
          [
           "2023-10-21 - Lukie Party",
           "2-Reference/Conversations"
          ],
          [
           "Chimera - Liz and Chris call",
           "2-Reference/Conversations"
          ],
          [
           "Documentation ChatBot",
           "3-MOCs and Projects/Projects/Product Ideas"
          ],
          [
           "Idea Validation Pipeline",
           "3-MOCs and Projects/Projects/Product Ideas"
          ],
          [
           "ChatGPT UI improvements",
           "3-MOCs and Projects/Projects/Product Ideas"
          ],
          [
           "LLM Story Extractor Book Editor",
           "3-MOCs and Projects/Projects/Product Ideas"
          ],
          [
           "Understanding GPT",
           "3-MOCs and Projects/Projects/Writing/Post Ideas"
          ],
          [
           "Programming language paradigms",
           "3-MOCs and Projects/Projects/Writing/Post Ideas"
          ],
          [
           "LLM for journal parsing",
           "3-MOCs and Projects/Projects/Writing/Post Ideas"
          ],
          [
           "Journal - LEAN Writing Observations, Social Platforms Lessons Learned",
           "3-MOCs and Projects/Projects/Writing/Craft"
          ],
          [
           "Tree View Summary of Books - Hierarchical Summarizer",
           "3-MOCs and Projects/Done"
          ],
          [
           "Hydra - config",
           "4-Tech Notes"
          ],
          [
           "Hydra - config",
           "4-Tech Notes"
          ],
          [
           "Node JS on WSL",
           "4-Tech Notes"
          ],
          [
           "SSH Key Gen for GitHub",
           "4-Tech Notes"
          ],
          [
           "SSH Key Gen for GitHub",
           "4-Tech Notes"
          ],
          [
           "interactive",
           "4-Tech Notes/python"
          ],
          [
           "Poetry - Python environments",
           "4-Tech Notes/python"
          ],
          [
           "dotenv secrets",
           "4-Tech Notes/python"
          ],
          [
           "pip",
           "4-Tech Notes/python"
          ],
          [
           "new project",
           "4-Tech Notes/python"
          ],
          [
           "new project",
           "4-Tech Notes/python"
          ],
          [
           "git specific time commit",
           "4-Tech Notes/git"
          ],
          [
           "Post - Jospeh Machado - Spark Shuffles",
           "4-Tech Notes/spark"
          ],
          [
           "WK - 25-02-01",
           "0-Current Focus"
          ],
          [
           "Work Thoughts",
           "0-Current Focus"
          ],
          [
           "Work Thoughts",
           "0-Current Focus"
          ],
          [
           "Work Thoughts",
           "0-Current Focus"
          ],
          [
           "1 - Recent Notes",
           "0-Current Focus"
          ],
          [
           "Replicate before iterate",
           "1-Notes"
          ],
          [
           "three steps to compound knowledge",
           "1-Notes"
          ],
          [
           "My Writing Process",
           "1-Notes"
          ],
          [
           "My Writing Process",
           "1-Notes"
          ],
          [
           "Seek Feedback to Learn",
           "1-Notes"
          ],
          [
           "My Content Process",
           "1-Notes"
          ],
          [
           "My Content Process",
           "1-Notes"
          ],
          [
           "My Content Process",
           "1-Notes"
          ],
          [
           "My Content Process",
           "1-Notes"
          ],
          [
           "Batch Work",
           "1-Notes"
          ],
          [
           "Biographies are mentorships with the dead",
           "1-Notes"
          ],
          [
           "Data Driven, dont know what will work",
           "1-Notes"
          ],
          [
           "Constraints Help Creativity",
           "1-Notes"
          ],
          [
           "How LLMs Can Be Useful - my reddit thread",
           "1-Notes"
          ],
          [
           "self-attention mechanisms",
           "1-Notes"
          ],
          [
           "100 days of open source idea",
           "1-Notes"
          ],
          [
           "Engage with your fans and other creators, engagement most important",
           "1-Notes"
          ],
          [
           "Everything is a List - Writing, Talks, Messages",
           "1-Notes"
          ]
         ],
         "hovertemplate": "color=0<br>x=%{x}<br>y=%{y}<br>note_title=%{customdata[0]}<br>folder=%{customdata[1]}<extra></extra>",
         "legendgroup": "0",
         "marker": {
          "color": "#EF553B",
          "symbol": "circle"
         },
         "mode": "markers",
         "name": "0",
         "showlegend": true,
         "type": "scattergl",
         "x": [
          1.5337311,
          2.3672843,
          2.4085324,
          1.2479526,
          2.2941444,
          2.2578552,
          2.2828696,
          0.64819646,
          0.684799,
          0.6892453,
          0.6623869,
          1.4188074,
          1.4903358,
          2.6192923,
          0.63631773,
          0.5995168,
          4.843149,
          2.4215326,
          2.3837616,
          3.1133325,
          2.9953208,
          -3.659901,
          2.6209764,
          3.0883515,
          2.9559572,
          0.24927332,
          3.0318825,
          -0.14817367,
          3.052801,
          3.261402,
          1.7860438,
          2.5332637,
          3.8122678,
          0.6173143,
          3.7063859,
          3.6995473,
          2.9437578,
          2.9811552,
          2.796684,
          3.2835002,
          2.9233756,
          3.3450809,
          3.3648105,
          1.2395558,
          1.2646705,
          2.9504778,
          -1.5804675,
          -0.824476,
          3.0154724,
          3.0075934,
          2.9106948,
          4.1073728,
          -1.339494,
          2.9811788,
          5.3864346,
          2.7939637,
          2.8230193,
          1.671339,
          0.22787812,
          0.17332813,
          0.16641492,
          0.17822665,
          0.1621205,
          0.17697972,
          0.17479831,
          -1.2000257,
          3.0271595,
          4.4729347,
          4.4020343,
          4.9359784,
          1.8420514,
          1.2631061,
          1.333074,
          1.3150933,
          1.2947142,
          1.3053728,
          1.3177303,
          1.3098756,
          1.3100749,
          1.3242571,
          1.3393052,
          1.2867868,
          6.5339804,
          0.30394444,
          5.7304883,
          5.7279415,
          5.7264676,
          5.763222,
          5.6435394,
          1.2055595,
          1.2533141,
          1.2250209,
          1.2076997,
          1.25028,
          1.2299073,
          1.2557374,
          1.2309115,
          1.2489191,
          -3.0237033,
          6.601634,
          6.6993084,
          2.3138106,
          0.2211073,
          2.2572198,
          2.3161922,
          2.0997705,
          2.2150896,
          2.1109984,
          1.2540468,
          1.5941579,
          -1.4102578,
          1.153535,
          -1.505188,
          1.2783825,
          1.1230718,
          4.9940987,
          1.3571707,
          4.21741,
          4.2216268,
          4.276136,
          4.491199,
          4.4650397,
          4.3108473,
          4.280285,
          4.270546,
          4.2929716,
          4.318898,
          4.259978,
          4.6132417,
          2.337683,
          2.7949963,
          2.4766858,
          2.3588002,
          2.3883722,
          2.7072265,
          2.708124,
          2.305797,
          3.176757,
          3.1971486,
          2.5981886,
          2.86683,
          2.8002756,
          2.7681181,
          2.7375069,
          2.6201346,
          1.6159062,
          1.7198657,
          1.5254194,
          0.29683635,
          -0.0033889646,
          5.0211215,
          1.4681792,
          1.9369347
         ],
         "xaxis": "x",
         "y": [
          9.943548,
          5.7645817,
          5.7288556,
          10.285674,
          7.3296704,
          7.4490027,
          7.4205136,
          5.324373,
          5.302254,
          5.3181396,
          5.335699,
          10.047066,
          9.961615,
          5.466753,
          10.159366,
          10.131599,
          -0.07128925,
          4.6676517,
          8.803602,
          4.141573,
          4.325808,
          15.313654,
          3.602489,
          3.5200853,
          3.6189497,
          9.035326,
          3.5365117,
          8.297665,
          3.471202,
          3.2266488,
          3.3540494,
          3.2985594,
          4.2495384,
          5.155534,
          4.227622,
          5.2221746,
          3.6672373,
          3.7026281,
          3.5299656,
          3.3924127,
          5.035941,
          5.340925,
          5.267654,
          10.415859,
          10.334875,
          5.005628,
          14.8951435,
          9.043588,
          3.7474105,
          3.7286408,
          3.7202744,
          5.800077,
          9.443743,
          3.8115602,
          1.2336683,
          5.511889,
          3.9186635,
          2.9708643,
          10.518975,
          10.622394,
          10.55706,
          10.634016,
          10.6240835,
          10.62648,
          10.629496,
          9.442165,
          4.6764574,
          3.7992108,
          3.8725934,
          3.5108964,
          5.2954865,
          10.608268,
          10.6914425,
          10.669951,
          10.655852,
          10.656977,
          10.669099,
          10.663818,
          10.660039,
          10.682335,
          10.644032,
          10.649253,
          1.228404,
          10.543052,
          1.5915153,
          1.642945,
          1.5791818,
          1.6068504,
          1.5784886,
          10.51331,
          10.583119,
          10.54125,
          10.523499,
          10.578413,
          10.541272,
          10.585218,
          10.557096,
          10.580161,
          4.0834994,
          1.1692662,
          1.093685,
          5.47464,
          3.944471,
          5.5377064,
          5.50375,
          7.272666,
          5.4455543,
          5.9345617,
          6.467778,
          5.8157673,
          4.83942,
          7.1533093,
          4.799088,
          5.931282,
          7.2331505,
          3.010759,
          7.075696,
          6.937633,
          6.8733892,
          7.124858,
          6.6717396,
          6.6756625,
          6.9797163,
          7.10413,
          7.065953,
          7.059489,
          7.05174,
          7.06047,
          7.368623,
          5.8012495,
          5.7981653,
          5.53817,
          5.7415104,
          5.7992907,
          5.7383375,
          5.268325,
          3.5599968,
          4.345188,
          4.3519335,
          3.9958677,
          4.7943125,
          4.8209677,
          4.792889,
          4.9401946,
          5.0144835,
          5.4736805,
          5.1507363,
          5.383131,
          9.000814,
          11.860132,
          7.825455,
          4.6229277,
          5.0165844
         ],
         "yaxis": "y"
        },
        {
         "customdata": [
          [
           "Post - Compound Knowledge in the Information Age",
           "0-Inbox"
          ],
          [
           "Post - Compound Knowledge in the Information Age",
           "0-Inbox"
          ],
          [
           "Post - Compound Knowledge in the Information Age",
           "0-Inbox"
          ],
          [
           "Compound Knowledge",
           "3-MOCs and Projects/Projects/Writing/Post Ideas"
          ],
          [
           "Compound Knowledge",
           "3-MOCs and Projects/Projects/Writing/Post Ideas"
          ],
          [
           "compound knowledge voice note",
           "3-MOCs and Projects/Projects/Writing/Post Ideas"
          ],
          [
           "compound knowledge voice note",
           "3-MOCs and Projects/Projects/Writing/Post Ideas"
          ],
          [
           "otter - info age post thoughts",
           "3-MOCs and Projects/Projects/Writing/Post Ideas"
          ],
          [
           "otter - info age post thoughts",
           "3-MOCs and Projects/Projects/Writing/Post Ideas"
          ],
          [
           "Knowledge threshold",
           "3-MOCs and Projects/Projects/Writing/Post Ideas"
          ],
          [
           "YT - Compound Knowledge in the Information Age",
           "3-MOCs and Projects/YouTube/Ideas"
          ],
          [
           "YT - Compound Knowledge in the Information Age",
           "3-MOCs and Projects/YouTube/Ideas"
          ],
          [
           "YT - Compound Knowledge in the Information Age",
           "3-MOCs and Projects/YouTube/Ideas"
          ],
          [
           "YT - Compound Knowledge in the Information Age",
           "3-MOCs and Projects/YouTube/Ideas"
          ],
          [
           "YT - Compound Knowledge in the Information Age",
           "3-MOCs and Projects/YouTube/Ideas"
          ],
          [
           "YT - Compound Knowledge in the Information Age",
           "3-MOCs and Projects/YouTube/Ideas"
          ],
          [
           "YT - Compound Knowledge in the Information Age",
           "3-MOCs and Projects/YouTube/Ideas"
          ],
          [
           "YT - Compound Knowledge in the Information Age",
           "3-MOCs and Projects/YouTube/Ideas"
          ],
          [
           "YT - Compound Knowledge in the Information Age",
           "3-MOCs and Projects/YouTube/Ideas"
          ],
          [
           "Past were better thinkers - outsource thinking to AI, 1900s people wrote more",
           "1-Notes"
          ]
         ],
         "hovertemplate": "color=43<br>x=%{x}<br>y=%{y}<br>note_title=%{customdata[0]}<br>folder=%{customdata[1]}<extra></extra>",
         "legendgroup": "43",
         "marker": {
          "color": "#00cc96",
          "symbol": "circle"
         },
         "mode": "markers",
         "name": "43",
         "showlegend": true,
         "type": "scattergl",
         "x": [
          -1.7313935,
          -1.7337158,
          -1.7245723,
          -1.7341858,
          -1.7852556,
          -1.6889805,
          -1.6344807,
          -1.7526269,
          -1.7125766,
          -1.6627172,
          -1.7711942,
          -1.7838334,
          -1.7782104,
          -1.7516055,
          -1.7799015,
          -1.726025,
          -1.7639439,
          -1.766583,
          -1.7485759,
          -1.6269245
         ],
         "xaxis": "x",
         "y": [
          6.267831,
          6.252095,
          6.2419686,
          6.2201486,
          6.298118,
          6.1955504,
          6.182222,
          6.2837715,
          6.245244,
          6.179399,
          6.2890396,
          6.313815,
          6.2611914,
          6.318449,
          6.3050604,
          6.2584267,
          6.290511,
          6.289573,
          6.2903686,
          6.248607
         ],
         "yaxis": "y"
        },
        {
         "customdata": [
          [
           "ship30 gpt",
           "0-Inbox"
          ],
          [
           "Live Session 7 - Twitter, Linked In",
           "2-Reference/Writing Skills/Ship30For30"
          ],
          [
           "Live Session 7 - Twitter, Linked In",
           "2-Reference/Writing Skills/Ship30For30"
          ],
          [
           "Live Session 7 - Twitter, Linked In",
           "2-Reference/Writing Skills/Ship30For30"
          ],
          [
           "Live Session 7 - Twitter, Linked In",
           "2-Reference/Writing Skills/Ship30For30"
          ],
          [
           "Live Session 7 - Twitter, Linked In",
           "2-Reference/Writing Skills/Ship30For30"
          ],
          [
           "Live Session 7 - Twitter, Linked In",
           "2-Reference/Writing Skills/Ship30For30"
          ],
          [
           "Live Session 7 - Twitter, Linked In",
           "2-Reference/Writing Skills/Ship30For30"
          ],
          [
           "Live Session 7 - Twitter, Linked In",
           "2-Reference/Writing Skills/Ship30For30"
          ],
          [
           "Live Session 7 - Twitter, Linked In",
           "2-Reference/Writing Skills/Ship30For30"
          ],
          [
           "Live Session 7 - Twitter, Linked In",
           "2-Reference/Writing Skills/Ship30For30"
          ],
          [
           "Live Session 7 - Twitter, Linked In",
           "2-Reference/Writing Skills/Ship30For30"
          ],
          [
           "Live Session 7 - Twitter, Linked In",
           "2-Reference/Writing Skills/Ship30For30"
          ],
          [
           "Live Session 7 - Twitter, Linked In",
           "2-Reference/Writing Skills/Ship30For30"
          ],
          [
           "Live Session 7 - Twitter, Linked In",
           "2-Reference/Writing Skills/Ship30For30"
          ],
          [
           "Live Session 7 - Twitter, Linked In",
           "2-Reference/Writing Skills/Ship30For30"
          ],
          [
           "Live Session 3 - EIG",
           "2-Reference/Writing Skills/Ship30For30"
          ],
          [
           "Live Session 3 - EIG",
           "2-Reference/Writing Skills/Ship30For30"
          ],
          [
           "Live Session 3 - EIG",
           "2-Reference/Writing Skills/Ship30For30"
          ],
          [
           "Live Session 3 - EIG",
           "2-Reference/Writing Skills/Ship30For30"
          ],
          [
           "Live Session 3 - EIG",
           "2-Reference/Writing Skills/Ship30For30"
          ],
          [
           "Live Session 3 - EIG",
           "2-Reference/Writing Skills/Ship30For30"
          ],
          [
           "Live Session 3 - EIG",
           "2-Reference/Writing Skills/Ship30For30"
          ],
          [
           "Live Session 3 - EIG",
           "2-Reference/Writing Skills/Ship30For30"
          ],
          [
           "Live Session 3 - EIG",
           "2-Reference/Writing Skills/Ship30For30"
          ],
          [
           "Live Session 3 - EIG",
           "2-Reference/Writing Skills/Ship30For30"
          ],
          [
           "Live Session 3 - EIG",
           "2-Reference/Writing Skills/Ship30For30"
          ],
          [
           "Live Session 3 - EIG",
           "2-Reference/Writing Skills/Ship30For30"
          ],
          [
           "Course Notes",
           "2-Reference/Writing Skills/Ship30For30"
          ],
          [
           "Course Notes",
           "2-Reference/Writing Skills/Ship30For30"
          ],
          [
           "Course Notes",
           "2-Reference/Writing Skills/Ship30For30"
          ],
          [
           "Course Notes",
           "2-Reference/Writing Skills/Ship30For30"
          ],
          [
           "Course Notes",
           "2-Reference/Writing Skills/Ship30For30"
          ],
          [
           "My Observations",
           "2-Reference/Writing Skills/Ship30For30"
          ],
          [
           "My Observations",
           "2-Reference/Writing Skills/Ship30For30"
          ],
          [
           "My Observations",
           "2-Reference/Writing Skills/Ship30For30"
          ],
          [
           "Ship 30 EIG ChatGPT Prompt",
           "2-Reference/Writing Skills/Ship30For30"
          ],
          [
           "Live Session 1",
           "2-Reference/Writing Skills/Ship30For30"
          ],
          [
           "Live Session 1",
           "2-Reference/Writing Skills/Ship30For30"
          ],
          [
           "Live Session 1",
           "2-Reference/Writing Skills/Ship30For30"
          ],
          [
           "Live Session 1",
           "2-Reference/Writing Skills/Ship30For30"
          ],
          [
           "Live Session 2 - Lean Writing",
           "2-Reference/Writing Skills/Ship30For30"
          ],
          [
           "Live Session 2 - Lean Writing",
           "2-Reference/Writing Skills/Ship30For30"
          ],
          [
           "Live Session 2 - Lean Writing",
           "2-Reference/Writing Skills/Ship30For30"
          ],
          [
           "Live Session 4 - Headlines",
           "2-Reference/Writing Skills/Ship30For30"
          ],
          [
           "Live Session 4 - Headlines",
           "2-Reference/Writing Skills/Ship30For30"
          ],
          [
           "Live Session 4 - Headlines",
           "2-Reference/Writing Skills/Ship30For30"
          ],
          [
           "Live Session 4 - Headlines",
           "2-Reference/Writing Skills/Ship30For30"
          ],
          [
           "Live Session 4 - Headlines",
           "2-Reference/Writing Skills/Ship30For30"
          ],
          [
           "Live Session 4 - Headlines",
           "2-Reference/Writing Skills/Ship30For30"
          ],
          [
           "Live Session 8 - Data Driven Writing",
           "2-Reference/Writing Skills/Ship30For30"
          ],
          [
           "Live Session 8 - Data Driven Writing",
           "2-Reference/Writing Skills/Ship30For30"
          ],
          [
           "Live Session 8 - Data Driven Writing",
           "2-Reference/Writing Skills/Ship30For30"
          ],
          [
           "Live Session 8 - Data Driven Writing",
           "2-Reference/Writing Skills/Ship30For30"
          ],
          [
           "Live Session 8 - Data Driven Writing",
           "2-Reference/Writing Skills/Ship30For30"
          ],
          [
           "Live Session 6 - AMA",
           "2-Reference/Writing Skills/Ship30For30"
          ],
          [
           "Live Session 6 - AMA",
           "2-Reference/Writing Skills/Ship30For30"
          ],
          [
           "Live Session 6 - AMA",
           "2-Reference/Writing Skills/Ship30For30"
          ],
          [
           "Live Session 6 - AMA",
           "2-Reference/Writing Skills/Ship30For30"
          ],
          [
           "Live Session 6 - AMA",
           "2-Reference/Writing Skills/Ship30For30"
          ],
          [
           "Live Session 6 - AMA",
           "2-Reference/Writing Skills/Ship30For30"
          ],
          [
           "Live Session 5 - Rhythms",
           "2-Reference/Writing Skills/Ship30For30"
          ],
          [
           "Live Session 5 - Rhythms",
           "2-Reference/Writing Skills/Ship30For30"
          ],
          [
           "Live Session 5 - Rhythms",
           "2-Reference/Writing Skills/Ship30For30"
          ],
          [
           "Live Session 5 - Rhythms",
           "2-Reference/Writing Skills/Ship30For30"
          ],
          [
           "Live Session 5 - Rhythms",
           "2-Reference/Writing Skills/Ship30For30"
          ],
          [
           "Live Session 8 - Claim Your Niche",
           "2-Reference/Writing Skills/Ship30For30"
          ],
          [
           "Live Session 8 - Claim Your Niche",
           "2-Reference/Writing Skills/Ship30For30"
          ],
          [
           "CT - Level 2 Notes",
           "2-Reference/Writing Skills/Ship30For30"
          ],
          [
           "CT - Level 2 Notes",
           "2-Reference/Writing Skills/Ship30For30"
          ],
          [
           "CT - Level 2 Notes",
           "2-Reference/Writing Skills/Ship30For30"
          ],
          [
           "CT - Level 2 Notes",
           "2-Reference/Writing Skills/Ship30For30"
          ],
          [
           "MOC- Ship 30 for 30 Big Ideas",
           "3-MOCs and Projects/Projects/Writing/Post Ideas"
          ]
         ],
         "hovertemplate": "color=33<br>x=%{x}<br>y=%{y}<br>note_title=%{customdata[0]}<br>folder=%{customdata[1]}<extra></extra>",
         "legendgroup": "33",
         "marker": {
          "color": "#ab63fa",
          "symbol": "circle"
         },
         "mode": "markers",
         "name": "33",
         "showlegend": true,
         "type": "scattergl",
         "x": [
          -1.4761344,
          5.868605,
          5.836404,
          5.867585,
          5.8612256,
          5.872025,
          5.8782997,
          5.898381,
          5.8857346,
          5.895551,
          5.9320107,
          5.8956285,
          5.9189744,
          5.9055524,
          5.8656845,
          5.9021564,
          -4.3870034,
          -4.387321,
          -4.399534,
          -4.3954163,
          -4.3959694,
          -4.391786,
          -4.3927064,
          -4.389917,
          -4.403752,
          -4.402374,
          -4.3970857,
          -4.394618,
          5.100293,
          4.753109,
          5.0064077,
          4.9423714,
          4.8003464,
          4.84108,
          4.9695735,
          4.9373345,
          -4.3101597,
          5.3644686,
          5.703403,
          5.6616955,
          5.7378764,
          5.707577,
          5.53784,
          5.444418,
          5.660985,
          5.592661,
          5.4314857,
          5.484892,
          5.602989,
          5.6470284,
          5.4783697,
          5.461944,
          5.4652953,
          5.46524,
          5.573842,
          5.766243,
          5.757823,
          5.7524667,
          5.765603,
          5.779504,
          5.815583,
          5.7032723,
          5.6794004,
          5.635289,
          5.719794,
          5.693256,
          3.7575154,
          3.5093255,
          4.9197707,
          4.9006915,
          5.0355816,
          4.9314637,
          1.3562012
         ],
         "xaxis": "x",
         "y": [
          4.8111076,
          4.0510726,
          4.034466,
          4.036752,
          4.0351644,
          4.0366135,
          4.0429354,
          4.087836,
          4.0485578,
          4.071134,
          4.0842743,
          4.0651803,
          4.075199,
          4.060763,
          4.0466995,
          4.067291,
          5.1363797,
          5.129665,
          5.1425443,
          5.143581,
          5.141546,
          5.1375747,
          5.1353025,
          5.133926,
          5.152292,
          5.142847,
          5.1398783,
          5.138296,
          3.8855016,
          3.8534157,
          3.8571866,
          3.8490543,
          3.8820612,
          3.9209533,
          3.7457228,
          3.8614037,
          5.112726,
          3.9098675,
          3.9761367,
          3.9957912,
          3.973603,
          3.9991505,
          3.923839,
          3.905303,
          3.9280398,
          3.8432672,
          3.7605894,
          3.798463,
          3.85251,
          3.873252,
          3.9343057,
          3.8855293,
          4.017011,
          3.9572957,
          3.9692588,
          3.8437705,
          3.8339293,
          3.7802682,
          3.8312526,
          3.8229582,
          3.8062148,
          3.9640145,
          3.9680092,
          3.861379,
          3.9536743,
          3.9549,
          2.410268,
          2.2528002,
          3.8918111,
          3.8797798,
          3.8883166,
          3.8523846,
          4.985063
         ],
         "yaxis": "y"
        },
        {
         "customdata": [
          [
           "Sometimes you need to be unrealistic and try",
           "0-Inbox"
          ],
          [
           "solve your own problems with content not just code",
           "0-Inbox"
          ],
          [
           "solopreneurs need niche markets",
           "0-Inbox"
          ],
          [
           "MOC - Doing research, being scientist",
           "2-Reference"
          ],
          [
           "Ode How to Tell a Great Story",
           "2-Reference/Readwise/Articles"
          ],
          [
           "Ode How to Tell a Great Story",
           "2-Reference/Readwise/Articles"
          ],
          [
           "Hook Point How to Stand Out in a 3-Second World by Brendan Kane",
           "2-Reference/Readwise/Articles"
          ],
          [
           "The Benjamin Franklin Method How to (Actually) Be a Better Writer",
           "2-Reference/Readwise/Articles"
          ],
          [
           "The Benjamin Franklin Method How to (Actually) Be a Better Writer",
           "2-Reference/Readwise/Articles"
          ],
          [
           "Book Summary Steal Like an Artist by Austin Kleon",
           "2-Reference/Readwise/Articles"
          ],
          [
           "Book Summary Steal Like an Artist by Austin Kleon",
           "2-Reference/Readwise/Articles"
          ],
          [
           "Lessons Learned in 35 Years of Making Software",
           "2-Reference/Readwise/Articles"
          ],
          [
           "How to Learn in Private",
           "2-Reference/Readwise/Articles"
          ],
          [
           "LLMs Are Not Suitable for (Advanced) Brainstorming",
           "2-Reference/Readwise/Articles"
          ],
          [
           "What Every Successful Person Knows, but Never Says",
           "2-Reference/Readwise/Articles"
          ],
          [
           "Are You Making Something",
           "2-Reference/Readwise/Articles"
          ],
          [
           "What You (Want To) Want",
           "2-Reference/Readwise/Articles"
          ],
          [
           "🐙 to Generalize or to Specialize",
           "2-Reference/Readwise/Articles"
          ],
          [
           "9 Lessons From 9 Years of Marriage",
           "2-Reference/Readwise/Articles"
          ],
          [
           "The Ladders of Wealth Creation A Step-by-Step Roadmap to Building Wealth",
           "2-Reference/Readwise/Articles"
          ],
          [
           "The Day You Became a Better Writer",
           "2-Reference/Readwise/Articles"
          ],
          [
           "The Day You Became a Better Writer",
           "2-Reference/Readwise/Articles"
          ],
          [
           "Feynman Technique A Complete Beginner’s Guide - E-Student",
           "2-Reference/Readwise/Articles"
          ],
          [
           "The Feynman Technique Master the Art of Learning",
           "2-Reference/Readwise/Articles"
          ],
          [
           "Information-Action Gap, One Decision Away, & More  the Curiosity Chronicle",
           "2-Reference/Readwise/Articles"
          ],
          [
           "A Hierarchy First Approach to Note Taking",
           "2-Reference/Readwise/Articles"
          ],
          [
           "🐙 Start With WHY, Not WHAT",
           "2-Reference/Readwise/Articles"
          ],
          [
           "🐙 Start With WHY, Not WHAT",
           "2-Reference/Readwise/Articles"
          ],
          [
           "Learning to Learn  CSS-Tricks",
           "2-Reference/Readwise/Articles"
          ],
          [
           "Learning to Learn  KL",
           "2-Reference/Readwise/Articles"
          ],
          [
           "How to Do What You Love",
           "2-Reference/Readwise/Articles"
          ],
          [
           "How to Do What You Love",
           "2-Reference/Readwise/Articles"
          ],
          [
           "Advice to the Young",
           "2-Reference/Readwise/Articles"
          ],
          [
           "🐙 the Data-Driven Way to Hit 1M Views",
           "2-Reference/Readwise/Articles"
          ],
          [
           "mind mapping - Justin sung",
           "2-Reference/Video"
          ],
          [
           "thinking visually",
           "2-Reference/Video"
          ],
          [
           "thinking visually",
           "2-Reference/Video"
          ],
          [
           "Craft of Writing Effectively",
           "2-Reference/Video"
          ],
          [
           "Craft of Writing Effectively",
           "2-Reference/Video"
          ],
          [
           "Mastering Visual Literacy",
           "2-Reference/Video"
          ],
          [
           "content framework for my youtube",
           "2-Reference/AI Conversations"
          ],
          [
           "How to Get Rich Without Getting Lucky",
           "2-Reference/Naval Ravikant"
          ],
          [
           "Ode How to tell a great story",
           "2-Reference/Instapaper"
          ],
          [
           "The Benjamin Franklin Method How to (Actually) Be a Better Writer",
           "2-Reference/Instapaper"
          ],
          [
           "Book Summary Steal Like an Artist by Austin Kleon",
           "2-Reference/Instapaper"
          ],
          [
           "Lessons learned in 35 years of making software",
           "2-Reference/Instapaper"
          ],
          [
           "How To Learn In Private",
           "2-Reference/Instapaper"
          ],
          [
           "LLMs are not suitable for (advanced) brainstorming",
           "2-Reference/Instapaper"
          ],
          [
           "What You (Want to) Want",
           "2-Reference/Instapaper"
          ],
          [
           "To generalize or to specialize",
           "2-Reference/Instapaper"
          ],
          [
           "Feynman Technique A Complete Beginner’s Guide - E-Student",
           "2-Reference/Instapaper"
          ],
          [
           "The Feynman Technique Master the Art of Learning",
           "2-Reference/Instapaper"
          ],
          [
           "A Hierarchy First Approach to Note Taking",
           "2-Reference/Instapaper"
          ],
          [
           "🐙 Start with WHY, not WHAT",
           "2-Reference/Instapaper"
          ],
          [
           "Learning to Learn  CSS-Tricks",
           "2-Reference/Instapaper"
          ],
          [
           "Learning to learn  KL",
           "2-Reference/Instapaper"
          ],
          [
           "The data-driven way to hit 1M views",
           "2-Reference/Instapaper"
          ],
          [
           "Advice to the young",
           "2-Reference/Instapaper"
          ],
          [
           "2025-01-24 - Hooks Joe machado",
           "2-Reference/Articles"
          ],
          [
           "Strong Opinions Weakly Held",
           "2-Reference/Articles"
          ],
          [
           "Paul Graham Essays",
           "2-Reference/Articles"
          ],
          [
           "Category Creation Growth Strategy",
           "2-Reference/Articles"
          ],
          [
           "Writing an RFC - Design Tradeoffs Communication",
           "2-Reference/Articles"
          ],
          [
           "Learning Gears",
           "2-Reference/Articles"
          ],
          [
           "Grow influence in private communities",
           "2-Reference/Articles"
          ],
          [
           "Failed 2 Course Launches",
           "2-Reference/Articles"
          ],
          [
           "Too Many Abstractions",
           "2-Reference/Articles"
          ],
          [
           "Life Cheat Codes",
           "2-Reference/Articles"
          ],
          [
           "How to Niche Down",
           "2-Reference/Articles"
          ],
          [
           "How to Niche Down",
           "2-Reference/Articles"
          ],
          [
           "How to Niche Down",
           "2-Reference/Articles"
          ],
          [
           "Leading by Editing",
           "2-Reference/Articles"
          ],
          [
           "dilbert - be a better writer",
           "2-Reference/Articles"
          ],
          [
           "Organization System Essentials",
           "2-Reference/Articles"
          ],
          [
           "Move Control Statements Up, Loops Down",
           "2-Reference/Articles"
          ],
          [
           "Swyx - Articles",
           "2-Reference/Articles"
          ],
          [
           "The expectation effect",
           "2-Reference/Books"
          ],
          [
           "Mating in Captivity Notes",
           "2-Reference/Books"
          ],
          [
           "Godel, Escher, Bach - Book",
           "2-Reference/Books"
          ],
          [
           "Fundamentals of Software Architecture",
           "2-Reference/Books"
          ],
          [
           "Algorithms to Live By",
           "2-Reference/Books"
          ],
          [
           "Algorithms to Live By",
           "2-Reference/Books"
          ],
          [
           "Algorithms to Live By",
           "2-Reference/Books"
          ],
          [
           "Algorithms to Live By",
           "2-Reference/Books"
          ],
          [
           "Algorithms to Live By",
           "2-Reference/Books"
          ],
          [
           "Foundational Books",
           "2-Reference/Books"
          ],
          [
           "Magic of Tidying Up - Marie Kondo",
           "2-Reference/Books"
          ],
          [
           "Drawing on the right side of the brain",
           "2-Reference/Books"
          ],
          [
           "Headlines",
           "2-Reference/Writing Skills"
          ],
          [
           "Build Trust Online",
           "2-Reference/Writing Skills"
          ],
          [
           "Snow leopard podcast",
           "2-Reference/Writing Skills"
          ],
          [
           "Outliers - Ep 2020-12 - business of online writing",
           "2-Reference/Writing Skills"
          ],
          [
           "Outliers - Ep 2020-12 - business of online writing",
           "2-Reference/Writing Skills"
          ],
          [
           "Book - Art and Business of Writing Online",
           "2-Reference/Writing Skills"
          ],
          [
           "Quality Connections as Followers - Engage, Bridge",
           "2-Reference/Writing Skills"
          ],
          [
           "Cole YT- Category of 1",
           "2-Reference/Writing Skills"
          ],
          [
           "SEO Writing",
           "2-Reference/Writing Skills"
          ],
          [
           "SEO Writing",
           "2-Reference/Writing Skills"
          ],
          [
           "SEO Writing",
           "2-Reference/Writing Skills"
          ],
          [
           "Paul Graham - Perrell Episode 10 lessons",
           "2-Reference/Writing Skills"
          ],
          [
           "Espresso Hour",
           "2-Reference/Writing Skills"
          ],
          [
           "Espresso Hour",
           "2-Reference/Writing Skills"
          ],
          [
           "Espresso Hour",
           "2-Reference/Writing Skills"
          ],
          [
           "Espresso Hour",
           "2-Reference/Writing Skills"
          ],
          [
           "Espresso Hour",
           "2-Reference/Writing Skills"
          ],
          [
           "Espresso Hour",
           "2-Reference/Writing Skills"
          ],
          [
           "Espresso Hour",
           "2-Reference/Writing Skills"
          ],
          [
           "Free Email Course and Misc Notes",
           "2-Reference/Writing Skills"
          ],
          [
           "Free Email Course and Misc Notes",
           "2-Reference/Writing Skills"
          ],
          [
           "Free Email Course and Misc Notes",
           "2-Reference/Writing Skills"
          ],
          [
           "Free Email Course and Misc Notes",
           "2-Reference/Writing Skills"
          ],
          [
           "Free Email Course and Misc Notes",
           "2-Reference/Writing Skills"
          ],
          [
           "Observations on Other Influencers Creators",
           "2-Reference/Writing Skills"
          ],
          [
           "Dickie and Cole mastermind frameworks",
           "2-Reference/Writing Skills"
          ],
          [
           "CT - HOW TO - Build Your Idea File Prompts and Niche Notes",
           "2-Reference/Writing Skills"
          ],
          [
           "CT - HOW TO - Build Your Idea File Prompts and Niche Notes",
           "2-Reference/Writing Skills"
          ],
          [
           "CT - HOW TO - Build Your Idea File Prompts and Niche Notes",
           "2-Reference/Writing Skills"
          ],
          [
           "CT - HOW TO - Build Your Idea File Prompts and Niche Notes",
           "2-Reference/Writing Skills"
          ],
          [
           "CT - HOW TO - Build Your Idea File Prompts and Niche Notes",
           "2-Reference/Writing Skills"
          ],
          [
           "CT - HOW TO - Build Your Idea File Prompts and Niche Notes",
           "2-Reference/Writing Skills"
          ],
          [
           "CT - HOW TO - Build Your Idea File Prompts and Niche Notes",
           "2-Reference/Writing Skills"
          ],
          [
           "CT - HOW TO - Build Your Idea File Prompts and Niche Notes",
           "2-Reference/Writing Skills"
          ],
          [
           "Justin welsh espresso hour",
           "2-Reference/Writing Skills"
          ],
          [
           "Course Notes",
           "2-Reference/Writing Skills/Ship30For30"
          ],
          [
           "Celebration Call",
           "2-Reference/Writing Skills/Ship30For30"
          ],
          [
           "Course Notes",
           "2-Reference/Writing Skills/Visualize Value"
          ],
          [
           "My Observations",
           "2-Reference/Writing Skills/Visualize Value"
          ],
          [
           "Be Unique",
           "2-Reference/Writing Skills/Visualize Value"
          ],
          [
           "Design tools of visualize value",
           "2-Reference/Writing Skills/Visualize Value"
          ],
          [
           "YT - How to Visualize Value",
           "2-Reference/Writing Skills/Visualize Value"
          ],
          [
           "Prat fall effect",
           "2-Reference/Podcasts"
          ],
          [
           "Perrell Podcast - Millerd",
           "2-Reference/Podcasts"
          ],
          [
           "Anatomy of a Story - Course",
           "2-Reference/Courses"
          ],
          [
           "Anatomy of a Story - Course",
           "2-Reference/Courses"
          ],
          [
           "Anatomy of a Story - Course",
           "2-Reference/Courses"
          ],
          [
           "Anatomy of a Story - Course",
           "2-Reference/Courses"
          ],
          [
           "Anatomy of a Story - Course",
           "2-Reference/Courses"
          ],
          [
           "Anatomy of a Story - Course",
           "2-Reference/Courses"
          ],
          [
           "Anatomy of a Story - Course",
           "2-Reference/Courses"
          ],
          [
           "Anatomy of a Story - Course",
           "2-Reference/Courses"
          ],
          [
           "Anatomy of a Story - Course",
           "2-Reference/Courses"
          ],
          [
           "Anatomy of a Story - Course",
           "2-Reference/Courses"
          ],
          [
           "Anatomy of a Story - Course",
           "2-Reference/Courses"
          ],
          [
           "Anatomy of a Story - Course",
           "2-Reference/Courses"
          ],
          [
           "Anatomy of a Story - Course",
           "2-Reference/Courses"
          ],
          [
           "Anatomy of a Story - Course",
           "2-Reference/Courses"
          ],
          [
           "Finding Stories - Course",
           "2-Reference/Courses"
          ],
          [
           "Finding Stories - Course",
           "2-Reference/Courses"
          ],
          [
           "Finding Stories - Course",
           "2-Reference/Courses"
          ],
          [
           "Finding Stories - Course",
           "2-Reference/Courses"
          ],
          [
           "Homework for Life Prompts",
           "2-Reference/Courses"
          ],
          [
           "Anatomy of a Story - Course 1",
           "2-Reference/Courses"
          ],
          [
           "Anatomy of a Story - Course 1",
           "2-Reference/Courses"
          ],
          [
           "Anatomy of a Story - Course 1",
           "2-Reference/Courses"
          ],
          [
           "Anatomy of a Story - Course 1",
           "2-Reference/Courses"
          ],
          [
           "Anatomy of a Story - Course 1",
           "2-Reference/Courses"
          ],
          [
           "Anatomy of a Story - Course 1",
           "2-Reference/Courses"
          ],
          [
           "Anatomy of a Story - Course 1",
           "2-Reference/Courses"
          ],
          [
           "Anatomy of a Story - Course 1",
           "2-Reference/Courses"
          ],
          [
           "Anatomy of a Story - Course 1",
           "2-Reference/Courses"
          ],
          [
           "Anatomy of a Story - Course 1",
           "2-Reference/Courses"
          ],
          [
           "Anatomy of a Story - Course 1",
           "2-Reference/Courses"
          ],
          [
           "Anatomy of a Story - Course 1",
           "2-Reference/Courses"
          ],
          [
           "Anatomy of a Story - Course 1",
           "2-Reference/Courses"
          ],
          [
           "Brilliant - Calculus",
           "2-Reference/Courses"
          ],
          [
           "Garret Biel - 2024-07-16",
           "2-Reference/Conversations"
          ],
          [
           "Narrow your Audience",
           "2-Reference/Reddit"
          ],
          [
           "Communication",
           "2-Reference/Apps"
          ],
          [
           "Find Meaning and Joy By Meditations",
           "2-Reference/Apps"
          ],
          [
           "MOC - Great Thoughts - Big Thoughts",
           "3-MOCs and Projects"
          ],
          [
           "MOC - Interviewing Skill",
           "3-MOCs and Projects"
          ],
          [
           "East End Rugby 7s",
           "3-MOCs and Projects/Projects"
          ],
          [
           "0 - Quick Bits - 2024-09-13 - start your second brain",
           "3-MOCs and Projects/Projects/Podcast - BoC/Shows"
          ],
          [
           "0 - Quick Bits - 2024-09-13 - start your second brain",
           "3-MOCs and Projects/Projects/Podcast - BoC/Shows"
          ],
          [
           "investment - what to buy under valued",
           "3-MOCs and Projects/Projects/Product Ideas"
          ],
          [
           "Yuptu",
           "3-MOCs and Projects/Projects/Product Ideas"
          ],
          [
           "Creator Course Reviews",
           "3-MOCs and Projects/Projects/Product Ideas"
          ],
          [
           "Find Your Niche Podcast Idea",
           "3-MOCs and Projects/Projects/Product Ideas"
          ],
          [
           "Enterprise Training",
           "3-MOCs and Projects/Projects/Product Ideas"
          ],
          [
           "My Fear of Writing in Public",
           "3-MOCs and Projects/Projects/Writing/Post Ideas"
          ],
          [
           "Writing or Thinking in 2020s is Coding of the 2000s",
           "3-MOCs and Projects/Projects/Writing/Post Ideas"
          ],
          [
           "Digital Tools are Worth It",
           "3-MOCs and Projects/Projects/Writing/Post Ideas"
          ],
          [
           "How to start writing online as a software engineer in 2024",
           "3-MOCs and Projects/Projects/Writing/Post Ideas"
          ],
          [
           "you need 3 bullets to make a point",
           "3-MOCs and Projects/Projects/Writing/Post Ideas"
          ],
          [
           "Tell creators you love them",
           "3-MOCs and Projects/Projects/Writing/Post Ideas"
          ],
          [
           "X Books that Helped Me Learn to Write as an Engineer",
           "3-MOCs and Projects/Projects/Writing/Post Ideas"
          ],
          [
           "how to find your tribe without getting lucky",
           "3-MOCs and Projects/Projects/Writing/Post Ideas"
          ],
          [
           "Measuring Up My Path to FIRE",
           "3-MOCs and Projects/Projects/Writing/Post Ideas"
          ],
          [
           "Thinking not Doing will matter",
           "3-MOCs and Projects/Projects/Writing/Post Ideas"
          ],
          [
           "Snippets",
           "3-MOCs and Projects/Projects/Writing/Post Ideas"
          ],
          [
           "Give a good presentation",
           "3-MOCs and Projects/Projects/Writing/Post Ideas"
          ],
          [
           "Advice to my kids on finding a career",
           "3-MOCs and Projects/Projects/Writing/Post Ideas"
          ],
          [
           "iterating on my niche",
           "3-MOCs and Projects/Projects/Writing/Post Ideas"
          ],
          [
           "finding niche, compounding many small steps",
           "3-MOCs and Projects/Projects/Writing/Post Ideas"
          ],
          [
           "Why I Take Risk To Write On LinkedIn, Consumer to Producer",
           "3-MOCs and Projects/Projects/Writing/Post Ideas"
          ],
          [
           "my blueprint for being a part time creator as a full time software engineer",
           "3-MOCs and Projects/Projects/Writing/Post Ideas"
          ],
          [
           "my blueprint for being a part time creator as a full time software engineer",
           "3-MOCs and Projects/Projects/Writing/Post Ideas"
          ],
          [
           "my blueprint for being a part time creator as a full time software engineer",
           "3-MOCs and Projects/Projects/Writing/Post Ideas"
          ],
          [
           "my blueprint for being a part time creator as a full time software engineer",
           "3-MOCs and Projects/Projects/Writing/Post Ideas"
          ],
          [
           "Quitting vs Iterating - Finding Your Niche Ikigai",
           "3-MOCs and Projects/Projects/Writing/Post Ideas"
          ],
          [
           "C4 Model with PlantUML",
           "3-MOCs and Projects/Projects/Writing/Post Ideas"
          ],
          [
           "C4 Model with PlantUML",
           "3-MOCs and Projects/Projects/Writing/Post Ideas"
          ],
          [
           "Reflections after 3 months of creating",
           "3-MOCs and Projects/Projects/Writing/Post Ideas"
          ],
          [
           "Getting feedback as a leader",
           "3-MOCs and Projects/Projects/Writing/Post Ideas"
          ],
          [
           "Storyworthy Post Ideas",
           "3-MOCs and Projects/Projects/Writing/Post Ideas"
          ],
          [
           "Storyworthy Post Ideas",
           "3-MOCs and Projects/Projects/Writing/Post Ideas"
          ],
          [
           "Storyworthy Post Ideas",
           "3-MOCs and Projects/Projects/Writing/Post Ideas"
          ],
          [
           "Storyworthy Post Ideas",
           "3-MOCs and Projects/Projects/Writing/Post Ideas"
          ],
          [
           "Figma Excalidraw for engineers",
           "3-MOCs and Projects/Projects/Writing/Post Ideas"
          ],
          [
           "new creators should ignore welsh and koe",
           "3-MOCs and Projects/Projects/Writing/Post Ideas"
          ],
          [
           "Human Strengths",
           "3-MOCs and Projects/Projects/Writing/Post Ideas"
          ],
          [
           "Creators, offer value edu-tainment",
           "3-MOCs and Projects/Projects/Writing/Post Ideas"
          ],
          [
           "Consume the same content",
           "3-MOCs and Projects/Projects/Writing/Post Ideas"
          ],
          [
           "Ostrich head in sand",
           "3-MOCs and Projects/Projects/Writing/Post Ideas"
          ],
          [
           "Give People a Why",
           "3-MOCs and Projects/Projects/Writing/Post Ideas"
          ],
          [
           "find work you love without getting lucky",
           "3-MOCs and Projects/Projects/Writing/Post Ideas"
          ],
          [
           "Basic Prompt Writing",
           "3-MOCs and Projects/Projects/Writing/Post Ideas"
          ],
          [
           "Basic Prompt Writing",
           "3-MOCs and Projects/Projects/Writing/Post Ideas"
          ],
          [
           "Your outcome goals will probably fail so pick something fun",
           "3-MOCs and Projects/Projects/Writing/Post Ideas"
          ],
          [
           "Feynman Technique - Post",
           "3-MOCs and Projects/Projects/Writing/Post Ideas"
          ],
          [
           "Is prompt writing a better way to scale yourself as an engineer",
           "3-MOCs and Projects/Projects/Writing/Post Ideas"
          ],
          [
           "How to Love Your Job - Flow State",
           "3-MOCs and Projects/Projects/Writing/Post Ideas"
          ],
          [
           "depth vs breadth",
           "3-MOCs and Projects/Projects/Writing/Post Ideas"
          ],
          [
           "I meditated on Navals and heres what I see",
           "3-MOCs and Projects/Projects/Writing/Post Ideas"
          ],
          [
           "Why I Write - Post",
           "3-MOCs and Projects/Projects/Writing/Post Ideas"
          ],
          [
           "For the love vs money",
           "3-MOCs and Projects/Projects/Writing/Post Ideas"
          ],
          [
           "How to Be happy without getting lucky",
           "3-MOCs and Projects/Projects/Writing/Post Ideas"
          ],
          [
           "Repost To Do",
           "3-MOCs and Projects/Projects/Writing/Post Ideas"
          ],
          [
           "Mentors are the digital people you read",
           "3-MOCs and Projects/Projects/Writing/Post Ideas"
          ],
          [
           "Motivation",
           "3-MOCs and Projects/Projects/Writing/Post Ideas"
          ],
          [
           "AW - Landing Page",
           "3-MOCs and Projects/Projects/Writing/Post Ideas"
          ],
          [
           "How to Get the Most of Kagi and Why Ditch Google",
           "3-MOCs and Projects/Projects/Writing/Post Ideas"
          ],
          [
           "do what scares you, do what you fear",
           "3-MOCs and Projects/Projects/Writing/Post Ideas"
          ],
          [
           "how I read research papers",
           "3-MOCs and Projects/Projects/Writing/Post Ideas"
          ],
          [
           "Good Communication is Clear",
           "3-MOCs and Projects/Projects/Writing/Post Ideas"
          ],
          [
           "5 tactics for engineers to write clearer",
           "3-MOCs and Projects/Projects/Writing/Post Ideas"
          ],
          [
           "Principal Eng and CTO - Return on Invement ROI",
           "3-MOCs and Projects/Projects/Writing/Post Ideas"
          ],
          [
           "4 habits for career growth and enjoyment",
           "3-MOCs and Projects/Projects/Writing/Post Ideas"
          ],
          [
           "writing is the magic of remote work",
           "3-MOCs and Projects/Projects/Writing/Post Ideas"
          ],
          [
           "When should Staff Engineers code less",
           "3-MOCs and Projects/Projects/Writing/Post Ideas"
          ],
          [
           "When should Staff Engineers code less",
           "3-MOCs and Projects/Projects/Writing/Post Ideas"
          ],
          [
           "Obsidian Tips",
           "3-MOCs and Projects/Projects/Writing/Post Ideas"
          ],
          [
           "Obsidian Tips",
           "3-MOCs and Projects/Projects/Writing/Post Ideas"
          ],
          [
           "How to Have Clarity of Thought as a Staff Engineer",
           "3-MOCs and Projects/Projects/Writing/Post Ideas"
          ],
          [
           "How to be an influencer engineer",
           "3-MOCs and Projects/Projects/Writing/Post Ideas"
          ],
          [
           "Write Daily to Think Clearer",
           "3-MOCs and Projects/Projects/Writing/Post Ideas"
          ],
          [
           "Journal - LEAN Writing Observations, Social Platforms Lessons Learned",
           "3-MOCs and Projects/Projects/Writing/Craft"
          ],
          [
           "Journal - LEAN Writing Observations, Social Platforms Lessons Learned",
           "3-MOCs and Projects/Projects/Writing/Craft"
          ],
          [
           "Journal - LEAN Writing Observations, Social Platforms Lessons Learned",
           "3-MOCs and Projects/Projects/Writing/Craft"
          ],
          [
           "Journal - LEAN Writing Observations, Social Platforms Lessons Learned",
           "3-MOCs and Projects/Projects/Writing/Craft"
          ],
          [
           "Journal - LEAN Writing Observations, Social Platforms Lessons Learned",
           "3-MOCs and Projects/Projects/Writing/Craft"
          ],
          [
           "Journal - LEAN Writing Observations, Social Platforms Lessons Learned",
           "3-MOCs and Projects/Projects/Writing/Craft"
          ],
          [
           "Journal - LEAN Writing Observations, Social Platforms Lessons Learned",
           "3-MOCs and Projects/Projects/Writing/Craft"
          ],
          [
           "Inside Out 2",
           "3-MOCs and Projects/Projects/Writing/Published"
          ],
          [
           "Henrik how he made gpt in a nutshell",
           "3-MOCs and Projects/YouTube/Skill"
          ],
          [
           "Henrik how he made gpt in a nutshell",
           "3-MOCs and Projects/YouTube/Skill"
          ],
          [
           "Post - Jospeh Machado - Spark Shuffles",
           "4-Tech Notes/spark"
          ],
          [
           "WK - 25-02-01",
           "0-Current Focus"
          ],
          [
           "WK - 25-02-01",
           "0-Current Focus"
          ],
          [
           "Work Thoughts",
           "0-Current Focus"
          ],
          [
           "Content Pieces are Assets Make them Quality",
           "1-Notes"
          ],
          [
           "Just get started",
           "1-Notes"
          ],
          [
           "Complement to Encourage Behavior Change",
           "1-Notes"
          ],
          [
           "ideas not original, give credit",
           "1-Notes"
          ],
          [
           "do hard things",
           "1-Notes"
          ],
          [
           "Getting started - start small - writing",
           "1-Notes"
          ],
          [
           "Give away for free to get attention",
           "1-Notes"
          ],
          [
           "Humanity is Hive Mind",
           "1-Notes"
          ],
          [
           "Formlessness Routine",
           "1-Notes"
          ],
          [
           "Business vs Hobby",
           "1-Notes"
          ],
          [
           "Revisit the Good Reads",
           "1-Notes"
          ],
          [
           "Most Ideas Suck, just return to the good ones",
           "1-Notes"
          ],
          [
           "niche - find a problem you like and solve it",
           "1-Notes"
          ],
          [
           "My Writing Process",
           "1-Notes"
          ],
          [
           "My Writing Process",
           "1-Notes"
          ],
          [
           "My Writing Process",
           "1-Notes"
          ],
          [
           "My Writing Process",
           "1-Notes"
          ],
          [
           "Don't Build Something New, Unless Different",
           "1-Notes"
          ],
          [
           "Two Brains, Two Personas",
           "1-Notes"
          ],
          [
           "Thoughts as Novel Creativity, Insight",
           "1-Notes"
          ],
          [
           "Active, Just-in-time, intentional learning",
           "1-Notes"
          ],
          [
           "Active, Just-in-time, intentional learning",
           "1-Notes"
          ],
          [
           "Listen - Do - Share Flywheel",
           "1-Notes"
          ],
          [
           "MOC - Advice on Finding Your Niche Special Knowledge",
           "1-Notes"
          ],
          [
           "MOC - Advice on Finding Your Niche Special Knowledge",
           "1-Notes"
          ],
          [
           "Seek Feedback to Learn",
           "1-Notes"
          ],
          [
           "A Business Solves a Problem",
           "1-Notes"
          ],
          [
           "When Start Writing, Dont Niche First",
           "1-Notes"
          ],
          [
           "Awareness - bees only know they are bees",
           "1-Notes"
          ],
          [
           "Build More - Be Curious, Take Action - Ask questions, Solve problems",
           "1-Notes"
          ],
          [
           "Build More - Be Curious, Take Action - Ask questions, Solve problems",
           "1-Notes"
          ],
          [
           "Build More - Be Curious, Take Action - Ask questions, Solve problems",
           "1-Notes"
          ],
          [
           "Build More - Be Curious, Take Action - Ask questions, Solve problems",
           "1-Notes"
          ],
          [
           "plan less, experiment more - take action, do things",
           "1-Notes"
          ],
          [
           "plan less, experiment more - take action, do things",
           "1-Notes"
          ],
          [
           "Inclusive to the Core",
           "1-Notes"
          ],
          [
           "whats the core question",
           "1-Notes"
          ],
          [
           "Tools And Technique",
           "1-Notes"
          ],
          [
           "Tools And Technique",
           "1-Notes"
          ],
          [
           "focus by commitment",
           "1-Notes"
          ],
          [
           "startup validation",
           "1-Notes"
          ],
          [
           "Extroverted effort on Introverts making friends",
           "1-Notes"
          ],
          [
           "Levels of Life",
           "1-Notes"
          ],
          [
           "30 Day Experiments",
           "1-Notes"
          ],
          [
           "Use a community to find your niche audience now",
           "1-Notes"
          ],
          [
           "Non-Verbal Cues, Sub Conscious, Unconscious",
           "1-Notes"
          ],
          [
           "Vulnerable without oversharing",
           "1-Notes"
          ],
          [
           "online communites are the digital silicon valley - reddit community analyzer",
           "1-Notes"
          ],
          [
           "Patience - Reality Check - Ideas Ahead of Skills",
           "1-Notes"
          ],
          [
           "Character Predicts Future",
           "1-Notes"
          ],
          [
           "Being more vulnerable at work to make connections",
           "1-Notes"
          ],
          [
           "Writing Is Thinking",
           "1-Notes"
          ],
          [
           "Opportunity can't be forced",
           "1-Notes"
          ],
          [
           "People Project and See Their Shortcomings and Fears on Others",
           "1-Notes"
          ],
          [
           "Have Rejection Goals",
           "1-Notes"
          ],
          [
           "Treat People how you want, don't berate for change",
           "1-Notes"
          ],
          [
           "Marginal Improvements - Kaizen",
           "1-Notes"
          ],
          [
           "good government assumes you are responsible",
           "1-Notes"
          ],
          [
           "Be a good listener",
           "1-Notes"
          ],
          [
           "Finding Niche - take forward steps",
           "1-Notes"
          ],
          [
           "Be Uniquely You, Niche, Specific Knowledge",
           "1-Notes"
          ],
          [
           "Business and Sales solve problems",
           "1-Notes"
          ],
          [
           "Two things for your Ikigai",
           "1-Notes"
          ],
          [
           "Learning - number one most important rule for my kids",
           "1-Notes"
          ],
          [
           "Writing - same path as comedy",
           "1-Notes"
          ],
          [
           "Lean into resistance",
           "1-Notes"
          ],
          [
           "SEO - Introduction",
           "1-Notes"
          ],
          [
           "Pain is Knowledge Filling a Void",
           "1-Notes"
          ],
          [
           "Reddit and Communities for Feedback",
           "1-Notes"
          ],
          [
           "Writing as LLM Abstraction - writing new programmers",
           "1-Notes"
          ],
          [
           "Giving a Good Talk Speech",
           "1-Notes"
          ],
          [
           "Good Interviewers Pull on Threads",
           "1-Notes"
          ],
          [
           "Daryl Davis Way",
           "1-Notes"
          ],
          [
           "Talent is bullshit, it’s called practice",
           "1-Notes"
          ],
          [
           "100 days of open source idea",
           "1-Notes"
          ],
          [
           "100 days of open source idea",
           "1-Notes"
          ],
          [
           "100 days of open source idea",
           "1-Notes"
          ],
          [
           "100 days of open source idea",
           "1-Notes"
          ],
          [
           "100 days of open source idea",
           "1-Notes"
          ],
          [
           "100 days of open source idea",
           "1-Notes"
          ],
          [
           "100 days of open source idea",
           "1-Notes"
          ],
          [
           "100 days of open source idea",
           "1-Notes"
          ],
          [
           "100 days of open source idea",
           "1-Notes"
          ],
          [
           "100 days of open source idea",
           "1-Notes"
          ],
          [
           "100 days of open source idea",
           "1-Notes"
          ],
          [
           "100 days of open source idea",
           "1-Notes"
          ],
          [
           "100 days of open source idea",
           "1-Notes"
          ],
          [
           "Short Projects, Focused Learning",
           "1-Notes"
          ],
          [
           "Be Clear on Expectations",
           "1-Notes"
          ],
          [
           "Be Clear on Expectations",
           "1-Notes"
          ],
          [
           "Hook - present a problem they care about",
           "1-Notes"
          ],
          [
           "Summarizing is thinking clearly",
           "1-Notes"
          ],
          [
           "Engage with your fans and other creators, engagement most important",
           "1-Notes"
          ],
          [
           "Organic Problems - follow your interests, curiosity",
           "1-Notes"
          ],
          [
           "Assume Positive intent when you won't ever know for sure",
           "1-Notes"
          ],
          [
           "Everything is a List - Writing, Talks, Messages",
           "1-Notes"
          ],
          [
           "DDIA Book Notes Post",
           "1-Notes"
          ],
          [
           "Unfair to Judge Person Until Meet Them",
           "1-Notes"
          ],
          [
           "Advice to New Creators",
           "1-Notes"
          ],
          [
           "MOC - Exploring My Niche, Ikigai, Specific Knowledge, Category",
           "1-Notes"
          ],
          [
           "Good Manager Makes you feel special",
           "1-Notes"
          ],
          [
           "Types of Writing",
           "1-Notes"
          ],
          [
           "Positive surveys are tips for customer service folks",
           "1-Notes"
          ],
          [
           "MOC - Learn in Public - Part Time Creator",
           "1-Notes"
          ],
          [
           "MOC - Learn in Public - Part Time Creator",
           "1-Notes"
          ],
          [
           "Give away Value to get sign ups",
           "1-Notes"
          ],
          [
           "Writing - Solve a Problem",
           "1-Notes"
          ],
          [
           "Work in public",
           "1-Notes"
          ],
          [
           "Career Growth - Learn and Relationships",
           "1-Notes"
          ]
         ],
         "hovertemplate": "color=24<br>x=%{x}<br>y=%{y}<br>note_title=%{customdata[0]}<br>folder=%{customdata[1]}<extra></extra>",
         "legendgroup": "24",
         "marker": {
          "color": "#FFA15A",
          "symbol": "circle"
         },
         "mode": "markers",
         "name": "24",
         "showlegend": true,
         "type": "scattergl",
         "x": [
          2.2047052,
          2.5639193,
          2.788266,
          1.8733393,
          5.619624,
          5.601663,
          4.3133755,
          3.6806026,
          3.6615033,
          3.8617916,
          3.8891907,
          2.5350015,
          2.8124342,
          0.21720648,
          2.3802376,
          3.0255477,
          3.1023989,
          3.399859,
          2.4263785,
          2.364796,
          3.5300229,
          3.5077715,
          3.7969177,
          3.7608855,
          1.9120488,
          3.942032,
          3.2635891,
          3.2538652,
          2.8112001,
          2.8798206,
          2.8381891,
          2.8245656,
          2.4934185,
          3.3221016,
          3.403195,
          3.2064652,
          3.145526,
          2.9241264,
          3.246257,
          3.240638,
          -1.8654093,
          2.4951751,
          5.591348,
          3.6528378,
          3.847902,
          2.5799313,
          2.866751,
          0.18343665,
          3.0554128,
          3.39877,
          3.784071,
          3.7465575,
          3.966038,
          3.2358882,
          2.8067708,
          2.7733533,
          3.3149877,
          2.4098554,
          -1.9764087,
          2.6709216,
          2.9252944,
          1.5334002,
          3.111649,
          3.001431,
          3.4832835,
          5.75257,
          2.2151084,
          1.6905524,
          3.4875333,
          3.5405464,
          3.4750707,
          2.4922342,
          3.435231,
          4.1555076,
          2.2646081,
          4.003838,
          2.717515,
          4.3999615,
          3.032842,
          0.3203788,
          3.0889304,
          3.1433592,
          3.0605955,
          3.0840907,
          3.0594072,
          2.8934906,
          3.5539684,
          3.0491161,
          4.04767,
          4.296652,
          3.3999841,
          4.0490046,
          4.0459323,
          3.9669716,
          4.829162,
          3.636054,
          3.639377,
          3.1661124,
          3.5469267,
          4.2762146,
          4.4642453,
          4.4975867,
          4.4448743,
          4.490153,
          4.439476,
          4.4453235,
          4.4758058,
          4.411421,
          4.325656,
          4.3728456,
          4.4259615,
          4.457159,
          4.932093,
          4.536486,
          3.5962384,
          3.6391473,
          3.5852284,
          3.6619358,
          3.6255226,
          3.647152,
          3.645428,
          3.581754,
          4.4683414,
          4.568707,
          5.0398088,
          4.1167455,
          4.75566,
          3.2770238,
          3.1216142,
          3.1996174,
          2.629059,
          3.2832568,
          6.727404,
          6.7540817,
          6.7480416,
          6.6971097,
          6.7161827,
          6.7596946,
          6.8167944,
          6.7790284,
          6.698605,
          6.7362976,
          6.687492,
          6.65209,
          6.687033,
          6.718748,
          5.5938277,
          5.7309794,
          5.722613,
          5.740858,
          5.7377977,
          6.7158227,
          6.7391815,
          6.731345,
          6.7326446,
          6.76615,
          6.742352,
          6.775363,
          6.720369,
          6.714229,
          6.6852055,
          6.686321,
          6.668799,
          6.6960893,
          -1.170822,
          1.9384038,
          3.4149804,
          4.487005,
          1.3799052,
          1.6681192,
          4.8013906,
          2.2010055,
          4.0695868,
          4.1035385,
          2.5556922,
          1.7504567,
          1.417914,
          3.1969788,
          1.3895115,
          4.4878554,
          0.72462934,
          1.6829284,
          2.4650686,
          1.5861194,
          1.1745534,
          0.4680399,
          2.4597805,
          1.970814,
          1.4246595,
          1.435909,
          5.0310516,
          2.3981574,
          3.0520914,
          2.6292071,
          4.6274657,
          2.819578,
          2.5110955,
          2.5157273,
          2.544588,
          3.0905774,
          2.1510897,
          1.9806954,
          2.490188,
          2.5361307,
          5.1977973,
          5.262776,
          5.273981,
          5.169594,
          0.5530724,
          2.8847282,
          -0.025418883,
          1.0845115,
          2.1760914,
          1.4143484,
          1.7674562,
          2.705083,
          0.5773205,
          0.56016415,
          3.0560937,
          3.7854292,
          0.56470835,
          2.7284448,
          1.596623,
          2.5610282,
          4.5917654,
          2.6360557,
          2.389293,
          1.407536,
          1.4541489,
          1.543255,
          0.9697589,
          1.4070423,
          4.447524,
          3.185048,
          0.8286033,
          0.60610896,
          0.3033326,
          2.468766,
          0.7572961,
          0.4100614,
          0.40487105,
          4.0204706,
          3.828652,
          0.64999354,
          2.58459,
          1.4997631,
          4.983339,
          4.94287,
          4.943363,
          4.969479,
          4.9692636,
          4.972386,
          4.9682627,
          1.574881,
          -1.772369,
          -1.79073,
          2.339249,
          2.766881,
          2.8377917,
          2.2809827,
          4.450469,
          2.1350615,
          1.4505386,
          1.850841,
          2.268471,
          1.6776812,
          4.4534125,
          -0.3410333,
          0.6349965,
          2.6013358,
          2.4648263,
          1.8407764,
          3.292667,
          3.148514,
          3.181184,
          3.3169127,
          3.1790462,
          1.8756372,
          4.08823,
          1.7006878,
          2.6530564,
          2.690924,
          2.1241734,
          3.2426589,
          3.2446392,
          2.6586318,
          2.7072246,
          3.333527,
          -0.316435,
          2.373083,
          2.2714803,
          2.3359294,
          2.4038296,
          2.284218,
          2.2131472,
          2.3138273,
          2.128748,
          0.22460337,
          0.27513233,
          2.4628406,
          1.7454922,
          2.3867803,
          4.7190733,
          2.0932233,
          3.4748363,
          3.2473276,
          5.001618,
          3.502087,
          2.0505111,
          2.5547626,
          5.124284,
          1.5127611,
          2.0622237,
          1.4279574,
          2.3588462,
          1.412146,
          2.2666864,
          1.7878659,
          4.6542177,
          2.9384637,
          3.2184029,
          2.6193004,
          3.0553875,
          -1.5369588,
          1.6183908,
          3.6998703,
          3.6727555,
          1.9907223,
          3.483429,
          0.60251236,
          5.1513805,
          4.6204762,
          1.4227691,
          2.2561748,
          5.065325,
          5.060686,
          5.0649567,
          5.0655637,
          5.038307,
          5.0628242,
          5.086309,
          5.105867,
          5.0885577,
          5.1041193,
          5.115348,
          5.0605893,
          5.111242,
          2.8426971,
          2.5050375,
          2.4526396,
          2.597205,
          1.1620882,
          2.0264935,
          2.4886544,
          1.4401236,
          1.8409826,
          1.7850432,
          1.4422892,
          1.2295867,
          3.1312191,
          1.5470699,
          3.2195606,
          1.4726169,
          2.638188,
          2.5441363,
          4.485442,
          3.378842,
          2.6610377,
          2.5547888
         ],
         "xaxis": "x",
         "y": [
          3.8164747,
          3.252934,
          2.2119017,
          4.945519,
          1.4591819,
          1.4123433,
          3.0237167,
          3.7216964,
          3.7009363,
          3.9398766,
          4.00716,
          3.637441,
          3.4530284,
          9.037786,
          2.9283373,
          3.553894,
          3.5620909,
          2.5047371,
          3.3222592,
          1.7062148,
          3.7597568,
          3.752547,
          4.273234,
          4.310717,
          2.7430618,
          5.4836826,
          3.3210518,
          3.3436215,
          3.6166646,
          3.7787158,
          3.0219476,
          2.7985716,
          3.6103313,
          3.3599317,
          5.200115,
          5.103271,
          5.1007867,
          4.3340077,
          4.1461253,
          5.094268,
          5.246051,
          1.9051719,
          1.4244998,
          3.7227206,
          4.044003,
          3.6866899,
          3.4978442,
          9.063315,
          3.5021477,
          2.3775766,
          4.2916937,
          4.283447,
          5.506292,
          3.2878203,
          3.6001673,
          3.6676748,
          3.446079,
          3.4846787,
          3.8879197,
          4.220909,
          3.2635612,
          4.9053044,
          4.4722886,
          3.6787143,
          2.9706776,
          1.6109946,
          4.0345225,
          2.7363455,
          2.294777,
          2.289512,
          2.3001366,
          3.9009993,
          3.8197832,
          5.923187,
          3.9853418,
          3.566439,
          4.110255,
          4.024778,
          4.6144767,
          4.8705564,
          4.6618133,
          4.6228485,
          4.711467,
          4.692505,
          4.669995,
          4.1689453,
          4.8087363,
          5.0720525,
          3.6391513,
          3.4599807,
          2.3575356,
          3.3276322,
          3.340347,
          3.5727715,
          3.7337763,
          2.4176645,
          3.799327,
          4.091928,
          3.867131,
          1.970115,
          3.7874653,
          3.7767928,
          3.7893987,
          3.8150012,
          3.7542431,
          3.7868116,
          3.829868,
          3.8265111,
          3.7849813,
          3.8729732,
          3.85992,
          3.850201,
          3.1376557,
          3.7000906,
          2.0954916,
          2.084543,
          2.119465,
          2.0844235,
          2.0617845,
          2.0657282,
          2.0632586,
          2.091849,
          3.8117368,
          3.73699,
          3.8598187,
          4.043337,
          3.9462762,
          2.1448941,
          5.0762644,
          5.0597634,
          4.0452895,
          2.2315621,
          1.0266178,
          1.0277833,
          1.0205821,
          1.0953759,
          1.0711551,
          1.0629781,
          0.9893113,
          1.0902423,
          1.0675406,
          1.0873376,
          1.1223152,
          1.1625407,
          1.1287016,
          1.0364122,
          1.5582813,
          1.61958,
          1.5856061,
          1.5927076,
          1.6204054,
          1.0137246,
          1.0445299,
          1.0530937,
          1.0365635,
          1.0338837,
          1.060373,
          1.0736114,
          1.0704123,
          1.1052488,
          1.1227599,
          1.1312997,
          1.1550511,
          1.0593959,
          15.8541,
          6.0927067,
          2.3939884,
          2.0753763,
          2.6082582,
          5.3419237,
          1.1944883,
          5.130752,
          5.2618475,
          5.288952,
          2.2122402,
          5.479275,
          4.996715,
          2.2942436,
          5.166756,
          2.7124329,
          4.7737803,
          4.562642,
          2.8542266,
          4.7520857,
          5.500257,
          5.0151024,
          2.2888153,
          0.92452383,
          4.54192,
          4.8026404,
          1.7830042,
          3.6121337,
          2.3572114,
          3.2200656,
          2.7806787,
          2.5480318,
          3.0224926,
          2.9658453,
          2.9056432,
          2.3365073,
          5.221393,
          5.142692,
          2.589021,
          4.062018,
          1.7167028,
          1.6284112,
          1.664269,
          1.7414479,
          5.2879047,
          2.5422325,
          6.555466,
          5.857935,
          4.3884735,
          5.7093887,
          4.2844954,
          2.6816528,
          5.279231,
          5.2757654,
          2.4549909,
          4.277245,
          5.158047,
          2.8984976,
          5.5398164,
          2.486055,
          2.7270868,
          2.753396,
          2.0778654,
          4.771752,
          4.9592137,
          5.07567,
          6.5492797,
          5.5984125,
          2.6721027,
          4.3094068,
          4.965295,
          4.939008,
          5.8421183,
          3.7189078,
          4.299272,
          4.924619,
          4.910165,
          6.223871,
          6.050329,
          4.8680687,
          2.3771424,
          4.3961396,
          2.982056,
          2.9780285,
          2.9755414,
          3.0043006,
          2.989812,
          2.99069,
          2.98959,
          5.2125773,
          4.541626,
          4.523,
          5.787477,
          5.8340836,
          5.797719,
          5.8712645,
          3.215764,
          4.0552855,
          3.4361722,
          5.025334,
          3.9344318,
          4.5837684,
          3.9644005,
          7.486095,
          1.8092985,
          2.8068345,
          4.1942964,
          5.2083607,
          2.31521,
          4.248227,
          4.2436624,
          4.177689,
          4.2240934,
          5.1078086,
          5.311267,
          5.2856803,
          3.3117309,
          3.5538597,
          3.7570136,
          2.2407625,
          2.2278106,
          3.9595613,
          3.1937068,
          2.2341723,
          7.494173,
          3.4296048,
          3.379148,
          3.4842935,
          3.4050577,
          3.5986214,
          3.830135,
          4.88688,
          4.5596523,
          6.741487,
          6.6763043,
          5.1597013,
          5.7464576,
          3.9195507,
          3.8289902,
          4.0728874,
          2.6420946,
          4.645045,
          1.9563847,
          2.989643,
          4.036389,
          3.8826146,
          1.8554738,
          4.5824814,
          4.5094886,
          3.6133738,
          4.1753917,
          3.618933,
          3.5527167,
          4.6594267,
          1.1933308,
          2.6107125,
          2.1857617,
          3.0288014,
          2.2524543,
          2.1936789,
          4.6153946,
          2.2998252,
          3.7501235,
          3.4623356,
          2.9480705,
          5.1955023,
          1.6996198,
          1.2792033,
          3.6602852,
          3.7203097,
          7.8647184,
          7.8627725,
          7.867313,
          7.8678856,
          7.8421154,
          7.8630757,
          7.887661,
          7.9105425,
          7.8899183,
          7.905059,
          7.9169345,
          7.861714,
          7.910935,
          2.9054067,
          4.263792,
          4.2288194,
          3.3578894,
          7.0397577,
          4.1092224,
          3.3049207,
          3.695114,
          4.982194,
          5.5906634,
          3.6566117,
          5.3597813,
          2.2260764,
          3.4880583,
          4.468772,
          3.6806242,
          3.0363343,
          2.9659417,
          3.9983113,
          3.7296088,
          2.995418,
          3.7762969
         ],
         "yaxis": "y"
        },
        {
         "customdata": [
          [
           "Post - RAG with LangChain",
           "0-Inbox"
          ],
          [
           "Notes - How to train LLM on my Data",
           "2-Reference"
          ],
          [
           "MOC - Reasoning and deep seek",
           "2-Reference/Research"
          ],
          [
           "Moment - Family of open source time-series foundation models - mononito",
           "2-Reference/Research"
          ],
          [
           "MiniPile Challenge for Data-Efficient Language Models",
           "2-Reference/Research"
          ],
          [
           "Mixture of experts - MoE",
           "2-Reference/Research"
          ],
          [
           "Large Language Models, Explained With a Minimum of Math and Jargon",
           "2-Reference/Readwise/Articles"
          ],
          [
           "Large Language Models, Explained With a Minimum of Math and Jargon",
           "2-Reference/Readwise/Articles"
          ],
          [
           "Snats Website",
           "2-Reference/Readwise/Articles"
          ],
          [
           "How I Think About LLM Prompt Engineering",
           "2-Reference/Readwise/Articles"
          ],
          [
           "How Has DeepSeek Improved the Transformer Architecture",
           "2-Reference/Readwise/Articles"
          ],
          [
           "How Has DeepSeek Improved the Transformer Architecture",
           "2-Reference/Readwise/Articles"
          ],
          [
           "LlamaFactory Unified Efficient Fine-Tuning of 100+ Language Models",
           "2-Reference/Readwise/Articles"
          ],
          [
           "LlamaFactory Unified Efficient Fine-Tuning of 100+ Language Models",
           "2-Reference/Readwise/Articles"
          ],
          [
           "Large Concept Models Language Modeling in a Sentence Representation Space  Research - AI at Meta",
           "2-Reference/Readwise/Articles"
          ],
          [
           "Large Concept Models Language Modeling in a Sentence Representation Space  Research - AI at Meta",
           "2-Reference/Readwise/Articles"
          ],
          [
           "3 blue 1 brown linear algebra videos",
           "2-Reference/Video"
          ],
          [
           "Generative AI in a Nutshell",
           "2-Reference/Video"
          ],
          [
           "3 blue 1 brown - neural networks",
           "2-Reference/Video"
          ],
          [
           "3 blue 1 brown - neural networks",
           "2-Reference/Video"
          ],
          [
           "Claude - Feature Engineering",
           "2-Reference/AI Conversations"
          ],
          [
           "Claude - Feature Engineering",
           "2-Reference/AI Conversations"
          ],
          [
           "Claude - Feature Engineering",
           "2-Reference/AI Conversations"
          ],
          [
           "Claude - Feature Engineering",
           "2-Reference/AI Conversations"
          ],
          [
           "2024-10 - gpt - content plan and focus",
           "2-Reference/AI Conversations"
          ],
          [
           "Large language models, explained with a minimum of math and jargon",
           "2-Reference/Instapaper"
          ],
          [
           "snats website",
           "2-Reference/Instapaper"
          ],
          [
           "Text2SQL is Not Enough Unifying AI and Databases with TAG",
           "2-Reference/Instapaper"
          ],
          [
           "Large Concept Models Language Modeling in a Sentence Representation Space  Research - AI at Meta",
           "2-Reference/Instapaper"
          ],
          [
           "math for machine learning",
           "2-Reference/Articles"
          ],
          [
           "A few useful things to know about ML",
           "2-Reference/Articles"
          ],
          [
           "A few useful things to know about ML",
           "2-Reference/Articles"
          ],
          [
           "A few useful things to know about ML",
           "2-Reference/Articles"
          ],
          [
           "A few useful things to know about ML",
           "2-Reference/Articles"
          ],
          [
           "A few useful things to know about ML",
           "2-Reference/Articles"
          ],
          [
           "A few useful things to know about ML",
           "2-Reference/Articles"
          ],
          [
           "Search 2024-04 - Adapting to AI as a Data Engineer (DE)",
           "2-Reference/Articles"
          ],
          [
           "LLMs from Scratch Book",
           "2-Reference/Books"
          ],
          [
           "LLMs from Scratch Book",
           "2-Reference/Books"
          ],
          [
           "LLMs from Scratch Book",
           "2-Reference/Books"
          ],
          [
           "LLMs from Scratch Book",
           "2-Reference/Books"
          ],
          [
           "LLMs from Scratch Book",
           "2-Reference/Books"
          ],
          [
           "LLMs from Scratch Book",
           "2-Reference/Books"
          ],
          [
           "LLMs from Scratch Book",
           "2-Reference/Books"
          ],
          [
           "LLMs from Scratch Book",
           "2-Reference/Books"
          ],
          [
           "LLMs from Scratch Book",
           "2-Reference/Books"
          ],
          [
           "StatQuest - Machine Learning",
           "2-Reference/Books"
          ],
          [
           "StatQuest - Machine Learning",
           "2-Reference/Books"
          ],
          [
           "LangChain for LLM Applications",
           "2-Reference/Courses"
          ],
          [
           "MAMBA and universal approximation theorem",
           "2-Reference/Conversations"
          ],
          [
           "Reasoning in LLMs - DeepSeek, R1",
           "2-Reference/Conversations"
          ],
          [
           "Reasoning in LLMs - DeepSeek, R1",
           "2-Reference/Conversations"
          ],
          [
           "deep-learning github daily blog",
           "3-MOCs and Projects"
          ],
          [
           "deep-learning github daily blog",
           "3-MOCs and Projects"
          ],
          [
           "deep-learning github daily blog",
           "3-MOCs and Projects"
          ],
          [
           "deep-learning github daily blog",
           "3-MOCs and Projects"
          ],
          [
           "deep-learning github daily blog",
           "3-MOCs and Projects"
          ],
          [
           "Distributed LLM Training as a Service",
           "3-MOCs and Projects/Projects/Product Ideas"
          ],
          [
           "ETL with LLMs for Second Brain Users - parsing a daily note",
           "3-MOCs and Projects/Projects/Writing/Post Ideas"
          ],
          [
           "Post - TLDR how to read a spark query plan",
           "3-MOCs and Projects/Projects/Writing/Post Ideas"
          ],
          [
           "Data Quality Pyramid",
           "3-MOCs and Projects/Projects/Writing/Post Ideas"
          ],
          [
           "Data Quality Pyramid",
           "3-MOCs and Projects/Projects/Writing/Post Ideas"
          ],
          [
           "Data Quality Pyramid",
           "3-MOCs and Projects/Projects/Writing/Post Ideas"
          ],
          [
           "Data Quality Pyramid",
           "3-MOCs and Projects/Projects/Writing/Post Ideas"
          ],
          [
           "Data Quality Pyramid",
           "3-MOCs and Projects/Projects/Writing/Post Ideas"
          ],
          [
           "Data Quality Pyramid",
           "3-MOCs and Projects/Projects/Writing/Post Ideas"
          ],
          [
           "Data Quality Pyramid",
           "3-MOCs and Projects/Projects/Writing/Post Ideas"
          ],
          [
           "Data Quality Pyramid",
           "3-MOCs and Projects/Projects/Writing/Post Ideas"
          ],
          [
           "I trained a local LLM on 7 months of my notes, here's what I learned",
           "3-MOCs and Projects/Projects/Writing/Published"
          ],
          [
           "Iceberg has ACID Transactions A Quick Guide to What that Means",
           "3-MOCs and Projects/Projects/Writing/Published"
          ],
          [
           "Basics of Gen AI Post",
           "3-MOCs and Projects/Projects/Writing/Published"
          ],
          [
           "YT - Big Picture Map of Ai LLMs Transformers",
           "3-MOCs and Projects/YouTube/Done"
          ],
          [
           "YT - Big Picture Map of Ai LLMs Transformers",
           "3-MOCs and Projects/YouTube/Done"
          ],
          [
           "YT - Big Picture Map of Ai LLMs Transformers",
           "3-MOCs and Projects/YouTube/Done"
          ],
          [
           "YT - Big Picture Map of Ai LLMs Transformers",
           "3-MOCs and Projects/YouTube/Done"
          ],
          [
           "YT - Big Picture Map of Ai LLMs Transformers",
           "3-MOCs and Projects/YouTube/Done"
          ],
          [
           "YT - Big Picture Map of Ai LLMs Transformers",
           "3-MOCs and Projects/YouTube/Done"
          ],
          [
           "YT - Big Picture Map of Ai LLMs Transformers",
           "3-MOCs and Projects/YouTube/Done"
          ],
          [
           "YT - Big Picture Map of Ai LLMs Transformers",
           "3-MOCs and Projects/YouTube/Done"
          ],
          [
           "YT - Big Picture Map of Ai LLMs Transformers",
           "3-MOCs and Projects/YouTube/Done"
          ],
          [
           "YT - Big Picture Map of Ai LLMs Transformers",
           "3-MOCs and Projects/YouTube/Done"
          ],
          [
           "YT - Big Picture Map of Ai LLMs Transformers",
           "3-MOCs and Projects/YouTube/Done"
          ],
          [
           "YT - Big Picture Map of Ai LLMs Transformers",
           "3-MOCs and Projects/YouTube/Done"
          ],
          [
           "YT - Big Picture Map of Ai LLMs Transformers",
           "3-MOCs and Projects/YouTube/Done"
          ],
          [
           "YT - Big Picture Map of Ai LLMs Transformers",
           "3-MOCs and Projects/YouTube/Done"
          ],
          [
           "YT - Big Picture Map of Ai LLMs Transformers",
           "3-MOCs and Projects/YouTube/Done"
          ],
          [
           "YT - A Few Useful Things to Know about Machine Learning ML",
           "3-MOCs and Projects/YouTube/Done"
          ],
          [
           "YT - A Few Useful Things to Know about Machine Learning ML",
           "3-MOCs and Projects/YouTube/Done"
          ],
          [
           "YT - A Few Useful Things to Know about Machine Learning ML",
           "3-MOCs and Projects/YouTube/Done"
          ],
          [
           "Big Picture Map - Part 1",
           "3-MOCs and Projects/YouTube/Done"
          ],
          [
           "Big Picture Map - Part 1",
           "3-MOCs and Projects/YouTube/Done"
          ],
          [
           "Big Picture Map - Part 1",
           "3-MOCs and Projects/YouTube/Done"
          ],
          [
           "Big Picture Map - Part 1",
           "3-MOCs and Projects/YouTube/Done"
          ],
          [
           "Big Picture Map - Part 1",
           "3-MOCs and Projects/YouTube/Done"
          ],
          [
           "Big Picture Map - Part 1",
           "3-MOCs and Projects/YouTube/Done"
          ],
          [
           "Big Picture Map - Part 1",
           "3-MOCs and Projects/YouTube/Done"
          ],
          [
           "YT - how to learn data engineering in 2025",
           "3-MOCs and Projects/YouTube/Done"
          ],
          [
           "YT - how to learn data engineering in 2025",
           "3-MOCs and Projects/YouTube/Done"
          ],
          [
           "YT - how to learn data engineering in 2025",
           "3-MOCs and Projects/YouTube/Done"
          ],
          [
           "YT - how to learn data engineering in 2025",
           "3-MOCs and Projects/YouTube/Done"
          ],
          [
           "YT - how to learn data engineering in 2025",
           "3-MOCs and Projects/YouTube/Done"
          ],
          [
           "YT - how to learn data engineering in 2025",
           "3-MOCs and Projects/YouTube/Done"
          ],
          [
           "YT - how to learn data engineering in 2025",
           "3-MOCs and Projects/YouTube/Done"
          ],
          [
           "YT - how to learn data engineering in 2025",
           "3-MOCs and Projects/YouTube/Done"
          ],
          [
           "YT - Understanding High Dimensional Spaces and Embeddings with Context",
           "3-MOCs and Projects/YouTube/Done"
          ],
          [
           "YT - Understanding High Dimensional Spaces and Embeddings with Context",
           "3-MOCs and Projects/YouTube/Done"
          ],
          [
           "YT - Understanding High Dimensional Spaces and Embeddings with Context",
           "3-MOCs and Projects/YouTube/Done"
          ],
          [
           "YT - Understanding High Dimensional Spaces and Embeddings with Context",
           "3-MOCs and Projects/YouTube/Done"
          ],
          [
           "YT - Understanding High Dimensional Spaces and Embeddings with Context",
           "3-MOCs and Projects/YouTube/Done"
          ],
          [
           "YT - Understanding High Dimensional Spaces and Embeddings with Context",
           "3-MOCs and Projects/YouTube/Done"
          ],
          [
           "YT - Understanding High Dimensional Spaces and Embeddings with Context",
           "3-MOCs and Projects/YouTube/Done"
          ],
          [
           "YT - Understanding High Dimensional Spaces and Embeddings with Context",
           "3-MOCs and Projects/YouTube/Done"
          ],
          [
           "YT - Understanding High Dimensional Spaces and Embeddings with Context",
           "3-MOCs and Projects/YouTube/Done"
          ],
          [
           "YT - Understanding High Dimensional Spaces and Embeddings with Context",
           "3-MOCs and Projects/YouTube/Done"
          ],
          [
           "YT - Understanding High Dimensional Spaces and Embeddings with Context",
           "3-MOCs and Projects/YouTube/Done"
          ],
          [
           "YT - Self-Attention Mechanisms Basic",
           "3-MOCs and Projects/YouTube/Done"
          ],
          [
           "YT - Self-Attention Mechanisms Basic",
           "3-MOCs and Projects/YouTube/Done"
          ],
          [
           "YT - Self-Attention Mechanisms Basic",
           "3-MOCs and Projects/YouTube/Done"
          ],
          [
           "YT - Self-Attention Mechanisms Basic",
           "3-MOCs and Projects/YouTube/Done"
          ],
          [
           "YT - Self-Attention Mechanisms Basic",
           "3-MOCs and Projects/YouTube/Done"
          ],
          [
           "YT - Self-Attention Mechanisms Basic",
           "3-MOCs and Projects/YouTube/Done"
          ],
          [
           "YT - Self-Attention Mechanisms Basic",
           "3-MOCs and Projects/YouTube/Done"
          ],
          [
           "YT - Self-Attention Mechanisms Basic",
           "3-MOCs and Projects/YouTube/Done"
          ],
          [
           "YT - Self-Attention Mechanisms Basic",
           "3-MOCs and Projects/YouTube/Done"
          ],
          [
           "YT - Self-Attention Mechanisms Basic",
           "3-MOCs and Projects/YouTube/Done"
          ],
          [
           "YT - Self-Attention Mechanisms Basic",
           "3-MOCs and Projects/YouTube/Done"
          ],
          [
           "Big Picture Map - Part 2",
           "3-MOCs and Projects/YouTube/Done"
          ],
          [
           "Big Picture Map - Part 2",
           "3-MOCs and Projects/YouTube/Done"
          ],
          [
           "Big Picture Map - Part 2",
           "3-MOCs and Projects/YouTube/Done"
          ],
          [
           "Big Picture Map - Part 2",
           "3-MOCs and Projects/YouTube/Done"
          ],
          [
           "Big Picture Map - Part 2",
           "3-MOCs and Projects/YouTube/Done"
          ],
          [
           "Big Picture Map - Part 2",
           "3-MOCs and Projects/YouTube/Done"
          ],
          [
           "Big Picture Map - Part 2",
           "3-MOCs and Projects/YouTube/Done"
          ],
          [
           "Big Picture Map - Part 2",
           "3-MOCs and Projects/YouTube/Done"
          ],
          [
           "ASH Episode - many dimensions",
           "3-MOCs and Projects/YouTube/Ideas"
          ],
          [
           "YT - my roadmap to learning ai for data engineers",
           "3-MOCs and Projects/YouTube/Ideas"
          ],
          [
           "YT - Understanding temporal joins",
           "3-MOCs and Projects/YouTube/Ideas"
          ],
          [
           "YT - Understanding temporal joins",
           "3-MOCs and Projects/YouTube/Ideas"
          ],
          [
           "YT - Understanding temporal joins",
           "3-MOCs and Projects/YouTube/Ideas"
          ],
          [
           "YT - Understanding temporal joins",
           "3-MOCs and Projects/YouTube/Ideas"
          ],
          [
           "DONE PMOC - Train LLM on My Data",
           "3-MOCs and Projects/Done"
          ],
          [
           "DONE PMOC - Train LLM on My Data",
           "3-MOCs and Projects/Done"
          ],
          [
           "spark pp",
           "4-Tech Notes/spark"
          ],
          [
           "Spark Post - Melting Wide Dataframes",
           "4-Tech Notes/spark"
          ],
          [
           "Work Thoughts",
           "0-Current Focus"
          ],
          [
           "Data as training samples",
           "1-Notes"
          ],
          [
           "Chaining LLMs - LLM Ensemble",
           "1-Notes"
          ],
          [
           "Feature Engineering Velocity",
           "1-Notes"
          ],
          [
           "self-attention mechanisms",
           "1-Notes"
          ],
          [
           "self-attention mechanisms",
           "1-Notes"
          ],
          [
           "All about the data - LLMS - good ai about the data matters",
           "1-Notes"
          ]
         ],
         "hovertemplate": "color=16<br>x=%{x}<br>y=%{y}<br>note_title=%{customdata[0]}<br>folder=%{customdata[1]}<extra></extra>",
         "legendgroup": "16",
         "marker": {
          "color": "#19d3f3",
          "symbol": "circle"
         },
         "mode": "markers",
         "name": "16",
         "showlegend": true,
         "type": "scattergl",
         "x": [
          1.0914696,
          0.6203733,
          1.1504724,
          2.3926525,
          -4.021528,
          -2.0975327,
          -0.015265102,
          -0.066985816,
          -3.833237,
          -0.016548358,
          0.20939077,
          0.17350595,
          0.27874035,
          0.423411,
          0.004554507,
          -0.00527256,
          -0.5871291,
          -0.24293007,
          -0.1794089,
          -0.07438881,
          -0.82693213,
          -0.8375112,
          -0.8766259,
          -0.8362283,
          -1.7491786,
          -0.07905538,
          -3.7630153,
          -0.114104345,
          -0.017757105,
          -1.2740968,
          -1.3135334,
          -1.3030556,
          -1.1935585,
          -1.2374101,
          -1.2503498,
          -1.1796228,
          0.7674312,
          0.21617094,
          0.15266663,
          0.17471932,
          0.0154678775,
          0.020008255,
          0.06596885,
          0.08172567,
          0.071794614,
          0.10179527,
          -1.2087625,
          -1.197217,
          1.2603191,
          -0.95586294,
          0.13566613,
          0.21602167,
          -0.051322695,
          -0.05398773,
          -0.04965418,
          -0.056961622,
          -0.070245594,
          0.6688376,
          0.94099355,
          2.3203073,
          -10.748112,
          -10.748189,
          -10.74817,
          -10.7474165,
          -10.74829,
          -10.746086,
          -10.748187,
          -10.74833,
          0.6110974,
          1.9632367,
          0.0022158504,
          2.6642163,
          2.6871228,
          2.667141,
          2.608657,
          2.6549444,
          2.6524122,
          2.6551,
          2.612856,
          2.6706002,
          2.7000525,
          2.5605888,
          2.6030064,
          2.6771283,
          2.6756911,
          2.7078414,
          -1.442698,
          -1.4333378,
          -1.4266515,
          2.5433412,
          2.4451847,
          2.4451668,
          2.4367464,
          2.4749856,
          2.3921561,
          2.367252,
          -1.0479116,
          -1.0697452,
          -1.0608168,
          -1.0243931,
          -1.0223407,
          -0.9629449,
          -1.0431443,
          -1.0048573,
          -0.87477773,
          -0.8576271,
          -0.8558311,
          -0.8439119,
          -0.8059184,
          -0.86848307,
          -0.85970765,
          -0.8881102,
          -0.78786284,
          -0.78509015,
          -0.8244094,
          0.0105071915,
          0.0023924068,
          -0.038374335,
          -0.058085557,
          -0.03680208,
          -0.051407818,
          -0.007233961,
          -0.07156308,
          -0.015960619,
          -0.01841021,
          0.0022253774,
          2.531646,
          2.4784274,
          2.4539385,
          2.413069,
          2.3905177,
          2.2648287,
          2.3609192,
          2.4400427,
          -0.83592254,
          -1.08078,
          -1.682915,
          -1.6962384,
          -1.6962202,
          -1.6916203,
          0.67118114,
          0.6540906,
          2.2978148,
          2.1834888,
          2.3469856,
          -0.5500664,
          0.56342053,
          -0.82295185,
          -0.012731853,
          -0.013563747,
          0.37816253
         ],
         "xaxis": "x",
         "y": [
          10.254975,
          10.108054,
          9.557713,
          8.821104,
          15.684546,
          14.874134,
          10.314499,
          10.570938,
          15.479372,
          10.291148,
          10.749934,
          10.825784,
          10.223479,
          10.176201,
          10.216506,
          10.225886,
          11.492842,
          9.052961,
          11.556887,
          11.64501,
          9.035064,
          9.060732,
          9.124623,
          9.078713,
          5.363531,
          10.57867,
          15.428079,
          8.387856,
          10.219509,
          9.500141,
          9.419452,
          9.402466,
          9.294386,
          9.36104,
          9.351173,
          9.297543,
          10.055517,
          10.440304,
          10.739673,
          10.657708,
          11.450748,
          11.449571,
          11.279764,
          11.314487,
          11.334446,
          11.325422,
          9.412435,
          9.408889,
          10.597615,
          15.437309,
          10.077085,
          9.87118,
          11.629944,
          11.609823,
          11.638302,
          11.605264,
          11.651841,
          10.133579,
          8.768631,
          5.816014,
          11.116265,
          11.116284,
          11.116269,
          11.115957,
          11.116303,
          11.115776,
          11.116277,
          11.116287,
          10.04874,
          5.9480996,
          9.376955,
          13.676786,
          13.699161,
          13.679108,
          13.624941,
          13.667762,
          13.663945,
          13.66764,
          13.6276,
          13.680217,
          13.711558,
          13.582586,
          13.617623,
          13.6894,
          13.687001,
          13.719802,
          9.4902525,
          9.481679,
          9.472584,
          13.564621,
          13.478274,
          13.479281,
          13.471264,
          13.509322,
          13.43382,
          13.407151,
          5.702201,
          5.749523,
          5.745425,
          5.734546,
          5.7458158,
          5.734418,
          5.7415977,
          5.7583942,
          11.214235,
          11.2389965,
          11.239081,
          11.230142,
          11.2306185,
          11.252526,
          11.237243,
          11.272475,
          11.271277,
          11.252505,
          11.252494,
          11.83293,
          11.848319,
          11.743251,
          11.685229,
          11.684319,
          11.6707,
          11.828186,
          11.6593275,
          11.674585,
          11.822408,
          11.849394,
          13.557273,
          13.509363,
          13.486768,
          13.4490795,
          13.431415,
          13.327022,
          13.407937,
          13.474045,
          11.209065,
          5.8510394,
          4.6997037,
          4.699981,
          4.704033,
          4.709726,
          10.126818,
          10.115263,
          5.8321385,
          5.9180665,
          5.7977996,
          8.647452,
          9.836676,
          9.048093,
          11.76143,
          11.732273,
          9.6494255
         ],
         "yaxis": "y"
        },
        {
         "customdata": [
          [
           "Steps to understanding a neural network",
           "0-Inbox"
          ],
          [
           "Steps to understanding a neural network",
           "0-Inbox"
          ],
          [
           "Steps to understanding a neural network",
           "0-Inbox"
          ],
          [
           "Neural Networks and Deep Learning-2",
           "2-Reference/Readwise/Articles"
          ],
          [
           "The Unreasonable Effectiveness of Recurrent Neural Networks",
           "2-Reference/Readwise/Articles"
          ],
          [
           "The Unreasonable Effectiveness of Recurrent Neural Networks",
           "2-Reference/Readwise/Articles"
          ],
          [
           "Neural Networks and Deep Learning",
           "2-Reference/Readwise/Articles"
          ],
          [
           "Neural Networks and Deep Learning",
           "2-Reference/Readwise/Articles"
          ],
          [
           "3 blue 1 brown - neural networks",
           "2-Reference/Video"
          ],
          [
           "3 blue 1 brown - neural networks",
           "2-Reference/Video"
          ],
          [
           "3 blue 1 brown - neural networks",
           "2-Reference/Video"
          ],
          [
           "3 blue 1 brown - neural networks",
           "2-Reference/Video"
          ],
          [
           "3 blue 1 brown - neural networks",
           "2-Reference/Video"
          ],
          [
           "NN - Training Loop, SGD",
           "2-Reference/AI Conversations"
          ],
          [
           "The Unreasonable Effectiveness of Recurrent Neural Networks",
           "2-Reference/Instapaper"
          ],
          [
           "Neural networks and deep learning",
           "2-Reference/Instapaper"
          ],
          [
           "Neural networks and deep learning",
           "2-Reference/Instapaper"
          ],
          [
           "Neural networks and deep learning - book",
           "2-Reference/Books"
          ],
          [
           "Neural networks and deep learning - book",
           "2-Reference/Books"
          ],
          [
           "Neural networks and deep learning - book",
           "2-Reference/Books"
          ],
          [
           "Neural networks and deep learning - book",
           "2-Reference/Books"
          ],
          [
           "Neural networks and deep learning - book",
           "2-Reference/Books"
          ],
          [
           "Neural networks and deep learning - book",
           "2-Reference/Books"
          ],
          [
           "Neural networks and deep learning - book",
           "2-Reference/Books"
          ],
          [
           "Neural networks and deep learning - book",
           "2-Reference/Books"
          ],
          [
           "Neural networks and deep learning - book",
           "2-Reference/Books"
          ],
          [
           "Neural networks and deep learning - book",
           "2-Reference/Books"
          ],
          [
           "Neural networks and deep learning - book",
           "2-Reference/Books"
          ],
          [
           "Neural networks and deep learning - book",
           "2-Reference/Books"
          ],
          [
           "Neural networks and deep learning - book",
           "2-Reference/Books"
          ],
          [
           "Neural networks and deep learning - book",
           "2-Reference/Books"
          ],
          [
           "Neural networks and deep learning - book",
           "2-Reference/Books"
          ],
          [
           "Neural networks and deep learning - book",
           "2-Reference/Books"
          ],
          [
           "Neural networks and deep learning - book",
           "2-Reference/Books"
          ],
          [
           "Neural networks and deep learning - book",
           "2-Reference/Books"
          ],
          [
           "Neural networks and deep learning - book",
           "2-Reference/Books"
          ],
          [
           "Neural networks and deep learning - book",
           "2-Reference/Books"
          ],
          [
           "Neural networks and deep learning - book",
           "2-Reference/Books"
          ],
          [
           "Neural networks and deep learning - book",
           "2-Reference/Books"
          ],
          [
           "Neural networks and deep learning - book",
           "2-Reference/Books"
          ],
          [
           "Neural networks and deep learning - book",
           "2-Reference/Books"
          ],
          [
           "Neural networks and deep learning - book",
           "2-Reference/Books"
          ],
          [
           "Neural networks and deep learning - book",
           "2-Reference/Books"
          ],
          [
           "Neural networks and deep learning - book",
           "2-Reference/Books"
          ],
          [
           "Neural networks and deep learning - book",
           "2-Reference/Books"
          ],
          [
           "Neural networks and deep learning - book",
           "2-Reference/Books"
          ],
          [
           "Neural networks and deep learning - book",
           "2-Reference/Books"
          ],
          [
           "Neural networks and deep learning - book",
           "2-Reference/Books"
          ],
          [
           "Neural networks and deep learning - book",
           "2-Reference/Books"
          ],
          [
           "Neural networks and deep learning - book",
           "2-Reference/Books"
          ],
          [
           "Neural networks and deep learning - book",
           "2-Reference/Books"
          ],
          [
           "Neural networks and deep learning - book",
           "2-Reference/Books"
          ],
          [
           "Neural networks and deep learning - book",
           "2-Reference/Books"
          ],
          [
           "Neural networks and deep learning - book",
           "2-Reference/Books"
          ],
          [
           "Neural networks and deep learning - book",
           "2-Reference/Books"
          ],
          [
           "Neural networks and deep learning - book",
           "2-Reference/Books"
          ],
          [
           "Neural networks and deep learning - book",
           "2-Reference/Books"
          ],
          [
           "partial derivatives",
           "2-Reference/Courses"
          ],
          [
           "deep-learning github daily blog",
           "3-MOCs and Projects"
          ],
          [
           "deep-learning github daily blog",
           "3-MOCs and Projects"
          ],
          [
           "deep-learning github daily blog",
           "3-MOCs and Projects"
          ],
          [
           "Post - type of neural networks",
           "3-MOCs and Projects/Projects/Writing/Post Ideas"
          ],
          [
           "YT - How to Use PyTorch for Neural Networks - Basic steps",
           "3-MOCs and Projects/YouTube/Done"
          ],
          [
           "YT - How to Use PyTorch for Neural Networks - Basic steps",
           "3-MOCs and Projects/YouTube/Done"
          ],
          [
           "YT - Neural networks A.S.H.",
           "3-MOCs and Projects/YouTube/Ideas"
          ],
          [
           "PMOC - DONE - Neural Network Basics",
           "3-MOCs and Projects/Done"
          ],
          [
           "PMOC - DONE - Neural Network Basics",
           "3-MOCs and Projects/Done"
          ],
          [
           "PMOC - DONE - Neural Network Basics",
           "3-MOCs and Projects/Done"
          ],
          [
           "PMOC YT - DONE - Neural Networks from Scratch Series",
           "3-MOCs and Projects/Done"
          ],
          [
           "PMOC YT - DONE - Neural Networks from Scratch Series",
           "3-MOCs and Projects/Done"
          ],
          [
           "PMOC YT - DONE - Neural Networks from Scratch Series",
           "3-MOCs and Projects/Done"
          ],
          [
           "PMOC YT - DONE - Neural Networks from Scratch Series",
           "3-MOCs and Projects/Done"
          ],
          [
           "PMOC YT - DONE - Neural Networks from Scratch Series",
           "3-MOCs and Projects/Done"
          ],
          [
           "PMOC YT - DONE - Neural Networks from Scratch Series",
           "3-MOCs and Projects/Done"
          ],
          [
           "PMOC YT - DONE - Neural Networks from Scratch Series",
           "3-MOCs and Projects/Done"
          ],
          [
           "PMOC YT - DONE - Neural Networks from Scratch Series",
           "3-MOCs and Projects/Done"
          ],
          [
           "PMOC YT - DONE - Neural Networks from Scratch Series",
           "3-MOCs and Projects/Done"
          ],
          [
           "PMOC YT - DONE - Neural Networks from Scratch Series",
           "3-MOCs and Projects/Done"
          ],
          [
           "PMOC YT - DONE - Neural Networks from Scratch Series",
           "3-MOCs and Projects/Done"
          ],
          [
           "PMOC YT - DONE - Neural Networks from Scratch Series",
           "3-MOCs and Projects/Done"
          ],
          [
           "PMOC YT - DONE - Neural Networks from Scratch Series",
           "3-MOCs and Projects/Done"
          ],
          [
           "PMOC YT - DONE - Neural Networks from Scratch Series",
           "3-MOCs and Projects/Done"
          ],
          [
           "PMOC YT - DONE - Neural Networks from Scratch Series",
           "3-MOCs and Projects/Done"
          ],
          [
           "ResNets",
           "1-Notes"
          ],
          [
           "ResNets",
           "1-Notes"
          ],
          [
           "ResNets",
           "1-Notes"
          ]
         ],
         "hovertemplate": "color=45<br>x=%{x}<br>y=%{y}<br>note_title=%{customdata[0]}<br>folder=%{customdata[1]}<extra></extra>",
         "legendgroup": "45",
         "marker": {
          "color": "#FF6692",
          "symbol": "circle"
         },
         "mode": "markers",
         "name": "45",
         "showlegend": true,
         "type": "scattergl",
         "x": [
          -0.37620157,
          -0.3838039,
          -0.37053338,
          -0.4917481,
          -0.5720241,
          -0.60362643,
          -0.48719522,
          -0.7861753,
          -0.6772682,
          -0.61943036,
          -1.2603272,
          -1.2264801,
          -0.5258448,
          -1.2519742,
          -0.611545,
          -0.451347,
          -0.78506047,
          -0.5478898,
          -0.6114026,
          -0.8466966,
          -0.67481285,
          -0.75949275,
          -0.5837715,
          -1.0625855,
          -0.72283745,
          -1.1581017,
          -1.1083738,
          -1.023964,
          -1.1322551,
          -1.213351,
          -1.1271021,
          -1.1989691,
          -0.92263305,
          -0.8404423,
          -0.76640403,
          -0.77152854,
          -0.6819493,
          -0.5910312,
          -0.73953855,
          -0.5848542,
          -0.7154323,
          -0.6225426,
          -0.8131631,
          -0.81224924,
          -0.770585,
          -0.57556677,
          -0.5890468,
          -0.55650043,
          -0.5670859,
          -0.7799093,
          -0.59286284,
          -0.60621333,
          -0.6882719,
          -0.69609284,
          -0.6363794,
          -0.6326611,
          -0.5750981,
          -1.1703303,
          -0.9222054,
          -1.3279128,
          -1.2736684,
          -0.4129094,
          -0.024856864,
          0.010443007,
          -0.021463156,
          -1.2559782,
          -0.7576908,
          -0.27387694,
          -0.009727006,
          -0.029475074,
          -0.033464473,
          -0.011522615,
          0.006846058,
          -0.0024083569,
          -0.034451533,
          0.020106537,
          -0.0146860145,
          0.04472318,
          -0.010196303,
          0.000033782264,
          -0.0056140237,
          0.0006612004,
          0.0009716571,
          -0.6616265,
          -0.63263255,
          -0.6177945
         ],
         "xaxis": "x",
         "y": [
          15.576388,
          15.571521,
          15.545677,
          16.13893,
          16.091238,
          16.059324,
          16.128086,
          15.924485,
          15.795817,
          15.972253,
          15.770433,
          15.832332,
          15.981336,
          15.520958,
          16.043728,
          16.031252,
          15.867997,
          16.105793,
          16.081219,
          15.945177,
          16.031199,
          15.901392,
          16.117872,
          15.864084,
          16.026619,
          15.901165,
          15.892263,
          15.978819,
          15.917572,
          15.824901,
          15.974025,
          15.844681,
          15.845769,
          15.876326,
          15.937575,
          15.945317,
          16.074463,
          16.129633,
          16.014286,
          16.132881,
          15.951718,
          16.075903,
          16.025715,
          16.000061,
          16.028343,
          16.16844,
          16.134916,
          16.151613,
          16.169155,
          15.978216,
          16.133432,
          16.17274,
          16.089615,
          16.073103,
          16.107555,
          16.09527,
          16.119202,
          15.852506,
          15.7193775,
          15.602056,
          15.603845,
          15.312279,
          15.047,
          15.00822,
          15.156811,
          15.676533,
          15.694632,
          15.353167,
          15.161481,
          15.143142,
          15.164317,
          15.157809,
          15.165091,
          15.18072,
          15.159186,
          15.184839,
          15.158468,
          15.210647,
          15.166118,
          15.172737,
          15.158024,
          15.167011,
          15.16234,
          16.132822,
          16.190771,
          16.153303
         ],
         "yaxis": "y"
        },
        {
         "customdata": [
          [
           "2025-02-01 - obsidian ai clone quick triage",
           "0-Inbox"
          ],
          [
           "2025-02-01 - obsidian ai clone quick triage",
           "0-Inbox"
          ],
          [
           "2025-02-01 - obsidian ai clone quick triage",
           "0-Inbox"
          ],
          [
           "2025-02-01 - Hardly high note",
           "0-Inbox"
          ],
          [
           "2025-02-02 - Triage next steps for Ai clone",
           "0-Inbox"
          ],
          [
           "2025-02-02 - Triage next steps for Ai clone",
           "0-Inbox"
          ],
          [
           "PMOC - Obsidian Reader in Llamaindex",
           "0-Current Focus"
          ],
          [
           "PMOC - Obsidian Reader in Llamaindex",
           "0-Current Focus"
          ],
          [
           "PMOC - Obsidian Reader in Llamaindex",
           "0-Current Focus"
          ],
          [
           "PMOC - Obsidian Reader in Llamaindex",
           "0-Current Focus"
          ],
          [
           "PMOC - Obsidian Reader in Llamaindex",
           "0-Current Focus"
          ],
          [
           "PMOC - Obsidian Reader in Llamaindex",
           "0-Current Focus"
          ],
          [
           "PMOC - Obsidian Reader in Llamaindex",
           "0-Current Focus"
          ]
         ],
         "hovertemplate": "color=42<br>x=%{x}<br>y=%{y}<br>note_title=%{customdata[0]}<br>folder=%{customdata[1]}<extra></extra>",
         "legendgroup": "42",
         "marker": {
          "color": "#B6E880",
          "symbol": "circle"
         },
         "mode": "markers",
         "name": "42",
         "showlegend": true,
         "type": "scattergl",
         "x": [
          1.4921347,
          1.5474216,
          1.5281773,
          2.1873267,
          1.5315071,
          1.3584404,
          1.6690471,
          1.6794156,
          1.6742435,
          1.6888313,
          1.665028,
          1.6849391,
          1.6697251
         ],
         "xaxis": "x",
         "y": [
          9.351466,
          9.3618555,
          9.29601,
          7.465103,
          9.325807,
          9.418526,
          9.521408,
          9.5380945,
          9.528885,
          9.566845,
          9.512114,
          9.518734,
          9.5108
         ],
         "yaxis": "y"
        },
        {
         "customdata": [
          [
           "Skill stacking - be world class in ten hours",
           "0-Inbox"
          ],
          [
           "Prioritize with NO BUT",
           "0-Inbox"
          ],
          [
           "Serotonin - here and now with weed",
           "0-Inbox"
          ],
          [
           "The Disease of More",
           "2-Reference/Readwise/Articles"
          ],
          [
           "The Case for Slowing Down  the Curiosity Chronicle",
           "2-Reference/Readwise/Articles"
          ],
          [
           "Confronting My Productivity Guru - Tiago Forte",
           "2-Reference/Readwise/Podcasts"
          ],
          [
           "How Dopamine Shapes Your Habits and Productivity - Tj Power",
           "2-Reference/Readwise/Podcasts"
          ],
          [
           "Claude - rest and dopamine signals",
           "2-Reference/AI Conversations"
          ],
          [
           "Claude - rest and dopamine signals",
           "2-Reference/AI Conversations"
          ],
          [
           "Claude - rest and dopamine signals",
           "2-Reference/AI Conversations"
          ],
          [
           "Are you making something",
           "2-Reference/Instapaper"
          ],
          [
           "The Case for Slowing Down  The Curiosity Chronicle",
           "2-Reference/Instapaper"
          ],
          [
           "Money with Katie FIRE balance",
           "2-Reference/Articles"
          ],
          [
           "Become a Millionaire Slowly",
           "2-Reference/Articles"
          ],
          [
           "Few stocks most of market gains",
           "2-Reference/Articles"
          ],
          [
           "Don't Try to Get Rich Twice",
           "2-Reference/Articles"
          ],
          [
           "Productivity by Sam Altman",
           "2-Reference/Articles"
          ],
          [
           "More Molecule",
           "2-Reference/Books"
          ],
          [
           "Algorithms to Live By",
           "2-Reference/Books"
          ],
          [
           "Timeless Books to Read Forever",
           "2-Reference/Books"
          ],
          [
           "Book- Peak Performance",
           "2-Reference/Books"
          ],
          [
           "Slow Sex",
           "2-Reference/Books"
          ],
          [
           "Espresso Hour",
           "2-Reference/Writing Skills"
          ],
          [
           "Jerry Seinfeld - Tim Ferris",
           "2-Reference/Podcasts"
          ],
          [
           "Unhooked Podcast",
           "2-Reference/Podcasts"
          ],
          [
           "Neil Gaiman on Tim Ferriss",
           "2-Reference/Podcasts"
          ],
          [
           "Tim Ferriss on My First Million",
           "2-Reference/Podcasts"
          ],
          [
           "Context Switching - Deep Work",
           "2-Reference/Podcasts"
          ],
          [
           "Second Brain - Tiago Forte",
           "2-Reference/Apps"
          ],
          [
           "Rate of Tech Progress is Increasing",
           "2-Reference/Apps"
          ],
          [
           "AMOC - Meta - Obsidian - Second Brain - My Organization Process",
           "3-MOCs and Projects"
          ],
          [
           "X - What happens when you stop playing video games",
           "3-MOCs and Projects/Projects/Podcast - BoC/Shows in Progress"
          ],
          [
           "MOC - WFHFIRE - Time Rich Investing",
           "3-MOCs and Projects/Projects/Writing"
          ],
          [
           "MOC - WFHFIRE - Time Rich Investing",
           "3-MOCs and Projects/Projects/Writing"
          ],
          [
           "MOC - WFHFIRE - Time Rich Investing",
           "3-MOCs and Projects/Projects/Writing"
          ],
          [
           "MOC - WFHFIRE - Time Rich Investing",
           "3-MOCs and Projects/Projects/Writing"
          ],
          [
           "Post - Invest in things that last - notes, tidying, health",
           "3-MOCs and Projects/Projects/Writing/Post Ideas"
          ],
          [
           "why am I still unhappy won the money game",
           "3-MOCs and Projects/Projects/Writing/Post Ideas"
          ],
          [
           "Spending Money is a Skill - Fun Fund",
           "3-MOCs and Projects/Projects/Writing/Post Ideas"
          ],
          [
           "Best Hours (Sacred Hours)",
           "3-MOCs and Projects/Projects/Writing/Post Ideas"
          ],
          [
           "Time Rich Investing - Joy Span, joyspan",
           "3-MOCs and Projects/Projects/Writing/Post Ideas"
          ],
          [
           "Time Rich Investing - Joy Span, joyspan",
           "3-MOCs and Projects/Projects/Writing/Post Ideas"
          ],
          [
           "Time Rich Investing - Joy Span, joyspan",
           "3-MOCs and Projects/Projects/Writing/Post Ideas"
          ],
          [
           "Time Rich Investing - Joy Span, joyspan",
           "3-MOCs and Projects/Projects/Writing/Post Ideas"
          ],
          [
           "Time Rich Investing - Joy Span, joyspan",
           "3-MOCs and Projects/Projects/Writing/Post Ideas"
          ],
          [
           "Time Rich Investing - Joy Span, joyspan",
           "3-MOCs and Projects/Projects/Writing/Post Ideas"
          ],
          [
           "Time Rich Investing - Joy Span, joyspan",
           "3-MOCs and Projects/Projects/Writing/Post Ideas"
          ],
          [
           "Time Rich Investing - Joy Span, joyspan",
           "3-MOCs and Projects/Projects/Writing/Post Ideas"
          ],
          [
           "The only true passive investments, dont make a second job",
           "3-MOCs and Projects/Projects/Writing/Post Ideas"
          ],
          [
           "No Side Hustle, Scalable Complementary Assets Instead",
           "3-MOCs and Projects/Projects/Writing/Post Ideas"
          ],
          [
           "Working in the business vs on the business - balance doing and process",
           "3-MOCs and Projects/Projects/Writing/Post Ideas"
          ],
          [
           "Protect Your Fertile Mind and Time",
           "3-MOCs and Projects/Projects/Writing/Post Ideas"
          ],
          [
           "Protect Your Fertile Mind and Time",
           "3-MOCs and Projects/Projects/Writing/Post Ideas"
          ],
          [
           "Wealthy People are Kind, Wanna Be Rich maybe no",
           "3-MOCs and Projects/Projects/Writing/Post Ideas"
          ],
          [
           "How I spend the dead time before meetings",
           "3-MOCs and Projects/Projects/Writing/Post Ideas"
          ],
          [
           "5 reasons to wear a bathrobe",
           "3-MOCs and Projects/Projects/Writing/Post Ideas"
          ],
          [
           "Productivity Matters",
           "3-MOCs and Projects/Projects/Writing/Post Ideas"
          ],
          [
           "Sacred Hours",
           "3-MOCs and Projects/Projects/Writing/Post Ideas"
          ],
          [
           "use your vices",
           "3-MOCs and Projects/Projects/Writing/Post Ideas"
          ],
          [
           "Raising the Threshold for Capture - DAM the Mind",
           "3-MOCs and Projects/Projects/Writing/Post Ideas"
          ],
          [
           "Homework for life - Video",
           "3-MOCs and Projects/Projects/Writing/Published"
          ],
          [
           "WK - 25-02-01",
           "0-Current Focus"
          ],
          [
           "WK - 25-02-01",
           "0-Current Focus"
          ],
          [
           "WK - 25-02-01",
           "0-Current Focus"
          ],
          [
           "WK - 25-02-01",
           "0-Current Focus"
          ],
          [
           "WK - 25-02-01",
           "0-Current Focus"
          ],
          [
           "you don’t need dopamine you need rest",
           "1-Notes"
          ],
          [
           "Big Things Are Done One Step at a Time",
           "1-Notes"
          ],
          [
           "Weed stimulates but balance it",
           "1-Notes"
          ],
          [
           "Weed stimulates but balance it",
           "1-Notes"
          ],
          [
           "Boundaries for Time Bins",
           "1-Notes"
          ],
          [
           "sign to rest - looking to escape",
           "1-Notes"
          ],
          [
           "Balance - Money, Time, Joyskill",
           "1-Notes"
          ],
          [
           "Navals Most Ignored Tweet",
           "1-Notes"
          ],
          [
           "barbell approach to focus and rest",
           "1-Notes"
          ],
          [
           "Knowledge Work Can't Be Forced",
           "1-Notes"
          ],
          [
           "Finding Enough",
           "1-Notes"
          ],
          [
           "Do One Thing Better",
           "1-Notes"
          ],
          [
           "learning how to say no",
           "1-Notes"
          ],
          [
           "Introduce Entropy Random to Routine",
           "1-Notes"
          ],
          [
           "time is finite",
           "1-Notes"
          ],
          [
           "Barbell approach to life",
           "1-Notes"
          ],
          [
           "My Productivity Routine",
           "1-Notes"
          ],
          [
           "My Productivity Routine",
           "1-Notes"
          ],
          [
           "Avoid Idea Hopping - Ideas are Cheap, Execution is What Matters",
           "1-Notes"
          ],
          [
           "Time Millionaire - FIRE analogy",
           "1-Notes"
          ],
          [
           "the truth about passive income",
           "1-Notes"
          ],
          [
           "Dopamine Cheat Day",
           "1-Notes"
          ],
          [
           "Optimal ESPP Strategy",
           "1-Notes"
          ],
          [
           "deliberate rest after deep work",
           "1-Notes"
          ],
          [
           "The five and a half hour work day",
           "1-Notes"
          ],
          [
           "The five and a half hour work day",
           "1-Notes"
          ],
          [
           "The five and a half hour work day",
           "1-Notes"
          ],
          [
           "The five and a half hour work day",
           "1-Notes"
          ],
          [
           "Event Based vs Clock Based",
           "1-Notes"
          ],
          [
           "Event Based vs Clock Based",
           "1-Notes"
          ],
          [
           "Batch Work",
           "1-Notes"
          ],
          [
           "Batch Work",
           "1-Notes"
          ],
          [
           "Batch Work",
           "1-Notes"
          ],
          [
           "Just Make a New To Do List",
           "1-Notes"
          ],
          [
           "Good Things Take Time",
           "1-Notes"
          ],
          [
           "How Much Money Is Enough",
           "1-Notes"
          ],
          [
           "Capitalism and Communism are religions",
           "1-Notes"
          ],
          [
           "Limited Time Limited Thoughts",
           "1-Notes"
          ],
          [
           "Invest Heavy in Memory Dividends",
           "1-Notes"
          ],
          [
           "Breadwinner being Owed a Break",
           "1-Notes"
          ],
          [
           "Patience - Reality Check - Ideas Ahead of Skills",
           "1-Notes"
          ],
          [
           "Patience - Reality Check - Ideas Ahead of Skills",
           "1-Notes"
          ],
          [
           "invest in your tools",
           "1-Notes"
          ],
          [
           "Take naps, rest",
           "1-Notes"
          ],
          [
           "Batching Tasks Superpower",
           "1-Notes"
          ],
          [
           "My New Task Management System",
           "1-Notes"
          ],
          [
           "Invest in Things That Last",
           "1-Notes"
          ],
          [
           "The Habit Diet",
           "1-Notes"
          ],
          [
           "Daily Skin Care the Essentials",
           "1-Notes"
          ],
          [
           "Lifestyle Business, Minimalist Entreprenuer, Values",
           "1-Notes"
          ],
          [
           "Try New Things, Especially If There Awhile",
           "1-Notes"
          ],
          [
           "Consistency leads to Compounding",
           "1-Notes"
          ],
          [
           "Joyspan Life Philosophy",
           "1-Notes"
          ],
          [
           "Energy ebbs and flows",
           "1-Notes"
          ],
          [
           "chores as deliberate rest - focus",
           "1-Notes"
          ],
          [
           "Keystone Habits",
           "1-Notes"
          ],
          [
           "Habit Triggers - Calendar, Reminder",
           "1-Notes"
          ],
          [
           "buy back time - roti purchases",
           "1-Notes"
          ],
          [
           "Money is a by product of the value you provide",
           "1-Notes"
          ],
          [
           "rate of revelation",
           "1-Notes"
          ],
          [
           "Dont Listen to Trash - keep clean inputs",
           "1-Notes"
          ],
          [
           "Better Pomodoro",
           "1-Notes"
          ],
          [
           "Space and Time to Create and Think",
           "1-Notes"
          ],
          [
           "High ROI Habits ROTI - Time Rich",
           "1-Notes"
          ],
          [
           "Money vs Time - measure time important",
           "1-Notes"
          ],
          [
           "Optimize for Fulfillment Rate",
           "1-Notes"
          ],
          [
           "Time Spent, Actions show your values",
           "1-Notes"
          ],
          [
           "Self to Self Comparisons, Progress",
           "1-Notes"
          ],
          [
           "Taking care of your body makes life more fun",
           "1-Notes"
          ],
          [
           "Money and Attention Fulfilled - what would you do (sivers)",
           "1-Notes"
          ],
          [
           "AMOC - Physical",
           "1-Notes"
          ],
          [
           "Set Your Environment for Success - Protect Your Attention",
           "1-Notes"
          ],
          [
           "Balance Create, Think, Consume Triad, Learn Do Reflect",
           "1-Notes"
          ],
          [
           "take risk to live a rich life",
           "1-Notes"
          ],
          [
           "Circuit Training",
           "1-Notes"
          ],
          [
           "My Focus Routine",
           "1-Notes"
          ],
          [
           "Schedule time to do nothing",
           "1-Notes"
          ],
          [
           "Dont Envy Jealous Unless Take All of it",
           "1-Notes"
          ],
          [
           "prioritize - does this help me now or in future",
           "1-Notes"
          ],
          [
           "Consistency Over Time",
           "1-Notes"
          ],
          [
           "Don't Optimize for One Social Platform",
           "1-Notes"
          ],
          [
           "Find what gives you energy",
           "1-Notes"
          ]
         ],
         "hovertemplate": "color=12<br>x=%{x}<br>y=%{y}<br>note_title=%{customdata[0]}<br>folder=%{customdata[1]}<extra></extra>",
         "legendgroup": "12",
         "marker": {
          "color": "#FF97FF",
          "symbol": "circle"
         },
         "mode": "markers",
         "name": "12",
         "showlegend": true,
         "type": "scattergl",
         "x": [
          2.2286024,
          2.6790333,
          2.5685182,
          1.7229407,
          1.7121091,
          0.3155793,
          0.41614303,
          0.569662,
          0.5584439,
          0.54394454,
          2.948185,
          1.7330513,
          2.2190275,
          2.3443012,
          2.4834008,
          2.4233656,
          2.037636,
          0.41226086,
          3.0276866,
          2.7526636,
          0.7248915,
          0.73286223,
          4.434957,
          0.61877835,
          0.38714913,
          0.72436213,
          0.5353828,
          1.0346216,
          4.0827875,
          0.7937584,
          5.196475,
          1.9611008,
          2.036108,
          1.980908,
          2.0047562,
          2.0046873,
          2.1392353,
          2.2770674,
          2.1497588,
          1.2709979,
          2.5753691,
          2.5292535,
          2.5507748,
          2.5672152,
          2.57392,
          2.6017838,
          2.588358,
          2.4899163,
          2.0231705,
          2.023743,
          1.8390613,
          1.7218523,
          1.6879308,
          2.402152,
          1.1222782,
          -0.37508392,
          2.079238,
          1.2660385,
          1.6991212,
          3.8068533,
          5.398661,
          2.7480237,
          2.7695625,
          2.800781,
          2.8265586,
          2.780491,
          0.6177445,
          2.298107,
          2.497973,
          2.538292,
          1.7825528,
          0.6437524,
          2.4974947,
          2.433245,
          0.944398,
          2.1062355,
          2.2014601,
          2.1600952,
          2.3748038,
          2.1643584,
          1.7903017,
          2.623056,
          2.04609,
          2.1068828,
          2.002445,
          2.0601196,
          2.1909277,
          0.5214446,
          2.6770554,
          0.8446865,
          1.0364368,
          1.0442693,
          1.0648283,
          1.0228026,
          2.4148567,
          1.8167119,
          2.630872,
          2.658984,
          2.6344686,
          2.4629428,
          2.2150514,
          2.351755,
          2.5857105,
          1.7613869,
          2.2720642,
          1.8723997,
          2.1134572,
          2.0724883,
          2.0234516,
          0.7584604,
          2.6637535,
          2.2079594,
          2.1142275,
          0.54912835,
          0.26445508,
          2.4254897,
          2.1797273,
          2.3100216,
          2.5417805,
          0.9899121,
          1.0587566,
          2.1816673,
          2.0361042,
          2.0104887,
          2.3963509,
          3.196805,
          1.708355,
          1.988987,
          1.705152,
          2.167882,
          1.8702378,
          2.062316,
          1.8896803,
          2.3030176,
          -0.023935448,
          2.4414601,
          -0.24550109,
          1.9987937,
          1.800136,
          2.5348392,
          -0.23142155,
          1.9476513,
          1.1683475,
          2.4232588,
          2.2138097,
          2.3021398,
          2.203179,
          2.9197125
         ],
         "xaxis": "x",
         "y": [
          3.4855363,
          5.6460342,
          5.392915,
          2.5712543,
          2.7020066,
          1.8228003,
          2.8746214,
          3.336135,
          3.2662783,
          3.3130815,
          3.5443587,
          2.6293883,
          1.1332593,
          1.5727359,
          1.7230893,
          1.6267087,
          4.200424,
          3.0925293,
          4.6851916,
          4.184318,
          3.3905714,
          3.2656553,
          3.7691379,
          1.719082,
          2.8110597,
          1.8333294,
          1.563426,
          3.8041866,
          5.300737,
          5.469203,
          6.7129474,
          3.5271044,
          0.8634776,
          0.8389267,
          0.8624746,
          0.80862194,
          3.6909776,
          1.9631641,
          1.2569643,
          4.175887,
          1.1937178,
          1.2035215,
          1.1841427,
          1.1869909,
          1.1927594,
          1.2032334,
          1.1760329,
          1.2128667,
          1.4252205,
          1.478482,
          3.8559132,
          4.040477,
          3.928535,
          1.6622617,
          4.3524213,
          3.147064,
          4.463794,
          4.245948,
          4.4251766,
          6.123718,
          1.5746928,
          5.7520885,
          5.7585263,
          5.7974906,
          5.8303423,
          5.800734,
          3.3231194,
          3.6288664,
          5.3749223,
          5.358166,
          3.7400136,
          3.3762543,
          1.3299323,
          1.8522925,
          3.543751,
          4.3667254,
          2.2344272,
          3.9458296,
          4.8638587,
          4.1682644,
          3.2273812,
          4.256393,
          4.3783193,
          4.46501,
          4.2280397,
          0.8931207,
          1.7981555,
          3.3059652,
          1.2496135,
          3.4986312,
          4.1466556,
          4.124937,
          4.1231327,
          4.1169567,
          4.8447595,
          3.8564126,
          5.0239916,
          4.987835,
          5.0400763,
          4.6108947,
          3.586821,
          1.9803473,
          2.8053157,
          3.747942,
          1.0261846,
          1.840672,
          3.9818263,
          3.929769,
          3.6429756,
          3.6761148,
          5.031265,
          4.492104,
          3.748012,
          3.8702521,
          3.966112,
          2.2017403,
          3.9681203,
          3.5569766,
          1.2514094,
          3.7566578,
          3.6191149,
          3.4598649,
          4.0570917,
          3.2880158,
          2.0196064,
          2.517611,
          4.1220264,
          4.170365,
          3.8782456,
          3.3929245,
          3.2021146,
          4.207976,
          3.3136117,
          3.6253593,
          3.7362201,
          2.0844736,
          3.8762636,
          4.1520057,
          3.8433034,
          1.3579005,
          3.8730297,
          4.2343664,
          2.163657,
          1.7472827,
          4.4817533,
          3.5314717,
          4.176144,
          2.6657598
         ],
         "yaxis": "y"
        },
        {
         "customdata": [
          [
           "2025-02-01 - AI for distillation, for search",
           "0-Inbox"
          ],
          [
           "2025-02-01 - Hardly high note",
           "0-Inbox"
          ],
          [
           "2025-02-01 - Hardly high note",
           "0-Inbox"
          ],
          [
           "2025-02-02 - Time series focus",
           "0-Inbox"
          ],
          [
           "prompt - turn chatgpt threads into videos",
           "0-Inbox"
          ],
          [
           "2025-02-01 - Trading hedge fund vs ASH",
           "0-Inbox"
          ],
          [
           "2025-02-01 - defensible edge in ai is using your data to solve problems",
           "0-Inbox"
          ],
          [
           "2025-02-01 - defensible edge in ai is using your data to solve problems",
           "0-Inbox"
          ],
          [
           "15 Times to Use AI, and 5 Not To",
           "2-Reference/Readwise/Articles"
          ],
          [
           "Investing in the Age of Generative AI",
           "2-Reference/Readwise/Articles"
          ],
          [
           "Investing in the Age of Generative AI",
           "2-Reference/Readwise/Articles"
          ],
          [
           "Augmenting Intelligence",
           "2-Reference/Readwise/Articles"
          ],
          [
           "Text2SQL Is Not Enough Unifying AI and Databases With TAG",
           "2-Reference/Readwise/Articles"
          ],
          [
           "The Bitter Lesson",
           "2-Reference/Readwise/Articles"
          ],
          [
           "The Bitter Lesson",
           "2-Reference/Readwise/Articles"
          ],
          [
           "How I Use AI",
           "2-Reference/Readwise/Articles"
          ],
          [
           "Open Source AI Is the Path Forward  Meta",
           "2-Reference/Readwise/Articles"
          ],
          [
           "Open Source AI Is the Path Forward  Meta",
           "2-Reference/Readwise/Articles"
          ],
          [
           "Thinking Like an AI",
           "2-Reference/Readwise/Articles"
          ],
          [
           "AI Agents Invade Observability Snake Oil or the Future of SRE",
           "2-Reference/Readwise/Articles"
          ],
          [
           "AI Agents Invade Observability Snake Oil or the Future of SRE",
           "2-Reference/Readwise/Articles"
          ],
          [
           "Sahil Bloom on the Future of Artificial Intelligence, Content Creation and Relationships  FO 75",
           "2-Reference/Readwise/Podcasts"
          ],
          [
           "Generative AI in a Nutshell",
           "2-Reference/Video"
          ],
          [
           "2024-11-02 - frank comedy, gpt conversation",
           "2-Reference/AI Conversations"
          ],
          [
           "2024-10 - gpt - content plan and focus",
           "2-Reference/AI Conversations"
          ],
          [
           "2024-10 - gpt - content plan and focus",
           "2-Reference/AI Conversations"
          ],
          [
           "2024-10 - gpt - content plan and focus",
           "2-Reference/AI Conversations"
          ],
          [
           "Investing in the Age of Generative AI",
           "2-Reference/Instapaper"
          ],
          [
           "Augmenting Intelligence",
           "2-Reference/Instapaper"
          ],
          [
           "How I Use AI",
           "2-Reference/Instapaper"
          ],
          [
           "Open Source AI Is the Path Forward  Meta",
           "2-Reference/Instapaper"
          ],
          [
           "Thinking Like an AI",
           "2-Reference/Instapaper"
          ],
          [
           "15 times to use ai",
           "2-Reference/Instapaper"
          ],
          [
           "AI agents invade observability snake oil or the future of SRE",
           "2-Reference/Instapaper"
          ],
          [
           "Training your own AI Model is not as hard as you think",
           "2-Reference/Articles"
          ],
          [
           "Training your own AI Model is not as hard as you think",
           "2-Reference/Articles"
          ],
          [
           "Perell - AI Writing Video",
           "2-Reference/Writing Skills"
          ],
          [
           "Gen-AI for Everyone",
           "2-Reference/Courses"
          ],
          [
           "Gen-AI for Everyone",
           "2-Reference/Courses"
          ],
          [
           "2024-05-29 - Nitai",
           "2-Reference/Conversations"
          ],
          [
           "Resonate - Julius Producer",
           "2-Reference/Conversations"
          ],
          [
           "Marc - Augmented Engineer",
           "2-Reference/Conversations"
          ],
          [
           "Sophie Sithole",
           "2-Reference/Conversations"
          ],
          [
           "AI good Vs Bad at",
           "2-Reference/Conversations"
          ],
          [
           "MOC - Remote AI Hedgefund",
           "3-MOCs and Projects"
          ],
          [
           "Twitter - The AGI Niche",
           "3-MOCs and Projects/Projects"
          ],
          [
           "Twitter - The AGI Niche",
           "3-MOCs and Projects/Projects"
          ],
          [
           "2024-05 - The Augmented Writer Idea",
           "3-MOCs and Projects/Projects"
          ],
          [
           "2024-05 - The Augmented Writer Idea",
           "3-MOCs and Projects/Projects"
          ],
          [
           "2024-05 - The Augmented Writer Idea",
           "3-MOCs and Projects/Projects"
          ],
          [
           "2024-05 - The Augmented Writer Idea",
           "3-MOCs and Projects/Projects"
          ],
          [
           "MOC - AI Papers - AI Research in 1 Minute",
           "3-MOCs and Projects/Projects"
          ],
          [
           "MOC - AI for Thinkers - Augmented Learner Tools and Brand",
           "3-MOCs and Projects/Projects"
          ],
          [
           "Quick Bits - 2024-08-09",
           "3-MOCs and Projects/Projects/Podcast - BoC/Shows"
          ],
          [
           "Shawn Episode 1",
           "3-MOCs and Projects/Projects/Podcast - BoC/Shows"
          ],
          [
           "5 - How to Adapt to AI for Software Engineers",
           "3-MOCs and Projects/Projects/Podcast - BoC/Shows"
          ],
          [
           "Shawn Episode",
           "3-MOCs and Projects/Projects/Podcast - BoC/Shows"
          ],
          [
           "Reddit Analyzer for Ideas and Reddit Summarize of Threads",
           "3-MOCs and Projects/Projects/Product Ideas"
          ],
          [
           "Remote Manager Copilot - Remote Monitoring",
           "3-MOCs and Projects/Projects/Product Ideas"
          ],
          [
           "Gen AI Cross Over show Idea",
           "3-MOCs and Projects/Projects/Product Ideas"
          ],
          [
           "AI on the Blockchain",
           "3-MOCs and Projects/Projects/Product Ideas"
          ],
          [
           "AI on the Blockchain",
           "3-MOCs and Projects/Projects/Product Ideas"
          ],
          [
           "AI on the Blockchain",
           "3-MOCs and Projects/Projects/Product Ideas"
          ],
          [
           "AI on the Blockchain",
           "3-MOCs and Projects/Projects/Product Ideas"
          ],
          [
           "AI on the Blockchain",
           "3-MOCs and Projects/Projects/Product Ideas"
          ],
          [
           "AI on the Blockchain",
           "3-MOCs and Projects/Projects/Product Ideas"
          ],
          [
           "AI on the Blockchain",
           "3-MOCs and Projects/Projects/Product Ideas"
          ],
          [
           "Platitude Bot Project",
           "3-MOCs and Projects/Projects/Product Ideas"
          ],
          [
           "Platitude Bot Project",
           "3-MOCs and Projects/Projects/Product Ideas"
          ],
          [
           "Build with AI Cohorts",
           "3-MOCs and Projects/Projects/Product Ideas"
          ],
          [
           "AI Voice Loved Ones and Celebrities - talk to dead people",
           "3-MOCs and Projects/Projects/Product Ideas"
          ],
          [
           "AI Voice Loved Ones and Celebrities - talk to dead people",
           "3-MOCs and Projects/Projects/Product Ideas"
          ],
          [
           "AI Twitter Bots - LLM trained on books for niches",
           "3-MOCs and Projects/Projects/Product Ideas"
          ],
          [
           "AI Twitter Bots - LLM trained on books for niches",
           "3-MOCs and Projects/Projects/Product Ideas"
          ],
          [
           "AI Data Processing Platform - Summarization",
           "3-MOCs and Projects/Projects/Product Ideas"
          ],
          [
           "Context Aware AI Project Manager",
           "3-MOCs and Projects/Projects/Product Ideas"
          ],
          [
           "AI Game Creator for Kids",
           "3-MOCs and Projects/Projects/Product Ideas"
          ],
          [
           "Twitter viral analyzer",
           "3-MOCs and Projects/Projects/Product Ideas"
          ],
          [
           "AI Newsletter Sumarizer with Zapier",
           "3-MOCs and Projects/Projects/Product Ideas"
          ],
          [
           "Creator After Life AGI Blockchain",
           "3-MOCs and Projects/Projects/Product Ideas"
          ],
          [
           "Airbyte for AI Models API Unified",
           "3-MOCs and Projects/Projects/Product Ideas"
          ],
          [
           "AW - Season 1 Arc",
           "3-MOCs and Projects/Projects/Novel - Augmented Writer"
          ],
          [
           "AW - Episode 1",
           "3-MOCs and Projects/Projects/Novel - Augmented Writer"
          ],
          [
           "AW - Episode 1",
           "3-MOCs and Projects/Projects/Novel - Augmented Writer"
          ],
          [
           "AW - Episode 1",
           "3-MOCs and Projects/Projects/Novel - Augmented Writer"
          ],
          [
           "AW - Episode 1",
           "3-MOCs and Projects/Projects/Novel - Augmented Writer"
          ],
          [
           "Lumen - AI Comedian, WFH Comedy",
           "3-MOCs and Projects/Projects/Comedy"
          ],
          [
           "Tom Cruise vs AI",
           "3-MOCs and Projects/Projects/Comedy/Bits"
          ],
          [
           "CT Exercise - Chris Lettieri - AI Data Engineer",
           "3-MOCs and Projects/Projects/Chris on DE"
          ],
          [
           "MOC - AI Be More Human",
           "3-MOCs and Projects/Projects/Writing"
          ],
          [
           "MOC - AI Be More Human",
           "3-MOCs and Projects/Projects/Writing"
          ],
          [
           "MOC - AI Be More Human",
           "3-MOCs and Projects/Projects/Writing"
          ],
          [
           "MOC - Niche Ideas",
           "3-MOCs and Projects/Projects/Writing"
          ],
          [
           "Role of Software Engineers Changing to overseer",
           "3-MOCs and Projects/Projects/Writing/Post Ideas"
          ],
          [
           "AI Frees Us From the Mundane - Is a Tool",
           "3-MOCs and Projects/Projects/Writing/Post Ideas"
          ],
          [
           "Visualizing bird sounds",
           "3-MOCs and Projects/Projects/Writing/Post Ideas"
          ],
          [
           "ai fatigue post idea",
           "3-MOCs and Projects/Projects/Writing/Post Ideas"
          ],
          [
           "Write to exercise your brain",
           "3-MOCs and Projects/Projects/Writing/Post Ideas"
          ],
          [
           "LONG - AE Book, Adapt to ai starter guide",
           "3-MOCs and Projects/Projects/Writing/Post Ideas"
          ],
          [
           "Hiring Augmented Learners",
           "3-MOCs and Projects/Projects/Writing/Post Ideas"
          ],
          [
           "Mistakes Engineers make with AI",
           "3-MOCs and Projects/Projects/Writing/Post Ideas"
          ],
          [
           "How to start using AI at work",
           "3-MOCs and Projects/Projects/Writing/Post Ideas"
          ],
          [
           "AI is not good for summarizing",
           "3-MOCs and Projects/Projects/Writing/Post Ideas"
          ],
          [
           "AI is not good for summarizing",
           "3-MOCs and Projects/Projects/Writing/Post Ideas"
          ],
          [
           "ai engineer vs augmented engineer",
           "3-MOCs and Projects/Projects/Writing/Post Ideas"
          ],
          [
           "ai engineer vs augmented engineer",
           "3-MOCs and Projects/Projects/Writing/Post Ideas"
          ],
          [
           "Trends in DE to Support AI",
           "3-MOCs and Projects/Projects/Writing/Post Ideas"
          ],
          [
           "Capture is how you create Jarvis",
           "3-MOCs and Projects/Projects/Writing/Post Ideas"
          ],
          [
           "Flagged as AI",
           "3-MOCs and Projects/Projects/Writing/Post Ideas"
          ],
          [
           "How To Content Is Commoditized by AI",
           "3-MOCs and Projects/Projects/Writing/Post Ideas"
          ],
          [
           "Augmented Intelligence for Engineers",
           "3-MOCs and Projects/Projects/Writing/Post Ideas"
          ],
          [
           "Augmented Intelligence for Engineers",
           "3-MOCs and Projects/Projects/Writing/Post Ideas"
          ],
          [
           "Augmented Intelligence for Engineers",
           "3-MOCs and Projects/Projects/Writing/Post Ideas"
          ],
          [
           "Augmented Intelligence for Engineers",
           "3-MOCs and Projects/Projects/Writing/Post Ideas"
          ],
          [
           "Augmented Intelligence for Engineers",
           "3-MOCs and Projects/Projects/Writing/Post Ideas"
          ],
          [
           "Augmented Intelligence for Engineers",
           "3-MOCs and Projects/Projects/Writing/Post Ideas"
          ],
          [
           "Augmented Intelligence for Engineers",
           "3-MOCs and Projects/Projects/Writing/Post Ideas"
          ],
          [
           "Augmented Intelligence for Engineers",
           "3-MOCs and Projects/Projects/Writing/Post Ideas"
          ],
          [
           "AI cant help you trade but it can prevent these investing mistakes",
           "3-MOCs and Projects/Projects/Writing/Post Ideas"
          ],
          [
           "Overwhelmed by AI tools",
           "3-MOCs and Projects/Projects/Writing/Post Ideas"
          ],
          [
           "augmented leaner tool kit",
           "3-MOCs and Projects/Projects/Writing/Post Ideas"
          ],
          [
           "Basic Prompt Writing",
           "3-MOCs and Projects/Projects/Writing/Post Ideas"
          ],
          [
           "Core Principles of AE",
           "3-MOCs and Projects/Projects/Writing/Post Ideas"
          ],
          [
           "Good Writing is Good AI Prompting - words abstraction",
           "3-MOCs and Projects/Projects/Writing/Post Ideas"
          ],
          [
           "Why I no longer trust GPT - Hornets nest convo",
           "3-MOCs and Projects/Projects/Writing/Post Ideas"
          ],
          [
           "adapting to ai - history says do this - here is what wont change",
           "3-MOCs and Projects/Projects/Writing/Post Ideas"
          ],
          [
           "Coding Skill Ceiling",
           "3-MOCs and Projects/Projects/Writing/Post Ideas"
          ],
          [
           "AE3 Intro",
           "3-MOCs and Projects/Projects/Writing/Post Ideas"
          ],
          [
           "AI Can't Do Funny, Funny is Original",
           "3-MOCs and Projects/Projects/Writing/Post Ideas"
          ],
          [
           "3 pillars of AE",
           "3-MOCs and Projects/Projects/Writing/Post Ideas"
          ],
          [
           "AI needs you to be specific",
           "3-MOCs and Projects/Projects/Writing/Post Ideas"
          ],
          [
           "Learning a New Tool is Slow at First",
           "3-MOCs and Projects/Projects/Writing/Post Ideas"
          ],
          [
           "AI doesn't think for you",
           "3-MOCs and Projects/Projects/Writing/Post Ideas"
          ],
          [
           "How AI can limit your fast and slow biases",
           "3-MOCs and Projects/Projects/Writing/Post Ideas"
          ],
          [
           "Phases of Denial Grief with AI",
           "3-MOCs and Projects/Projects/Writing/Post Ideas"
          ],
          [
           "AI PR Reviews and Juniors",
           "3-MOCs and Projects/Projects/Writing/Post Ideas"
          ],
          [
           "No Shortcuts with AI",
           "3-MOCs and Projects/Projects/Writing/Post Ideas"
          ],
          [
           "No Shortcuts with AI",
           "3-MOCs and Projects/Projects/Writing/Post Ideas"
          ],
          [
           "AI is everyones dirty secret",
           "3-MOCs and Projects/Projects/Writing/Post Ideas"
          ],
          [
           "What is ai actually good at when does it hallucinate",
           "3-MOCs and Projects/Projects/Writing/Post Ideas"
          ],
          [
           "Create Your Own 4 day work week with AI",
           "3-MOCs and Projects/Projects/Writing/Post Ideas"
          ],
          [
           "Augmented Engineer - Outlines as Content",
           "3-MOCs and Projects/Projects/Writing/Post Ideas"
          ],
          [
           "Augmented Engineer - Outlines as Content",
           "3-MOCs and Projects/Projects/Writing/Post Ideas"
          ],
          [
           "Ai Fatigue",
           "3-MOCs and Projects/Projects/Writing/Post Ideas"
          ],
          [
           "How I’m adapting to ai as a staff de",
           "3-MOCs and Projects/Projects/Writing/Post Ideas"
          ],
          [
           "AI to replace Lawyers",
           "3-MOCs and Projects/Projects/Writing/Post Ideas"
          ],
          [
           "Don't Learn More programming",
           "3-MOCs and Projects/Projects/Writing/Post Ideas"
          ],
          [
           "Don't Learn More programming",
           "3-MOCs and Projects/Projects/Writing/Post Ideas"
          ],
          [
           "Don't Learn More programming",
           "3-MOCs and Projects/Projects/Writing/Post Ideas"
          ],
          [
           "Six Types of Thinking and Why you are better at it than AI",
           "3-MOCs and Projects/Projects/Writing/Post Ideas"
          ],
          [
           "Why AI will benefit juniors more",
           "3-MOCs and Projects/Projects/Writing/Post Ideas"
          ],
          [
           "why new grads are better able to thrive with ai",
           "3-MOCs and Projects/Projects/Writing/Post Ideas"
          ],
          [
           "Copilot is best tool for AI develpoment",
           "3-MOCs and Projects/Projects/Writing/Post Ideas"
          ],
          [
           "what SWE should learn to adapt to ai, it's not prompting",
           "3-MOCs and Projects/Projects/Writing/Post Ideas"
          ],
          [
           "Draft - Basics of AI",
           "3-MOCs and Projects/Projects/Writing/Published"
          ],
          [
           "Draft - Basics of AI",
           "3-MOCs and Projects/Projects/Writing/Published"
          ],
          [
           "Sophia unicorn game",
           "3-MOCs and Projects/Projects/Writing/Published"
          ],
          [
           "Sophia unicorn game",
           "3-MOCs and Projects/Projects/Writing/Published"
          ],
          [
           "Sophia unicorn game",
           "3-MOCs and Projects/Projects/Writing/Published"
          ],
          [
           "Basics of Gen AI Post",
           "3-MOCs and Projects/Projects/Writing/Published"
          ],
          [
           "YT - ASH The augmented engineer, episode 1",
           "3-MOCs and Projects/YouTube/Done"
          ],
          [
           "YT short - ai for ceos and decision makers",
           "3-MOCs and Projects/YouTube/Done"
          ],
          [
           "YT short - ai for ceos and decision makers",
           "3-MOCs and Projects/YouTube/Done"
          ],
          [
           "YT short - ai for ceos and decision makers",
           "3-MOCs and Projects/YouTube/Done"
          ],
          [
           "YT short - ai for ceos and decision makers",
           "3-MOCs and Projects/YouTube/Done"
          ],
          [
           "MOC Idea - ASH - Augment stay human map",
           "3-MOCs and Projects/YouTube/Ideas"
          ],
          [
           "YT Series - Augment Stay Human",
           "3-MOCs and Projects/YouTube/Ideas"
          ],
          [
           "YT Series - Augment Stay Human",
           "3-MOCs and Projects/YouTube/Ideas"
          ],
          [
           "Tree View Summary of Books - Hierarchical Summarizer",
           "3-MOCs and Projects/Done"
          ],
          [
           "AI is a data engineering problem",
           "1-Notes"
          ],
          [
           "AI is a data engineering problem",
           "1-Notes"
          ],
          [
           "Training AI on Second Brains - Vision",
           "1-Notes"
          ],
          [
           "Training AI on Second Brains - Vision",
           "1-Notes"
          ],
          [
           "Training AI on Second Brains - Vision",
           "1-Notes"
          ],
          [
           "Claude AI to Analyze Writing",
           "1-Notes"
          ],
          [
           "AI vs IA Map - LLMs vs Humans - AI is better at",
           "1-Notes"
          ],
          [
           "AI vs IA Map - LLMs vs Humans - AI is better at",
           "1-Notes"
          ],
          [
           "AI vs IA Map - LLMs vs Humans - AI is better at",
           "1-Notes"
          ],
          [
           "AI vs IA Map - LLMs vs Humans - AI is better at",
           "1-Notes"
          ],
          [
           "AI vs IA Map - LLMs vs Humans - AI is better at",
           "1-Notes"
          ],
          [
           "AI vs IA Map - LLMs vs Humans - AI is better at",
           "1-Notes"
          ],
          [
           "AI vs IA Map - LLMs vs Humans - AI is better at",
           "1-Notes"
          ],
          [
           "AI vs IA Map - LLMs vs Humans - AI is better at",
           "1-Notes"
          ],
          [
           "AI vs IA Map - LLMs vs Humans - AI is better at",
           "1-Notes"
          ],
          [
           "AI vs IA Map - LLMs vs Humans - AI is better at",
           "1-Notes"
          ],
          [
           "I am a content factory - build the factory",
           "1-Notes"
          ],
          [
           "Data centric AI",
           "1-Notes"
          ],
          [
           "Create by sharing stories and then idea, AI cant write, authentic",
           "1-Notes"
          ],
          [
           "Past were better thinkers - outsource thinking to AI, 1900s people wrote more",
           "1-Notes"
          ],
          [
           "Super AI GPUs Global Warming Trick",
           "1-Notes"
          ],
          [
           "Become Immortal - Take Notes",
           "1-Notes"
          ],
          [
           "Zero to Something Muscle - AI Writing",
           "1-Notes"
          ],
          [
           "Tools And Technique",
           "1-Notes"
          ],
          [
           "learn how to build software, not write code",
           "1-Notes"
          ],
          [
           "online communites are the digital silicon valley - reddit community analyzer",
           "1-Notes"
          ],
          [
           "being aware of bias is not enough to break it",
           "1-Notes"
          ],
          [
           "How LLMs Can Be Useful - my reddit thread",
           "1-Notes"
          ],
          [
           "Feature engineering to teach AI quicker",
           "1-Notes"
          ],
          [
           "Good Writing Stand out",
           "1-Notes"
          ],
          [
           "AI predicting future - computer vision",
           "1-Notes"
          ],
          [
           "Creators are the most powerful class",
           "1-Notes"
          ],
          [
           "Constraints All you need for AI",
           "1-Notes"
          ],
          [
           "AI Bias Blind Spot Detectoin",
           "1-Notes"
          ],
          [
           "Note Taking For Time Travel Perception",
           "1-Notes"
          ]
         ],
         "hovertemplate": "color=22<br>x=%{x}<br>y=%{y}<br>note_title=%{customdata[0]}<br>folder=%{customdata[1]}<extra></extra>",
         "legendgroup": "22",
         "marker": {
          "color": "#FECB52",
          "symbol": "circle"
         },
         "mode": "markers",
         "name": "22",
         "showlegend": true,
         "type": "scattergl",
         "x": [
          -0.19779377,
          2.228001,
          1.9548116,
          2.3556647,
          -1.0003167,
          2.2018096,
          -0.5465718,
          -0.5143704,
          -0.15901029,
          -0.6194378,
          -0.6484203,
          0.14593147,
          -0.15992734,
          -0.28960514,
          -0.2654311,
          -0.0979636,
          -0.42081633,
          -0.49297056,
          -0.26044047,
          -0.41824606,
          -0.42036805,
          -2.7966256,
          -0.81211877,
          -1.6939061,
          -1.7889348,
          -1.7752023,
          -1.6733114,
          -0.6431639,
          0.114251316,
          -0.068826,
          -0.48537788,
          -0.21981137,
          -0.22019497,
          -0.3325119,
          -0.60399944,
          -0.69842935,
          4.061976,
          0.020537218,
          -0.0578211,
          1.879847,
          -0.26404354,
          0.103232965,
          2.0261827,
          0.20580451,
          1.7636024,
          1.0139445,
          1.0417831,
          0.9064027,
          0.91093427,
          0.86795634,
          0.74592406,
          1.5284054,
          0.90651894,
          0.14289385,
          -0.73149717,
          -0.20134705,
          -0.84400463,
          1.3530936,
          1.3011707,
          -0.9340927,
          0.8613533,
          0.86008054,
          0.8783535,
          0.8899474,
          0.88872486,
          0.8763067,
          0.90623695,
          1.1231428,
          1.1360818,
          0.46374047,
          1.110564,
          1.390196,
          1.0907073,
          1.0569174,
          1.2240994,
          1.0829022,
          0.6167232,
          1.3310474,
          1.056187,
          0.8999925,
          1.1779611,
          -3.9124463,
          -3.887958,
          -3.8922706,
          -3.8525817,
          -3.8723881,
          0.8150201,
          0.17968996,
          4.0110335,
          0.60684115,
          0.68170047,
          0.6702009,
          0.9930518,
          -0.047445167,
          0.10187565,
          0.7000435,
          0.36534017,
          0.36670187,
          -0.10653195,
          0.23404917,
          -0.11550528,
          -0.28930724,
          0.115796775,
          0.23490031,
          -0.111494444,
          -0.10357911,
          -0.5339235,
          2.2095761,
          0.42048547,
          0.4139808,
          -0.045775715,
          -0.026098728,
          -0.00984151,
          0.037270736,
          0.1762113,
          0.082473055,
          -0.046850692,
          -0.03487562,
          -1.58802,
          0.07801512,
          0.5563609,
          0.31373978,
          -0.11082703,
          0.10968549,
          -1.483777,
          -0.19062862,
          -0.05381324,
          -0.111285634,
          0.19634478,
          -0.046753462,
          0.11348081,
          -0.0045389617,
          -0.04626617,
          -0.39318973,
          -0.2107357,
          -0.07583657,
          0.036499918,
          0.06462236,
          0.0069457074,
          -1.7025602,
          0.09245065,
          -0.017807769,
          0.119661085,
          0.047247633,
          -0.28117108,
          0.023452608,
          -0.108160384,
          -0.110387795,
          -0.037966017,
          -0.07724338,
          -0.09016839,
          -0.089089364,
          -0.00072289,
          -0.2043844,
          0.0039216285,
          0.053159297,
          0.57167554,
          0.59112704,
          0.6173833,
          0.030913712,
          -2.1384325,
          -1.3222789,
          -1.3769362,
          -1.3780521,
          -1.3833908,
          -2.0910804,
          -2.1215441,
          -2.1038375,
          1.3516316,
          -0.5108213,
          -0.5549172,
          0.53880167,
          0.5523685,
          0.5651679,
          0.58967936,
          0.2114977,
          0.20314008,
          0.21125197,
          0.20345852,
          0.17086384,
          0.21091768,
          0.18999544,
          0.22598615,
          0.17815828,
          0.19452012,
          0.7954313,
          -0.50871056,
          0.75822353,
          -1.5748527,
          0.5607645,
          1.015115,
          0.37681752,
          0.21119595,
          -0.050037358,
          3.4729073,
          -0.3316601,
          0.21318418,
          -0.5857394,
          0.6253898,
          2.2057004,
          0.9100998,
          0.088888764,
          -0.5514002,
          4.1374497
         ],
         "xaxis": "x",
         "y": [
          8.173958,
          7.6064105,
          7.40473,
          7.9990377,
          7.7760663,
          7.5065103,
          8.488054,
          8.552486,
          7.8953757,
          8.152925,
          8.171909,
          7.2971096,
          8.291864,
          8.008328,
          8.07184,
          8.226811,
          8.276738,
          8.410786,
          7.8717813,
          8.336851,
          8.408464,
          -0.03953844,
          8.027262,
          5.1949587,
          5.2818356,
          5.2843523,
          5.3753204,
          8.161163,
          7.2956924,
          8.170586,
          8.421841,
          7.864107,
          7.8241754,
          8.35565,
          8.523541,
          8.594161,
          2.023919,
          9.266796,
          8.351043,
          6.1828537,
          1.4123042,
          6.5463233,
          5.9207535,
          8.88601,
          7.6760497,
          6.368137,
          6.4622874,
          6.6552396,
          6.629913,
          6.649074,
          6.7156534,
          8.127148,
          7.607671,
          7.20141,
          1.2817981,
          6.785797,
          1.3797818,
          6.338687,
          7.3231072,
          7.2147584,
          6.8141885,
          6.817882,
          6.806494,
          6.794102,
          6.8495326,
          6.776055,
          6.7927046,
          6.4348845,
          6.3975086,
          6.9934278,
          7.2461,
          7.3039265,
          6.462279,
          6.5402184,
          7.1079884,
          7.4547095,
          7.565289,
          6.268103,
          7.036281,
          6.8443327,
          7.5443435,
          8.778946,
          8.775682,
          8.783058,
          8.818674,
          8.76211,
          6.624413,
          8.802765,
          9.479189,
          7.2060585,
          7.1120524,
          7.0732512,
          6.0893745,
          6.5985165,
          7.036871,
          7.605824,
          6.8727546,
          6.367614,
          6.2097454,
          6.866303,
          7.151681,
          7.466738,
          7.2665863,
          7.2718916,
          6.6427727,
          6.639122,
          8.608765,
          7.379679,
          7.1108427,
          6.817344,
          6.920945,
          7.1347685,
          7.103315,
          7.1540885,
          7.1849976,
          6.937626,
          7.055566,
          7.043082,
          7.2621775,
          7.1396737,
          7.3240013,
          7.033711,
          6.589667,
          6.928728,
          4.849022,
          6.8473454,
          6.5593715,
          6.768172,
          8.803297,
          6.71911,
          7.367476,
          6.794023,
          7.1911464,
          7.637341,
          6.9311905,
          7.126481,
          7.1799726,
          7.1588306,
          7.2399125,
          7.735966,
          6.6943517,
          6.703893,
          6.496509,
          7.0821714,
          6.825024,
          7.5872064,
          6.8171268,
          6.7206116,
          6.7007847,
          7.5570774,
          7.011673,
          6.9022455,
          6.851973,
          6.782077,
          9.276503,
          9.199308,
          7.509615,
          7.591051,
          7.5307093,
          9.309075,
          7.8156705,
          7.696267,
          7.73021,
          7.7198257,
          7.6992254,
          7.7745275,
          7.791778,
          7.7795963,
          7.102253,
          8.561768,
          8.612554,
          8.064193,
          8.078513,
          8.061858,
          6.407396,
          8.884035,
          8.882966,
          8.861415,
          8.881586,
          8.92188,
          8.929418,
          8.929897,
          8.901874,
          8.880228,
          8.898703,
          6.650454,
          8.587089,
          6.4391813,
          6.322372,
          7.1695056,
          7.182475,
          7.394659,
          6.824363,
          6.6654587,
          3.000266,
          7.6060266,
          8.982498,
          8.731354,
          6.4953017,
          8.693012,
          6.2825336,
          7.2733674,
          7.66515,
          2.0432954
         ],
         "yaxis": "y"
        },
        {
         "customdata": [
          [
           "2025-02-01 - Hardly high note",
           "0-Inbox"
          ],
          [
           "2025-02-01 - Hardly high note",
           "0-Inbox"
          ],
          [
           "PMOC - ARIA Demo - AI VR Jarvis",
           "3-MOCs and Projects"
          ],
          [
           "PMOC - ARIA Demo - AI VR Jarvis",
           "3-MOCs and Projects"
          ],
          [
           "PMOC - ARIA Demo - AI VR Jarvis",
           "3-MOCs and Projects"
          ],
          [
           "PMOC - ARIA Demo - AI VR Jarvis",
           "3-MOCs and Projects"
          ],
          [
           "PMOC - ARIA Demo - AI VR Jarvis",
           "3-MOCs and Projects"
          ],
          [
           "PMOC - ARIA Demo - AI VR Jarvis",
           "3-MOCs and Projects"
          ],
          [
           "PMOC - ARIA Demo - AI VR Jarvis",
           "3-MOCs and Projects"
          ],
          [
           "PMOC - ARIA Demo - AI VR Jarvis",
           "3-MOCs and Projects"
          ],
          [
           "PMOC - ARIA Demo - AI VR Jarvis",
           "3-MOCs and Projects"
          ],
          [
           "PMOC - ARIA Demo - AI VR Jarvis",
           "3-MOCs and Projects"
          ],
          [
           "AI Jarvis in VR",
           "3-MOCs and Projects/Projects/Product Ideas"
          ]
         ],
         "hovertemplate": "color=34<br>x=%{x}<br>y=%{y}<br>note_title=%{customdata[0]}<br>folder=%{customdata[1]}<extra></extra>",
         "legendgroup": "34",
         "marker": {
          "color": "#636efa",
          "symbol": "circle"
         },
         "mode": "markers",
         "name": "34",
         "showlegend": true,
         "type": "scattergl",
         "x": [
          2.3060272,
          2.31794,
          2.4424942,
          2.4499025,
          2.4328098,
          2.4261336,
          2.4416687,
          2.443158,
          2.4291704,
          2.44833,
          2.4042413,
          2.418144,
          2.4039629
         ],
         "xaxis": "x",
         "y": [
          7.5647254,
          7.5767503,
          7.8860955,
          7.8964334,
          7.884615,
          7.8729534,
          7.8973846,
          7.8957877,
          7.876304,
          7.903598,
          7.918157,
          7.8805103,
          7.8348436
         ],
         "yaxis": "y"
        },
        {
         "customdata": [
          [
           "Sahil Bloom",
           "0-Inbox"
          ],
          [
           "Sahil Bloom",
           "0-Inbox"
          ],
          [
           "Sahil Bloom",
           "0-Inbox"
          ]
         ],
         "hovertemplate": "color=35<br>x=%{x}<br>y=%{y}<br>note_title=%{customdata[0]}<br>folder=%{customdata[1]}<extra></extra>",
         "legendgroup": "35",
         "marker": {
          "color": "#EF553B",
          "symbol": "circle"
         },
         "mode": "markers",
         "name": "35",
         "showlegend": true,
         "type": "scattergl",
         "x": [
          -2.6288018,
          -2.597871,
          -2.5812607
         ],
         "xaxis": "x",
         "y": [
          0.04143023,
          0.080830514,
          0.10692703
         ],
         "yaxis": "y"
        },
        {
         "customdata": [
          [
           "Power Law vs Exponential Law",
           "0-Inbox"
          ],
          [
           "Paper - Beyond Neural Scaling Laws - beating power law scaling via data pruning",
           "2-Reference/Research"
          ],
          [
           "Paper - Beyond Neural Scaling Laws - beating power law scaling via data pruning",
           "2-Reference/Research"
          ],
          [
           "Paper - Beyond Neural Scaling Laws - beating power law scaling via data pruning",
           "2-Reference/Research"
          ],
          [
           "Student-Teacher Setting",
           "2-Reference/Research"
          ],
          [
           "Student-Teacher Setting",
           "2-Reference/Research"
          ],
          [
           "Student-Teacher Setting",
           "2-Reference/Research"
          ],
          [
           "Student-Teacher Setting",
           "2-Reference/Research"
          ],
          [
           "YT - data pruning mnist",
           "3-MOCs and Projects/YouTube/Done"
          ],
          [
           "YT - data pruning mnist",
           "3-MOCs and Projects/YouTube/Done"
          ],
          [
           "YT - data pruning mnist",
           "3-MOCs and Projects/YouTube/Done"
          ],
          [
           "YT - data pruning mnist",
           "3-MOCs and Projects/YouTube/Done"
          ],
          [
           "YT - data pruning mnist",
           "3-MOCs and Projects/YouTube/Done"
          ],
          [
           "YT - data pruning mnist",
           "3-MOCs and Projects/YouTube/Done"
          ],
          [
           "YT - data pruning mnist",
           "3-MOCs and Projects/YouTube/Done"
          ],
          [
           "YT - data pruning mnist",
           "3-MOCs and Projects/YouTube/Done"
          ],
          [
           "PMOC - Data Pruning MNIST",
           "3-MOCs and Projects/Done"
          ],
          [
           "PMOC - Data Pruning MNIST",
           "3-MOCs and Projects/Done"
          ],
          [
           "PMOC - Data Pruning MNIST",
           "3-MOCs and Projects/Done"
          ],
          [
           "PMOC - Data Pruning MNIST",
           "3-MOCs and Projects/Done"
          ],
          [
           "PMOC - Data Pruning MNIST",
           "3-MOCs and Projects/Done"
          ],
          [
           "PMOC - Data Pruning MNIST",
           "3-MOCs and Projects/Done"
          ],
          [
           "PMOC - Data Pruning MNIST",
           "3-MOCs and Projects/Done"
          ],
          [
           "PMOC - Data Pruning MNIST",
           "3-MOCs and Projects/Done"
          ],
          [
           "PMOC - Data Pruning MNIST",
           "3-MOCs and Projects/Done"
          ],
          [
           "PMOC - Data Pruning MNIST",
           "3-MOCs and Projects/Done"
          ],
          [
           "PMOC - Data Pruning MNIST",
           "3-MOCs and Projects/Done"
          ],
          [
           "PMOC - Data Pruning MNIST",
           "3-MOCs and Projects/Done"
          ],
          [
           "PMOC - Data Pruning MNIST",
           "3-MOCs and Projects/Done"
          ],
          [
           "PMOC - Data Pruning MNIST",
           "3-MOCs and Projects/Done"
          ],
          [
           "PMOC - Data Pruning MNIST",
           "3-MOCs and Projects/Done"
          ],
          [
           "PMOC - Data Pruning MNIST",
           "3-MOCs and Projects/Done"
          ],
          [
           "PMOC - Data Pruning MNIST",
           "3-MOCs and Projects/Done"
          ],
          [
           "Data compression by meaning - data pruning",
           "1-Notes"
          ],
          [
           "Good Data is All You Need",
           "1-Notes"
          ]
         ],
         "hovertemplate": "color=27<br>x=%{x}<br>y=%{y}<br>note_title=%{customdata[0]}<br>folder=%{customdata[1]}<extra></extra>",
         "legendgroup": "27",
         "marker": {
          "color": "#00cc96",
          "symbol": "circle"
         },
         "mode": "markers",
         "name": "27",
         "showlegend": true,
         "type": "scattergl",
         "x": [
          -3.7889085,
          -3.7460036,
          -3.6986766,
          -3.7834816,
          -3.6811404,
          -3.6777928,
          -3.648658,
          -3.670799,
          -3.9175775,
          -3.936392,
          -3.9831576,
          -3.9535239,
          -3.9252203,
          -3.9045565,
          -3.9410946,
          -3.9463992,
          -4.04736,
          -4.019771,
          -4.0440235,
          -4.026357,
          -4.0064073,
          -4.0449886,
          -4.056062,
          -4.0645223,
          -4.042376,
          -4.034953,
          -4.080694,
          -4.0798917,
          -4.045227,
          -4.057256,
          -4.0417886,
          -4.033173,
          -4.0275893,
          -4.028777,
          -3.7729027
         ],
         "xaxis": "x",
         "y": [
          15.448272,
          15.405132,
          15.352753,
          15.435955,
          15.335397,
          15.332566,
          15.303492,
          15.324501,
          15.563932,
          15.580175,
          15.628324,
          15.599703,
          15.576201,
          15.548519,
          15.587032,
          15.595429,
          15.69499,
          15.663326,
          15.68898,
          15.672518,
          15.667318,
          15.671207,
          15.699521,
          15.706006,
          15.6856785,
          15.681087,
          15.722503,
          15.722,
          15.69394,
          15.703878,
          15.689268,
          15.694485,
          15.675915,
          15.674487,
          15.428742
         ],
         "yaxis": "y"
        },
        {
         "customdata": [
          [
           "2025-02-01 - Barbell approach to life",
           "0-Inbox"
          ],
          [
           "Hook Point How to Stand Out in a 3-Second World by Brendan Kane",
           "2-Reference/Readwise/Articles"
          ],
          [
           "What Every Successful Person Knows, but Never Says",
           "2-Reference/Readwise/Articles"
          ],
          [
           "34 Life Lessons From 34 Years  the Curiosity Chronicle",
           "2-Reference/Readwise/Articles"
          ],
          [
           "The Taxes of Life You Need to Pay  the Curiosity Chronicle",
           "2-Reference/Readwise/Articles"
          ],
          [
           "The Disease of More",
           "2-Reference/Readwise/Articles"
          ],
          [
           "Life Lessons From Einstein's Gedankenexperiments",
           "2-Reference/Readwise/Articles"
          ],
          [
           "The Ladders of Wealth Creation A Step-by-Step Roadmap to Building Wealth",
           "2-Reference/Readwise/Articles"
          ],
          [
           "How I Built a #1-Ranked Podcast With 60M+ Downloads - The Blog of Author Tim Ferriss",
           "2-Reference/Readwise/Articles"
          ],
          [
           "How I Built a #1-Ranked Podcast With 60M+ Downloads - The Blog of Author Tim Ferriss",
           "2-Reference/Readwise/Articles"
          ],
          [
           "9 Hidden Signs of Personal Growth  the Curiosity Chronicle",
           "2-Reference/Readwise/Articles"
          ],
          [
           "13 Harsh Truths About Success Nobody Told You  the Curiosity Chronicle",
           "2-Reference/Readwise/Articles"
          ],
          [
           "Brutally Honest Advice to My Younger Self  the Curiosity Chronicle",
           "2-Reference/Readwise/Articles"
          ],
          [
           "11 Things I Quit to Transform My Life  the Curiosity Chronicle",
           "2-Reference/Readwise/Articles"
          ],
          [
           "How to Do What You Love",
           "2-Reference/Readwise/Articles"
          ],
          [
           "A Reflection on Richard Hamming's You and Your Research Striving for Greatness",
           "2-Reference/Readwise/Articles"
          ],
          [
           "A Reflection on Richard Hamming's You and Your Research Striving for Greatness",
           "2-Reference/Readwise/Articles"
          ],
          [
           "The Best Ideas of 2024  the Curiosity Chronicle",
           "2-Reference/Readwise/Articles"
          ],
          [
           "How I Grew From 0 to 500k Followers in Under 2 Years - Sahil Bloom",
           "2-Reference/Readwise/Podcasts"
          ],
          [
           "How I Grew From 0 to 500k Followers in Under 2 Years - Sahil Bloom",
           "2-Reference/Readwise/Podcasts"
          ],
          [
           "How I Grew From 0 to 500k Followers in Under 2 Years - Sahil Bloom",
           "2-Reference/Readwise/Podcasts"
          ],
          [
           "How I Grew From 0 to 500k Followers in Under 2 Years - Sahil Bloom",
           "2-Reference/Readwise/Podcasts"
          ],
          [
           "How I Grew From 0 to 500k Followers in Under 2 Years - Sahil Bloom",
           "2-Reference/Readwise/Podcasts"
          ],
          [
           "How I Grew From 0 to 500k Followers in Under 2 Years - Sahil Bloom",
           "2-Reference/Readwise/Podcasts"
          ],
          [
           "How I Grew From 0 to 500k Followers in Under 2 Years - Sahil Bloom",
           "2-Reference/Readwise/Podcasts"
          ],
          [
           "How I Grew From 0 to 500k Followers in Under 2 Years - Sahil Bloom",
           "2-Reference/Readwise/Podcasts"
          ],
          [
           "How I Grew From 0 to 500k Followers in Under 2 Years - Sahil Bloom",
           "2-Reference/Readwise/Podcasts"
          ],
          [
           "How I Grew From 0 to 500k Followers in Under 2 Years - Sahil Bloom",
           "2-Reference/Readwise/Podcasts"
          ],
          [
           "How I Grew From 0 to 500k Followers in Under 2 Years - Sahil Bloom",
           "2-Reference/Readwise/Podcasts"
          ],
          [
           "How I Grew From 0 to 500k Followers in Under 2 Years - Sahil Bloom",
           "2-Reference/Readwise/Podcasts"
          ],
          [
           "How I Grew From 0 to 500k Followers in Under 2 Years - Sahil Bloom",
           "2-Reference/Readwise/Podcasts"
          ],
          [
           "How I Grew From 0 to 500k Followers in Under 2 Years - Sahil Bloom",
           "2-Reference/Readwise/Podcasts"
          ],
          [
           "How I Grew From 0 to 500k Followers in Under 2 Years - Sahil Bloom",
           "2-Reference/Readwise/Podcasts"
          ],
          [
           "Sahil Bloom’s #1 Advice to All Content Creators",
           "2-Reference/Readwise/Podcasts"
          ],
          [
           "How Dopamine Shapes Your Habits and Productivity - Tj Power",
           "2-Reference/Readwise/Podcasts"
          ],
          [
           "How Dopamine Shapes Your Habits and Productivity - Tj Power",
           "2-Reference/Readwise/Podcasts"
          ],
          [
           "How Dopamine Shapes Your Habits and Productivity - Tj Power",
           "2-Reference/Readwise/Podcasts"
          ],
          [
           "How Dopamine Shapes Your Habits and Productivity - Tj Power",
           "2-Reference/Readwise/Podcasts"
          ],
          [
           "How Dopamine Shapes Your Habits and Productivity - Tj Power",
           "2-Reference/Readwise/Podcasts"
          ],
          [
           "How Dopamine Shapes Your Habits and Productivity - Tj Power",
           "2-Reference/Readwise/Podcasts"
          ],
          [
           "How Dopamine Shapes Your Habits and Productivity - Tj Power",
           "2-Reference/Readwise/Podcasts"
          ],
          [
           "Ep. 278 How to Think",
           "2-Reference/Readwise/Podcasts"
          ],
          [
           "Ep. 278 How to Think",
           "2-Reference/Readwise/Podcasts"
          ],
          [
           "Ep. 278 How to Think",
           "2-Reference/Readwise/Podcasts"
          ],
          [
           "Ep. 326 Time to Unplug",
           "2-Reference/Readwise/Podcasts"
          ],
          [
           "Sahil Bloom on the Future of Artificial Intelligence, Content Creation and Relationships  FO 75",
           "2-Reference/Readwise/Podcasts"
          ],
          [
           "Sahil Bloom on the Future of Artificial Intelligence, Content Creation and Relationships  FO 75",
           "2-Reference/Readwise/Podcasts"
          ],
          [
           "Sahil Bloom on the Future of Artificial Intelligence, Content Creation and Relationships  FO 75",
           "2-Reference/Readwise/Podcasts"
          ],
          [
           "Sahil Bloom on the Future of Artificial Intelligence, Content Creation and Relationships  FO 75",
           "2-Reference/Readwise/Podcasts"
          ],
          [
           "Sahil Bloom on the Future of Artificial Intelligence, Content Creation and Relationships  FO 75",
           "2-Reference/Readwise/Podcasts"
          ],
          [
           "#137 Justin Su'a Peak Mental Performance",
           "2-Reference/Readwise/Podcasts"
          ],
          [
           "#137 Justin Su'a Peak Mental Performance",
           "2-Reference/Readwise/Podcasts"
          ],
          [
           "#137 Justin Su'a Peak Mental Performance",
           "2-Reference/Readwise/Podcasts"
          ],
          [
           "#137 Justin Su'a Peak Mental Performance",
           "2-Reference/Readwise/Podcasts"
          ],
          [
           "Personal Monopoly",
           "2-Reference/Video"
          ],
          [
           "2024-11-02 - frank comedy, gpt conversation",
           "2-Reference/AI Conversations"
          ],
          [
           "2024-11-20 - recap on my YouTube plan",
           "2-Reference/AI Conversations"
          ],
          [
           "Three Ways to Retire",
           "2-Reference/Naval Ravikant"
          ],
          [
           "How to Get Rich Without Getting Lucky",
           "2-Reference/Naval Ravikant"
          ],
          [
           "Hook Point How to Stand Out in a 3-Second World by Brendan Kane",
           "2-Reference/Instapaper"
          ],
          [
           "What Every Successful Person Knows, But Never Says",
           "2-Reference/Instapaper"
          ],
          [
           "34 Life Lessons from 34 Years  The Curiosity Chronicle",
           "2-Reference/Instapaper"
          ],
          [
           "The Taxes of Life You Need to Pay  The Curiosity Chronicle",
           "2-Reference/Instapaper"
          ],
          [
           "The Disease of More",
           "2-Reference/Instapaper"
          ],
          [
           "Life Lessons From Einstein's Gedankenexperiments",
           "2-Reference/Instapaper"
          ],
          [
           "9 Lessons From 9 Years of Marriage",
           "2-Reference/Instapaper"
          ],
          [
           "The ladders of wealth creation a step-by-step roadmap to building wealth",
           "2-Reference/Instapaper"
          ],
          [
           "How I Built a #1-Ranked Podcast With 60M+ Downloads - The Blog of Author Tim Ferriss",
           "2-Reference/Instapaper"
          ],
          [
           "How I Built a #1-Ranked Podcast With 60M+ Downloads - The Blog of Author Tim Ferriss",
           "2-Reference/Instapaper"
          ],
          [
           "9 Hidden Signs of Personal Growth  The Curiosity Chronicle",
           "2-Reference/Instapaper"
          ],
          [
           "13 Harsh Truths About Success Nobody Told You  The Curiosity Chronicle",
           "2-Reference/Instapaper"
          ],
          [
           "Information-Action Gap, One Decision Away, & More  The Curiosity Chronicle",
           "2-Reference/Instapaper"
          ],
          [
           "Brutally Honest Advice to My Younger Self  The Curiosity Chronicle",
           "2-Reference/Instapaper"
          ],
          [
           "11 Things I Quit to Transform My Life  The Curiosity Chronicle",
           "2-Reference/Instapaper"
          ],
          [
           "How to Do What You Love",
           "2-Reference/Instapaper"
          ],
          [
           "How to Do What You Love",
           "2-Reference/Instapaper"
          ],
          [
           "War of Art - Quora Comment",
           "2-Reference/Articles"
          ],
          [
           "Imprecise Asks from Leader",
           "2-Reference/Articles"
          ],
          [
           "Mark Manson - Life Purpose Ebook",
           "2-Reference/Articles"
          ],
          [
           "Levers Money Can't Pull",
           "2-Reference/Articles"
          ],
          [
           "Why Adventure is Always a Good Investment",
           "2-Reference/Articles"
          ],
          [
           "Few Laws of Getting Rich",
           "2-Reference/Articles"
          ],
          [
           "Solve for Happy",
           "2-Reference/Books"
          ],
          [
           "Solve for Happy",
           "2-Reference/Books"
          ],
          [
           "Solve for Happy",
           "2-Reference/Books"
          ],
          [
           "Solve for Happy",
           "2-Reference/Books"
          ],
          [
           "Solve for Happy",
           "2-Reference/Books"
          ],
          [
           "Solve for Happy",
           "2-Reference/Books"
          ],
          [
           "Solve for Happy",
           "2-Reference/Books"
          ],
          [
           "Solve for Happy",
           "2-Reference/Books"
          ],
          [
           "Algorithms to Live By",
           "2-Reference/Books"
          ],
          [
           "Algorithms to Live By",
           "2-Reference/Books"
          ],
          [
           "Algorithms to Live By",
           "2-Reference/Books"
          ],
          [
           "Known",
           "2-Reference/Books"
          ],
          [
           "Known",
           "2-Reference/Books"
          ],
          [
           "Known",
           "2-Reference/Books"
          ],
          [
           "Known",
           "2-Reference/Books"
          ],
          [
           "Known",
           "2-Reference/Books"
          ],
          [
           "Ep 24. Intentional Wisdom w Nick Cole",
           "2-Reference/Writing Skills"
          ],
          [
           "Snow leopard podcast",
           "2-Reference/Writing Skills"
          ],
          [
           "Cole YT- Category of 1",
           "2-Reference/Writing Skills"
          ],
          [
           "Sahil - Gum Road - How to Productize",
           "2-Reference/Writing Skills"
          ],
          [
           "Ali Podcast - Cultural Tutor",
           "2-Reference/Podcasts"
          ],
          [
           "Ali - Cultural Tutor",
           "2-Reference/Podcasts"
          ],
          [
           "Robert Greene on Huberman",
           "2-Reference/Podcasts"
          ],
          [
           "tim ferriss- Seth Godin",
           "2-Reference/Podcasts"
          ],
          [
           "PTYA - Ali Course",
           "2-Reference/Courses"
          ],
          [
           "Oz - 2024-08-05",
           "2-Reference/Conversations"
          ],
          [
           "sahil questions",
           "2-Reference/Conversations"
          ],
          [
           "sahil questions",
           "2-Reference/Conversations"
          ],
          [
           "Quick Bits - 2024-08-09",
           "3-MOCs and Projects/Projects/Podcast - BoC/Shows"
          ],
          [
           "Quick Bits - 2024-08-09",
           "3-MOCs and Projects/Projects/Podcast - BoC/Shows"
          ],
          [
           "10 - How the Slow, Simple Path to Wealth Makes You Happier",
           "3-MOCs and Projects/Projects/Podcast - BoC/Shows"
          ],
          [
           "10 - How the Slow, Simple Path to Wealth Makes You Happier",
           "3-MOCs and Projects/Projects/Podcast - BoC/Shows"
          ],
          [
           "22 - Be OK With Being You",
           "3-MOCs and Projects/Projects/Podcast - BoC/Shows"
          ],
          [
           "2 - How to do Big Things - Build Consistency Over Motivation",
           "3-MOCs and Projects/Projects/Podcast - BoC/Shows"
          ],
          [
           "4 - Staying Safe in Market Bubbles",
           "3-MOCs and Projects/Projects/Podcast - BoC/Shows"
          ],
          [
           "4 - Staying Safe in Market Bubbles",
           "3-MOCs and Projects/Projects/Podcast - BoC/Shows"
          ],
          [
           "4 - Staying Safe in Market Bubbles",
           "3-MOCs and Projects/Projects/Podcast - BoC/Shows"
          ],
          [
           "17 - Wealth is What You Don't See- How to Avoid Lifestyle Creep",
           "3-MOCs and Projects/Projects/Podcast - BoC/Shows"
          ],
          [
           "17 - Wealth is What You Don't See- How to Avoid Lifestyle Creep",
           "3-MOCs and Projects/Projects/Podcast - BoC/Shows"
          ],
          [
           "12 - How to Be Vulnerable and Slow Down Time",
           "3-MOCs and Projects/Projects/Podcast - BoC/Shows"
          ],
          [
           "12 - How to Be Vulnerable and Slow Down Time",
           "3-MOCs and Projects/Projects/Podcast - BoC/Shows"
          ],
          [
           "12 - How to Be Vulnerable and Slow Down Time",
           "3-MOCs and Projects/Projects/Podcast - BoC/Shows"
          ],
          [
           "3 - Do What Gives You Energy - Finding Your Niche",
           "3-MOCs and Projects/Projects/Podcast - BoC/Shows"
          ],
          [
           "Quick Bits - 2024-08-16",
           "3-MOCs and Projects/Projects/Podcast - BoC/Shows"
          ],
          [
           "Quick Bits - 2024-08-16",
           "3-MOCs and Projects/Projects/Podcast - BoC/Shows"
          ],
          [
           "9 - The Day a Dolphin Saved My Life and Made Me a Better Dad",
           "3-MOCs and Projects/Projects/Podcast - BoC/Shows"
          ],
          [
           "13 - Assume You Are Wrong in Order to Learn From Everyone",
           "3-MOCs and Projects/Projects/Podcast - BoC/Shows"
          ],
          [
           "13 - Assume You Are Wrong in Order to Learn From Everyone",
           "3-MOCs and Projects/Projects/Podcast - BoC/Shows"
          ],
          [
           "11 - Optimize your Time Portfolio by Investing in More Memory Dividends",
           "3-MOCs and Projects/Projects/Podcast - BoC/Shows"
          ],
          [
           "11 - Optimize your Time Portfolio by Investing in More Memory Dividends",
           "3-MOCs and Projects/Projects/Podcast - BoC/Shows"
          ],
          [
           "11 - Optimize your Time Portfolio by Investing in More Memory Dividends",
           "3-MOCs and Projects/Projects/Podcast - BoC/Shows"
          ],
          [
           "0 - Quick Bits - 2024-08-30 - Learning",
           "3-MOCs and Projects/Projects/Podcast - BoC/Shows"
          ],
          [
           "0 - Quick Bits - 2024-08-30 - Learning",
           "3-MOCs and Projects/Projects/Podcast - BoC/Shows"
          ],
          [
           "28 - High ROTI Habits",
           "3-MOCs and Projects/Projects/Podcast - BoC/Shows"
          ],
          [
           "24 - It's Time to Say Bye to Hive and Upgrade to Iceberg",
           "3-MOCs and Projects/Projects/Podcast - BoC/Shows"
          ],
          [
           "29 - Lessons from Supercommunicators by Charles Duhigg",
           "3-MOCs and Projects/Projects/Podcast - BoC/Shows"
          ],
          [
           "26 - Investing is Simple, the Hardest Part is You",
           "3-MOCs and Projects/Projects/Podcast - BoC/Shows"
          ],
          [
           "7 - How to Build Wealth through Investing - 3 key factors you control",
           "3-MOCs and Projects/Projects/Podcast - BoC/Shows"
          ],
          [
           "14 - How to Keep Going When You're Stuck",
           "3-MOCs and Projects/Projects/Podcast - BoC/Shows"
          ],
          [
           "14 - How to Keep Going When You're Stuck",
           "3-MOCs and Projects/Projects/Podcast - BoC/Shows"
          ],
          [
           "19 - Love Failure",
           "3-MOCs and Projects/Projects/Podcast - BoC/Shows"
          ],
          [
           "19 - Love Failure",
           "3-MOCs and Projects/Projects/Podcast - BoC/Shows"
          ],
          [
           "How to Be President (Without Getting Lucky)",
           "3-MOCs and Projects/Projects/Writing/Post Ideas"
          ],
          [
           "impact of kids on fire",
           "3-MOCs and Projects/Projects/Writing/Post Ideas"
          ],
          [
           "impact of kids on fire",
           "3-MOCs and Projects/Projects/Writing/Post Ideas"
          ],
          [
           "Why I Take Risk To Write On LinkedIn, Consumer to Producer",
           "3-MOCs and Projects/Projects/Writing/Post Ideas"
          ],
          [
           "Why I Take Risk To Write On LinkedIn, Consumer to Producer",
           "3-MOCs and Projects/Projects/Writing/Post Ideas"
          ],
          [
           "Niche hierarchy post",
           "3-MOCs and Projects/Projects/Writing/Post Ideas"
          ],
          [
           "Everybody is Faking it - Impostor Syndrome",
           "3-MOCs and Projects/Projects/Writing/Post Ideas"
          ],
          [
           "influencer creator stole my idea",
           "3-MOCs and Projects/Projects/Writing/Post Ideas"
          ],
          [
           "My Plan to be President in 20 years",
           "3-MOCs and Projects/Projects/Writing/Post Ideas"
          ],
          [
           "LONG - I wrote everyday for 45 days here's what I learned and why I wont do it again",
           "3-MOCs and Projects/Projects/Writing/Post Ideas"
          ],
          [
           "why part-time creators should not niche down",
           "3-MOCs and Projects/Projects/Writing/Post Ideas"
          ],
          [
           "how to get rich AND happy without getting lucky",
           "3-MOCs and Projects/Projects/Writing/Post Ideas"
          ],
          [
           "ignore success gurus welsh koe, support creators who smile",
           "3-MOCs and Projects/Projects/Writing/Post Ideas"
          ],
          [
           "Knowledge threshold",
           "3-MOCs and Projects/Projects/Writing/Post Ideas"
          ],
          [
           "Why I've become obssesed with finding stories to tell and how you can too",
           "3-MOCs and Projects/Projects/Writing/Published"
          ],
          [
           "7 Months Finding Niche",
           "3-MOCs and Projects/Projects/Writing/Published"
          ],
          [
           "YT- president in 20 years",
           "3-MOCs and Projects/YouTube/Ideas"
          ],
          [
           "Voting Online",
           "1-Notes"
          ],
          [
           "You Can't Tell People your 20 year moonshot plans",
           "1-Notes"
          ],
          [
           "Packets, Bricks, Take consistent baby steps",
           "1-Notes"
          ],
          [
           "Being great means explore so you can spend a lot of time on something you love",
           "1-Notes"
          ],
          [
           "Some stories are useful, choose",
           "1-Notes"
          ],
          [
           "Healthy Masculinity - Real Men",
           "1-Notes"
          ],
          [
           "Active, Just-in-time, intentional learning",
           "1-Notes"
          ],
          [
           "Credibility in Writing, Present Yourself Avatar",
           "1-Notes"
          ],
          [
           "You Control Your Thoughts, Thoughts Determine Reality",
           "1-Notes"
          ],
          [
           "The Look when I'm smarter, playing 3d chess",
           "1-Notes"
          ],
          [
           "Higher in Org, Bigger Pieces You Move",
           "1-Notes"
          ],
          [
           "Joyspan Life Philosophy",
           "1-Notes"
          ],
          [
           "Joyspan Life Philosophy",
           "1-Notes"
          ],
          [
           "Make noise listen for signal, explore then find niche",
           "1-Notes"
          ],
          [
           "Escape competition through authenticity",
           "1-Notes"
          ],
          [
           "2024-09-19 - Compound Knowledge, Build Your Bricks",
           "1-Notes"
          ],
          [
           "Don't Draw Too Much Attention - Laws of Power",
           "1-Notes"
          ],
          [
           "Balance Create, Think, Consume Triad, Learn Do Reflect",
           "1-Notes"
          ],
          [
           "Balance Create, Think, Consume Triad, Learn Do Reflect",
           "1-Notes"
          ],
          [
           "Balance Create, Think, Consume Triad, Learn Do Reflect",
           "1-Notes"
          ],
          [
           "prioritize - does this help me now or in future",
           "1-Notes"
          ],
          [
           "prioritize - does this help me now or in future",
           "1-Notes"
          ]
         ],
         "hovertemplate": "color=14<br>x=%{x}<br>y=%{y}<br>note_title=%{customdata[0]}<br>folder=%{customdata[1]}<extra></extra>",
         "legendgroup": "14",
         "marker": {
          "color": "#ab63fa",
          "symbol": "circle"
         },
         "mode": "markers",
         "name": "14",
         "showlegend": true,
         "type": "scattergl",
         "x": [
          2.6114416,
          4.2535477,
          2.427612,
          1.8621757,
          1.8391864,
          1.6002798,
          1.6837838,
          2.3126087,
          0.42404252,
          0.49649757,
          1.7774304,
          1.8672465,
          1.8238269,
          1.7831475,
          2.8340316,
          2.0631883,
          1.9939919,
          1.8596843,
          -2.720526,
          -2.690469,
          -2.6852705,
          -2.6939495,
          -2.6902847,
          -2.694976,
          -2.7006478,
          -2.6932209,
          -2.7069185,
          -2.7244916,
          -2.7107327,
          -2.7068083,
          -2.7066798,
          -2.717587,
          -2.6797636,
          -2.7246463,
          0.45024866,
          0.4511753,
          0.47902355,
          0.4757388,
          0.4492337,
          0.44843748,
          0.4611474,
          1.0506927,
          1.0174663,
          1.0125047,
          0.8570986,
          -2.8012044,
          -2.7897058,
          -2.7990904,
          -2.7987616,
          -2.8018613,
          0.93915355,
          1.0043445,
          0.8493029,
          0.6984587,
          3.23027,
          -1.7493128,
          -2.0270233,
          2.908582,
          2.4412165,
          4.2377257,
          2.2991676,
          1.7713615,
          1.8246783,
          1.6622204,
          1.706443,
          2.4136841,
          2.2912717,
          0.43881753,
          0.45777452,
          1.7802459,
          1.8284488,
          1.960503,
          1.8009571,
          1.7266967,
          2.8354647,
          2.8242557,
          3.8843746,
          2.4081135,
          2.8690681,
          2.3339536,
          2.1338005,
          2.2883983,
          1.2985203,
          1.286088,
          1.2663195,
          1.3260717,
          1.2955295,
          1.2656505,
          1.387675,
          1.3208321,
          3.0549073,
          3.021657,
          3.037911,
          3.8715389,
          3.9020627,
          3.9336119,
          3.8970296,
          3.7750225,
          3.5054212,
          3.3099067,
          3.6775217,
          3.1984673,
          3.2741911,
          3.3461528,
          3.0066278,
          0.5821328,
          -2.9746244,
          2.0583684,
          -2.6018474,
          -2.5983622,
          1.6990364,
          3.7767045,
          2.2883315,
          2.3007793,
          1.423154,
          2.3768833,
          -0.009870517,
          -0.022831362,
          -0.0131637035,
          2.2455423,
          2.251485,
          1.7455564,
          1.8161454,
          1.7997398,
          3.1236382,
          1.608456,
          1.734131,
          0.6874665,
          1.3700185,
          1.5020235,
          2.3665035,
          2.363797,
          2.3456054,
          2.5569592,
          2.4986737,
          2.1420255,
          1.9401234,
          4.751195,
          2.1636841,
          2.2092793,
          0.8179955,
          0.96342736,
          1.5329593,
          1.5402999,
          1.1187242,
          1.8810302,
          1.8874834,
          4.603338,
          4.5552473,
          3.2590148,
          1.9048711,
          2.056672,
          1.0999233,
          2.4609957,
          2.7305734,
          2.3707547,
          3.0363379,
          3.5515144,
          5.3204093,
          3.243535,
          1.061745,
          1.076636,
          1.3616368,
          2.4128907,
          2.8730376,
          1.2107235,
          -1.2675068,
          2.7392523,
          4.280099,
          1.2530102,
          1.8125437,
          4.7395945,
          2.449448,
          2.5078833,
          3.2018409,
          3.1462858,
          3.9798253,
          2.4586174,
          1.7521152,
          1.7263802,
          1.7093446,
          2.1411955,
          2.0776045
         ],
         "xaxis": "x",
         "y": [
          5.4177856,
          3.0279179,
          2.8881462,
          2.7294457,
          2.5540664,
          2.5111785,
          3.2350197,
          1.5417662,
          1.5197327,
          1.4569867,
          2.4596589,
          2.6497161,
          2.6922138,
          2.692609,
          2.8335283,
          3.1275995,
          3.5686507,
          2.66759,
          -0.14962764,
          -0.10590837,
          -0.12943731,
          -0.15113272,
          -0.15929906,
          -0.15295602,
          -0.14968637,
          -0.14759009,
          -0.13852394,
          -0.11649608,
          -0.13130721,
          -0.14546096,
          -0.14840746,
          -0.13771807,
          -0.17402586,
          -0.03855141,
          2.8750505,
          2.8802557,
          2.8569405,
          2.8800714,
          2.8690588,
          2.8574524,
          2.8852007,
          2.750458,
          2.6906226,
          2.6404192,
          2.3205457,
          -0.060091708,
          -0.061889812,
          -0.043923154,
          -0.0375167,
          -0.043934863,
          2.61844,
          2.5818279,
          2.6618817,
          2.7901978,
          2.165789,
          5.0890746,
          4.871299,
          1.9050575,
          1.7208003,
          2.9662373,
          2.7986307,
          2.7566423,
          2.5671158,
          2.5530407,
          3.2307098,
          3.243288,
          1.5537559,
          1.4928081,
          1.4643655,
          2.4380693,
          2.6274588,
          2.7869003,
          2.692681,
          2.7126524,
          2.8331127,
          2.86779,
          2.7927096,
          4.0128984,
          2.7588055,
          1.739142,
          3.261927,
          1.5582035,
          2.5660229,
          2.5387805,
          2.560277,
          2.4904602,
          2.544225,
          2.5175045,
          2.5147212,
          2.5394351,
          4.6564245,
          4.60264,
          4.6903996,
          2.9082825,
          2.9148166,
          2.9386175,
          2.9308932,
          2.9478216,
          2.6106088,
          2.3147624,
          2.398026,
          2.2366614,
          2.2235253,
          2.1971633,
          2.2527564,
          1.623123,
          4.0888977,
          6.0367656,
          0.015706312,
          0.052738797,
          2.1208165,
          4.293864,
          1.4133602,
          1.3574193,
          1.8843405,
          3.5537999,
          -2.5002768,
          -2.518661,
          -2.5047512,
          1.4530607,
          1.4764825,
          2.1427095,
          2.0952537,
          2.0410993,
          2.349371,
          1.9522895,
          1.8303899,
          1.2841258,
          1.8328449,
          1.9482642,
          1.1286973,
          1.134254,
          1.1124047,
          3.4067328,
          3.4518785,
          3.2576587,
          5.7484193,
          1.0993189,
          1.3527855,
          1.3134841,
          1.3656428,
          1.419854,
          1.9278511,
          1.9763553,
          3.3749597,
          1.3083761,
          1.2501373,
          2.7765706,
          2.8052533,
          2.2575276,
          2.6072762,
          4.700403,
          3.4026527,
          2.5723643,
          2.4026666,
          1.592585,
          2.4529946,
          3.133116,
          1.4438827,
          2.2619677,
          3.462856,
          3.448479,
          3.4370584,
          3.622631,
          2.6984375,
          2.6858668,
          1.7746974,
          3.3958216,
          2.835865,
          2.5484803,
          2.3488376,
          -0.0243346,
          1.2895902,
          1.2511299,
          2.3085458,
          2.1046298,
          5.1748776,
          4.083466,
          3.7970912,
          3.7491717,
          3.7886062,
          4.436818,
          4.502571
         ],
         "yaxis": "y"
        },
        {
         "customdata": [
          [
           "2025-02-01 - Trading hedge fund vs ASH",
           "0-Inbox"
          ],
          [
           "Stock and Crypto Correlations",
           "0-Inbox"
          ],
          [
           "Kris Sidial",
           "2-Reference/Courses"
          ],
          [
           "Kris Sidial",
           "2-Reference/Courses"
          ],
          [
           "Kris Sidial",
           "2-Reference/Courses"
          ],
          [
           "Kris Sidial",
           "2-Reference/Courses"
          ],
          [
           "Kris Sidial",
           "2-Reference/Courses"
          ],
          [
           "Kris Sidial",
           "2-Reference/Courses"
          ],
          [
           "Kevin - 2024-07-11 - Options",
           "2-Reference/Conversations"
          ],
          [
           "AMOC - Finances",
           "3-MOCs and Projects"
          ],
          [
           "AMOC - Finances",
           "3-MOCs and Projects"
          ],
          [
           "AMOC - Finances",
           "3-MOCs and Projects"
          ],
          [
           "AMOC - Finances",
           "3-MOCs and Projects"
          ],
          [
           "AMOC - Finances",
           "3-MOCs and Projects"
          ],
          [
           "AMOC - Finances",
           "3-MOCs and Projects"
          ],
          [
           "AMOC - Finances",
           "3-MOCs and Projects"
          ],
          [
           "MOC - Real Estate and Journal",
           "3-MOCs and Projects/Projects"
          ],
          [
           "MOC - Real Estate and Journal",
           "3-MOCs and Projects/Projects"
          ],
          [
           "MOC - Real Estate and Journal",
           "3-MOCs and Projects/Projects"
          ],
          [
           "Quick Bits - 2024-08-09",
           "3-MOCs and Projects/Projects/Podcast - BoC/Shows"
          ],
          [
           "4 - Staying Safe in Market Bubbles",
           "3-MOCs and Projects/Projects/Podcast - BoC/Shows"
          ],
          [
           "4 - Staying Safe in Market Bubbles",
           "3-MOCs and Projects/Projects/Podcast - BoC/Shows"
          ],
          [
           "4 - Staying Safe in Market Bubbles",
           "3-MOCs and Projects/Projects/Podcast - BoC/Shows"
          ],
          [
           "Niche Aggregation Newsletters - TLDR",
           "3-MOCs and Projects/Projects/Product Ideas"
          ],
          [
           "Crypto ETFs FYI",
           "3-MOCs and Projects/Projects/Product Ideas"
          ],
          [
           "Trade Log",
           "3-MOCs and Projects/Projects/Trading and Crypto"
          ],
          [
           "Trade Log",
           "3-MOCs and Projects/Projects/Trading and Crypto"
          ],
          [
           "Trade Log",
           "3-MOCs and Projects/Projects/Trading and Crypto"
          ],
          [
           "Trade Log",
           "3-MOCs and Projects/Projects/Trading and Crypto"
          ],
          [
           "Trade Log",
           "3-MOCs and Projects/Projects/Trading and Crypto"
          ],
          [
           "Trade Log",
           "3-MOCs and Projects/Projects/Trading and Crypto"
          ],
          [
           "Trade Log",
           "3-MOCs and Projects/Projects/Trading and Crypto"
          ],
          [
           "Trade Log",
           "3-MOCs and Projects/Projects/Trading and Crypto"
          ],
          [
           "Trade Log",
           "3-MOCs and Projects/Projects/Trading and Crypto"
          ],
          [
           "Trade Log",
           "3-MOCs and Projects/Projects/Trading and Crypto"
          ],
          [
           "Trade Log",
           "3-MOCs and Projects/Projects/Trading and Crypto"
          ],
          [
           "Trade Log",
           "3-MOCs and Projects/Projects/Trading and Crypto"
          ],
          [
           "Trade Log",
           "3-MOCs and Projects/Projects/Trading and Crypto"
          ],
          [
           "Trade Log",
           "3-MOCs and Projects/Projects/Trading and Crypto"
          ],
          [
           "Trade Log",
           "3-MOCs and Projects/Projects/Trading and Crypto"
          ],
          [
           "Trade Log",
           "3-MOCs and Projects/Projects/Trading and Crypto"
          ],
          [
           "Trade Log",
           "3-MOCs and Projects/Projects/Trading and Crypto"
          ],
          [
           "Trade Log",
           "3-MOCs and Projects/Projects/Trading and Crypto"
          ],
          [
           "Trade Log",
           "3-MOCs and Projects/Projects/Trading and Crypto"
          ],
          [
           "Trade Log",
           "3-MOCs and Projects/Projects/Trading and Crypto"
          ],
          [
           "Staff Eng Investor",
           "3-MOCs and Projects/Projects/Trading and Crypto"
          ],
          [
           "AMOC - Trading",
           "3-MOCs and Projects/Projects/Trading and Crypto"
          ],
          [
           "AMOC - Trading",
           "3-MOCs and Projects/Projects/Trading and Crypto"
          ],
          [
           "MOC - Time Series Modeling for Profit",
           "3-MOCs and Projects/Projects/Trading and Crypto"
          ],
          [
           "Ideas - Dapp And Trading",
           "3-MOCs and Projects/Projects/Trading and Crypto"
          ],
          [
           "Ideas - Dapp And Trading",
           "3-MOCs and Projects/Projects/Trading and Crypto"
          ],
          [
           "Ideas - Dapp And Trading",
           "3-MOCs and Projects/Projects/Trading and Crypto"
          ],
          [
           "Ideas - Dapp And Trading",
           "3-MOCs and Projects/Projects/Trading and Crypto"
          ],
          [
           "Ideas - Dapp And Trading",
           "3-MOCs and Projects/Projects/Trading and Crypto"
          ],
          [
           "Ideas - Dapp And Trading",
           "3-MOCs and Projects/Projects/Trading and Crypto"
          ],
          [
           "Ideas - Dapp And Trading",
           "3-MOCs and Projects/Projects/Trading and Crypto"
          ],
          [
           "Ideas - Dapp And Trading",
           "3-MOCs and Projects/Projects/Trading and Crypto"
          ],
          [
           "Ideas - Dapp And Trading",
           "3-MOCs and Projects/Projects/Trading and Crypto"
          ],
          [
           "Ideas - Dapp And Trading",
           "3-MOCs and Projects/Projects/Trading and Crypto"
          ],
          [
           "Datadog for options trading",
           "3-MOCs and Projects/Projects/Trading and Crypto"
          ],
          [
           "PMOC - Options Trading",
           "3-MOCs and Projects/Projects/Trading and Crypto"
          ],
          [
           "PMOC - Options Trading",
           "3-MOCs and Projects/Projects/Trading and Crypto"
          ],
          [
           "2024-02-08 - Edges, Imitate",
           "3-MOCs and Projects/Projects/Trading and Crypto/2-Reference"
          ],
          [
           "2024-02-06 - Arbitrage Between Pools",
           "3-MOCs and Projects/Projects/Trading and Crypto/2-Reference"
          ],
          [
           "Ardizor - Observations",
           "3-MOCs and Projects/Projects/Trading and Crypto/2-Reference/Twitter"
          ],
          [
           "Ardizor - Observations",
           "3-MOCs and Projects/Projects/Trading and Crypto/2-Reference/Twitter"
          ],
          [
           "Bootcamp - Serum",
           "3-MOCs and Projects/Projects/Trading and Crypto/2-Reference/YouTube"
          ],
          [
           "Dapp University - arbitrage uniswap",
           "3-MOCs and Projects/Projects/Trading and Crypto/2-Reference/YouTube"
          ],
          [
           "QuanDeFi",
           "3-MOCs and Projects/Projects/Trading and Crypto/2-Reference/Reddit"
          ],
          [
           "Trading tools for Serious Trader",
           "3-MOCs and Projects/Projects/Trading and Crypto/1-Notes"
          ],
          [
           "Swing Trading Ideas",
           "3-MOCs and Projects/Projects/Trading and Crypto/1-Notes"
          ],
          [
           "Swing Trading Ideas",
           "3-MOCs and Projects/Projects/Trading and Crypto/1-Notes"
          ],
          [
           "Swing Trading Ideas",
           "3-MOCs and Projects/Projects/Trading and Crypto/1-Notes"
          ],
          [
           "Swing Trading Ideas",
           "3-MOCs and Projects/Projects/Trading and Crypto/1-Notes"
          ],
          [
           "The Augmented Trader",
           "3-MOCs and Projects/Projects/Trading and Crypto/1-Notes"
          ],
          [
           "Defensible Edge - A Factory Framework for Finding New Edges",
           "3-MOCs and Projects/Projects/Trading and Crypto/1-Notes"
          ],
          [
           "MOC - Niche Ideas",
           "3-MOCs and Projects/Projects/Writing"
          ],
          [
           "Crypto vs Mag 7 Returns",
           "3-MOCs and Projects/Projects/Writing/Post Ideas"
          ],
          [
           "Crypto Volatility as Matures",
           "3-MOCs and Projects/Projects/Writing/Post Ideas"
          ],
          [
           "Why society needs more day traders",
           "3-MOCs and Projects/Projects/Writing/Post Ideas"
          ],
          [
           "Crypto Bubbles",
           "3-MOCs and Projects/Projects/Writing/Post Ideas"
          ],
          [
           "Crypto Correlation and Sector Trading",
           "3-MOCs and Projects/Projects/Writing/Post Ideas"
          ],
          [
           "The reality of 30k in 30 seconds",
           "3-MOCs and Projects/Projects/Writing/Post Ideas"
          ],
          [
           "Problem with technical analysis",
           "3-MOCs and Projects/Projects/Writing/Post Ideas"
          ],
          [
           "Trading Edge early but know time horizon",
           "3-MOCs and Projects/Projects/Writing/Post Ideas"
          ],
          [
           "Taleb on Trading",
           "1-Notes"
          ],
          [
           "financial nihilism",
           "1-Notes"
          ]
         ],
         "hovertemplate": "color=3<br>x=%{x}<br>y=%{y}<br>note_title=%{customdata[0]}<br>folder=%{customdata[1]}<extra></extra>",
         "legendgroup": "3",
         "marker": {
          "color": "#FFA15A",
          "symbol": "circle"
         },
         "mode": "markers",
         "name": "3",
         "showlegend": true,
         "type": "scattergl",
         "x": [
          2.6826022,
          -0.66883206,
          -0.09269998,
          -0.12620105,
          -0.121626236,
          -0.087854154,
          -0.075661585,
          -0.111074954,
          -0.7137194,
          -1.2251633,
          -1.0599422,
          -1.2581646,
          -1.3308074,
          -1.3773202,
          -1.2545106,
          -1.1495115,
          1.7500142,
          1.754331,
          1.7947862,
          -0.44616657,
          -0.074593015,
          -0.09706349,
          -0.043318626,
          -0.90969265,
          -0.70705056,
          -0.6043577,
          -0.5467564,
          -0.58441085,
          -0.5298572,
          -0.57084405,
          -0.63140357,
          -0.56239927,
          -0.5514998,
          -0.25290203,
          -0.24038094,
          -0.23844108,
          -0.24780901,
          -0.22129264,
          -0.22334395,
          -0.19623499,
          -0.18665054,
          -0.162495,
          -0.20089845,
          -0.27451175,
          -0.46384552,
          -0.5109233,
          -0.9484607,
          -1.0439862,
          2.3942904,
          -1.1261072,
          -1.0078224,
          -0.85120416,
          -0.80019546,
          -0.9052242,
          -0.9029099,
          -0.9735696,
          -0.82054,
          -0.91029084,
          -0.7304224,
          -0.87485033,
          -0.76841384,
          -0.73245895,
          -1.0221813,
          -1.1149459,
          -0.76230633,
          -0.72791517,
          -1.2764269,
          -1.0343536,
          -0.76399094,
          -0.7612593,
          -0.81274354,
          -0.7826533,
          -0.7922508,
          -0.752621,
          -0.72256535,
          -0.60682946,
          1.0893931,
          -0.641375,
          -0.64931047,
          -0.68463564,
          -0.16950127,
          -0.74180114,
          1.2210526,
          -0.7420976,
          -1.0745081,
          -0.7054692,
          -0.7812712
         ],
         "xaxis": "x",
         "y": [
          5.6925473,
          -3.2631776,
          -4.0394716,
          -4.0585623,
          -4.083388,
          -4.0600553,
          -4.0606413,
          -4.0782833,
          -3.7760592,
          -3.996161,
          -3.9747932,
          -3.9513054,
          -4.039888,
          -4.1014056,
          -4.0081224,
          -3.9816573,
          0.55010563,
          0.5273451,
          0.5656696,
          -3.474052,
          -2.547057,
          -2.61798,
          -2.5382073,
          -2.8193314,
          -2.932873,
          -3.940739,
          -3.9537075,
          -4.0378685,
          -4.0777674,
          -4.025649,
          -4.023624,
          -3.8164809,
          -4.0311985,
          -4.154475,
          -4.155965,
          -4.1638875,
          -4.164135,
          -4.1520877,
          -4.132103,
          -4.136355,
          -4.135882,
          -4.119189,
          -4.1522617,
          -4.097897,
          -4.04316,
          -2.7395194,
          -3.9726388,
          -3.616943,
          8.778723,
          -2.911185,
          -2.889827,
          -2.9337125,
          -2.9584908,
          -2.864591,
          -2.869284,
          -2.838088,
          -2.956399,
          -3.063082,
          -2.9796822,
          -3.3322134,
          -3.7431555,
          -3.76506,
          -3.0791101,
          -2.8661098,
          -3.0348194,
          -2.9963734,
          -2.7771897,
          -2.8590243,
          -2.8832166,
          -3.1878777,
          -3.2608774,
          -3.2136803,
          -3.2675178,
          -3.253636,
          -3.0493338,
          -2.8403666,
          5.7365556,
          -2.9125183,
          -2.9606411,
          -2.9398797,
          -2.6643693,
          -3.3820834,
          1.423466,
          -3.0701852,
          -3.0506968,
          -3.1498344,
          -2.9478626
         ],
         "yaxis": "y"
        },
        {
         "customdata": [
          [
           "2025-02-02",
           "0-Inbox"
          ],
          [
           "MOC - Doing research, being scientist",
           "2-Reference"
          ],
          [
           "MOC - Doing research, being scientist",
           "2-Reference"
          ],
          [
           "Augmenting Intelligence",
           "2-Reference/Readwise/Articles"
          ],
          [
           "Espresso Hour",
           "2-Reference/Writing Skills"
          ],
          [
           "MOC - Great Thoughts - Big Thoughts",
           "3-MOCs and Projects"
          ],
          [
           "MOC - Marketing",
           "3-MOCs and Projects"
          ],
          [
           "MOC - My Mission",
           "3-MOCs and Projects"
          ],
          [
           "MOC - Inspirations - Cool People - Interesting Work",
           "3-MOCs and Projects"
          ],
          [
           "MOC - Inspirations - Cool People - Interesting Work",
           "3-MOCs and Projects"
          ],
          [
           "MOC - Inspirations - Cool People - Interesting Work",
           "3-MOCs and Projects"
          ],
          [
           "MOC - Interviewing Skill",
           "3-MOCs and Projects"
          ],
          [
           "Ideas - Content and Projects Backlog",
           "3-MOCs and Projects"
          ],
          [
           "Ideas - Content and Projects Backlog",
           "3-MOCs and Projects"
          ],
          [
           "Ideas - Content and Projects Backlog",
           "3-MOCs and Projects"
          ],
          [
           "Ideas - Someday Maybe List",
           "3-MOCs and Projects"
          ],
          [
           "PMOC - Shona LLM - Lepala AI",
           "3-MOCs and Projects"
          ],
          [
           "PMOC - Shona LLM - Lepala AI",
           "3-MOCs and Projects"
          ],
          [
           "PMOC - Shona LLM - Lepala AI",
           "3-MOCs and Projects"
          ],
          [
           "PMOC - Shona LLM - Lepala AI",
           "3-MOCs and Projects"
          ],
          [
           "PMOC - Shona LLM - Lepala AI",
           "3-MOCs and Projects"
          ],
          [
           "MOC - ASH - ARIA - the augmented intelligence company - moonshot",
           "3-MOCs and Projects"
          ],
          [
           "MOC - ASH - ARIA - the augmented intelligence company - moonshot",
           "3-MOCs and Projects"
          ],
          [
           "MOC - ASH - ARIA - the augmented intelligence company - moonshot",
           "3-MOCs and Projects"
          ],
          [
           "MOC - ASH - ARIA - the augmented intelligence company - moonshot",
           "3-MOCs and Projects"
          ],
          [
           "MOC - Remote AI Hedgefund",
           "3-MOCs and Projects"
          ],
          [
           "PMOC - Climate AI - Temperature forecasting",
           "3-MOCs and Projects"
          ],
          [
           "PMOC - Climate AI - Temperature forecasting",
           "3-MOCs and Projects"
          ],
          [
           "PMOC - Climate AI - Temperature forecasting",
           "3-MOCs and Projects"
          ],
          [
           "PMOC - Climate AI - Temperature forecasting",
           "3-MOCs and Projects"
          ],
          [
           "PMOC - Climate AI - Temperature forecasting",
           "3-MOCs and Projects"
          ],
          [
           "2024-05 - The Augmented Writer Idea",
           "3-MOCs and Projects/Projects"
          ],
          [
           "2024-05 - The Augmented Writer Idea",
           "3-MOCs and Projects/Projects"
          ],
          [
           "2024-05 - The Augmented Writer Idea",
           "3-MOCs and Projects/Projects"
          ],
          [
           "2024-05 - The Augmented Writer Idea",
           "3-MOCs and Projects/Projects"
          ],
          [
           "2024-05 - The Augmented Writer Idea",
           "3-MOCs and Projects/Projects"
          ],
          [
           "2024-05 - The Augmented Writer Idea",
           "3-MOCs and Projects/Projects"
          ],
          [
           "MOC - AI Papers - AI Research in 1 Minute",
           "3-MOCs and Projects/Projects"
          ],
          [
           "MOC - AI Papers - AI Research in 1 Minute",
           "3-MOCs and Projects/Projects"
          ],
          [
           "MOC - AI Papers - AI Research in 1 Minute",
           "3-MOCs and Projects/Projects"
          ],
          [
           "MOC - Moonshot Ideas, AI Startup, Holding Company, Augmented Empire Community",
           "3-MOCs and Projects/Projects"
          ],
          [
           "MOC - Moonshot Ideas, AI Startup, Holding Company, Augmented Empire Community",
           "3-MOCs and Projects/Projects"
          ],
          [
           "MOC - Moonshot Ideas, AI Startup, Holding Company, Augmented Empire Community",
           "3-MOCs and Projects/Projects"
          ],
          [
           "MOC - Moonshot Ideas, AI Startup, Holding Company, Augmented Empire Community",
           "3-MOCs and Projects/Projects"
          ],
          [
           "MOC - Moonshot Ideas, AI Startup, Holding Company, Augmented Empire Community",
           "3-MOCs and Projects/Projects"
          ],
          [
           "MOC - Moonshot Ideas, AI Startup, Holding Company, Augmented Empire Community",
           "3-MOCs and Projects/Projects"
          ],
          [
           "MOC - Moonshot Ideas, AI Startup, Holding Company, Augmented Empire Community",
           "3-MOCs and Projects/Projects"
          ],
          [
           "MOC - Storytelling",
           "3-MOCs and Projects/Projects"
          ],
          [
           "MOC - Storytelling",
           "3-MOCs and Projects/Projects"
          ],
          [
           "MOC - AI for Thinkers - Augmented Learner Tools and Brand",
           "3-MOCs and Projects/Projects"
          ],
          [
           "MOC - AI for Thinkers - Augmented Learner Tools and Brand",
           "3-MOCs and Projects/Projects"
          ],
          [
           "MOC - AI for Thinkers - Augmented Learner Tools and Brand",
           "3-MOCs and Projects/Projects"
          ],
          [
           "MOC - AI for Thinkers - Augmented Learner Tools and Brand",
           "3-MOCs and Projects/Projects"
          ],
          [
           "MOC - AI for Thinkers - Augmented Learner Tools and Brand",
           "3-MOCs and Projects/Projects"
          ],
          [
           "MOC - AI for Thinkers - Augmented Learner Tools and Brand",
           "3-MOCs and Projects/Projects"
          ],
          [
           "MOC - AI for Thinkers - Augmented Learner Tools and Brand",
           "3-MOCs and Projects/Projects"
          ],
          [
           "MOC - AI for Thinkers - Augmented Learner Tools and Brand",
           "3-MOCs and Projects/Projects"
          ],
          [
           "MOC - AI for Thinkers - Augmented Learner Tools and Brand",
           "3-MOCs and Projects/Projects"
          ],
          [
           "MOC - AI for Thinkers - Augmented Learner Tools and Brand",
           "3-MOCs and Projects/Projects"
          ],
          [
           "MOC - AI for Thinkers - Augmented Learner Tools and Brand",
           "3-MOCs and Projects/Projects"
          ],
          [
           "MOC - AI for Thinkers - Augmented Learner Tools and Brand",
           "3-MOCs and Projects/Projects"
          ],
          [
           "MOC - Real Estate and Journal",
           "3-MOCs and Projects/Projects"
          ],
          [
           "MOC - Remote Engineers Club",
           "3-MOCs and Projects/Projects/Product Ideas"
          ],
          [
           "MOC - Remote Engineers Club",
           "3-MOCs and Projects/Projects/Product Ideas"
          ],
          [
           "MOC - Remote Engineers Club",
           "3-MOCs and Projects/Projects/Product Ideas"
          ],
          [
           "Platitude Bot Project",
           "3-MOCs and Projects/Projects/Product Ideas"
          ],
          [
           "Platitude Bot Project",
           "3-MOCs and Projects/Projects/Product Ideas"
          ],
          [
           "Platitude Bot Project",
           "3-MOCs and Projects/Projects/Product Ideas"
          ],
          [
           "Social Media Intelligence",
           "3-MOCs and Projects/Projects/Product Ideas"
          ],
          [
           "LLM Text Adventures",
           "3-MOCs and Projects/Projects/Product Ideas"
          ],
          [
           "AI Agents to Make Appts be Virtual Assistants",
           "3-MOCs and Projects/Projects/Product Ideas"
          ],
          [
           "MOC - Capture Ideas, Lead Magnet",
           "3-MOCs and Projects/Projects/Product Ideas"
          ],
          [
           "Build a Community",
           "3-MOCs and Projects/Projects/Product Ideas"
          ],
          [
           "LLM Story Extractor Book Editor",
           "3-MOCs and Projects/Projects/Product Ideas"
          ],
          [
           "Augmented Academy Bootcamp",
           "3-MOCs and Projects/Projects/Product Ideas"
          ],
          [
           "Augmented Learner Mini Book",
           "3-MOCs and Projects/Projects/Product Ideas"
          ],
          [
           "AR Glasses with LLMs",
           "3-MOCs and Projects/Projects/Product Ideas"
          ],
          [
           "Building a Digital Business",
           "3-MOCs and Projects/Projects/Product Ideas"
          ],
          [
           "MOC - Augmented Learning Tooling - Ideas and Vision",
           "3-MOCs and Projects/Projects/Product Ideas"
          ],
          [
           "MOC - Augmented Learning Tooling - Ideas and Vision",
           "3-MOCs and Projects/Projects/Product Ideas"
          ],
          [
           "MOC - Augmented Learning Tooling - Ideas and Vision",
           "3-MOCs and Projects/Projects/Product Ideas"
          ],
          [
           "MOC - Augmented Learning Tooling - Ideas and Vision",
           "3-MOCs and Projects/Projects/Product Ideas"
          ],
          [
           "MOC - Augmented Learning Tooling - Ideas and Vision",
           "3-MOCs and Projects/Projects/Product Ideas"
          ],
          [
           "MOC - Augmented Learning Tooling - Ideas and Vision",
           "3-MOCs and Projects/Projects/Product Ideas"
          ],
          [
           "MOC - Augmented Learning Tooling - Ideas and Vision",
           "3-MOCs and Projects/Projects/Product Ideas"
          ],
          [
           "MOC - Augmented Learning Tooling - Ideas and Vision",
           "3-MOCs and Projects/Projects/Product Ideas"
          ],
          [
           "MOC - Augmented Learning Tooling - Ideas and Vision",
           "3-MOCs and Projects/Projects/Product Ideas"
          ],
          [
           "storyworthy AI",
           "3-MOCs and Projects/Projects/Product Ideas"
          ],
          [
           "AW - Season 1 Arc",
           "3-MOCs and Projects/Projects/Novel - Augmented Writer"
          ],
          [
           "AW - Season 1 Arc",
           "3-MOCs and Projects/Projects/Novel - Augmented Writer"
          ],
          [
           "AW - Season 1 Arc",
           "3-MOCs and Projects/Projects/Novel - Augmented Writer"
          ],
          [
           "AW - Episode 2 Outline",
           "3-MOCs and Projects/Projects/Novel - Augmented Writer"
          ],
          [
           "AW - Episode 2 Outline",
           "3-MOCs and Projects/Projects/Novel - Augmented Writer"
          ],
          [
           "AW - Episode 2 Outline",
           "3-MOCs and Projects/Projects/Novel - Augmented Writer"
          ],
          [
           "AW - Episode 2 Outline",
           "3-MOCs and Projects/Projects/Novel - Augmented Writer"
          ],
          [
           "AW - Episode 2 Outline",
           "3-MOCs and Projects/Projects/Novel - Augmented Writer"
          ],
          [
           "AW - Episode 2 Outline",
           "3-MOCs and Projects/Projects/Novel - Augmented Writer"
          ],
          [
           "AW - Episode 2 Outline",
           "3-MOCs and Projects/Projects/Novel - Augmented Writer"
          ],
          [
           "AW - Episode 2 Outline",
           "3-MOCs and Projects/Projects/Novel - Augmented Writer"
          ],
          [
           "AW - Episode 2 Outline",
           "3-MOCs and Projects/Projects/Novel - Augmented Writer"
          ],
          [
           "AW - Episode 2 Outline",
           "3-MOCs and Projects/Projects/Novel - Augmented Writer"
          ],
          [
           "Project MOC - Novel - Augmented Writer",
           "3-MOCs and Projects/Projects/Novel - Augmented Writer"
          ],
          [
           "Project MOC - Novel - Augmented Writer",
           "3-MOCs and Projects/Projects/Novel - Augmented Writer"
          ],
          [
           "Project MOC - Novel - Augmented Writer",
           "3-MOCs and Projects/Projects/Novel - Augmented Writer"
          ],
          [
           "Project MOC - Novel - Augmented Writer",
           "3-MOCs and Projects/Projects/Novel - Augmented Writer"
          ],
          [
           "Iceberg Summit 2024",
           "3-MOCs and Projects/Projects/Talks"
          ],
          [
           "People to Connect with inspiration role models - AI for DE",
           "3-MOCs and Projects/Projects/Chris on DE"
          ],
          [
           "CT Exercise - Chris Lettieri - AI Data Engineer",
           "3-MOCs and Projects/Projects/Chris on DE"
          ],
          [
           "CT Exercise - Chris Lettieri - AI Data Engineer",
           "3-MOCs and Projects/Projects/Chris on DE"
          ],
          [
           "MOC - Frank Matthews",
           "3-MOCs and Projects/Projects/Writing"
          ],
          [
           "MOC - Feb 2024 - Bits of Chris Writing",
           "3-MOCs and Projects/Projects/Writing"
          ],
          [
           "MOC - Feb 2024 - Bits of Chris Writing",
           "3-MOCs and Projects/Projects/Writing"
          ],
          [
           "MOC - Feb 2024 - Bits of Chris Writing",
           "3-MOCs and Projects/Projects/Writing"
          ],
          [
           "MOC - Feb 2024 - Bits of Chris Writing",
           "3-MOCs and Projects/Projects/Writing"
          ],
          [
           "MOC - Feb 2024 - Bits of Chris Writing",
           "3-MOCs and Projects/Projects/Writing"
          ],
          [
           "MOC - Feb 2024 - Bits of Chris Writing",
           "3-MOCs and Projects/Projects/Writing"
          ],
          [
           "MOC - Feb 2024 - Bits of Chris Writing",
           "3-MOCs and Projects/Projects/Writing"
          ],
          [
           "MOC - Short Tweet Ideas",
           "3-MOCs and Projects/Projects/Writing"
          ],
          [
           "MOC - LinkedIn - Chris Lettieri",
           "3-MOCs and Projects/Projects/Writing"
          ],
          [
           "MOC - LinkedIn - Chris Lettieri",
           "3-MOCs and Projects/Projects/Writing"
          ],
          [
           "MOC - LinkedIn - Chris Lettieri",
           "3-MOCs and Projects/Projects/Writing"
          ],
          [
           "MOC - LinkedIn - Chris Lettieri",
           "3-MOCs and Projects/Projects/Writing"
          ],
          [
           "MOC - LinkedIn - Chris Lettieri",
           "3-MOCs and Projects/Projects/Writing"
          ],
          [
           "MOC - LinkedIn - Chris Lettieri",
           "3-MOCs and Projects/Projects/Writing"
          ],
          [
           "MOC - LinkedIn - Chris Lettieri",
           "3-MOCs and Projects/Projects/Writing"
          ],
          [
           "MOC - LinkedIn - Chris Lettieri",
           "3-MOCs and Projects/Projects/Writing"
          ],
          [
           "MOC - LinkedIn - Chris Lettieri",
           "3-MOCs and Projects/Projects/Writing"
          ],
          [
           "MOC - LinkedIn - Chris Lettieri",
           "3-MOCs and Projects/Projects/Writing"
          ],
          [
           "MOC - LinkedIn - Chris Lettieri",
           "3-MOCs and Projects/Projects/Writing"
          ],
          [
           "MOC - LinkedIn - Chris Lettieri",
           "3-MOCs and Projects/Projects/Writing"
          ],
          [
           "MOC - LinkedIn - Chris Lettieri",
           "3-MOCs and Projects/Projects/Writing"
          ],
          [
           "MOC - LinkedIn - Chris Lettieri",
           "3-MOCs and Projects/Projects/Writing"
          ],
          [
           "MOC - LinkedIn - Chris Lettieri",
           "3-MOCs and Projects/Projects/Writing"
          ],
          [
           "MOC - LinkedIn - Chris Lettieri",
           "3-MOCs and Projects/Projects/Writing"
          ],
          [
           "Later List",
           "3-MOCs and Projects/Projects/Writing"
          ],
          [
           "MOC - AI Be More Human",
           "3-MOCs and Projects/Projects/Writing"
          ],
          [
           "MOC - AI Be More Human",
           "3-MOCs and Projects/Projects/Writing"
          ],
          [
           "MOC - Niche Ideas",
           "3-MOCs and Projects/Projects/Writing"
          ],
          [
           "MOC - Niche Ideas",
           "3-MOCs and Projects/Projects/Writing"
          ],
          [
           "MOC - Niche Ideas",
           "3-MOCs and Projects/Projects/Writing"
          ],
          [
           "MOC - Niche Ideas",
           "3-MOCs and Projects/Projects/Writing"
          ],
          [
           "MOC - Niche Ideas",
           "3-MOCs and Projects/Projects/Writing"
          ],
          [
           "MOC - Niche Ideas",
           "3-MOCs and Projects/Projects/Writing"
          ],
          [
           "MOC - Niche Ideas",
           "3-MOCs and Projects/Projects/Writing"
          ],
          [
           "MOC - Niche Ideas",
           "3-MOCs and Projects/Projects/Writing"
          ],
          [
           "MOC - Niche Ideas",
           "3-MOCs and Projects/Projects/Writing"
          ],
          [
           "MOC - Niche Ideas",
           "3-MOCs and Projects/Projects/Writing"
          ],
          [
           "MOC- Ship 30 for 30 Big Ideas",
           "3-MOCs and Projects/Projects/Writing/Post Ideas"
          ],
          [
           "MOC- Ship 30 for 30 Big Ideas",
           "3-MOCs and Projects/Projects/Writing/Post Ideas"
          ],
          [
           "Details on My algorithm that made 30k in 30 seconds",
           "3-MOCs and Projects/Projects/Writing/Post Ideas"
          ],
          [
           "post - tools for augmented learners",
           "3-MOCs and Projects/Projects/Writing/Post Ideas"
          ],
          [
           "know enough to ask the right question",
           "3-MOCs and Projects/Projects/Writing/Post Ideas"
          ],
          [
           "augmented leaner tool kit",
           "3-MOCs and Projects/Projects/Writing/Post Ideas"
          ],
          [
           "Basic Prompt Writing",
           "3-MOCs and Projects/Projects/Writing/Post Ideas"
          ],
          [
           "Basic Prompt Writing",
           "3-MOCs and Projects/Projects/Writing/Post Ideas"
          ],
          [
           "Test driven development",
           "3-MOCs and Projects/Projects/Writing/Post Ideas"
          ],
          [
           "Tech Changes",
           "3-MOCs and Projects/Projects/Writing/Post Ideas"
          ],
          [
           "Meme - AI angel",
           "3-MOCs and Projects/Projects/Writing/Post Ideas"
          ],
          [
           "Naval Up Everyday",
           "3-MOCs and Projects/Projects/Writing/Post Ideas"
          ],
          [
           "MOC - VV Jack Butcher",
           "3-MOCs and Projects/Projects/Writing/Post Ideas"
          ],
          [
           "Algorithmic Content Creation",
           "3-MOCs and Projects/Projects/Writing/Post Ideas"
          ],
          [
           "Practical tips with Copilot AI",
           "3-MOCs and Projects/Projects/Writing/Post Ideas"
          ],
          [
           "Perplexity Thread Learning Demo",
           "3-MOCs and Projects/Projects/Writing/Post Ideas"
          ],
          [
           "Small Biz of Digital Era",
           "3-MOCs and Projects/Projects/Writing/Post Ideas"
          ],
          [
           "MOC - Writing Skills",
           "3-MOCs and Projects/Projects/Writing/Craft"
          ],
          [
           "MOC - Writing Skills",
           "3-MOCs and Projects/Projects/Writing/Craft"
          ],
          [
           "MOC - Writing Skills",
           "3-MOCs and Projects/Projects/Writing/Craft"
          ],
          [
           "MOC - Digital Business Learning",
           "3-MOCs and Projects/Projects/Writing/Craft"
          ],
          [
           "MOC - Digital Business Learning",
           "3-MOCs and Projects/Projects/Writing/Craft"
          ],
          [
           "MOC - Digital Business Learning",
           "3-MOCs and Projects/Projects/Writing/Craft"
          ],
          [
           "MOC - Digital Business Learning",
           "3-MOCs and Projects/Projects/Writing/Craft"
          ],
          [
           "MOC - Digital Business Learning",
           "3-MOCs and Projects/Projects/Writing/Craft"
          ],
          [
           "MOC - Digital Business Learning",
           "3-MOCs and Projects/Projects/Writing/Craft"
          ],
          [
           "Sophia unicorn game",
           "3-MOCs and Projects/Projects/Writing/Published"
          ],
          [
           "YT Series - Augment Stay Human",
           "3-MOCs and Projects/YouTube/Ideas"
          ],
          [
           "DONE PMOC - Train LLM on My Data",
           "3-MOCs and Projects/Done"
          ],
          [
           "DONE PMOC - Train LLM on My Data",
           "3-MOCs and Projects/Done"
          ],
          [
           "DONE PMOC - Train LLM on My Data",
           "3-MOCs and Projects/Done"
          ],
          [
           "DONE PMOC - Train LLM on My Data",
           "3-MOCs and Projects/Done"
          ],
          [
           "DONE PMOC - Train LLM on My Data",
           "3-MOCs and Projects/Done"
          ],
          [
           "DONE PMOC - Train LLM on My Data",
           "3-MOCs and Projects/Done"
          ],
          [
           "Work Thoughts",
           "0-Current Focus"
          ],
          [
           "AMOC - AI Data Engineer - AI Time Series Researcher",
           "0-Current Focus"
          ],
          [
           "AMOC - AI Data Engineer - AI Time Series Researcher",
           "0-Current Focus"
          ],
          [
           "AMOC - AI Data Engineer - AI Time Series Researcher",
           "0-Current Focus"
          ],
          [
           "AMOC - AI Data Engineer - AI Time Series Researcher",
           "0-Current Focus"
          ],
          [
           "AMOC - AI Data Engineer - AI Time Series Researcher",
           "0-Current Focus"
          ],
          [
           "AMOC - AI Data Engineer - AI Time Series Researcher",
           "0-Current Focus"
          ],
          [
           "AMOC - AI Data Engineer - AI Time Series Researcher",
           "0-Current Focus"
          ],
          [
           "AMOC - AI Data Engineer - AI Time Series Researcher",
           "0-Current Focus"
          ],
          [
           "AMOC - AI Data Engineer - AI Time Series Researcher",
           "0-Current Focus"
          ],
          [
           "AMOC - AI Data Engineer - AI Time Series Researcher",
           "0-Current Focus"
          ],
          [
           "AMOC - AI Data Engineer - AI Time Series Researcher",
           "0-Current Focus"
          ],
          [
           "AMOC - AI Data Engineer - AI Time Series Researcher",
           "0-Current Focus"
          ],
          [
           "content to prototype business ideas",
           "1-Notes"
          ],
          [
           "MOC - Exploring My Niche, Ikigai, Specific Knowledge, Category",
           "1-Notes"
          ],
          [
           "MOC - Learn in Public - Part Time Creator",
           "1-Notes"
          ]
         ],
         "hovertemplate": "color=2<br>x=%{x}<br>y=%{y}<br>note_title=%{customdata[0]}<br>folder=%{customdata[1]}<extra></extra>",
         "legendgroup": "2",
         "marker": {
          "color": "#19d3f3",
          "symbol": "circle"
         },
         "mode": "markers",
         "name": "2",
         "showlegend": true,
         "type": "scattergl",
         "x": [
          2.4054499,
          1.6820639,
          1.796742,
          0.15565999,
          4.4465146,
          1.3434645,
          8.884663,
          1.4865762,
          1.2359408,
          1.22149,
          1.2583097,
          4.700383,
          1.5990459,
          1.4259517,
          1.5771788,
          1.6920321,
          1.7980049,
          1.7860569,
          1.8138162,
          1.8003962,
          1.7803427,
          1.5758733,
          1.6268903,
          1.6137371,
          1.6346995,
          1.8495593,
          2.1994495,
          2.2100492,
          2.2059696,
          2.2153687,
          2.2258778,
          0.97641426,
          0.91004443,
          0.7998195,
          0.88442564,
          0.8160554,
          0.8995634,
          1.5590757,
          1.4856529,
          1.507906,
          1.5684131,
          1.5859761,
          1.6172936,
          1.6499282,
          1.6181405,
          1.5295254,
          1.6088712,
          5.409677,
          5.354039,
          1.0393955,
          1.0401263,
          1.0436858,
          1.0627797,
          1.0700794,
          0.87536263,
          0.97424287,
          1.0481206,
          0.99562854,
          1.0365609,
          0.9186857,
          1.0443141,
          1.7201607,
          0.45690393,
          0.5409027,
          0.41570964,
          1.1618806,
          1.1799579,
          1.205342,
          1.4788564,
          1.0628458,
          0.7697228,
          -0.018409772,
          0.39359888,
          1.1290238,
          1.0920423,
          1.0709093,
          1.2798288,
          1.3950534,
          1.2983967,
          1.2939509,
          1.1362116,
          1.267989,
          1.3293111,
          1.3392322,
          1.2232313,
          1.2523166,
          1.2373298,
          5.401589,
          -3.9125054,
          -3.9045472,
          -3.9265022,
          -3.8790305,
          -3.8701215,
          -3.8759973,
          -3.852403,
          -3.87361,
          -3.8685713,
          -3.8717022,
          -3.8924675,
          -3.8866594,
          -3.8759477,
          -3.5268679,
          -3.573985,
          -3.4709527,
          -3.6031277,
          1.8241832,
          1.1941234,
          4.334141,
          4.2807226,
          -0.44698536,
          1.3917186,
          1.3640172,
          1.3198154,
          1.4025264,
          1.3621744,
          1.361638,
          1.3073014,
          0.73827434,
          4.3891225,
          4.367932,
          4.3819866,
          4.3878036,
          4.378559,
          4.3954926,
          4.392765,
          4.379117,
          4.391074,
          4.3908253,
          4.405548,
          4.408883,
          4.363654,
          4.3911138,
          4.3464155,
          4.3997393,
          -0.8924373,
          0.6749497,
          0.64034754,
          1.0926709,
          1.090002,
          1.030587,
          1.0247198,
          1.0194457,
          1.0104113,
          1.083333,
          0.94228476,
          1.0063828,
          1.0165981,
          1.3260707,
          1.3160887,
          1.2477741,
          1.0030327,
          1.3653878,
          1.0000442,
          0.6160224,
          0.5769182,
          1.4927132,
          0.8872329,
          1.3511124,
          1.2111385,
          1.624817,
          1.2639507,
          -0.03571154,
          0.7450767,
          1.3760017,
          1.5246508,
          1.7659327,
          1.5717907,
          1.3934184,
          1.4428107,
          1.4362694,
          1.4197437,
          1.3605957,
          1.3630438,
          0.6358682,
          -2.0835445,
          0.65976214,
          0.6685616,
          0.670179,
          0.67611516,
          0.7212051,
          0.6697767,
          2.1994903,
          2.397554,
          2.3675914,
          2.356405,
          2.3826084,
          2.3211968,
          2.441096,
          2.429173,
          2.3737202,
          2.4320393,
          2.4009647,
          2.3895583,
          2.4106104,
          1.6172838,
          3.1125166,
          1.6226697
         ],
         "xaxis": "x",
         "y": [
          7.8077517,
          5.1631427,
          5.0389633,
          7.4795017,
          3.8020158,
          5.704295,
          -4.9257703,
          6.139751,
          5.8912597,
          5.870249,
          5.8188643,
          1.2978837,
          5.596857,
          5.927924,
          5.6361823,
          5.553014,
          8.531488,
          8.523227,
          8.525198,
          8.539659,
          8.520924,
          7.088191,
          7.0911245,
          7.0601892,
          7.1286216,
          8.179034,
          8.638456,
          8.639481,
          8.644073,
          8.6387005,
          8.648663,
          6.5394926,
          6.633374,
          6.695152,
          6.6998324,
          6.709284,
          6.5967402,
          8.181264,
          8.080078,
          8.135496,
          7.0968537,
          7.1722836,
          7.104033,
          7.107652,
          7.1180854,
          7.1815786,
          7.127547,
          1.4363693,
          1.5242004,
          7.57892,
          7.624063,
          7.637935,
          7.637751,
          7.630288,
          7.56528,
          7.594509,
          7.6501665,
          7.5482583,
          7.6573796,
          7.595394,
          7.6051087,
          0.56127846,
          5.8485217,
          5.8620386,
          5.8890142,
          6.331003,
          6.3470473,
          6.3067827,
          6.073179,
          7.5633574,
          7.474967,
          6.039535,
          6.016917,
          7.0798235,
          7.4224677,
          7.5995035,
          7.36704,
          4.9978013,
          7.322732,
          7.3293524,
          7.289277,
          7.352191,
          7.3457313,
          7.363941,
          7.3542643,
          7.4218802,
          7.3924646,
          1.4166398,
          8.777171,
          8.735826,
          8.754414,
          8.757684,
          8.751189,
          8.753498,
          8.731938,
          8.746341,
          8.7349415,
          8.74991,
          8.75785,
          8.764399,
          8.748749,
          8.611147,
          8.629397,
          8.585464,
          8.636119,
          5.7145796,
          5.8930206,
          9.642441,
          9.606204,
          3.1027367,
          4.8168983,
          4.6620474,
          4.7445416,
          4.7857876,
          4.835912,
          4.802629,
          4.711484,
          6.4902797,
          9.683536,
          9.657455,
          9.677209,
          9.681798,
          9.669321,
          9.688269,
          9.687829,
          9.673836,
          9.6832695,
          9.68324,
          9.699451,
          9.702636,
          9.657084,
          9.6791525,
          9.639773,
          9.695496,
          -2.0222967,
          7.152891,
          7.151418,
          5.6292686,
          5.681216,
          5.8398786,
          5.7634606,
          5.7235794,
          5.7591534,
          5.7423863,
          5.9208984,
          5.8326173,
          5.7170496,
          5.0701723,
          5.054672,
          1.522399,
          7.5880346,
          5.687199,
          7.578371,
          5.2706933,
          5.2821016,
          5.636429,
          5.567161,
          6.1578436,
          5.0257697,
          5.2918067,
          6.050366,
          7.339082,
          7.4231997,
          4.952116,
          4.797587,
          4.7486367,
          4.914183,
          4.9694223,
          4.981024,
          5.076855,
          4.971888,
          4.948372,
          4.9140363,
          7.539511,
          7.7734327,
          10.109607,
          10.125931,
          10.12188,
          10.12781,
          10.098017,
          10.118201,
          5.736192,
          8.823971,
          8.802686,
          8.78027,
          8.810921,
          8.741557,
          8.835811,
          8.832983,
          8.799915,
          8.853697,
          8.831752,
          8.822241,
          8.822341,
          5.559309,
          2.2369928,
          4.482684
         ],
         "yaxis": "y"
        },
        {
         "customdata": [
          [
           "2024-09- StaffPlus Conference Notes",
           "2-Reference"
          ],
          [
           "DD - Career Growth - Senior Staff",
           "2-Reference"
          ],
          [
           "DD - Career Growth",
           "2-Reference"
          ],
          [
           "Notes for Matt Dicks - 2024-08-15 - Staff Plus",
           "2-Reference/Conversations"
          ],
          [
           "Notes for Matt Dicks - 2024-08-15 - Staff Plus",
           "2-Reference/Conversations"
          ],
          [
           "Notes for Matt Dicks - 2024-08-15 - Staff Plus",
           "2-Reference/Conversations"
          ],
          [
           "Notes for Matt Dicks - 2024-08-15 - Staff Plus",
           "2-Reference/Conversations"
          ],
          [
           "StaffPlus Conference Tips",
           "2-Reference/Conversations"
          ],
          [
           "Staff Plus Content Check In",
           "2-Reference/Conversations"
          ],
          [
           "Notes for Matt Dicks - 2024-08-15",
           "2-Reference/Conversations"
          ],
          [
           "Notes for Matt Dicks - 2024-08-15",
           "2-Reference/Conversations"
          ],
          [
           "Notes for Matt Dicks - 2024-08-15",
           "2-Reference/Conversations"
          ],
          [
           "Storytelling, Storyworthy with Matthew Dicks",
           "2-Reference/Storytelling"
          ],
          [
           "Storytelling, Storyworthy with Matthew Dicks",
           "2-Reference/Storytelling"
          ],
          [
           "Storytelling, Storyworthy with Matthew Dicks",
           "2-Reference/Storytelling"
          ],
          [
           "Storytelling, Storyworthy with Matthew Dicks",
           "2-Reference/Storytelling"
          ],
          [
           "Storytelling, Storyworthy with Matthew Dicks",
           "2-Reference/Storytelling"
          ],
          [
           "Storytelling, Storyworthy with Matthew Dicks",
           "2-Reference/Storytelling"
          ],
          [
           "Storytelling, Storyworthy with Matthew Dicks",
           "2-Reference/Storytelling"
          ],
          [
           "Storytelling, Storyworthy with Matthew Dicks",
           "2-Reference/Storytelling"
          ],
          [
           "Storytelling, Storyworthy with Matthew Dicks",
           "2-Reference/Storytelling"
          ],
          [
           "Storytelling, Storyworthy with Matthew Dicks",
           "2-Reference/Storytelling"
          ],
          [
           "Storytelling, Storyworthy with Matthew Dicks",
           "2-Reference/Storytelling"
          ],
          [
           "Storytelling, Storyworthy with Matthew Dicks",
           "2-Reference/Storytelling"
          ],
          [
           "Storytelling, Storyworthy with Matthew Dicks",
           "2-Reference/Storytelling"
          ],
          [
           "Storytelling, Storyworthy with Matthew Dicks",
           "2-Reference/Storytelling"
          ],
          [
           "Storytelling, Storyworthy with Matthew Dicks",
           "2-Reference/Storytelling"
          ],
          [
           "Storytelling, Storyworthy with Matthew Dicks",
           "2-Reference/Storytelling"
          ],
          [
           "Matthew Dicks - Coaching - March 2024",
           "2-Reference/Storytelling"
          ],
          [
           "Questions for Matthew Dicks",
           "2-Reference/Storytelling"
          ],
          [
           "Questions for Matthew Dicks",
           "2-Reference/Storytelling"
          ],
          [
           "Questions for Matthew Dicks",
           "2-Reference/Storytelling"
          ],
          [
           "Questions for Matthew Dicks",
           "2-Reference/Storytelling"
          ],
          [
           "Questions for Matthew Dicks",
           "2-Reference/Storytelling"
          ],
          [
           "Outline StaffPlus Talk - Notes",
           "3-MOCs and Projects/Projects/Talks"
          ],
          [
           "Outline StaffPlus Talk - Notes",
           "3-MOCs and Projects/Projects/Talks"
          ],
          [
           "Outline StaffPlus Talk - Notes",
           "3-MOCs and Projects/Projects/Talks"
          ],
          [
           "Outline StaffPlus Talk - Notes",
           "3-MOCs and Projects/Projects/Talks"
          ],
          [
           "MOC - StaffPlus Talk",
           "3-MOCs and Projects/Projects/Talks/StaffPlus 2024"
          ],
          [
           "MOC - StaffPlus Talk",
           "3-MOCs and Projects/Projects/Talks/StaffPlus 2024"
          ],
          [
           "MOC - StaffPlus Talk",
           "3-MOCs and Projects/Projects/Talks/StaffPlus 2024"
          ],
          [
           "MOC - StaffPlus Talk",
           "3-MOCs and Projects/Projects/Talks/StaffPlus 2024"
          ],
          [
           "MOC - StaffPlus Talk",
           "3-MOCs and Projects/Projects/Talks/StaffPlus 2024"
          ],
          [
           "MOC - StaffPlus Talk",
           "3-MOCs and Projects/Projects/Talks/StaffPlus 2024"
          ],
          [
           "MOC - StaffPlus Talk",
           "3-MOCs and Projects/Projects/Talks/StaffPlus 2024"
          ],
          [
           "MOC - StaffPlus Talk",
           "3-MOCs and Projects/Projects/Talks/StaffPlus 2024"
          ],
          [
           "MOC - StaffPlus Talk",
           "3-MOCs and Projects/Projects/Talks/StaffPlus 2024"
          ],
          [
           "MOC - StaffPlus Talk",
           "3-MOCs and Projects/Projects/Talks/StaffPlus 2024"
          ],
          [
           "MOC - StaffPlus Talk",
           "3-MOCs and Projects/Projects/Talks/StaffPlus 2024"
          ],
          [
           "MOC - StaffPlus Talk",
           "3-MOCs and Projects/Projects/Talks/StaffPlus 2024"
          ],
          [
           "MOC - StaffPlus Talk",
           "3-MOCs and Projects/Projects/Talks/StaffPlus 2024"
          ],
          [
           "MOC - StaffPlus Talk",
           "3-MOCs and Projects/Projects/Talks/StaffPlus 2024"
          ],
          [
           "MOC - StaffPlus Talk",
           "3-MOCs and Projects/Projects/Talks/StaffPlus 2024"
          ],
          [
           "MOC - StaffPlus Talk",
           "3-MOCs and Projects/Projects/Talks/StaffPlus 2024"
          ],
          [
           "MOC - StaffPlus Talk",
           "3-MOCs and Projects/Projects/Talks/StaffPlus 2024"
          ],
          [
           "MOC - StaffPlus Talk",
           "3-MOCs and Projects/Projects/Talks/StaffPlus 2024"
          ],
          [
           "MOC - StaffPlus Talk",
           "3-MOCs and Projects/Projects/Talks/StaffPlus 2024"
          ],
          [
           "Staff Plus - my recap post",
           "3-MOCs and Projects/Projects/Talks/StaffPlus 2024"
          ],
          [
           "Staff Plus - my recap post",
           "3-MOCs and Projects/Projects/Talks/StaffPlus 2024"
          ],
          [
           "Staff Plus - my recap post",
           "3-MOCs and Projects/Projects/Talks/StaffPlus 2024"
          ],
          [
           "Staff Plus - my recap post",
           "3-MOCs and Projects/Projects/Talks/StaffPlus 2024"
          ],
          [
           "Staff Plus - my recap post",
           "3-MOCs and Projects/Projects/Talks/StaffPlus 2024"
          ],
          [
           "Staff Plus - my recap post",
           "3-MOCs and Projects/Projects/Talks/StaffPlus 2024"
          ],
          [
           "Staff Plus - my recap post",
           "3-MOCs and Projects/Projects/Talks/StaffPlus 2024"
          ],
          [
           "Staff Plus - my recap post",
           "3-MOCs and Projects/Projects/Talks/StaffPlus 2024"
          ],
          [
           "StaffPlus Talk - Script",
           "3-MOCs and Projects/Projects/Talks/StaffPlus 2024"
          ],
          [
           "StaffPlus Talk - Script",
           "3-MOCs and Projects/Projects/Talks/StaffPlus 2024"
          ],
          [
           "StaffPlus Talk - Script",
           "3-MOCs and Projects/Projects/Talks/StaffPlus 2024"
          ],
          [
           "StaffPlus Talk - Script",
           "3-MOCs and Projects/Projects/Talks/StaffPlus 2024"
          ],
          [
           "StaffPlus Talk - Script",
           "3-MOCs and Projects/Projects/Talks/StaffPlus 2024"
          ],
          [
           "StaffPlus Talk - Script",
           "3-MOCs and Projects/Projects/Talks/StaffPlus 2024"
          ],
          [
           "StaffPlus Talk - Script",
           "3-MOCs and Projects/Projects/Talks/StaffPlus 2024"
          ],
          [
           "Staff Plus Description",
           "3-MOCs and Projects/Projects/Talks/StaffPlus 2024"
          ],
          [
           "Staffplus points",
           "3-MOCs and Projects/Projects/Talks/StaffPlus 2024"
          ],
          [
           "Staff Engineer Book Summaries",
           "3-MOCs and Projects/Projects/Writing/Post Ideas"
          ],
          [
           "Companies need to promote more staff engineers",
           "3-MOCs and Projects/Projects/Writing/Post Ideas"
          ],
          [
           "Post - Non-tech books that transformer as staff eng",
           "3-MOCs and Projects/Projects/Writing/Post Ideas"
          ],
          [
           "How coaching teeball made me a better staff engineer",
           "3-MOCs and Projects/Projects/Writing/Post Ideas"
          ],
          [
           "Wouter 1 on 1 Post",
           "3-MOCs and Projects/Projects/Writing/Post Ideas"
          ],
          [
           "Senior to Staff - business value",
           "3-MOCs and Projects/Projects/Writing/Post Ideas"
          ],
          [
           "Senior to Staff, coding tops off",
           "3-MOCs and Projects/Projects/Writing/Post Ideas"
          ],
          [
           "Staff Level impact - Post",
           "3-MOCs and Projects/Projects/Writing/Post Ideas"
          ],
          [
           "Staff Level impact - Post",
           "3-MOCs and Projects/Projects/Writing/Post Ideas"
          ],
          [
           "X Things That Changed from Senior to Staff",
           "3-MOCs and Projects/Projects/Writing/Post Ideas"
          ],
          [
           "Staff Level Impact Video",
           "3-MOCs and Projects/Projects/Writing/Published"
          ]
         ],
         "hovertemplate": "color=36<br>x=%{x}<br>y=%{y}<br>note_title=%{customdata[0]}<br>folder=%{customdata[1]}<extra></extra>",
         "legendgroup": "36",
         "marker": {
          "color": "#FF6692",
          "symbol": "circle"
         },
         "mode": "markers",
         "name": "36",
         "showlegend": true,
         "type": "scattergl",
         "x": [
          5.089595,
          4.901254,
          4.845169,
          5.0703454,
          5.140027,
          5.156658,
          5.1514993,
          5.079548,
          5.136282,
          5.1530175,
          5.1422715,
          5.144989,
          5.35913,
          5.397942,
          5.3803034,
          5.3496537,
          5.3548546,
          5.3694854,
          5.312272,
          5.381886,
          5.3615155,
          5.349114,
          5.355011,
          5.363164,
          5.3056116,
          5.361659,
          5.410679,
          5.288769,
          5.145779,
          5.182731,
          5.169571,
          5.1618423,
          5.094814,
          5.1538777,
          5.346249,
          5.264834,
          5.142744,
          5.3468685,
          5.1838217,
          5.2477374,
          5.2337747,
          5.282466,
          5.3196063,
          5.3308773,
          5.3182383,
          5.2461185,
          5.3015127,
          5.2812486,
          5.282321,
          5.2177625,
          5.311515,
          5.263309,
          5.262748,
          5.1526766,
          5.246687,
          5.1997285,
          5.1667438,
          5.1724987,
          5.072274,
          5.099099,
          5.070052,
          5.113857,
          5.0888567,
          5.0657606,
          5.1357017,
          5.2743073,
          5.315755,
          5.329668,
          5.3101873,
          5.3390975,
          5.3156033,
          5.351152,
          5.0889845,
          5.283173,
          4.910025,
          0.56183934,
          0.4764535,
          0.5996728,
          2.3171077,
          4.885601,
          4.879267,
          5.097631,
          5.126454,
          4.9422326,
          5.104663
         ],
         "xaxis": "x",
         "y": [
          -0.2917274,
          -0.1610274,
          -0.1519819,
          0.14536613,
          0.2800348,
          0.3872007,
          0.42076975,
          -0.074117795,
          -0.17711778,
          0.46019125,
          0.5096178,
          0.4565815,
          1.1980505,
          1.2633362,
          1.187936,
          1.1957138,
          1.2053362,
          1.2304562,
          1.2457671,
          1.213833,
          1.1977774,
          1.1790078,
          1.264669,
          1.1900373,
          1.1123548,
          1.220085,
          1.1595768,
          1.2049499,
          0.8720622,
          0.9685332,
          0.9386424,
          0.90582335,
          0.918927,
          0.90687513,
          -0.005159644,
          0.07223405,
          -0.04350425,
          0.008301994,
          -0.053835116,
          -0.042360365,
          -0.08635545,
          -0.03451981,
          -0.05786255,
          -0.047573306,
          -0.0057842326,
          -0.085895225,
          -0.02137054,
          -0.07407525,
          -0.017789036,
          -0.120450616,
          -0.058108754,
          -0.09200605,
          -0.12680417,
          -0.15287636,
          -0.07383556,
          -0.15657806,
          -0.18810242,
          -0.12294556,
          -0.30987775,
          -0.30149195,
          -0.3117895,
          -0.2786889,
          -0.28466156,
          -0.29975927,
          -0.27735078,
          -0.019267295,
          -0.053212907,
          -0.07813752,
          -0.051628612,
          -0.012050404,
          -0.06973993,
          -0.034735546,
          -0.2521064,
          0.035654508,
          -0.32135972,
          4.962833,
          5.0341196,
          4.9032903,
          5.593053,
          -0.120632015,
          -0.08833517,
          -0.19070265,
          -0.21919888,
          -0.11160181,
          -0.20068339
         ],
         "yaxis": "y"
        },
        {
         "customdata": [
          [
           "Steve Jobs on focus",
           "2-Reference"
          ],
          [
           "pragmatic productivity - WFHFIRE",
           "3-MOCs and Projects/Projects/Writing/Post Ideas"
          ],
          [
           "What is most important now",
           "3-MOCs and Projects/Projects/Writing/Post Ideas"
          ],
          [
           "Not every aspect is equally important, Focus on What matters",
           "1-Notes"
          ],
          [
           "Focus on the Most Important thing - Focus on the What",
           "1-Notes"
          ],
          [
           "focus where you are at- on the current step",
           "1-Notes"
          ],
          [
           "Avoid Context Switching",
           "1-Notes"
          ],
          [
           "Focus is most important thing",
           "1-Notes"
          ],
          [
           "Focus is most important thing",
           "1-Notes"
          ],
          [
           "Focus your Learning, not too much at once",
           "1-Notes"
          ],
          [
           "Focus your Learning, not too much at once",
           "1-Notes"
          ]
         ],
         "hovertemplate": "color=21<br>x=%{x}<br>y=%{y}<br>note_title=%{customdata[0]}<br>folder=%{customdata[1]}<extra></extra>",
         "legendgroup": "21",
         "marker": {
          "color": "#B6E880",
          "symbol": "circle"
         },
         "mode": "markers",
         "name": "21",
         "showlegend": true,
         "type": "scattergl",
         "x": [
          1.9304084,
          1.8883469,
          1.9311935,
          1.989622,
          1.995353,
          2.0716243,
          1.4428353,
          1.8755841,
          1.964245,
          2.106638,
          2.200927
         ],
         "xaxis": "x",
         "y": [
          4.220859,
          4.3287272,
          4.274969,
          4.1769204,
          4.1825166,
          4.128905,
          4.01645,
          4.197052,
          4.1964507,
          4.070276,
          4.136428
         ],
         "yaxis": "y"
        },
        {
         "customdata": [
          [
           "15 Times to Use AI, and 5 Not To",
           "2-Reference/Readwise/Articles"
          ],
          [
           "How I Use AI",
           "2-Reference/Readwise/Articles"
          ],
          [
           "Thinking Like an AI",
           "2-Reference/Readwise/Articles"
          ],
          [
           "Generative AI in a Nutshell",
           "2-Reference/Video"
          ],
          [
           "Generative AI in a Nutshell",
           "2-Reference/Video"
          ],
          [
           "Generative AI in a Nutshell",
           "2-Reference/Video"
          ],
          [
           "Generative AI in a Nutshell",
           "2-Reference/Video"
          ],
          [
           "Generative AI in a Nutshell",
           "2-Reference/Video"
          ],
          [
           "Generative AI in a Nutshell",
           "2-Reference/Video"
          ],
          [
           "content framework for my youtube",
           "2-Reference/AI Conversations"
          ],
          [
           "Claude - rest and dopamine signals",
           "2-Reference/AI Conversations"
          ],
          [
           "AI for Everyone Course",
           "2-Reference/Courses"
          ],
          [
           "AI for Everyone Course",
           "2-Reference/Courses"
          ],
          [
           "AI for Everyone Course",
           "2-Reference/Courses"
          ],
          [
           "AI for Everyone Course",
           "2-Reference/Courses"
          ],
          [
           "AI for Everyone Course",
           "2-Reference/Courses"
          ],
          [
           "AI for Everyone Course",
           "2-Reference/Courses"
          ],
          [
           "AI for Everyone Course",
           "2-Reference/Courses"
          ],
          [
           "AI for Everyone Course",
           "2-Reference/Courses"
          ],
          [
           "Chat with Entire Second Brain - llamaindex, ai plugins",
           "3-MOCs and Projects/Projects"
          ],
          [
           "Chat with Entire Second Brain - llamaindex, ai plugins",
           "3-MOCs and Projects/Projects"
          ],
          [
           "0 - Quick Bits - 2024-09-13 - start your second brain",
           "3-MOCs and Projects/Projects/Podcast - BoC/Shows"
          ],
          [
           "GPT for Obsidian",
           "3-MOCs and Projects/Projects/Product Ideas"
          ],
          [
           "Date Night Backgrounds - Ai Gen Video",
           "3-MOCs and Projects/Projects/Product Ideas"
          ],
          [
           "My Tools That I Use",
           "3-MOCs and Projects/Projects/Writing/Post Ideas"
          ],
          [
           "You are Better than AI at XYZ",
           "3-MOCs and Projects/Projects/Writing/Post Ideas"
          ],
          [
           "AI Plugins for Obsidian",
           "3-MOCs and Projects/Projects/Writing/Post Ideas"
          ],
          [
           "3 ways I use AI in my second brain",
           "3-MOCs and Projects/Projects/Writing/Post Ideas"
          ],
          [
           "Teaching Sophia Neural Networks teaching",
           "3-MOCs and Projects/Projects/Writing/Post Ideas"
          ],
          [
           "YT - A Few Useful Things to Know about Machine Learning ML",
           "3-MOCs and Projects/YouTube/Done"
          ],
          [
           "YT - how to learn data engineering in 2025",
           "3-MOCs and Projects/YouTube/Done"
          ],
          [
           "YT short - ai for ceos and decision makers",
           "3-MOCs and Projects/YouTube/Done"
          ],
          [
           "YT short - ai for ceos and decision makers",
           "3-MOCs and Projects/YouTube/Done"
          ],
          [
           "YT short - ai for ceos and decision makers",
           "3-MOCs and Projects/YouTube/Done"
          ],
          [
           "YT short - ai for ceos and decision makers",
           "3-MOCs and Projects/YouTube/Done"
          ],
          [
           "YT short - ai for ceos and decision makers",
           "3-MOCs and Projects/YouTube/Done"
          ],
          [
           "YT short - ai for ceos and decision makers",
           "3-MOCs and Projects/YouTube/Done"
          ],
          [
           "YT short - ai for ceos and decision makers",
           "3-MOCs and Projects/YouTube/Done"
          ],
          [
           "YT short - ai for ceos and decision makers",
           "3-MOCs and Projects/YouTube/Done"
          ],
          [
           "YT - how ai can help make you more money no gimmicks",
           "3-MOCs and Projects/YouTube/Ideas"
          ],
          [
           "YT Series - Augment Stay Human",
           "3-MOCs and Projects/YouTube/Ideas"
          ],
          [
           "YT Series - Augment Stay Human",
           "3-MOCs and Projects/YouTube/Ideas"
          ],
          [
           "YT Series - Augment Stay Human",
           "3-MOCs and Projects/YouTube/Ideas"
          ],
          [
           "YT - I had o1 process all my linked Obsidian notes, I'm shocked.. i let AI loose in my second brain, holy f*ck",
           "3-MOCs and Projects/YouTube/Ideas"
          ],
          [
           "YT - I had o1 process all my linked Obsidian notes, I'm shocked.. i let AI loose in my second brain, holy f*ck",
           "3-MOCs and Projects/YouTube/Ideas"
          ],
          [
           "YT - I had o1 process all my linked Obsidian notes, I'm shocked.. i let AI loose in my second brain, holy f*ck",
           "3-MOCs and Projects/YouTube/Ideas"
          ],
          [
           "YT - I had o1 process all my linked Obsidian notes, I'm shocked.. i let AI loose in my second brain, holy f*ck",
           "3-MOCs and Projects/YouTube/Ideas"
          ],
          [
           "YT - I had o1 process all my linked Obsidian notes, I'm shocked.. i let AI loose in my second brain, holy f*ck",
           "3-MOCs and Projects/YouTube/Ideas"
          ],
          [
           "YT - I had o1 process all my linked Obsidian notes, I'm shocked.. i let AI loose in my second brain, holy f*ck",
           "3-MOCs and Projects/YouTube/Ideas"
          ],
          [
           "YT - I had o1 process all my linked Obsidian notes, I'm shocked.. i let AI loose in my second brain, holy f*ck",
           "3-MOCs and Projects/YouTube/Ideas"
          ],
          [
           "YT - I had o1 process all my linked Obsidian notes, I'm shocked.. i let AI loose in my second brain, holy f*ck",
           "3-MOCs and Projects/YouTube/Ideas"
          ],
          [
           "YT - when to trust AI",
           "3-MOCs and Projects/YouTube/Ideas"
          ],
          [
           "YT - when to trust AI",
           "3-MOCs and Projects/YouTube/Ideas"
          ],
          [
           "YT - when to trust AI",
           "3-MOCs and Projects/YouTube/Ideas"
          ],
          [
           "YT - when to trust AI",
           "3-MOCs and Projects/YouTube/Ideas"
          ],
          [
           "YT - when to trust AI",
           "3-MOCs and Projects/YouTube/Ideas"
          ],
          [
           "YT - when to trust AI",
           "3-MOCs and Projects/YouTube/Ideas"
          ],
          [
           "YT - when to trust AI",
           "3-MOCs and Projects/YouTube/Ideas"
          ],
          [
           "YT - when to trust AI",
           "3-MOCs and Projects/YouTube/Ideas"
          ],
          [
           "YT - when to trust AI",
           "3-MOCs and Projects/YouTube/Ideas"
          ],
          [
           "YT - Yes AI can Trade No you wont make money",
           "3-MOCs and Projects/YouTube/Ideas"
          ],
          [
           "YT - Yes AI can Trade No you wont make money",
           "3-MOCs and Projects/YouTube/Ideas"
          ],
          [
           "YT - Yes AI can Trade No you wont make money",
           "3-MOCs and Projects/YouTube/Ideas"
          ],
          [
           "YT - Yes AI can Trade No you wont make money",
           "3-MOCs and Projects/YouTube/Ideas"
          ],
          [
           "YT - Yes AI can Trade No you wont make money",
           "3-MOCs and Projects/YouTube/Ideas"
          ],
          [
           "YT - Yes AI can Trade No you wont make money",
           "3-MOCs and Projects/YouTube/Ideas"
          ],
          [
           "PMOC - AI Clone - Fine tuning on my second brain",
           "0-Current Focus"
          ],
          [
           "PMOC - AI Clone - Fine tuning on my second brain",
           "0-Current Focus"
          ],
          [
           "PMOC - AI Clone - Fine tuning on my second brain",
           "0-Current Focus"
          ],
          [
           "PMOC - AI Clone - Fine tuning on my second brain",
           "0-Current Focus"
          ],
          [
           "PMOC - AI Clone - Fine tuning on my second brain",
           "0-Current Focus"
          ],
          [
           "PMOC - AI Clone - Fine tuning on my second brain",
           "0-Current Focus"
          ],
          [
           "PMOC - AI Clone - Fine tuning on my second brain",
           "0-Current Focus"
          ],
          [
           "PMOC - AI Clone - Fine tuning on my second brain",
           "0-Current Focus"
          ],
          [
           "PMOC - AI Clone - Fine tuning on my second brain",
           "0-Current Focus"
          ],
          [
           "PMOC - AI Clone - Fine tuning on my second brain",
           "0-Current Focus"
          ],
          [
           "PMOC - AI Clone - Fine tuning on my second brain",
           "0-Current Focus"
          ],
          [
           "PMOC - AI Clone - Fine tuning on my second brain",
           "0-Current Focus"
          ],
          [
           "Training AI on Second Brains - Vision",
           "1-Notes"
          ],
          [
           "Training AI on Second Brains - Vision",
           "1-Notes"
          ],
          [
           "AI vs IA Map - LLMs vs Humans - AI is better at",
           "1-Notes"
          ],
          [
           "AI vs IA Map - LLMs vs Humans - AI is better at",
           "1-Notes"
          ],
          [
           "How I Use AI In My Second Brain",
           "1-Notes"
          ],
          [
           "How I Use AI In My Second Brain",
           "1-Notes"
          ],
          [
           "How I Use AI In My Second Brain",
           "1-Notes"
          ],
          [
           "How I Use AI In My Second Brain",
           "1-Notes"
          ],
          [
           "How I Use AI In My Second Brain",
           "1-Notes"
          ],
          [
           "How I Use AI In My Second Brain",
           "1-Notes"
          ],
          [
           "How I Use AI In My Second Brain",
           "1-Notes"
          ],
          [
           "MOC Pillar - AI in Your Second Brain Ultimate Guide - Tools and How",
           "1-Notes"
          ],
          [
           "MOC Pillar - AI in Your Second Brain Ultimate Guide - Tools and How",
           "1-Notes"
          ],
          [
           "MOC Pillar - AI in Your Second Brain Ultimate Guide - Tools and How",
           "1-Notes"
          ],
          [
           "MOC Pillar - AI in Your Second Brain Ultimate Guide - Tools and How",
           "1-Notes"
          ],
          [
           "MOC Pillar - AI in Your Second Brain Ultimate Guide - Tools and How",
           "1-Notes"
          ],
          [
           "ai data engineer observations",
           "1-Notes"
          ]
         ],
         "hovertemplate": "color=25<br>x=%{x}<br>y=%{y}<br>note_title=%{customdata[0]}<br>folder=%{customdata[1]}<extra></extra>",
         "legendgroup": "25",
         "marker": {
          "color": "#FF97FF",
          "symbol": "circle"
         },
         "mode": "markers",
         "name": "25",
         "showlegend": true,
         "type": "scattergl",
         "x": [
          -0.3137464,
          -0.19847716,
          -0.22794785,
          -0.81339365,
          -0.8253234,
          -0.788554,
          -0.78702825,
          -0.811945,
          -0.80203503,
          -1.8639386,
          0.5571477,
          -0.66370577,
          -0.76380837,
          -0.7267272,
          -0.68761414,
          -0.7119023,
          -0.72471195,
          -0.7727491,
          -0.7202077,
          0.9405747,
          0.8730668,
          4.0766034,
          1.908211,
          -1.033784,
          3.57307,
          0.09698722,
          1.0698333,
          0.4789435,
          0.13776055,
          -1.4284875,
          -1.0634815,
          -1.5092788,
          -1.430296,
          -1.5437675,
          -1.3761011,
          -1.4414684,
          -1.5057104,
          -1.3627285,
          -1.4868209,
          -1.6082716,
          -2.0807295,
          -2.0974383,
          -2.0908897,
          13.990703,
          13.991013,
          13.990816,
          13.990695,
          13.990608,
          13.990781,
          13.9914665,
          13.989685,
          -1.8770967,
          -1.8814428,
          -1.9034224,
          -1.9090973,
          -1.9012583,
          -1.8725753,
          -1.8632029,
          -1.8617119,
          -1.793516,
          -1.7366719,
          -1.7433896,
          -1.7496568,
          -1.7325686,
          -1.7493457,
          -1.7529267,
          1.2152122,
          1.1815795,
          1.183334,
          1.1998019,
          1.1824803,
          1.1726657,
          1.1616111,
          1.136358,
          1.1697694,
          1.1705223,
          1.1766206,
          1.1793338,
          0.5330549,
          0.5602277,
          0.21882808,
          0.21519956,
          0.40060413,
          0.44359216,
          0.4238733,
          0.45937306,
          0.49630257,
          0.5208547,
          0.4087443,
          0.88585776,
          0.89836526,
          0.8898509,
          0.8781413,
          0.85095096,
          -0.57573366
         ],
         "xaxis": "x",
         "y": [
          7.8978825,
          8.02901,
          7.801181,
          8.063664,
          8.041499,
          8.123514,
          8.063391,
          8.04908,
          8.051529,
          5.233413,
          3.3930662,
          8.33052,
          8.421694,
          8.432279,
          8.411274,
          8.364232,
          8.394933,
          8.436887,
          8.4366865,
          8.085357,
          8.084526,
          5.2644353,
          7.414055,
          7.351952,
          6.099911,
          7.519834,
          7.9177246,
          8.125898,
          8.142424,
          9.478454,
          5.742022,
          7.6375556,
          7.688846,
          7.682758,
          7.7151613,
          7.6801777,
          7.665569,
          7.7313757,
          7.6497912,
          7.150991,
          7.7735777,
          7.7807374,
          7.77737,
          11.986284,
          11.9863615,
          11.986328,
          11.986311,
          11.986278,
          11.986326,
          11.986453,
          11.986058,
          7.6910663,
          7.6936545,
          7.6629934,
          7.679896,
          7.6630893,
          7.6859913,
          7.6891527,
          7.695929,
          7.713845,
          7.238584,
          7.2204676,
          7.23314,
          7.2622337,
          7.2370424,
          7.2436895,
          9.51167,
          9.53805,
          9.528098,
          9.513534,
          9.547586,
          9.535962,
          9.574623,
          9.570268,
          9.543722,
          9.544478,
          9.536072,
          9.55575,
          8.061344,
          8.013799,
          8.8378,
          8.815642,
          8.130746,
          8.143257,
          8.159191,
          8.153861,
          8.192225,
          8.100188,
          8.13864,
          8.01295,
          8.001864,
          8.00953,
          8.005754,
          8.011973,
          8.595408
         ],
         "yaxis": "y"
        },
        {
         "customdata": [
          [
           "34 Life Lessons From 34 Years  the Curiosity Chronicle",
           "2-Reference/Readwise/Articles"
          ],
          [
           "The Taxes of Life You Need to Pay  the Curiosity Chronicle",
           "2-Reference/Readwise/Articles"
          ],
          [
           "9 Hidden Signs of Personal Growth  the Curiosity Chronicle",
           "2-Reference/Readwise/Articles"
          ],
          [
           "13 Harsh Truths About Success Nobody Told You  the Curiosity Chronicle",
           "2-Reference/Readwise/Articles"
          ],
          [
           "Information-Action Gap, One Decision Away, & More  the Curiosity Chronicle",
           "2-Reference/Readwise/Articles"
          ],
          [
           "Brutally Honest Advice to My Younger Self  the Curiosity Chronicle",
           "2-Reference/Readwise/Articles"
          ],
          [
           "11 Things I Quit to Transform My Life  the Curiosity Chronicle",
           "2-Reference/Readwise/Articles"
          ],
          [
           "The Case for Slowing Down  the Curiosity Chronicle",
           "2-Reference/Readwise/Articles"
          ],
          [
           "The Best Ideas of 2024  the Curiosity Chronicle",
           "2-Reference/Readwise/Articles"
          ],
          [
           "The Discipline of Desire, Beginner's Paradox, & More  the Curiosity Chronicle",
           "2-Reference/Readwise/Articles"
          ],
          [
           "The Discipline of Desire, Beginner's Paradox, & More  the Curiosity Chronicle",
           "2-Reference/Readwise/Articles"
          ],
          [
           "Sahil Bloom – Creativity, Investing, and Engineered Serendipity",
           "2-Reference/Readwise/Podcasts"
          ],
          [
           "Sahil Bloom – Creativity, Investing, and Engineered Serendipity",
           "2-Reference/Readwise/Podcasts"
          ],
          [
           "How I Grew From 0 to 500k Followers in Under 2 Years - Sahil Bloom",
           "2-Reference/Readwise/Podcasts"
          ],
          [
           "Sahil Bloom’s #1 Advice to All Content Creators",
           "2-Reference/Readwise/Podcasts"
          ],
          [
           "9 Systems to Build a Life of Abundance - Sahil Bloom",
           "2-Reference/Readwise/Podcasts"
          ],
          [
           "9 Systems to Build a Life of Abundance - Sahil Bloom",
           "2-Reference/Readwise/Podcasts"
          ],
          [
           "Sahil Bloom on the Future of Artificial Intelligence, Content Creation and Relationships  FO 75",
           "2-Reference/Readwise/Podcasts"
          ],
          [
           "The Discipline of Desire, Beginner's Paradox, & More  The Curiosity Chronicle",
           "2-Reference/Instapaper"
          ]
         ],
         "hovertemplate": "color=15<br>x=%{x}<br>y=%{y}<br>note_title=%{customdata[0]}<br>folder=%{customdata[1]}<extra></extra>",
         "legendgroup": "15",
         "marker": {
          "color": "#FECB52",
          "symbol": "circle"
         },
         "mode": "markers",
         "name": "15",
         "showlegend": true,
         "type": "scattergl",
         "x": [
          1.8359897,
          1.8532634,
          1.7979181,
          1.8722751,
          1.9027613,
          1.8370675,
          1.8161403,
          1.7942541,
          1.8382176,
          1.8964121,
          1.8961222,
          -2.6451306,
          -2.6411324,
          -2.7057474,
          -2.6632397,
          -2.6763494,
          -2.6181803,
          -2.7481172,
          1.9894733
         ],
         "xaxis": "x",
         "y": [
          2.702029,
          2.6106825,
          2.5494661,
          2.6832726,
          2.7012804,
          2.6740117,
          2.638161,
          2.656957,
          2.6503103,
          2.6617634,
          2.699238,
          0.030821169,
          0.049134027,
          -0.1307885,
          0.00941654,
          -0.025412412,
          0.022757092,
          -0.022523515,
          2.7942367
         ],
         "yaxis": "y"
        },
        {
         "customdata": [
          [
           "How I Built a #1-Ranked Podcast With 60M+ Downloads - The Blog of Author Tim Ferriss",
           "2-Reference/Readwise/Articles"
          ],
          [
           "Confronting My Productivity Guru - Tiago Forte",
           "2-Reference/Readwise/Podcasts"
          ],
          [
           "Ep. 278 How to Think",
           "2-Reference/Readwise/Podcasts"
          ],
          [
           "Ep. 326 Time to Unplug",
           "2-Reference/Readwise/Podcasts"
          ],
          [
           "#137 Justin Su'a Peak Mental Performance",
           "2-Reference/Readwise/Podcasts"
          ],
          [
           "Pat Flynn - 50 Podcast Tips",
           "2-Reference/Video"
          ],
          [
           "Snow leopard podcast",
           "2-Reference/Writing Skills"
          ],
          [
           "Podcast Episode on Frameworks",
           "2-Reference/Writing Skills"
          ],
          [
           "Greg Startup Podcast",
           "2-Reference/Podcasts"
          ],
          [
           "Cal Fussman",
           "2-Reference/Podcasts"
          ],
          [
           "Matt Dicks - Storyworthy - Podcast with Lenny",
           "2-Reference/Podcasts"
          ],
          [
           "Ali Podcast - Ryan Holiday",
           "2-Reference/Podcasts"
          ],
          [
           "Ali Podcast - Branding Chris Ducker",
           "2-Reference/Podcasts"
          ],
          [
           "Tiago Forte - Building a Second Brain Podcast",
           "2-Reference/Podcasts"
          ],
          [
           "Robert - 2024-08-27",
           "2-Reference/Conversations"
          ],
          [
           "Robert - 2024-08-27",
           "2-Reference/Conversations"
          ],
          [
           "Podcast Consultant - Onboarding Launch",
           "2-Reference/Conversations"
          ],
          [
           "Podcast Consultant - Onboarding Launch",
           "2-Reference/Conversations"
          ],
          [
           "Podcast Consultant - Onboarding Launch",
           "2-Reference/Conversations"
          ],
          [
           "Podcast Consultant - Onboarding Launch",
           "2-Reference/Conversations"
          ],
          [
           "The podcast consultant",
           "2-Reference/Conversations"
          ],
          [
           "The podcast consultant",
           "2-Reference/Conversations"
          ],
          [
           "Resonate - Julius Producer",
           "2-Reference/Conversations"
          ],
          [
           "Craig - Castos",
           "2-Reference/Conversations"
          ],
          [
           "Julius - Resonate - 2024-08-13",
           "2-Reference/Conversations"
          ],
          [
           "podcast consultants",
           "2-Reference/Conversations"
          ],
          [
           "Resonate - intro",
           "2-Reference/Conversations"
          ],
          [
           "Al Chen - Podcast",
           "2-Reference/Conversations"
          ],
          [
           "MOC - My Podcast - Bits of Chris",
           "3-MOCs and Projects/Projects"
          ],
          [
           "MOC - My Podcast - Bits of Chris",
           "3-MOCs and Projects/Projects"
          ],
          [
           "MOC - My Podcast - Bits of Chris",
           "3-MOCs and Projects/Projects"
          ],
          [
           "MOC Journal - My Podcast - Bits of Chris",
           "3-MOCs and Projects/Projects"
          ],
          [
           "MOC Journal - My Podcast - Bits of Chris",
           "3-MOCs and Projects/Projects"
          ],
          [
           "MOC Journal - My Podcast - Bits of Chris",
           "3-MOCs and Projects/Projects"
          ],
          [
           "MOC Journal - My Podcast - Bits of Chris",
           "3-MOCs and Projects/Projects"
          ],
          [
           "MOC Journal - My Podcast - Bits of Chris",
           "3-MOCs and Projects/Projects"
          ],
          [
           "MOC Journal - My Podcast - Bits of Chris",
           "3-MOCs and Projects/Projects"
          ],
          [
           "MOC Journal - My Podcast - Bits of Chris",
           "3-MOCs and Projects/Projects"
          ],
          [
           "MOC Journal - My Podcast - Bits of Chris",
           "3-MOCs and Projects/Projects"
          ],
          [
           "MOC Journal - My Podcast - Bits of Chris",
           "3-MOCs and Projects/Projects"
          ],
          [
           "MOC Journal - My Podcast - Bits of Chris",
           "3-MOCs and Projects/Projects"
          ],
          [
           "MOC Journal - My Podcast - Bits of Chris",
           "3-MOCs and Projects/Projects"
          ],
          [
           "MOC Journal - My Podcast - Bits of Chris",
           "3-MOCs and Projects/Projects"
          ],
          [
           "MOC Journal - My Podcast - Bits of Chris",
           "3-MOCs and Projects/Projects"
          ],
          [
           "MOC Journal - My Podcast - Bits of Chris",
           "3-MOCs and Projects/Projects"
          ],
          [
           "MOC Journal - My Podcast - Bits of Chris",
           "3-MOCs and Projects/Projects"
          ],
          [
           "MOC Journal - My Podcast - Bits of Chris",
           "3-MOCs and Projects/Projects"
          ],
          [
           "MOC Journal - My Podcast - Bits of Chris",
           "3-MOCs and Projects/Projects"
          ],
          [
           "MOC Journal - My Podcast - Bits of Chris",
           "3-MOCs and Projects/Projects"
          ],
          [
           "MOC Journal - My Podcast - Bits of Chris",
           "3-MOCs and Projects/Projects"
          ],
          [
           "MOC Journal - My Podcast - Bits of Chris",
           "3-MOCs and Projects/Projects"
          ],
          [
           "MOC Journal - My Podcast - Bits of Chris",
           "3-MOCs and Projects/Projects"
          ],
          [
           "MOC Journal - My Podcast - Bits of Chris",
           "3-MOCs and Projects/Projects"
          ],
          [
           "MOC Journal - My Podcast - Bits of Chris",
           "3-MOCs and Projects/Projects"
          ],
          [
           "MOC Journal - My Podcast - Bits of Chris",
           "3-MOCs and Projects/Projects"
          ],
          [
           "MOC Journal - My Podcast - Bits of Chris",
           "3-MOCs and Projects/Projects"
          ],
          [
           "Podcast Eugene Episode",
           "3-MOCs and Projects/Projects/Podcast - BoC"
          ],
          [
           "Descript Editing Tips",
           "3-MOCs and Projects/Projects/Podcast - BoC"
          ],
          [
           "My Podcast Show Notes Prompt - Bits of chris show notes prompt",
           "3-MOCs and Projects/Projects/Podcast - BoC"
          ],
          [
           "Nitai episode",
           "3-MOCs and Projects/Projects/Podcast - BoC"
          ],
          [
           "Nitai episode",
           "3-MOCs and Projects/Projects/Podcast - BoC"
          ],
          [
           "bits of chris - intro - draft",
           "3-MOCs and Projects/Projects/Podcast - BoC"
          ],
          [
           "bits of chris - intro - draft",
           "3-MOCs and Projects/Projects/Podcast - BoC"
          ],
          [
           "MOC - Podcast Description & Intro",
           "3-MOCs and Projects/Projects/Podcast - BoC"
          ],
          [
           "MOC - Podcast Description & Intro",
           "3-MOCs and Projects/Projects/Podcast - BoC"
          ],
          [
           "MOC - Podcast Description & Intro",
           "3-MOCs and Projects/Projects/Podcast - BoC"
          ],
          [
           "MOC - Podcast Description & Intro",
           "3-MOCs and Projects/Projects/Podcast - BoC"
          ],
          [
           "MOC - Podcast Description & Intro",
           "3-MOCs and Projects/Projects/Podcast - BoC"
          ],
          [
           "MOC - Podcast Description & Intro",
           "3-MOCs and Projects/Projects/Podcast - BoC"
          ],
          [
           "Quick Bits - 2024-08-09",
           "3-MOCs and Projects/Projects/Podcast - BoC/Shows"
          ],
          [
           "30 - Reflecting on 30 days of Podcasting",
           "3-MOCs and Projects/Projects/Podcast - BoC/Shows"
          ],
          [
           "Quick Bits - 2024-08-16",
           "3-MOCs and Projects/Projects/Podcast - BoC/Shows"
          ],
          [
           "Meghan Episode",
           "3-MOCs and Projects/Projects/Podcast - BoC/Shows"
          ],
          [
           "0 - Quick Bits - 2024-08-30 - Learning",
           "3-MOCs and Projects/Projects/Podcast - BoC/Shows"
          ],
          [
           "0 - Quick Bits - 2024-08-30 - Learning",
           "3-MOCs and Projects/Projects/Podcast - BoC/Shows"
          ],
          [
           "0 - Quick Bits - 2024-09-13 - start your second brain",
           "3-MOCs and Projects/Projects/Podcast - BoC/Shows"
          ],
          [
           "8 - How to Start a Podcast in 10 Minutes and Why you should for Part Time Creators - Podcast for 30",
           "3-MOCs and Projects/Projects/Podcast - BoC/Shows"
          ],
          [
           "8 - How to Start a Podcast in 10 Minutes and Why you should for Part Time Creators - Podcast for 30",
           "3-MOCs and Projects/Projects/Podcast - BoC/Shows"
          ],
          [
           "Greg Episode",
           "3-MOCs and Projects/Projects/Podcast - BoC/Shows"
          ],
          [
           "Find Your Niche Podcast Idea",
           "3-MOCs and Projects/Projects/Product Ideas"
          ],
          [
           "Find Your Niche Podcast Idea",
           "3-MOCs and Projects/Projects/Product Ideas"
          ],
          [
           "First Video",
           "3-MOCs and Projects/Projects/Chris on DE/Videos"
          ],
          [
           "Ruvi Podcast Episode",
           "3-MOCs and Projects/Projects/Writing/Post Ideas"
          ]
         ],
         "hovertemplate": "color=7<br>x=%{x}<br>y=%{y}<br>note_title=%{customdata[0]}<br>folder=%{customdata[1]}<extra></extra>",
         "legendgroup": "7",
         "marker": {
          "color": "#636efa",
          "symbol": "circle"
         },
         "mode": "markers",
         "name": "7",
         "showlegend": true,
         "type": "scattergl",
         "x": [
          0.45848724,
          0.20964028,
          0.3439803,
          0.30455682,
          0.524881,
          0.35500142,
          0.056763075,
          0.01141249,
          0.08083111,
          -0.096575886,
          5.3567395,
          0.5544667,
          -0.05021059,
          4.055702,
          -0.30689186,
          -0.21376707,
          -0.10691797,
          -0.25346136,
          -0.11350346,
          -0.1272398,
          -0.079577476,
          -0.04105582,
          -0.17703874,
          -0.11397159,
          -0.2282169,
          -0.1789893,
          -0.11953759,
          -0.049353916,
          -0.47106934,
          -0.5002564,
          -0.48308218,
          -0.5707092,
          -0.6718276,
          -0.75167775,
          -0.72426075,
          -0.73499846,
          -0.7333101,
          -0.6619851,
          -0.7532893,
          -0.6836837,
          -0.6248804,
          -0.7036147,
          -0.7194238,
          -0.69520366,
          -0.69734854,
          -0.67385733,
          -0.6862711,
          -0.6632275,
          -0.66748226,
          -0.6905688,
          -0.65279466,
          -0.6765044,
          -0.64418495,
          -0.68234646,
          -0.6380411,
          -0.7067398,
          -0.49999273,
          -0.34836638,
          -0.53659666,
          -0.5644973,
          -0.563432,
          -0.5941599,
          -0.5664175,
          -0.57936406,
          -0.5536844,
          -0.54979706,
          -0.37993574,
          -0.5679615,
          -0.36137548,
          -0.47435978,
          0.75354844,
          -0.41848168,
          -0.50480056,
          -0.4306687,
          -0.46608514,
          -0.36787868,
          0.516902,
          0.5429429,
          -0.5244942,
          3.2289042,
          3.2169597,
          -1.7929755,
          -0.6025977
         ],
         "xaxis": "x",
         "y": [
          1.4915186,
          1.6747046,
          1.8223752,
          1.8036989,
          2.3258913,
          1.2918843,
          1.7040172,
          1.5443974,
          1.4346833,
          1.5871387,
          1.185799,
          1.420211,
          1.3533889,
          5.257291,
          1.6724865,
          1.4768364,
          1.397604,
          1.4302472,
          1.442888,
          1.4285873,
          1.5536512,
          1.4069738,
          1.4129505,
          1.4081379,
          1.4481189,
          1.5307527,
          1.4085264,
          1.4015263,
          1.6210867,
          1.6652246,
          1.6585422,
          1.7214098,
          1.5968155,
          1.5922985,
          1.652122,
          1.584073,
          1.570088,
          1.6400508,
          1.5590833,
          1.6419113,
          1.6759753,
          1.533403,
          1.6318685,
          1.6375023,
          1.6375883,
          1.6100565,
          1.4957793,
          1.560185,
          1.5029807,
          1.5556909,
          1.3464702,
          1.6713492,
          1.4498583,
          1.6297343,
          1.5786412,
          1.5902587,
          1.3962858,
          1.3497138,
          1.2032548,
          1.705294,
          1.6191182,
          1.2535083,
          1.2243744,
          1.2400688,
          1.3012453,
          1.2514776,
          1.4558893,
          1.2403015,
          1.3202388,
          1.8367498,
          1.3236493,
          1.8193246,
          1.6696198,
          1.8611146,
          1.8066721,
          1.9383243,
          1.1457907,
          1.2733289,
          1.4584632,
          2.3014648,
          2.2354631,
          3.6478174,
          1.4392458
         ],
         "yaxis": "y"
        },
        {
         "customdata": [
          [
           "Neural Networks and Deep Learning-2",
           "2-Reference/Readwise/Articles"
          ],
          [
           "Neural networks and deep learning",
           "2-Reference/Instapaper"
          ],
          [
           "deep-learning github daily blog",
           "3-MOCs and Projects"
          ],
          [
           "deep-learning github daily blog",
           "3-MOCs and Projects"
          ]
         ],
         "hovertemplate": "color=47<br>x=%{x}<br>y=%{y}<br>note_title=%{customdata[0]}<br>folder=%{customdata[1]}<extra></extra>",
         "legendgroup": "47",
         "marker": {
          "color": "#EF553B",
          "symbol": "circle"
         },
         "mode": "markers",
         "name": "47",
         "showlegend": true,
         "type": "scattergl",
         "x": [
          -1.2231588,
          -1.2282242,
          -1.3053874,
          -1.2941765
         ],
         "xaxis": "x",
         "y": [
          15.822122,
          15.809595,
          15.690366,
          15.682627
         ],
         "yaxis": "y"
        },
        {
         "customdata": [
          [
           "How to Build a Business That Lets You Quit Your Job - Dickie Bush",
           "2-Reference/Readwise/Podcasts"
          ],
          [
           "How to Build a Business That Lets You Quit Your Job - Dickie Bush",
           "2-Reference/Readwise/Podcasts"
          ],
          [
           "How to Build a Business That Lets You Quit Your Job - Dickie Bush",
           "2-Reference/Readwise/Podcasts"
          ],
          [
           "How to Build a Business That Lets You Quit Your Job - Dickie Bush",
           "2-Reference/Readwise/Podcasts"
          ],
          [
           "How to Build a Business That Lets You Quit Your Job - Dickie Bush",
           "2-Reference/Readwise/Podcasts"
          ],
          [
           "How to Build a Business That Lets You Quit Your Job - Dickie Bush",
           "2-Reference/Readwise/Podcasts"
          ],
          [
           "How to Build a Business That Lets You Quit Your Job - Dickie Bush",
           "2-Reference/Readwise/Podcasts"
          ],
          [
           "How to Build a Business That Lets You Quit Your Job - Dickie Bush",
           "2-Reference/Readwise/Podcasts"
          ],
          [
           "How to Build a Business That Lets You Quit Your Job - Dickie Bush",
           "2-Reference/Readwise/Podcasts"
          ],
          [
           "How to Build a Business That Lets You Quit Your Job - Dickie Bush",
           "2-Reference/Readwise/Podcasts"
          ],
          [
           "How to Build a Business That Lets You Quit Your Job - Dickie Bush",
           "2-Reference/Readwise/Podcasts"
          ],
          [
           "How to Build a Business That Lets You Quit Your Job - Dickie Bush",
           "2-Reference/Readwise/Podcasts"
          ],
          [
           "How to Build a Business That Lets You Quit Your Job - Dickie Bush",
           "2-Reference/Readwise/Podcasts"
          ],
          [
           "Ali Podcast - Jordan Harbinger",
           "2-Reference/Podcasts"
          ],
          [
           "Ali Podcast - Dickie Bush",
           "2-Reference/Podcasts"
          ],
          [
           "X - The Shame Of Quitting",
           "3-MOCs and Projects/Projects/Podcast - BoC/Shows in Progress"
          ],
          [
           "25 - Part Time Creator",
           "3-MOCs and Projects/Projects/Podcast - BoC/Shows"
          ],
          [
           "25 - Part Time Creator",
           "3-MOCs and Projects/Projects/Podcast - BoC/Shows"
          ],
          [
           "16 - Do billionaires get imposter syndrome too",
           "3-MOCs and Projects/Projects/Podcast - BoC/Shows"
          ],
          [
           "15 - How to Be the CEO of Your Career",
           "3-MOCs and Projects/Projects/Podcast - BoC/Shows"
          ],
          [
           "15 - How to Be the CEO of Your Career",
           "3-MOCs and Projects/Projects/Podcast - BoC/Shows"
          ],
          [
           "15 - How to Be the CEO of Your Career",
           "3-MOCs and Projects/Projects/Podcast - BoC/Shows"
          ],
          [
           "15 - How to Be the CEO of Your Career",
           "3-MOCs and Projects/Projects/Podcast - BoC/Shows"
          ],
          [
           "15 - How to Be the CEO of Your Career",
           "3-MOCs and Projects/Projects/Podcast - BoC/Shows"
          ],
          [
           "15 - How to Be the CEO of Your Career",
           "3-MOCs and Projects/Projects/Podcast - BoC/Shows"
          ],
          [
           "15 - How to Be the CEO of Your Career",
           "3-MOCs and Projects/Projects/Podcast - BoC/Shows"
          ],
          [
           "18 - When to Give Up On Your Dreams",
           "3-MOCs and Projects/Projects/Podcast - BoC/Shows"
          ],
          [
           "Do you need more than employee to be fat fire",
           "3-MOCs and Projects/Projects/Writing/Post Ideas"
          ],
          [
           "X mistakes high income tech workers make with their money from a former day trader turn staff engineer",
           "3-MOCs and Projects/Projects/Writing/Post Ideas"
          ],
          [
           "Quitting vs Iterating - Finding Your Niche Ikigai",
           "3-MOCs and Projects/Projects/Writing/Post Ideas"
          ],
          [
           "My Trading Algo made 30k one afternoon but I still had to quit",
           "3-MOCs and Projects/Projects/Writing/Post Ideas"
          ],
          [
           "How I transitioned to engineering from non tech",
           "3-MOCs and Projects/Projects/Writing/Post Ideas"
          ],
          [
           "OK to be just an employee",
           "3-MOCs and Projects/Projects/Writing/Post Ideas"
          ],
          [
           "I give you permission to focus on your career as your side hustle",
           "3-MOCs and Projects/Projects/Writing/Post Ideas"
          ],
          [
           "build business while working cant quit",
           "3-MOCs and Projects/Projects/Writing/Post Ideas"
          ],
          [
           "Mistakes I made transition from finance to tech",
           "3-MOCs and Projects/Projects/Writing/Post Ideas"
          ],
          [
           "I Started a Podcast At Work - 20 percent project",
           "3-MOCs and Projects/Projects/Writing/Post Ideas"
          ],
          [
           "HENRY - how to get wealth from earner to wealth",
           "3-MOCs and Projects/Projects/Writing/Post Ideas"
          ],
          [
           "How can full time data engineers keep up with industry trends and new technology",
           "3-MOCs and Projects/Projects/Writing/Published"
          ]
         ],
         "hovertemplate": "color=8<br>x=%{x}<br>y=%{y}<br>note_title=%{customdata[0]}<br>folder=%{customdata[1]}<extra></extra>",
         "legendgroup": "8",
         "marker": {
          "color": "#00cc96",
          "symbol": "circle"
         },
         "mode": "markers",
         "name": "8",
         "showlegend": true,
         "type": "scattergl",
         "x": [
          1.4451723,
          1.4828528,
          1.4425007,
          1.4773682,
          1.4767189,
          1.4702173,
          1.466078,
          1.464785,
          1.475814,
          1.4543395,
          1.484101,
          1.459097,
          1.454934,
          0.6301834,
          1.4321028,
          1.5684257,
          2.5430024,
          2.5412166,
          1.7137594,
          1.606516,
          1.630551,
          1.5966494,
          1.5913343,
          1.6306143,
          1.5917469,
          1.6208718,
          1.4651859,
          1.9837124,
          1.6786792,
          3.0594018,
          1.4569827,
          1.502192,
          1.9047458,
          1.9866217,
          1.9288802,
          1.5378394,
          0.5933253,
          2.0786686,
          -0.79289114
         ],
         "xaxis": "x",
         "y": [
          -0.65369624,
          -0.6165079,
          -0.64806765,
          -0.7041854,
          -0.7085546,
          -0.70271415,
          -0.6934646,
          -0.6936952,
          -0.7041946,
          -0.6675642,
          -0.7079524,
          -0.6780071,
          -0.65566194,
          1.3709413,
          -0.60984415,
          1.7524942,
          2.3469937,
          2.330563,
          1.8998863,
          1.0549622,
          1.0986027,
          1.0331415,
          1.048044,
          1.0784291,
          1.0564522,
          1.0192382,
          1.5389075,
          1.1363287,
          1.4689177,
          2.3259752,
          1.5217338,
          1.5633457,
          1.3565295,
          1.4427078,
          1.631268,
          1.5397556,
          1.3112797,
          1.2244234,
          5.650866
         ],
         "yaxis": "y"
        },
        {
         "customdata": [
          [
           "How to Stay Focused and Beat Distraction - Nir Eyal",
           "2-Reference/Readwise/Podcasts"
          ],
          [
           "How to Stay Focused and Beat Distraction - Nir Eyal",
           "2-Reference/Readwise/Podcasts"
          ],
          [
           "How to Stay Focused and Beat Distraction - Nir Eyal",
           "2-Reference/Readwise/Podcasts"
          ],
          [
           "How to Stay Focused and Beat Distraction - Nir Eyal",
           "2-Reference/Readwise/Podcasts"
          ],
          [
           "How to Stay Focused and Beat Distraction - Nir Eyal",
           "2-Reference/Readwise/Podcasts"
          ],
          [
           "How to Stay Focused and Beat Distraction - Nir Eyal",
           "2-Reference/Readwise/Podcasts"
          ],
          [
           "21 - How to Turn your Phone Addiction into a Superpower",
           "3-MOCs and Projects/Projects/Podcast - BoC/Shows"
          ]
         ],
         "hovertemplate": "color=6<br>x=%{x}<br>y=%{y}<br>note_title=%{customdata[0]}<br>folder=%{customdata[1]}<extra></extra>",
         "legendgroup": "6",
         "marker": {
          "color": "#ab63fa",
          "symbol": "circle"
         },
         "mode": "markers",
         "name": "6",
         "showlegend": true,
         "type": "scattergl",
         "x": [
          0.8112894,
          0.82104695,
          0.824107,
          0.8136555,
          0.78746486,
          0.8033268,
          0.78933203
         ],
         "xaxis": "x",
         "y": [
          2.4921129,
          2.4938745,
          2.4965417,
          2.5241613,
          2.5075867,
          2.4993427,
          2.5600348
         ],
         "yaxis": "y"
        },
        {
         "customdata": [
          [
           "#648 James Clear, Atomic Habits — Simple Strategies for Building (And Breaking) Habits, Questions for Personal Mastery and Growth, Tactics for Writing and Launching a Mega-Bestseller, Finding Leverage, and More",
           "2-Reference/Readwise/Podcasts"
          ],
          [
           "#648 James Clear, Atomic Habits — Simple Strategies for Building (And Breaking) Habits, Questions for Personal Mastery and Growth, Tactics for Writing and Launching a Mega-Bestseller, Finding Leverage, and More",
           "2-Reference/Readwise/Podcasts"
          ],
          [
           "#648 James Clear, Atomic Habits — Simple Strategies for Building (And Breaking) Habits, Questions for Personal Mastery and Growth, Tactics for Writing and Launching a Mega-Bestseller, Finding Leverage, and More",
           "2-Reference/Readwise/Podcasts"
          ],
          [
           "#648 James Clear, Atomic Habits — Simple Strategies for Building (And Breaking) Habits, Questions for Personal Mastery and Growth, Tactics for Writing and Launching a Mega-Bestseller, Finding Leverage, and More",
           "2-Reference/Readwise/Podcasts"
          ],
          [
           "#648 James Clear, Atomic Habits — Simple Strategies for Building (And Breaking) Habits, Questions for Personal Mastery and Growth, Tactics for Writing and Launching a Mega-Bestseller, Finding Leverage, and More",
           "2-Reference/Readwise/Podcasts"
          ],
          [
           "#648 James Clear, Atomic Habits — Simple Strategies for Building (And Breaking) Habits, Questions for Personal Mastery and Growth, Tactics for Writing and Launching a Mega-Bestseller, Finding Leverage, and More",
           "2-Reference/Readwise/Podcasts"
          ],
          [
           "#648 James Clear, Atomic Habits — Simple Strategies for Building (And Breaking) Habits, Questions for Personal Mastery and Growth, Tactics for Writing and Launching a Mega-Bestseller, Finding Leverage, and More",
           "2-Reference/Readwise/Podcasts"
          ],
          [
           "#648 James Clear, Atomic Habits — Simple Strategies for Building (And Breaking) Habits, Questions for Personal Mastery and Growth, Tactics for Writing and Launching a Mega-Bestseller, Finding Leverage, and More",
           "2-Reference/Readwise/Podcasts"
          ],
          [
           "#648 James Clear, Atomic Habits — Simple Strategies for Building (And Breaking) Habits, Questions for Personal Mastery and Growth, Tactics for Writing and Launching a Mega-Bestseller, Finding Leverage, and More",
           "2-Reference/Readwise/Podcasts"
          ],
          [
           "#648 James Clear, Atomic Habits — Simple Strategies for Building (And Breaking) Habits, Questions for Personal Mastery and Growth, Tactics for Writing and Launching a Mega-Bestseller, Finding Leverage, and More",
           "2-Reference/Readwise/Podcasts"
          ],
          [
           "#648 James Clear, Atomic Habits — Simple Strategies for Building (And Breaking) Habits, Questions for Personal Mastery and Growth, Tactics for Writing and Launching a Mega-Bestseller, Finding Leverage, and More",
           "2-Reference/Readwise/Podcasts"
          ],
          [
           "#648 James Clear, Atomic Habits — Simple Strategies for Building (And Breaking) Habits, Questions for Personal Mastery and Growth, Tactics for Writing and Launching a Mega-Bestseller, Finding Leverage, and More",
           "2-Reference/Readwise/Podcasts"
          ],
          [
           "#648 James Clear, Atomic Habits — Simple Strategies for Building (And Breaking) Habits, Questions for Personal Mastery and Growth, Tactics for Writing and Launching a Mega-Bestseller, Finding Leverage, and More",
           "2-Reference/Readwise/Podcasts"
          ],
          [
           "#648 James Clear, Atomic Habits — Simple Strategies for Building (And Breaking) Habits, Questions for Personal Mastery and Growth, Tactics for Writing and Launching a Mega-Bestseller, Finding Leverage, and More",
           "2-Reference/Readwise/Podcasts"
          ]
         ],
         "hovertemplate": "color=32<br>x=%{x}<br>y=%{y}<br>note_title=%{customdata[0]}<br>folder=%{customdata[1]}<extra></extra>",
         "legendgroup": "32",
         "marker": {
          "color": "#FFA15A",
          "symbol": "circle"
         },
         "mode": "markers",
         "name": "32",
         "showlegend": true,
         "type": "scattergl",
         "x": [
          8.864179,
          8.854498,
          8.852423,
          8.845907,
          8.86296,
          8.862308,
          8.825075,
          8.852769,
          8.862441,
          8.864407,
          8.864182,
          8.861107,
          8.860579,
          8.862236
         ],
         "xaxis": "x",
         "y": [
          5.160074,
          5.151825,
          5.1566663,
          5.1446176,
          5.1605606,
          5.161842,
          5.1412745,
          5.1579146,
          5.160429,
          5.1610084,
          5.159934,
          5.160018,
          5.16089,
          5.1604457
         ],
         "yaxis": "y"
        },
        {
         "customdata": [
          [
           "Brand design yt",
           "2-Reference/Video"
          ],
          [
           "mr beast tips",
           "2-Reference/Video"
          ],
          [
           "mr beast tips",
           "2-Reference/Video"
          ],
          [
           "mr beast tips",
           "2-Reference/Video"
          ],
          [
           "2024-11-17 - YT Skill and Growth Focus for Now",
           "2-Reference/AI Conversations"
          ],
          [
           "2024-11-17 - YT Skill and Growth Focus for Now",
           "2-Reference/AI Conversations"
          ],
          [
           "2024-11-17 - YT Skill and Growth Focus for Now",
           "2-Reference/AI Conversations"
          ],
          [
           "Descript TikTok",
           "2-Reference/Articles"
          ],
          [
           "Ali Abdaal Course",
           "2-Reference/Courses"
          ],
          [
           "PTYA - Ali Course",
           "2-Reference/Courses"
          ],
          [
           "PTYA - Ali Course",
           "2-Reference/Courses"
          ],
          [
           "PTYA - Ali Course",
           "2-Reference/Courses"
          ],
          [
           "PTYA - Ali Course",
           "2-Reference/Courses"
          ],
          [
           "PTYA - Ali Course",
           "2-Reference/Courses"
          ],
          [
           "PTYA - Ali Course",
           "2-Reference/Courses"
          ],
          [
           "PTYA - Ali Course",
           "2-Reference/Courses"
          ],
          [
           "PTYA - Ali Course",
           "2-Reference/Courses"
          ],
          [
           "PTYA - Ali Course",
           "2-Reference/Courses"
          ],
          [
           "PTYA - Ali Course",
           "2-Reference/Courses"
          ],
          [
           "PTYA - Ali Course",
           "2-Reference/Courses"
          ],
          [
           "Billions of views on YouTube",
           "2-Reference/Reddit"
          ],
          [
           "New Tubers",
           "2-Reference/Reddit"
          ],
          [
           "MOC - YouTube - Video Skill, Brand, Analytics",
           "3-MOCs and Projects"
          ],
          [
           "MOC - YouTube - Video Skill, Brand, Analytics",
           "3-MOCs and Projects"
          ],
          [
           "MOC - YouTube - Video Skill, Brand, Analytics",
           "3-MOCs and Projects"
          ],
          [
           "MOC - YouTube - Video Skill, Brand, Analytics",
           "3-MOCs and Projects"
          ],
          [
           "MOC - YouTube - Video Skill, Brand, Analytics",
           "3-MOCs and Projects"
          ],
          [
           "MOC - YouTube - Video Skill, Brand, Analytics",
           "3-MOCs and Projects"
          ],
          [
           "MOC - Video Content - Journal",
           "3-MOCs and Projects/Projects/Writing/Craft"
          ],
          [
           "MOC - Video Content - Journal",
           "3-MOCs and Projects/Projects/Writing/Craft"
          ],
          [
           "MOC Journal - YouTube",
           "3-MOCs and Projects/YouTube"
          ],
          [
           "MOC Journal - YouTube",
           "3-MOCs and Projects/YouTube"
          ],
          [
           "MOC Journal - YouTube",
           "3-MOCs and Projects/YouTube"
          ],
          [
           "MOC Journal - YouTube",
           "3-MOCs and Projects/YouTube"
          ],
          [
           "MOC Journal - YouTube",
           "3-MOCs and Projects/YouTube"
          ],
          [
           "MOC Journal - YouTube",
           "3-MOCs and Projects/YouTube"
          ],
          [
           "MOC Journal - YouTube",
           "3-MOCs and Projects/YouTube"
          ],
          [
           "MOC Journal - YouTube",
           "3-MOCs and Projects/YouTube"
          ],
          [
           "MOC Journal - YouTube",
           "3-MOCs and Projects/YouTube"
          ],
          [
           "MOC Journal - YouTube",
           "3-MOCs and Projects/YouTube"
          ],
          [
           "MOC Journal - YouTube",
           "3-MOCs and Projects/YouTube"
          ],
          [
           "MOC Journal - YouTube",
           "3-MOCs and Projects/YouTube"
          ],
          [
           "MOC Journal - YouTube",
           "3-MOCs and Projects/YouTube"
          ],
          [
           "MOC Journal - YouTube",
           "3-MOCs and Projects/YouTube"
          ],
          [
           "MOC Journal - YouTube",
           "3-MOCs and Projects/YouTube"
          ],
          [
           "MOC Journal - YouTube",
           "3-MOCs and Projects/YouTube"
          ],
          [
           "MOC Journal - YouTube",
           "3-MOCs and Projects/YouTube"
          ],
          [
           "MOC Journal - YouTube",
           "3-MOCs and Projects/YouTube"
          ],
          [
           "MOC Journal - YouTube",
           "3-MOCs and Projects/YouTube"
          ],
          [
           "MOC Journal - YouTube",
           "3-MOCs and Projects/YouTube"
          ],
          [
           "MOC Journal - YouTube",
           "3-MOCs and Projects/YouTube"
          ],
          [
           "MOC Journal - YouTube",
           "3-MOCs and Projects/YouTube"
          ],
          [
           "MOC Journal - YouTube",
           "3-MOCs and Projects/YouTube"
          ],
          [
           "MOC Journal - YouTube",
           "3-MOCs and Projects/YouTube"
          ],
          [
           "MOC Journal - YouTube",
           "3-MOCs and Projects/YouTube"
          ],
          [
           "MOC Journal - YouTube",
           "3-MOCs and Projects/YouTube"
          ],
          [
           "MOC Journal - YouTube",
           "3-MOCs and Projects/YouTube"
          ],
          [
           "MOC Journal - YouTube",
           "3-MOCs and Projects/YouTube"
          ],
          [
           "MOC Journal - YouTube",
           "3-MOCs and Projects/YouTube"
          ],
          [
           "MOC Journal - YouTube",
           "3-MOCs and Projects/YouTube"
          ],
          [
           "license wikipedia images for youtube",
           "3-MOCs and Projects/YouTube/Skill"
          ],
          [
           "YT - Hooks",
           "3-MOCs and Projects/YouTube/Skill"
          ],
          [
           "Henrik how he made gpt in a nutshell",
           "3-MOCs and Projects/YouTube/Skill"
          ],
          [
           "first 60 seconds of YouTube",
           "3-MOCs and Projects/YouTube/Skill"
          ],
          [
           "YT - how to learn data engineering in 2025",
           "3-MOCs and Projects/YouTube/Done"
          ],
          [
           "YT - How to Take Smart Notes Video",
           "3-MOCs and Projects/YouTube/Ideas"
          ],
          [
           "YT - How to Take Smart Notes Video",
           "3-MOCs and Projects/YouTube/Ideas"
          ],
          [
           "YT - How to Take Smart Notes Video",
           "3-MOCs and Projects/YouTube/Ideas"
          ],
          [
           "YT - How to Take Smart Notes Video",
           "3-MOCs and Projects/YouTube/Ideas"
          ],
          [
           "YT - Understanding temporal joins",
           "3-MOCs and Projects/YouTube/Ideas"
          ],
          [
           "YT - Understanding temporal joins",
           "3-MOCs and Projects/YouTube/Ideas"
          ],
          [
           "PMOC YT - 30 Shorts in 30 Days",
           "3-MOCs and Projects/YouTube/Ideas"
          ],
          [
           "PMOC YT - 30 Shorts in 30 Days",
           "3-MOCs and Projects/YouTube/Ideas"
          ],
          [
           "PMOC YT - 30 Shorts in 30 Days",
           "3-MOCs and Projects/YouTube/Ideas"
          ],
          [
           "PMOC YT - 30 Shorts in 30 Days",
           "3-MOCs and Projects/YouTube/Ideas"
          ],
          [
           "PMOC YT - 30 Shorts in 30 Days",
           "3-MOCs and Projects/YouTube/Ideas"
          ],
          [
           "PMOC YT - 30 Shorts in 30 Days",
           "3-MOCs and Projects/YouTube/Ideas"
          ],
          [
           "PMOC YT - 30 Shorts in 30 Days",
           "3-MOCs and Projects/YouTube/Ideas"
          ],
          [
           "if had more time, I'd have written a shorter letter",
           "1-Notes"
          ]
         ],
         "hovertemplate": "color=37<br>x=%{x}<br>y=%{y}<br>note_title=%{customdata[0]}<br>folder=%{customdata[1]}<extra></extra>",
         "legendgroup": "37",
         "marker": {
          "color": "#19d3f3",
          "symbol": "circle"
         },
         "mode": "markers",
         "name": "37",
         "showlegend": true,
         "type": "scattergl",
         "x": [
          -1.9979928,
          -2.1078675,
          -2.0378346,
          -2.089459,
          -2.0299306,
          -2.0288358,
          -1.9968116,
          -1.956459,
          -2.9561534,
          -2.9970393,
          -2.991229,
          -3.011466,
          -3.0173159,
          -3.002296,
          -2.9613602,
          -2.9917147,
          -2.9969525,
          -3.0078995,
          -3.0222065,
          -3.018756,
          -1.9935039,
          -2.0572217,
          -2.417187,
          -2.477834,
          -2.4171984,
          -2.3859682,
          -2.4042857,
          -2.3712268,
          -1.8735067,
          -1.9613006,
          -1.8981498,
          -1.933497,
          -2.0037363,
          -1.9220624,
          -1.9283811,
          -1.9058485,
          -1.903001,
          -1.999178,
          -1.9521214,
          -1.958955,
          -1.99968,
          -1.9847695,
          -1.9173397,
          -1.8655545,
          -1.925613,
          -1.951871,
          -1.9858241,
          -1.9312958,
          -2.1690948,
          -1.9982483,
          -2.017916,
          -1.918485,
          -1.9051962,
          -1.9007397,
          -1.9222434,
          -1.9423084,
          -1.9204779,
          -1.8772538,
          -1.9967144,
          -1.9767647,
          -1.8857155,
          -1.9843087,
          -1.7551662,
          -2.1103735,
          -1.0548518,
          3.5916145,
          3.6028686,
          3.6014178,
          3.6529953,
          -1.6907485,
          -1.6993479,
          -2.4232173,
          -2.4248953,
          -2.3924336,
          -2.4347894,
          -2.423125,
          -2.3807724,
          -2.4151113,
          -2.4347022
         ],
         "xaxis": "x",
         "y": [
          3.887322,
          3.9753582,
          3.9433658,
          3.9873576,
          4.6349936,
          4.622612,
          4.821451,
          3.8721735,
          4.1000032,
          4.078946,
          4.1021137,
          4.0845814,
          4.0841546,
          4.0863442,
          4.0883527,
          4.089427,
          4.0918365,
          4.079037,
          4.0760016,
          4.0852127,
          3.9479136,
          3.9835505,
          4.0307918,
          4.0459814,
          4.0336695,
          4.0335264,
          4.017515,
          3.9993935,
          3.8027906,
          3.8301368,
          3.8692927,
          3.8575573,
          3.9995825,
          3.90132,
          3.8651233,
          3.8358982,
          3.8343942,
          3.9371216,
          3.8493729,
          3.8845623,
          3.9183035,
          3.8960497,
          3.8595307,
          3.7889533,
          3.8663287,
          3.9144545,
          4.0444293,
          3.8696406,
          4.256759,
          4.0058403,
          3.9531882,
          3.9287386,
          4.0195675,
          3.865173,
          3.8856857,
          3.8789454,
          3.8480144,
          3.8208966,
          3.9505463,
          3.9079013,
          3.8559842,
          3.9209666,
          4.5184793,
          4.02068,
          5.7052355,
          5.677604,
          5.6556177,
          5.663169,
          5.714584,
          4.7432337,
          4.65138,
          4.4450502,
          4.4259415,
          4.402762,
          4.4562635,
          4.4381757,
          4.406133,
          4.431472,
          4.452834
         ],
         "yaxis": "y"
        },
        {
         "customdata": [
          [
           "Craft of Writing Effectively",
           "2-Reference/Video"
          ],
          [
           "Ultimate Online Writing Republishing Framework",
           "2-Reference/Writing Skills"
          ],
          [
           "Book - Art and Business of Writing Online",
           "2-Reference/Writing Skills"
          ],
          [
           "Book - Art and Business of Writing Online",
           "2-Reference/Writing Skills"
          ],
          [
           "Book - Art and Business of Writing Online",
           "2-Reference/Writing Skills"
          ],
          [
           "Book - Art and Business of Writing Online",
           "2-Reference/Writing Skills"
          ],
          [
           "Book - Art and Business of Writing Online",
           "2-Reference/Writing Skills"
          ],
          [
           "Book - Art and Business of Writing Online",
           "2-Reference/Writing Skills"
          ],
          [
           "Book - Art and Business of Writing Online",
           "2-Reference/Writing Skills"
          ],
          [
           "Book - Art and Business of Writing Online",
           "2-Reference/Writing Skills"
          ],
          [
           "Book - Art and Business of Writing Online",
           "2-Reference/Writing Skills"
          ],
          [
           "Book - Art and Business of Writing Online",
           "2-Reference/Writing Skills"
          ],
          [
           "Book - Art and Business of Writing Online",
           "2-Reference/Writing Skills"
          ]
         ],
         "hovertemplate": "color=40<br>x=%{x}<br>y=%{y}<br>note_title=%{customdata[0]}<br>folder=%{customdata[1]}<extra></extra>",
         "legendgroup": "40",
         "marker": {
          "color": "#FF6692",
          "symbol": "circle"
         },
         "mode": "markers",
         "name": "40",
         "showlegend": true,
         "type": "scattergl",
         "x": [
          3.3966463,
          4.29622,
          4.0895386,
          4.223766,
          4.1102285,
          4.2125964,
          4.1815405,
          4.0902452,
          4.1610274,
          4.1911917,
          4.2167206,
          4.1989837,
          4.123035
         ],
         "xaxis": "x",
         "y": [
          3.8794584,
          3.1668212,
          3.3367364,
          3.3318408,
          3.0868165,
          3.0999606,
          3.0685942,
          3.0101564,
          3.075495,
          3.1441307,
          3.1691742,
          3.120974,
          3.113795
         ],
         "yaxis": "y"
        },
        {
         "customdata": [
          [
           "PKM - ChatGpt",
           "2-Reference/AI Conversations"
          ],
          [
           "PKM",
           "2-Reference/Articles"
          ],
          [
           "PKM",
           "2-Reference/Articles"
          ],
          [
           "PKM",
           "2-Reference/Articles"
          ],
          [
           "PKM",
           "2-Reference/Articles"
          ],
          [
           "PKM",
           "2-Reference/Articles"
          ],
          [
           "PKM",
           "2-Reference/Articles"
          ],
          [
           "Second Brain - Tiago Forte on Art of Manliness",
           "2-Reference/Podcasts"
          ],
          [
           "27 - How to take Smart Notes to Build your Second Brain",
           "3-MOCs and Projects/Projects/Podcast - BoC/Shows in Progress"
          ],
          [
           "27 - How to take Smart Notes to Build your Second Brain",
           "3-MOCs and Projects/Projects/Podcast - BoC/Shows in Progress"
          ],
          [
           "My PKM Strategy",
           "3-MOCs and Projects/Projects/Product Ideas"
          ],
          [
           "PKM for Engineers",
           "3-MOCs and Projects/Projects/Writing/Post Ideas"
          ],
          [
           "PKM System",
           "1-Notes"
          ],
          [
           "PKM System",
           "1-Notes"
          ],
          [
           "PKM System",
           "1-Notes"
          ],
          [
           "PKM System",
           "1-Notes"
          ],
          [
           "PKM System",
           "1-Notes"
          ],
          [
           "PKM System",
           "1-Notes"
          ],
          [
           "PKM System",
           "1-Notes"
          ],
          [
           "PKM System",
           "1-Notes"
          ],
          [
           "PKM System",
           "1-Notes"
          ],
          [
           "PKM System",
           "1-Notes"
          ],
          [
           "PKM System",
           "1-Notes"
          ],
          [
           "PKM System",
           "1-Notes"
          ],
          [
           "PKM System",
           "1-Notes"
          ],
          [
           "PKM System",
           "1-Notes"
          ],
          [
           "PKM System",
           "1-Notes"
          ],
          [
           "PKM System",
           "1-Notes"
          ],
          [
           "PKM System",
           "1-Notes"
          ],
          [
           "PKM ZK for Digital Business",
           "1-Notes"
          ],
          [
           "My Productivity Routine",
           "1-Notes"
          ],
          [
           "Keep What Works & Discard the Rest",
           "1-Notes"
          ],
          [
           "Zettelkasten Book",
           "1-Notes"
          ]
         ],
         "hovertemplate": "color=46<br>x=%{x}<br>y=%{y}<br>note_title=%{customdata[0]}<br>folder=%{customdata[1]}<extra></extra>",
         "legendgroup": "46",
         "marker": {
          "color": "#B6E880",
          "symbol": "circle"
         },
         "mode": "markers",
         "name": "46",
         "showlegend": true,
         "type": "scattergl",
         "x": [
          4.177756,
          4.240415,
          4.1884093,
          4.1948295,
          4.171856,
          4.21122,
          4.26677,
          4.1210465,
          3.9891858,
          3.955134,
          4.192331,
          4.0845137,
          4.1972013,
          4.1900883,
          4.1559477,
          4.2021337,
          4.2095222,
          4.2016015,
          4.2016053,
          4.174715,
          4.2392616,
          4.2412267,
          4.1976886,
          4.273887,
          4.200083,
          4.214812,
          4.159601,
          4.257658,
          4.2682805,
          4.250685,
          2.1293,
          4.2237186,
          4.210352
         ],
         "xaxis": "x",
         "y": [
          5.8436136,
          6.0256386,
          6.0092325,
          5.86708,
          5.836802,
          5.92993,
          6.157042,
          5.403227,
          5.2249193,
          5.2182546,
          5.9098787,
          5.9449577,
          5.83234,
          5.9022355,
          5.8290515,
          5.9028935,
          5.9133267,
          5.8953066,
          5.8760514,
          5.863271,
          5.990175,
          6.025247,
          5.922542,
          5.8651543,
          6.005399,
          5.914117,
          5.819921,
          5.9823117,
          5.9685655,
          5.9198904,
          4.3711424,
          5.917126,
          5.8327136
         ],
         "yaxis": "y"
        },
        {
         "customdata": [
          [
           "Remote SWE is Playing a Video Game",
           "2-Reference/Articles"
          ],
          [
           "MOC - Real Estate and Journal",
           "3-MOCs and Projects/Projects"
          ],
          [
           "Tech Fat FIRE Private Community",
           "3-MOCs and Projects/Projects/Product Ideas"
          ],
          [
           "Book Content Map - 5.5 Hour Work Day",
           "3-MOCs and Projects/Projects/Product Ideas"
          ],
          [
           "Book Content Map - 5.5 Hour Work Day",
           "3-MOCs and Projects/Projects/Product Ideas"
          ],
          [
           "Book Content Map - 5.5 Hour Work Day",
           "3-MOCs and Projects/Projects/Product Ideas"
          ],
          [
           "WFH Productivity System",
           "3-MOCs and Projects/Projects/Product Ideas"
          ],
          [
           "WFH Health",
           "3-MOCs and Projects/Projects/Product Ideas"
          ],
          [
           "Book Content Map - WFH Career Growth in Tech",
           "3-MOCs and Projects/Projects/Product Ideas"
          ],
          [
           "MOC - WFHFIRE - Time Rich Investing",
           "3-MOCs and Projects/Projects/Writing"
          ],
          [
           "MOC - WFHFIRE - Time Rich Investing",
           "3-MOCs and Projects/Projects/Writing"
          ],
          [
           "MOC - WFHFIRE - Time Rich Investing",
           "3-MOCs and Projects/Projects/Writing"
          ],
          [
           "MOC - Niche Ideas",
           "3-MOCs and Projects/Projects/Writing"
          ],
          [
           "FIRE - we dont want to retire early",
           "3-MOCs and Projects/Projects/Writing/Post Ideas"
          ],
          [
           "Time Freedom, not Retire Early",
           "3-MOCs and Projects/Projects/Writing/Post Ideas"
          ],
          [
           "naps remote work",
           "3-MOCs and Projects/Projects/Writing/Post Ideas"
          ],
          [
           "how to be a millionaire in tech",
           "3-MOCs and Projects/Projects/Writing/Post Ideas"
          ],
          [
           "Things to Buy to Stay Healthy Working From Home",
           "3-MOCs and Projects/Projects/Writing/Post Ideas"
          ],
          [
           "Wfh diet as dad without counting calories",
           "3-MOCs and Projects/Projects/Writing/Post Ideas"
          ],
          [
           "Remote Work Exercise",
           "3-MOCs and Projects/Projects/Writing/Post Ideas"
          ],
          [
           "Boundaries At Work",
           "3-MOCs and Projects/Projects/Writing/Post Ideas"
          ],
          [
           "How to pick your 401k options a guide for tech employees",
           "3-MOCs and Projects/Projects/Writing/Post Ideas"
          ],
          [
           "Remote Work Super Power - Blend the Boundaries",
           "3-MOCs and Projects/Projects/Writing/Post Ideas"
          ],
          [
           "Ive been promoted 3 times working remotely",
           "3-MOCs and Projects/Projects/Writing/Post Ideas"
          ],
          [
           "Slack off my phone",
           "3-MOCs and Projects/Projects/Writing/Post Ideas"
          ],
          [
           "Fired for jerking off",
           "3-MOCs and Projects/Projects/Writing/Post Ideas"
          ],
          [
           "Fired for jerking off",
           "3-MOCs and Projects/Projects/Writing/Post Ideas"
          ],
          [
           "Post Ideas on Health",
           "3-MOCs and Projects/Projects/Writing/Post Ideas"
          ],
          [
           "Simple Token Reward System for Kids",
           "3-MOCs and Projects/Projects/Writing/Post Ideas"
          ],
          [
           "your online persona when wfh",
           "3-MOCs and Projects/Projects/Writing/Post Ideas"
          ],
          [
           "writing is the magic of remote work",
           "3-MOCs and Projects/Projects/Writing/Post Ideas"
          ],
          [
           "writing is the magic of remote work",
           "3-MOCs and Projects/Projects/Writing/Post Ideas"
          ],
          [
           "writing is the magic of remote work",
           "3-MOCs and Projects/Projects/Writing/Post Ideas"
          ],
          [
           "writing is the magic of remote work",
           "3-MOCs and Projects/Projects/Writing/Post Ideas"
          ],
          [
           "writing is the magic of remote work",
           "3-MOCs and Projects/Projects/Writing/Post Ideas"
          ],
          [
           "New grad to millionaire, the 10 year plan for tech workers.",
           "3-MOCs and Projects/Projects/Writing/Post Ideas"
          ],
          [
           "The five and a half hour work day",
           "1-Notes"
          ],
          [
           "WFH 5 minute mobility guide",
           "1-Notes"
          ],
          [
           "Remote Work is a Super Power",
           "1-Notes"
          ]
         ],
         "hovertemplate": "color=26<br>x=%{x}<br>y=%{y}<br>note_title=%{customdata[0]}<br>folder=%{customdata[1]}<extra></extra>",
         "legendgroup": "26",
         "marker": {
          "color": "#FF97FF",
          "symbol": "circle"
         },
         "mode": "markers",
         "name": "26",
         "showlegend": true,
         "type": "scattergl",
         "x": [
          0.9024792,
          1.8238482,
          1.9729611,
          1.0987983,
          0.94034874,
          1.0325177,
          1.8882233,
          0.55935025,
          0.79364395,
          2.013423,
          2.0209851,
          1.9863193,
          1.0089868,
          1.9477301,
          1.9527043,
          0.74417734,
          2.0768118,
          0.5868271,
          0.60136414,
          0.5868534,
          1.0432651,
          1.9850568,
          0.8120149,
          0.77472085,
          1.2278405,
          0.6742762,
          0.59034973,
          0.47480777,
          -1.7636272,
          0.9218104,
          0.7874682,
          0.796273,
          0.76023453,
          0.748519,
          0.7698879,
          1.9672527,
          1.0313492,
          0.54165035,
          0.7618202
         ],
         "xaxis": "x",
         "y": [
          4.1400075,
          0.61436903,
          0.8870369,
          4.2064104,
          4.1317496,
          4.1394515,
          4.529606,
          4.079104,
          4.1999073,
          0.84395427,
          0.84531015,
          0.86007416,
          5.569446,
          0.9761595,
          0.98698795,
          3.940935,
          1.3780167,
          4.09777,
          4.0154,
          4.11292,
          4.098878,
          1.163124,
          4.1988196,
          4.1923122,
          4.268191,
          4.0702543,
          3.9270737,
          4.109654,
          2.2105846,
          4.2987905,
          4.2381935,
          4.2496095,
          4.2601905,
          4.263897,
          4.2479086,
          1.024305,
          4.141812,
          4.0364246,
          4.1848297
         ],
         "yaxis": "y"
        },
        {
         "customdata": [
          [
           "4000 four thousand weeks - oliver burkeman",
           "2-Reference/Books"
          ],
          [
           "4000 four thousand weeks - oliver burkeman",
           "2-Reference/Books"
          ],
          [
           "4000 four thousand weeks - oliver burkeman",
           "2-Reference/Books"
          ],
          [
           "4000 four thousand weeks - oliver burkeman",
           "2-Reference/Books"
          ],
          [
           "4000 four thousand weeks - oliver burkeman",
           "2-Reference/Books"
          ],
          [
           "4000 four thousand weeks - oliver burkeman",
           "2-Reference/Books"
          ],
          [
           "4000 four thousand weeks - oliver burkeman",
           "2-Reference/Books"
          ],
          [
           "X - four thousand weeks",
           "3-MOCs and Projects/Projects/Podcast - BoC/Shows in Progress"
          ]
         ],
         "hovertemplate": "color=39<br>x=%{x}<br>y=%{y}<br>note_title=%{customdata[0]}<br>folder=%{customdata[1]}<extra></extra>",
         "legendgroup": "39",
         "marker": {
          "color": "#FECB52",
          "symbol": "circle"
         },
         "mode": "markers",
         "name": "39",
         "showlegend": true,
         "type": "scattergl",
         "x": [
          1.3215504,
          1.3137227,
          1.3363405,
          1.3836105,
          1.352027,
          1.3047684,
          1.3159487,
          1.1429653
         ],
         "xaxis": "x",
         "y": [
          2.09506,
          2.1334794,
          2.1156023,
          2.1717596,
          2.0648608,
          2.108655,
          2.1533117,
          1.9500343
         ],
         "yaxis": "y"
        },
        {
         "customdata": [
          [
           "The Out of Sync Child",
           "2-Reference/Books"
          ],
          [
           "The Out of Sync Child",
           "2-Reference/Books"
          ],
          [
           "The Out of Sync Child",
           "2-Reference/Books"
          ],
          [
           "The Out of Sync Child",
           "2-Reference/Books"
          ],
          [
           "The Out of Sync Child",
           "2-Reference/Books"
          ],
          [
           "The Out of Sync Child",
           "2-Reference/Books"
          ],
          [
           "The Out of Sync Child",
           "2-Reference/Books"
          ],
          [
           "The Out of Sync Child",
           "2-Reference/Books"
          ],
          [
           "The Out of Sync Child",
           "2-Reference/Books"
          ],
          [
           "The Out of Sync Child",
           "2-Reference/Books"
          ],
          [
           "The Out of Sync Child",
           "2-Reference/Books"
          ],
          [
           "The Out of Sync Child",
           "2-Reference/Books"
          ],
          [
           "The Out of Sync Child",
           "2-Reference/Books"
          ],
          [
           "The Out of Sync Child",
           "2-Reference/Books"
          ],
          [
           "The Out of Sync Child",
           "2-Reference/Books"
          ],
          [
           "The Out of Sync Child",
           "2-Reference/Books"
          ],
          [
           "The Out of Sync Child",
           "2-Reference/Books"
          ],
          [
           "The Out of Sync Child",
           "2-Reference/Books"
          ],
          [
           "The Out of Sync Child",
           "2-Reference/Books"
          ],
          [
           "The Out of Sync Child",
           "2-Reference/Books"
          ],
          [
           "The Out of Sync Child",
           "2-Reference/Books"
          ],
          [
           "The Out of Sync Child",
           "2-Reference/Books"
          ],
          [
           "The Out of Sync Child",
           "2-Reference/Books"
          ],
          [
           "The Out of Sync Child",
           "2-Reference/Books"
          ],
          [
           "The Out of Sync Child",
           "2-Reference/Books"
          ],
          [
           "The Out of Sync Child",
           "2-Reference/Books"
          ],
          [
           "Enjoy Kids Now",
           "1-Notes"
          ],
          [
           "less toys for kids, more experiences",
           "1-Notes"
          ],
          [
           "Tell kids they are special",
           "1-Notes"
          ],
          [
           "Good Parenting is Doing What's Scary for you",
           "1-Notes"
          ],
          [
           "AMOC - Parenting",
           "1-Notes"
          ],
          [
           "AMOC - Parenting",
           "1-Notes"
          ],
          [
           "AMOC - Parenting",
           "1-Notes"
          ],
          [
           "AMOC - Parenting",
           "1-Notes"
          ],
          [
           "AMOC - Parenting",
           "1-Notes"
          ],
          [
           "AMOC - Parenting",
           "1-Notes"
          ],
          [
           "AMOC - Parenting",
           "1-Notes"
          ],
          [
           "AMOC - Parenting",
           "1-Notes"
          ],
          [
           "AMOC - Parenting",
           "1-Notes"
          ],
          [
           "AMOC - Parenting",
           "1-Notes"
          ],
          [
           "AMOC - Parenting",
           "1-Notes"
          ],
          [
           "AMOC - Parenting",
           "1-Notes"
          ],
          [
           "Be a Great Dad",
           "1-Notes"
          ],
          [
           "Kids Have A Reason - just exploring sometimes",
           "1-Notes"
          ],
          [
           "We are passing screen time down to kids",
           "1-Notes"
          ],
          [
           "SPD not just your kid being a kid",
           "1-Notes"
          ]
         ],
         "hovertemplate": "color=9<br>x=%{x}<br>y=%{y}<br>note_title=%{customdata[0]}<br>folder=%{customdata[1]}<extra></extra>",
         "legendgroup": "9",
         "marker": {
          "color": "#636efa",
          "symbol": "circle"
         },
         "mode": "markers",
         "name": "9",
         "showlegend": true,
         "type": "scattergl",
         "x": [
          -6.1755815,
          -6.478795,
          -6.421733,
          -6.440927,
          -6.3922486,
          -6.4177766,
          -6.4217277,
          -6.459369,
          -6.419056,
          -6.4190745,
          -6.419993,
          -6.4438925,
          -6.451677,
          -6.2910995,
          -6.3762403,
          -6.210585,
          -6.2353125,
          -6.2137055,
          -6.2572293,
          -6.200855,
          -6.2379055,
          -6.4191403,
          -6.209538,
          -6.2554,
          -6.2756467,
          -6.256911,
          -1.6603816,
          -1.7832406,
          -1.6904913,
          -1.7336628,
          -1.750604,
          -1.7400572,
          -1.729825,
          -1.7800016,
          -1.743176,
          -1.8123767,
          -1.7563744,
          -1.748441,
          -1.7573284,
          -1.7982733,
          -1.7729846,
          -1.7963587,
          -1.7082347,
          -1.6984605,
          -1.5870712,
          -6.322705
         ],
         "xaxis": "x",
         "y": [
          0.11610448,
          -0.15478696,
          -0.09871688,
          -0.117691174,
          -0.07031191,
          -0.09588249,
          -0.10014992,
          -0.13486291,
          -0.096290104,
          -0.09642169,
          -0.09909735,
          -0.12108055,
          -0.12958781,
          0.026865259,
          -0.05712385,
          0.1025534,
          0.07817683,
          0.09724551,
          0.056544255,
          0.11072941,
          0.0762155,
          -0.09621761,
          0.10304699,
          0.058114223,
          0.04160903,
          0.057901092,
          2.1570778,
          2.2261305,
          2.2096837,
          2.2093241,
          2.2291873,
          2.2309568,
          2.213381,
          2.2566068,
          2.1921313,
          2.2557974,
          2.190125,
          2.2220573,
          2.236905,
          2.2225232,
          2.2299573,
          2.2222054,
          2.266083,
          2.2370448,
          2.0889924,
          -0.003627569
         ],
         "yaxis": "y"
        },
        {
         "customdata": [
          [
           "How to Take Smart Notes",
           "2-Reference/Books"
          ],
          [
           "How to Take Smart Notes",
           "2-Reference/Books"
          ],
          [
           "How to Take Smart Notes",
           "2-Reference/Books"
          ],
          [
           "How to Take Smart Notes",
           "2-Reference/Books"
          ],
          [
           "How to Take Smart Notes",
           "2-Reference/Books"
          ],
          [
           "How to Take Smart Notes",
           "2-Reference/Books"
          ],
          [
           "How to Take Smart Notes",
           "2-Reference/Books"
          ],
          [
           "How to Take Smart Notes",
           "2-Reference/Books"
          ],
          [
           "How to Take Smart Notes",
           "2-Reference/Books"
          ],
          [
           "How to Take Smart Notes",
           "2-Reference/Books"
          ],
          [
           "How to Take Smart Notes",
           "2-Reference/Books"
          ],
          [
           "How to Take Smart Notes",
           "2-Reference/Books"
          ],
          [
           "How to Take Smart Notes",
           "2-Reference/Books"
          ],
          [
           "How to Take Smart Notes",
           "2-Reference/Books"
          ],
          [
           "How to Take Smart Notes",
           "2-Reference/Books"
          ],
          [
           "How to Take Smart Notes",
           "2-Reference/Books"
          ],
          [
           "How I Write Notes - David Perell",
           "2-Reference/Courses"
          ],
          [
           "How I Write Notes - David Perell",
           "2-Reference/Courses"
          ],
          [
           "How I Write Notes - David Perell",
           "2-Reference/Courses"
          ],
          [
           "How I Write Notes - David Perell",
           "2-Reference/Courses"
          ],
          [
           "How I Write Notes - David Perell",
           "2-Reference/Courses"
          ],
          [
           "How I Write Notes - David Perell",
           "2-Reference/Courses"
          ],
          [
           "How I Write Notes - David Perell",
           "2-Reference/Courses"
          ],
          [
           "How I Write Notes - David Perell",
           "2-Reference/Courses"
          ],
          [
           "How I Write Notes - David Perell",
           "2-Reference/Courses"
          ],
          [
           "How I Write Notes - David Perell",
           "2-Reference/Courses"
          ],
          [
           "How I Write Notes - David Perell",
           "2-Reference/Courses"
          ],
          [
           "How I Write Notes - David Perell",
           "2-Reference/Courses"
          ],
          [
           "How I Write Notes - David Perell",
           "2-Reference/Courses"
          ],
          [
           "How I Write Notes - David Perell",
           "2-Reference/Courses"
          ],
          [
           "How I Write Notes - David Perell",
           "2-Reference/Courses"
          ],
          [
           "How I Write Notes - David Perell",
           "2-Reference/Courses"
          ],
          [
           "How I Write Notes - David Perell",
           "2-Reference/Courses"
          ],
          [
           "How I Write Notes - David Perell",
           "2-Reference/Courses"
          ],
          [
           "How I Write Notes - David Perell",
           "2-Reference/Courses"
          ],
          [
           "How to Take Smart Notes",
           "2-Reference/Apps"
          ],
          [
           "How to Take Smart Notes",
           "2-Reference/Apps"
          ],
          [
           "6 - Why You Need to Take More Notes",
           "3-MOCs and Projects/Projects/Podcast - BoC/Shows"
          ],
          [
           "6 - Why You Need to Take More Notes",
           "3-MOCs and Projects/Projects/Podcast - BoC/Shows"
          ],
          [
           "YT - How to Take Smart Notes Video",
           "3-MOCs and Projects/YouTube/Ideas"
          ],
          [
           "YT - How to Take Smart Notes Video",
           "3-MOCs and Projects/YouTube/Ideas"
          ],
          [
           "Write Like You Speak",
           "1-Notes"
          ],
          [
           "My Writing Process",
           "1-Notes"
          ],
          [
           "Be a professional noticer",
           "1-Notes"
          ]
         ],
         "hovertemplate": "color=44<br>x=%{x}<br>y=%{y}<br>note_title=%{customdata[0]}<br>folder=%{customdata[1]}<extra></extra>",
         "legendgroup": "44",
         "marker": {
          "color": "#EF553B",
          "symbol": "circle"
         },
         "mode": "markers",
         "name": "44",
         "showlegend": true,
         "type": "scattergl",
         "x": [
          3.6428885,
          3.7020895,
          3.4046113,
          3.4797482,
          3.6382604,
          3.6669548,
          3.6893995,
          3.7039716,
          3.7362921,
          3.6419494,
          3.7273989,
          3.6644464,
          3.6847577,
          3.7449467,
          3.730448,
          3.6730866,
          4.216081,
          4.2351246,
          4.272893,
          4.23802,
          4.261738,
          4.2633605,
          4.244271,
          4.1228137,
          4.1519237,
          4.232683,
          4.2439446,
          4.2975583,
          4.2592506,
          4.262419,
          4.2806516,
          4.2711363,
          4.2764807,
          4.289558,
          4.287292,
          3.7623258,
          3.6633654,
          3.8340394,
          3.8334227,
          3.6165519,
          3.6459227,
          4.3375235,
          3.2176468,
          4.2254353
         ],
         "xaxis": "x",
         "y": [
          4.8515797,
          4.8044376,
          4.5647855,
          4.6113214,
          4.733807,
          4.718962,
          4.803666,
          4.7521534,
          4.8293786,
          4.717961,
          4.814121,
          4.785338,
          4.7694545,
          4.8085394,
          4.8650208,
          4.822794,
          1.9308739,
          1.9737759,
          1.956842,
          1.9450788,
          1.9375088,
          1.9082958,
          1.9009316,
          1.9367664,
          2.006804,
          1.9475862,
          1.9435935,
          1.8949931,
          1.9450874,
          1.9164832,
          1.9109303,
          1.920436,
          1.9288491,
          1.9020004,
          1.9055579,
          4.773702,
          4.7890487,
          4.8877177,
          4.874609,
          5.6912866,
          5.7000213,
          1.9364223,
          4.3040614,
          1.9865607
         ],
         "yaxis": "y"
        },
        {
         "customdata": [
          [
           "Book - Art and Business of Writing Online",
           "2-Reference/Writing Skills"
          ],
          [
           "Book - Art and Business of Writing Online",
           "2-Reference/Writing Skills"
          ],
          [
           "Post - Art and Business of Online Writing - Takeaways",
           "3-MOCs and Projects/Projects/Writing/Post Ideas"
          ],
          [
           "Post - Art and Business of Online Writing - Takeaways",
           "3-MOCs and Projects/Projects/Writing/Post Ideas"
          ],
          [
           "Post - Art and Business of Online Writing - Takeaways",
           "3-MOCs and Projects/Projects/Writing/Post Ideas"
          ],
          [
           "Post - Art and Business of Online Writing - Takeaways",
           "3-MOCs and Projects/Projects/Writing/Post Ideas"
          ],
          [
           "Post - Art and Business of Online Writing - Takeaways",
           "3-MOCs and Projects/Projects/Writing/Post Ideas"
          ],
          [
           "Post - Art and Business of Online Writing - Takeaways",
           "3-MOCs and Projects/Projects/Writing/Post Ideas"
          ],
          [
           "Post - Art and Business of Online Writing - Takeaways",
           "3-MOCs and Projects/Projects/Writing/Post Ideas"
          ],
          [
           "Post - Art and Business of Online Writing - Takeaways",
           "3-MOCs and Projects/Projects/Writing/Post Ideas"
          ],
          [
           "Post - Art and Business of Online Writing - Takeaways",
           "3-MOCs and Projects/Projects/Writing/Post Ideas"
          ],
          [
           "Post - Art and Business of Online Writing - Takeaways",
           "3-MOCs and Projects/Projects/Writing/Post Ideas"
          ],
          [
           "Post - Art and Business of Online Writing - Takeaways",
           "3-MOCs and Projects/Projects/Writing/Post Ideas"
          ],
          [
           "Post - Art and Business of Online Writing - Takeaways",
           "3-MOCs and Projects/Projects/Writing/Post Ideas"
          ]
         ],
         "hovertemplate": "color=5<br>x=%{x}<br>y=%{y}<br>note_title=%{customdata[0]}<br>folder=%{customdata[1]}<extra></extra>",
         "legendgroup": "5",
         "marker": {
          "color": "#00cc96",
          "symbol": "circle"
         },
         "mode": "markers",
         "name": "5",
         "showlegend": true,
         "type": "scattergl",
         "x": [
          4.1208644,
          4.0559745,
          4.4313107,
          4.537723,
          4.5186634,
          4.5225606,
          4.4449615,
          4.424798,
          4.4818425,
          4.479435,
          4.4591804,
          4.5075674,
          4.486913,
          4.4766116
         ],
         "xaxis": "x",
         "y": [
          3.3956332,
          3.4177244,
          3.131022,
          3.1491084,
          3.1014645,
          3.1448443,
          3.16716,
          3.1871178,
          3.1672802,
          3.1514227,
          3.1971147,
          3.1768472,
          3.1532044,
          3.131166
         ],
         "yaxis": "y"
        },
        {
         "customdata": [
          [
           "Intro to PyTorch Tutorial",
           "2-Reference/Courses"
          ],
          [
           "Intro to PyTorch Tutorial",
           "2-Reference/Courses"
          ],
          [
           "Intro to PyTorch Tutorial",
           "2-Reference/Courses"
          ],
          [
           "Intro to PyTorch Tutorial",
           "2-Reference/Courses"
          ],
          [
           "Intro to PyTorch Tutorial",
           "2-Reference/Courses"
          ],
          [
           "Intro to PyTorch Tutorial",
           "2-Reference/Courses"
          ],
          [
           "Intro to PyTorch Tutorial",
           "2-Reference/Courses"
          ],
          [
           "Intro to PyTorch Tutorial",
           "2-Reference/Courses"
          ],
          [
           "Intro to PyTorch Tutorial",
           "2-Reference/Courses"
          ],
          [
           "Intro to PyTorch Tutorial",
           "2-Reference/Courses"
          ],
          [
           "Intro to PyTorch Tutorial",
           "2-Reference/Courses"
          ],
          [
           "PyTorch - Quickstart",
           "2-Reference/Courses"
          ],
          [
           "PyTorch - Quickstart",
           "2-Reference/Courses"
          ],
          [
           "PyTorch - Quickstart",
           "2-Reference/Courses"
          ],
          [
           "PyTorch - Quickstart",
           "2-Reference/Courses"
          ],
          [
           "YT - A Few Useful Things to Know about Machine Learning ML",
           "3-MOCs and Projects/YouTube/Done"
          ],
          [
           "YT - A Few Useful Things to Know about Machine Learning ML",
           "3-MOCs and Projects/YouTube/Done"
          ],
          [
           "YT - A Few Useful Things to Know about Machine Learning ML",
           "3-MOCs and Projects/YouTube/Done"
          ],
          [
           "YT - A Few Useful Things to Know about Machine Learning ML",
           "3-MOCs and Projects/YouTube/Done"
          ],
          [
           "YT - A Few Useful Things to Know about Machine Learning ML",
           "3-MOCs and Projects/YouTube/Done"
          ],
          [
           "YT - A Few Useful Things to Know about Machine Learning ML",
           "3-MOCs and Projects/YouTube/Done"
          ],
          [
           "YT - A Few Useful Things to Know about Machine Learning ML",
           "3-MOCs and Projects/YouTube/Done"
          ],
          [
           "YT - How to Use PyTorch for Neural Networks - Basic steps",
           "3-MOCs and Projects/YouTube/Done"
          ],
          [
           "YT - How to Use PyTorch for Neural Networks - Basic steps",
           "3-MOCs and Projects/YouTube/Done"
          ],
          [
           "YT - How to Use PyTorch for Neural Networks - Basic steps",
           "3-MOCs and Projects/YouTube/Done"
          ],
          [
           "YT - How to Use PyTorch for Neural Networks - Basic steps",
           "3-MOCs and Projects/YouTube/Done"
          ],
          [
           "YT - Self-Attention Mechanisms Basic",
           "3-MOCs and Projects/YouTube/Done"
          ],
          [
           "YT - Self-Attention Mechanisms Basic",
           "3-MOCs and Projects/YouTube/Done"
          ],
          [
           "YT - Self-Attention Mechanisms Basic",
           "3-MOCs and Projects/YouTube/Done"
          ],
          [
           "YT - Self-Attention Mechanisms Basic",
           "3-MOCs and Projects/YouTube/Done"
          ],
          [
           "YT - Self-Attention Mechanisms Basic",
           "3-MOCs and Projects/YouTube/Done"
          ],
          [
           "YT - Self-Attention Mechanisms Basic",
           "3-MOCs and Projects/YouTube/Done"
          ],
          [
           "YT - Understanding Tensors",
           "3-MOCs and Projects/YouTube/Ideas"
          ],
          [
           "YT - Understanding Tensors",
           "3-MOCs and Projects/YouTube/Ideas"
          ],
          [
           "YT - Understanding Tensors",
           "3-MOCs and Projects/YouTube/Ideas"
          ],
          [
           "YT - Understanding Tensors",
           "3-MOCs and Projects/YouTube/Ideas"
          ],
          [
           "YT - Understanding Tensors",
           "3-MOCs and Projects/YouTube/Ideas"
          ],
          [
           "YT - Understanding Tensors",
           "3-MOCs and Projects/YouTube/Ideas"
          ],
          [
           "YT - linear algebra for engineers",
           "3-MOCs and Projects/YouTube/Ideas"
          ],
          [
           "YT - linear algebra for engineers",
           "3-MOCs and Projects/YouTube/Ideas"
          ],
          [
           "YT - linear algebra for engineers",
           "3-MOCs and Projects/YouTube/Ideas"
          ],
          [
           "YT - linear algebra for engineers",
           "3-MOCs and Projects/YouTube/Ideas"
          ],
          [
           "YT - linear algebra for engineers",
           "3-MOCs and Projects/YouTube/Ideas"
          ],
          [
           "YT - linear algebra for engineers",
           "3-MOCs and Projects/YouTube/Ideas"
          ],
          [
           "YT - linear algebra for engineers",
           "3-MOCs and Projects/YouTube/Ideas"
          ],
          [
           "PyTest 101",
           "4-Tech Notes/python"
          ],
          [
           "Setup Jupyter and Poetry on WSL2 for Windows",
           "4-Tech Notes/python"
          ],
          [
           "Setup Jupyter and Poetry on WSL2 for Windows",
           "4-Tech Notes/python"
          ],
          [
           "Setup Jupyter and Poetry on WSL2 for Windows",
           "4-Tech Notes/python"
          ],
          [
           "Setup Jupyter and Poetry on WSL2 for Windows",
           "4-Tech Notes/python"
          ],
          [
           "Understanding Tensors",
           "4-Tech Notes/pytorch"
          ],
          [
           "Understanding Tensors",
           "4-Tech Notes/pytorch"
          ],
          [
           "Understanding Tensors",
           "4-Tech Notes/pytorch"
          ],
          [
           "Understanding Tensors",
           "4-Tech Notes/pytorch"
          ],
          [
           "Understanding Tensors",
           "4-Tech Notes/pytorch"
          ],
          [
           "Understanding Tensors",
           "4-Tech Notes/pytorch"
          ],
          [
           "Understanding Tensors",
           "4-Tech Notes/pytorch"
          ],
          [
           "Understanding Tensors",
           "4-Tech Notes/pytorch"
          ],
          [
           "Understanding Tensors",
           "4-Tech Notes/pytorch"
          ],
          [
           "Understanding Tensors",
           "4-Tech Notes/pytorch"
          ],
          [
           "Understanding Tensors",
           "4-Tech Notes/pytorch"
          ],
          [
           "Understanding Tensors",
           "4-Tech Notes/pytorch"
          ],
          [
           "Understanding Tensors",
           "4-Tech Notes/pytorch"
          ],
          [
           "MOC - PyTorch",
           "1-Notes"
          ],
          [
           "MOC - PyTorch",
           "1-Notes"
          ],
          [
           "MOC - PyTorch",
           "1-Notes"
          ]
         ],
         "hovertemplate": "color=19<br>x=%{x}<br>y=%{y}<br>note_title=%{customdata[0]}<br>folder=%{customdata[1]}<extra></extra>",
         "legendgroup": "19",
         "marker": {
          "color": "#ab63fa",
          "symbol": "circle"
         },
         "mode": "markers",
         "name": "19",
         "showlegend": true,
         "type": "scattergl",
         "x": [
          -2.1420481,
          -2.2396383,
          -2.1366706,
          -2.1658015,
          -2.1559653,
          -2.1546655,
          -2.1599102,
          -2.1384306,
          -2.1586342,
          -2.1529117,
          -2.1734378,
          -2.1018808,
          -2.1205056,
          -2.1063185,
          -2.1245627,
          -1.4039116,
          -1.4398152,
          -1.4343886,
          -1.4286953,
          -1.4310948,
          -1.4223273,
          -1.4498345,
          -0.026439667,
          -0.008657728,
          -0.006363776,
          -0.011713806,
          0.015212184,
          -0.007799954,
          0.00074227457,
          0.021825297,
          0.0090811085,
          0.0068262606,
          -2.195628,
          -2.2437177,
          -2.2486613,
          -2.1993968,
          -2.2052822,
          -2.2057345,
          -2.0621328,
          -2.0552366,
          -2.0450754,
          -2.0459821,
          -2.0350358,
          -2.0433247,
          -2.0072095,
          4.293618,
          4.265205,
          4.271869,
          4.2681184,
          4.2692347,
          -2.2458465,
          -2.332794,
          -2.3244777,
          -2.30935,
          -2.33121,
          -2.2983737,
          -2.348239,
          -2.3112242,
          -2.326745,
          -2.331688,
          -2.3470078,
          -2.2782726,
          -2.3046873,
          -1.9542345,
          -1.9683977,
          -2.0401146
         ],
         "xaxis": "x",
         "y": [
          13.462809,
          13.1108465,
          13.440788,
          13.447277,
          13.450271,
          13.467075,
          13.448343,
          13.471792,
          13.457713,
          13.465848,
          13.448071,
          13.513126,
          13.495346,
          13.487586,
          13.491815,
          9.4635935,
          9.488459,
          9.496371,
          9.468325,
          9.484014,
          9.469108,
          9.499227,
          15.017593,
          15.021041,
          15.024616,
          15.038131,
          11.922215,
          11.894596,
          11.858017,
          11.855201,
          11.880316,
          11.867956,
          12.668443,
          12.729,
          12.733674,
          12.64259,
          12.644703,
          12.676393,
          12.045328,
          12.073357,
          12.063581,
          12.064495,
          12.051572,
          12.057619,
          11.992448,
          7.1088834,
          7.13194,
          7.1299567,
          7.131617,
          7.1330724,
          12.752229,
          12.815551,
          12.823104,
          12.795565,
          12.812291,
          12.791083,
          12.797617,
          12.791278,
          12.81119,
          12.798373,
          12.818302,
          12.761457,
          12.784918,
          13.694453,
          13.705361,
          13.57372
         ],
         "yaxis": "y"
        },
        {
         "customdata": [
          [
           "Questions for Matthew Dicks",
           "2-Reference/Storytelling"
          ],
          [
           "22 - Be OK With Being You",
           "3-MOCs and Projects/Projects/Podcast - BoC/Shows"
          ],
          [
           "23 - The Night I met My Wife, Thank You Dad",
           "3-MOCs and Projects/Projects/Podcast - BoC/Shows"
          ],
          [
           "MOC - Comedy Bits",
           "3-MOCs and Projects/Projects/Comedy"
          ],
          [
           "MOC - Comedy Bits",
           "3-MOCs and Projects/Projects/Comedy"
          ],
          [
           "MOC - Comedy Bits",
           "3-MOCs and Projects/Projects/Comedy"
          ],
          [
           "MOC - Comedy Bits",
           "3-MOCs and Projects/Projects/Comedy"
          ],
          [
           "MOC - Comedy Bits",
           "3-MOCs and Projects/Projects/Comedy"
          ],
          [
           "Don't Worry - Son discovering his thing",
           "3-MOCs and Projects/Projects/Comedy/Bits"
          ],
          [
           "Don't Worry - Son discovering his thing",
           "3-MOCs and Projects/Projects/Comedy/Bits"
          ],
          [
           "divorce serious when looking up on google",
           "3-MOCs and Projects/Projects/Comedy/Bits"
          ],
          [
           "dont tread",
           "3-MOCs and Projects/Projects/Comedy/Bits"
          ],
          [
           "venmo emojis",
           "3-MOCs and Projects/Projects/Comedy/Bits"
          ],
          [
           "dont let wife see porn collection",
           "3-MOCs and Projects/Projects/Comedy/Bits"
          ],
          [
           "married man strip club",
           "3-MOCs and Projects/Projects/Comedy/Bits"
          ],
          [
           "Corporate america woke and backlash",
           "3-MOCs and Projects/Projects/Comedy/Bits"
          ],
          [
           "Getting a Snake - trigger for intervention",
           "3-MOCs and Projects/Projects/Comedy/Bits"
          ],
          [
           "VR Porn greatest thing ever",
           "3-MOCs and Projects/Projects/Comedy/Bits"
          ],
          [
           "Sophia tired",
           "3-MOCs and Projects/Projects/Comedy/Bits"
          ],
          [
           "crypto republicans",
           "3-MOCs and Projects/Projects/Comedy/Bits"
          ],
          [
           "Day You Become a Dad - Boner",
           "3-MOCs and Projects/Projects/Comedy/Bits"
          ],
          [
           "Flow App",
           "3-MOCs and Projects/Projects/Comedy/Bits"
          ],
          [
           "Friends want us interracial couple to weigh in on politics to feel good",
           "3-MOCs and Projects/Projects/Comedy/Bits"
          ],
          [
           "Sophia - can tell what cake is skill",
           "3-MOCs and Projects/Projects/Comedy/Bits"
          ],
          [
           "jerk off like sandpaper",
           "3-MOCs and Projects/Projects/Comedy/Bits"
          ],
          [
           "Nervous is coming home from ricks",
           "3-MOCs and Projects/Projects/Comedy/Bits"
          ],
          [
           "Investing in wiper fluid",
           "3-MOCs and Projects/Projects/Comedy/Bits"
          ],
          [
           "WebMD Doctor",
           "3-MOCs and Projects/Projects/Comedy/Bits"
          ],
          [
           "Mr Softee relationship",
           "3-MOCs and Projects/Projects/Comedy/Bits"
          ],
          [
           "pubes shaving trust",
           "3-MOCs and Projects/Projects/Comedy/Bits"
          ],
          [
           "republican better gifts",
           "3-MOCs and Projects/Projects/Comedy/Bits"
          ],
          [
           "LI Confederacy",
           "3-MOCs and Projects/Projects/Comedy/Bits"
          ],
          [
           "how my wife ruined vr porn",
           "3-MOCs and Projects/Projects/Comedy/Bits"
          ],
          [
           "Best Friends Dont Cockblock son",
           "3-MOCs and Projects/Projects/Comedy/Bits"
          ],
          [
           "dont tread on him son cartoon",
           "3-MOCs and Projects/Projects/Comedy/Bits"
          ],
          [
           "Seatbelt cutter - useless doomsday preps",
           "3-MOCs and Projects/Projects/Comedy/Bits"
          ],
          [
           "Ethan Fighting",
           "3-MOCs and Projects/Projects/Comedy/Bits"
          ],
          [
           "news stories - my buddy heard",
           "3-MOCs and Projects/Projects/Comedy/Bits"
          ],
          [
           "TV that swings changed my life",
           "3-MOCs and Projects/Projects/Comedy/Bits"
          ],
          [
           "My Wife Was Right - Album",
           "3-MOCs and Projects/Projects/Comedy/Bits"
          ],
          [
           "My Wife Was Right - Album",
           "3-MOCs and Projects/Projects/Comedy/Bits"
          ],
          [
           "Yearbook Amber",
           "3-MOCs and Projects/Projects/Comedy/Bits"
          ],
          [
           "Bedtime reading",
           "3-MOCs and Projects/Projects/Comedy/Bits"
          ],
          [
           "Mission Impossible - Sleight of Hand as Parent",
           "3-MOCs and Projects/Projects/Comedy/Bits"
          ],
          [
           "Power vest - Wolf of Wall Street",
           "3-MOCs and Projects/Projects/Comedy/Bits"
          ],
          [
           "Tee Ball Harassment Training",
           "3-MOCs and Projects/Projects/Comedy/Bits"
          ],
          [
           "Taylors handsome backup dancer",
           "3-MOCs and Projects/Projects/Comedy/Bits"
          ],
          [
           "Data Engineer Joke 500k",
           "3-MOCs and Projects/Projects/Comedy/Bits"
          ],
          [
           "my wife the gardner",
           "3-MOCs and Projects/Projects/Comedy/Bits"
          ],
          [
           "Woke education taking jobs from bees",
           "3-MOCs and Projects/Projects/Comedy/Bits"
          ],
          [
           "YT Commercials",
           "3-MOCs and Projects/Projects/Comedy/Bits"
          ],
          [
           "Friends that Talk Shit",
           "3-MOCs and Projects/Projects/Comedy/Bits"
          ],
          [
           "Being the Only White Person in the room",
           "3-MOCs and Projects/Projects/Comedy/Bits"
          ],
          [
           "Influence through their Queue",
           "3-MOCs and Projects/Projects/Comedy/Bits"
          ],
          [
           "Why I dont let my kids fly first class",
           "3-MOCs and Projects/Projects/Comedy/Bits"
          ],
          [
           "Comedy - AI cancelling appoints",
           "3-MOCs and Projects/Projects/Comedy/Bits"
          ],
          [
           "Joy of finding a VHS tape",
           "3-MOCs and Projects/Projects/Comedy/Bits"
          ],
          [
           "Cybersecurity to protect home made videos",
           "3-MOCs and Projects/Projects/Comedy/Bits"
          ],
          [
           "Telling people to do their jobs",
           "3-MOCs and Projects/Projects/Comedy/Bits"
          ],
          [
           "Paula Deen is Honest",
           "3-MOCs and Projects/Projects/Comedy/Bits"
          ],
          [
           "Sex Tapes Teach Cyber Security",
           "3-MOCs and Projects/Projects/Comedy/Bits"
          ],
          [
           "Racism dying one grandma at a time",
           "3-MOCs and Projects/Projects/Comedy/Bits"
          ],
          [
           "t9ing my wife",
           "3-MOCs and Projects/Projects/Comedy/Bits"
          ],
          [
           "Parenting gotta take a shit",
           "3-MOCs and Projects/Projects/Comedy/Bits"
          ],
          [
           "MOC - Frank Matthews",
           "3-MOCs and Projects/Projects/Writing"
          ],
          [
           "Raising Multi-Racial Children",
           "3-MOCs and Projects/Projects/Writing/Post Ideas"
          ],
          [
           "2024-04-01 - April Fools",
           "3-MOCs and Projects/Projects/Writing/Post Ideas"
          ],
          [
           "Why Sons Don't Say I Love You Mom",
           "3-MOCs and Projects/Projects/Writing/Post Ideas"
          ],
          [
           "5 reasons to wear a bathrobe",
           "3-MOCs and Projects/Projects/Writing/Post Ideas"
          ],
          [
           "5 reasons to wear a bathrobe",
           "3-MOCs and Projects/Projects/Writing/Post Ideas"
          ],
          [
           "My LLM Girlfriend",
           "3-MOCs and Projects/Projects/Writing/Post Ideas"
          ],
          [
           "culture of liability avoiders",
           "1-Notes"
          ],
          [
           "MOC - Hair Braiding",
           "1-Notes"
          ],
          [
           "no one is born an asshole - empathy",
           "1-Notes"
          ],
          [
           "Don't Engage with Outrage",
           "1-Notes"
          ],
          [
           "Woke Republican",
           "1-Notes"
          ],
          [
           "Deliver on the Emotional Promise Entertaining",
           "1-Notes"
          ]
         ],
         "hovertemplate": "color=41<br>x=%{x}<br>y=%{y}<br>note_title=%{customdata[0]}<br>folder=%{customdata[1]}<extra></extra>",
         "legendgroup": "41",
         "marker": {
          "color": "#FFA15A",
          "symbol": "circle"
         },
         "mode": "markers",
         "name": "41",
         "showlegend": true,
         "type": "scattergl",
         "x": [
          5.125129,
          1.1316489,
          -1.2356353,
          -0.99766123,
          -1.0373024,
          -1.1042627,
          -0.94940436,
          -1.000931,
          -1.4199222,
          -1.2757837,
          -0.8444946,
          -0.9463316,
          -1.1301905,
          -0.8985665,
          -0.89062816,
          -0.95361996,
          -1.0254164,
          -0.8454144,
          -1.2892222,
          -0.7238489,
          -1.2791017,
          -0.86267173,
          -1.1248543,
          -1.3788894,
          -0.88129413,
          -0.8946575,
          1.6502247,
          -0.799827,
          -1.2667216,
          -0.86193764,
          -0.7828932,
          -0.95461756,
          -0.9107837,
          -1.1552869,
          -1.050016,
          -0.34843403,
          -1.1444165,
          -0.93449336,
          -1.087272,
          -0.92851985,
          -0.8972073,
          -0.9064682,
          -1.3368902,
          -1.5763384,
          -0.49696025,
          -0.99397963,
          -0.94029194,
          -0.90698284,
          -0.91668427,
          -1.3496232,
          -1.5251136,
          -0.918257,
          -1.1701646,
          -1.7763168,
          -1.4084998,
          -0.8843562,
          -1.758834,
          -0.9733883,
          -0.7622332,
          -1.1747812,
          -0.9987648,
          -0.9585856,
          -0.9233201,
          -1.3780596,
          -0.70256096,
          -1.6868458,
          -0.9060228,
          -1.5613599,
          -0.39997095,
          -0.3673912,
          -0.8486276,
          1.2179382,
          0.37715128,
          1.384518,
          1.4947233,
          -0.5209981,
          -1.2284251
         ],
         "xaxis": "x",
         "y": [
          0.85586727,
          1.8482143,
          2.7185204,
          2.6744726,
          2.6059575,
          2.60743,
          2.7141104,
          2.6442928,
          2.4965224,
          2.5407875,
          2.912471,
          2.750927,
          2.6009767,
          2.89605,
          2.736895,
          2.678531,
          2.6210506,
          2.9696898,
          2.7219563,
          2.680579,
          2.5569267,
          2.5907567,
          2.5238707,
          2.6502066,
          2.917616,
          2.6795645,
          3.9502585,
          2.8613424,
          2.5722008,
          2.962577,
          2.6617754,
          2.682613,
          2.8939023,
          2.5490055,
          2.5448556,
          2.8597653,
          2.5438974,
          2.6130483,
          2.7402098,
          2.8804061,
          2.888943,
          2.0025864,
          2.6359735,
          2.3782606,
          -2.7136486,
          2.6868002,
          2.8349526,
          2.7810726,
          2.8292534,
          2.4689171,
          3.1647875,
          2.6650958,
          2.5585217,
          2.2496114,
          2.3820775,
          2.602882,
          3.7063792,
          2.9436352,
          2.8641214,
          2.5382786,
          2.8405178,
          2.6171644,
          2.8518164,
          2.4732006,
          2.8784292,
          2.2878666,
          2.7206042,
          2.3108737,
          3.138536,
          3.1577044,
          2.9589221,
          4.153462,
          4.193539,
          3.63611,
          3.7898145,
          2.7774222,
          2.993688
         ],
         "yaxis": "y"
        },
        {
         "customdata": [
          [
           "AMOC - Self - Mental",
           "3-MOCs and Projects"
          ],
          [
           "AMOC - Self - Mental",
           "3-MOCs and Projects"
          ],
          [
           "AMOC - Self - Mental",
           "3-MOCs and Projects"
          ],
          [
           "AMOC - Self - Mental",
           "3-MOCs and Projects"
          ],
          [
           "AMOC - Self - Mental",
           "3-MOCs and Projects"
          ]
         ],
         "hovertemplate": "color=10<br>x=%{x}<br>y=%{y}<br>note_title=%{customdata[0]}<br>folder=%{customdata[1]}<extra></extra>",
         "legendgroup": "10",
         "marker": {
          "color": "#19d3f3",
          "symbol": "circle"
         },
         "mode": "markers",
         "name": "10",
         "showlegend": true,
         "type": "scattergl",
         "x": [
          -0.3460083,
          -0.3592021,
          -0.35683748,
          -0.35195827,
          -0.37097144
         ],
         "xaxis": "x",
         "y": [
          4.1872506,
          4.1945786,
          4.197457,
          4.1919446,
          4.2222238
         ],
         "yaxis": "y"
        },
        {
         "customdata": [
          [
           "AMOC - Self - Mental",
           "3-MOCs and Projects"
          ]
         ],
         "hovertemplate": "color=20<br>x=%{x}<br>y=%{y}<br>note_title=%{customdata[0]}<br>folder=%{customdata[1]}<extra></extra>",
         "legendgroup": "20",
         "marker": {
          "color": "#FF6692",
          "symbol": "circle"
         },
         "mode": "markers",
         "name": "20",
         "showlegend": true,
         "type": "scattergl",
         "x": [
          -0.35303974
         ],
         "xaxis": "x",
         "y": [
          4.1676526
         ],
         "yaxis": "y"
        },
        {
         "customdata": [
          [
           "AMOC - Priorities, Vision, Long Term",
           "3-MOCs and Projects"
          ],
          [
           "AMOC - Priorities, Vision, Long Term",
           "3-MOCs and Projects"
          ],
          [
           "AMOC - Priorities, Vision, Long Term",
           "3-MOCs and Projects"
          ],
          [
           "AMOC - Priorities, Vision, Long Term",
           "3-MOCs and Projects"
          ],
          [
           "AMOC - Priorities, Vision, Long Term",
           "3-MOCs and Projects"
          ],
          [
           "AMOC - Priorities, Vision, Long Term",
           "3-MOCs and Projects"
          ],
          [
           "AMOC - Priorities, Vision, Long Term",
           "3-MOCs and Projects"
          ],
          [
           "AMOC - Priorities, Vision, Long Term",
           "3-MOCs and Projects"
          ],
          [
           "AMOC - Priorities, Vision, Long Term",
           "3-MOCs and Projects"
          ],
          [
           "AMOC - Priorities, Vision, Long Term",
           "3-MOCs and Projects"
          ],
          [
           "AMOC - Priorities, Vision, Long Term",
           "3-MOCs and Projects"
          ],
          [
           "AMOC - Priorities, Vision, Long Term",
           "3-MOCs and Projects"
          ],
          [
           "AMOC - Priorities, Vision, Long Term",
           "3-MOCs and Projects"
          ],
          [
           "AMOC - Priorities, Vision, Long Term",
           "3-MOCs and Projects"
          ],
          [
           "AMOC - Priorities, Vision, Long Term",
           "3-MOCs and Projects"
          ],
          [
           "AMOC - Priorities, Vision, Long Term",
           "3-MOCs and Projects"
          ],
          [
           "AMOC - Priorities, Vision, Long Term",
           "3-MOCs and Projects"
          ],
          [
           "AMOC - Priorities, Vision, Long Term",
           "3-MOCs and Projects"
          ],
          [
           "AMOC - Priorities, Vision, Long Term",
           "3-MOCs and Projects"
          ],
          [
           "AMOC - Priorities, Vision, Long Term",
           "3-MOCs and Projects"
          ]
         ],
         "hovertemplate": "color=28<br>x=%{x}<br>y=%{y}<br>note_title=%{customdata[0]}<br>folder=%{customdata[1]}<extra></extra>",
         "legendgroup": "28",
         "marker": {
          "color": "#B6E880",
          "symbol": "circle"
         },
         "mode": "markers",
         "name": "28",
         "showlegend": true,
         "type": "scattergl",
         "x": [
          3.3029084,
          3.2866974,
          3.3477867,
          3.2748518,
          3.300287,
          3.285034,
          3.264542,
          3.2949507,
          3.2721674,
          3.3067503,
          3.2677672,
          3.3038628,
          3.2549622,
          3.2750573,
          3.297007,
          3.317852,
          3.2698836,
          3.2416995,
          3.26842,
          3.2992058
         ],
         "xaxis": "x",
         "y": [
          6.963389,
          7.003283,
          6.985995,
          6.9847775,
          7.0264835,
          7.0084133,
          7.0247645,
          7.0106654,
          7.0154753,
          6.9981346,
          6.9691663,
          6.983089,
          6.9654303,
          6.9862113,
          7.0085235,
          7.0221753,
          7.0295515,
          6.943488,
          6.9788523,
          6.9994836
         ],
         "yaxis": "y"
        },
        {
         "customdata": [
          [
           "deep-learning github daily blog",
           "3-MOCs and Projects"
          ],
          [
           "deep-learning github daily blog",
           "3-MOCs and Projects"
          ],
          [
           "deep-learning github daily blog",
           "3-MOCs and Projects"
          ],
          [
           "deep-learning github daily blog",
           "3-MOCs and Projects"
          ],
          [
           "deep-learning github daily blog",
           "3-MOCs and Projects"
          ],
          [
           "deep-learning github daily blog",
           "3-MOCs and Projects"
          ],
          [
           "deep-learning github daily blog",
           "3-MOCs and Projects"
          ],
          [
           "deep-learning github daily blog",
           "3-MOCs and Projects"
          ],
          [
           "deep-learning github daily blog",
           "3-MOCs and Projects"
          ],
          [
           "deep-learning github daily blog",
           "3-MOCs and Projects"
          ],
          [
           "deep-learning github daily blog",
           "3-MOCs and Projects"
          ],
          [
           "deep-learning github daily blog",
           "3-MOCs and Projects"
          ],
          [
           "deep-learning github daily blog",
           "3-MOCs and Projects"
          ],
          [
           "deep-learning github daily blog",
           "3-MOCs and Projects"
          ],
          [
           "deep-learning github daily blog",
           "3-MOCs and Projects"
          ],
          [
           "deep-learning github daily blog",
           "3-MOCs and Projects"
          ],
          [
           "deep-learning github daily blog",
           "3-MOCs and Projects"
          ],
          [
           "deep-learning github daily blog",
           "3-MOCs and Projects"
          ],
          [
           "deep-learning github daily blog",
           "3-MOCs and Projects"
          ],
          [
           "deep-learning github daily blog",
           "3-MOCs and Projects"
          ],
          [
           "deep-learning github daily blog",
           "3-MOCs and Projects"
          ],
          [
           "deep-learning github daily blog",
           "3-MOCs and Projects"
          ],
          [
           "deep-learning github daily blog",
           "3-MOCs and Projects"
          ],
          [
           "deep-learning github daily blog",
           "3-MOCs and Projects"
          ],
          [
           "deep-learning github daily blog",
           "3-MOCs and Projects"
          ],
          [
           "deep-learning github daily blog",
           "3-MOCs and Projects"
          ],
          [
           "deep-learning github daily blog",
           "3-MOCs and Projects"
          ],
          [
           "deep-learning github daily blog",
           "3-MOCs and Projects"
          ],
          [
           "deep-learning github daily blog",
           "3-MOCs and Projects"
          ],
          [
           "deep-learning github daily blog",
           "3-MOCs and Projects"
          ],
          [
           "deep-learning github daily blog",
           "3-MOCs and Projects"
          ],
          [
           "deep-learning github daily blog",
           "3-MOCs and Projects"
          ],
          [
           "deep-learning github daily blog",
           "3-MOCs and Projects"
          ],
          [
           "deep-learning github daily blog",
           "3-MOCs and Projects"
          ],
          [
           "deep-learning github daily blog",
           "3-MOCs and Projects"
          ],
          [
           "deep-learning github daily blog",
           "3-MOCs and Projects"
          ],
          [
           "deep-learning github daily blog",
           "3-MOCs and Projects"
          ],
          [
           "deep-learning github daily blog",
           "3-MOCs and Projects"
          ],
          [
           "deep-learning github daily blog",
           "3-MOCs and Projects"
          ],
          [
           "deep-learning github daily blog",
           "3-MOCs and Projects"
          ],
          [
           "deep-learning github daily blog",
           "3-MOCs and Projects"
          ],
          [
           "deep-learning github daily blog",
           "3-MOCs and Projects"
          ],
          [
           "deep-learning github daily blog",
           "3-MOCs and Projects"
          ],
          [
           "deep-learning github daily blog",
           "3-MOCs and Projects"
          ],
          [
           "deep-learning github daily blog",
           "3-MOCs and Projects"
          ],
          [
           "deep-learning github daily blog",
           "3-MOCs and Projects"
          ],
          [
           "deep-learning github daily blog",
           "3-MOCs and Projects"
          ],
          [
           "deep-learning github daily blog",
           "3-MOCs and Projects"
          ],
          [
           "deep-learning github daily blog",
           "3-MOCs and Projects"
          ],
          [
           "deep-learning github daily blog",
           "3-MOCs and Projects"
          ],
          [
           "deep-learning github daily blog",
           "3-MOCs and Projects"
          ],
          [
           "deep-learning github daily blog",
           "3-MOCs and Projects"
          ],
          [
           "deep-learning github daily blog",
           "3-MOCs and Projects"
          ],
          [
           "deep-learning github daily blog",
           "3-MOCs and Projects"
          ],
          [
           "deep-learning github daily blog",
           "3-MOCs and Projects"
          ],
          [
           "deep-learning github daily blog",
           "3-MOCs and Projects"
          ],
          [
           "deep-learning github daily blog",
           "3-MOCs and Projects"
          ],
          [
           "deep-learning github daily blog",
           "3-MOCs and Projects"
          ],
          [
           "deep-learning github daily blog",
           "3-MOCs and Projects"
          ],
          [
           "deep-learning github daily blog",
           "3-MOCs and Projects"
          ],
          [
           "deep-learning github daily blog",
           "3-MOCs and Projects"
          ],
          [
           "deep-learning github daily blog",
           "3-MOCs and Projects"
          ],
          [
           "deep-learning github daily blog",
           "3-MOCs and Projects"
          ],
          [
           "deep-learning github daily blog",
           "3-MOCs and Projects"
          ],
          [
           "deep-learning github daily blog",
           "3-MOCs and Projects"
          ],
          [
           "deep-learning github daily blog",
           "3-MOCs and Projects"
          ],
          [
           "deep-learning github daily blog",
           "3-MOCs and Projects"
          ],
          [
           "deep-learning github daily blog",
           "3-MOCs and Projects"
          ],
          [
           "deep-learning github daily blog",
           "3-MOCs and Projects"
          ],
          [
           "deep-learning github daily blog",
           "3-MOCs and Projects"
          ],
          [
           "deep-learning github daily blog",
           "3-MOCs and Projects"
          ],
          [
           "deep-learning github daily blog",
           "3-MOCs and Projects"
          ],
          [
           "deep-learning github daily blog",
           "3-MOCs and Projects"
          ],
          [
           "deep-learning github daily blog",
           "3-MOCs and Projects"
          ],
          [
           "deep-learning github daily blog",
           "3-MOCs and Projects"
          ],
          [
           "deep-learning github daily blog",
           "3-MOCs and Projects"
          ],
          [
           "deep-learning github daily blog",
           "3-MOCs and Projects"
          ],
          [
           "MOC - Deep Learning",
           "3-MOCs and Projects"
          ],
          [
           "MOC - Deep Learning",
           "3-MOCs and Projects"
          ],
          [
           "MOC - Deep Learning",
           "3-MOCs and Projects"
          ],
          [
           "MOC - Deep Learning",
           "3-MOCs and Projects"
          ],
          [
           "MOC - Deep Learning",
           "3-MOCs and Projects"
          ],
          [
           "MOC - Deep Learning",
           "3-MOCs and Projects"
          ],
          [
           "MOC - Deep Learning",
           "3-MOCs and Projects"
          ],
          [
           "I just built my first neural network - post",
           "3-MOCs and Projects/Projects/Writing/Published"
          ],
          [
           "I just built my first neural network - post",
           "3-MOCs and Projects/Projects/Writing/Published"
          ],
          [
           "PMOC - DONE - Neural Network Basics",
           "3-MOCs and Projects/Done"
          ],
          [
           "PMOC - DONE - Neural Network Basics",
           "3-MOCs and Projects/Done"
          ],
          [
           "PMOC - DONE - Neural Network Basics",
           "3-MOCs and Projects/Done"
          ],
          [
           "PMOC - DONE - Neural Network Basics",
           "3-MOCs and Projects/Done"
          ],
          [
           "PMOC - DONE - Neural Network Basics",
           "3-MOCs and Projects/Done"
          ],
          [
           "PMOC - DONE - Neural Network Basics",
           "3-MOCs and Projects/Done"
          ],
          [
           "PMOC - DONE - Neural Network Basics",
           "3-MOCs and Projects/Done"
          ],
          [
           "PMOC YT - DONE - Neural Networks from Scratch Series",
           "3-MOCs and Projects/Done"
          ],
          [
           "PMOC YT - DONE - Neural Networks from Scratch Series",
           "3-MOCs and Projects/Done"
          ],
          [
           "PMOC YT - DONE - Neural Networks from Scratch Series",
           "3-MOCs and Projects/Done"
          ]
         ],
         "hovertemplate": "color=18<br>x=%{x}<br>y=%{y}<br>note_title=%{customdata[0]}<br>folder=%{customdata[1]}<extra></extra>",
         "legendgroup": "18",
         "marker": {
          "color": "#FF97FF",
          "symbol": "circle"
         },
         "mode": "markers",
         "name": "18",
         "showlegend": true,
         "type": "scattergl",
         "x": [
          -1.3958372,
          -1.369726,
          -1.4283134,
          -1.2981453,
          -1.3640728,
          -1.3704729,
          -1.3464227,
          -1.2961057,
          -1.2942797,
          -1.3749278,
          -1.3281838,
          -1.3447828,
          -1.4067411,
          -1.0958791,
          -1.2172854,
          -1.1448729,
          -1.187917,
          -1.1589738,
          -1.1718928,
          -0.98281145,
          -1.1082059,
          -1.0670642,
          -1.0388373,
          -1.1339763,
          -1.223713,
          -1.2136481,
          -1.1117951,
          -1.0763581,
          -1.2419237,
          -1.2421794,
          -1.2659005,
          -1.2122868,
          -1.3995879,
          -1.2581512,
          -1.3774202,
          -1.0831696,
          -1.3948532,
          -1.3440317,
          -1.2213391,
          -1.3957648,
          -1.2654971,
          -1.2521185,
          -1.3810139,
          -1.2610384,
          -1.3556061,
          -1.4922913,
          -1.2398461,
          -1.4239458,
          -1.5474466,
          -1.4446218,
          -1.4564322,
          -1.4527067,
          -1.4394251,
          -1.4724115,
          -1.4392313,
          -1.4595625,
          -1.4025615,
          -1.4202666,
          -1.4709331,
          -1.5169221,
          -1.4158707,
          -1.4198128,
          -1.4503272,
          -1.3440623,
          -1.3985897,
          -1.3814366,
          -1.4699926,
          -1.4073404,
          -1.4382675,
          -1.3827515,
          -1.4179776,
          -1.425,
          -1.4592268,
          -1.4745557,
          -1.2413131,
          -1.3044255,
          -1.3869836,
          -1.722565,
          -1.8219596,
          -1.8578128,
          -1.8453419,
          -1.817668,
          -1.8136152,
          -1.7219244,
          -0.597713,
          -0.77004826,
          -0.35113123,
          -0.33683035,
          -0.3382906,
          -0.41862693,
          -0.30955166,
          -0.3746205,
          -0.3554881,
          -0.011877249,
          -0.08653234,
          -0.04107942
         ],
         "xaxis": "x",
         "y": [
          14.6985445,
          14.798878,
          14.694266,
          14.44832,
          14.423733,
          14.630961,
          14.573332,
          14.687202,
          14.64656,
          14.87551,
          14.929703,
          14.859055,
          14.742054,
          14.831101,
          14.779177,
          14.899977,
          14.849201,
          14.759754,
          14.7717,
          14.848966,
          14.90149,
          14.88388,
          14.715471,
          14.759685,
          15.125891,
          14.766207,
          14.984827,
          14.993615,
          14.811751,
          15.129459,
          15.034678,
          15.000191,
          14.762277,
          14.831505,
          14.819026,
          15.271884,
          14.790532,
          14.991553,
          15.176998,
          14.763783,
          14.662356,
          14.685212,
          14.672829,
          14.607912,
          14.67327,
          14.699391,
          14.684493,
          14.852583,
          14.763071,
          14.689935,
          14.696253,
          14.71681,
          14.700727,
          14.719434,
          15.087267,
          15.012751,
          14.775068,
          14.763471,
          14.82939,
          14.831381,
          15.355869,
          14.927973,
          15.37525,
          15.139889,
          14.906513,
          15.50486,
          15.215561,
          14.965481,
          15.350209,
          14.555823,
          14.570459,
          14.567192,
          14.762881,
          14.715697,
          14.645432,
          14.6241665,
          14.892631,
          14.810359,
          14.962837,
          14.915738,
          14.907526,
          14.903431,
          14.914038,
          14.870026,
          15.0179825,
          14.90797,
          15.216399,
          15.2016115,
          15.19282,
          15.201755,
          15.223435,
          15.187945,
          15.226203,
          15.152337,
          15.12269,
          15.125205
         ],
         "yaxis": "y"
        },
        {
         "customdata": [
          [
           "AMOC - Finances",
           "3-MOCs and Projects"
          ],
          [
           "Staff Eng Investor",
           "3-MOCs and Projects/Projects/Trading and Crypto"
          ],
          [
           "AMOC - Trading",
           "3-MOCs and Projects/Projects/Trading and Crypto"
          ],
          [
           "AMOC - Trading",
           "3-MOCs and Projects/Projects/Trading and Crypto"
          ],
          [
           "AMOC - Trading",
           "3-MOCs and Projects/Projects/Trading and Crypto"
          ],
          [
           "AMOC - Trading",
           "3-MOCs and Projects/Projects/Trading and Crypto"
          ],
          [
           "AMOC - Trading",
           "3-MOCs and Projects/Projects/Trading and Crypto"
          ],
          [
           "AMOC - Trading",
           "3-MOCs and Projects/Projects/Trading and Crypto"
          ],
          [
           "AMOC - Trading",
           "3-MOCs and Projects/Projects/Trading and Crypto"
          ],
          [
           "AMOC - Trading",
           "3-MOCs and Projects/Projects/Trading and Crypto"
          ],
          [
           "AMOC - Trading",
           "3-MOCs and Projects/Projects/Trading and Crypto"
          ],
          [
           "AMOC - Trading",
           "3-MOCs and Projects/Projects/Trading and Crypto"
          ],
          [
           "AMOC - Trading",
           "3-MOCs and Projects/Projects/Trading and Crypto"
          ],
          [
           "AMOC - Trading",
           "3-MOCs and Projects/Projects/Trading and Crypto"
          ],
          [
           "AMOC - Trading",
           "3-MOCs and Projects/Projects/Trading and Crypto"
          ],
          [
           "AMOC - Trading",
           "3-MOCs and Projects/Projects/Trading and Crypto"
          ],
          [
           "AMOC - Trading",
           "3-MOCs and Projects/Projects/Trading and Crypto"
          ],
          [
           "AMOC - Trading",
           "3-MOCs and Projects/Projects/Trading and Crypto"
          ],
          [
           "AMOC - Trading",
           "3-MOCs and Projects/Projects/Trading and Crypto"
          ],
          [
           "AMOC - Trading",
           "3-MOCs and Projects/Projects/Trading and Crypto"
          ],
          [
           "Ideas - Dapp And Trading",
           "3-MOCs and Projects/Projects/Trading and Crypto"
          ],
          [
           "Ideas - Dapp And Trading",
           "3-MOCs and Projects/Projects/Trading and Crypto"
          ],
          [
           "PMOC - DeFi Quant - Trading - Crypto",
           "3-MOCs and Projects/Projects/Trading and Crypto"
          ],
          [
           "PMOC - DeFi Quant - Trading - Crypto",
           "3-MOCs and Projects/Projects/Trading and Crypto"
          ],
          [
           "PMOC - DeFi Quant - Trading - Crypto",
           "3-MOCs and Projects/Projects/Trading and Crypto"
          ],
          [
           "PMOC - DeFi Quant - Trading - Crypto",
           "3-MOCs and Projects/Projects/Trading and Crypto"
          ],
          [
           "PMOC - DeFi Quant - Trading - Crypto",
           "3-MOCs and Projects/Projects/Trading and Crypto"
          ],
          [
           "PMOC - DeFi Quant - Trading - Crypto",
           "3-MOCs and Projects/Projects/Trading and Crypto"
          ],
          [
           "PMOC - DeFi Quant - Trading - Crypto",
           "3-MOCs and Projects/Projects/Trading and Crypto"
          ],
          [
           "PMOC - DeFi Quant - Trading - Crypto",
           "3-MOCs and Projects/Projects/Trading and Crypto"
          ],
          [
           "PMOC - DeFi Quant - Trading - Crypto",
           "3-MOCs and Projects/Projects/Trading and Crypto"
          ],
          [
           "PMOC - DeFi Quant - Trading - Crypto",
           "3-MOCs and Projects/Projects/Trading and Crypto"
          ],
          [
           "PMOC - DeFi Quant - Trading - Crypto",
           "3-MOCs and Projects/Projects/Trading and Crypto"
          ],
          [
           "PMOC - Options Trading",
           "3-MOCs and Projects/Projects/Trading and Crypto"
          ],
          [
           "PMOC - Options Trading",
           "3-MOCs and Projects/Projects/Trading and Crypto"
          ],
          [
           "PMOC - Options Trading",
           "3-MOCs and Projects/Projects/Trading and Crypto"
          ],
          [
           "PMOC - Options Trading",
           "3-MOCs and Projects/Projects/Trading and Crypto"
          ],
          [
           "PMOC - Options Trading",
           "3-MOCs and Projects/Projects/Trading and Crypto"
          ],
          [
           "The Augmented Trader",
           "3-MOCs and Projects/Projects/Trading and Crypto/1-Notes"
          ]
         ],
         "hovertemplate": "color=29<br>x=%{x}<br>y=%{y}<br>note_title=%{customdata[0]}<br>folder=%{customdata[1]}<extra></extra>",
         "legendgroup": "29",
         "marker": {
          "color": "#FECB52",
          "symbol": "circle"
         },
         "mode": "markers",
         "name": "29",
         "showlegend": true,
         "type": "scattergl",
         "x": [
          -1.3010195,
          -0.53547937,
          -0.9860667,
          -0.94579506,
          -1.0263844,
          -0.9875505,
          -0.94717646,
          -0.9887241,
          -0.9884643,
          -0.9993842,
          -1.0170181,
          -0.884891,
          -0.9904594,
          -1.018608,
          -1.0075814,
          -0.99186134,
          -1.0240142,
          -1.0607408,
          -1.0231516,
          -1.1023101,
          -0.87453836,
          -0.85251385,
          -0.66602767,
          -0.60025245,
          -0.62295276,
          -0.60463554,
          -0.5962963,
          -0.658055,
          -0.5704499,
          -0.6032857,
          -0.64021456,
          -0.5915961,
          -0.58248293,
          -0.78846323,
          -0.72916794,
          -0.7710566,
          -0.7566454,
          -0.7322723,
          -0.6747408
         ],
         "xaxis": "x",
         "y": [
          -3.9924383,
          -2.7951581,
          -3.6346714,
          -3.5899622,
          -3.6044319,
          -3.5838645,
          -3.660798,
          -3.5943863,
          -3.5933821,
          -3.627901,
          -3.6136456,
          -3.444004,
          -3.6359982,
          -3.5650983,
          -3.6316307,
          -3.5749362,
          -3.569816,
          -3.4643157,
          -3.6068125,
          -3.3557818,
          -2.865155,
          -3.04518,
          -2.8346958,
          -2.835409,
          -2.8833404,
          -2.888476,
          -2.8755944,
          -2.8621469,
          -2.8443992,
          -2.8826056,
          -2.8573496,
          -2.8822007,
          -2.8259637,
          -3.6990807,
          -3.7133334,
          -3.734352,
          -3.7526314,
          -3.7489293,
          -3.0213287
         ],
         "yaxis": "y"
        },
        {
         "customdata": [
          [
           "AMOC - My Brand, My Niche and Creator Brand",
           "3-MOCs and Projects/Projects"
          ],
          [
           "AMOC - My Brand, My Niche and Creator Brand",
           "3-MOCs and Projects/Projects"
          ],
          [
           "AMOC - My Brand, My Niche and Creator Brand",
           "3-MOCs and Projects/Projects"
          ],
          [
           "AMOC - My Brand, My Niche and Creator Brand",
           "3-MOCs and Projects/Projects"
          ],
          [
           "AMOC - My Brand, My Niche and Creator Brand",
           "3-MOCs and Projects/Projects"
          ],
          [
           "AMOC - My Brand, My Niche and Creator Brand",
           "3-MOCs and Projects/Projects"
          ],
          [
           "AMOC - My Brand, My Niche and Creator Brand",
           "3-MOCs and Projects/Projects"
          ],
          [
           "AMOC - My Brand, My Niche and Creator Brand",
           "3-MOCs and Projects/Projects"
          ],
          [
           "AMOC - My Brand, My Niche and Creator Brand",
           "3-MOCs and Projects/Projects"
          ],
          [
           "AMOC - My Brand, My Niche and Creator Brand",
           "3-MOCs and Projects/Projects"
          ],
          [
           "AMOC - My Brand, My Niche and Creator Brand",
           "3-MOCs and Projects/Projects"
          ],
          [
           "AMOC - My Brand, My Niche and Creator Brand",
           "3-MOCs and Projects/Projects"
          ],
          [
           "AMOC - My Brand, My Niche and Creator Brand",
           "3-MOCs and Projects/Projects"
          ],
          [
           "AMOC - My Brand, My Niche and Creator Brand",
           "3-MOCs and Projects/Projects"
          ],
          [
           "AMOC - My Brand, My Niche and Creator Brand",
           "3-MOCs and Projects/Projects"
          ],
          [
           "AMOC - My Brand, My Niche and Creator Brand",
           "3-MOCs and Projects/Projects"
          ],
          [
           "AMOC - My Brand, My Niche and Creator Brand",
           "3-MOCs and Projects/Projects"
          ],
          [
           "AMOC - My Brand, My Niche and Creator Brand",
           "3-MOCs and Projects/Projects"
          ],
          [
           "AMOC - My Brand, My Niche and Creator Brand",
           "3-MOCs and Projects/Projects"
          ],
          [
           "AMOC - My Brand, My Niche and Creator Brand",
           "3-MOCs and Projects/Projects"
          ],
          [
           "AMOC - My Brand, My Niche and Creator Brand",
           "3-MOCs and Projects/Projects"
          ],
          [
           "AMOC - My Brand, My Niche and Creator Brand",
           "3-MOCs and Projects/Projects"
          ],
          [
           "AMOC - My Brand, My Niche and Creator Brand",
           "3-MOCs and Projects/Projects"
          ],
          [
           "AMOC - My Brand, My Niche and Creator Brand",
           "3-MOCs and Projects/Projects"
          ],
          [
           "AMOC - My Brand, My Niche and Creator Brand",
           "3-MOCs and Projects/Projects"
          ],
          [
           "AMOC - My Brand, My Niche and Creator Brand",
           "3-MOCs and Projects/Projects"
          ],
          [
           "AMOC - My Brand, My Niche and Creator Brand",
           "3-MOCs and Projects/Projects"
          ],
          [
           "AMOC - My Brand, My Niche and Creator Brand",
           "3-MOCs and Projects/Projects"
          ],
          [
           "AMOC - My Brand, My Niche and Creator Brand",
           "3-MOCs and Projects/Projects"
          ],
          [
           "AMOC - My Brand, My Niche and Creator Brand",
           "3-MOCs and Projects/Projects"
          ],
          [
           "AMOC - My Brand, My Niche and Creator Brand",
           "3-MOCs and Projects/Projects"
          ],
          [
           "AMOC - My Brand, My Niche and Creator Brand",
           "3-MOCs and Projects/Projects"
          ],
          [
           "AMOC - My Brand, My Niche and Creator Brand",
           "3-MOCs and Projects/Projects"
          ],
          [
           "AMOC - My Brand, My Niche and Creator Brand",
           "3-MOCs and Projects/Projects"
          ],
          [
           "AMOC - My Brand, My Niche and Creator Brand",
           "3-MOCs and Projects/Projects"
          ],
          [
           "AMOC - My Brand, My Niche and Creator Brand",
           "3-MOCs and Projects/Projects"
          ],
          [
           "AMOC - My Brand, My Niche and Creator Brand",
           "3-MOCs and Projects/Projects"
          ],
          [
           "AMOC - My Brand, My Niche and Creator Brand",
           "3-MOCs and Projects/Projects"
          ],
          [
           "AMOC - My Brand, My Niche and Creator Brand",
           "3-MOCs and Projects/Projects"
          ],
          [
           "AMOC - My Brand, My Niche and Creator Brand",
           "3-MOCs and Projects/Projects"
          ],
          [
           "AMOC - My Brand, My Niche and Creator Brand",
           "3-MOCs and Projects/Projects"
          ],
          [
           "AMOC - My Brand, My Niche and Creator Brand",
           "3-MOCs and Projects/Projects"
          ],
          [
           "AMOC - My Brand, My Niche and Creator Brand",
           "3-MOCs and Projects/Projects"
          ],
          [
           "AMOC - My Brand, My Niche and Creator Brand",
           "3-MOCs and Projects/Projects"
          ],
          [
           "AMOC - My Brand, My Niche and Creator Brand",
           "3-MOCs and Projects/Projects"
          ],
          [
           "AMOC - My Brand, My Niche and Creator Brand",
           "3-MOCs and Projects/Projects"
          ],
          [
           "AMOC - My Brand, My Niche and Creator Brand",
           "3-MOCs and Projects/Projects"
          ],
          [
           "AMOC - My Brand, My Niche and Creator Brand",
           "3-MOCs and Projects/Projects"
          ],
          [
           "AMOC - My Brand, My Niche and Creator Brand",
           "3-MOCs and Projects/Projects"
          ],
          [
           "AMOC - My Brand, My Niche and Creator Brand",
           "3-MOCs and Projects/Projects"
          ],
          [
           "AMOC - My Brand, My Niche and Creator Brand",
           "3-MOCs and Projects/Projects"
          ],
          [
           "AMOC - My Brand, My Niche and Creator Brand",
           "3-MOCs and Projects/Projects"
          ],
          [
           "AMOC - My Brand, My Niche and Creator Brand",
           "3-MOCs and Projects/Projects"
          ],
          [
           "AMOC - My Brand, My Niche and Creator Brand",
           "3-MOCs and Projects/Projects"
          ],
          [
           "AMOC - AI Data Engineer - AI Time Series Researcher",
           "0-Current Focus"
          ],
          [
           "AMOC - AI Data Engineer - AI Time Series Researcher",
           "0-Current Focus"
          ],
          [
           "MOC - Exploring My Niche, Ikigai, Specific Knowledge, Category",
           "1-Notes"
          ]
         ],
         "hovertemplate": "color=1<br>x=%{x}<br>y=%{y}<br>note_title=%{customdata[0]}<br>folder=%{customdata[1]}<extra></extra>",
         "legendgroup": "1",
         "marker": {
          "color": "#636efa",
          "symbol": "circle"
         },
         "mode": "markers",
         "name": "1",
         "showlegend": true,
         "type": "scattergl",
         "x": [
          8.883228,
          8.85387,
          8.789156,
          8.880376,
          8.826748,
          8.843805,
          8.892048,
          8.837756,
          8.800226,
          8.570678,
          8.704328,
          8.67672,
          8.581614,
          8.796845,
          8.835625,
          8.560628,
          8.750303,
          8.5073595,
          8.608649,
          8.545363,
          8.665863,
          8.705977,
          8.550589,
          8.540482,
          8.577302,
          8.603426,
          8.626903,
          8.616573,
          8.509593,
          8.544686,
          8.8150425,
          8.539336,
          8.518782,
          8.630652,
          8.535631,
          8.600269,
          8.532748,
          8.703898,
          8.48375,
          8.791506,
          8.46664,
          8.776127,
          8.722472,
          8.70014,
          8.459457,
          8.460955,
          8.493596,
          8.815141,
          8.723188,
          8.523189,
          8.527763,
          8.723109,
          8.796308,
          8.696801,
          2.4465966,
          2.4291217,
          3.1653893
         ],
         "xaxis": "x",
         "y": [
          -4.925547,
          -4.896728,
          -4.83092,
          -4.9218483,
          -4.8695736,
          -4.886509,
          -4.934433,
          -4.879712,
          -4.8419185,
          -4.6082106,
          -4.7446012,
          -4.7165513,
          -4.6187606,
          -4.8385377,
          -4.877658,
          -4.597554,
          -4.7914433,
          -4.5441856,
          -4.647006,
          -4.5818214,
          -4.705265,
          -4.7473526,
          -4.5862036,
          -4.576558,
          -4.615512,
          -4.6414976,
          -4.665123,
          -4.6546135,
          -4.5463057,
          -4.582197,
          -4.857021,
          -4.5762925,
          -4.5564256,
          -4.6707277,
          -4.5734344,
          -4.6383495,
          -4.5702586,
          -4.744119,
          -4.5207076,
          -4.8334794,
          -4.501687,
          -4.8177657,
          -4.7630243,
          -4.7403316,
          -4.496361,
          -4.4973574,
          -4.530558,
          -4.8570657,
          -4.758743,
          -4.5603094,
          -4.5652156,
          -4.763538,
          -4.837476,
          -4.737023,
          8.861167,
          8.827622,
          2.1941857
         ],
         "yaxis": "y"
        },
        {
         "customdata": [
          [
           "Podcast - 30 day challenge - Bits of Chris Show",
           "3-MOCs and Projects/Projects/Podcast - BoC"
          ],
          [
           "Podcast - 30 day challenge - Bits of Chris Show",
           "3-MOCs and Projects/Projects/Podcast - BoC"
          ],
          [
           "Podcast - 30 day challenge - Bits of Chris Show",
           "3-MOCs and Projects/Projects/Podcast - BoC"
          ],
          [
           "Podcast - 30 day challenge - Bits of Chris Show",
           "3-MOCs and Projects/Projects/Podcast - BoC"
          ],
          [
           "Podcast - 30 day challenge - Bits of Chris Show",
           "3-MOCs and Projects/Projects/Podcast - BoC"
          ],
          [
           "Podcast - 30 day challenge - Bits of Chris Show",
           "3-MOCs and Projects/Projects/Podcast - BoC"
          ],
          [
           "Podcast - 30 day challenge - Bits of Chris Show",
           "3-MOCs and Projects/Projects/Podcast - BoC"
          ],
          [
           "Podcast - 30 day challenge - Bits of Chris Show",
           "3-MOCs and Projects/Projects/Podcast - BoC"
          ],
          [
           "Podcast - 30 day challenge - Bits of Chris Show",
           "3-MOCs and Projects/Projects/Podcast - BoC"
          ],
          [
           "Podcast - 30 day challenge - Bits of Chris Show",
           "3-MOCs and Projects/Projects/Podcast - BoC"
          ],
          [
           "Podcast - 30 day challenge - Bits of Chris Show",
           "3-MOCs and Projects/Projects/Podcast - BoC"
          ],
          [
           "Podcast - 30 day challenge - Bits of Chris Show",
           "3-MOCs and Projects/Projects/Podcast - BoC"
          ],
          [
           "Podcast - 30 day challenge - Bits of Chris Show",
           "3-MOCs and Projects/Projects/Podcast - BoC"
          ],
          [
           "Podcast - 30 day challenge - Bits of Chris Show",
           "3-MOCs and Projects/Projects/Podcast - BoC"
          ],
          [
           "Podcast - 30 day challenge - Bits of Chris Show",
           "3-MOCs and Projects/Projects/Podcast - BoC"
          ],
          [
           "Podcast - 30 day challenge - Bits of Chris Show",
           "3-MOCs and Projects/Projects/Podcast - BoC"
          ],
          [
           "Podcast - 30 day challenge - Bits of Chris Show",
           "3-MOCs and Projects/Projects/Podcast - BoC"
          ],
          [
           "Podcast - 30 day challenge - Bits of Chris Show",
           "3-MOCs and Projects/Projects/Podcast - BoC"
          ],
          [
           "Podcast - 30 day challenge - Bits of Chris Show",
           "3-MOCs and Projects/Projects/Podcast - BoC"
          ]
         ],
         "hovertemplate": "color=4<br>x=%{x}<br>y=%{y}<br>note_title=%{customdata[0]}<br>folder=%{customdata[1]}<extra></extra>",
         "legendgroup": "4",
         "marker": {
          "color": "#EF553B",
          "symbol": "circle"
         },
         "mode": "markers",
         "name": "4",
         "showlegend": true,
         "type": "scattergl",
         "x": [
          0.38026887,
          0.6561857,
          0.47817063,
          0.46069816,
          0.46803296,
          0.47225937,
          0.5423043,
          0.6420058,
          0.5418299,
          0.59776795,
          0.65688246,
          0.49553952,
          0.4727077,
          0.49454597,
          0.48319337,
          0.4173012,
          0.4995356,
          0.50560206,
          0.46588203
         ],
         "xaxis": "x",
         "y": [
          1.2222604,
          1.2122251,
          1.1698034,
          1.1529073,
          1.1563532,
          1.1913432,
          1.2173642,
          1.26684,
          1.1799663,
          1.2304674,
          1.2715797,
          1.1672293,
          1.1960496,
          1.2381613,
          1.1818787,
          1.2068609,
          1.1566031,
          1.2048415,
          1.1816809
         ],
         "yaxis": "y"
        },
        {
         "customdata": [
          [
           "Solana Meme Coin Launcher",
           "3-MOCs and Projects/Projects/Product Ideas"
          ],
          [
           "Solana Meme Coin Launcher",
           "3-MOCs and Projects/Projects/Product Ideas"
          ],
          [
           "Meme Coin for Creators",
           "3-MOCs and Projects/Projects/Product Ideas"
          ],
          [
           "PMOC - Solana Meme Coin Momentum",
           "3-MOCs and Projects/Projects/Trading and Crypto"
          ],
          [
           "PMOC - Solana Meme Coin Momentum",
           "3-MOCs and Projects/Projects/Trading and Crypto"
          ],
          [
           "PMOC - Solana Meme Coin Momentum",
           "3-MOCs and Projects/Projects/Trading and Crypto"
          ],
          [
           "PMOC - Solana Meme Coin Momentum",
           "3-MOCs and Projects/Projects/Trading and Crypto"
          ],
          [
           "PMOC - Solana Meme Coin Momentum",
           "3-MOCs and Projects/Projects/Trading and Crypto"
          ],
          [
           "Later List",
           "3-MOCs and Projects/Projects/Trading and Crypto"
          ],
          [
           "2024-02-04 - Creating a Token",
           "3-MOCs and Projects/Projects/Trading and Crypto/2-Reference"
          ],
          [
           "2024-02-04 - Solana Ecosystem - random looking around",
           "3-MOCs and Projects/Projects/Trading and Crypto/2-Reference"
          ],
          [
           "2024-02-04 - Solana Ecosystem - random looking around",
           "3-MOCs and Projects/Projects/Trading and Crypto/2-Reference"
          ],
          [
           "2024-02-04 - Solana Ecosystem - random looking around",
           "3-MOCs and Projects/Projects/Trading and Crypto/2-Reference"
          ],
          [
           "2024-02-04 - Solana Ecosystem - random looking around",
           "3-MOCs and Projects/Projects/Trading and Crypto/2-Reference"
          ],
          [
           "2024-02-05 - Token Programs on Blockchain",
           "3-MOCs and Projects/Projects/Trading and Crypto/2-Reference"
          ],
          [
           "2024-02-02 - Meme IPOs",
           "3-MOCs and Projects/Projects/Trading and Crypto/2-Reference"
          ],
          [
           "Solana Developer Docs",
           "3-MOCs and Projects/Projects/Trading and Crypto/2-Reference/Docs"
          ],
          [
           "Solana Developer Docs",
           "3-MOCs and Projects/Projects/Trading and Crypto/2-Reference/Docs"
          ],
          [
           "Solana GitHub Repos",
           "3-MOCs and Projects/Projects/Trading and Crypto/2-Reference/Docs"
          ],
          [
           "Raydium docs",
           "3-MOCs and Projects/Projects/Trading and Crypto/2-Reference/Docs"
          ],
          [
           "Solana Bootcamp",
           "3-MOCs and Projects/Projects/Trading and Crypto/2-Reference/YouTube"
          ],
          [
           "Meme Coin IPOs",
           "3-MOCs and Projects/Projects/Trading and Crypto/1-Notes"
          ],
          [
           "Meme Coin IPOs",
           "3-MOCs and Projects/Projects/Trading and Crypto/1-Notes"
          ],
          [
           "Meme Coin IPOs",
           "3-MOCs and Projects/Projects/Trading and Crypto/1-Notes"
          ],
          [
           "Meme Coin IPOs",
           "3-MOCs and Projects/Projects/Trading and Crypto/1-Notes"
          ],
          [
           "Meme Coin IPOs",
           "3-MOCs and Projects/Projects/Trading and Crypto/1-Notes"
          ],
          [
           "Meme Coin IPOs",
           "3-MOCs and Projects/Projects/Trading and Crypto/1-Notes"
          ],
          [
           "How to withdraw SOL Solana from stake",
           "4-Tech Notes"
          ]
         ],
         "hovertemplate": "color=31<br>x=%{x}<br>y=%{y}<br>note_title=%{customdata[0]}<br>folder=%{customdata[1]}<extra></extra>",
         "legendgroup": "31",
         "marker": {
          "color": "#00cc96",
          "symbol": "circle"
         },
         "mode": "markers",
         "name": "31",
         "showlegend": true,
         "type": "scattergl",
         "x": [
          -1.4428909,
          -1.4162153,
          0.9422293,
          -1.2986244,
          -1.3447784,
          -1.3631549,
          -1.344474,
          -1.3444216,
          -0.9309246,
          -1.3589104,
          -1.0778049,
          -1.0958604,
          -1.0967838,
          -1.0852392,
          -1.4146237,
          -1.4109564,
          -1.1029748,
          -1.1040262,
          -1.074015,
          -1.3766993,
          -1.3915423,
          -1.4552379,
          -1.4560119,
          -1.4501361,
          -1.4576269,
          -1.4746807,
          -1.4312083,
          -1.1437976
         ],
         "xaxis": "x",
         "y": [
          -2.6620636,
          -2.7071261,
          6.841834,
          -2.6519127,
          -2.7363997,
          -2.7465427,
          -2.748215,
          -2.6905987,
          -2.1133413,
          -2.7777622,
          -2.4254339,
          -2.40025,
          -2.419067,
          -2.402721,
          -2.77684,
          -2.7765143,
          -2.4239063,
          -2.4213586,
          -2.445475,
          -2.781208,
          -2.6985884,
          -2.749203,
          -2.740255,
          -2.759923,
          -2.7449172,
          -2.7674983,
          -2.7704704,
          -2.4970493
         ],
         "yaxis": "y"
        },
        {
         "customdata": [
          [
           "MOC - AE3 - Augmented Engineer Exercises",
           "3-MOCs and Projects/Projects/Product Ideas"
          ],
          [
           "MOC - AE3 - Augmented Engineer Exercises",
           "3-MOCs and Projects/Projects/Product Ideas"
          ],
          [
           "MOC - AE3 - Augmented Engineer Exercises",
           "3-MOCs and Projects/Projects/Product Ideas"
          ],
          [
           "MOC - AE3 - Augmented Engineer Exercises",
           "3-MOCs and Projects/Projects/Product Ideas"
          ],
          [
           "MOC - AE3 - Augmented Engineer Exercises",
           "3-MOCs and Projects/Projects/Product Ideas"
          ],
          [
           "MOC - AE3 - Augmented Engineer Exercises",
           "3-MOCs and Projects/Projects/Product Ideas"
          ],
          [
           "MOC - AE3 - Augmented Engineer Exercises",
           "3-MOCs and Projects/Projects/Product Ideas"
          ],
          [
           "MOC - AE3 - Augmented Engineer Exercises",
           "3-MOCs and Projects/Projects/Product Ideas"
          ],
          [
           "MOC - AE3 - Augmented Engineer Exercises",
           "3-MOCs and Projects/Projects/Product Ideas"
          ],
          [
           "AE3 Exercise Ideas",
           "3-MOCs and Projects/Projects/Product Ideas"
          ],
          [
           "AE3 Exercise Ideas",
           "3-MOCs and Projects/Projects/Product Ideas"
          ],
          [
           "MOC - Augmented Engineer - Tasks and Post Ideas",
           "3-MOCs and Projects/Projects/Writing"
          ],
          [
           "MOC - Augmented Engineer - Tasks and Post Ideas",
           "3-MOCs and Projects/Projects/Writing"
          ],
          [
           "MOC - Augmented Engineer - Tasks and Post Ideas",
           "3-MOCs and Projects/Projects/Writing"
          ],
          [
           "MOC - Augmented Engineer - Tasks and Post Ideas",
           "3-MOCs and Projects/Projects/Writing"
          ],
          [
           "MOC - Augmented Engineer - Tasks and Post Ideas",
           "3-MOCs and Projects/Projects/Writing"
          ],
          [
           "MOC - Augmented Engineer - Tasks and Post Ideas",
           "3-MOCs and Projects/Projects/Writing"
          ],
          [
           "MOC - Augmented Engineer - Tasks and Post Ideas",
           "3-MOCs and Projects/Projects/Writing"
          ],
          [
           "MOC - Augmented Engineer - Tasks and Post Ideas",
           "3-MOCs and Projects/Projects/Writing"
          ],
          [
           "MOC - Augmented Engineer - Tasks and Post Ideas",
           "3-MOCs and Projects/Projects/Writing"
          ],
          [
           "MOC - Augmented Engineer - Tasks and Post Ideas",
           "3-MOCs and Projects/Projects/Writing"
          ],
          [
           "Engineers Job is To Learn",
           "3-MOCs and Projects/Projects/Writing/Post Ideas"
          ],
          [
           "AE3 Intro",
           "3-MOCs and Projects/Projects/Writing/Post Ideas"
          ],
          [
           "AE3 Intro",
           "3-MOCs and Projects/Projects/Writing/Post Ideas"
          ],
          [
           "Digital exoskeleton",
           "3-MOCs and Projects/Projects/Writing/Post Ideas"
          ],
          [
           "Augmented Engineer - Outlines as Content",
           "3-MOCs and Projects/Projects/Writing/Post Ideas"
          ],
          [
           "Augmented Engineer - Outlines as Content",
           "3-MOCs and Projects/Projects/Writing/Post Ideas"
          ],
          [
           "Augmented Engineer - Outlines as Content",
           "3-MOCs and Projects/Projects/Writing/Post Ideas"
          ]
         ],
         "hovertemplate": "color=30<br>x=%{x}<br>y=%{y}<br>note_title=%{customdata[0]}<br>folder=%{customdata[1]}<extra></extra>",
         "legendgroup": "30",
         "marker": {
          "color": "#ab63fa",
          "symbol": "circle"
         },
         "mode": "markers",
         "name": "30",
         "showlegend": true,
         "type": "scattergl",
         "x": [
          -0.21173888,
          -0.22734581,
          -0.20165421,
          -0.2248539,
          -0.20023352,
          -0.22383511,
          -0.19843243,
          -0.1851551,
          -0.21729213,
          -0.24349041,
          -0.23699857,
          0.16020441,
          0.19466428,
          0.38811985,
          0.20727856,
          0.24297488,
          0.16324225,
          0.14300056,
          0.23232934,
          0.20702723,
          0.18016732,
          0.33458427,
          0.0071372073,
          -0.11185029,
          0.19733155,
          0.17814223,
          0.16840172,
          0.2017669
         ],
         "xaxis": "x",
         "y": [
          6.190512,
          6.177481,
          6.1695185,
          6.238014,
          6.1634502,
          6.156714,
          6.1452966,
          6.1567707,
          6.142939,
          6.15303,
          6.188354,
          5.9885597,
          5.9965467,
          5.871862,
          5.982546,
          5.9380727,
          6.001822,
          6.191087,
          5.894718,
          5.9728947,
          6.0134854,
          5.863243,
          6.1117635,
          6.4417386,
          5.9571342,
          6.0432844,
          6.036286,
          6.086819
         ],
         "yaxis": "y"
        },
        {
         "customdata": [
          [
           "AI Startup Ideas - Data Pruning - quality data for models - AGI - open source augmentation",
           "3-MOCs and Projects/Projects/Product Ideas"
          ],
          [
           "AI Startup Ideas - Data Pruning - quality data for models - AGI - open source augmentation",
           "3-MOCs and Projects/Projects/Product Ideas"
          ],
          [
           "AI Startup Ideas - Data Pruning - quality data for models - AGI - open source augmentation",
           "3-MOCs and Projects/Projects/Product Ideas"
          ],
          [
           "AI Startup Ideas - Data Pruning - quality data for models - AGI - open source augmentation",
           "3-MOCs and Projects/Projects/Product Ideas"
          ],
          [
           "AI Startup Ideas - Data Pruning - quality data for models - AGI - open source augmentation",
           "3-MOCs and Projects/Projects/Product Ideas"
          ],
          [
           "AI Startup Ideas - Data Pruning - quality data for models - AGI - open source augmentation",
           "3-MOCs and Projects/Projects/Product Ideas"
          ],
          [
           "what happens when ai runs out of data",
           "3-MOCs and Projects/Projects/Writing/Post Ideas"
          ]
         ],
         "hovertemplate": "color=38<br>x=%{x}<br>y=%{y}<br>note_title=%{customdata[0]}<br>folder=%{customdata[1]}<extra></extra>",
         "legendgroup": "38",
         "marker": {
          "color": "#FFA15A",
          "symbol": "circle"
         },
         "mode": "markers",
         "name": "38",
         "showlegend": true,
         "type": "scattergl",
         "x": [
          -0.5136825,
          -0.49489662,
          -0.52486014,
          -0.51098037,
          -0.4818033,
          -0.551109,
          -0.5249
         ],
         "xaxis": "x",
         "y": [
          8.585275,
          8.5282545,
          8.535457,
          8.539537,
          8.515984,
          8.619273,
          8.590026
         ],
         "yaxis": "y"
        },
        {
         "customdata": [
          [
           "3 guiding principles for software engineers to write more effectively",
           "3-MOCs and Projects/Projects/Writing/Post Ideas"
          ],
          [
           "Writing for Engineers - Words Over Code",
           "1-Notes"
          ],
          [
           "Writing for Engineers - Words Over Code",
           "1-Notes"
          ],
          [
           "Writing for Engineers - Words Over Code",
           "1-Notes"
          ],
          [
           "Writing for Engineers - Words Over Code",
           "1-Notes"
          ],
          [
           "Writing for Engineers - Words Over Code",
           "1-Notes"
          ],
          [
           "Writing for Engineers - Words Over Code",
           "1-Notes"
          ],
          [
           "Writing for Engineers - Words Over Code",
           "1-Notes"
          ],
          [
           "Writing for Engineers - Words Over Code",
           "1-Notes"
          ],
          [
           "Writing for Engineers - Words Over Code",
           "1-Notes"
          ],
          [
           "Writing for Engineers - Words Over Code",
           "1-Notes"
          ],
          [
           "Writing for Engineers - Words Over Code",
           "1-Notes"
          ]
         ],
         "hovertemplate": "color=48<br>x=%{x}<br>y=%{y}<br>note_title=%{customdata[0]}<br>folder=%{customdata[1]}<extra></extra>",
         "legendgroup": "48",
         "marker": {
          "color": "#19d3f3",
          "symbol": "circle"
         },
         "mode": "markers",
         "name": "48",
         "showlegend": true,
         "type": "scattergl",
         "x": [
          0.44108728,
          0.3001672,
          0.28954676,
          0.3056411,
          0.28634122,
          0.24886489,
          0.2905979,
          0.24796483,
          0.27278706,
          0.2860625,
          0.29668108,
          0.24431606
         ],
         "xaxis": "x",
         "y": [
          4.8744316,
          4.859683,
          4.8385,
          4.8631225,
          4.8457026,
          4.8349223,
          4.8417478,
          4.832219,
          4.8401566,
          4.8583846,
          4.849343,
          4.813363
         ],
         "yaxis": "y"
        },
        {
         "customdata": [
          [
           "Morning protein",
           "3-MOCs and Projects/Projects/Writing/Post Ideas"
          ]
         ],
         "hovertemplate": "color=49<br>x=%{x}<br>y=%{y}<br>note_title=%{customdata[0]}<br>folder=%{customdata[1]}<extra></extra>",
         "legendgroup": "49",
         "marker": {
          "color": "#FF6692",
          "symbol": "circle"
         },
         "mode": "markers",
         "name": "49",
         "showlegend": true,
         "type": "scattergl",
         "x": [
          0.50523263
         ],
         "xaxis": "x",
         "y": [
          4.0285673
         ],
         "yaxis": "y"
        },
        {
         "customdata": [
          [
           "Ideas - from YT Viewers",
           "3-MOCs and Projects/YouTube"
          ],
          [
           "Ideas - YouTube and AI Content",
           "0-Current Focus"
          ],
          [
           "Ideas - YouTube and AI Content",
           "0-Current Focus"
          ],
          [
           "Ideas - YouTube and AI Content",
           "0-Current Focus"
          ],
          [
           "Ideas - YouTube and AI Content",
           "0-Current Focus"
          ],
          [
           "Ideas - YouTube and AI Content",
           "0-Current Focus"
          ],
          [
           "Ideas - YouTube and AI Content",
           "0-Current Focus"
          ],
          [
           "Ideas - YouTube and AI Content",
           "0-Current Focus"
          ],
          [
           "Ideas - YouTube and AI Content",
           "0-Current Focus"
          ]
         ],
         "hovertemplate": "color=23<br>x=%{x}<br>y=%{y}<br>note_title=%{customdata[0]}<br>folder=%{customdata[1]}<extra></extra>",
         "legendgroup": "23",
         "marker": {
          "color": "#B6E880",
          "symbol": "circle"
         },
         "mode": "markers",
         "name": "23",
         "showlegend": true,
         "type": "scattergl",
         "x": [
          -0.97430825,
          -0.91849166,
          -0.93581945,
          -0.94575065,
          -0.92782134,
          -0.9553072,
          -0.94131166,
          -0.94375384,
          -0.9329229
         ],
         "xaxis": "x",
         "y": [
          7.196349,
          7.1576557,
          7.188745,
          7.194974,
          7.164254,
          7.1985025,
          7.1800785,
          7.184369,
          7.1825404
         ],
         "yaxis": "y"
        },
        {
         "customdata": [
          [
           "YT - when it’s ok to rest - high performers",
           "3-MOCs and Projects/YouTube/Ideas"
          ],
          [
           "YT - when it’s ok to rest - high performers",
           "3-MOCs and Projects/YouTube/Ideas"
          ],
          [
           "YT - when it’s ok to rest - high performers",
           "3-MOCs and Projects/YouTube/Ideas"
          ],
          [
           "YT - when it’s ok to rest - high performers",
           "3-MOCs and Projects/YouTube/Ideas"
          ],
          [
           "YT - when it’s ok to rest - high performers",
           "3-MOCs and Projects/YouTube/Ideas"
          ],
          [
           "YT - when it’s ok to rest - high performers",
           "3-MOCs and Projects/YouTube/Ideas"
          ],
          [
           "YT - when it’s ok to rest - high performers",
           "3-MOCs and Projects/YouTube/Ideas"
          ],
          [
           "YT - Day in Life or Remote Staff Data Engineer",
           "3-MOCs and Projects/YouTube/Ideas"
          ],
          [
           "YT - Day in Life or Remote Staff Data Engineer",
           "3-MOCs and Projects/YouTube/Ideas"
          ],
          [
           "YT - Day in Life or Remote Staff Data Engineer",
           "3-MOCs and Projects/YouTube/Ideas"
          ],
          [
           "YT - Day in Life or Remote Staff Data Engineer",
           "3-MOCs and Projects/YouTube/Ideas"
          ],
          [
           "YT - Day in Life or Remote Staff Data Engineer",
           "3-MOCs and Projects/YouTube/Ideas"
          ],
          [
           "YT - Day in Life or Remote Staff Data Engineer",
           "3-MOCs and Projects/YouTube/Ideas"
          ]
         ],
         "hovertemplate": "color=11<br>x=%{x}<br>y=%{y}<br>note_title=%{customdata[0]}<br>folder=%{customdata[1]}<extra></extra>",
         "legendgroup": "11",
         "marker": {
          "color": "#FF97FF",
          "symbol": "circle"
         },
         "mode": "markers",
         "name": "11",
         "showlegend": true,
         "type": "scattergl",
         "x": [
          0.5063143,
          0.49303022,
          0.45948744,
          0.5058804,
          0.49713105,
          0.47193158,
          0.49381024,
          -0.89319086,
          -0.9050756,
          -0.89382964,
          -0.8897496,
          -0.88128686,
          -0.87717855
         ],
         "xaxis": "x",
         "y": [
          3.4394233,
          3.4379957,
          3.442014,
          3.3985088,
          3.4377544,
          3.4437547,
          3.4571447,
          5.3492904,
          5.349715,
          5.3483167,
          5.3349357,
          5.362662,
          5.343884
         ],
         "yaxis": "y"
        },
        {
         "customdata": [
          [
           "YT - when to use ai (for smart people)",
           "3-MOCs and Projects/YouTube/Ideas"
          ],
          [
           "YT - when to use ai (for smart people)",
           "3-MOCs and Projects/YouTube/Ideas"
          ],
          [
           "YT - when to use ai (for smart people)",
           "3-MOCs and Projects/YouTube/Ideas"
          ],
          [
           "YT - when to use ai (for smart people)",
           "3-MOCs and Projects/YouTube/Ideas"
          ],
          [
           "YT - when to use ai (for smart people)",
           "3-MOCs and Projects/YouTube/Ideas"
          ],
          [
           "YT - when to use ai (for smart people)",
           "3-MOCs and Projects/YouTube/Ideas"
          ],
          [
           "YT - when to use ai (for smart people)",
           "3-MOCs and Projects/YouTube/Ideas"
          ],
          [
           "YT - when to use ai (for smart people)",
           "3-MOCs and Projects/YouTube/Ideas"
          ],
          [
           "YT - when to use ai (for smart people)",
           "3-MOCs and Projects/YouTube/Ideas"
          ]
         ],
         "hovertemplate": "color=17<br>x=%{x}<br>y=%{y}<br>note_title=%{customdata[0]}<br>folder=%{customdata[1]}<extra></extra>",
         "legendgroup": "17",
         "marker": {
          "color": "#FECB52",
          "symbol": "circle"
         },
         "mode": "markers",
         "name": "17",
         "showlegend": true,
         "type": "scattergl",
         "x": [
          -1.3834655,
          -1.4709489,
          -1.4066136,
          -1.4630044,
          -1.4836462,
          -1.4147804,
          -1.4436182,
          -1.4510905,
          -1.3856753
         ],
         "xaxis": "x",
         "y": [
          7.4495335,
          7.507713,
          7.47773,
          7.491359,
          7.49415,
          7.5012183,
          7.4948597,
          7.4828677,
          7.434715
         ],
         "yaxis": "y"
        }
       ],
       "layout": {
        "legend": {
         "title": {
          "text": "color"
         },
         "tracegroupgap": 0
        },
        "template": {
         "data": {
          "bar": [
           {
            "error_x": {
             "color": "#2a3f5f"
            },
            "error_y": {
             "color": "#2a3f5f"
            },
            "marker": {
             "line": {
              "color": "#E5ECF6",
              "width": 0.5
             },
             "pattern": {
              "fillmode": "overlay",
              "size": 10,
              "solidity": 0.2
             }
            },
            "type": "bar"
           }
          ],
          "barpolar": [
           {
            "marker": {
             "line": {
              "color": "#E5ECF6",
              "width": 0.5
             },
             "pattern": {
              "fillmode": "overlay",
              "size": 10,
              "solidity": 0.2
             }
            },
            "type": "barpolar"
           }
          ],
          "carpet": [
           {
            "aaxis": {
             "endlinecolor": "#2a3f5f",
             "gridcolor": "white",
             "linecolor": "white",
             "minorgridcolor": "white",
             "startlinecolor": "#2a3f5f"
            },
            "baxis": {
             "endlinecolor": "#2a3f5f",
             "gridcolor": "white",
             "linecolor": "white",
             "minorgridcolor": "white",
             "startlinecolor": "#2a3f5f"
            },
            "type": "carpet"
           }
          ],
          "choropleth": [
           {
            "colorbar": {
             "outlinewidth": 0,
             "ticks": ""
            },
            "type": "choropleth"
           }
          ],
          "contour": [
           {
            "colorbar": {
             "outlinewidth": 0,
             "ticks": ""
            },
            "colorscale": [
             [
              0,
              "#0d0887"
             ],
             [
              0.1111111111111111,
              "#46039f"
             ],
             [
              0.2222222222222222,
              "#7201a8"
             ],
             [
              0.3333333333333333,
              "#9c179e"
             ],
             [
              0.4444444444444444,
              "#bd3786"
             ],
             [
              0.5555555555555556,
              "#d8576b"
             ],
             [
              0.6666666666666666,
              "#ed7953"
             ],
             [
              0.7777777777777778,
              "#fb9f3a"
             ],
             [
              0.8888888888888888,
              "#fdca26"
             ],
             [
              1,
              "#f0f921"
             ]
            ],
            "type": "contour"
           }
          ],
          "contourcarpet": [
           {
            "colorbar": {
             "outlinewidth": 0,
             "ticks": ""
            },
            "type": "contourcarpet"
           }
          ],
          "heatmap": [
           {
            "colorbar": {
             "outlinewidth": 0,
             "ticks": ""
            },
            "colorscale": [
             [
              0,
              "#0d0887"
             ],
             [
              0.1111111111111111,
              "#46039f"
             ],
             [
              0.2222222222222222,
              "#7201a8"
             ],
             [
              0.3333333333333333,
              "#9c179e"
             ],
             [
              0.4444444444444444,
              "#bd3786"
             ],
             [
              0.5555555555555556,
              "#d8576b"
             ],
             [
              0.6666666666666666,
              "#ed7953"
             ],
             [
              0.7777777777777778,
              "#fb9f3a"
             ],
             [
              0.8888888888888888,
              "#fdca26"
             ],
             [
              1,
              "#f0f921"
             ]
            ],
            "type": "heatmap"
           }
          ],
          "heatmapgl": [
           {
            "colorbar": {
             "outlinewidth": 0,
             "ticks": ""
            },
            "colorscale": [
             [
              0,
              "#0d0887"
             ],
             [
              0.1111111111111111,
              "#46039f"
             ],
             [
              0.2222222222222222,
              "#7201a8"
             ],
             [
              0.3333333333333333,
              "#9c179e"
             ],
             [
              0.4444444444444444,
              "#bd3786"
             ],
             [
              0.5555555555555556,
              "#d8576b"
             ],
             [
              0.6666666666666666,
              "#ed7953"
             ],
             [
              0.7777777777777778,
              "#fb9f3a"
             ],
             [
              0.8888888888888888,
              "#fdca26"
             ],
             [
              1,
              "#f0f921"
             ]
            ],
            "type": "heatmapgl"
           }
          ],
          "histogram": [
           {
            "marker": {
             "pattern": {
              "fillmode": "overlay",
              "size": 10,
              "solidity": 0.2
             }
            },
            "type": "histogram"
           }
          ],
          "histogram2d": [
           {
            "colorbar": {
             "outlinewidth": 0,
             "ticks": ""
            },
            "colorscale": [
             [
              0,
              "#0d0887"
             ],
             [
              0.1111111111111111,
              "#46039f"
             ],
             [
              0.2222222222222222,
              "#7201a8"
             ],
             [
              0.3333333333333333,
              "#9c179e"
             ],
             [
              0.4444444444444444,
              "#bd3786"
             ],
             [
              0.5555555555555556,
              "#d8576b"
             ],
             [
              0.6666666666666666,
              "#ed7953"
             ],
             [
              0.7777777777777778,
              "#fb9f3a"
             ],
             [
              0.8888888888888888,
              "#fdca26"
             ],
             [
              1,
              "#f0f921"
             ]
            ],
            "type": "histogram2d"
           }
          ],
          "histogram2dcontour": [
           {
            "colorbar": {
             "outlinewidth": 0,
             "ticks": ""
            },
            "colorscale": [
             [
              0,
              "#0d0887"
             ],
             [
              0.1111111111111111,
              "#46039f"
             ],
             [
              0.2222222222222222,
              "#7201a8"
             ],
             [
              0.3333333333333333,
              "#9c179e"
             ],
             [
              0.4444444444444444,
              "#bd3786"
             ],
             [
              0.5555555555555556,
              "#d8576b"
             ],
             [
              0.6666666666666666,
              "#ed7953"
             ],
             [
              0.7777777777777778,
              "#fb9f3a"
             ],
             [
              0.8888888888888888,
              "#fdca26"
             ],
             [
              1,
              "#f0f921"
             ]
            ],
            "type": "histogram2dcontour"
           }
          ],
          "mesh3d": [
           {
            "colorbar": {
             "outlinewidth": 0,
             "ticks": ""
            },
            "type": "mesh3d"
           }
          ],
          "parcoords": [
           {
            "line": {
             "colorbar": {
              "outlinewidth": 0,
              "ticks": ""
             }
            },
            "type": "parcoords"
           }
          ],
          "pie": [
           {
            "automargin": true,
            "type": "pie"
           }
          ],
          "scatter": [
           {
            "fillpattern": {
             "fillmode": "overlay",
             "size": 10,
             "solidity": 0.2
            },
            "type": "scatter"
           }
          ],
          "scatter3d": [
           {
            "line": {
             "colorbar": {
              "outlinewidth": 0,
              "ticks": ""
             }
            },
            "marker": {
             "colorbar": {
              "outlinewidth": 0,
              "ticks": ""
             }
            },
            "type": "scatter3d"
           }
          ],
          "scattercarpet": [
           {
            "marker": {
             "colorbar": {
              "outlinewidth": 0,
              "ticks": ""
             }
            },
            "type": "scattercarpet"
           }
          ],
          "scattergeo": [
           {
            "marker": {
             "colorbar": {
              "outlinewidth": 0,
              "ticks": ""
             }
            },
            "type": "scattergeo"
           }
          ],
          "scattergl": [
           {
            "marker": {
             "colorbar": {
              "outlinewidth": 0,
              "ticks": ""
             }
            },
            "type": "scattergl"
           }
          ],
          "scattermapbox": [
           {
            "marker": {
             "colorbar": {
              "outlinewidth": 0,
              "ticks": ""
             }
            },
            "type": "scattermapbox"
           }
          ],
          "scatterpolar": [
           {
            "marker": {
             "colorbar": {
              "outlinewidth": 0,
              "ticks": ""
             }
            },
            "type": "scatterpolar"
           }
          ],
          "scatterpolargl": [
           {
            "marker": {
             "colorbar": {
              "outlinewidth": 0,
              "ticks": ""
             }
            },
            "type": "scatterpolargl"
           }
          ],
          "scatterternary": [
           {
            "marker": {
             "colorbar": {
              "outlinewidth": 0,
              "ticks": ""
             }
            },
            "type": "scatterternary"
           }
          ],
          "surface": [
           {
            "colorbar": {
             "outlinewidth": 0,
             "ticks": ""
            },
            "colorscale": [
             [
              0,
              "#0d0887"
             ],
             [
              0.1111111111111111,
              "#46039f"
             ],
             [
              0.2222222222222222,
              "#7201a8"
             ],
             [
              0.3333333333333333,
              "#9c179e"
             ],
             [
              0.4444444444444444,
              "#bd3786"
             ],
             [
              0.5555555555555556,
              "#d8576b"
             ],
             [
              0.6666666666666666,
              "#ed7953"
             ],
             [
              0.7777777777777778,
              "#fb9f3a"
             ],
             [
              0.8888888888888888,
              "#fdca26"
             ],
             [
              1,
              "#f0f921"
             ]
            ],
            "type": "surface"
           }
          ],
          "table": [
           {
            "cells": {
             "fill": {
              "color": "#EBF0F8"
             },
             "line": {
              "color": "white"
             }
            },
            "header": {
             "fill": {
              "color": "#C8D4E3"
             },
             "line": {
              "color": "white"
             }
            },
            "type": "table"
           }
          ]
         },
         "layout": {
          "annotationdefaults": {
           "arrowcolor": "#2a3f5f",
           "arrowhead": 0,
           "arrowwidth": 1
          },
          "autotypenumbers": "strict",
          "coloraxis": {
           "colorbar": {
            "outlinewidth": 0,
            "ticks": ""
           }
          },
          "colorscale": {
           "diverging": [
            [
             0,
             "#8e0152"
            ],
            [
             0.1,
             "#c51b7d"
            ],
            [
             0.2,
             "#de77ae"
            ],
            [
             0.3,
             "#f1b6da"
            ],
            [
             0.4,
             "#fde0ef"
            ],
            [
             0.5,
             "#f7f7f7"
            ],
            [
             0.6,
             "#e6f5d0"
            ],
            [
             0.7,
             "#b8e186"
            ],
            [
             0.8,
             "#7fbc41"
            ],
            [
             0.9,
             "#4d9221"
            ],
            [
             1,
             "#276419"
            ]
           ],
           "sequential": [
            [
             0,
             "#0d0887"
            ],
            [
             0.1111111111111111,
             "#46039f"
            ],
            [
             0.2222222222222222,
             "#7201a8"
            ],
            [
             0.3333333333333333,
             "#9c179e"
            ],
            [
             0.4444444444444444,
             "#bd3786"
            ],
            [
             0.5555555555555556,
             "#d8576b"
            ],
            [
             0.6666666666666666,
             "#ed7953"
            ],
            [
             0.7777777777777778,
             "#fb9f3a"
            ],
            [
             0.8888888888888888,
             "#fdca26"
            ],
            [
             1,
             "#f0f921"
            ]
           ],
           "sequentialminus": [
            [
             0,
             "#0d0887"
            ],
            [
             0.1111111111111111,
             "#46039f"
            ],
            [
             0.2222222222222222,
             "#7201a8"
            ],
            [
             0.3333333333333333,
             "#9c179e"
            ],
            [
             0.4444444444444444,
             "#bd3786"
            ],
            [
             0.5555555555555556,
             "#d8576b"
            ],
            [
             0.6666666666666666,
             "#ed7953"
            ],
            [
             0.7777777777777778,
             "#fb9f3a"
            ],
            [
             0.8888888888888888,
             "#fdca26"
            ],
            [
             1,
             "#f0f921"
            ]
           ]
          },
          "colorway": [
           "#636efa",
           "#EF553B",
           "#00cc96",
           "#ab63fa",
           "#FFA15A",
           "#19d3f3",
           "#FF6692",
           "#B6E880",
           "#FF97FF",
           "#FECB52"
          ],
          "font": {
           "color": "#2a3f5f"
          },
          "geo": {
           "bgcolor": "white",
           "lakecolor": "white",
           "landcolor": "#E5ECF6",
           "showlakes": true,
           "showland": true,
           "subunitcolor": "white"
          },
          "hoverlabel": {
           "align": "left"
          },
          "hovermode": "closest",
          "mapbox": {
           "style": "light"
          },
          "paper_bgcolor": "white",
          "plot_bgcolor": "#E5ECF6",
          "polar": {
           "angularaxis": {
            "gridcolor": "white",
            "linecolor": "white",
            "ticks": ""
           },
           "bgcolor": "#E5ECF6",
           "radialaxis": {
            "gridcolor": "white",
            "linecolor": "white",
            "ticks": ""
           }
          },
          "scene": {
           "xaxis": {
            "backgroundcolor": "#E5ECF6",
            "gridcolor": "white",
            "gridwidth": 2,
            "linecolor": "white",
            "showbackground": true,
            "ticks": "",
            "zerolinecolor": "white"
           },
           "yaxis": {
            "backgroundcolor": "#E5ECF6",
            "gridcolor": "white",
            "gridwidth": 2,
            "linecolor": "white",
            "showbackground": true,
            "ticks": "",
            "zerolinecolor": "white"
           },
           "zaxis": {
            "backgroundcolor": "#E5ECF6",
            "gridcolor": "white",
            "gridwidth": 2,
            "linecolor": "white",
            "showbackground": true,
            "ticks": "",
            "zerolinecolor": "white"
           }
          },
          "shapedefaults": {
           "line": {
            "color": "#2a3f5f"
           }
          },
          "ternary": {
           "aaxis": {
            "gridcolor": "white",
            "linecolor": "white",
            "ticks": ""
           },
           "baxis": {
            "gridcolor": "white",
            "linecolor": "white",
            "ticks": ""
           },
           "bgcolor": "#E5ECF6",
           "caxis": {
            "gridcolor": "white",
            "linecolor": "white",
            "ticks": ""
           }
          },
          "title": {
           "x": 0.05
          },
          "xaxis": {
           "automargin": true,
           "gridcolor": "white",
           "linecolor": "white",
           "ticks": "",
           "title": {
            "standoff": 15
           },
           "zerolinecolor": "white",
           "zerolinewidth": 2
          },
          "yaxis": {
           "automargin": true,
           "gridcolor": "white",
           "linecolor": "white",
           "ticks": "",
           "title": {
            "standoff": 15
           },
           "zerolinecolor": "white",
           "zerolinewidth": 2
          }
         }
        },
        "title": {
         "text": "Clustered Note Embeddings"
        },
        "xaxis": {
         "anchor": "y",
         "domain": [
          0,
          1
         ],
         "title": {
          "text": "x"
         }
        },
        "yaxis": {
         "anchor": "x",
         "domain": [
          0,
          1
         ],
         "title": {
          "text": "y"
         }
        }
       }
      }
     },
     "metadata": {},
     "output_type": "display_data"
    }
   ],
   "source": [
    "import plotly.express as px\n",
    "\n",
    "# Create an interactive scatter plot\n",
    "fig = px.scatter(\n",
    "    df, x=\"x\", y=\"y\",\n",
    "    color=df[\"cluster\"].astype(str),  # Color by cluster\n",
    "    hover_data=[\"note_title\",\"folder\"],\n",
    "    title=\"Clustered Note Embeddings\"\n",
    ")\n",
    "\n",
    "# Show the plot\n",
    "fig.show()\n"
   ]
  },
  {
   "cell_type": "code",
   "execution_count": 10,
   "metadata": {},
   "outputs": [
    {
     "data": {
      "text/html": [
       "<div>\n",
       "<style scoped>\n",
       "    .dataframe tbody tr th:only-of-type {\n",
       "        vertical-align: middle;\n",
       "    }\n",
       "\n",
       "    .dataframe tbody tr th {\n",
       "        vertical-align: top;\n",
       "    }\n",
       "\n",
       "    .dataframe thead th {\n",
       "        text-align: right;\n",
       "    }\n",
       "</style>\n",
       "<table border=\"1\" class=\"dataframe\">\n",
       "  <thead>\n",
       "    <tr style=\"text-align: right;\">\n",
       "      <th></th>\n",
       "      <th>note_id</th>\n",
       "      <th>note_title</th>\n",
       "      <th>folder</th>\n",
       "      <th>links</th>\n",
       "      <th>backlinks</th>\n",
       "      <th>embedding</th>\n",
       "      <th>x</th>\n",
       "      <th>y</th>\n",
       "      <th>cluster</th>\n",
       "    </tr>\n",
       "  </thead>\n",
       "  <tbody>\n",
       "    <tr>\n",
       "      <th>0</th>\n",
       "      <td>dfa280e0-5f55-412e-b2f4-2a432835d714</td>\n",
       "      <td>Home - Priorities, Next, Index</td>\n",
       "      <td>.</td>\n",
       "      <td>[0 - Tasks this Week, AMOC - Meta - Obsidian -...</td>\n",
       "      <td>[AMOC - Priorities, Vision, Long Term, WK - 25...</td>\n",
       "      <td>[-0.01763683557510376, 0.007754608057439327, 0...</td>\n",
       "      <td>2.871727</td>\n",
       "      <td>6.164631</td>\n",
       "      <td>13</td>\n",
       "    </tr>\n",
       "    <tr>\n",
       "      <th>1</th>\n",
       "      <td>06203e5a-6c30-4e41-81e5-6e897f027889</td>\n",
       "      <td>Home - Priorities, Next, Index</td>\n",
       "      <td>.</td>\n",
       "      <td>[MOC Journal - State of Union - Ruvi, Homework...</td>\n",
       "      <td>[AMOC - Priorities, Vision, Long Term, WK - 25...</td>\n",
       "      <td>[-0.01486171130090952, 0.01706085354089737, -0...</td>\n",
       "      <td>2.800650</td>\n",
       "      <td>6.008420</td>\n",
       "      <td>13</td>\n",
       "    </tr>\n",
       "    <tr>\n",
       "      <th>2</th>\n",
       "      <td>39591306-197b-430d-9d80-902764ab8a64</td>\n",
       "      <td>Home - Priorities, Next, Index</td>\n",
       "      <td>.</td>\n",
       "      <td>[AMOC - Finances, AMOC - Self - Mental, AMOC -...</td>\n",
       "      <td>[AMOC - Priorities, Vision, Long Term, WK - 25...</td>\n",
       "      <td>[-0.016235508024692535, 0.01410036999732256, -...</td>\n",
       "      <td>2.836192</td>\n",
       "      <td>6.143332</td>\n",
       "      <td>13</td>\n",
       "    </tr>\n",
       "    <tr>\n",
       "      <th>3</th>\n",
       "      <td>1168cd8e-d311-4b09-beb7-93414aec5497</td>\n",
       "      <td>Home - Priorities, Next, Index</td>\n",
       "      <td>.</td>\n",
       "      <td>[Ideas - Someday Maybe List, Ideas - Content a...</td>\n",
       "      <td>[AMOC - Priorities, Vision, Long Term, WK - 25...</td>\n",
       "      <td>[-0.013082915917038918, 0.02079198881983757, -...</td>\n",
       "      <td>2.723908</td>\n",
       "      <td>5.905755</td>\n",
       "      <td>13</td>\n",
       "    </tr>\n",
       "    <tr>\n",
       "      <th>4</th>\n",
       "      <td>136c218f-f1c0-4e96-9267-91c41c3206c6</td>\n",
       "      <td>Time series RAG</td>\n",
       "      <td>0-Inbox</td>\n",
       "      <td>[AMOC - Trading]</td>\n",
       "      <td>[2025-02-01 - AI for distillation, for search,...</td>\n",
       "      <td>[-0.026576388627290726, -0.00799475982785225, ...</td>\n",
       "      <td>1.533731</td>\n",
       "      <td>9.943548</td>\n",
       "      <td>0</td>\n",
       "    </tr>\n",
       "  </tbody>\n",
       "</table>\n",
       "</div>"
      ],
      "text/plain": [
       "                                note_id                      note_title  \\\n",
       "0  dfa280e0-5f55-412e-b2f4-2a432835d714  Home - Priorities, Next, Index   \n",
       "1  06203e5a-6c30-4e41-81e5-6e897f027889  Home - Priorities, Next, Index   \n",
       "2  39591306-197b-430d-9d80-902764ab8a64  Home - Priorities, Next, Index   \n",
       "3  1168cd8e-d311-4b09-beb7-93414aec5497  Home - Priorities, Next, Index   \n",
       "4  136c218f-f1c0-4e96-9267-91c41c3206c6                 Time series RAG   \n",
       "\n",
       "    folder                                              links  \\\n",
       "0        .  [0 - Tasks this Week, AMOC - Meta - Obsidian -...   \n",
       "1        .  [MOC Journal - State of Union - Ruvi, Homework...   \n",
       "2        .  [AMOC - Finances, AMOC - Self - Mental, AMOC -...   \n",
       "3        .  [Ideas - Someday Maybe List, Ideas - Content a...   \n",
       "4  0-Inbox                                   [AMOC - Trading]   \n",
       "\n",
       "                                           backlinks  \\\n",
       "0  [AMOC - Priorities, Vision, Long Term, WK - 25...   \n",
       "1  [AMOC - Priorities, Vision, Long Term, WK - 25...   \n",
       "2  [AMOC - Priorities, Vision, Long Term, WK - 25...   \n",
       "3  [AMOC - Priorities, Vision, Long Term, WK - 25...   \n",
       "4  [2025-02-01 - AI for distillation, for search,...   \n",
       "\n",
       "                                           embedding         x         y  \\\n",
       "0  [-0.01763683557510376, 0.007754608057439327, 0...  2.871727  6.164631   \n",
       "1  [-0.01486171130090952, 0.01706085354089737, -0...  2.800650  6.008420   \n",
       "2  [-0.016235508024692535, 0.01410036999732256, -...  2.836192  6.143332   \n",
       "3  [-0.013082915917038918, 0.02079198881983757, -...  2.723908  5.905755   \n",
       "4  [-0.026576388627290726, -0.00799475982785225, ...  1.533731  9.943548   \n",
       "\n",
       "   cluster  \n",
       "0       13  \n",
       "1       13  \n",
       "2       13  \n",
       "3       13  \n",
       "4        0  "
      ]
     },
     "execution_count": 10,
     "metadata": {},
     "output_type": "execute_result"
    }
   ],
   "source": [
    "df.head()"
   ]
  },
  {
   "cell_type": "markdown",
   "metadata": {},
   "source": [
    "# Using PyVis now\n",
    "- De-dupe the dataframe by note\n",
    "- Create graph using the lnks\n",
    "- plot interactive"
   ]
  },
  {
   "cell_type": "code",
   "execution_count": 11,
   "metadata": {},
   "outputs": [],
   "source": [
    "def merge_links(series):\n",
    "    merged = set()\n",
    "    for item in series:\n",
    "        if pd.isna(item):\n",
    "            continue\n",
    "        # If item is a list (or already a Python object), update directly.\n",
    "        if isinstance(item, list):\n",
    "            merged.update(item)\n",
    "        # Otherwise, assume a comma separated string.\n",
    "        elif isinstance(item, str):\n",
    "            # Remove whitespace and split on comma.\n",
    "            links = [s.strip() for s in item.split(',') if s.strip()]\n",
    "            merged.update(links)\n",
    "    return list(merged)"
   ]
  },
  {
   "cell_type": "code",
   "execution_count": 42,
   "metadata": {},
   "outputs": [],
   "source": [
    "df_dedup = df.drop(columns=['embedding'])"
   ]
  },
  {
   "cell_type": "code",
   "execution_count": 43,
   "metadata": {},
   "outputs": [],
   "source": [
    "df_dedup['links'] = df_dedup['links'].apply(merge_links)\n",
    "df_dedup['backlinks'] = df_dedup['backlinks'].apply(merge_links)"
   ]
  },
  {
   "cell_type": "code",
   "execution_count": 44,
   "metadata": {},
   "outputs": [
    {
     "data": {
      "text/plain": [
       "note_id        object\n",
       "note_title     object\n",
       "folder         object\n",
       "links          object\n",
       "backlinks      object\n",
       "x             float32\n",
       "y             float32\n",
       "cluster         int32\n",
       "dtype: object"
      ]
     },
     "execution_count": 44,
     "metadata": {},
     "output_type": "execute_result"
    }
   ],
   "source": [
    "df_dedup.dtypes"
   ]
  },
  {
   "cell_type": "code",
   "execution_count": 45,
   "metadata": {},
   "outputs": [],
   "source": [
    "df_dedup = df_dedup.groupby('note_title', as_index=False).agg({\n",
    "    'note_id': 'first',    # Use the first note_id for this note_title\n",
    "    'folder': 'first',     # Use the first folder value\n",
    "    'x': 'mean',           # Average the x coordinates\n",
    "    'y': 'mean',           # Average the y coordinates\n",
    "    'links': 'first',      # Pick the first merged links list\n",
    "    'backlinks': 'first',   # Pick the first merged backlinks list\n",
    "    'cluster': 'first'\n",
    "})"
   ]
  },
  {
   "cell_type": "code",
   "execution_count": 46,
   "metadata": {},
   "outputs": [
    {
     "data": {
      "text/html": [
       "<div>\n",
       "<style scoped>\n",
       "    .dataframe tbody tr th:only-of-type {\n",
       "        vertical-align: middle;\n",
       "    }\n",
       "\n",
       "    .dataframe tbody tr th {\n",
       "        vertical-align: top;\n",
       "    }\n",
       "\n",
       "    .dataframe thead th {\n",
       "        text-align: right;\n",
       "    }\n",
       "</style>\n",
       "<table border=\"1\" class=\"dataframe\">\n",
       "  <thead>\n",
       "    <tr style=\"text-align: right;\">\n",
       "      <th></th>\n",
       "      <th>note_title</th>\n",
       "      <th>note_id</th>\n",
       "      <th>folder</th>\n",
       "      <th>x</th>\n",
       "      <th>y</th>\n",
       "      <th>links</th>\n",
       "      <th>backlinks</th>\n",
       "      <th>cluster</th>\n",
       "    </tr>\n",
       "  </thead>\n",
       "  <tbody>\n",
       "    <tr>\n",
       "      <th>0</th>\n",
       "      <td>#137 Justin Su'a Peak Mental Performance</td>\n",
       "      <td>1d5940a9-9b62-4e30-a3d1-010d565a4d98</td>\n",
       "      <td>2-Reference/Readwise/Podcasts</td>\n",
       "      <td>0.803228</td>\n",
       "      <td>2.595648</td>\n",
       "      <td>[The Knowledge Project with Shane Parrish]</td>\n",
       "      <td>[]</td>\n",
       "      <td>7</td>\n",
       "    </tr>\n",
       "    <tr>\n",
       "      <th>1</th>\n",
       "      <td>#648 James Clear, Atomic Habits — Simple Strat...</td>\n",
       "      <td>c4c75526-e5bf-4137-8aba-b327ef5dfade</td>\n",
       "      <td>2-Reference/Readwise/Podcasts</td>\n",
       "      <td>8.856791</td>\n",
       "      <td>5.156964</td>\n",
       "      <td>[The Tim Ferriss Show]</td>\n",
       "      <td>[]</td>\n",
       "      <td>32</td>\n",
       "    </tr>\n",
       "    <tr>\n",
       "      <th>2</th>\n",
       "      <td>0 - Quick Bits - 2024-08-30 - Learning</td>\n",
       "      <td>13b99377-8ab2-4f37-ae2a-3a9d89731165</td>\n",
       "      <td>3-MOCs and Projects/Projects/Podcast - BoC/Shows</td>\n",
       "      <td>1.039720</td>\n",
       "      <td>2.631599</td>\n",
       "      <td>[]</td>\n",
       "      <td>[]</td>\n",
       "      <td>7</td>\n",
       "    </tr>\n",
       "    <tr>\n",
       "      <th>3</th>\n",
       "      <td>0 - Quick Bits - 2024-09-13 - start your secon...</td>\n",
       "      <td>f1988c95-cafb-4a8e-af76-07f398be6891</td>\n",
       "      <td>3-MOCs and Projects/Projects/Podcast - BoC/Shows</td>\n",
       "      <td>2.970463</td>\n",
       "      <td>4.438390</td>\n",
       "      <td>[Homework For Life, 1 - Recent Notes]</td>\n",
       "      <td>[]</td>\n",
       "      <td>7</td>\n",
       "    </tr>\n",
       "    <tr>\n",
       "      <th>4</th>\n",
       "      <td>0 - Tasks this Week</td>\n",
       "      <td>2719bd02-92b3-4649-8f6d-dc641f696689</td>\n",
       "      <td>0-Current Focus</td>\n",
       "      <td>2.647129</td>\n",
       "      <td>5.637780</td>\n",
       "      <td>[Home - Priorities, Index, Next]</td>\n",
       "      <td>[Home - Priorities, Index, Next]</td>\n",
       "      <td>13</td>\n",
       "    </tr>\n",
       "  </tbody>\n",
       "</table>\n",
       "</div>"
      ],
      "text/plain": [
       "                                          note_title  \\\n",
       "0           #137 Justin Su'a Peak Mental Performance   \n",
       "1  #648 James Clear, Atomic Habits — Simple Strat...   \n",
       "2             0 - Quick Bits - 2024-08-30 - Learning   \n",
       "3  0 - Quick Bits - 2024-09-13 - start your secon...   \n",
       "4                                0 - Tasks this Week   \n",
       "\n",
       "                                note_id  \\\n",
       "0  1d5940a9-9b62-4e30-a3d1-010d565a4d98   \n",
       "1  c4c75526-e5bf-4137-8aba-b327ef5dfade   \n",
       "2  13b99377-8ab2-4f37-ae2a-3a9d89731165   \n",
       "3  f1988c95-cafb-4a8e-af76-07f398be6891   \n",
       "4  2719bd02-92b3-4649-8f6d-dc641f696689   \n",
       "\n",
       "                                             folder         x         y  \\\n",
       "0                     2-Reference/Readwise/Podcasts  0.803228  2.595648   \n",
       "1                     2-Reference/Readwise/Podcasts  8.856791  5.156964   \n",
       "2  3-MOCs and Projects/Projects/Podcast - BoC/Shows  1.039720  2.631599   \n",
       "3  3-MOCs and Projects/Projects/Podcast - BoC/Shows  2.970463  4.438390   \n",
       "4                                   0-Current Focus  2.647129  5.637780   \n",
       "\n",
       "                                        links  \\\n",
       "0  [The Knowledge Project with Shane Parrish]   \n",
       "1                      [The Tim Ferriss Show]   \n",
       "2                                          []   \n",
       "3       [Homework For Life, 1 - Recent Notes]   \n",
       "4            [Home - Priorities, Index, Next]   \n",
       "\n",
       "                          backlinks  cluster  \n",
       "0                                []        7  \n",
       "1                                []       32  \n",
       "2                                []        7  \n",
       "3                                []        7  \n",
       "4  [Home - Priorities, Index, Next]       13  "
      ]
     },
     "execution_count": 46,
     "metadata": {},
     "output_type": "execute_result"
    }
   ],
   "source": [
    "df_dedup.head()"
   ]
  },
  {
   "cell_type": "markdown",
   "metadata": {},
   "source": [
    "### Build Network graph"
   ]
  },
  {
   "cell_type": "code",
   "execution_count": 34,
   "metadata": {},
   "outputs": [
    {
     "name": "stdout",
     "output_type": "stream",
     "text": [
      "Warning: When  cdn_resources is 'local' jupyter notebook has issues displaying graphics on chrome/safari. Use cdn_resources='in_line' or cdn_resources='remote' if you have issues viewing graphics in a notebook.\n",
      "Warning: Target note 'Brand' not found for note 'Home - Priorities, Next, Index'.\n",
      "Warning: Target note 'Analytics' not found for note 'Home - Priorities, Next, Index'.\n",
      "Warning: Target note 'MOC - YouTube - Video Skill' not found for note 'Home - Priorities, Next, Index'.\n",
      "Warning: Target note 'AMOC - Priorities' not found for note 'Home - Priorities, Next, Index'.\n",
      "Warning: Target note 'Long Term' not found for note 'Home - Priorities, Next, Index'.\n",
      "Warning: Target note 'AMOC - My Brand' not found for note 'Home - Priorities, Next, Index'.\n",
      "Warning: Target note 'My Niche and Creator Brand' not found for note 'Home - Priorities, Next, Index'.\n",
      "Warning: Target note 'Vision' not found for note 'Home - Priorities, Next, Index'.\n",
      "Warning: Target note 'MOC - Dopamine Log' not found for note 'Home - Priorities, Next, Index'.\n",
      "Warning: Target note 'MOC Journal - State of Union - Ruvi' not found for note 'Home - Priorities, Next, Index'.\n",
      "Warning: Target note 'Homework For Life' not found for note 'Home - Priorities, Next, Index'.\n",
      "Warning: Target note '2025-02-01 - AI for distillation' not found for note '2025-02-01'.\n",
      "Warning: Target note 'MOC - Dopamine Log' not found for note '2025-02-01'.\n",
      "Warning: Target note 'for search' not found for note '2025-02-01'.\n",
      "Warning: Target note 'Efficient Data Processing in Spark - Joseph Machado Book' not found for note 'Post - Spark Lessons'.\n",
      "Warning: Target note 'MOC - Spark' not found for note 'Post - Spark Lessons'.\n",
      "Warning: Target note '2024-09-19 - Compound Knowledge' not found for note 'Post - Compound Knowledge in the Information Age'.\n",
      "Warning: Target note 'Bricks' not found for note 'Post - Compound Knowledge in the Information Age'.\n",
      "Warning: Target note 'Take consistent baby steps' not found for note 'Post - Compound Knowledge in the Information Age'.\n",
      "Warning: Target note 'Build Your Bricks' not found for note 'Post - Compound Knowledge in the Information Age'.\n",
      "Warning: Target note 'Packets' not found for note 'Post - Compound Knowledge in the Information Age'.\n",
      "Warning: Target note 'RAG - more than just stuffing things in a context window' not found for note '2025-02-01 - AI for distillation, for search'.\n",
      "Warning: Target note '2024-11-23 - Next Jim Simons idea' not found for note '2025-02-01 - Hardly high note'.\n",
      "Warning: Target note 'AI Time Series Specialized' not found for note '2025-02-01 - Hardly high note'.\n",
      "Warning: Target note 'MOC - Doing research' not found for note '2025-02-01 - Hardly high note'.\n",
      "Warning: Target note 'being scientist' not found for note '2025-02-01 - Hardly high note'.\n",
      "Warning: Target note 'one thing book' not found for note '2025-02-02 - Time series focus'.\n",
      "Warning: Target note '2025-01-31 - what story no longer serves me - trading no longer serves me' not found for note '2025-02-01 - Trading hedge fund vs ASH'.\n",
      "Warning: Target note 'Trade Log#2024-08-23' not found for note 'Stock and Crypto Correlations'.\n",
      "Warning: Target note 'open source creator entrepreneur' not found for note '2025-02-02'.\n",
      "Warning: Target note 'RAG - more than just stuffing things in a context window' not found for note '2025-02-01 - defensible edge in ai is using your data to solve problems'.\n",
      "Warning: Target note 'MOC - Dopamine Log' not found for note 'Serotonin - here and now with weed'.\n",
      "Warning: Target note 'Ideas - Data Engineer Research' not found for note 'MOC - Doing research, being scientist'.\n",
      "Warning: Target note 'learn' not found for note 'MOC - Doing research, being scientist'.\n",
      "Warning: Target note 'Take Action - Ask questions' not found for note 'MOC - Doing research, being scientist'.\n",
      "Warning: Target note 'Solve problems' not found for note 'MOC - Doing research, being scientist'.\n",
      "Warning: Target note 'ask questions' not found for note 'MOC - Doing research, being scientist'.\n",
      "Warning: Target note '2025-01-07 - Be curious' not found for note 'MOC - Doing research, being scientist'.\n",
      "Warning: Target note 'Build More - Be Curious' not found for note 'MOC - Doing research, being scientist'.\n",
      "Warning: Target note 'Reasoning in LLMs - DeepSeek' not found for note 'MOC - Reasoning and deep seek'.\n",
      "Warning: Target note 'R1' not found for note 'MOC - Reasoning and deep seek'.\n",
      "Warning: Target note 'SEO Writing#https //ghost.org/resources/beginners-guide-to-seo/' not found for note 'SEO Research'.\n",
      "Warning: Target note 'Student-Teacher Setting#Student Probe and their Pruning process' not found for note 'Paper - Beyond Neural Scaling Laws - beating power law scaling via data pruning'.\n",
      "Warning: Target note 'understandingai.org' not found for note 'Large Language Models, Explained With a Minimum of Math and Jargon'.\n",
      "Warning: Target note 'Liked' not found for note 'Large Language Models, Explained With a Minimum of Math and Jargon'.\n",
      "Warning: Target note 'seths.blog' not found for note 'Ode How to Tell a Great Story'.\n",
      "Warning: Target note 'Avil Beckford' not found for note 'Hook Point How to Stand Out in a 3-Second World by Brendan Kane'.\n",
      "Warning: Target note 'Liked' not found for note 'Hook Point How to Stand Out in a 3-Second World by Brendan Kane'.\n",
      "Warning: Target note 'observer.com' not found for note 'The Benjamin Franklin Method How to (Actually) Be a Better Writer'.\n",
      "Warning: Target note 'samuelthomasdavies.com' not found for note 'Book Summary Steal Like an Artist by Austin Kleon'.\n",
      "Warning: Target note 'dev.jimgrey.net' not found for note 'Lessons Learned in 35 Years of Making Software'.\n",
      "Warning: Target note 'Liked' not found for note 'Lessons Learned in 35 Years of Making Software'.\n",
      "Warning: Target note 'oneusefulthing.org' not found for note '15 Times to Use AI, and 5 Not To'.\n",
      "Warning: Target note 'snats.xyz' not found for note 'Snats Website'.\n",
      "Warning: Target note 'Liked' not found for note 'Snats Website'.\n",
      "Warning: Target note 'swyx.io' not found for note 'How to Learn in Private'.\n",
      "Warning: Target note 'Kevin Zhang' not found for note 'Investing in the Age of Generative AI'.\n",
      "Warning: Target note 'piaoyang0.wordpress.com' not found for note 'LLMs Are Not Suitable for (Advanced) Brainstorming'.\n",
      "Warning: Target note 'jamesclear.com' not found for note 'What Every Successful Person Knows, but Never Says'.\n",
      "Warning: Target note 'seths.blog' not found for note 'Are You Making Something'.\n",
      "Warning: Target note 'Michael Woudenberg' not found for note 'Augmenting Intelligence'.\n",
      "Warning: Target note 'Liked' not found for note 'Augmenting Intelligence'.\n",
      "Warning: Target note 'arxiv.org' not found for note 'Text2SQL Is Not Enough Unifying AI and Databases With TAG'.\n",
      "Warning: Target note 'sahilbloom.com' not found for note '34 Life Lessons From 34 Years  the Curiosity Chronicle'.\n",
      "Warning: Target note 'Liked' not found for note '34 Life Lessons From 34 Years  the Curiosity Chronicle'.\n",
      "Warning: Target note 'paulgraham.com' not found for note 'What You (Want To) Want'.\n",
      "Warning: Target note 'sahilbloom.com' not found for note 'The Taxes of Life You Need to Pay  the Curiosity Chronicle'.\n",
      "Warning: Target note 'Liked' not found for note 'The Taxes of Life You Need to Pay  the Curiosity Chronicle'.\n",
      "Warning: Target note 'aisolopreneur.beehiiv.com' not found for note '🐙 to Generalize or to Specialize'.\n",
      "Warning: Target note 'markmanson.net' not found for note 'The Disease of More'.\n",
      "Warning: Target note 'Tanner Garrity' not found for note 'Life Lessons From Einstein's Gedankenexperiments'.\n",
      "Warning: Target note 'Liked' not found for note 'Life Lessons From Einstein's Gedankenexperiments'.\n",
      "Warning: Target note 'Yung Pueblo' not found for note '9 Lessons From 9 Years of Marriage'.\n",
      "Warning: Target note 'Rich Sutton' not found for note 'The Bitter Lesson'.\n",
      "Warning: Target note 'Liked' not found for note 'The Ladders of Wealth Creation A Step-by-Step Roadmap to Building Wealth'.\n",
      "Warning: Target note 'nathanbarry.com' not found for note 'The Ladders of Wealth Creation A Step-by-Step Roadmap to Building Wealth'.\n",
      "Warning: Target note 'nicholas.carlini.com' not found for note 'How I Use AI'.\n",
      "Warning: Target note 'Liked' not found for note 'How I Use AI'.\n",
      "Warning: Target note 'Email Scott' not found for note 'The Day You Became a Better Writer'.\n",
      "Warning: Target note 'writing' not found for note 'The Day You Became a Better Writer'.\n",
      "Warning: Target note 'about.fb.com' not found for note 'Open Source AI Is the Path Forward  Meta'.\n",
      "Warning: Target note 'e-student.org' not found for note 'Feynman Technique A Complete Beginner’s Guide - E-Student'.\n",
      "Warning: Target note 'Liked' not found for note 'How I Built a #1-Ranked Podcast With 60M+ Downloads - The Blog of Author Tim Ferriss'.\n",
      "Warning: Target note 'tim.blog' not found for note 'How I Built a #1-Ranked Podcast With 60M+ Downloads - The Blog of Author Tim Ferriss'.\n",
      "Warning: Target note 'fchollet.substack.com' not found for note 'How I Think About LLM Prompt Engineering'.\n",
      "Warning: Target note 'sahilbloom.com' not found for note '9 Hidden Signs of Personal Growth  the Curiosity Chronicle'.\n",
      "Warning: Target note 'sahilbloom.com' not found for note '13 Harsh Truths About Success Nobody Told You  the Curiosity Chronicle'.\n",
      "Warning: Target note 'Ege Erdil' not found for note 'How Has DeepSeek Improved the Transformer Architecture'.\n",
      "Warning: Target note 'fs.blog' not found for note 'The Feynman Technique Master the Art of Learning'.\n",
      "Warning: Target note 'sahilbloom.com' not found for note 'Information-Action Gap, One Decision Away, & More  the Curiosity Chronicle'.\n",
      "Warning: Target note 'Liked' not found for note 'A Hierarchy First Approach to Note Taking'.\n",
      "Warning: Target note 'kevinslin.com' not found for note 'A Hierarchy First Approach to Note Taking'.\n",
      "Warning: Target note 'sahilbloom.com' not found for note 'Brutally Honest Advice to My Younger Self  the Curiosity Chronicle'.\n",
      "Warning: Target note 'aisolopreneur.beehiiv.com' not found for note '🐙 Start With WHY, Not WHAT'.\n",
      "Warning: Target note 'Liked' not found for note '🐙 Start With WHY, Not WHAT'.\n",
      "Warning: Target note 'sahilbloom.com' not found for note '11 Things I Quit to Transform My Life  the Curiosity Chronicle'.\n",
      "Warning: Target note 'css-tricks.com' not found for note 'Learning to Learn  CSS-Tricks'.\n",
      "Warning: Target note 'Liked' not found for note 'Learning to Learn  CSS-Tricks'.\n",
      "Warning: Target note 'kevin.the.li' not found for note 'Learning to Learn  KL'.\n",
      "Warning: Target note 'paulgraham.com' not found for note 'How to Do What You Love'.\n",
      "Warning: Target note 'oneusefulthing.org' not found for note 'Thinking Like an AI'.\n",
      "Warning: Target note 'Zhangchi Feng' not found for note 'LlamaFactory Unified Efficient Fine-Tuning of 100+ Language Models'.\n",
      "Warning: Target note 'Junhao Zhang' not found for note 'LlamaFactory Unified Efficient Fine-Tuning of 100+ Language Models'.\n",
      "Warning: Target note 'Richong Zhang' not found for note 'LlamaFactory Unified Efficient Fine-Tuning of 100+ Language Models'.\n",
      "Warning: Target note 'Yaowei Zheng' not found for note 'LlamaFactory Unified Efficient Fine-Tuning of 100+ Language Models'.\n",
      "Warning: Target note 'Zheyan Luo' not found for note 'LlamaFactory Unified Efficient Fine-Tuning of 100+ Language Models'.\n",
      "Warning: Target note 'Yongqiang Ma' not found for note 'LlamaFactory Unified Efficient Fine-Tuning of 100+ Language Models'.\n",
      "Warning: Target note 'ai/finetune' not found for note 'LlamaFactory Unified Efficient Fine-Tuning of 100+ Language Models'.\n",
      "Warning: Target note 'Yanhan Ye' not found for note 'LlamaFactory Unified Efficient Fine-Tuning of 100+ Language Models'.\n",
      "Warning: Target note 'sahilbloom.com' not found for note 'The Case for Slowing Down  the Curiosity Chronicle'.\n",
      "Warning: Target note 'neuralnetworksanddeeplearning.com' not found for note 'Neural Networks and Deep Learning-2'.\n",
      "Warning: Target note 'aysajan' not found for note 'A Reflection on Richard Hamming's You and Your Research Striving for Greatness'.\n",
      "Warning: Target note 'Liked' not found for note 'AI Agents Invade Observability Snake Oil or the Future of SRE'.\n",
      "Warning: Target note 'Clay Smith' not found for note 'AI Agents Invade Observability Snake Oil or the Future of SRE'.\n",
      "Warning: Target note 'sahilbloom.com' not found for note 'The Best Ideas of 2024  the Curiosity Chronicle'.\n",
      "Warning: Target note 'Visit Profile' not found for note 'Advice to the Young'.\n",
      "Warning: Target note 'sahilbloom.com' not found for note 'The Discipline of Desire, Beginner's Paradox, & More  the Curiosity Chronicle'.\n",
      "Warning: Target note 'karpathy.github.io' not found for note 'The Unreasonable Effectiveness of Recurrent Neural Networks'.\n",
      "Warning: Target note 'ai.meta.com' not found for note 'Large Concept Models Language Modeling in a Sentence Representation Space  Research - AI at Meta'.\n",
      "Warning: Target note 'aisolopreneur.beehiiv.com' not found for note '🐙 the Data-Driven Way to Hit 1M Views'.\n",
      "Warning: Target note 'neuralnetworksanddeeplearning.com' not found for note 'Neural Networks and Deep Learning'.\n",
      "Warning: Target note 'Capital Allocators – Inside the Institutional Investment Industry' not found for note 'Sahil Bloom – Creativity, Investing, and Engineered Serendipity'.\n",
      "Warning: Target note 'Deep Dive with Ali Abdaal' not found for note 'Confronting My Productivity Guru - Tiago Forte'.\n",
      "Warning: Target note 'Deep Dive with Ali Abdaal' not found for note 'How to Build a Business That Lets You Quit Your Job - Dickie Bush'.\n",
      "Warning: Target note 'Deep Dive with Ali Abdaal' not found for note 'How I Grew From 0 to 500k Followers in Under 2 Years - Sahil Bloom'.\n",
      "Warning: Target note 'Marketing School - Digital Marketing and Online Marketing Tips' not found for note 'Sahil Bloom’s #1 Advice to All Content Creators'.\n",
      "Warning: Target note 'Deep Dive with Ali Abdaal' not found for note '9 Systems to Build a Life of Abundance - Sahil Bloom'.\n",
      "Warning: Target note 'Deep Dive with Ali Abdaal' not found for note 'How Dopamine Shapes Your Habits and Productivity - Tj Power'.\n",
      "Warning: Target note 'Deep Dive with Ali Abdaal' not found for note 'How to Stay Focused and Beat Distraction - Nir Eyal'.\n",
      "Warning: Target note 'The Tim Ferriss Show' not found for note '#648 James Clear, Atomic Habits — Simple Strategies for Building (And Breaking) Habits, Questions for Personal Mastery and Growth, Tactics for Writing and Launching a Mega-Bestseller, Finding Leverage, and More'.\n",
      "Warning: Target note 'Deep Questions with Cal Newport' not found for note 'Ep. 278 How to Think'.\n",
      "Warning: Target note 'Deep Questions with Cal Newport' not found for note 'Ep. 326 Time to Unplug'.\n",
      "Warning: Target note 'Raj Shamani's Figuring Out' not found for note 'Sahil Bloom on the Future of Artificial Intelligence, Content Creation and Relationships  FO 75'.\n",
      "Warning: Target note 'The Knowledge Project with Shane Parrish' not found for note '#137 Justin Su'a Peak Mental Performance'.\n",
      "Warning: Target note '2024-12-26 - mind mapping' not found for note 'mind mapping - Justin sung'.\n",
      "Warning: Target note 'youtube creators analysis#3 levels of mind mapping' not found for note 'mind mapping - Justin sung'.\n",
      "Warning: Target note 'MOC - Mind Mapping' not found for note 'mind mapping - Justin sung'.\n",
      "Warning: Target note 'Visual PKM' not found for note 'mind mapping - Justin sung'.\n",
      "Warning: Target note 'Specific Knowledge' not found for note 'Personal Monopoly'.\n",
      "Warning: Target note 'Ikigai' not found for note 'Personal Monopoly'.\n",
      "Warning: Target note 'Category' not found for note 'Personal Monopoly'.\n",
      "Warning: Target note 'MOC - Exploring My Niche' not found for note 'Personal Monopoly'.\n",
      "Warning: Target note '2-Reference/Books/How to Take Smart Notes' not found for note 'Craft of Writing Effectively'.\n",
      "Warning: Target note 'MOC - Mind Mapping' not found for note 'Mastering Visual Literacy'.\n",
      "Warning: Target note 'Visual PKM' not found for note 'Mastering Visual Literacy'.\n",
      "Warning: Target note 'MOC - Category POV - Joyspan - wfhfire v2' not found for note 'Three Ways to Retire'.\n",
      "Warning: Target note 'Specific Knowledge' not found for note 'Three Ways to Retire'.\n",
      "Warning: Target note 'Niche' not found for note 'Three Ways to Retire'.\n",
      "Warning: Target note 'Lifestyle Business' not found for note 'Three Ways to Retire'.\n",
      "Warning: Target note 'Values' not found for note 'Three Ways to Retire'.\n",
      "Warning: Target note 'Minimalist Entreprenuer' not found for note 'Three Ways to Retire'.\n",
      "Warning: Target note 'Be Uniquely You' not found for note 'Three Ways to Retire'.\n",
      "Warning: Target note 'MOC - Engineering Book' not found for note 'Writing an RFC - Design Tradeoffs Communication'.\n",
      "Warning: Target note 'Pasted image 20231024093951.png' not found for note 'Writing an RFC - Design Tradeoffs Communication'.\n",
      "Warning: Target note '2024-04-09 - Finding ways to create content during projects' not found for note 'Learning Gears'.\n",
      "Warning: Target note 'Brand' not found for note 'Descript TikTok'.\n",
      "Warning: Target note 'MOC - YouTube - Video Skill' not found for note 'Descript TikTok'.\n",
      "Warning: Target note 'Analytics' not found for note 'Descript TikTok'.\n",
      "Warning: Target note 'Especially If There Awhile' not found for note 'Why Adventure is Always a Good Investment'.\n",
      "Warning: Target note 'Try New Things' not found for note 'Why Adventure is Always a Good Investment'.\n",
      "Warning: Target note '1A few useful things to know about ML.excalidraw' not found for note 'A few useful things to know about ML'.\n",
      "Warning: Target note 'MOC - Engineering Book' not found for note 'Leading by Editing'.\n",
      "Warning: Target note 'Storytelling' not found for note 'Lincoln Quote'.\n",
      "Warning: Target note 'Storyworthy with Matthew Dicks' not found for note 'Lincoln Quote'.\n",
      "Warning: Target note '2024-04-18 - dopamine detox log' not found for note 'More Molecule'.\n",
      "Warning: Target note 'Pasted image 20241009071647.png' not found for note 'Neural networks and deep learning - book'.\n",
      "Warning: Target note 'Pasted image 20241009072804.png' not found for note 'Neural networks and deep learning - book'.\n",
      "Warning: Target note 'Pasted image 20241009071854.png' not found for note 'Neural networks and deep learning - book'.\n",
      "Warning: Target note 'Pasted image 20241009072205.png' not found for note 'Neural networks and deep learning - book'.\n",
      "Warning: Target note 'Pasted image 20241009072312.png' not found for note 'Neural networks and deep learning - book'.\n",
      "Warning: Target note 'Pasted image 20241019071243.png' not found for note 'Neural networks and deep learning - book'.\n",
      "Warning: Target note 'Pasted image 20241019071046.png' not found for note 'Neural networks and deep learning - book'.\n",
      "Warning: Target note 'Pasted image 20241019070540.png' not found for note 'Neural networks and deep learning - book'.\n",
      "Warning: Target note 'Pasted image 20241024060443.png' not found for note 'Neural networks and deep learning - book'.\n",
      "Warning: Target note 'Pasted image 20241030070924.png' not found for note 'Neural networks and deep learning - book'.\n",
      "Warning: Target note 'Pasted image 20241031064539.png' not found for note 'Neural networks and deep learning - book'.\n",
      "Warning: Target note 'Pasted image 20241105062146.png' not found for note 'Neural networks and deep learning - book'.\n",
      "Warning: Target note '2024-09-22 - use otter' not found for note 'ultra learning book'.\n",
      "Warning: Target note 'free recall ultralearning' not found for note 'ultra learning book'.\n",
      "Warning: Target note '2024-04-21- dopamine log' not found for note 'Slow Sex'.\n",
      "Warning: Target note 'YT - the 5 stages of become an expert developer' not found for note 'Drawing on the right side of the brain'.\n",
      "Warning: Target note 'mail.jpg' not found for note 'Free Email Course and Misc Notes'.\n",
      "Warning: Target note '2-Reference/Writing Skills/Visualize Value/My Observations' not found for note 'Observations on Other Influencers Creators'.\n",
      "Warning: Target note '2-Reference/Writing Skills/Ship30For30/My Observations' not found for note 'Observations on Other Influencers Creators'.\n",
      "Warning: Target note 'Category POV' not found for note 'CT - HOW TO - Build Your Idea File Prompts and Niche Notes'.\n",
      "Warning: Target note 'eig.png' not found for note 'Live Session 3 - EIG'.\n",
      "Warning: Target note '2-Reference/Writing Skills/Ship30For30/My Observations' not found for note 'Live Session 2 - Lean Writing'.\n",
      "Warning: Target note 'MOC - Category POV - AE - Augmented Engineer' not found for note 'Live Session 2 - Lean Writing'.\n",
      "Warning: Target note '(deprecated) AE - Tag Lines' not found for note 'Live Session 2 - Lean Writing'.\n",
      "Warning: Target note '(deprecated) AE - Tag Lines' not found for note 'Live Session 2 - Lean Writing'.\n",
      "Warning: Target note 'Outline As Content Templates' not found for note 'CT - Level 2 Notes'.\n",
      "Warning: Target note 'image_123650291.png' not found for note 'Sample Designs'.\n",
      "Warning: Target note 'image_123650291(3).png' not found for note 'Sample Designs'.\n",
      "Warning: Target note '6549.jpg' not found for note 'Sample Designs'.\n",
      "Warning: Target note 'image_123650291(5).png' not found for note 'Sample Designs'.\n",
      "Warning: Target note 'image_123650291(1).png' not found for note 'Sample Designs'.\n",
      "Warning: Target note 'image_123650291(2).png' not found for note 'Sample Designs'.\n",
      "Warning: Target note 'image_123650291(4).png' not found for note 'Sample Designs'.\n",
      "Warning: Target note 'Pasted image 20240108204703.png' not found for note 'Design tools of visualize value'.\n",
      "Warning: Target note 'MOC - Dopamine Log' not found for note 'Unhooked Podcast'.\n",
      "Warning: Target note 'Homework For Life' not found for note 'Finding Stories - Course'.\n",
      "Warning: Target note 'MOC - Story Moments Index' not found for note 'Finding Stories - Course'.\n",
      "Warning: Target note 'Brand' not found for note 'Ali Abdaal Course'.\n",
      "Warning: Target note 'MOC - YouTube - Video Skill' not found for note 'Ali Abdaal Course'.\n",
      "Warning: Target note 'Analytics' not found for note 'Ali Abdaal Course'.\n",
      "Warning: Target note 'Brand' not found for note 'PTYA - Ali Course'.\n",
      "Warning: Target note 'MOC - YouTube - Video Skill' not found for note 'PTYA - Ali Course'.\n",
      "Warning: Target note 'Analytics' not found for note 'PTYA - Ali Course'.\n",
      "Warning: Target note 'StaffPlus Talk 2024' not found for note 'StaffPlus Conference Tips'.\n",
      "Warning: Target note 'Brand' not found for note 'Billions of views on YouTube'.\n",
      "Warning: Target note 'MOC - YouTube - Video Skill' not found for note 'Billions of views on YouTube'.\n",
      "Warning: Target note 'Analytics' not found for note 'Billions of views on YouTube'.\n",
      "Warning: Target note 'Brand' not found for note 'New Tubers'.\n",
      "Warning: Target note 'MOC - YouTube - Video Skill' not found for note 'New Tubers'.\n",
      "Warning: Target note 'Analytics' not found for note 'New Tubers'.\n",
      "Warning: Target note 'WK - 24-12-01' not found for note 'AMOC - Self - Mental'.\n",
      "Warning: Target note 'Brand' not found for note 'MOC - Mind Mapping, Visual PKM'.\n",
      "Warning: Target note 'MOC - YouTube - Video Skill' not found for note 'MOC - Mind Mapping, Visual PKM'.\n",
      "Warning: Target note 'Analytics' not found for note 'MOC - Mind Mapping, Visual PKM'.\n",
      "Warning: Target note '2025-01-26 - You and your research lecture' not found for note 'MOC - Great Thoughts - Big Thoughts'.\n",
      "Warning: Target note '2025-01-29 - Streaming data' not found for note 'MOC - Great Thoughts - Big Thoughts'.\n",
      "Warning: Target note 'ai edge in capture' not found for note 'MOC - Great Thoughts - Big Thoughts'.\n",
      "Warning: Target note '2025-01-31 - Ai clone as agents' not found for note 'MOC - Great Thoughts - Big Thoughts'.\n",
      "Warning: Target note 'My Niche and Creator Brand#2024-09-02 - who do I want to serve' not found for note 'MOC - Marketing'.\n",
      "Warning: Target note 'AMOC - My Brand' not found for note 'MOC - Marketing'.\n",
      "Warning: Target note '2025-01-18 - My purpose' not found for note 'MOC - My Mission'.\n",
      "Warning: Target note 'my mission and old notes' not found for note 'MOC - My Mission'.\n",
      "Warning: Target note '2025-01-04 - High Thoughts#too much ai in my process?' not found for note 'MOC - YouTube - Video Skill, Brand, Analytics'.\n",
      "Warning: Target note '2024-11-17 - YT Skill and Growth Focus for Now#authentic angle' not found for note 'MOC - YouTube - Video Skill, Brand, Analytics'.\n",
      "Warning: Target note '2024-11-12' not found for note 'MOC - YouTube - Video Skill, Brand, Analytics'.\n",
      "Warning: Target note '2025-01-04 - High Thoughts#my niche and audience' not found for note 'MOC - YouTube - Video Skill, Brand, Analytics'.\n",
      "Warning: Target note 'More authentic content' not found for note 'MOC - YouTube - Video Skill, Brand, Analytics'.\n",
      "Warning: Target note 'use AI to help me fix YT thumbnails' not found for note 'MOC - YouTube - Video Skill, Brand, Analytics'.\n",
      "Warning: Target note 'Long Term#Shorts to prototype' not found for note 'MOC - YouTube - Video Skill, Brand, Analytics'.\n",
      "Warning: Target note 'AMOC - Priorities' not found for note 'MOC - YouTube - Video Skill, Brand, Analytics'.\n",
      "Warning: Target note 'Vision' not found for note 'MOC - YouTube - Video Skill, Brand, Analytics'.\n",
      "Warning: Target note 'Tim ferriss Podcast Transcripts - Augmented Learning project idea' not found for note 'Ideas - Content and Projects Backlog'.\n",
      "Warning: Target note 'Projects' not found for note 'Ideas - Content and Projects Backlog'.\n",
      "Warning: Target note '& Skills to Develop' not found for note 'Ideas - Content and Projects Backlog'.\n",
      "Warning: Target note 'Archived - My Learning' not found for note 'Ideas - Content and Projects Backlog'.\n",
      "Warning: Target note 'ai plugins' not found for note 'Ideas - Content and Projects Backlog'.\n",
      "Warning: Target note 'How I use NotebookLM to understand research papers' not found for note 'Ideas - Content and Projects Backlog'.\n",
      "Warning: Target note 'Chat with Entire Second Brain - llamaindex' not found for note 'Ideas - Content and Projects Backlog'.\n",
      "Warning: Target note 'Grandma passing - AI antiques - mom' not found for note 'Ideas - Content and Projects Backlog'.\n",
      "Warning: Target note 'Balance Create' not found for note 'Ideas - Content and Projects Backlog'.\n",
      "Warning: Target note 'Learn Do Reflect' not found for note 'Ideas - Content and Projects Backlog'.\n",
      "Warning: Target note 'Think' not found for note 'Ideas - Content and Projects Backlog'.\n",
      "Warning: Target note 'Consume Triad' not found for note 'Ideas - Content and Projects Backlog'.\n",
      "Warning: Target note 'Holding Company' not found for note 'Ideas - Someday Maybe List'.\n",
      "Warning: Target note 'DD podcast#AI Agents with Zapier' not found for note 'Ideas - Someday Maybe List'.\n",
      "Warning: Target note 'Augmented Empire Community' not found for note 'Ideas - Someday Maybe List'.\n",
      "Warning: Target note 'Tim ferriss Podcast Transcripts - Augmented Learning project idea' not found for note 'Ideas - Someday Maybe List'.\n",
      "Warning: Target note 'AI Startup' not found for note 'Ideas - Someday Maybe List'.\n",
      "Warning: Target note '2024-06-14 - AR' not found for note 'Ideas - Someday Maybe List'.\n",
      "Warning: Target note 'MOC - Moonshot Ideas' not found for note 'Ideas - Someday Maybe List'.\n",
      "Warning: Target note 'zapier agents' not found for note 'Ideas - Someday Maybe List'.\n",
      "Warning: Target note 'niche' not found for note 'Ideas - Someday Maybe List'.\n",
      "Warning: Target note 'github' not found for note 'Ideas - Someday Maybe List'.\n",
      "Warning: Target note '2024-07-24 - plan forward' not found for note 'Ideas - Someday Maybe List'.\n",
      "Warning: Target note 'ai for de' not found for note 'Ideas - Someday Maybe List'.\n",
      "Warning: Target note 'Home - Priorities' not found for note 'AMOC - Priorities, Vision, Long Term'.\n",
      "Warning: Target note 'Index' not found for note 'AMOC - Priorities, Vision, Long Term'.\n",
      "Warning: Target note 'Next' not found for note 'AMOC - Priorities, Vision, Long Term'.\n",
      "Warning: Target note 'my mission and old notes#my purpose' not found for note 'AMOC - Priorities, Vision, Long Term'.\n",
      "Warning: Target note '2025-01-18 - My purpose' not found for note 'AMOC - Priorities, Vision, Long Term'.\n",
      "Warning: Target note 'Priority' not found for note 'AMOC - Priorities, Vision, Long Term'.\n",
      "Warning: Target note 'AI Time Series Specialized' not found for note 'AMOC - Priorities, Vision, Long Term'.\n",
      "Warning: Target note 'open source creator entrepreneur' not found for note 'AMOC - Priorities, Vision, Long Term'.\n",
      "Warning: Target note '2025-01-11 - Three Paths' not found for note 'AMOC - Priorities, Vision, Long Term'.\n",
      "Warning: Target note '2024-11-23 - Next Jim Simons idea' not found for note 'AMOC - Priorities, Vision, Long Term'.\n",
      "Warning: Target note 'Niche Ideas' not found for note 'AMOC - Priorities, Vision, Long Term'.\n",
      "Warning: Target note 'plan less' not found for note 'AMOC - Priorities, Vision, Long Term'.\n",
      "Warning: Target note 'do things' not found for note 'AMOC - Priorities, Vision, Long Term'.\n",
      "Warning: Target note 'experiment more - take action' not found for note 'AMOC - Priorities, Vision, Long Term'.\n",
      "Warning: Target note '2025-01-14 - join and ask in the communities' not found for note 'AMOC - Priorities, Vision, Long Term'.\n",
      "Warning: Target note 'Podcast Relaunch - Research Focus' not found for note 'AMOC - Priorities, Vision, Long Term'.\n",
      "Warning: Target note '2025-01-19 - is YouTube not good roi' not found for note 'AMOC - Priorities, Vision, Long Term'.\n",
      "Warning: Target note 'experiment more - take action' not found for note 'AMOC - Priorities, Vision, Long Term'.\n",
      "Warning: Target note '2025-01-20 - pivot on a weekly basis to follow interests while exploring' not found for note 'AMOC - Priorities, Vision, Long Term'.\n",
      "Warning: Target note 'open source creator entrepreneur' not found for note 'AMOC - Priorities, Vision, Long Term'.\n",
      "Warning: Target note 'more building' not found for note 'AMOC - Priorities, Vision, Long Term'.\n",
      "Warning: Target note 'open source ai' not found for note 'AMOC - Priorities, Vision, Long Term'.\n",
      "Warning: Target note 'do things' not found for note 'AMOC - Priorities, Vision, Long Term'.\n",
      "Warning: Target note 'More authentic content' not found for note 'AMOC - Priorities, Vision, Long Term'.\n",
      "Warning: Target note 'plan less' not found for note 'AMOC - Priorities, Vision, Long Term'.\n",
      "Warning: Target note 'AMOC - My Brand' not found for note 'AMOC - Priorities, Vision, Long Term'.\n",
      "Warning: Target note 'My Niche and Creator Brand' not found for note 'AMOC - Priorities, Vision, Long Term'.\n",
      "Warning: Target note '2025-01-13 - This Week Priority Reflection' not found for note 'AMOC - Priorities, Vision, Long Term'.\n",
      "Warning: Target note 'plan less' not found for note 'AMOC - Priorities, Vision, Long Term'.\n",
      "Warning: Target note 'experiment more - take action' not found for note 'AMOC - Priorities, Vision, Long Term'.\n",
      "Warning: Target note 'do things' not found for note 'AMOC - Priorities, Vision, Long Term'.\n",
      "Warning: Target note 'AI Time Series Specialized#plan it out' not found for note 'AMOC - Priorities, Vision, Long Term'.\n",
      "Warning: Target note '2024-11-23 - Next Jim Simons idea' not found for note 'AMOC - Priorities, Vision, Long Term'.\n",
      "Warning: Target note 'Priority' not found for note 'AMOC - Priorities, Vision, Long Term'.\n",
      "Warning: Target note '2025-01-11 - Three Paths' not found for note 'AMOC - Priorities, Vision, Long Term'.\n",
      "Warning: Target note 'Niche Ideas' not found for note 'AMOC - Priorities, Vision, Long Term'.\n",
      "Warning: Target note '2025-01-08 - Aligning my morning focus with work' not found for note 'AMOC - Priorities, Vision, Long Term'.\n",
      "Warning: Target note '2025-01-11 - High note#morning routine' not found for note 'AMOC - Priorities, Vision, Long Term'.\n",
      "Warning: Target note 'evening creative' not found for note 'AMOC - Priorities, Vision, Long Term'.\n",
      "Warning: Target note 'WK - 24-12-24#morning pragmatic' not found for note 'AMOC - Priorities, Vision, Long Term'.\n",
      "Warning: Target note 'WK - 24-12-24#content prototyping' not found for note 'AMOC - Priorities, Vision, Long Term'.\n",
      "Warning: Target note '2025-01-04 - High Thoughts#researchers' not found for note 'AMOC - Priorities, Vision, Long Term'.\n",
      "Warning: Target note '2024-12-20 - content vs learning' not found for note 'AMOC - Priorities, Vision, Long Term'.\n",
      "Warning: Target note 'WK - 24-12-16' not found for note 'AMOC - Priorities, Vision, Long Term'.\n",
      "Warning: Target note 'WK - 24-12-01' not found for note 'AMOC - Priorities, Vision, Long Term'.\n",
      "Warning: Target note '2024-12-07 - rest' not found for note 'AMOC - Priorities, Vision, Long Term'.\n",
      "Warning: Target note 'reflect more' not found for note 'AMOC - Priorities, Vision, Long Term'.\n",
      "Warning: Target note '2024-12-06 - Youtube valley of despair' not found for note 'AMOC - Priorities, Vision, Long Term'.\n",
      "Warning: Target note 'AI Time Series Specialized' not found for note 'AMOC - Priorities, Vision, Long Term'.\n",
      "Warning: Target note 'priorities' not found for note 'AMOC - Priorities, Vision, Long Term'.\n",
      "Warning: Target note '2024-11-22 - Content to support learning' not found for note 'AMOC - Priorities, Vision, Long Term'.\n",
      "Warning: Target note 'Trading FOMO - Focus on Ai and let go of trading' not found for note 'AMOC - Priorities, Vision, Long Term'.\n",
      "Warning: Target note '2024-11-23 - Next Jim Simons idea' not found for note 'AMOC - Priorities, Vision, Long Term'.\n",
      "Warning: Target note 'easier 4pm' not found for note 'AMOC - Priorities, Vision, Long Term'.\n",
      "Warning: Target note 'say no' not found for note 'AMOC - Priorities, Vision, Long Term'.\n",
      "Warning: Target note 'AMOC - Meta - Obsidian - Second Brain - My Organization Process#2024-11-12 - limit consumption' not found for note 'AMOC - Priorities, Vision, Long Term'.\n",
      "Warning: Target note '2024-09-12 - focus two missions north star' not found for note 'AMOC - Priorities, Vision, Long Term'.\n",
      "Warning: Target note '2024-10-07' not found for note 'AMOC - Priorities, Vision, Long Term'.\n",
      "Warning: Target note 'Projects' not found for note 'AMOC - Priorities, Vision, Long Term'.\n",
      "Warning: Target note 'Main - Next Tasks' not found for note 'AMOC - Priorities, Vision, Long Term'.\n",
      "Warning: Target note 'Archived - My Learning' not found for note 'AMOC - Priorities, Vision, Long Term'.\n",
      "Warning: Target note '& Skills to Develop' not found for note 'AMOC - Priorities, Vision, Long Term'.\n",
      "Warning: Target note 'AMOC - Meta - Obsidian - Second Brain - My Organization Process#2024-10-07' not found for note 'AMOC - Priorities, Vision, Long Term'.\n",
      "Warning: Target note 'Holding Company' not found for note 'MOC - ASH - ARIA - the augmented intelligence company - moonshot'.\n",
      "Warning: Target note 'open source ai' not found for note 'MOC - ASH - ARIA - the augmented intelligence company - moonshot'.\n",
      "Warning: Target note 'Augmented Empire Community' not found for note 'MOC - ASH - ARIA - the augmented intelligence company - moonshot'.\n",
      "Warning: Target note 'AI Startup' not found for note 'MOC - ASH - ARIA - the augmented intelligence company - moonshot'.\n",
      "Warning: Target note 'MOC - Moonshot Ideas' not found for note 'MOC - ASH - ARIA - the augmented intelligence company - moonshot'.\n",
      "Warning: Target note '2025-01-31 - Ai clone as agents' not found for note 'MOC - ASH - ARIA - the augmented intelligence company - moonshot'.\n",
      "Warning: Target note '2025-01-31 - what story no longer serves me - trading no longer serves me' not found for note 'MOC - ASH - ARIA - the augmented intelligence company - moonshot'.\n",
      "Warning: Target note 'small models' not found for note 'MOC - ASH - ARIA - the augmented intelligence company - moonshot'.\n",
      "Warning: Target note '2025-01-29 - Ai' not found for note 'MOC - ASH - ARIA - the augmented intelligence company - moonshot'.\n",
      "Warning: Target note 'own data' not found for note 'MOC - ASH - ARIA - the augmented intelligence company - moonshot'.\n",
      "Warning: Target note 'blockchain' not found for note 'MOC - ASH - ARIA - the augmented intelligence company - moonshot'.\n",
      "Warning: Target note 'more building' not found for note 'MOC - ASH - ARIA - the augmented intelligence company - moonshot'.\n",
      "Warning: Target note '2025-01-19 - is YouTube not good roi' not found for note 'MOC - ASH - ARIA - the augmented intelligence company - moonshot'.\n",
      "Warning: Target note '2025-01-20 - pursue asymmetric bets' not found for note 'MOC - ASH - ARIA - the augmented intelligence company - moonshot'.\n",
      "Warning: Target note 'Pasted image 20241031064539.png' not found for note 'deep-learning github daily blog'.\n",
      "Warning: Target note '3' not found for note 'deep-learning github daily blog'.\n",
      "Warning: Target note '2' not found for note 'deep-learning github daily blog'.\n",
      "Warning: Target note '1' not found for note 'deep-learning github daily blog'.\n",
      "Warning: Target note 'Trade Log#2024-10-27 - still thinking more exit more eth' not found for note 'AMOC - Finances'.\n",
      "Warning: Target note 'crypto options' not found for note 'AMOC - Finances'.\n",
      "Warning: Target note '2024-08-23 - ai eval' not found for note 'AMOC - Finances'.\n",
      "Warning: Target note 'augmented writer' not found for note 'AMOC - Finances'.\n",
      "Warning: Target note 'politics' not found for note 'AMOC - Finances'.\n",
      "Warning: Target note '2025-02-01 - Hardly high note#AI Jarvis in VR' not found for note 'PMOC - ARIA Demo - AI VR Jarvis'.\n",
      "Warning: Target note 'Ai weather predictor' not found for note 'PMOC - Climate AI - Temperature forecasting'.\n",
      "Warning: Target note 'youtube' not found for note 'PMOC - Climate AI - Temperature forecasting'.\n",
      "Warning: Target note '2024-11-09 - custom gpts' not found for note 'PMOC - Climate AI - Temperature forecasting'.\n",
      "Warning: Target note '2025-01-06 - my daily note fix' not found for note 'AMOC - Meta - Obsidian - Second Brain - My Organization Process'.\n",
      "Warning: Target note 'MOC - Mind Mapping' not found for note 'AMOC - Meta - Obsidian - Second Brain - My Organization Process'.\n",
      "Warning: Target note 'Visual PKM' not found for note 'AMOC - Meta - Obsidian - Second Brain - My Organization Process'.\n",
      "Warning: Target note 'WK - 24-12-01' not found for note 'AMOC - Meta - Obsidian - Second Brain - My Organization Process'.\n",
      "Warning: Target note 'Visual PKM' not found for note 'AMOC - Meta - Obsidian - Second Brain - My Organization Process'.\n",
      "Warning: Target note 'MOC - Mind Mapping' not found for note 'AMOC - Meta - Obsidian - Second Brain - My Organization Process'.\n",
      "Warning: Target note 'WK - 25-01-25#habit notes' not found for note 'AMOC - Meta - Obsidian - Second Brain - My Organization Process'.\n",
      "Warning: Target note '2024-12-25#how to use daily note' not found for note 'AMOC - Meta - Obsidian - Second Brain - My Organization Process'.\n",
      "Warning: Target note 'WK - 24-12-08' not found for note 'AMOC - Meta - Obsidian - Second Brain - My Organization Process'.\n",
      "Warning: Target note 'WK - 24-12-01' not found for note 'AMOC - Meta - Obsidian - Second Brain - My Organization Process'.\n",
      "Warning: Target note 'WK - 24-11-26' not found for note 'AMOC - Meta - Obsidian - Second Brain - My Organization Process'.\n",
      "Warning: Target note '2024-11-13 - 4pm time to rest - gpt conversation' not found for note 'AMOC - Meta - Obsidian - Second Brain - My Organization Process'.\n",
      "Warning: Target note 'Podcast Relaunch - Research Focus' not found for note 'MOC - My Podcast - Bits of Chris'.\n",
      "Warning: Target note '2024 - My Podcast - Bits of Chris archive' not found for note 'MOC - My Podcast - Bits of Chris'.\n",
      "Warning: Target note 'AMOC - My Brand' not found for note 'MOC - My Podcast - Bits of Chris'.\n",
      "Warning: Target note 'My Niche and Creator Brand' not found for note 'MOC - My Podcast - Bits of Chris'.\n",
      "Warning: Target note '2024-05-26 - Summary and Next' not found for note 'Twitter - The AGI Niche'.\n",
      "Warning: Target note 'podcast with more women#Podcast - more women on' not found for note 'MOC Journal - My Podcast - Bits of Chris'.\n",
      "Warning: Target note '2024-09-07 - got high' not found for note 'MOC Journal - My Podcast - Bits of Chris'.\n",
      "Warning: Target note 'open source' not found for note 'MOC Journal - My Podcast - Bits of Chris'.\n",
      "Warning: Target note '2024-09-03 - Podcast discouragement' not found for note 'MOC Journal - My Podcast - Bits of Chris'.\n",
      "Warning: Target note 'My Niche and Creator Brand#2024-09-02 - who do I want to serve' not found for note 'MOC Journal - My Podcast - Bits of Chris'.\n",
      "Warning: Target note 'AMOC - My Brand' not found for note 'MOC Journal - My Podcast - Bits of Chris'.\n",
      "Warning: Target note '2024-08-07 - Podcast niche and plan' not found for note 'MOC Journal - My Podcast - Bits of Chris'.\n",
      "Warning: Target note 'balancing time' not found for note 'MOC Journal - My Podcast - Bits of Chris'.\n",
      "Warning: Target note '2024-08-08 - Claude - Podcast' not found for note 'MOC Journal - My Podcast - Bits of Chris'.\n",
      "Warning: Target note '2024-08-06 - podcast + newsletter#Reflection and Plan' not found for note 'MOC Journal - My Podcast - Bits of Chris'.\n",
      "Warning: Target note 'amplify career' not found for note 'MOC Journal - My Podcast - Bits of Chris'.\n",
      "Warning: Target note '2024-08-02 - priorities' not found for note 'MOC Journal - My Podcast - Bits of Chris'.\n",
      "Warning: Target note 'balancing time#Podcast Niche - Bits of Chris' not found for note 'MOC Journal - My Podcast - Bits of Chris'.\n",
      "Warning: Target note 'balance time' not found for note 'MOC Journal - My Podcast - Bits of Chris'.\n",
      "Warning: Target note '2024-08-08 - Podcast Niche Recap' not found for note 'MOC Journal - My Podcast - Bits of Chris'.\n",
      "Warning: Target note '2024-08-05 - more thoughts on podcast niche' not found for note 'MOC Journal - My Podcast - Bits of Chris'.\n",
      "Warning: Target note '2024-08-03 - podcast thoughts' not found for note 'MOC Journal - My Podcast - Bits of Chris'.\n",
      "Warning: Target note 'My Niche and Creator Brand#2024-07-15 - Augment' not found for note 'MOC Journal - My Podcast - Bits of Chris'.\n",
      "Warning: Target note 'AMOC - My Brand' not found for note 'MOC Journal - My Podcast - Bits of Chris'.\n",
      "Warning: Target note 'Stay Human Focus' not found for note 'MOC Journal - My Podcast - Bits of Chris'.\n",
      "Warning: Target note 'fathers day' not found for note 'MOC Journal - My Podcast - Bits of Chris'.\n",
      "Warning: Target note '2024-06-16 - start up' not found for note 'MOC Journal - My Podcast - Bits of Chris'.\n",
      "Warning: Target note 'learn do share#Thats who Ai for real life is for' not found for note 'MOC Journal - My Podcast - Bits of Chris'.\n",
      "Warning: Target note 'Brand' not found for note 'MOC - AI Papers - AI Research in 1 Minute'.\n",
      "Warning: Target note 'Analytics' not found for note 'MOC - AI Papers - AI Research in 1 Minute'.\n",
      "Warning: Target note 'MOC - YouTube - Video Skill' not found for note 'MOC - AI Papers - AI Research in 1 Minute'.\n",
      "Warning: Target note '& Skills to Develop' not found for note 'MOC - Moonshot Ideas, AI Startup, Holding Company, Augmented Empire Community'.\n",
      "Warning: Target note 'Archived - My Learning' not found for note 'MOC - Moonshot Ideas, AI Startup, Holding Company, Augmented Empire Community'.\n",
      "Warning: Target note 'Projects' not found for note 'MOC - Moonshot Ideas, AI Startup, Holding Company, Augmented Empire Community'.\n",
      "Warning: Target note 'open source creator entrepreneur' not found for note 'MOC - Moonshot Ideas, AI Startup, Holding Company, Augmented Empire Community'.\n",
      "Warning: Target note '2024-07-06 - Reflecting on My Niche Bits of Chris' not found for note 'MOC - Moonshot Ideas, AI Startup, Holding Company, Augmented Empire Community'.\n",
      "Warning: Target note 'AMOC - Priorities' not found for note 'AMOC - My Brand, My Niche and Creator Brand'.\n",
      "Warning: Target note 'Long Term' not found for note 'AMOC - My Brand, My Niche and Creator Brand'.\n",
      "Warning: Target note 'Vision' not found for note 'AMOC - My Brand, My Niche and Creator Brand'.\n",
      "Warning: Target note 'Brand' not found for note 'AMOC - My Brand, My Niche and Creator Brand'.\n",
      "Warning: Target note 'Analytics' not found for note 'AMOC - My Brand, My Niche and Creator Brand'.\n",
      "Warning: Target note 'MOC - YouTube - Video Skill' not found for note 'AMOC - My Brand, My Niche and Creator Brand'.\n",
      "Warning: Target note '2025-01-27 - Niche banner' not found for note 'AMOC - My Brand, My Niche and Creator Brand'.\n",
      "Warning: Target note 'Long Term' not found for note 'AMOC - My Brand, My Niche and Creator Brand'.\n",
      "Warning: Target note 'AMOC - Priorities' not found for note 'AMOC - My Brand, My Niche and Creator Brand'.\n",
      "Warning: Target note '2024-Nov-Dec- Trader DE Niche' not found for note 'AMOC - My Brand, My Niche and Creator Brand'.\n",
      "Warning: Target note 'Vision' not found for note 'AMOC - My Brand, My Niche and Creator Brand'.\n",
      "Warning: Target note 'datadog podcast' not found for note 'AMOC - My Brand, My Niche and Creator Brand'.\n",
      "Warning: Target note '2024-11-27 - rebooting Twitter - how to trade with ai' not found for note 'AMOC - My Brand, My Niche and Creator Brand'.\n",
      "Warning: Target note '2024-12-06 - Youtube valley of despair' not found for note 'AMOC - My Brand, My Niche and Creator Brand'.\n",
      "Warning: Target note 'WK - 24-12-01#work reflection 2024-12-06 - snippets' not found for note 'AMOC - My Brand, My Niche and Creator Brand'.\n",
      "Warning: Target note 'Brand' not found for note 'AMOC - My Brand, My Niche and Creator Brand'.\n",
      "Warning: Target note 'Analytics' not found for note 'AMOC - My Brand, My Niche and Creator Brand'.\n",
      "Warning: Target note 'MOC - YouTube - Video Skill' not found for note 'AMOC - My Brand, My Niche and Creator Brand'.\n",
      "Warning: Target note 'Youtube#Claude Revision (with my edits)' not found for note 'AMOC - My Brand, My Niche and Creator Brand'.\n",
      "Warning: Target note 'My Niche and Creator Brand#2024-11-14 - The Augmented Data Engineer' not found for note 'AMOC - My Brand, My Niche and Creator Brand'.\n",
      "Warning: Target note 'Substack' not found for note 'AMOC - My Brand, My Niche and Creator Brand'.\n",
      "Warning: Target note 'Old Social Bio - Twitter' not found for note 'AMOC - My Brand, My Niche and Creator Brand'.\n",
      "Warning: Target note 'Values and Guiding Principles' not found for note 'AMOC - My Brand, My Niche and Creator Brand'.\n",
      "Warning: Target note 'AMOC - My Brand' not found for note 'AMOC - My Brand, My Niche and Creator Brand'.\n",
      "Warning: Target note 'Perplexity#Sustainable niche' not found for note 'AMOC - My Brand, My Niche and Creator Brand'.\n",
      "Warning: Target note 'Values' not found for note 'AMOC - My Brand, My Niche and Creator Brand'.\n",
      "Warning: Target note '2024-05-07 - Be ONE Voice' not found for note 'AMOC - My Brand, My Niche and Creator Brand'.\n",
      "Warning: Target note 'Youtube' not found for note 'AMOC - My Brand, My Niche and Creator Brand'.\n",
      "Warning: Target note 'My Niche and Creator Brand#2024-08-18 - headline' not found for note 'AMOC - My Brand, My Niche and Creator Brand'.\n",
      "Warning: Target note 'AMOC - My Brand' not found for note 'AMOC - My Brand, My Niche and Creator Brand'.\n",
      "Warning: Target note 'focus' not found for note 'AMOC - My Brand, My Niche and Creator Brand'.\n",
      "Warning: Target note '2024-07-16 - My Sustainable Niche' not found for note 'AMOC - My Brand, My Niche and Creator Brand'.\n",
      "Warning: Target note 'Old Social Bio - Twitter' not found for note 'AMOC - My Brand, My Niche and Creator Brand'.\n",
      "Warning: Target note 'Corp Dev' not found for note 'AMOC - My Brand, My Niche and Creator Brand'.\n",
      "Warning: Target note '2024-07-03 - Bits of Chris from Claude' not found for note 'AMOC - My Brand, My Niche and Creator Brand'.\n",
      "Warning: Target note 'Substack' not found for note 'AMOC - My Brand, My Niche and Creator Brand'.\n",
      "Warning: Target note '(deprecated) MOC - Creator' not found for note 'AMOC - My Brand, My Niche and Creator Brand'.\n",
      "Warning: Target note 'Writing Journals' not found for note 'AMOC - My Brand, My Niche and Creator Brand'.\n",
      "Warning: Target note 'Podcast' not found for note 'AMOC - My Brand, My Niche and Creator Brand'.\n",
      "Warning: Target note 'Claude - Niche Golden Circle Exercise#Analysis of Common Themes' not found for note 'AMOC - My Brand, My Niche and Creator Brand'.\n",
      "Warning: Target note 'and Motivations' not found for note 'AMOC - My Brand, My Niche and Creator Brand'.\n",
      "Warning: Target note 'CL aka Bits of Chris' not found for note 'AMOC - My Brand, My Niche and Creator Brand'.\n",
      "Warning: Target note 'Brand' not found for note 'AMOC - My Brand, My Niche and Creator Brand'.\n",
      "Warning: Target note 'MOC - YouTube - Video Skill' not found for note 'AMOC - My Brand, My Niche and Creator Brand'.\n",
      "Warning: Target note 'Analytics' not found for note 'AMOC - My Brand, My Niche and Creator Brand'.\n",
      "Warning: Target note 'experiment more - take action' not found for note 'AMOC - My Brand, My Niche and Creator Brand'.\n",
      "Warning: Target note 'do things' not found for note 'AMOC - My Brand, My Niche and Creator Brand'.\n",
      "Warning: Target note '2025-01-17 - Ai research engineer' not found for note 'AMOC - My Brand, My Niche and Creator Brand'.\n",
      "Warning: Target note 'More authentic content' not found for note 'AMOC - My Brand, My Niche and Creator Brand'.\n",
      "Warning: Target note '2025-01-15 - Lean into data engineering niche' not found for note 'AMOC - My Brand, My Niche and Creator Brand'.\n",
      "Warning: Target note 'plan less' not found for note 'AMOC - My Brand, My Niche and Creator Brand'.\n",
      "Warning: Target note '2025-01-15 - my ai data engineer niche recap and focus prompt' not found for note 'AMOC - My Brand, My Niche and Creator Brand'.\n",
      "Warning: Target note '2025-01-09 - Niche - data engineer for Ai research' not found for note 'AMOC - My Brand, My Niche and Creator Brand'.\n",
      "Warning: Target note '2025-01-11 - High note' not found for note 'AMOC - My Brand, My Niche and Creator Brand'.\n",
      "Warning: Target note '2025-01-08 - Aligning my morning focus with work' not found for note 'AMOC - My Brand, My Niche and Creator Brand'.\n",
      "Warning: Target note 'AMOC - Priorities' not found for note 'AMOC - My Brand, My Niche and Creator Brand'.\n",
      "Warning: Target note '2025-01-04 - High Thoughts#my niche and audience' not found for note 'AMOC - My Brand, My Niche and Creator Brand'.\n",
      "Warning: Target note 'Long Term#researchers first' not found for note 'AMOC - My Brand, My Niche and Creator Brand'.\n",
      "Warning: Target note 'Vision' not found for note 'AMOC - My Brand, My Niche and Creator Brand'.\n",
      "Warning: Target note '2024-12-12' not found for note 'AMOC - My Brand, My Niche and Creator Brand'.\n",
      "Warning: Target note 'AMOC - Priorities' not found for note 'AMOC - My Brand, My Niche and Creator Brand'.\n",
      "Warning: Target note '2024-Nov-Dec- Trader DE Niche' not found for note 'AMOC - My Brand, My Niche and Creator Brand'.\n",
      "Warning: Target note 'Long Term#2024-12-07 - stay focused' not found for note 'AMOC - My Brand, My Niche and Creator Brand'.\n",
      "Warning: Target note 'Vision' not found for note 'AMOC - My Brand, My Niche and Creator Brand'.\n",
      "Warning: Target note 'WK - 24-12-01#work reflection 2024-12-06 - snippets' not found for note 'AMOC - My Brand, My Niche and Creator Brand'.\n",
      "Warning: Target note 'ideas' not found for note 'AMOC - My Brand, My Niche and Creator Brand'.\n",
      "Warning: Target note '2024-12-06 - content for fun' not found for note 'AMOC - My Brand, My Niche and Creator Brand'.\n",
      "Warning: Target note 'datadog podcast' not found for note 'AMOC - My Brand, My Niche and Creator Brand'.\n",
      "Warning: Target note 'remote de niche' not found for note 'AMOC - My Brand, My Niche and Creator Brand'.\n",
      "Warning: Target note '2024-12-04#journal- creating - my why' not found for note 'AMOC - My Brand, My Niche and Creator Brand'.\n",
      "Warning: Target note '2024-12-04 - point of creating why' not found for note 'AMOC - My Brand, My Niche and Creator Brand'.\n",
      "Warning: Target note 'AI Time Series Specialized#Time series deep learning applied - make this my niche' not found for note 'AMOC - My Brand, My Niche and Creator Brand'.\n",
      "Warning: Target note 'AMOC - Priorities' not found for note 'AMOC - My Brand, My Niche and Creator Brand'.\n",
      "Warning: Target note '2024-11-23 - Next Jim Simons idea' not found for note 'AMOC - My Brand, My Niche and Creator Brand'.\n",
      "Warning: Target note 'it's secondary' not found for note 'AMOC - My Brand, My Niche and Creator Brand'.\n",
      "Warning: Target note 'Long Term#2024-11-24 - content serves my learning' not found for note 'AMOC - My Brand, My Niche and Creator Brand'.\n",
      "Warning: Target note 'Vision' not found for note 'AMOC - My Brand, My Niche and Creator Brand'.\n",
      "Warning: Target note '2024-11-14 - niche name' not found for note 'AMOC - My Brand, My Niche and Creator Brand'.\n",
      "Warning: Target note 'youtube#Youtube - go for it' not found for note 'AMOC - My Brand, My Niche and Creator Brand'.\n",
      "Warning: Target note '2024-11-09 - custom gpts' not found for note 'AMOC - My Brand, My Niche and Creator Brand'.\n",
      "Warning: Target note '2024-10-30 - focus on ai learning and data engineering - no speculation' not found for note 'AMOC - My Brand, My Niche and Creator Brand'.\n",
      "Warning: Target note 'crypto rebalance' not found for note 'AMOC - My Brand, My Niche and Creator Brand'.\n",
      "Warning: Target note '2024-10-xx - Otter - ai data Eng' not found for note 'AMOC - My Brand, My Niche and Creator Brand'.\n",
      "Warning: Target note 'career' not found for note 'AMOC - My Brand, My Niche and Creator Brand'.\n",
      "Warning: Target note '2024-10-07' not found for note 'AMOC - My Brand, My Niche and Creator Brand'.\n",
      "Warning: Target note '2024-10-13 - ig for family and fun activties' not found for note 'AMOC - My Brand, My Niche and Creator Brand'.\n",
      "Warning: Target note 'learning in public' not found for note 'AMOC - My Brand, My Niche and Creator Brand'.\n",
      "Warning: Target note 'niche is me learning' not found for note 'AMOC - My Brand, My Niche and Creator Brand'.\n",
      "Warning: Target note '2024-10-06 - focus and thinking' not found for note 'AMOC - My Brand, My Niche and Creator Brand'.\n",
      "Warning: Target note '2024-10-06 - meta habits' not found for note 'AMOC - My Brand, My Niche and Creator Brand'.\n",
      "Warning: Target note '2024-10-08 - github learning' not found for note 'AMOC - My Brand, My Niche and Creator Brand'.\n",
      "Warning: Target note '2024-10-10 - learning and building over content' not found for note 'AMOC - My Brand, My Niche and Creator Brand'.\n",
      "Warning: Target note '2024-10-05 - finding learning in public path' not found for note 'AMOC - My Brand, My Niche and Creator Brand'.\n",
      "Warning: Target note '2024-10-12 - network ideas' not found for note 'AMOC - My Brand, My Niche and Creator Brand'.\n",
      "Warning: Target note 'more time' not found for note 'AMOC - My Brand, My Niche and Creator Brand'.\n",
      "Warning: Target note 'linked in' not found for note 'AMOC - My Brand, My Niche and Creator Brand'.\n",
      "Warning: Target note 'daily learning snippets' not found for note 'AMOC - My Brand, My Niche and Creator Brand'.\n",
      "Warning: Target note '2024-10-04 - instagram' not found for note 'AMOC - My Brand, My Niche and Creator Brand'.\n",
      "Warning: Target note 'time series AI over augmented engineer' not found for note 'AMOC - My Brand, My Niche and Creator Brand'.\n",
      "Warning: Target note '2024-09-27 - learning is priority' not found for note 'AMOC - My Brand, My Niche and Creator Brand'.\n",
      "Warning: Target note 'ai - drop second brain public for now' not found for note 'AMOC - My Brand, My Niche and Creator Brand'.\n",
      "Warning: Target note '2024-09-20 - Podcast niche' not found for note 'AMOC - My Brand, My Niche and Creator Brand'.\n",
      "Warning: Target note 'DE' not found for note 'AMOC - My Brand, My Niche and Creator Brand'.\n",
      "Warning: Target note 'AI' not found for note 'AMOC - My Brand, My Niche and Creator Brand'.\n",
      "Warning: Target note 'merging content with learning' not found for note 'AMOC - My Brand, My Niche and Creator Brand'.\n",
      "Warning: Target note 'podcast thoughts' not found for note 'AMOC - My Brand, My Niche and Creator Brand'.\n",
      "Warning: Target note '2024-09-21 -slow down podcast' not found for note 'AMOC - My Brand, My Niche and Creator Brand'.\n",
      "Warning: Target note '2024-09-24 - Trader' not found for note 'AMOC - My Brand, My Niche and Creator Brand'.\n",
      "Warning: Target note '2024-09-23 - deprioritize podcast' not found for note 'AMOC - My Brand, My Niche and Creator Brand'.\n",
      "Warning: Target note '2024-09-14 - high' not found for note 'AMOC - My Brand, My Niche and Creator Brand'.\n",
      "Warning: Target note 'linked in newsletter' not found for note 'AMOC - My Brand, My Niche and Creator Brand'.\n",
      "Warning: Target note 'de' not found for note 'AMOC - My Brand, My Niche and Creator Brand'.\n",
      "Warning: Target note 'ultralearning ai research' not found for note 'AMOC - My Brand, My Niche and Creator Brand'.\n",
      "Warning: Target note 'venting' not found for note 'AMOC - My Brand, My Niche and Creator Brand'.\n",
      "Warning: Target note 'focus on learning' not found for note 'AMOC - My Brand, My Niche and Creator Brand'.\n",
      "Warning: Target note 'content' not found for note 'AMOC - My Brand, My Niche and Creator Brand'.\n",
      "Warning: Target note '2024-09-17 - ultralearning' not found for note 'AMOC - My Brand, My Niche and Creator Brand'.\n",
      "Warning: Target note '2024-09-24 - trader' not found for note 'AMOC - My Brand, My Niche and Creator Brand'.\n",
      "Warning: Target note 'Writing Journals' not found for note 'AMOC - My Brand, My Niche and Creator Brand'.\n",
      "Warning: Target note '2024-09-10 - narrow my focus' not found for note 'AMOC - My Brand, My Niche and Creator Brand'.\n",
      "Warning: Target note 'keep schedule' not found for note 'AMOC - My Brand, My Niche and Creator Brand'.\n",
      "Warning: Target note '2024-09-11 - focus' not found for note 'AMOC - My Brand, My Niche and Creator Brand'.\n",
      "Warning: Target note '(deprecated) MOC - Creator' not found for note 'AMOC - My Brand, My Niche and Creator Brand'.\n",
      "Warning: Target note 'augmented engineer niche' not found for note 'AMOC - My Brand, My Niche and Creator Brand'.\n",
      "Warning: Target note 'essentialism' not found for note 'AMOC - My Brand, My Niche and Creator Brand'.\n",
      "Warning: Target note '2024-09-12 - Thinking on podcast' not found for note 'AMOC - My Brand, My Niche and Creator Brand'.\n",
      "Warning: Target note '2024-09-12 - focus two missions north star' not found for note 'AMOC - My Brand, My Niche and Creator Brand'.\n",
      "Warning: Target note 'MOC - My Podcast - Bits of Chris#2024-08-03 - Podcast Concept' not found for note 'AMOC - My Brand, My Niche and Creator Brand'.\n",
      "Warning: Target note 'Writing Journals#Content Focus' not found for note 'AMOC - My Brand, My Niche and Creator Brand'.\n",
      "Warning: Target note '2024-08-08 - Claude - Podcast' not found for note 'AMOC - My Brand, My Niche and Creator Brand'.\n",
      "Warning: Target note 'amplify career' not found for note 'AMOC - My Brand, My Niche and Creator Brand'.\n",
      "Warning: Target note 'balance time' not found for note 'AMOC - My Brand, My Niche and Creator Brand'.\n",
      "Warning: Target note '(deprecated) MOC - Creator' not found for note 'AMOC - My Brand, My Niche and Creator Brand'.\n",
      "Warning: Target note 'niche' not found for note 'AMOC - My Brand, My Niche and Creator Brand'.\n",
      "Warning: Target note 'journal reflection on 3 high leverage things#Niche or categories' not found for note 'AMOC - My Brand, My Niche and Creator Brand'.\n",
      "Warning: Target note 'github' not found for note 'AMOC - My Brand, My Niche and Creator Brand'.\n",
      "Warning: Target note '2024-07-24 - plan forward' not found for note 'AMOC - My Brand, My Niche and Creator Brand'.\n",
      "Warning: Target note 'ai for de' not found for note 'AMOC - My Brand, My Niche and Creator Brand'.\n",
      "Warning: Target note '2024-07-18 - stuck' not found for note 'AMOC - My Brand, My Niche and Creator Brand'.\n",
      "Warning: Target note 'overwhelm' not found for note 'AMOC - My Brand, My Niche and Creator Brand'.\n",
      "Warning: Target note 'Writing Journals#2024-07-23 - Time Series Role' not found for note 'AMOC - My Brand, My Niche and Creator Brand'.\n",
      "Warning: Target note '(deprecated) MOC - Creator' not found for note 'AMOC - My Brand, My Niche and Creator Brand'.\n",
      "Warning: Target note 'Augmented Engineer' not found for note 'AMOC - My Brand, My Niche and Creator Brand'.\n",
      "Warning: Target note 'Substack' not found for note 'AMOC - My Brand, My Niche and Creator Brand'.\n",
      "Warning: Target note 'Old Social Bio - Twitter' not found for note 'AMOC - My Brand, My Niche and Creator Brand'.\n",
      "Warning: Target note 'Youtube#Claude Revision (with my edits)' not found for note 'AMOC - My Brand, My Niche and Creator Brand'.\n",
      "Warning: Target note 'Claude - Niche Golden Circle Exercise' not found for note 'AMOC - My Brand, My Niche and Creator Brand'.\n",
      "Warning: Target note 'Podcast' not found for note 'AMOC - My Brand, My Niche and Creator Brand'.\n",
      "Warning: Target note 'Perplexity' not found for note 'AMOC - My Brand, My Niche and Creator Brand'.\n",
      "Warning: Target note 'Corp Dev' not found for note 'AMOC - My Brand, My Niche and Creator Brand'.\n",
      "Warning: Target note '2024-07-16 - My Sustainable Niche' not found for note 'AMOC - My Brand, My Niche and Creator Brand'.\n",
      "Warning: Target note 'Relax into MY niche' not found for note 'AMOC - My Brand, My Niche and Creator Brand'.\n",
      "Warning: Target note '2024-07-14 - Bits of Chris - Augment Focus' not found for note 'AMOC - My Brand, My Niche and Creator Brand'.\n",
      "Warning: Target note '2024-07-13 - No Twitter' not found for note 'AMOC - My Brand, My Niche and Creator Brand'.\n",
      "Warning: Target note '2024-07-06 - Reflecting on My Niche Bits of Chris#Full Bio - Final' not found for note 'AMOC - My Brand, My Niche and Creator Brand'.\n",
      "Warning: Target note 'Homework For Life' not found for note 'MOC - Storytelling'.\n",
      "Warning: Target note 'Storytelling' not found for note 'MOC - Storytelling'.\n",
      "Warning: Target note 'Storyworthy with Matthew Dicks' not found for note 'MOC - Storytelling'.\n",
      "Warning: Target note 'Template - Anatomy of a Story' not found for note 'MOC - Storytelling'.\n",
      "Warning: Target note 'Main MOC - Chris On Data' not found for note 'MOC - AI for Thinkers - Augmented Learner Tools and Brand'.\n",
      "Warning: Target note 'DONE PMOC - Train LLM on My Data#Content Ideas' not found for note 'MOC - AI for Thinkers - Augmented Learner Tools and Brand'.\n",
      "Warning: Target note 'Projects' not found for note 'MOC - AI for Thinkers - Augmented Learner Tools and Brand'.\n",
      "Warning: Target note 'Archived - My Learning' not found for note 'MOC - AI for Thinkers - Augmented Learner Tools and Brand'.\n",
      "Warning: Target note '& Skills to Develop' not found for note 'MOC - AI for Thinkers - Augmented Learner Tools and Brand'.\n",
      "Warning: Target note 'tweet ideas' not found for note 'MOC - AI for Thinkers - Augmented Learner Tools and Brand'.\n",
      "Warning: Target note '2024-05-30 - Augmented Writer' not found for note 'MOC - AI for Thinkers - Augmented Learner Tools and Brand'.\n",
      "Warning: Target note '2024-05-30 - Be Augmented' not found for note 'MOC - AI for Thinkers - Augmented Learner Tools and Brand'.\n",
      "Warning: Target note '2024-05-30 - Augmented Plan' not found for note 'MOC - AI for Thinkers - Augmented Learner Tools and Brand'.\n",
      "Warning: Target note 'BoC - Niche now' not found for note 'MOC - AI for Thinkers - Augmented Learner Tools and Brand'.\n",
      "Warning: Target note 'Substack' not found for note 'MOC - AI for Thinkers - Augmented Learner Tools and Brand'.\n",
      "Warning: Target note 'Old Social Bio - Twitter' not found for note 'MOC - AI for Thinkers - Augmented Learner Tools and Brand'.\n",
      "Warning: Target note 'projects' not found for note 'MOC - AI for Thinkers - Augmented Learner Tools and Brand'.\n",
      "Warning: Target note 'Youtube' not found for note 'MOC - AI for Thinkers - Augmented Learner Tools and Brand'.\n",
      "Warning: Target note '2024-08-08 - Podcast Niche Recap' not found for note 'MOC - Podcast Description & Intro'.\n",
      "Warning: Target note '2024-03-27 - Podcast in Tech' not found for note 'Podcast - 30 day challenge - Bits of Chris Show'.\n",
      "Warning: Target note 'Core Career and Investing' not found for note 'Podcast - 30 day challenge - Bits of Chris Show'.\n",
      "Warning: Target note '2024-03-02 - Podcast Thoughts' not found for note 'Podcast - 30 day challenge - Bits of Chris Show'.\n",
      "Warning: Target note '2024-03-01 - Solo Podcast' not found for note 'Podcast - 30 day challenge - Bits of Chris Show'.\n",
      "Warning: Target note '2-Reference/Books/How to Take Smart Notes' not found for note '27 - How to take Smart Notes to Build your Second Brain'.\n",
      "Warning: Target note '2-Reference/Books/How to Take Smart Notes' not found for note '27 - How to take Smart Notes to Build your Second Brain'.\n",
      "Warning: Target note 'Augmented Intelligence for Engineers#Perplexity Thread Learning Demo' not found for note 'Quick Bits - 2024-08-09'.\n",
      "Warning: Target note 'playing 3d chess' not found for note 'Quick Bits - 2024-08-09'.\n",
      "Warning: Target note 'The Look when I'm smarter' not found for note 'Quick Bits - 2024-08-09'.\n",
      "Warning: Target note 'psychology of money' not found for note '17 - Wealth is What You Don't See- How to Avoid Lifestyle Creep'.\n",
      "Warning: Target note 'psychology of money' not found for note '17 - Wealth is What You Don't See- How to Avoid Lifestyle Creep'.\n",
      "Warning: Target note 'Balance Create' not found for note '30 - Reflecting on 30 days of Podcasting'.\n",
      "Warning: Target note 'Learn Do Reflect' not found for note '30 - Reflecting on 30 days of Podcasting'.\n",
      "Warning: Target note 'Think' not found for note '30 - Reflecting on 30 days of Podcasting'.\n",
      "Warning: Target note 'Consume Triad' not found for note '30 - Reflecting on 30 days of Podcasting'.\n",
      "Warning: Target note 'Homework For Life' not found for note 'Quick Bits - 2024-08-16'.\n",
      "Warning: Target note 'Homework For Life' not found for note 'Quick Bits - 2024-08-16'.\n",
      "Warning: Target note 'One Non-technical Book That Accelerated My Career and Helped Me as a Dad - Mindset' not found for note '0 - Quick Bits - 2024-08-30 - Learning'.\n",
      "Warning: Target note 'Active' not found for note '0 - Quick Bits - 2024-08-30 - Learning'.\n",
      "Warning: Target note 'intentional learning' not found for note '0 - Quick Bits - 2024-08-30 - Learning'.\n",
      "Warning: Target note 'Just-in-time' not found for note '0 - Quick Bits - 2024-08-30 - Learning'.\n",
      "Warning: Target note 'MOC - Better Thinking' not found for note '0 - Quick Bits - 2024-08-30 - Learning'.\n",
      "Warning: Target note 'Meta Learning' not found for note '0 - Quick Bits - 2024-08-30 - Learning'.\n",
      "Warning: Target note 'Tanya on Learning' not found for note '0 - Quick Bits - 2024-08-30 - Learning'.\n",
      "Warning: Target note 'Sorry kept marriage secret' not found for note '23 - The Night I met My Wife, Thank You Dad'.\n",
      "Warning: Target note 'Thank You Dad - Meeting my Wife' not found for note '23 - The Night I met My Wife, Thank You Dad'.\n",
      "Warning: Target note 'Homework For Life' not found for note '0 - Quick Bits - 2024-09-13 - start your second brain'.\n",
      "Warning: Target note 'Slow to adopt Smart phone' not found for note '24 - It's Time to Say Bye to Hive and Upgrade to Iceberg'.\n",
      "Warning: Target note 'growth mindset' not found for note '19 - Love Failure'.\n",
      "Warning: Target note 'growth mindset' not found for note '19 - Love Failure'.\n",
      "Warning: Target note 'Projects' not found for note 'Documentation ChatBot'.\n",
      "Warning: Target note '& Skills to Develop' not found for note 'Documentation ChatBot'.\n",
      "Warning: Target note 'Archived - My Learning' not found for note 'Documentation ChatBot'.\n",
      "Warning: Target note '(deprecated) Journal - Tech FIRE - WFHFIRE -#2024-01-24' not found for note 'Book Content Map - 5.5 Hour Work Day'.\n",
      "Warning: Target note 'WFHFIRE - Category POV - v1' not found for note 'Book Content Map - 5.5 Hour Work Day'.\n",
      "Warning: Target note '2023-11-22 - Journey to Dev Life Balance' not found for note 'Book Content Map - 5.5 Hour Work Day'.\n",
      "Warning: Target note 'Balance Create' not found for note 'Book Content Map - 5.5 Hour Work Day'.\n",
      "Warning: Target note 'Learn Do Reflect' not found for note 'Book Content Map - 5.5 Hour Work Day'.\n",
      "Warning: Target note 'Think' not found for note 'Book Content Map - 5.5 Hour Work Day'.\n",
      "Warning: Target note 'Consume Triad' not found for note 'Book Content Map - 5.5 Hour Work Day'.\n",
      "Warning: Target note '& Skills to Develop' not found for note 'Remote Manager Copilot - Remote Monitoring'.\n",
      "Warning: Target note 'Projects' not found for note 'Remote Manager Copilot - Remote Monitoring'.\n",
      "Warning: Target note 'Archived - My Learning' not found for note 'Remote Manager Copilot - Remote Monitoring'.\n",
      "Warning: Target note 'augmented learner' not found for note 'Idea Validation Pipeline'.\n",
      "Warning: Target note 'ai for real life ideas' not found for note 'Idea Validation Pipeline'.\n",
      "Warning: Target note 'video' not found for note 'Idea Validation Pipeline'.\n",
      "Warning: Target note '2024-06-18 - idea validation first' not found for note 'Idea Validation Pipeline'.\n",
      "Warning: Target note '2024-01-28 - Remote Engineers - Audience' not found for note 'MOC - Remote Engineers Club'.\n",
      "Warning: Target note '2024-01-27 - Remote Engineers Club Idea' not found for note 'MOC - Remote Engineers Club'.\n",
      "Warning: Target note '2024-05-26 - Summary and Next' not found for note 'AI on the Blockchain'.\n",
      "Warning: Target note 'My PKM and Task Management System' not found for note 'WFH Productivity System'.\n",
      "Warning: Target note '& Skills to Develop' not found for note 'Platitude Bot Project'.\n",
      "Warning: Target note 'Projects' not found for note 'Platitude Bot Project'.\n",
      "Warning: Target note 'Archived - My Learning' not found for note 'Platitude Bot Project'.\n",
      "Warning: Target note 'Lead Magnet' not found for note 'MOC - AE3 - Augmented Engineer Exercises'.\n",
      "Warning: Target note 'MOC - Capture Ideas' not found for note 'MOC - AE3 - Augmented Engineer Exercises'.\n",
      "Warning: Target note 'How I Write Notes - David Perell#Train Like Athlete - Day 9' not found for note 'MOC - AE3 - Augmented Engineer Exercises'.\n",
      "Warning: Target note '2024-06-16 - start up' not found for note 'Meme Coin for Creators'.\n",
      "Warning: Target note '2024-06-15 - dont publish high' not found for note 'Meme Coin for Creators'.\n",
      "Warning: Target note 'fathers day' not found for note 'Meme Coin for Creators'.\n",
      "Warning: Target note 'learn do share' not found for note 'Meme Coin for Creators'.\n",
      "Warning: Target note 'dont rush to quit' not found for note 'Meme Coin for Creators'.\n",
      "Warning: Target note '2024-06-08 - Augmented Writer thinking#Meme coin idea' not found for note 'Meme Coin for Creators'.\n",
      "Warning: Target note 'podcast' not found for note 'Meme Coin for Creators'.\n",
      "Warning: Target note 'Holding Company' not found for note 'AI Data Processing Platform - Summarization'.\n",
      "Warning: Target note 'Augmented Empire Community' not found for note 'AI Data Processing Platform - Summarization'.\n",
      "Warning: Target note 'AI Startup' not found for note 'AI Data Processing Platform - Summarization'.\n",
      "Warning: Target note 'Projects' not found for note 'AI Data Processing Platform - Summarization'.\n",
      "Warning: Target note 'Archived - My Learning' not found for note 'AI Data Processing Platform - Summarization'.\n",
      "Warning: Target note '& Skills to Develop' not found for note 'AI Data Processing Platform - Summarization'.\n",
      "Warning: Target note 'MOC - Moonshot Ideas' not found for note 'AI Data Processing Platform - Summarization'.\n",
      "Warning: Target note '& Skills to Develop' not found for note 'LLM Text Adventures'.\n",
      "Warning: Target note 'Archived - My Learning' not found for note 'LLM Text Adventures'.\n",
      "Warning: Target note 'Projects' not found for note 'LLM Text Adventures'.\n",
      "Warning: Target note '& Skills to Develop' not found for note 'Context Aware AI Project Manager'.\n",
      "Warning: Target note 'Projects' not found for note 'Context Aware AI Project Manager'.\n",
      "Warning: Target note 'Archived - My Learning' not found for note 'Context Aware AI Project Manager'.\n",
      "Warning: Target note '2-Reference/Writing Skills/Ship30For30/My Observations' not found for note 'Build a Community'.\n",
      "Warning: Target note '& Skills to Develop' not found for note 'LLM Story Extractor Book Editor'.\n",
      "Warning: Target note 'Projects' not found for note 'LLM Story Extractor Book Editor'.\n",
      "Warning: Target note 'Archived - My Learning' not found for note 'LLM Story Extractor Book Editor'.\n",
      "Warning: Target note 'crypto rebalance' not found for note 'AI Startup Ideas - Data Pruning - quality data for models - AGI - open source augmentation'.\n",
      "Warning: Target note '2024-10-xx - Otter - ai data Eng' not found for note 'AI Startup Ideas - Data Pruning - quality data for models - AGI - open source augmentation'.\n",
      "Warning: Target note 'career' not found for note 'AI Startup Ideas - Data Pruning - quality data for models - AGI - open source augmentation'.\n",
      "Warning: Target note 'augmented tool' not found for note 'AI Startup Ideas - Data Pruning - quality data for models - AGI - open source augmentation'.\n",
      "Warning: Target note '2024-09-08 - high' not found for note 'AI Startup Ideas - Data Pruning - quality data for models - AGI - open source augmentation'.\n",
      "Warning: Target note 'open source company' not found for note 'AI Startup Ideas - Data Pruning - quality data for models - AGI - open source augmentation'.\n",
      "Warning: Target note '2024-09-07 - got high' not found for note 'AI Startup Ideas - Data Pruning - quality data for models - AGI - open source augmentation'.\n",
      "Warning: Target note 'podcast with more women#augmented open source' not found for note 'AI Startup Ideas - Data Pruning - quality data for models - AGI - open source augmentation'.\n",
      "Warning: Target note 'open source' not found for note 'AI Startup Ideas - Data Pruning - quality data for models - AGI - open source augmentation'.\n",
      "Warning: Target note 'audio note - data decay problem' not found for note 'AI Startup Ideas - Data Pruning - quality data for models - AGI - open source augmentation'.\n",
      "Warning: Target note 'politics#AI Startup idea again - focus on EVAL opensource' not found for note 'AI Startup Ideas - Data Pruning - quality data for models - AGI - open source augmentation'.\n",
      "Warning: Target note 'crypto options' not found for note 'AI Startup Ideas - Data Pruning - quality data for models - AGI - open source augmentation'.\n",
      "Warning: Target note '2024-08-23 - ai eval' not found for note 'AI Startup Ideas - Data Pruning - quality data for models - AGI - open source augmentation'.\n",
      "Warning: Target note 'augmented writer' not found for note 'AI Startup Ideas - Data Pruning - quality data for models - AGI - open source augmentation'.\n",
      "Warning: Target note 'zapier agents' not found for note 'AR Glasses with LLMs'.\n",
      "Warning: Target note 'DD podcast#AR Glasses' not found for note 'AR Glasses with LLMs'.\n",
      "Warning: Target note '2024-06-14 - AR' not found for note 'AR Glasses with LLMs'.\n",
      "Warning: Target note '& Skills to Develop' not found for note 'Airbyte for AI Models API Unified'.\n",
      "Warning: Target note 'Projects' not found for note 'Airbyte for AI Models API Unified'.\n",
      "Warning: Target note 'Archived - My Learning' not found for note 'Airbyte for AI Models API Unified'.\n",
      "Warning: Target note '(deprecated) Journal - Chris Lettieri - Augmented Engineer#2023-12-31 - My Routine' not found for note 'Building a Digital Business'.\n",
      "Warning: Target note 'Tim ferriss Podcast Transcripts - Augmented Learning project idea' not found for note 'MOC - Augmented Learning Tooling - Ideas and Vision'.\n",
      "Warning: Target note 'open source' not found for note 'MOC - Augmented Learning Tooling - Ideas and Vision'.\n",
      "Warning: Target note 'spark' not found for note 'MOC - Augmented Learning Tooling - Ideas and Vision'.\n",
      "Warning: Target note '2024-09-09 - augmented learning tools' not found for note 'MOC - Augmented Learning Tooling - Ideas and Vision'.\n",
      "Warning: Target note 'Tim ferriss Podcast Transcripts - Augmented Learning project idea' not found for note 'MOC - Augmented Learning Tooling - Ideas and Vision'.\n",
      "Warning: Target note '2024-08-23 - ai eval' not found for note 'Project MOC - Novel - Augmented Writer'.\n",
      "Warning: Target note 'politics#I need that usb drive back.' not found for note 'Project MOC - Novel - Augmented Writer'.\n",
      "Warning: Target note 'crypto options' not found for note 'Project MOC - Novel - Augmented Writer'.\n",
      "Warning: Target note '2024-07-27 - Written Journal#Augmetned Writer' not found for note 'Project MOC - Novel - Augmented Writer'.\n",
      "Warning: Target note 'politics#Phil the Hero' not found for note 'Project MOC - Novel - Augmented Writer'.\n",
      "Warning: Target note 'augmented writer' not found for note 'Project MOC - Novel - Augmented Writer'.\n",
      "Warning: Target note 'Ethan DVD Surprise - Notes' not found for note 'Outline StaffPlus Talk - Notes'.\n",
      "Warning: Target note 'Parenting two toddlers Staff Eng Migrations' not found for note 'Iceberg Summit 2024'.\n",
      "Warning: Target note 'Ethan DVD Surprise - Story#Script' not found for note 'MOC - StaffPlus Talk'.\n",
      "Warning: Target note '2024-09 - StaffPlus Conference HW' not found for note 'MOC - StaffPlus Talk'.\n",
      "Warning: Target note 'Ethan DVD Surprise - Notes' not found for note 'MOC - StaffPlus Talk'.\n",
      "Warning: Target note 'Ethan DVD Surprise - Notes' not found for note 'MOC - StaffPlus Talk'.\n",
      "Warning: Target note 'Ethan DVD Surprise - Notes' not found for note 'StaffPlus Talk - Script'.\n",
      "Warning: Target note 'Ethan DVD Surprise - Story' not found for note 'StaffPlus Talk - Script'.\n",
      "Warning: Target note '2024-05-15 - night out at ricks' not found for note 'married man strip club'.\n",
      "Warning: Target note 'DE AI Markets' not found for note 'CT Exercise - Chris Lettieri - AI Data Engineer'.\n",
      "Warning: Target note '2024-04-01 - Found my Niche Trio' not found for note 'CT Exercise - Chris Lettieri - AI Data Engineer'.\n",
      "Warning: Target note 'Category POV' not found for note 'CT Exercise - Chris Lettieri - AI Data Engineer'.\n",
      "Warning: Target note '2024-01-05 - Data Engineering and Trading' not found for note 'Staff Eng Investor'.\n",
      "Warning: Target note '2024-03-14 - Vision' not found for note 'Staff Eng Investor'.\n",
      "Warning: Target note '2024-03-13 - Trading' not found for note 'Staff Eng Investor'.\n",
      "Warning: Target note 'Investing coming up again' not found for note 'Staff Eng Investor'.\n",
      "Warning: Target note 'AI Trading Problems to Explore' not found for note 'AMOC - Trading'.\n",
      "Warning: Target note '2024-08-23 - ai eval' not found for note 'AMOC - Trading'.\n",
      "Warning: Target note 'politics#crypto options fund' not found for note 'AMOC - Trading'.\n",
      "Warning: Target note 'crypto options' not found for note 'AMOC - Trading'.\n",
      "Warning: Target note 'politics#Options Exit strategy' not found for note 'AMOC - Trading'.\n",
      "Warning: Target note 'augmented writer' not found for note 'AMOC - Trading'.\n",
      "Warning: Target note 'Swing Trading Ideas#2024-03-15' not found for note 'AMOC - Trading'.\n",
      "Warning: Target note '2024-03-01 - Crypto Leverage and BTC not Green' not found for note 'AMOC - Trading'.\n",
      "Warning: Target note '2024-02-28 - Crypto Heating Up' not found for note 'AMOC - Trading'.\n",
      "Warning: Target note 'Remote Crypto Fund' not found for note 'AMOC - Trading'.\n",
      "Warning: Target note '2024-02-02 - Go Deep on Solana' not found for note 'AMOC - Trading'.\n",
      "Warning: Target note 'Ideas - Dapp And Trading#Meme Coins' not found for note 'PMOC - Solana Meme Coin Momentum'.\n",
      "Warning: Target note '3-MOCs and Projects/Projects/Trading and Crypto/Later List' not found for note 'Ideas - Dapp And Trading'.\n",
      "Warning: Target note 'AMOC - Trading#2024-02-12' not found for note 'Ideas - Dapp And Trading'.\n",
      "Warning: Target note 'Remote Crypto Fund' not found for note 'Ideas - Dapp And Trading'.\n",
      "Warning: Target note '2024-02-02 - Go Deep on Solana' not found for note 'Ideas - Dapp And Trading'.\n",
      "Warning: Target note 'Joyspan' not found for note 'PMOC - DeFi Quant - Trading - Crypto'.\n",
      "Warning: Target note '2024-02-02 - Updated My Voices#**Crypto Trading - Solana DEX focus**' not found for note 'PMOC - DeFi Quant - Trading - Crypto'.\n",
      "Warning: Target note 'ChatGPT - Category POV - WFHFIRE' not found for note 'PMOC - DeFi Quant - Trading - Crypto'.\n",
      "Warning: Target note 'Defi Quant' not found for note 'PMOC - DeFi Quant - Trading - Crypto'.\n",
      "Warning: Target note 'energy' not found for note 'Later List'.\n",
      "Warning: Target note '2024-02-02 - Go Deep on Solana' not found for note 'Later List'.\n",
      "Warning: Target note 'Remote Crypto Fund#Use my intellect' not found for note 'Later List'.\n",
      "Warning: Target note 'and effort to be rich and anonymous' not found for note 'Later List'.\n",
      "Warning: Target note 'Ideas - Dapp And Trading#Meme Coins' not found for note '2024-02-04 - Creating a Token'.\n",
      "Warning: Target note 'Ideas - Dapp And Trading#DEX Arbitrage' not found for note 'Solana GitHub Repos'.\n",
      "Warning: Target note 'Time Rich Investing - Joy Span' not found for note 'MOC - Feb 2024 - Bits of Chris Writing'.\n",
      "Warning: Target note 'CT Exercise - WFHFIRE v2' not found for note 'MOC - Feb 2024 - Bits of Chris Writing'.\n",
      "Warning: Target note 'joyspan' not found for note 'MOC - Feb 2024 - Bits of Chris Writing'.\n",
      "Warning: Target note '2024-02-02 - Updated My Voices#Chris Lumen' not found for note 'MOC - Feb 2024 - Bits of Chris Writing'.\n",
      "Warning: Target note '(deprecated) Journal - Bits of Chris' not found for note 'MOC - Feb 2024 - Bits of Chris Writing'.\n",
      "Warning: Target note '2024-02-09 - Lumen Writing Back' not found for note 'MOC - Feb 2024 - Bits of Chris Writing'.\n",
      "Warning: Target note '2024-02-11 - Two Main Voices' not found for note 'MOC - Feb 2024 - Bits of Chris Writing'.\n",
      "Warning: Target note '2024-01-11 - Writing' not found for note 'MOC - Feb 2024 - Bits of Chris Writing'.\n",
      "Warning: Target note 'what do i want to learn' not found for note 'MOC - Feb 2024 - Bits of Chris Writing'.\n",
      "Warning: Target note 'MOC - Category POV - Joyspan - wfhfire v2' not found for note 'MOC - WFHFIRE - Time Rich Investing'.\n",
      "Warning: Target note 'CT Exercise - WFHFIRE  v1' not found for note 'MOC - WFHFIRE - Time Rich Investing'.\n",
      "Warning: Target note 'WFHFIRE - Category POV - v1' not found for note 'MOC - WFHFIRE - Time Rich Investing'.\n",
      "Warning: Target note 'WFHFIRE - Category POV - v1' not found for note 'MOC - WFHFIRE - Time Rich Investing'.\n",
      "Warning: Target note '2024-02-02 - Updated My Voices' not found for note 'MOC - WFHFIRE - Time Rich Investing'.\n",
      "Warning: Target note '2024-01-19 - Brining Tech Fat FIRE Back' not found for note 'MOC - WFHFIRE - Time Rich Investing'.\n",
      "Warning: Target note '(deprecated) Journal - Tech FIRE - WFHFIRE -' not found for note 'MOC - WFHFIRE - Time Rich Investing'.\n",
      "Warning: Target note 'Category problems - Tech Fat Fire' not found for note 'MOC - WFHFIRE - Time Rich Investing'.\n",
      "Warning: Target note 'CTOs Who Write' not found for note 'MOC - Augmented Engineer - Tasks and Post Ideas'.\n",
      "Warning: Target note 'Adapt to ai starter guide' not found for note 'MOC - Augmented Engineer - Tasks and Post Ideas'.\n",
      "Warning: Target note 'LONG - AE Book' not found for note 'MOC - Augmented Engineer - Tasks and Post Ideas'.\n",
      "Warning: Target note 'Writing Journals#2024-02-11' not found for note 'MOC - Augmented Engineer - Tasks and Post Ideas'.\n",
      "Warning: Target note 'Idea File - The Augmented Engineer' not found for note 'MOC - Augmented Engineer - Tasks and Post Ideas'.\n",
      "Warning: Target note '2024-02-12 - Thinking Through Organizing my Writing Platforms 1' not found for note 'MOC - Augmented Engineer - Tasks and Post Ideas'.\n",
      "Warning: Target note '2024-02-22 - Focus on AE Now' not found for note 'MOC - Augmented Engineer - Tasks and Post Ideas'.\n",
      "Warning: Target note '2024-02-12 - Thinking Through Organizing my Writing Platforms' not found for note 'MOC - Augmented Engineer - Tasks and Post Ideas'.\n",
      "Warning: Target note '(deprecated) MOC - Creator' not found for note 'MOC - Augmented Engineer - Tasks and Post Ideas'.\n",
      "Warning: Target note '2024-02-11 - Two Main Voices#Chris - AE / LinkedIn' not found for note 'MOC - Augmented Engineer - Tasks and Post Ideas'.\n",
      "Warning: Target note 'MOC - Category POV - AE - Augmented Engineer' not found for note 'MOC - Augmented Engineer - Tasks and Post Ideas'.\n",
      "Warning: Target note 'CT - Level 2 Notes#How to Expand' not found for note 'MOC - Augmented Engineer - Tasks and Post Ideas'.\n",
      "Warning: Target note '2024-03-21 - Be Chris Lettieri DD Staff Engineer' not found for note 'MOC - LinkedIn - Chris Lettieri'.\n",
      "Warning: Target note 'Why I Take Risk To Write On LinkedIn' not found for note 'MOC - LinkedIn - Chris Lettieri'.\n",
      "Warning: Target note 'Consumer to Producer' not found for note 'MOC - LinkedIn - Chris Lettieri'.\n",
      "Warning: Target note 'My Why' not found for note 'MOC - LinkedIn - Chris Lettieri'.\n",
      "Warning: Target note 'Frank Matthews Comedy' not found for note 'MOC - LinkedIn - Chris Lettieri'.\n",
      "Warning: Target note '2024-03-26 - Chris Lettieri DE Niche' not found for note 'MOC - LinkedIn - Chris Lettieri'.\n",
      "Warning: Target note 'DD' not found for note 'MOC - LinkedIn - Chris Lettieri'.\n",
      "Warning: Target note 'LinkedIn**' not found for note 'MOC - LinkedIn - Chris Lettieri'.\n",
      "Warning: Target note '2024-02-02 - Updated My Voices#**Chris Lettieri' not found for note 'MOC - LinkedIn - Chris Lettieri'.\n",
      "Warning: Target note 'Adapt to ai starter guide' not found for note 'Later List'.\n",
      "Warning: Target note '2024-01-28 - Remote Engineers - Audience' not found for note 'Later List'.\n",
      "Warning: Target note 'LONG - AE Book' not found for note 'Later List'.\n",
      "Warning: Target note 'Main MOC - Chris On Data' not found for note 'MOC - Niche Ideas'.\n",
      "Warning: Target note 'Dad' not found for note 'MOC - Niche Ideas'.\n",
      "Warning: Target note 'Learner' not found for note 'MOC - Niche Ideas'.\n",
      "Warning: Target note 'Engineer#Augmetned Learner -> finding hujmantity as we adapt to AI' not found for note 'MOC - Niche Ideas'.\n",
      "Warning: Target note '2024-05-26 - Defining BoC AI Niche' not found for note 'MOC - Niche Ideas'.\n",
      "Warning: Target note '2024-05-26 - Summary and Next' not found for note 'MOC - Niche Ideas'.\n",
      "Warning: Target note '2024-06-02 - Three Augmented Niches' not found for note 'MOC - Niche Ideas'.\n",
      "Warning: Target note 'Engineer#Augmented Dad' not found for note 'MOC - Niche Ideas'.\n",
      "Warning: Target note 'Learner' not found for note 'MOC - Niche Ideas'.\n",
      "Warning: Target note '2024-06-02 - Three Augmented Niches' not found for note 'MOC - Niche Ideas'.\n",
      "Warning: Target note 'Dad' not found for note 'MOC - Niche Ideas'.\n",
      "Warning: Target note 'Engineer#three main audiences' not found for note 'MOC - Niche Ideas'.\n",
      "Warning: Target note 'Learner' not found for note 'MOC - Niche Ideas'.\n",
      "Warning: Target note '2024-06-02 - Three Augmented Niches' not found for note 'MOC - Niche Ideas'.\n",
      "Warning: Target note 'Dad' not found for note 'MOC - Niche Ideas'.\n",
      "Warning: Target note '2024-06-12 - Augmented Mind' not found for note 'MOC - Niche Ideas'.\n",
      "Warning: Target note 'Validate ideas#Thinking - Augmented Mind/Learner' not found for note 'MOC - Niche Ideas'.\n",
      "Warning: Target note 'Augmented Writer' not found for note 'MOC - Niche Ideas'.\n",
      "Warning: Target note 'Be a Creator' not found for note 'MOC - Niche Ideas'.\n",
      "Warning: Target note '2024-05-29 - Focus on AI' not found for note 'MOC - Niche Ideas'.\n",
      "Warning: Target note 'MOC - Dopamine Log' not found for note 'dopamine post'.\n",
      "Warning: Target note 'my hobby' not found for note 'My Fear of Writing in Public'.\n",
      "Warning: Target note '2024-01-07 - Write as me' not found for note 'My Fear of Writing in Public'.\n",
      "Warning: Target note 'write for fun' not found for note 'My Fear of Writing in Public'.\n",
      "Warning: Target note 'AI is having your own army of junior coders' not found for note 'Role of Software Engineers Changing to overseer'.\n",
      "Warning: Target note 'MOC - Category POV - AE - Augmented Engineer' not found for note 'AI Frees Us From the Mundane - Is a Tool'.\n",
      "Warning: Target note 'Balance Create' not found for note 'pragmatic productivity - WFHFIRE'.\n",
      "Warning: Target note 'WFHFIRE - Category POV - v1' not found for note 'pragmatic productivity - WFHFIRE'.\n",
      "Warning: Target note 'Learn Do Reflect' not found for note 'pragmatic productivity - WFHFIRE'.\n",
      "Warning: Target note 'Think' not found for note 'pragmatic productivity - WFHFIRE'.\n",
      "Warning: Target note 'Consume Triad' not found for note 'pragmatic productivity - WFHFIRE'.\n",
      "Warning: Target note 'Dad' not found for note 'how to find your tribe without getting lucky'.\n",
      "Warning: Target note 'find your niche ideas' not found for note 'how to find your tribe without getting lucky'.\n",
      "Warning: Target note '2024-05-11 - find your tribe thread' not found for note 'how to find your tribe without getting lucky'.\n",
      "Warning: Target note 'Learner' not found for note 'how to find your tribe without getting lucky'.\n",
      "Warning: Target note 'Engineer#Augmetned Learner -> finding hujmantity as we adapt to AI' not found for note 'how to find your tribe without getting lucky'.\n",
      "Warning: Target note '2024-06-02 - Three Augmented Niches' not found for note 'how to find your tribe without getting lucky'.\n",
      "Warning: Target note '2024-02-09 - Lumen Writing Back' not found for note 'why am I still unhappy won the money game'.\n",
      "Warning: Target note 'WFHFIRE - Category POV - v1' not found for note 'Time Freedom, not Retire Early'.\n",
      "Warning: Target note 'rest' not found for note 'naps remote work'.\n",
      "Warning: Target note 'Take naps' not found for note 'naps remote work'.\n",
      "Warning: Target note 'Can you Fat FIRE as just an employee' not found for note 'Do you need more than employee to be fat fire'.\n",
      "Warning: Target note 'Presentation Skills for Software Engineers' not found for note 'Give a good presentation'.\n",
      "Warning: Target note 'Specific Knowledge' not found for note 'iterating on my niche'.\n",
      "Warning: Target note 'Ikigai' not found for note 'iterating on my niche'.\n",
      "Warning: Target note 'Category' not found for note 'iterating on my niche'.\n",
      "Warning: Target note 'MOC - Exploring My Niche' not found for note 'iterating on my niche'.\n",
      "Warning: Target note 'Focus your Learning' not found for note 'MOC- Ship 30 for 30 Big Ideas'.\n",
      "Warning: Target note 'not too much at once' not found for note 'MOC- Ship 30 for 30 Big Ideas'.\n",
      "Warning: Target note '2-Reference/Writing Skills/Ship30For30/My Observations' not found for note 'MOC- Ship 30 for 30 Big Ideas'.\n",
      "Warning: Target note '2-Reference/Writing Skills/Ship30For30/Course Notes' not found for note 'MOC- Ship 30 for 30 Big Ideas'.\n",
      "Warning: Target note 'Just-in-time' not found for note 'finding niche, compounding many small steps'.\n",
      "Warning: Target note 'Active' not found for note 'finding niche, compounding many small steps'.\n",
      "Warning: Target note 'intentional learning#keep taking incremental steps' not found for note 'finding niche, compounding many small steps'.\n",
      "Warning: Target note 'Paul Graham Essays#Doing Good Work' not found for note 'my blueprint for being a part time creator as a full time software engineer'.\n",
      "Warning: Target note 'Just-in-time' not found for note 'my blueprint for being a part time creator as a full time software engineer'.\n",
      "Warning: Target note 'Active' not found for note 'my blueprint for being a part time creator as a full time software engineer'.\n",
      "Warning: Target note 'intentional learning' not found for note 'my blueprint for being a part time creator as a full time software engineer'.\n",
      "Warning: Target note 'Specific Knowledge' not found for note 'Quitting vs Iterating - Finding Your Niche Ikigai'.\n",
      "Warning: Target note 'Ikigai' not found for note 'Quitting vs Iterating - Finding Your Niche Ikigai'.\n",
      "Warning: Target note '2024-02-10 - Lumens Ikigai#Iterate - puzzle illustration - try new things' not found for note 'Quitting vs Iterating - Finding Your Niche Ikigai'.\n",
      "Warning: Target note 'MOC - Exploring My Niche' not found for note 'Quitting vs Iterating - Finding Your Niche Ikigai'.\n",
      "Warning: Target note 'Category' not found for note 'Quitting vs Iterating - Finding Your Niche Ikigai'.\n",
      "Warning: Target note '2024-02-10 - Lumens Ikigai' not found for note 'Quitting vs Iterating - Finding Your Niche Ikigai'.\n",
      "Warning: Target note '2024-01-05 - Data Engineering and Trading' not found for note 'My Trading Algo made 30k one afternoon but I still had to quit'.\n",
      "Warning: Target note 'How I Use AI In My Second Brain#Tools I use' not found for note 'My Tools That I Use'.\n",
      "Warning: Target note 'C4 Architecture Model' not found for note 'C4 Model with PlantUML'.\n",
      "Warning: Target note '2024-09 - StaffPlus Conference HW' not found for note 'Everybody is Faking it - Impostor Syndrome'.\n",
      "Warning: Target note '2024-01-05 - Data Engineering and Trading' not found for note 'How I transitioned to engineering from non tech'.\n",
      "Warning: Target note 'Play the Money Game not status' not found for note 'Reflections after 3 months of creating'.\n",
      "Warning: Target note 'Writing Journals' not found for note 'Reflections after 3 months of creating'.\n",
      "Warning: Target note '2024-03-29 - Staff DE with AI Newsletter' not found for note 'Reflections after 3 months of creating'.\n",
      "Warning: Target note '(deprecated) MOC - Creator' not found for note 'Reflections after 3 months of creating'.\n",
      "Warning: Target note 'Balance Create' not found for note 'new creators should ignore welsh and koe'.\n",
      "Warning: Target note 'Learn Do Reflect' not found for note 'new creators should ignore welsh and koe'.\n",
      "Warning: Target note 'Think' not found for note 'new creators should ignore welsh and koe'.\n",
      "Warning: Target note 'Consume Triad' not found for note 'new creators should ignore welsh and koe'.\n",
      "Warning: Target note 'Focus your Learning' not found for note 'Consume the same content'.\n",
      "Warning: Target note 'not too much at once' not found for note 'Consume the same content'.\n",
      "Warning: Target note 'ai plugins' not found for note 'AI Plugins for Obsidian'.\n",
      "Warning: Target note 'Chat with Entire Second Brain - llamaindex' not found for note 'AI Plugins for Obsidian'.\n",
      "Warning: Target note 'Be Uniquely You' not found for note 'Your outcome goals will probably fail so pick something fun'.\n",
      "Warning: Target note 'Niche' not found for note 'Your outcome goals will probably fail so pick something fun'.\n",
      "Warning: Target note 'Specific Knowledge' not found for note 'Your outcome goals will probably fail so pick something fun'.\n",
      "Warning: Target note '2024-01-27 - Specific Problems of Remote Working Engineers' not found for note 'Remote Work Super Power - Blend the Boundaries'.\n",
      "Warning: Target note '2024-01-28 - Remote Engineers - Audience' not found for note 'Remote Work Super Power - Blend the Boundaries'.\n",
      "Warning: Target note 'AI is having your own army of junior coders' not found for note 'Core Principles of AE'.\n",
      "Warning: Target note 'Tools And Technique#Bruce Lee' not found for note 'depth vs breadth'.\n",
      "Warning: Target note '(deprecated) Journal - Bits of Chris' not found for note 'I meditated on Navals and heres what I see'.\n",
      "Warning: Target note 'The only true passive investments' not found for note 'I give you permission to focus on your career as your side hustle'.\n",
      "Warning: Target note 'dont make a second job' not found for note 'I give you permission to focus on your career as your side hustle'.\n",
      "Warning: Target note '2024-01-21 - WFH FIRE (work from home)' not found for note 'Fired for jerking off'.\n",
      "Warning: Target note 'Why I Take Risk To Write On LinkedIn' not found for note 'Why I Write - Post'.\n",
      "Warning: Target note 'Consumer to Producer' not found for note 'Why I Write - Post'.\n",
      "Warning: Target note '(deprecated) Journal - Chris Lettieri - Augmented Engineer#2023-12-31 - Motivation' not found for note 'Naval Up Everyday'.\n",
      "Warning: Target note 'Balance Create' not found for note 'LONG - I wrote everyday for 45 days here's what I learned and why I wont do it again'.\n",
      "Warning: Target note 'Learn Do Reflect' not found for note 'LONG - I wrote everyday for 45 days here's what I learned and why I wont do it again'.\n",
      "Warning: Target note 'Think' not found for note 'LONG - I wrote everyday for 45 days here's what I learned and why I wont do it again'.\n",
      "Warning: Target note 'Consume Triad' not found for note 'LONG - I wrote everyday for 45 days here's what I learned and why I wont do it again'.\n",
      "Warning: Target note 'Three Ways to Scale Yourself Beyond Mid-Level Engineer' not found for note 'Coding Skill Ceiling'.\n",
      "Warning: Target note 'ChatGPT - Category POV - LinkedIn and AE' not found for note 'Coding Skill Ceiling'.\n",
      "Warning: Target note '2-Reference/Writing Skills/Visualize Value/Course Notes' not found for note 'MOC - VV Jack Butcher'.\n",
      "Warning: Target note 'Cloud Atlas - initial Questions and thoughts' not found for note 'LLM for journal parsing'.\n",
      "Warning: Target note 'DD podcast#AI Agents with Zapier' not found for note 'LLM for journal parsing'.\n",
      "Warning: Target note '2024-06-14 - AR' not found for note 'LLM for journal parsing'.\n",
      "Warning: Target note 'zapier agents' not found for note 'LLM for journal parsing'.\n",
      "Warning: Target note 'Think' not found for note 'Working in the business vs on the business - balance doing and process'.\n",
      "Warning: Target note 'Learn Do Reflect' not found for note 'Working in the business vs on the business - balance doing and process'.\n",
      "Warning: Target note 'Balance Create' not found for note 'Working in the business vs on the business - balance doing and process'.\n",
      "Warning: Target note 'Consume Triad' not found for note 'Working in the business vs on the business - balance doing and process'.\n",
      "Warning: Target note '3 Communication Mistakes I Made as a Staff Engineer and How Im Fixing Them' not found for note 'Good Communication is Clear'.\n",
      "Warning: Target note 'MOC - Category POV - AE - Augmented Engineer' not found for note 'Digital exoskeleton'.\n",
      "Warning: Target note '(deprecated) Journal - Chris Lettieri - Augmented Engineer#2023-12-31 - My Routine' not found for note 'Productivity Matters'.\n",
      "Warning: Target note 'Main MOC - Chris On Data' not found for note 'X Things That Changed from Senior to Staff'.\n",
      "Warning: Target note 'Can you Fat FIRE as just an employee' not found for note 'HENRY - how to get wealth from earner to wealth'.\n",
      "Warning: Target note 'Execution is What Matters' not found for note 'What is most important now'.\n",
      "Warning: Target note 'Focus your Learning' not found for note 'What is most important now'.\n",
      "Warning: Target note 'Avoid Idea Hopping - Ideas are Cheap' not found for note 'What is most important now'.\n",
      "Warning: Target note 'not too much at once' not found for note 'What is most important now'.\n",
      "Warning: Target note 'augmented leaner tool kit#Perplexity' not found for note 'Perplexity Thread Learning Demo'.\n",
      "Warning: Target note 'Idea File - The Augmented Engineer' not found for note 'Augmented Engineer - Outlines as Content'.\n",
      "Warning: Target note 'Idea File - The Augmented Engineer' not found for note 'Augmented Engineer - Outlines as Content'.\n",
      "Warning: Target note 'MOC - Augmented Engineer - Tasks and Post Ideas#Learning List' not found for note 'Augmented Engineer - Outlines as Content'.\n",
      "Warning: Target note 'game changer' not found for note 'Raising the Threshold for Capture - DAM the Mind'.\n",
      "Warning: Target note 'Lower the bar to capture' not found for note 'Raising the Threshold for Capture - DAM the Mind'.\n",
      "Warning: Target note 'Can you Fat FIRE as just an employee' not found for note 'New grad to millionaire, the 10 year plan for tech workers.'.\n",
      "Warning: Target note 'Why I Take Risk To Write On LinkedIn' not found for note 'Journal - LEAN Writing Observations, Social Platforms Lessons Learned'.\n",
      "Warning: Target note 'Consumer to Producer' not found for note 'Journal - LEAN Writing Observations, Social Platforms Lessons Learned'.\n",
      "Warning: Target note 'Present Yourself Avatar' not found for note 'Journal - LEAN Writing Observations, Social Platforms Lessons Learned'.\n",
      "Warning: Target note 'Credibility in Writing' not found for note 'Journal - LEAN Writing Observations, Social Platforms Lessons Learned'.\n",
      "Warning: Target note 'Brand' not found for note 'MOC Journal - YouTube'.\n",
      "Warning: Target note 'MOC - YouTube - Video Skill' not found for note 'MOC Journal - YouTube'.\n",
      "Warning: Target note 'Analytics' not found for note 'MOC Journal - YouTube'.\n",
      "Warning: Target note 'AMOC - Priorities' not found for note 'MOC Journal - YouTube'.\n",
      "Warning: Target note '2025-01-04 - High Thoughts#my style on youtube' not found for note 'MOC Journal - YouTube'.\n",
      "Warning: Target note 'Long Term#2025-01-05 - pragmatic vs creative' not found for note 'MOC Journal - YouTube'.\n",
      "Warning: Target note 'Vision' not found for note 'MOC Journal - YouTube'.\n",
      "Warning: Target note '2025-01-03#YouTube' not found for note 'MOC Journal - YouTube'.\n",
      "Warning: Target note '2024-11-22 - Content to support learning' not found for note 'MOC Journal - YouTube'.\n",
      "Warning: Target note 'priorities' not found for note 'MOC Journal - YouTube'.\n",
      "Warning: Target note 'PMOC YT - 30 Shorts in 30 Days#2024-11-17 - Why Shorts' not found for note 'MOC Journal - YouTube'.\n",
      "Warning: Target note 'Brand' not found for note 'YT - Hooks'.\n",
      "Warning: Target note 'mr beast tips#hooks and promise' not found for note 'YT - Hooks'.\n",
      "Warning: Target note 'Analytics' not found for note 'YT - Hooks'.\n",
      "Warning: Target note 'YT - Hook Prompt' not found for note 'YT - Hooks'.\n",
      "Warning: Target note 'MOC - YouTube - Video Skill' not found for note 'YT - Hooks'.\n",
      "Warning: Target note 'Brand' not found for note 'Henrik how he made gpt in a nutshell'.\n",
      "Warning: Target note 'MOC - YouTube - Video Skill' not found for note 'Henrik how he made gpt in a nutshell'.\n",
      "Warning: Target note 'Analytics' not found for note 'Henrik how he made gpt in a nutshell'.\n",
      "Warning: Target note 'Brand' not found for note 'first 60 seconds of YouTube'.\n",
      "Warning: Target note 'MOC - YouTube - Video Skill' not found for note 'first 60 seconds of YouTube'.\n",
      "Warning: Target note 'Analytics#Mr beast tips' not found for note 'first 60 seconds of YouTube'.\n",
      "Warning: Target note 'More authentic content' not found for note 'YT - data pruning mnist'.\n",
      "Warning: Target note '1A few useful things to know about ML.excalidraw' not found for note 'YT - A Few Useful Things to Know about Machine Learning ML'.\n",
      "Warning: Target note 'open source ai' not found for note 'YT - A Few Useful Things to Know about Machine Learning ML'.\n",
      "Warning: Target note '2025-01-06 - mind mapping why need a stylus pen' not found for note 'YT - A Few Useful Things to Know about Machine Learning ML'.\n",
      "Warning: Target note '0A few useful things to know about ML.excalidraw' not found for note 'YT - A Few Useful Things to Know about Machine Learning ML'.\n",
      "Warning: Target note 'deep-learning github daily blog#2024-11-11 - PyTorch CNN' not found for note 'YT - How to Use PyTorch for Neural Networks - Basic steps'.\n",
      "Warning: Target note '2024-12-27#Nyasha wisdom' not found for note 'YT short - ai for ceos and decision makers'.\n",
      "Warning: Target note 'deep-learning github daily blog#2024-11-26 - Self Attention' not found for note 'YT - Self-Attention Mechanisms Basic'.\n",
      "Warning: Target note 'my explanation' not found for note 'YT - Self-Attention Mechanisms Basic'.\n",
      "Warning: Target note 'deep-learning github daily blog#2024-12-09 - Self-Attention in My Words' not found for note 'YT - Self-Attention Mechanisms Basic'.\n",
      "Warning: Target note '#Linked In' not found for note 'YT - Self-Attention Mechanisms Basic'.\n",
      "Warning: Target note 'learn how to build software' not found for note 'MOC Idea - ASH - Augment stay human map'.\n",
      "Warning: Target note 'not write code' not found for note 'MOC Idea - ASH - Augment stay human map'.\n",
      "Warning: Target note '2024-12-26 - mind mapping' not found for note 'YT - when to use ai (for smart people)'.\n",
      "Warning: Target note 'youtube creators analysis#YT - when to use ai (for smart people)' not found for note 'YT - when to use ai (for smart people)'.\n",
      "Warning: Target note 'episode 1' not found for note 'YT Series - Augment Stay Human'.\n",
      "Warning: Target note 'YT - ASH The augmented engineer' not found for note 'YT Series - Augment Stay Human'.\n",
      "Warning: Target note '2024-01-07 - Path to Influencer President' not found for note 'YT- president in 20 years'.\n",
      "Warning: Target note 'YT - when to trust AI#idea' not found for note 'YT - when to trust AI'.\n",
      "Warning: Target note 'learn like neo with ai' not found for note 'YT - Compound Knowledge in the Information Age'.\n",
      "Warning: Target note '2024-12-25#thinking a lot about ai' not found for note 'YT - Compound Knowledge in the Information Age'.\n",
      "Warning: Target note 'Ideas - YouTube and AI Content#30 Shorts in 30 Days' not found for note 'PMOC YT - 30 Shorts in 30 Days'.\n",
      "Warning: Target note 'Brand' not found for note 'PMOC YT - 30 Shorts in 30 Days'.\n",
      "Warning: Target note 'Analytics#2024-11-16 - Post Production and Organizing Content' not found for note 'PMOC YT - 30 Shorts in 30 Days'.\n",
      "Warning: Target note 'Analytics' not found for note 'PMOC YT - 30 Shorts in 30 Days'.\n",
      "Warning: Target note 'MOC - YouTube - Video Skill' not found for note 'PMOC YT - 30 Shorts in 30 Days'.\n",
      "Warning: Target note 'Ideas - YouTube and AI Content#30 Shorts in 30 Days' not found for note 'PMOC YT - 30 Shorts in 30 Days'.\n",
      "Warning: Target note 'ideas' not found for note 'YT - Day in Life or Remote Staff Data Engineer'.\n",
      "Warning: Target note '2024-12-06 - content for fun' not found for note 'YT - Day in Life or Remote Staff Data Engineer'.\n",
      "Warning: Target note 'remote de niche' not found for note 'YT - Day in Life or Remote Staff Data Engineer'.\n",
      "Warning: Target note 'NN - Training Loop' not found for note 'PMOC - DONE - Neural Network Basics'.\n",
      "Warning: Target note 'SGD' not found for note 'PMOC - DONE - Neural Network Basics'.\n",
      "Warning: Target note '#Pruning Techniques' not found for note 'PMOC - Data Pruning MNIST'.\n",
      "Warning: Target note 'Brand' not found for note 'PMOC YT - DONE - Neural Networks from Scratch Series'.\n",
      "Warning: Target note 'MOC - YouTube - Video Skill' not found for note 'PMOC YT - DONE - Neural Networks from Scratch Series'.\n",
      "Warning: Target note 'Analytics' not found for note 'PMOC YT - DONE - Neural Networks from Scratch Series'.\n",
      "Warning: Target note 'XOR' not found for note 'PMOC YT - DONE - Neural Networks from Scratch Series'.\n",
      "Warning: Target note '#Next Video - MLP' not found for note 'PMOC YT - DONE - Neural Networks from Scratch Series'.\n",
      "Warning: Target note '#Video 3' not found for note 'PMOC YT - DONE - Neural Networks from Scratch Series'.\n",
      "Warning: Target note 'Backprop' not found for note 'PMOC YT - DONE - Neural Networks from Scratch Series'.\n",
      "Warning: Target note 'Neural networks and deep learning - book#The backpropagation algorithm' not found for note 'PMOC YT - DONE - Neural Networks from Scratch Series'.\n",
      "Warning: Target note 'ai plugins' not found for note 'DONE PMOC - Train LLM on My Data'.\n",
      "Warning: Target note 'Chat with Entire Second Brain - llamaindex' not found for note 'DONE PMOC - Train LLM on My Data'.\n",
      "Warning: Target note 'I trained a local LLM on 7 months of my notes' not found for note 'DONE PMOC - Train LLM on My Data'.\n",
      "Warning: Target note 'here's what I learned' not found for note 'DONE PMOC - Train LLM on My Data'.\n",
      "Warning: Target note 'virtual environment - new project' not found for note 'Poetry - Python environments'.\n",
      "Warning: Target note 'virtual environment - new project' not found for note 'new project'.\n",
      "Warning: Target note 'Efficient Data Processing in Spark - Joseph Machado Book' not found for note 'Post - Jospeh Machado - Spark Shuffles'.\n",
      "Warning: Target note 'Home - Priorities' not found for note 'WK - 25-02-01'.\n",
      "Warning: Target note 'Index' not found for note 'WK - 25-02-01'.\n",
      "Warning: Target note 'Next' not found for note 'WK - 25-02-01'.\n",
      "Warning: Target note 'Long Term' not found for note 'WK - 25-02-01'.\n",
      "Warning: Target note 'AMOC - Priorities' not found for note 'WK - 25-02-01'.\n",
      "Warning: Target note 'Weekly Reflection' not found for note 'WK - 25-02-01'.\n",
      "Warning: Target note 'Vision' not found for note 'WK - 25-02-01'.\n",
      "Warning: Target note 'more building' not found for note 'WK - 25-02-01'.\n",
      "Warning: Target note '2025-01-19 - is YouTube not good roi' not found for note 'WK - 25-02-01'.\n",
      "Warning: Target note '2025-01-31 - Ai clone as agents' not found for note 'WK - 25-02-01'.\n",
      "Warning: Target note 'PMOC - Follow Obsidian Links for an Idea' not found for note 'WK - 25-02-01'.\n",
      "Warning: Target note '2025-01-31 - what story no longer serves me - trading no longer serves me#let go of trading' not found for note 'WK - 25-02-01'.\n",
      "Warning: Target note 'Long Term#Long' not found for note 'WK - 25-02-01'.\n",
      "Warning: Target note 'AMOC - Priorities' not found for note 'WK - 25-02-01'.\n",
      "Warning: Target note 'Vision' not found for note 'WK - 25-02-01'.\n",
      "Warning: Target note 'WK - Reflection Recap' not found for note 'WK - 25-02-01'.\n",
      "Warning: Target note 'Long Term#2025-01-11 - Three paths' not found for note 'AMOC - AI Data Engineer - AI Time Series Researcher'.\n",
      "Warning: Target note 'AMOC - Priorities' not found for note 'AMOC - AI Data Engineer - AI Time Series Researcher'.\n",
      "Warning: Target note 'aligning with work' not found for note 'AMOC - AI Data Engineer - AI Time Series Researcher'.\n",
      "Warning: Target note 'Vision' not found for note 'AMOC - AI Data Engineer - AI Time Series Researcher'.\n",
      "Warning: Target note 'Ideas - Data Engineer Research' not found for note 'AMOC - AI Data Engineer - AI Time Series Researcher'.\n",
      "Warning: Target note 'AI Trading Problems to Explore' not found for note 'AMOC - AI Data Engineer - AI Time Series Researcher'.\n",
      "Warning: Target note 'Holding Company' not found for note 'AMOC - AI Data Engineer - AI Time Series Researcher'.\n",
      "Warning: Target note 'Augmented Empire Community' not found for note 'AMOC - AI Data Engineer - AI Time Series Researcher'.\n",
      "Warning: Target note 'AI Startup' not found for note 'AMOC - AI Data Engineer - AI Time Series Researcher'.\n",
      "Warning: Target note 'MOC - Moonshot Ideas' not found for note 'AMOC - AI Data Engineer - AI Time Series Researcher'.\n",
      "Warning: Target note 'AI Trading Problems to Explore' not found for note 'AMOC - AI Data Engineer - AI Time Series Researcher'.\n",
      "Warning: Target note '2024-11-23 - Next Jim Simons idea' not found for note 'AMOC - AI Data Engineer - AI Time Series Researcher'.\n",
      "Warning: Target note 'AI Time Series Specialized' not found for note 'AMOC - AI Data Engineer - AI Time Series Researcher'.\n",
      "Warning: Target note '2025-01-13 - This Week Priority Reflection#Data Engineering Research' not found for note 'AMOC - AI Data Engineer - AI Time Series Researcher'.\n",
      "Warning: Target note 'Ideas - Data Engineer Research' not found for note 'AMOC - AI Data Engineer - AI Time Series Researcher'.\n",
      "Warning: Target note 'AMOC - My Brand' not found for note 'AMOC - AI Data Engineer - AI Time Series Researcher'.\n",
      "Warning: Target note 'My Niche and Creator Brand' not found for note 'AMOC - AI Data Engineer - AI Time Series Researcher'.\n",
      "Warning: Target note '2025-01-13 - This Week Priority Reflection' not found for note 'AMOC - AI Data Engineer - AI Time Series Researcher'.\n",
      "Warning: Target note 'AI Trading Problems to Explore' not found for note 'AMOC - AI Data Engineer - AI Time Series Researcher'.\n",
      "Warning: Target note '2024-11-23 - Next Jim Simons idea' not found for note 'AMOC - AI Data Engineer - AI Time Series Researcher'.\n",
      "Warning: Target note 'AI Time Series Specialized' not found for note 'AMOC - AI Data Engineer - AI Time Series Researcher'.\n",
      "Warning: Target note '2025-01-13 - This Week Priority Reflection#Data Engineering Research' not found for note 'AMOC - AI Data Engineer - AI Time Series Researcher'.\n",
      "Warning: Target note 'Ideas - Data Engineer Research' not found for note 'AMOC - AI Data Engineer - AI Time Series Researcher'.\n",
      "Warning: Target note 'AMOC - My Brand' not found for note 'AMOC - AI Data Engineer - AI Time Series Researcher'.\n",
      "Warning: Target note 'My Niche and Creator Brand' not found for note 'AMOC - AI Data Engineer - AI Time Series Researcher'.\n",
      "Warning: Target note '2025-01-13 - This Week Priority Reflection' not found for note 'AMOC - AI Data Engineer - AI Time Series Researcher'.\n",
      "Warning: Target note '2024-12-13' not found for note 'AMOC - AI Data Engineer - AI Time Series Researcher'.\n",
      "Warning: Target note '2024-Nov-Dec- Trader DE Niche' not found for note 'AMOC - AI Data Engineer - AI Time Series Researcher'.\n",
      "Warning: Target note '2024-11-23 - Next Jim Simons idea' not found for note 'AMOC - AI Data Engineer - AI Time Series Researcher'.\n",
      "Warning: Target note 'AI Time Series Specialized' not found for note 'AMOC - AI Data Engineer - AI Time Series Researcher'.\n",
      "Warning: Target note 'My Niche and Creator Brand#2024-10-25 - Data Engineer for AI' not found for note 'AMOC - AI Data Engineer - AI Time Series Researcher'.\n",
      "Warning: Target note 'AMOC - My Brand' not found for note 'AMOC - AI Data Engineer - AI Time Series Researcher'.\n",
      "Warning: Target note 'get hyper specific' not found for note 'AMOC - AI Data Engineer - AI Time Series Researcher'.\n",
      "Warning: Target note 'Home - Priorities' not found for note '0 - Tasks this Week'.\n",
      "Warning: Target note 'Index' not found for note '0 - Tasks this Week'.\n",
      "Warning: Target note 'Next' not found for note '0 - Tasks this Week'.\n",
      "Warning: Target note 'Weekly Experiment Log' not found for note '0 - Tasks this Week'.\n",
      "Warning: Target note '2025-01-19 - is YouTube not good roi' not found for note '0 - Tasks this Week'.\n",
      "Warning: Target note '2025-01-31 - what story no longer serves me - trading no longer serves me' not found for note '0 - Tasks this Week'.\n",
      "Warning: Target note 'more building' not found for note '0 - Tasks this Week'.\n",
      "Warning: Target note '2025-01-15 - Lean into data engineering niche' not found for note '0 - Tasks this Week'.\n",
      "Warning: Target note 'PMOC - Follow Obsidian Links for an Idea' not found for note '0 - Tasks this Week'.\n",
      "Warning: Target note 'Work Thoughts#Knowledge graphs' not found for note '0 - Tasks this Week'.\n",
      "Warning: Target note '2025-01-08 - Aligning my morning focus with work' not found for note '0 - Tasks this Week'.\n",
      "Warning: Target note 'Brand' not found for note '0 - Tasks this Week'.\n",
      "Warning: Target note 'Analytics' not found for note '0 - Tasks this Week'.\n",
      "Warning: Target note 'MOC - YouTube - Video Skill' not found for note '0 - Tasks this Week'.\n",
      "Warning: Target note 'More authentic content' not found for note '0 - Tasks this Week'.\n",
      "Warning: Target note 'Priority' not found for note '0 - Tasks this Week'.\n",
      "Warning: Target note 'AMOC - Meta - Obsidian - Second Brain - My Organization Process#Visual PKM' not found for note '0 - Tasks this Week'.\n",
      "Warning: Target note '2025-01-15 - okrs and longer term plans' not found for note '0 - Tasks this Week'.\n",
      "Warning: Target note '2025-01-11 - Three Paths' not found for note '0 - Tasks this Week'.\n",
      "Warning: Target note '2025-01-20 - Daily intention and no inbox' not found for note '0 - Tasks this Week'.\n",
      "Warning: Target note 'Niche Ideas' not found for note '0 - Tasks this Week'.\n",
      "Warning: Target note '2025-01-15 - okrs and longer term plans' not found for note '0 - Tasks this Week'.\n",
      "Warning: Target note '2025-01-14 - join and ask in the communities' not found for note '0 - Tasks this Week'.\n",
      "Warning: Target note '2025-02-02 - Triage next steps for Ai clone#Demo' not found for note 'PMOC - AI Clone - Fine tuning on my second brain'.\n",
      "Warning: Target note '#2025-02-01 - Link from MOCs - distill MOCs' not found for note 'PMOC - AI Clone - Fine tuning on my second brain'.\n",
      "Warning: Target note '2025-01-29 - Ai' not found for note 'PMOC - AI Clone - Fine tuning on my second brain'.\n",
      "Warning: Target note 'own data' not found for note 'PMOC - AI Clone - Fine tuning on my second brain'.\n",
      "Warning: Target note 'small models' not found for note 'PMOC - AI Clone - Fine tuning on my second brain'.\n",
      "Warning: Target note 'blockchain' not found for note 'PMOC - AI Clone - Fine tuning on my second brain'.\n",
      "Warning: Target note 'ai plugins' not found for note 'PMOC - AI Clone - Fine tuning on my second brain'.\n",
      "Warning: Target note 'Chat with Entire Second Brain - llamaindex' not found for note 'PMOC - AI Clone - Fine tuning on my second brain'.\n",
      "Warning: Target note 'explained with a minimum of math and jargon' not found for note 'Ideas - YouTube and AI Content'.\n",
      "Warning: Target note 'RAG - more than just stuffing things in a context window' not found for note 'Ideas - YouTube and AI Content'.\n",
      "Warning: Target note 'Large language models' not found for note 'Ideas - YouTube and AI Content'.\n",
      "Warning: Target note 'YT - graph databases - what are they and how useful' not found for note 'Ideas - YouTube and AI Content'.\n",
      "Warning: Target note 'WK - 24-12-24#content on the LLM in Obsidian' not found for note 'Ideas - YouTube and AI Content'.\n",
      "Warning: Target note 'YT - Spark ELI5 for data engineers' not found for note 'Ideas - YouTube and AI Content'.\n",
      "Warning: Target note 'I'd have written a shorter letter' not found for note 'Ideas - YouTube and AI Content'.\n",
      "Warning: Target note 'use AI to help me fix YT thumbnails' not found for note 'Ideas - YouTube and AI Content'.\n",
      "Warning: Target note 'ideas' not found for note 'Ideas - YouTube and AI Content'.\n",
      "Warning: Target note 'if had more time' not found for note 'Ideas - YouTube and AI Content'.\n",
      "Warning: Target note 'YT - the 5 stages of become an expert developer' not found for note 'Ideas - YouTube and AI Content'.\n",
      "Warning: Target note '2024-12-06 - content for fun' not found for note 'Ideas - YouTube and AI Content'.\n",
      "Warning: Target note 'remote de niche' not found for note 'Ideas - YouTube and AI Content'.\n",
      "Warning: Target note 'Backprop' not found for note 'Ideas - YouTube and AI Content'.\n",
      "Warning: Target note 'PMOC YT - DONE - Neural Networks from Scratch Series#Next Video  - MLP' not found for note 'Ideas - YouTube and AI Content'.\n",
      "Warning: Target note 'learn like neo with ai' not found for note 'Ideas - YouTube and AI Content'.\n",
      "Warning: Target note 'PMOC - DONE - Neural Network Basics#Content Ideas' not found for note 'Ideas - YouTube and AI Content'.\n",
      "Warning: Target note 'XOR' not found for note 'Ideas - YouTube and AI Content'.\n",
      "Warning: Target note '2025-02-01 - obsidian ai clone quick triage#Next to be useful' not found for note 'PMOC - Obsidian Reader in Llamaindex'.\n",
      "Warning: Target note '2024-01-28 - Goal To Build Library of Content' not found for note 'Content Pieces are Assets Make them Quality'.\n",
      "Warning: Target note 'Especially If There Awhile' not found for note 'Just get started'.\n",
      "Warning: Target note 'Try New Things' not found for note 'Just get started'.\n",
      "Warning: Target note 'Execution is What Matters' not found for note 'ideas not original, give credit'.\n",
      "Warning: Target note 'just return to the good ones' not found for note 'ideas not original, give credit'.\n",
      "Warning: Target note 'Avoid Idea Hopping - Ideas are Cheap' not found for note 'ideas not original, give credit'.\n",
      "Warning: Target note 'Most Ideas Suck' not found for note 'ideas not original, give credit'.\n",
      "Warning: Target note '2-Reference/Writing Skills/Ship30For30/My Observations' not found for note 'Give away for free to get attention'.\n",
      "Warning: Target note '2024-01-07 - Path to Influencer President' not found for note 'Voting Online'.\n",
      "Warning: Target note '2024-12-04#getting too far ahead' not found for note 'You Can't Tell People your 20 year moonshot plans'.\n",
      "Warning: Target note 'Focus your Learning' not found for note 'Revisit the Good Reads'.\n",
      "Warning: Target note 'not too much at once' not found for note 'Revisit the Good Reads'.\n",
      "Warning: Target note '2025-01-09 - Niche - data engineer for Ai research' not found for note 'Data as training samples'.\n",
      "Warning: Target note 'Ideas - Data Engineer Research' not found for note 'Data as training samples'.\n",
      "Warning: Target note '2023-10-14 - PKM Thoughts' not found for note 'PKM System'.\n",
      "Warning: Target note '2-Reference/Books/How to Take Smart Notes' not found for note 'PKM System'.\n",
      "Warning: Target note '2023-10-29 - PKM Organization for PARA' not found for note 'PKM System'.\n",
      "Warning: Target note '2024-04-14 - dopamine detox' not found for note 'Some stories are useful, choose'.\n",
      "Warning: Target note 'WW3' not found for note 'Some stories are useful, choose'.\n",
      "Warning: Target note '2024-04-13 - Losing my Mind' not found for note 'Some stories are useful, choose'.\n",
      "Warning: Target note 'Spearfishing' not found for note 'Some stories are useful, choose'.\n",
      "Warning: Target note 'ww3' not found for note 'Some stories are useful, choose'.\n",
      "Warning: Target note '(deprecated) Journal - Chris Lettieri - Augmented Engineer#2023-12-31 - Motivation' not found for note 'Most Ideas Suck, just return to the good ones'.\n",
      "Warning: Target note 'Be Uniquely You' not found for note 'niche - find a problem you like and solve it'.\n",
      "Warning: Target note 'Niche' not found for note 'niche - find a problem you like and solve it'.\n",
      "Warning: Target note 'Specific Knowledge' not found for note 'niche - find a problem you like and solve it'.\n",
      "Warning: Target note 'WFH Comedy' not found for note 'I am a content factory - build the factory'.\n",
      "Warning: Target note 'Lumen - AI Comedian' not found for note 'I am a content factory - build the factory'.\n",
      "Warning: Target note 'Focus your Learning' not found for note 'Do One Thing Better'.\n",
      "Warning: Target note 'not too much at once' not found for note 'Do One Thing Better'.\n",
      "Warning: Target note 'Book - Art and Business of Writing Online#Writing Process' not found for note 'My Writing Process'.\n",
      "Warning: Target note 'Live Session 4 - Headlines#Headline Checklist' not found for note 'My Writing Process'.\n",
      "Warning: Target note 'Live Session 5 - Rhythms#6 single sentence openers' not found for note 'My Writing Process'.\n",
      "Warning: Target note 'Live Session 5 - Rhythms#The 1/3/1 Rhythm' not found for note 'My Writing Process'.\n",
      "Warning: Target note 'Ideas - Data Engineer Research' not found for note 'Data centric AI'.\n",
      "Warning: Target note 'Especially If There Awhile' not found for note 'Introduce Entropy Random to Routine'.\n",
      "Warning: Target note 'Try New Things' not found for note 'Introduce Entropy Random to Routine'.\n",
      "Warning: Target note '2-Reference/Writing Skills/Ship30For30/Course Notes' not found for note 'Don't Build Something New, Unless Different'.\n",
      "Warning: Target note '(deprecated) Journal - Chris Lettieri - Augmented Engineer#2023-12-31 - Ive hit the compound effect' not found for note 'PKM ZK for Digital Business'.\n",
      "Warning: Target note '2025-01-14 - Creative vs pragmatic balance and niche' not found for note 'Two Brains, Two Personas'.\n",
      "Warning: Target note '2024-03-01 - Two Distinct Blocks of Time' not found for note 'Two Brains, Two Personas'.\n",
      "Warning: Target note '2024-04-04 - Learn in Public Staff DE' not found for note 'Two Brains, Two Personas'.\n",
      "Warning: Target note '2024-02-11 - Two Main Voices' not found for note 'Two Brains, Two Personas'.\n",
      "Warning: Target note '(deprecated) Journal - Chris Lettieri - Augmented Engineer#2023-12-31 - My Routine' not found for note 'My Productivity Routine'.\n",
      "Warning: Target note '2024-01-24 - Goal to own a Niche - WFHFIRE plant the flag' not found for note 'Avoid Idea Hopping - Ideas are Cheap, Execution is What Matters'.\n",
      "Warning: Target note 'Balance Create' not found for note 'Listen - Do - Share Flywheel'.\n",
      "Warning: Target note 'Learn Do Reflect' not found for note 'Listen - Do - Share Flywheel'.\n",
      "Warning: Target note 'Think' not found for note 'Listen - Do - Share Flywheel'.\n",
      "Warning: Target note '2024-06-12 - My Content Flywheel' not found for note 'Listen - Do - Share Flywheel'.\n",
      "Warning: Target note 'Consume Triad' not found for note 'Listen - Do - Share Flywheel'.\n",
      "Warning: Target note 'Social Platforms Lessons Learned' not found for note 'Credibility in Writing, Present Yourself Avatar'.\n",
      "Warning: Target note 'Journal - LEAN Writing Observations' not found for note 'Credibility in Writing, Present Yourself Avatar'.\n",
      "Warning: Target note 'Focus on one thing but context switch higher up' not found for note 'Focus on the Most Important thing - Focus on the What'.\n",
      "Warning: Target note 'Specific Knowledge' not found for note 'MOC - Advice on Finding Your Niche Special Knowledge'.\n",
      "Warning: Target note 'Ikigai' not found for note 'MOC - Advice on Finding Your Niche Special Knowledge'.\n",
      "Warning: Target note '2024-08-23 - ai eval' not found for note 'MOC - Advice on Finding Your Niche Special Knowledge'.\n",
      "Warning: Target note 'MOC - Exploring My Niche' not found for note 'MOC - Advice on Finding Your Niche Special Knowledge'.\n",
      "Warning: Target note 'Category' not found for note 'MOC - Advice on Finding Your Niche Special Knowledge'.\n",
      "Warning: Target note 'Niche' not found for note 'MOC - Advice on Finding Your Niche Special Knowledge'.\n",
      "Warning: Target note 'When Start Writing' not found for note 'MOC - Advice on Finding Your Niche Special Knowledge'.\n",
      "Warning: Target note 'crypto options' not found for note 'MOC - Advice on Finding Your Niche Special Knowledge'.\n",
      "Warning: Target note 'politics#I cry when I’m onto it' not found for note 'MOC - Advice on Finding Your Niche Special Knowledge'.\n",
      "Warning: Target note 'Dont Niche First' not found for note 'MOC - Advice on Finding Your Niche Special Knowledge'.\n",
      "Warning: Target note 'Be Uniquely You' not found for note 'MOC - Advice on Finding Your Niche Special Knowledge'.\n",
      "Warning: Target note 'augmented writer' not found for note 'MOC - Advice on Finding Your Niche Special Knowledge'.\n",
      "Warning: Target note 'Specific Knowledge' not found for note 'MOC - Advice on Finding Your Niche Special Knowledge'.\n",
      "Warning: Target note 'Ikigai' not found for note 'MOC - Advice on Finding Your Niche Special Knowledge'.\n",
      "Warning: Target note '2024-08-23 - ai eval' not found for note 'MOC - Advice on Finding Your Niche Special Knowledge'.\n",
      "Warning: Target note 'MOC - Exploring My Niche' not found for note 'MOC - Advice on Finding Your Niche Special Knowledge'.\n",
      "Warning: Target note 'Category' not found for note 'MOC - Advice on Finding Your Niche Special Knowledge'.\n",
      "Warning: Target note 'Niche' not found for note 'MOC - Advice on Finding Your Niche Special Knowledge'.\n",
      "Warning: Target note 'When Start Writing' not found for note 'MOC - Advice on Finding Your Niche Special Knowledge'.\n",
      "Warning: Target note 'crypto options' not found for note 'MOC - Advice on Finding Your Niche Special Knowledge'.\n",
      "Warning: Target note 'politics#I cry when I’m onto it' not found for note 'MOC - Advice on Finding Your Niche Special Knowledge'.\n",
      "Warning: Target note 'Dont Niche First' not found for note 'MOC - Advice on Finding Your Niche Special Knowledge'.\n",
      "Warning: Target note 'Be Uniquely You' not found for note 'MOC - Advice on Finding Your Niche Special Knowledge'.\n",
      "Warning: Target note 'augmented writer' not found for note 'MOC - Advice on Finding Your Niche Special Knowledge'.\n",
      "Warning: Target note 'The only true passive investments' not found for note 'the truth about passive income'.\n",
      "Warning: Target note 'dont make a second job' not found for note 'the truth about passive income'.\n",
      "Warning: Target note 'Espresso Hour#Lean Writing - Full' not found for note 'Seek Feedback to Learn'.\n",
      "Warning: Target note '2023-11-16 - Staff Summit - Day 2' not found for note 'A Business Solves a Problem'.\n",
      "Warning: Target note 'WW3' not found for note 'Super AI GPUs Global Warming Trick'.\n",
      "Warning: Target note 'Spearfishing' not found for note 'Super AI GPUs Global Warming Trick'.\n",
      "Warning: Target note '2024-04-13 - Losing my Mind' not found for note 'Super AI GPUs Global Warming Trick'.\n",
      "Warning: Target note 'AMOC - My Brand' not found for note 'How I Use AI In My Second Brain'.\n",
      "Warning: Target note 'My Niche and Creator Brand' not found for note 'How I Use AI In My Second Brain'.\n",
      "Warning: Target note 'AMOC - Meta - Obsidian - Second Brain - My Organization Process#2024-11-16' not found for note 'How I Use AI In My Second Brain'.\n",
      "Warning: Target note 'learn like neo with ai' not found for note 'How I Use AI In My Second Brain'.\n",
      "Warning: Target note 'YT - Shorts Outline' not found for note 'How I Use AI In My Second Brain'.\n",
      "Warning: Target note 'awareness' not found for note 'Awareness - bees only know they are bees'.\n",
      "Warning: Target note 'experiment more - take action' not found for note 'Build More - Be Curious, Take Action - Ask questions, Solve problems'.\n",
      "Warning: Target note 'do things' not found for note 'Build More - Be Curious, Take Action - Ask questions, Solve problems'.\n",
      "Warning: Target note 'plan less' not found for note 'Build More - Be Curious, Take Action - Ask questions, Solve problems'.\n",
      "Warning: Target note 'learn' not found for note 'Build More - Be Curious, Take Action - Ask questions, Solve problems'.\n",
      "Warning: Target note '2025-01-14 - Feeling down about creating - take action' not found for note 'Build More - Be Curious, Take Action - Ask questions, Solve problems'.\n",
      "Warning: Target note 'ask questions' not found for note 'Build More - Be Curious, Take Action - Ask questions, Solve problems'.\n",
      "Warning: Target note '2025-01-07 - Be curious' not found for note 'Build More - Be Curious, Take Action - Ask questions, Solve problems'.\n",
      "Warning: Target note 'follow curiosity' not found for note 'Build More - Be Curious, Take Action - Ask questions, Solve problems'.\n",
      "Warning: Target note 'WK - 25-01-05#do the work' not found for note 'Build More - Be Curious, Take Action - Ask questions, Solve problems'.\n",
      "Warning: Target note 'WK - 25-01-13#Build Projects' not found for note 'Build More - Be Curious, Take Action - Ask questions, Solve problems'.\n",
      "Warning: Target note 'Active' not found for note 'Build More - Be Curious, Take Action - Ask questions, Solve problems'.\n",
      "Warning: Target note 'intentional learning' not found for note 'Build More - Be Curious, Take Action - Ask questions, Solve problems'.\n",
      "Warning: Target note 'Just-in-time' not found for note 'Build More - Be Curious, Take Action - Ask questions, Solve problems'.\n",
      "Warning: Target note 'take action' not found for note 'Build More - Be Curious, Take Action - Ask questions, Solve problems'.\n",
      "Warning: Target note 'Take Action - Ask questions' not found for note 'plan less, experiment more - take action, do things'.\n",
      "Warning: Target note 'Solve problems' not found for note 'plan less, experiment more - take action, do things'.\n",
      "Warning: Target note '2025-01-20 - pivot on a weekly basis to follow interests while exploring' not found for note 'plan less, experiment more - take action, do things'.\n",
      "Warning: Target note 'Build More - Be Curious' not found for note 'plan less, experiment more - take action, do things'.\n",
      "Warning: Target note 'more building' not found for note 'plan less, experiment more - take action, do things'.\n",
      "Warning: Target note '2025-01-19 - is YouTube not good roi' not found for note 'plan less, experiment more - take action, do things'.\n",
      "Warning: Target note '(deprecated) Journal - Chris Lettieri - Augmented Engineer' not found for note 'The five and a half hour work day'.\n",
      "Warning: Target note '2024-06-12 - My Content Flywheel' not found for note 'My Content Process'.\n",
      "Warning: Target note '2024-07-08 - 07-20 - Sprint 1' not found for note 'My Content Process'.\n",
      "Warning: Target note 'Youth Rugby 7s League' not found for note 'Inclusive to the Core'.\n",
      "Warning: Target note '2025-01-31 - compress at the token level' not found for note 'Data compression by meaning - data pruning'.\n",
      "Warning: Target note 'RAG - more than just stuffing things in a context window' not found for note 'Data compression by meaning - data pruning'.\n",
      "Warning: Target note '2025-01-29 - Clustering at training time or for RAG' not found for note 'Data compression by meaning - data pruning'.\n",
      "Warning: Target note 'MOC - Category POV - AE - Augmented Engineer' not found for note 'Tools And Technique'.\n",
      "Warning: Target note 'Brand' not found for note 'focus by commitment'.\n",
      "Warning: Target note '2024-12-06 - Youtube valley of despair' not found for note 'focus by commitment'.\n",
      "Warning: Target note 'MOC - YouTube - Video Skill' not found for note 'focus by commitment'.\n",
      "Warning: Target note 'Analytics#2024-12-12 - video taking off' not found for note 'focus by commitment'.\n",
      "Warning: Target note 'Homework For Life#2024-04-07' not found for note 'Extroverted effort on Introverts making friends'.\n",
      "Warning: Target note '2024-03-29 - Supercommunicated with Justin' not found for note 'Levels of Life'.\n",
      "Warning: Target note '2024-08-23 - ai eval' not found for note 'Biographies are mentorships with the dead'.\n",
      "Warning: Target note 'politics#Look at who’s biographies you enjoy' not found for note 'Biographies are mentorships with the dead'.\n",
      "Warning: Target note 'crypto options' not found for note 'Biographies are mentorships with the dead'.\n",
      "Warning: Target note 'politics#I cry when I’m onto it' not found for note 'Biographies are mentorships with the dead'.\n",
      "Warning: Target note 'augmented writer' not found for note 'Biographies are mentorships with the dead'.\n",
      "Warning: Target note 'IEP Ethan - Doctor Nonye' not found for note 'AMOC - Parenting'.\n",
      "Warning: Target note 'MOC Journal - State of Union - Ruvi' not found for note 'AMOC - Parenting'.\n",
      "Warning: Target note 'Homework For Life' not found for note 'AMOC - Parenting'.\n",
      "Warning: Target note '2024-12-25#Ethan - too loud' not found for note 'AMOC - Parenting'.\n",
      "Warning: Target note 'WK - 24-12-01' not found for note 'AMOC - Parenting'.\n",
      "Warning: Target note 'Create by sharing stories and then idea' not found for note 'Vulnerable without oversharing'.\n",
      "Warning: Target note 'AI cant write' not found for note 'Vulnerable without oversharing'.\n",
      "Warning: Target note 'authentic' not found for note 'Vulnerable without oversharing'.\n",
      "Warning: Target note '2024-07-27 - Written Journal' not found for note 'Patience - Reality Check - Ideas Ahead of Skills'.\n",
      "Warning: Target note '2025-01-16#Reflection' not found for note 'invest in your tools'.\n",
      "Warning: Target note 'here's what I learned' not found for note 'MOC Pillar - AI in Your Second Brain Ultimate Guide - Tools and How'.\n",
      "Warning: Target note 'I trained a local LLM on 7 months of my notes' not found for note 'MOC Pillar - AI in Your Second Brain Ultimate Guide - Tools and How'.\n",
      "Warning: Target note 'ai plugins' not found for note 'MOC Pillar - AI in Your Second Brain Ultimate Guide - Tools and How'.\n",
      "Warning: Target note 'Chat with Entire Second Brain - llamaindex' not found for note 'MOC Pillar - AI in Your Second Brain Ultimate Guide - Tools and How'.\n",
      "Warning: Target note 'Especially If There Awhile' not found for note 'Invest in Things That Last'.\n",
      "Warning: Target note '2023-10-26 - DB Index Deep Dive Idea' not found for note 'Invest in Things That Last'.\n",
      "Warning: Target note 'Try New Things' not found for note 'Invest in Things That Last'.\n",
      "Warning: Target note 'Specific Knowledge' not found for note 'Lifestyle Business, Minimalist Entreprenuer, Values'.\n",
      "Warning: Target note 'Niche' not found for note 'Lifestyle Business, Minimalist Entreprenuer, Values'.\n",
      "Warning: Target note 'Goals' not found for note 'Lifestyle Business, Minimalist Entreprenuer, Values'.\n",
      "Warning: Target note 'Niches' not found for note 'Lifestyle Business, Minimalist Entreprenuer, Values'.\n",
      "Warning: Target note 'MOC - Writing Why' not found for note 'Lifestyle Business, Minimalist Entreprenuer, Values'.\n",
      "Warning: Target note 'Be Uniquely You' not found for note 'Lifestyle Business, Minimalist Entreprenuer, Values'.\n",
      "Warning: Target note 'Algorithms to Live By#Explore/Exploit Tradeoff' not found for note 'Try New Things, Especially If There Awhile'.\n",
      "Warning: Target note 'Main MOC - Chris On Data' not found for note 'Chaining LLMs - LLM Ensemble'.\n",
      "Warning: Target note 'Homework For Life#2024-03-07' not found for note 'Treat People how you want, don't berate for change'.\n",
      "Warning: Target note 'Long Term#Shorts to prototype' not found for note 'content to prototype business ideas'.\n",
      "Warning: Target note 'AMOC - Priorities' not found for note 'content to prototype business ideas'.\n",
      "Warning: Target note 'Vision' not found for note 'content to prototype business ideas'.\n",
      "Warning: Target note '2024-06-08 - Augmented Writer thinking' not found for note 'Be a good listener'.\n",
      "Warning: Target note 'rest' not found for note 'Energy ebbs and flows'.\n",
      "Warning: Target note 'Take naps' not found for note 'Energy ebbs and flows'.\n",
      "Warning: Target note '3 blue 1 brown - neural networks#chapter 5' not found for note 'self-attention mechanisms'.\n",
      "Warning: Target note 'LLMs from Scratch Book#Chapter 3 - Coding Attention Mechanisms' not found for note 'self-attention mechanisms'.\n",
      "Warning: Target note 'Joyspan' not found for note 'Finding Niche - take forward steps'.\n",
      "Warning: Target note 'AI for Money Game' not found for note 'Finding Niche - take forward steps'.\n",
      "Warning: Target note '2024-05-22 - Sabbatical Plan' not found for note 'Finding Niche - take forward steps'.\n",
      "Warning: Target note 'Twitter Frustrations#Sales Ali' not found for note 'Business and Sales solve problems'.\n",
      "Warning: Target note 'Niche' not found for note 'Business and Sales solve problems'.\n",
      "Warning: Target note '2024-06-27 - Be My Self' not found for note 'Business and Sales solve problems'.\n",
      "Warning: Target note 'Specific Knowledge' not found for note 'Two things for your Ikigai'.\n",
      "Warning: Target note 'Ikigai' not found for note 'Two things for your Ikigai'.\n",
      "Warning: Target note 'Category' not found for note 'Two things for your Ikigai'.\n",
      "Warning: Target note 'MOC - Exploring My Niche' not found for note 'Two things for your Ikigai'.\n",
      "Warning: Target note '2023-11-15 - Habit Triggers' not found for note 'Habit Triggers - Calendar, Reminder'.\n",
      "Warning: Target note 'MOC - Category POV - Joyspan - wfhfire v2' not found for note 'buy back time - roti purchases'.\n",
      "Warning: Target note 'Be Uniquely You' not found for note 'Money is a by product of the value you provide'.\n",
      "Warning: Target note 'Niche' not found for note 'Money is a by product of the value you provide'.\n",
      "Warning: Target note 'Specific Knowledge' not found for note 'Money is a by product of the value you provide'.\n",
      "Warning: Target note 'SEO Writing#https //yoast.com/seo-friendly-introduction/' not found for note 'SEO - Introduction'.\n",
      "Warning: Target note 'Reminder' not found for note 'Better Pomodoro'.\n",
      "Warning: Target note 'Habit Triggers - Calendar' not found for note 'Better Pomodoro'.\n",
      "Warning: Target note 'Balance Create' not found for note 'Space and Time to Create and Think'.\n",
      "Warning: Target note 'Learn Do Reflect' not found for note 'Space and Time to Create and Think'.\n",
      "Warning: Target note 'Think' not found for note 'Space and Time to Create and Think'.\n",
      "Warning: Target note 'Consume Triad' not found for note 'Space and Time to Create and Think'.\n",
      "Warning: Target note 'Habit Triggers - Calendar' not found for note 'High ROI Habits ROTI - Time Rich'.\n",
      "Warning: Target note 'Especially If There Awhile' not found for note 'High ROI Habits ROTI - Time Rich'.\n",
      "Warning: Target note 'Try New Things' not found for note 'High ROI Habits ROTI - Time Rich'.\n",
      "Warning: Target note 'Reminder' not found for note 'High ROI Habits ROTI - Time Rich'.\n",
      "Warning: Target note 'Specific Knowledge' not found for note 'Escape competition through authenticity'.\n",
      "Warning: Target note 'Ikigai' not found for note 'Escape competition through authenticity'.\n",
      "Warning: Target note 'Category' not found for note 'Escape competition through authenticity'.\n",
      "Warning: Target note 'MOC - Exploring My Niche' not found for note 'Escape competition through authenticity'.\n",
      "Warning: Target note 'WFHFIRE - Category POV - v1' not found for note 'Optimize for Fulfillment Rate'.\n",
      "Warning: Target note '2025-01-03#the nice thing about racism today' not found for note 'Daryl Davis Way'.\n",
      "Warning: Target note 'Bricks' not found for note '2024-09-19 - Compound Knowledge, Build Your Bricks'.\n",
      "Warning: Target note 'Packets' not found for note '2024-09-19 - Compound Knowledge, Build Your Bricks'.\n",
      "Warning: Target note 'Take consistent baby steps' not found for note '2024-09-19 - Compound Knowledge, Build Your Bricks'.\n",
      "Warning: Target note 'Weekly Projects' not found for note 'Short Projects, Focused Learning'.\n",
      "Warning: Target note '2024-05-23 - Focus on AI Skills' not found for note 'Short Projects, Focused Learning'.\n",
      "Warning: Target note 'MOC - Better Thinking' not found for note 'Summarizing is thinking clearly'.\n",
      "Warning: Target note 'Meta Learning' not found for note 'Summarizing is thinking clearly'.\n",
      "Warning: Target note 'MOC - Dopamine Log#2024-11-04' not found for note 'AMOC - Physical'.\n",
      "Warning: Target note 'AMOC - Meta - Obsidian - Second Brain - My Organization Process#2024-11-04' not found for note 'AMOC - Physical'.\n",
      "Warning: Target note 'MOC - Me a Founder' not found for note 'Organic Problems - follow your interests, curiosity'.\n",
      "Warning: Target note 'YT - rise of the Ai data engineer' not found for note 'ai data engineer observations'.\n",
      "Warning: Target note 'deep-learning github daily blog#2024-11-07 - CNN in PyTorch' not found for note 'MOC - PyTorch'.\n",
      "Warning: Target note 'deep-learning github daily blog#2024-11-11 - PyTorch CNN' not found for note 'MOC - PyTorch'.\n",
      "Warning: Target note 'joyspan' not found for note 'take risk to live a rich life'.\n",
      "Warning: Target note 'Time Rich Investing - Joy Span' not found for note 'take risk to live a rich life'.\n",
      "Warning: Target note 'Balance Create' not found for note 'My Focus Routine'.\n",
      "Warning: Target note 'Learn Do Reflect' not found for note 'My Focus Routine'.\n",
      "Warning: Target note 'Think' not found for note 'My Focus Routine'.\n",
      "Warning: Target note 'Consume Triad' not found for note 'My Focus Routine'.\n",
      "Warning: Target note 'Specific Knowledge' not found for note 'MOC - Exploring My Niche, Ikigai, Specific Knowledge, Category'.\n",
      "Warning: Target note '2024-01-05 - Data Engineering and Trading' not found for note 'MOC - Exploring My Niche, Ikigai, Specific Knowledge, Category'.\n",
      "Warning: Target note 'Niche' not found for note 'MOC - Exploring My Niche, Ikigai, Specific Knowledge, Category'.\n",
      "Warning: Target note '(deprecated) Journal - Bits of Chris' not found for note 'MOC - Exploring My Niche, Ikigai, Specific Knowledge, Category'.\n",
      "Warning: Target note '2023-11-22 - Why I Write aka My Niche' not found for note 'MOC - Exploring My Niche, Ikigai, Specific Knowledge, Category'.\n",
      "Warning: Target note '2024-01-03 - Exploring Niche' not found for note 'MOC - Exploring My Niche, Ikigai, Specific Knowledge, Category'.\n",
      "Warning: Target note 'Be Uniquely You' not found for note 'MOC - Exploring My Niche, Ikigai, Specific Knowledge, Category'.\n",
      "Warning: Target note 'Vision' not found for note 'MOC - Exploring My Niche, Ikigai, Specific Knowledge, Category'.\n",
      "Warning: Target note 'Thank You Dad' not found for note 'Deliver on the Emotional Promise Entertaining'.\n",
      "Warning: Target note '23 - The Night I met My Wife' not found for note 'Deliver on the Emotional Promise Entertaining'.\n",
      "Warning: Target note '2024-04-10 - Project Work to Guide Learning In Public' not found for note 'MOC - Learn in Public - Part Time Creator'.\n",
      "Warning: Target note 'CL is BoC' not found for note 'MOC - Learn in Public - Part Time Creator'.\n",
      "Warning: Target note 'Tech evangelists marketers' not found for note 'MOC - Learn in Public - Part Time Creator'.\n",
      "Warning: Target note '2024-04-11 - Stay technical hands on' not found for note 'MOC - Learn in Public - Part Time Creator'.\n",
      "Warning: Target note '2-Reference/Writing Skills/Ship30For30/My Observations' not found for note 'Give away Value to get sign ups'.\n",
      "Warning: Target note '2024-07-23 - Lean into Augmented Engineer' not found for note 'All about the data - LLMS - good ai about the data matters'.\n",
      "Warning: Target note 'I trained a local LLM on 7 months of my notes' not found for note 'All about the data - LLMS - good ai about the data matters'.\n",
      "Warning: Target note 'Join Othmane for Time Series AI role' not found for note 'All about the data - LLMS - good ai about the data matters'.\n",
      "Warning: Target note 'here's what I learned' not found for note 'All about the data - LLMS - good ai about the data matters'.\n",
      "Warning: Target note 'AMOC - Priorities' not found for note 'prioritize - does this help me now or in future'.\n",
      "Warning: Target note 'Long Term' not found for note 'prioritize - does this help me now or in future'.\n",
      "Warning: Target note 'Vision' not found for note 'prioritize - does this help me now or in future'.\n",
      "Warning: Target note 'AMOC - Priorities' not found for note 'prioritize - does this help me now or in future'.\n",
      "Warning: Target note 'Long Term' not found for note 'prioritize - does this help me now or in future'.\n",
      "Warning: Target note 'Vision' not found for note 'prioritize - does this help me now or in future'.\n",
      "Warning: Target note 'AMOC - Priorities' not found for note 'prioritize - does this help me now or in future'.\n",
      "Warning: Target note 'Long Term' not found for note 'prioritize - does this help me now or in future'.\n",
      "Warning: Target note 'Vision' not found for note 'prioritize - does this help me now or in future'.\n",
      "Warning: Target note '2024-08-23 - ai eval' not found for note 'Work in public'.\n",
      "Warning: Target note 'open source creator entrepreneur' not found for note 'Work in public'.\n",
      "Warning: Target note 'politics' not found for note 'Work in public'.\n",
      "Warning: Target note 'crypto options' not found for note 'Work in public'.\n",
      "Warning: Target note 'augmented writer' not found for note 'Work in public'.\n",
      "Warning: Target note 'Victory File - Feedback Wins#Nitai 2024-05-23' not found for note 'Find what gives you energy'.\n",
      "Warning: Target note 'Weekly Projects#Takes a few years' not found for note 'Find what gives you energy'.\n",
      "Warning: Target note '2024-05-22 - Sabbatical Plan' not found for note 'Find what gives you energy'.\n",
      "Warning: Target note 'Joyspan' not found for note 'Find what gives you energy'.\n",
      "Warning: Target note '2024-07-23 - Lean into Augmented Engineer' not found for note 'Find what gives you energy'.\n",
      "Warning: Target note 'go deep on AI skills' not found for note 'Find what gives you energy'.\n",
      "Warning: Target note 'Join Othmane for Time Series AI role' not found for note 'Find what gives you energy'.\n",
      "Warning: Target note '2024-05-23 - Focus on AI Skills' not found for note 'Find what gives you energy'.\n",
      "Warning: Target note 'AI for Money Game#Find what gives you energy and pursue that.' not found for note 'Find what gives you energy'.\n"
     ]
    }
   ],
   "source": [
    "from pyvis.network import Network\n",
    "\n",
    "\n",
    "net = Network(height='800px', width='100%', notebook=True, directed=True)\n",
    "net.toggle_physics(False)\n",
    "# net.barnes_hut()\n",
    "\n",
    "scale_factor = 500\n",
    "\n",
    "for idx, row in df_dedup.iterrows():\n",
    "    tooltip = f\"<strong>{row['note_title']}</strong><br>Folder: {row['folder']}\"\n",
    "    # The node id can be the note_id (or note_title), and we pass x, y.\n",
    "    # Setting physics=False fixes the position.\n",
    "    net.add_node(\n",
    "        n_id=row['note_title'], \n",
    "        label=row['note_title'], \n",
    "        title=tooltip, \n",
    "        x=float(row['x'] * scale_factor), \n",
    "        y=float(row['y'] * scale_factor),\n",
    "        fixed={'x': True, 'y': True}\n",
    "    )\n",
    "\n",
    "valid_titles = set(df_dedup['note_title'])\n",
    "\n",
    "for idx, row in df_dedup.iterrows():\n",
    "    source_title = row['note_title']\n",
    "    # Check if links exists and iterate over them.\n",
    "    if row['links']:\n",
    "        for target_title in row['links']:\n",
    "            # Optional: clean up the target title string.\n",
    "            target_title = target_title.strip()\n",
    "            \n",
    "            # Only add the edge if the target note exists in our data.\n",
    "            if target_title in valid_titles:\n",
    "                net.add_edge(source_title, target_title)\n",
    "            else:\n",
    "                print(f\"Warning: Target note '{target_title}' not found for note '{source_title}'.\")\n",
    "\n"
   ]
  },
  {
   "cell_type": "code",
   "execution_count": 57,
   "metadata": {},
   "outputs": [
    {
     "name": "stdout",
     "output_type": "stream",
     "text": [
      "Warning: When  cdn_resources is 'local' jupyter notebook has issues displaying graphics on chrome/safari. Use cdn_resources='in_line' or cdn_resources='remote' if you have issues viewing graphics in a notebook.\n",
      "Warning: Target note 'The Knowledge Project with Shane Parrish' not found for note '#137 Justin Su'a Peak Mental Performance'.\n",
      "Warning: Target note 'The Tim Ferriss Show' not found for note '#648 James Clear, Atomic Habits — Simple Strategies for Building (And Breaking) Habits, Questions for Personal Mastery and Growth, Tactics for Writing and Launching a Mega-Bestseller, Finding Leverage, and More'.\n",
      "Warning: Target note 'Homework For Life' not found for note '0 - Quick Bits - 2024-09-13 - start your second brain'.\n",
      "Warning: Target note 'Home - Priorities' not found for note '0 - Tasks this Week'.\n",
      "Warning: Target note 'Index' not found for note '0 - Tasks this Week'.\n",
      "Warning: Target note 'Next' not found for note '0 - Tasks this Week'.\n",
      "Warning: Target note 'sahilbloom.com' not found for note '11 Things I Quit to Transform My Life  the Curiosity Chronicle'.\n",
      "Warning: Target note 'sahilbloom.com' not found for note '13 Harsh Truths About Success Nobody Told You  the Curiosity Chronicle'.\n",
      "Warning: Target note 'oneusefulthing.org' not found for note '15 Times to Use AI, and 5 Not To'.\n",
      "Warning: Target note 'psychology of money' not found for note '17 - Wealth is What You Don't See- How to Avoid Lifestyle Creep'.\n",
      "Warning: Target note 'growth mindset' not found for note '19 - Love Failure'.\n",
      "Warning: Target note 'Ideas - Dapp And Trading#Meme Coins' not found for note '2024-02-04 - Creating a Token'.\n",
      "Warning: Target note 'Bricks' not found for note '2024-09-19 - Compound Knowledge, Build Your Bricks'.\n",
      "Warning: Target note 'Packets' not found for note '2024-09-19 - Compound Knowledge, Build Your Bricks'.\n",
      "Warning: Target note 'Take consistent baby steps' not found for note '2024-09-19 - Compound Knowledge, Build Your Bricks'.\n",
      "Warning: Target note '2025-02-01 - AI for distillation' not found for note '2025-02-01'.\n",
      "Warning: Target note 'MOC - Dopamine Log' not found for note '2025-02-01'.\n",
      "Warning: Target note 'for search' not found for note '2025-02-01'.\n",
      "Warning: Target note 'RAG - more than just stuffing things in a context window' not found for note '2025-02-01 - AI for distillation, for search'.\n",
      "Warning: Target note '2025-01-31 - what story no longer serves me - trading no longer serves me' not found for note '2025-02-01 - Trading hedge fund vs ASH'.\n",
      "Warning: Target note 'open source creator entrepreneur' not found for note '2025-02-02'.\n",
      "Warning: Target note 'one thing book' not found for note '2025-02-02 - Time series focus'.\n",
      "Warning: Target note 'Sorry kept marriage secret' not found for note '23 - The Night I met My Wife, Thank You Dad'.\n",
      "Warning: Target note 'Thank You Dad - Meeting my Wife' not found for note '23 - The Night I met My Wife, Thank You Dad'.\n",
      "Warning: Target note 'Slow to adopt Smart phone' not found for note '24 - It's Time to Say Bye to Hive and Upgrade to Iceberg'.\n",
      "Warning: Target note '2-Reference/Books/How to Take Smart Notes' not found for note '27 - How to take Smart Notes to Build your Second Brain'.\n",
      "Warning: Target note 'Balance Create' not found for note '30 - Reflecting on 30 days of Podcasting'.\n",
      "Warning: Target note 'Learn Do Reflect' not found for note '30 - Reflecting on 30 days of Podcasting'.\n",
      "Warning: Target note 'Think' not found for note '30 - Reflecting on 30 days of Podcasting'.\n",
      "Warning: Target note 'Consume Triad' not found for note '30 - Reflecting on 30 days of Podcasting'.\n",
      "Warning: Target note 'sahilbloom.com' not found for note '34 Life Lessons From 34 Years  the Curiosity Chronicle'.\n",
      "Warning: Target note 'Liked' not found for note '34 Life Lessons From 34 Years  the Curiosity Chronicle'.\n",
      "Warning: Target note 'sahilbloom.com' not found for note '9 Hidden Signs of Personal Growth  the Curiosity Chronicle'.\n",
      "Warning: Target note 'Yung Pueblo' not found for note '9 Lessons From 9 Years of Marriage'.\n",
      "Warning: Target note 'Deep Dive with Ali Abdaal' not found for note '9 Systems to Build a Life of Abundance - Sahil Bloom'.\n",
      "Warning: Target note '2023-11-16 - Staff Summit - Day 2' not found for note 'A Business Solves a Problem'.\n",
      "Warning: Target note 'Liked' not found for note 'A Hierarchy First Approach to Note Taking'.\n",
      "Warning: Target note 'kevinslin.com' not found for note 'A Hierarchy First Approach to Note Taking'.\n",
      "Warning: Target note 'aysajan' not found for note 'A Reflection on Richard Hamming's You and Your Research Striving for Greatness'.\n",
      "Warning: Target note '1A few useful things to know about ML.excalidraw' not found for note 'A few useful things to know about ML'.\n",
      "Warning: Target note 'Liked' not found for note 'AI Agents Invade Observability Snake Oil or the Future of SRE'.\n",
      "Warning: Target note 'Clay Smith' not found for note 'AI Agents Invade Observability Snake Oil or the Future of SRE'.\n",
      "Warning: Target note 'Holding Company' not found for note 'AI Data Processing Platform - Summarization'.\n",
      "Warning: Target note 'Augmented Empire Community' not found for note 'AI Data Processing Platform - Summarization'.\n",
      "Warning: Target note 'AI Startup' not found for note 'AI Data Processing Platform - Summarization'.\n",
      "Warning: Target note 'Projects' not found for note 'AI Data Processing Platform - Summarization'.\n",
      "Warning: Target note 'Archived - My Learning' not found for note 'AI Data Processing Platform - Summarization'.\n",
      "Warning: Target note '& Skills to Develop' not found for note 'AI Data Processing Platform - Summarization'.\n",
      "Warning: Target note 'MOC - Moonshot Ideas' not found for note 'AI Data Processing Platform - Summarization'.\n",
      "Warning: Target note 'MOC - Category POV - AE - Augmented Engineer' not found for note 'AI Frees Us From the Mundane - Is a Tool'.\n",
      "Warning: Target note 'ai plugins' not found for note 'AI Plugins for Obsidian'.\n",
      "Warning: Target note 'Chat with Entire Second Brain - llamaindex' not found for note 'AI Plugins for Obsidian'.\n",
      "Warning: Target note 'crypto rebalance' not found for note 'AI Startup Ideas - Data Pruning - quality data for models - AGI - open source augmentation'.\n",
      "Warning: Target note '2024-10-xx - Otter - ai data Eng' not found for note 'AI Startup Ideas - Data Pruning - quality data for models - AGI - open source augmentation'.\n",
      "Warning: Target note 'career' not found for note 'AI Startup Ideas - Data Pruning - quality data for models - AGI - open source augmentation'.\n",
      "Warning: Target note '2024-05-26 - Summary and Next' not found for note 'AI on the Blockchain'.\n",
      "Warning: Target note 'Long Term#2025-01-11 - Three paths' not found for note 'AMOC - AI Data Engineer - AI Time Series Researcher'.\n",
      "Warning: Target note 'AMOC - Priorities' not found for note 'AMOC - AI Data Engineer - AI Time Series Researcher'.\n",
      "Warning: Target note 'aligning with work' not found for note 'AMOC - AI Data Engineer - AI Time Series Researcher'.\n",
      "Warning: Target note 'Vision' not found for note 'AMOC - AI Data Engineer - AI Time Series Researcher'.\n",
      "Warning: Target note '2025-01-06 - my daily note fix' not found for note 'AMOC - Meta - Obsidian - Second Brain - My Organization Process'.\n",
      "Warning: Target note 'AMOC - Priorities' not found for note 'AMOC - My Brand, My Niche and Creator Brand'.\n",
      "Warning: Target note 'Long Term' not found for note 'AMOC - My Brand, My Niche and Creator Brand'.\n",
      "Warning: Target note 'Vision' not found for note 'AMOC - My Brand, My Niche and Creator Brand'.\n",
      "Warning: Target note 'IEP Ethan - Doctor Nonye' not found for note 'AMOC - Parenting'.\n",
      "Warning: Target note 'MOC Journal - State of Union - Ruvi' not found for note 'AMOC - Parenting'.\n",
      "Warning: Target note 'Homework For Life' not found for note 'AMOC - Parenting'.\n",
      "Warning: Target note 'Home - Priorities' not found for note 'AMOC - Priorities, Vision, Long Term'.\n",
      "Warning: Target note 'Index' not found for note 'AMOC - Priorities, Vision, Long Term'.\n",
      "Warning: Target note 'Next' not found for note 'AMOC - Priorities, Vision, Long Term'.\n",
      "Warning: Target note 'zapier agents' not found for note 'AR Glasses with LLMs'.\n",
      "Warning: Target note 'DD podcast#AR Glasses' not found for note 'AR Glasses with LLMs'.\n",
      "Warning: Target note '2024-06-14 - AR' not found for note 'AR Glasses with LLMs'.\n",
      "Warning: Target note 'Visit Profile' not found for note 'Advice to the Young'.\n",
      "Warning: Target note '& Skills to Develop' not found for note 'Airbyte for AI Models API Unified'.\n",
      "Warning: Target note 'Projects' not found for note 'Airbyte for AI Models API Unified'.\n",
      "Warning: Target note 'Archived - My Learning' not found for note 'Airbyte for AI Models API Unified'.\n",
      "Warning: Target note 'Brand' not found for note 'Ali Abdaal Course'.\n",
      "Warning: Target note 'MOC - YouTube - Video Skill' not found for note 'Ali Abdaal Course'.\n",
      "Warning: Target note 'Analytics' not found for note 'Ali Abdaal Course'.\n",
      "Warning: Target note '2024-07-23 - Lean into Augmented Engineer' not found for note 'All about the data - LLMS - good ai about the data matters'.\n",
      "Warning: Target note 'I trained a local LLM on 7 months of my notes' not found for note 'All about the data - LLMS - good ai about the data matters'.\n",
      "Warning: Target note 'Join Othmane for Time Series AI role' not found for note 'All about the data - LLMS - good ai about the data matters'.\n",
      "Warning: Target note 'here's what I learned' not found for note 'All about the data - LLMS - good ai about the data matters'.\n",
      "Warning: Target note 'seths.blog' not found for note 'Are You Making Something'.\n",
      "Warning: Target note 'Idea File - The Augmented Engineer' not found for note 'Augmented Engineer - Outlines as Content'.\n",
      "Warning: Target note 'Michael Woudenberg' not found for note 'Augmenting Intelligence'.\n",
      "Warning: Target note 'Liked' not found for note 'Augmenting Intelligence'.\n",
      "Warning: Target note '2024-01-24 - Goal to own a Niche - WFHFIRE plant the flag' not found for note 'Avoid Idea Hopping - Ideas are Cheap, Execution is What Matters'.\n",
      "Warning: Target note 'awareness' not found for note 'Awareness - bees only know they are bees'.\n",
      "Warning: Target note '2024-06-08 - Augmented Writer thinking' not found for note 'Be a good listener'.\n",
      "Warning: Target note 'Reminder' not found for note 'Better Pomodoro'.\n",
      "Warning: Target note 'Habit Triggers - Calendar' not found for note 'Better Pomodoro'.\n",
      "Warning: Target note 'Brand' not found for note 'Billions of views on YouTube'.\n",
      "Warning: Target note 'MOC - YouTube - Video Skill' not found for note 'Billions of views on YouTube'.\n",
      "Warning: Target note 'Analytics' not found for note 'Billions of views on YouTube'.\n",
      "Warning: Target note '2024-08-23 - ai eval' not found for note 'Biographies are mentorships with the dead'.\n",
      "Warning: Target note 'politics#Look at who’s biographies you enjoy' not found for note 'Biographies are mentorships with the dead'.\n",
      "Warning: Target note 'crypto options' not found for note 'Biographies are mentorships with the dead'.\n",
      "Warning: Target note 'politics#I cry when I’m onto it' not found for note 'Biographies are mentorships with the dead'.\n",
      "Warning: Target note 'augmented writer' not found for note 'Biographies are mentorships with the dead'.\n",
      "Warning: Target note '(deprecated) Journal - Tech FIRE - WFHFIRE -#2024-01-24' not found for note 'Book Content Map - 5.5 Hour Work Day'.\n",
      "Warning: Target note 'WFHFIRE - Category POV - v1' not found for note 'Book Content Map - 5.5 Hour Work Day'.\n",
      "Warning: Target note 'samuelthomasdavies.com' not found for note 'Book Summary Steal Like an Artist by Austin Kleon'.\n",
      "Warning: Target note 'sahilbloom.com' not found for note 'Brutally Honest Advice to My Younger Self  the Curiosity Chronicle'.\n",
      "Warning: Target note 'experiment more - take action' not found for note 'Build More - Be Curious, Take Action - Ask questions, Solve problems'.\n",
      "Warning: Target note 'do things' not found for note 'Build More - Be Curious, Take Action - Ask questions, Solve problems'.\n",
      "Warning: Target note 'plan less' not found for note 'Build More - Be Curious, Take Action - Ask questions, Solve problems'.\n",
      "Warning: Target note '2-Reference/Writing Skills/Ship30For30/My Observations' not found for note 'Build a Community'.\n",
      "Warning: Target note '(deprecated) Journal - Chris Lettieri - Augmented Engineer#2023-12-31 - My Routine' not found for note 'Building a Digital Business'.\n",
      "Warning: Target note 'Twitter Frustrations#Sales Ali' not found for note 'Business and Sales solve problems'.\n",
      "Warning: Target note 'Niche' not found for note 'Business and Sales solve problems'.\n",
      "Warning: Target note '2024-06-27 - Be My Self' not found for note 'Business and Sales solve problems'.\n",
      "Warning: Target note 'C4 Architecture Model' not found for note 'C4 Model with PlantUML'.\n",
      "Warning: Target note 'Outline As Content Templates' not found for note 'CT - Level 2 Notes'.\n",
      "Warning: Target note 'Main MOC - Chris On Data' not found for note 'Chaining LLMs - LLM Ensemble'.\n",
      "Warning: Target note 'Three Ways to Scale Yourself Beyond Mid-Level Engineer' not found for note 'Coding Skill Ceiling'.\n",
      "Warning: Target note 'ChatGPT - Category POV - LinkedIn and AE' not found for note 'Coding Skill Ceiling'.\n",
      "Warning: Target note 'Deep Dive with Ali Abdaal' not found for note 'Confronting My Productivity Guru - Tiago Forte'.\n",
      "Warning: Target note 'Focus your Learning' not found for note 'Consume the same content'.\n",
      "Warning: Target note 'not too much at once' not found for note 'Consume the same content'.\n",
      "Warning: Target note '2024-01-28 - Goal To Build Library of Content' not found for note 'Content Pieces are Assets Make them Quality'.\n",
      "Warning: Target note '& Skills to Develop' not found for note 'Context Aware AI Project Manager'.\n",
      "Warning: Target note 'Projects' not found for note 'Context Aware AI Project Manager'.\n",
      "Warning: Target note 'Archived - My Learning' not found for note 'Context Aware AI Project Manager'.\n",
      "Warning: Target note 'AI is having your own army of junior coders' not found for note 'Core Principles of AE'.\n",
      "Warning: Target note 'Social Platforms Lessons Learned' not found for note 'Credibility in Writing, Present Yourself Avatar'.\n",
      "Warning: Target note 'Journal - LEAN Writing Observations' not found for note 'Credibility in Writing, Present Yourself Avatar'.\n",
      "Warning: Target note 'ai plugins' not found for note 'DONE PMOC - Train LLM on My Data'.\n",
      "Warning: Target note 'Chat with Entire Second Brain - llamaindex' not found for note 'DONE PMOC - Train LLM on My Data'.\n",
      "Warning: Target note '2025-01-03#the nice thing about racism today' not found for note 'Daryl Davis Way'.\n",
      "Warning: Target note '2025-01-09 - Niche - data engineer for Ai research' not found for note 'Data as training samples'.\n",
      "Warning: Target note 'Ideas - Data Engineer Research' not found for note 'Data as training samples'.\n",
      "Warning: Target note 'Ideas - Data Engineer Research' not found for note 'Data centric AI'.\n",
      "Warning: Target note '2025-01-31 - compress at the token level' not found for note 'Data compression by meaning - data pruning'.\n",
      "Warning: Target note 'RAG - more than just stuffing things in a context window' not found for note 'Data compression by meaning - data pruning'.\n",
      "Warning: Target note '2025-01-29 - Clustering at training time or for RAG' not found for note 'Data compression by meaning - data pruning'.\n",
      "Warning: Target note 'Thank You Dad' not found for note 'Deliver on the Emotional Promise Entertaining'.\n",
      "Warning: Target note '23 - The Night I met My Wife' not found for note 'Deliver on the Emotional Promise Entertaining'.\n",
      "Warning: Target note 'Brand' not found for note 'Descript TikTok'.\n",
      "Warning: Target note 'MOC - YouTube - Video Skill' not found for note 'Descript TikTok'.\n",
      "Warning: Target note 'Analytics' not found for note 'Descript TikTok'.\n",
      "Warning: Target note 'Pasted image 20240108204703.png' not found for note 'Design tools of visualize value'.\n",
      "Warning: Target note 'MOC - Category POV - AE - Augmented Engineer' not found for note 'Digital exoskeleton'.\n",
      "Warning: Target note 'Focus your Learning' not found for note 'Do One Thing Better'.\n",
      "Warning: Target note 'not too much at once' not found for note 'Do One Thing Better'.\n",
      "Warning: Target note 'Can you Fat FIRE as just an employee' not found for note 'Do you need more than employee to be fat fire'.\n",
      "Warning: Target note 'Projects' not found for note 'Documentation ChatBot'.\n",
      "Warning: Target note '& Skills to Develop' not found for note 'Documentation ChatBot'.\n",
      "Warning: Target note 'Archived - My Learning' not found for note 'Documentation ChatBot'.\n",
      "Warning: Target note '2-Reference/Writing Skills/Ship30For30/Course Notes' not found for note 'Don't Build Something New, Unless Different'.\n",
      "Warning: Target note 'YT - the 5 stages of become an expert developer' not found for note 'Drawing on the right side of the brain'.\n",
      "Warning: Target note 'rest' not found for note 'Energy ebbs and flows'.\n",
      "Warning: Target note 'Take naps' not found for note 'Energy ebbs and flows'.\n",
      "Warning: Target note 'Deep Questions with Cal Newport' not found for note 'Ep. 278 How to Think'.\n",
      "Warning: Target note 'Deep Questions with Cal Newport' not found for note 'Ep. 326 Time to Unplug'.\n",
      "Warning: Target note 'Specific Knowledge' not found for note 'Escape competition through authenticity'.\n",
      "Warning: Target note 'Ikigai' not found for note 'Escape competition through authenticity'.\n",
      "Warning: Target note 'Category' not found for note 'Escape competition through authenticity'.\n",
      "Warning: Target note 'MOC - Exploring My Niche' not found for note 'Escape competition through authenticity'.\n",
      "Warning: Target note '2024-09 - StaffPlus Conference HW' not found for note 'Everybody is Faking it - Impostor Syndrome'.\n",
      "Warning: Target note 'Homework For Life#2024-04-07' not found for note 'Extroverted effort on Introverts making friends'.\n",
      "Warning: Target note 'e-student.org' not found for note 'Feynman Technique A Complete Beginner’s Guide - E-Student'.\n",
      "Warning: Target note 'Victory File - Feedback Wins#Nitai 2024-05-23' not found for note 'Find what gives you energy'.\n",
      "Warning: Target note 'Weekly Projects#Takes a few years' not found for note 'Find what gives you energy'.\n",
      "Warning: Target note '2024-05-22 - Sabbatical Plan' not found for note 'Find what gives you energy'.\n",
      "Warning: Target note 'Joyspan' not found for note 'Find what gives you energy'.\n",
      "Warning: Target note '2024-07-23 - Lean into Augmented Engineer' not found for note 'Find what gives you energy'.\n",
      "Warning: Target note 'go deep on AI skills' not found for note 'Find what gives you energy'.\n",
      "Warning: Target note 'Join Othmane for Time Series AI role' not found for note 'Find what gives you energy'.\n",
      "Warning: Target note '2024-05-23 - Focus on AI Skills' not found for note 'Find what gives you energy'.\n",
      "Warning: Target note 'AI for Money Game#Find what gives you energy and pursue that.' not found for note 'Find what gives you energy'.\n",
      "Warning: Target note 'Joyspan' not found for note 'Finding Niche - take forward steps'.\n",
      "Warning: Target note 'AI for Money Game' not found for note 'Finding Niche - take forward steps'.\n",
      "Warning: Target note '2024-05-22 - Sabbatical Plan' not found for note 'Finding Niche - take forward steps'.\n",
      "Warning: Target note '2024-01-21 - WFH FIRE (work from home)' not found for note 'Fired for jerking off'.\n",
      "Warning: Target note 'Focus on one thing but context switch higher up' not found for note 'Focus on the Most Important thing - Focus on the What'.\n",
      "Warning: Target note 'mail.jpg' not found for note 'Free Email Course and Misc Notes'.\n",
      "Warning: Target note 'Presentation Skills for Software Engineers' not found for note 'Give a good presentation'.\n",
      "Warning: Target note '2-Reference/Writing Skills/Ship30For30/My Observations' not found for note 'Give away Value to get sign ups'.\n",
      "Warning: Target note '2-Reference/Writing Skills/Ship30For30/My Observations' not found for note 'Give away for free to get attention'.\n",
      "Warning: Target note '3 Communication Mistakes I Made as a Staff Engineer and How Im Fixing Them' not found for note 'Good Communication is Clear'.\n",
      "Warning: Target note 'Can you Fat FIRE as just an employee' not found for note 'HENRY - how to get wealth from earner to wealth'.\n",
      "Warning: Target note '2023-11-15 - Habit Triggers' not found for note 'Habit Triggers - Calendar, Reminder'.\n",
      "Warning: Target note 'Habit Triggers - Calendar' not found for note 'High ROI Habits ROTI - Time Rich'.\n",
      "Warning: Target note 'Especially If There Awhile' not found for note 'High ROI Habits ROTI - Time Rich'.\n",
      "Warning: Target note 'Try New Things' not found for note 'High ROI Habits ROTI - Time Rich'.\n",
      "Warning: Target note 'Reminder' not found for note 'High ROI Habits ROTI - Time Rich'.\n",
      "Warning: Target note 'Brand' not found for note 'Home - Priorities, Next, Index'.\n",
      "Warning: Target note 'Analytics' not found for note 'Home - Priorities, Next, Index'.\n",
      "Warning: Target note 'MOC - YouTube - Video Skill' not found for note 'Home - Priorities, Next, Index'.\n",
      "Warning: Target note 'AMOC - Priorities' not found for note 'Home - Priorities, Next, Index'.\n",
      "Warning: Target note 'Long Term' not found for note 'Home - Priorities, Next, Index'.\n",
      "Warning: Target note 'AMOC - My Brand' not found for note 'Home - Priorities, Next, Index'.\n",
      "Warning: Target note 'My Niche and Creator Brand' not found for note 'Home - Priorities, Next, Index'.\n",
      "Warning: Target note 'Vision' not found for note 'Home - Priorities, Next, Index'.\n",
      "Warning: Target note 'Avil Beckford' not found for note 'Hook Point How to Stand Out in a 3-Second World by Brendan Kane'.\n",
      "Warning: Target note 'Liked' not found for note 'Hook Point How to Stand Out in a 3-Second World by Brendan Kane'.\n",
      "Warning: Target note 'Deep Dive with Ali Abdaal' not found for note 'How Dopamine Shapes Your Habits and Productivity - Tj Power'.\n",
      "Warning: Target note 'Ege Erdil' not found for note 'How Has DeepSeek Improved the Transformer Architecture'.\n",
      "Warning: Target note 'Liked' not found for note 'How I Built a #1-Ranked Podcast With 60M+ Downloads - The Blog of Author Tim Ferriss'.\n",
      "Warning: Target note 'tim.blog' not found for note 'How I Built a #1-Ranked Podcast With 60M+ Downloads - The Blog of Author Tim Ferriss'.\n",
      "Warning: Target note 'Deep Dive with Ali Abdaal' not found for note 'How I Grew From 0 to 500k Followers in Under 2 Years - Sahil Bloom'.\n",
      "Warning: Target note 'fchollet.substack.com' not found for note 'How I Think About LLM Prompt Engineering'.\n",
      "Warning: Target note 'nicholas.carlini.com' not found for note 'How I Use AI'.\n",
      "Warning: Target note 'Liked' not found for note 'How I Use AI'.\n",
      "Warning: Target note '2024-01-05 - Data Engineering and Trading' not found for note 'How I transitioned to engineering from non tech'.\n",
      "Warning: Target note 'Deep Dive with Ali Abdaal' not found for note 'How to Build a Business That Lets You Quit Your Job - Dickie Bush'.\n",
      "Warning: Target note 'paulgraham.com' not found for note 'How to Do What You Love'.\n",
      "Warning: Target note 'swyx.io' not found for note 'How to Learn in Private'.\n",
      "Warning: Target note 'Deep Dive with Ali Abdaal' not found for note 'How to Stay Focused and Beat Distraction - Nir Eyal'.\n",
      "Warning: Target note 'WFH Comedy' not found for note 'I am a content factory - build the factory'.\n",
      "Warning: Target note 'Lumen - AI Comedian' not found for note 'I am a content factory - build the factory'.\n",
      "Warning: Target note 'The only true passive investments' not found for note 'I give you permission to focus on your career as your side hustle'.\n",
      "Warning: Target note 'dont make a second job' not found for note 'I give you permission to focus on your career as your side hustle'.\n",
      "Warning: Target note '(deprecated) Journal - Bits of Chris' not found for note 'I meditated on Navals and heres what I see'.\n",
      "Warning: Target note 'Parenting two toddlers Staff Eng Migrations' not found for note 'Iceberg Summit 2024'.\n",
      "Warning: Target note 'augmented learner' not found for note 'Idea Validation Pipeline'.\n",
      "Warning: Target note 'ai for real life ideas' not found for note 'Idea Validation Pipeline'.\n",
      "Warning: Target note 'video' not found for note 'Idea Validation Pipeline'.\n",
      "Warning: Target note '2024-06-18 - idea validation first' not found for note 'Idea Validation Pipeline'.\n",
      "Warning: Target note '3-MOCs and Projects/Projects/Trading and Crypto/Later List' not found for note 'Ideas - Dapp And Trading'.\n",
      "Warning: Target note 'Youth Rugby 7s League' not found for note 'Inclusive to the Core'.\n",
      "Warning: Target note 'sahilbloom.com' not found for note 'Information-Action Gap, One Decision Away, & More  the Curiosity Chronicle'.\n",
      "Warning: Target note 'Especially If There Awhile' not found for note 'Introduce Entropy Random to Routine'.\n",
      "Warning: Target note 'Try New Things' not found for note 'Introduce Entropy Random to Routine'.\n",
      "Warning: Target note 'Especially If There Awhile' not found for note 'Invest in Things That Last'.\n",
      "Warning: Target note '2023-10-26 - DB Index Deep Dive Idea' not found for note 'Invest in Things That Last'.\n",
      "Warning: Target note 'Try New Things' not found for note 'Invest in Things That Last'.\n",
      "Warning: Target note 'Kevin Zhang' not found for note 'Investing in the Age of Generative AI'.\n",
      "Warning: Target note 'Especially If There Awhile' not found for note 'Just get started'.\n",
      "Warning: Target note 'Try New Things' not found for note 'Just get started'.\n",
      "Warning: Target note '& Skills to Develop' not found for note 'LLM Story Extractor Book Editor'.\n",
      "Warning: Target note 'Projects' not found for note 'LLM Story Extractor Book Editor'.\n",
      "Warning: Target note 'Archived - My Learning' not found for note 'LLM Story Extractor Book Editor'.\n",
      "Warning: Target note '& Skills to Develop' not found for note 'LLM Text Adventures'.\n",
      "Warning: Target note 'Archived - My Learning' not found for note 'LLM Text Adventures'.\n",
      "Warning: Target note 'Projects' not found for note 'LLM Text Adventures'.\n",
      "Warning: Target note 'Cloud Atlas - initial Questions and thoughts' not found for note 'LLM for journal parsing'.\n",
      "Warning: Target note 'DD podcast#AI Agents with Zapier' not found for note 'LLM for journal parsing'.\n",
      "Warning: Target note '2024-06-14 - AR' not found for note 'LLM for journal parsing'.\n",
      "Warning: Target note 'zapier agents' not found for note 'LLM for journal parsing'.\n",
      "Warning: Target note 'piaoyang0.wordpress.com' not found for note 'LLMs Are Not Suitable for (Advanced) Brainstorming'.\n",
      "Warning: Target note 'Balance Create' not found for note 'LONG - I wrote everyday for 45 days here's what I learned and why I wont do it again'.\n",
      "Warning: Target note 'Learn Do Reflect' not found for note 'LONG - I wrote everyday for 45 days here's what I learned and why I wont do it again'.\n",
      "Warning: Target note 'Think' not found for note 'LONG - I wrote everyday for 45 days here's what I learned and why I wont do it again'.\n",
      "Warning: Target note 'Consume Triad' not found for note 'LONG - I wrote everyday for 45 days here's what I learned and why I wont do it again'.\n",
      "Warning: Target note 'ai.meta.com' not found for note 'Large Concept Models Language Modeling in a Sentence Representation Space  Research - AI at Meta'.\n",
      "Warning: Target note 'understandingai.org' not found for note 'Large Language Models, Explained With a Minimum of Math and Jargon'.\n",
      "Warning: Target note 'Liked' not found for note 'Large Language Models, Explained With a Minimum of Math and Jargon'.\n",
      "Warning: Target note 'MOC - Engineering Book' not found for note 'Leading by Editing'.\n",
      "Warning: Target note '2024-04-09 - Finding ways to create content during projects' not found for note 'Learning Gears'.\n",
      "Warning: Target note 'css-tricks.com' not found for note 'Learning to Learn  CSS-Tricks'.\n",
      "Warning: Target note 'Liked' not found for note 'Learning to Learn  CSS-Tricks'.\n",
      "Warning: Target note 'kevin.the.li' not found for note 'Learning to Learn  KL'.\n",
      "Warning: Target note 'dev.jimgrey.net' not found for note 'Lessons Learned in 35 Years of Making Software'.\n",
      "Warning: Target note 'Liked' not found for note 'Lessons Learned in 35 Years of Making Software'.\n",
      "Warning: Target note '2024-03-29 - Supercommunicated with Justin' not found for note 'Levels of Life'.\n",
      "Warning: Target note 'Tanner Garrity' not found for note 'Life Lessons From Einstein's Gedankenexperiments'.\n",
      "Warning: Target note 'Liked' not found for note 'Life Lessons From Einstein's Gedankenexperiments'.\n",
      "Warning: Target note 'Specific Knowledge' not found for note 'Lifestyle Business, Minimalist Entreprenuer, Values'.\n",
      "Warning: Target note 'Niche' not found for note 'Lifestyle Business, Minimalist Entreprenuer, Values'.\n",
      "Warning: Target note 'Goals' not found for note 'Lifestyle Business, Minimalist Entreprenuer, Values'.\n",
      "Warning: Target note 'Niches' not found for note 'Lifestyle Business, Minimalist Entreprenuer, Values'.\n",
      "Warning: Target note 'MOC - Writing Why' not found for note 'Lifestyle Business, Minimalist Entreprenuer, Values'.\n",
      "Warning: Target note 'Be Uniquely You' not found for note 'Lifestyle Business, Minimalist Entreprenuer, Values'.\n",
      "Warning: Target note 'Storytelling' not found for note 'Lincoln Quote'.\n",
      "Warning: Target note 'Storyworthy with Matthew Dicks' not found for note 'Lincoln Quote'.\n",
      "Warning: Target note 'Balance Create' not found for note 'Listen - Do - Share Flywheel'.\n",
      "Warning: Target note 'Learn Do Reflect' not found for note 'Listen - Do - Share Flywheel'.\n",
      "Warning: Target note 'Think' not found for note 'Listen - Do - Share Flywheel'.\n",
      "Warning: Target note '2024-06-12 - My Content Flywheel' not found for note 'Listen - Do - Share Flywheel'.\n",
      "Warning: Target note 'Consume Triad' not found for note 'Listen - Do - Share Flywheel'.\n",
      "Warning: Target note '2-Reference/Writing Skills/Ship30For30/My Observations' not found for note 'Live Session 2 - Lean Writing'.\n",
      "Warning: Target note 'eig.png' not found for note 'Live Session 3 - EIG'.\n",
      "Warning: Target note 'Zhangchi Feng' not found for note 'LlamaFactory Unified Efficient Fine-Tuning of 100+ Language Models'.\n",
      "Warning: Target note 'Junhao Zhang' not found for note 'LlamaFactory Unified Efficient Fine-Tuning of 100+ Language Models'.\n",
      "Warning: Target note 'Richong Zhang' not found for note 'LlamaFactory Unified Efficient Fine-Tuning of 100+ Language Models'.\n",
      "Warning: Target note 'Yaowei Zheng' not found for note 'LlamaFactory Unified Efficient Fine-Tuning of 100+ Language Models'.\n",
      "Warning: Target note 'Zheyan Luo' not found for note 'LlamaFactory Unified Efficient Fine-Tuning of 100+ Language Models'.\n",
      "Warning: Target note 'Yongqiang Ma' not found for note 'LlamaFactory Unified Efficient Fine-Tuning of 100+ Language Models'.\n",
      "Warning: Target note 'ai/finetune' not found for note 'LlamaFactory Unified Efficient Fine-Tuning of 100+ Language Models'.\n",
      "Warning: Target note 'Yanhan Ye' not found for note 'LlamaFactory Unified Efficient Fine-Tuning of 100+ Language Models'.\n",
      "Warning: Target note 'Brand' not found for note 'MOC - AI Papers - AI Research in 1 Minute'.\n",
      "Warning: Target note 'Analytics' not found for note 'MOC - AI Papers - AI Research in 1 Minute'.\n",
      "Warning: Target note 'MOC - YouTube - Video Skill' not found for note 'MOC - AI Papers - AI Research in 1 Minute'.\n",
      "Warning: Target note 'Main MOC - Chris On Data' not found for note 'MOC - AI for Thinkers - Augmented Learner Tools and Brand'.\n",
      "Warning: Target note 'Holding Company' not found for note 'MOC - ASH - ARIA - the augmented intelligence company - moonshot'.\n",
      "Warning: Target note 'open source ai' not found for note 'MOC - ASH - ARIA - the augmented intelligence company - moonshot'.\n",
      "Warning: Target note 'Augmented Empire Community' not found for note 'MOC - ASH - ARIA - the augmented intelligence company - moonshot'.\n",
      "Warning: Target note 'AI Startup' not found for note 'MOC - ASH - ARIA - the augmented intelligence company - moonshot'.\n",
      "Warning: Target note 'MOC - Moonshot Ideas' not found for note 'MOC - ASH - ARIA - the augmented intelligence company - moonshot'.\n",
      "Warning: Target note 'Specific Knowledge' not found for note 'MOC - Advice on Finding Your Niche Special Knowledge'.\n",
      "Warning: Target note 'Ikigai' not found for note 'MOC - Advice on Finding Your Niche Special Knowledge'.\n",
      "Warning: Target note '2024-08-23 - ai eval' not found for note 'MOC - Advice on Finding Your Niche Special Knowledge'.\n",
      "Warning: Target note 'MOC - Exploring My Niche' not found for note 'MOC - Advice on Finding Your Niche Special Knowledge'.\n",
      "Warning: Target note 'Category' not found for note 'MOC - Advice on Finding Your Niche Special Knowledge'.\n",
      "Warning: Target note 'Niche' not found for note 'MOC - Advice on Finding Your Niche Special Knowledge'.\n",
      "Warning: Target note 'When Start Writing' not found for note 'MOC - Advice on Finding Your Niche Special Knowledge'.\n",
      "Warning: Target note 'crypto options' not found for note 'MOC - Advice on Finding Your Niche Special Knowledge'.\n",
      "Warning: Target note 'politics#I cry when I’m onto it' not found for note 'MOC - Advice on Finding Your Niche Special Knowledge'.\n",
      "Warning: Target note 'Dont Niche First' not found for note 'MOC - Advice on Finding Your Niche Special Knowledge'.\n",
      "Warning: Target note 'Be Uniquely You' not found for note 'MOC - Advice on Finding Your Niche Special Knowledge'.\n",
      "Warning: Target note 'augmented writer' not found for note 'MOC - Advice on Finding Your Niche Special Knowledge'.\n",
      "Warning: Target note 'Ideas - Data Engineer Research' not found for note 'MOC - Doing research, being scientist'.\n",
      "Warning: Target note 'Specific Knowledge' not found for note 'MOC - Exploring My Niche, Ikigai, Specific Knowledge, Category'.\n",
      "Warning: Target note '2024-01-05 - Data Engineering and Trading' not found for note 'MOC - Exploring My Niche, Ikigai, Specific Knowledge, Category'.\n",
      "Warning: Target note 'Niche' not found for note 'MOC - Exploring My Niche, Ikigai, Specific Knowledge, Category'.\n",
      "Warning: Target note '(deprecated) Journal - Bits of Chris' not found for note 'MOC - Exploring My Niche, Ikigai, Specific Knowledge, Category'.\n",
      "Warning: Target note '2023-11-22 - Why I Write aka My Niche' not found for note 'MOC - Exploring My Niche, Ikigai, Specific Knowledge, Category'.\n",
      "Warning: Target note '2024-01-03 - Exploring Niche' not found for note 'MOC - Exploring My Niche, Ikigai, Specific Knowledge, Category'.\n",
      "Warning: Target note 'Be Uniquely You' not found for note 'MOC - Exploring My Niche, Ikigai, Specific Knowledge, Category'.\n",
      "Warning: Target note 'Vision' not found for note 'MOC - Exploring My Niche, Ikigai, Specific Knowledge, Category'.\n",
      "Warning: Target note '2025-01-26 - You and your research lecture' not found for note 'MOC - Great Thoughts - Big Thoughts'.\n",
      "Warning: Target note '2024-04-10 - Project Work to Guide Learning In Public' not found for note 'MOC - Learn in Public - Part Time Creator'.\n",
      "Warning: Target note 'CL is BoC' not found for note 'MOC - Learn in Public - Part Time Creator'.\n",
      "Warning: Target note 'Tech evangelists marketers' not found for note 'MOC - Learn in Public - Part Time Creator'.\n",
      "Warning: Target note 'My Niche and Creator Brand#2024-09-02 - who do I want to serve' not found for note 'MOC - Marketing'.\n",
      "Warning: Target note 'AMOC - My Brand' not found for note 'MOC - Marketing'.\n",
      "Warning: Target note 'Brand' not found for note 'MOC - Mind Mapping, Visual PKM'.\n",
      "Warning: Target note 'MOC - YouTube - Video Skill' not found for note 'MOC - Mind Mapping, Visual PKM'.\n",
      "Warning: Target note 'Analytics' not found for note 'MOC - Mind Mapping, Visual PKM'.\n",
      "Warning: Target note '& Skills to Develop' not found for note 'MOC - Moonshot Ideas, AI Startup, Holding Company, Augmented Empire Community'.\n",
      "Warning: Target note 'Archived - My Learning' not found for note 'MOC - Moonshot Ideas, AI Startup, Holding Company, Augmented Empire Community'.\n",
      "Warning: Target note 'Projects' not found for note 'MOC - Moonshot Ideas, AI Startup, Holding Company, Augmented Empire Community'.\n",
      "Warning: Target note '2025-01-18 - My purpose' not found for note 'MOC - My Mission'.\n",
      "Warning: Target note 'my mission and old notes' not found for note 'MOC - My Mission'.\n",
      "Warning: Target note 'Podcast Relaunch - Research Focus' not found for note 'MOC - My Podcast - Bits of Chris'.\n",
      "Warning: Target note 'Reasoning in LLMs - DeepSeek' not found for note 'MOC - Reasoning and deep seek'.\n",
      "Warning: Target note 'R1' not found for note 'MOC - Reasoning and deep seek'.\n",
      "Warning: Target note '2024-01-28 - Remote Engineers - Audience' not found for note 'MOC - Remote Engineers Club'.\n",
      "Warning: Target note 'Ethan DVD Surprise - Story#Script' not found for note 'MOC - StaffPlus Talk'.\n",
      "Warning: Target note '2024-09 - StaffPlus Conference HW' not found for note 'MOC - StaffPlus Talk'.\n",
      "Warning: Target note 'Ethan DVD Surprise - Notes' not found for note 'MOC - StaffPlus Talk'.\n",
      "Warning: Target note 'Homework For Life' not found for note 'MOC - Storytelling'.\n",
      "Warning: Target note 'Storytelling' not found for note 'MOC - Storytelling'.\n",
      "Warning: Target note 'Storyworthy with Matthew Dicks' not found for note 'MOC - Storytelling'.\n",
      "Warning: Target note 'Template - Anatomy of a Story' not found for note 'MOC - Storytelling'.\n",
      "Warning: Target note '2-Reference/Writing Skills/Visualize Value/Course Notes' not found for note 'MOC - VV Jack Butcher'.\n",
      "Warning: Target note 'MOC - Category POV - Joyspan - wfhfire v2' not found for note 'MOC - WFHFIRE - Time Rich Investing'.\n",
      "Warning: Target note 'CT Exercise - WFHFIRE  v1' not found for note 'MOC - WFHFIRE - Time Rich Investing'.\n",
      "Warning: Target note 'WFHFIRE - Category POV - v1' not found for note 'MOC - WFHFIRE - Time Rich Investing'.\n",
      "Warning: Target note 'learn how to build software' not found for note 'MOC Idea - ASH - Augment stay human map'.\n",
      "Warning: Target note 'not write code' not found for note 'MOC Idea - ASH - Augment stay human map'.\n",
      "Warning: Target note 'Brand' not found for note 'MOC Journal - YouTube'.\n",
      "Warning: Target note 'MOC - YouTube - Video Skill' not found for note 'MOC Journal - YouTube'.\n",
      "Warning: Target note 'Analytics' not found for note 'MOC Journal - YouTube'.\n",
      "Warning: Target note 'Focus your Learning' not found for note 'MOC- Ship 30 for 30 Big Ideas'.\n",
      "Warning: Target note 'not too much at once' not found for note 'MOC- Ship 30 for 30 Big Ideas'.\n",
      "Warning: Target note '2024-06-16 - start up' not found for note 'Meme Coin for Creators'.\n",
      "Warning: Target note '2024-06-15 - dont publish high' not found for note 'Meme Coin for Creators'.\n",
      "Warning: Target note 'fathers day' not found for note 'Meme Coin for Creators'.\n",
      "Warning: Target note 'learn do share' not found for note 'Meme Coin for Creators'.\n",
      "Warning: Target note 'dont rush to quit' not found for note 'Meme Coin for Creators'.\n",
      "Warning: Target note '2024-06-08 - Augmented Writer thinking#Meme coin idea' not found for note 'Meme Coin for Creators'.\n",
      "Warning: Target note 'podcast' not found for note 'Meme Coin for Creators'.\n",
      "Warning: Target note 'Be Uniquely You' not found for note 'Money is a by product of the value you provide'.\n",
      "Warning: Target note 'Niche' not found for note 'Money is a by product of the value you provide'.\n",
      "Warning: Target note 'Specific Knowledge' not found for note 'Money is a by product of the value you provide'.\n",
      "Warning: Target note '2024-04-18 - dopamine detox log' not found for note 'More Molecule'.\n",
      "Warning: Target note '(deprecated) Journal - Chris Lettieri - Augmented Engineer#2023-12-31 - Motivation' not found for note 'Most Ideas Suck, just return to the good ones'.\n",
      "Warning: Target note 'my hobby' not found for note 'My Fear of Writing in Public'.\n",
      "Warning: Target note '2024-01-07 - Write as me' not found for note 'My Fear of Writing in Public'.\n",
      "Warning: Target note 'write for fun' not found for note 'My Fear of Writing in Public'.\n",
      "Warning: Target note 'Balance Create' not found for note 'My Focus Routine'.\n",
      "Warning: Target note 'Learn Do Reflect' not found for note 'My Focus Routine'.\n",
      "Warning: Target note 'Think' not found for note 'My Focus Routine'.\n",
      "Warning: Target note 'Consume Triad' not found for note 'My Focus Routine'.\n",
      "Warning: Target note '(deprecated) Journal - Chris Lettieri - Augmented Engineer#2023-12-31 - My Routine' not found for note 'My Productivity Routine'.\n",
      "Warning: Target note 'How I Use AI In My Second Brain#Tools I use' not found for note 'My Tools That I Use'.\n",
      "Warning: Target note '2024-01-05 - Data Engineering and Trading' not found for note 'My Trading Algo made 30k one afternoon but I still had to quit'.\n",
      "Warning: Target note '(deprecated) Journal - Chris Lettieri - Augmented Engineer#2023-12-31 - Motivation' not found for note 'Naval Up Everyday'.\n",
      "Warning: Target note 'neuralnetworksanddeeplearning.com' not found for note 'Neural Networks and Deep Learning'.\n",
      "Warning: Target note 'neuralnetworksanddeeplearning.com' not found for note 'Neural Networks and Deep Learning-2'.\n",
      "Warning: Target note 'Brand' not found for note 'New Tubers'.\n",
      "Warning: Target note 'MOC - YouTube - Video Skill' not found for note 'New Tubers'.\n",
      "Warning: Target note 'Analytics' not found for note 'New Tubers'.\n",
      "Warning: Target note 'Can you Fat FIRE as just an employee' not found for note 'New grad to millionaire, the 10 year plan for tech workers.'.\n",
      "Warning: Target note '2-Reference/Writing Skills/Visualize Value/My Observations' not found for note 'Observations on Other Influencers Creators'.\n",
      "Warning: Target note '2-Reference/Writing Skills/Ship30For30/My Observations' not found for note 'Observations on Other Influencers Creators'.\n",
      "Warning: Target note 'seths.blog' not found for note 'Ode How to Tell a Great Story'.\n",
      "Warning: Target note 'about.fb.com' not found for note 'Open Source AI Is the Path Forward  Meta'.\n",
      "Warning: Target note 'WFHFIRE - Category POV - v1' not found for note 'Optimize for Fulfillment Rate'.\n",
      "Warning: Target note 'MOC - Me a Founder' not found for note 'Organic Problems - follow your interests, curiosity'.\n",
      "Warning: Target note '(deprecated) Journal - Chris Lettieri - Augmented Engineer#2023-12-31 - Ive hit the compound effect' not found for note 'PKM ZK for Digital Business'.\n",
      "Warning: Target note '2025-02-02 - Triage next steps for Ai clone#Demo' not found for note 'PMOC - AI Clone - Fine tuning on my second brain'.\n",
      "Warning: Target note '#2025-02-01 - Link from MOCs - distill MOCs' not found for note 'PMOC - AI Clone - Fine tuning on my second brain'.\n",
      "Warning: Target note 'Ai weather predictor' not found for note 'PMOC - Climate AI - Temperature forecasting'.\n",
      "Warning: Target note 'Brand' not found for note 'PMOC YT - DONE - Neural Networks from Scratch Series'.\n",
      "Warning: Target note 'MOC - YouTube - Video Skill' not found for note 'PMOC YT - DONE - Neural Networks from Scratch Series'.\n",
      "Warning: Target note 'Analytics' not found for note 'PMOC YT - DONE - Neural Networks from Scratch Series'.\n",
      "Warning: Target note 'Brand' not found for note 'PTYA - Ali Course'.\n",
      "Warning: Target note 'MOC - YouTube - Video Skill' not found for note 'PTYA - Ali Course'.\n",
      "Warning: Target note 'Analytics' not found for note 'PTYA - Ali Course'.\n",
      "Warning: Target note 'Student-Teacher Setting#Student Probe and their Pruning process' not found for note 'Paper - Beyond Neural Scaling Laws - beating power law scaling via data pruning'.\n",
      "Warning: Target note 'augmented leaner tool kit#Perplexity' not found for note 'Perplexity Thread Learning Demo'.\n",
      "Warning: Target note 'Specific Knowledge' not found for note 'Personal Monopoly'.\n",
      "Warning: Target note 'Ikigai' not found for note 'Personal Monopoly'.\n",
      "Warning: Target note 'Category' not found for note 'Personal Monopoly'.\n",
      "Warning: Target note 'MOC - Exploring My Niche' not found for note 'Personal Monopoly'.\n",
      "Warning: Target note 'virtual environment - new project' not found for note 'Poetry - Python environments'.\n",
      "Warning: Target note '2024-09-19 - Compound Knowledge' not found for note 'Post - Compound Knowledge in the Information Age'.\n",
      "Warning: Target note 'Bricks' not found for note 'Post - Compound Knowledge in the Information Age'.\n",
      "Warning: Target note 'Take consistent baby steps' not found for note 'Post - Compound Knowledge in the Information Age'.\n",
      "Warning: Target note 'Build Your Bricks' not found for note 'Post - Compound Knowledge in the Information Age'.\n",
      "Warning: Target note 'Packets' not found for note 'Post - Compound Knowledge in the Information Age'.\n",
      "Warning: Target note 'Efficient Data Processing in Spark - Joseph Machado Book' not found for note 'Post - Spark Lessons'.\n",
      "Warning: Target note 'MOC - Spark' not found for note 'Post - Spark Lessons'.\n",
      "Warning: Target note '(deprecated) Journal - Chris Lettieri - Augmented Engineer#2023-12-31 - My Routine' not found for note 'Productivity Matters'.\n",
      "Warning: Target note 'Augmented Intelligence for Engineers#Perplexity Thread Learning Demo' not found for note 'Quick Bits - 2024-08-09'.\n",
      "Warning: Target note 'Specific Knowledge' not found for note 'Quitting vs Iterating - Finding Your Niche Ikigai'.\n",
      "Warning: Target note 'Ikigai' not found for note 'Quitting vs Iterating - Finding Your Niche Ikigai'.\n",
      "Warning: Target note '2024-02-10 - Lumens Ikigai#Iterate - puzzle illustration - try new things' not found for note 'Quitting vs Iterating - Finding Your Niche Ikigai'.\n",
      "Warning: Target note 'MOC - Exploring My Niche' not found for note 'Quitting vs Iterating - Finding Your Niche Ikigai'.\n",
      "Warning: Target note 'Category' not found for note 'Quitting vs Iterating - Finding Your Niche Ikigai'.\n",
      "Warning: Target note 'game changer' not found for note 'Raising the Threshold for Capture - DAM the Mind'.\n",
      "Warning: Target note 'Lower the bar to capture' not found for note 'Raising the Threshold for Capture - DAM the Mind'.\n",
      "Warning: Target note 'Play the Money Game not status' not found for note 'Reflections after 3 months of creating'.\n",
      "Warning: Target note 'Writing Journals' not found for note 'Reflections after 3 months of creating'.\n",
      "Warning: Target note '2024-03-29 - Staff DE with AI Newsletter' not found for note 'Reflections after 3 months of creating'.\n",
      "Warning: Target note '(deprecated) MOC - Creator' not found for note 'Reflections after 3 months of creating'.\n",
      "Warning: Target note '& Skills to Develop' not found for note 'Remote Manager Copilot - Remote Monitoring'.\n",
      "Warning: Target note 'Projects' not found for note 'Remote Manager Copilot - Remote Monitoring'.\n",
      "Warning: Target note 'Archived - My Learning' not found for note 'Remote Manager Copilot - Remote Monitoring'.\n",
      "Warning: Target note '2024-01-27 - Specific Problems of Remote Working Engineers' not found for note 'Remote Work Super Power - Blend the Boundaries'.\n",
      "Warning: Target note '2024-01-28 - Remote Engineers - Audience' not found for note 'Remote Work Super Power - Blend the Boundaries'.\n",
      "Warning: Target note 'Focus your Learning' not found for note 'Revisit the Good Reads'.\n",
      "Warning: Target note 'not too much at once' not found for note 'Revisit the Good Reads'.\n",
      "Warning: Target note 'AI is having your own army of junior coders' not found for note 'Role of Software Engineers Changing to overseer'.\n",
      "Warning: Target note 'SEO Writing#https //yoast.com/seo-friendly-introduction/' not found for note 'SEO - Introduction'.\n",
      "Warning: Target note 'SEO Writing#https //ghost.org/resources/beginners-guide-to-seo/' not found for note 'SEO Research'.\n",
      "Warning: Target note 'Raj Shamani's Figuring Out' not found for note 'Sahil Bloom on the Future of Artificial Intelligence, Content Creation and Relationships  FO 75'.\n",
      "Warning: Target note 'Capital Allocators – Inside the Institutional Investment Industry' not found for note 'Sahil Bloom – Creativity, Investing, and Engineered Serendipity'.\n",
      "Warning: Target note 'Marketing School - Digital Marketing and Online Marketing Tips' not found for note 'Sahil Bloom’s #1 Advice to All Content Creators'.\n",
      "Warning: Target note 'image_123650291.png' not found for note 'Sample Designs'.\n",
      "Warning: Target note 'image_123650291(3).png' not found for note 'Sample Designs'.\n",
      "Warning: Target note '6549.jpg' not found for note 'Sample Designs'.\n",
      "Warning: Target note 'image_123650291(5).png' not found for note 'Sample Designs'.\n",
      "Warning: Target note 'image_123650291(1).png' not found for note 'Sample Designs'.\n",
      "Warning: Target note 'image_123650291(2).png' not found for note 'Sample Designs'.\n",
      "Warning: Target note 'image_123650291(4).png' not found for note 'Sample Designs'.\n",
      "Warning: Target note 'Espresso Hour#Lean Writing - Full' not found for note 'Seek Feedback to Learn'.\n",
      "Warning: Target note 'MOC - Dopamine Log' not found for note 'Serotonin - here and now with weed'.\n",
      "Warning: Target note 'Weekly Projects' not found for note 'Short Projects, Focused Learning'.\n",
      "Warning: Target note '2024-05-23 - Focus on AI Skills' not found for note 'Short Projects, Focused Learning'.\n",
      "Warning: Target note '2024-04-21- dopamine log' not found for note 'Slow Sex'.\n",
      "Warning: Target note 'snats.xyz' not found for note 'Snats Website'.\n",
      "Warning: Target note 'Liked' not found for note 'Snats Website'.\n",
      "Warning: Target note 'Ideas - Dapp And Trading#DEX Arbitrage' not found for note 'Solana GitHub Repos'.\n",
      "Warning: Target note '2024-04-14 - dopamine detox' not found for note 'Some stories are useful, choose'.\n",
      "Warning: Target note 'WW3' not found for note 'Some stories are useful, choose'.\n",
      "Warning: Target note '2024-04-13 - Losing my Mind' not found for note 'Some stories are useful, choose'.\n",
      "Warning: Target note 'Spearfishing' not found for note 'Some stories are useful, choose'.\n",
      "Warning: Target note 'ww3' not found for note 'Some stories are useful, choose'.\n",
      "Warning: Target note 'Balance Create' not found for note 'Space and Time to Create and Think'.\n",
      "Warning: Target note 'Learn Do Reflect' not found for note 'Space and Time to Create and Think'.\n",
      "Warning: Target note 'Think' not found for note 'Space and Time to Create and Think'.\n",
      "Warning: Target note 'Consume Triad' not found for note 'Space and Time to Create and Think'.\n",
      "Warning: Target note '2024-01-05 - Data Engineering and Trading' not found for note 'Staff Eng Investor'.\n",
      "Warning: Target note '2024-03-14 - Vision' not found for note 'Staff Eng Investor'.\n",
      "Warning: Target note '2024-03-13 - Trading' not found for note 'Staff Eng Investor'.\n",
      "Warning: Target note 'Investing coming up again' not found for note 'Staff Eng Investor'.\n",
      "Warning: Target note 'StaffPlus Talk 2024' not found for note 'StaffPlus Conference Tips'.\n",
      "Warning: Target note 'Ethan DVD Surprise - Notes' not found for note 'StaffPlus Talk - Script'.\n",
      "Warning: Target note 'Ethan DVD Surprise - Story' not found for note 'StaffPlus Talk - Script'.\n",
      "Warning: Target note 'Trade Log#2024-08-23' not found for note 'Stock and Crypto Correlations'.\n",
      "Warning: Target note 'MOC - Better Thinking' not found for note 'Summarizing is thinking clearly'.\n",
      "Warning: Target note 'Meta Learning' not found for note 'Summarizing is thinking clearly'.\n",
      "Warning: Target note 'WW3' not found for note 'Super AI GPUs Global Warming Trick'.\n",
      "Warning: Target note 'Spearfishing' not found for note 'Super AI GPUs Global Warming Trick'.\n",
      "Warning: Target note '2024-04-13 - Losing my Mind' not found for note 'Super AI GPUs Global Warming Trick'.\n",
      "Warning: Target note 'arxiv.org' not found for note 'Text2SQL Is Not Enough Unifying AI and Databases With TAG'.\n",
      "Warning: Target note 'observer.com' not found for note 'The Benjamin Franklin Method How to (Actually) Be a Better Writer'.\n",
      "Warning: Target note 'sahilbloom.com' not found for note 'The Best Ideas of 2024  the Curiosity Chronicle'.\n",
      "Warning: Target note 'Rich Sutton' not found for note 'The Bitter Lesson'.\n",
      "Warning: Target note 'sahilbloom.com' not found for note 'The Case for Slowing Down  the Curiosity Chronicle'.\n",
      "Warning: Target note 'Email Scott' not found for note 'The Day You Became a Better Writer'.\n",
      "Warning: Target note 'writing' not found for note 'The Day You Became a Better Writer'.\n",
      "Warning: Target note 'sahilbloom.com' not found for note 'The Discipline of Desire, Beginner's Paradox, & More  the Curiosity Chronicle'.\n",
      "Warning: Target note 'markmanson.net' not found for note 'The Disease of More'.\n",
      "Warning: Target note 'fs.blog' not found for note 'The Feynman Technique Master the Art of Learning'.\n",
      "Warning: Target note 'Liked' not found for note 'The Ladders of Wealth Creation A Step-by-Step Roadmap to Building Wealth'.\n",
      "Warning: Target note 'nathanbarry.com' not found for note 'The Ladders of Wealth Creation A Step-by-Step Roadmap to Building Wealth'.\n",
      "Warning: Target note 'sahilbloom.com' not found for note 'The Taxes of Life You Need to Pay  the Curiosity Chronicle'.\n",
      "Warning: Target note 'Liked' not found for note 'The Taxes of Life You Need to Pay  the Curiosity Chronicle'.\n",
      "Warning: Target note 'karpathy.github.io' not found for note 'The Unreasonable Effectiveness of Recurrent Neural Networks'.\n",
      "Warning: Target note 'oneusefulthing.org' not found for note 'Thinking Like an AI'.\n",
      "Warning: Target note 'MOC - Category POV - Joyspan - wfhfire v2' not found for note 'Three Ways to Retire'.\n",
      "Warning: Target note 'Specific Knowledge' not found for note 'Three Ways to Retire'.\n",
      "Warning: Target note 'Niche' not found for note 'Three Ways to Retire'.\n",
      "Warning: Target note 'Lifestyle Business' not found for note 'Three Ways to Retire'.\n",
      "Warning: Target note 'Values' not found for note 'Three Ways to Retire'.\n",
      "Warning: Target note 'Minimalist Entreprenuer' not found for note 'Three Ways to Retire'.\n",
      "Warning: Target note 'Be Uniquely You' not found for note 'Three Ways to Retire'.\n",
      "Warning: Target note 'WFHFIRE - Category POV - v1' not found for note 'Time Freedom, not Retire Early'.\n",
      "Warning: Target note 'MOC - Category POV - AE - Augmented Engineer' not found for note 'Tools And Technique'.\n",
      "Warning: Target note 'Homework For Life#2024-03-07' not found for note 'Treat People how you want, don't berate for change'.\n",
      "Warning: Target note 'Algorithms to Live By#Explore/Exploit Tradeoff' not found for note 'Try New Things, Especially If There Awhile'.\n",
      "Warning: Target note '2025-01-14 - Creative vs pragmatic balance and niche' not found for note 'Two Brains, Two Personas'.\n",
      "Warning: Target note '2024-03-01 - Two Distinct Blocks of Time' not found for note 'Two Brains, Two Personas'.\n",
      "Warning: Target note '2024-04-04 - Learn in Public Staff DE' not found for note 'Two Brains, Two Personas'.\n",
      "Warning: Target note '2024-02-11 - Two Main Voices' not found for note 'Two Brains, Two Personas'.\n",
      "Warning: Target note 'Specific Knowledge' not found for note 'Two things for your Ikigai'.\n",
      "Warning: Target note 'Ikigai' not found for note 'Two things for your Ikigai'.\n",
      "Warning: Target note 'Category' not found for note 'Two things for your Ikigai'.\n",
      "Warning: Target note 'MOC - Exploring My Niche' not found for note 'Two things for your Ikigai'.\n",
      "Warning: Target note 'MOC - Dopamine Log' not found for note 'Unhooked Podcast'.\n",
      "Warning: Target note '2024-01-07 - Path to Influencer President' not found for note 'Voting Online'.\n",
      "Warning: Target note 'Create by sharing stories and then idea' not found for note 'Vulnerable without oversharing'.\n",
      "Warning: Target note 'AI cant write' not found for note 'Vulnerable without oversharing'.\n",
      "Warning: Target note 'authentic' not found for note 'Vulnerable without oversharing'.\n",
      "Warning: Target note 'My PKM and Task Management System' not found for note 'WFH Productivity System'.\n",
      "Warning: Target note 'Home - Priorities' not found for note 'WK - 25-02-01'.\n",
      "Warning: Target note 'Index' not found for note 'WK - 25-02-01'.\n",
      "Warning: Target note 'Next' not found for note 'WK - 25-02-01'.\n",
      "Warning: Target note 'Long Term' not found for note 'WK - 25-02-01'.\n",
      "Warning: Target note 'AMOC - Priorities' not found for note 'WK - 25-02-01'.\n",
      "Warning: Target note 'Weekly Reflection' not found for note 'WK - 25-02-01'.\n",
      "Warning: Target note 'Vision' not found for note 'WK - 25-02-01'.\n",
      "Warning: Target note 'jamesclear.com' not found for note 'What Every Successful Person Knows, but Never Says'.\n",
      "Warning: Target note 'paulgraham.com' not found for note 'What You (Want To) Want'.\n",
      "Warning: Target note 'Execution is What Matters' not found for note 'What is most important now'.\n",
      "Warning: Target note 'Focus your Learning' not found for note 'What is most important now'.\n",
      "Warning: Target note 'Avoid Idea Hopping - Ideas are Cheap' not found for note 'What is most important now'.\n",
      "Warning: Target note 'not too much at once' not found for note 'What is most important now'.\n",
      "Warning: Target note 'Especially If There Awhile' not found for note 'Why Adventure is Always a Good Investment'.\n",
      "Warning: Target note 'Try New Things' not found for note 'Why Adventure is Always a Good Investment'.\n",
      "Warning: Target note 'Why I Take Risk To Write On LinkedIn' not found for note 'Why I Write - Post'.\n",
      "Warning: Target note 'Consumer to Producer' not found for note 'Why I Write - Post'.\n",
      "Warning: Target note '2024-08-23 - ai eval' not found for note 'Work in public'.\n",
      "Warning: Target note 'open source creator entrepreneur' not found for note 'Work in public'.\n",
      "Warning: Target note 'politics' not found for note 'Work in public'.\n",
      "Warning: Target note 'crypto options' not found for note 'Work in public'.\n",
      "Warning: Target note 'augmented writer' not found for note 'Work in public'.\n",
      "Warning: Target note 'Think' not found for note 'Working in the business vs on the business - balance doing and process'.\n",
      "Warning: Target note 'Learn Do Reflect' not found for note 'Working in the business vs on the business - balance doing and process'.\n",
      "Warning: Target note 'Balance Create' not found for note 'Working in the business vs on the business - balance doing and process'.\n",
      "Warning: Target note 'Consume Triad' not found for note 'Working in the business vs on the business - balance doing and process'.\n",
      "Warning: Target note 'MOC - Engineering Book' not found for note 'Writing an RFC - Design Tradeoffs Communication'.\n",
      "Warning: Target note 'Pasted image 20231024093951.png' not found for note 'Writing an RFC - Design Tradeoffs Communication'.\n",
      "Warning: Target note 'Main MOC - Chris On Data' not found for note 'X Things That Changed from Senior to Staff'.\n",
      "Warning: Target note '1A few useful things to know about ML.excalidraw' not found for note 'YT - A Few Useful Things to Know about Machine Learning ML'.\n",
      "Warning: Target note 'ideas' not found for note 'YT - Day in Life or Remote Staff Data Engineer'.\n",
      "Warning: Target note '2024-12-06 - content for fun' not found for note 'YT - Day in Life or Remote Staff Data Engineer'.\n",
      "Warning: Target note 'remote de niche' not found for note 'YT - Day in Life or Remote Staff Data Engineer'.\n",
      "Warning: Target note 'Brand' not found for note 'YT - Hooks'.\n",
      "Warning: Target note 'mr beast tips#hooks and promise' not found for note 'YT - Hooks'.\n",
      "Warning: Target note 'Analytics' not found for note 'YT - Hooks'.\n",
      "Warning: Target note 'YT - Hook Prompt' not found for note 'YT - Hooks'.\n",
      "Warning: Target note 'MOC - YouTube - Video Skill' not found for note 'YT - Hooks'.\n",
      "Warning: Target note 'deep-learning github daily blog#2024-11-11 - PyTorch CNN' not found for note 'YT - How to Use PyTorch for Neural Networks - Basic steps'.\n",
      "Warning: Target note 'deep-learning github daily blog#2024-11-26 - Self Attention' not found for note 'YT - Self-Attention Mechanisms Basic'.\n",
      "Warning: Target note 'my explanation' not found for note 'YT - Self-Attention Mechanisms Basic'.\n",
      "Warning: Target note 'deep-learning github daily blog#2024-12-09 - Self-Attention in My Words' not found for note 'YT - Self-Attention Mechanisms Basic'.\n",
      "Warning: Target note 'YT - when to trust AI#idea' not found for note 'YT - when to trust AI'.\n",
      "Warning: Target note '2024-01-07 - Path to Influencer President' not found for note 'YT- president in 20 years'.\n",
      "Warning: Target note '2024-12-04#getting too far ahead' not found for note 'You Can't Tell People your 20 year moonshot plans'.\n",
      "Warning: Target note 'Be Uniquely You' not found for note 'Your outcome goals will probably fail so pick something fun'.\n",
      "Warning: Target note 'Niche' not found for note 'Your outcome goals will probably fail so pick something fun'.\n",
      "Warning: Target note 'Specific Knowledge' not found for note 'Your outcome goals will probably fail so pick something fun'.\n",
      "Warning: Target note 'YT - rise of the Ai data engineer' not found for note 'ai data engineer observations'.\n",
      "Warning: Target note 'MOC - Category POV - Joyspan - wfhfire v2' not found for note 'buy back time - roti purchases'.\n",
      "Warning: Target note 'Long Term#Shorts to prototype' not found for note 'content to prototype business ideas'.\n",
      "Warning: Target note 'AMOC - Priorities' not found for note 'content to prototype business ideas'.\n",
      "Warning: Target note 'Vision' not found for note 'content to prototype business ideas'.\n",
      "Warning: Target note 'Tools And Technique#Bruce Lee' not found for note 'depth vs breadth'.\n",
      "Warning: Target note 'MOC - Dopamine Log' not found for note 'dopamine post'.\n",
      "Warning: Target note 'Just-in-time' not found for note 'finding niche, compounding many small steps'.\n",
      "Warning: Target note 'Active' not found for note 'finding niche, compounding many small steps'.\n",
      "Warning: Target note 'intentional learning#keep taking incremental steps' not found for note 'finding niche, compounding many small steps'.\n",
      "Warning: Target note 'Brand' not found for note 'first 60 seconds of YouTube'.\n",
      "Warning: Target note 'MOC - YouTube - Video Skill' not found for note 'first 60 seconds of YouTube'.\n",
      "Warning: Target note 'Analytics#Mr beast tips' not found for note 'first 60 seconds of YouTube'.\n",
      "Warning: Target note 'Brand' not found for note 'focus by commitment'.\n",
      "Warning: Target note '2024-12-06 - Youtube valley of despair' not found for note 'focus by commitment'.\n",
      "Warning: Target note 'MOC - YouTube - Video Skill' not found for note 'focus by commitment'.\n",
      "Warning: Target note 'Analytics#2024-12-12 - video taking off' not found for note 'focus by commitment'.\n",
      "Warning: Target note 'Dad' not found for note 'how to find your tribe without getting lucky'.\n",
      "Warning: Target note 'find your niche ideas' not found for note 'how to find your tribe without getting lucky'.\n",
      "Warning: Target note '2024-05-11 - find your tribe thread' not found for note 'how to find your tribe without getting lucky'.\n",
      "Warning: Target note 'Learner' not found for note 'how to find your tribe without getting lucky'.\n",
      "Warning: Target note 'Engineer#Augmetned Learner -> finding hujmantity as we adapt to AI' not found for note 'how to find your tribe without getting lucky'.\n",
      "Warning: Target note '2024-06-02 - Three Augmented Niches' not found for note 'how to find your tribe without getting lucky'.\n",
      "Warning: Target note 'Execution is What Matters' not found for note 'ideas not original, give credit'.\n",
      "Warning: Target note 'just return to the good ones' not found for note 'ideas not original, give credit'.\n",
      "Warning: Target note 'Avoid Idea Hopping - Ideas are Cheap' not found for note 'ideas not original, give credit'.\n",
      "Warning: Target note 'Most Ideas Suck' not found for note 'ideas not original, give credit'.\n",
      "Warning: Target note '2025-01-16#Reflection' not found for note 'invest in your tools'.\n",
      "Warning: Target note 'Specific Knowledge' not found for note 'iterating on my niche'.\n",
      "Warning: Target note 'Ikigai' not found for note 'iterating on my niche'.\n",
      "Warning: Target note 'Category' not found for note 'iterating on my niche'.\n",
      "Warning: Target note 'MOC - Exploring My Niche' not found for note 'iterating on my niche'.\n",
      "Warning: Target note '2024-05-15 - night out at ricks' not found for note 'married man strip club'.\n",
      "Warning: Target note '2024-12-26 - mind mapping' not found for note 'mind mapping - Justin sung'.\n",
      "Warning: Target note 'youtube creators analysis#3 levels of mind mapping' not found for note 'mind mapping - Justin sung'.\n",
      "Warning: Target note 'Paul Graham Essays#Doing Good Work' not found for note 'my blueprint for being a part time creator as a full time software engineer'.\n",
      "Warning: Target note 'rest' not found for note 'naps remote work'.\n",
      "Warning: Target note 'Take naps' not found for note 'naps remote work'.\n",
      "Warning: Target note 'Balance Create' not found for note 'new creators should ignore welsh and koe'.\n",
      "Warning: Target note 'Learn Do Reflect' not found for note 'new creators should ignore welsh and koe'.\n",
      "Warning: Target note 'Think' not found for note 'new creators should ignore welsh and koe'.\n",
      "Warning: Target note 'Consume Triad' not found for note 'new creators should ignore welsh and koe'.\n",
      "Warning: Target note 'virtual environment - new project' not found for note 'new project'.\n",
      "Warning: Target note 'Be Uniquely You' not found for note 'niche - find a problem you like and solve it'.\n",
      "Warning: Target note 'Niche' not found for note 'niche - find a problem you like and solve it'.\n",
      "Warning: Target note 'Specific Knowledge' not found for note 'niche - find a problem you like and solve it'.\n",
      "Warning: Target note 'Take Action - Ask questions' not found for note 'plan less, experiment more - take action, do things'.\n",
      "Warning: Target note 'Solve problems' not found for note 'plan less, experiment more - take action, do things'.\n",
      "Warning: Target note '2025-01-20 - pivot on a weekly basis to follow interests while exploring' not found for note 'plan less, experiment more - take action, do things'.\n",
      "Warning: Target note 'Build More - Be Curious' not found for note 'plan less, experiment more - take action, do things'.\n",
      "Warning: Target note 'Balance Create' not found for note 'pragmatic productivity - WFHFIRE'.\n",
      "Warning: Target note 'WFHFIRE - Category POV - v1' not found for note 'pragmatic productivity - WFHFIRE'.\n",
      "Warning: Target note 'Learn Do Reflect' not found for note 'pragmatic productivity - WFHFIRE'.\n",
      "Warning: Target note 'Think' not found for note 'pragmatic productivity - WFHFIRE'.\n",
      "Warning: Target note 'Consume Triad' not found for note 'pragmatic productivity - WFHFIRE'.\n",
      "Warning: Target note 'AMOC - Priorities' not found for note 'prioritize - does this help me now or in future'.\n",
      "Warning: Target note 'Long Term' not found for note 'prioritize - does this help me now or in future'.\n",
      "Warning: Target note 'Vision' not found for note 'prioritize - does this help me now or in future'.\n",
      "Warning: Target note '3 blue 1 brown - neural networks#chapter 5' not found for note 'self-attention mechanisms'.\n",
      "Warning: Target note 'LLMs from Scratch Book#Chapter 3 - Coding Attention Mechanisms' not found for note 'self-attention mechanisms'.\n",
      "Warning: Target note 'joyspan' not found for note 'take risk to live a rich life'.\n",
      "Warning: Target note 'Time Rich Investing - Joy Span' not found for note 'take risk to live a rich life'.\n",
      "Warning: Target note 'The only true passive investments' not found for note 'the truth about passive income'.\n",
      "Warning: Target note 'dont make a second job' not found for note 'the truth about passive income'.\n",
      "Warning: Target note '2024-09-22 - use otter' not found for note 'ultra learning book'.\n",
      "Warning: Target note 'free recall ultralearning' not found for note 'ultra learning book'.\n",
      "Warning: Target note '2024-02-09 - Lumen Writing Back' not found for note 'why am I still unhappy won the money game'.\n",
      "Warning: Target note 'aisolopreneur.beehiiv.com' not found for note '🐙 Start With WHY, Not WHAT'.\n",
      "Warning: Target note 'Liked' not found for note '🐙 Start With WHY, Not WHAT'.\n",
      "Warning: Target note 'aisolopreneur.beehiiv.com' not found for note '🐙 the Data-Driven Way to Hit 1M Views'.\n",
      "Warning: Target note 'aisolopreneur.beehiiv.com' not found for note '🐙 to Generalize or to Specialize'.\n",
      "notes_network.html\n"
     ]
    },
    {
     "data": {
      "text/html": [
       "\n",
       "        <iframe\n",
       "            width=\"100%\"\n",
       "            height=\"800px\"\n",
       "            src=\"notes_network.html\"\n",
       "            frameborder=\"0\"\n",
       "            allowfullscreen\n",
       "            \n",
       "        ></iframe>\n",
       "        "
      ],
      "text/plain": [
       "<IPython.lib.display.IFrame at 0x16984e630>"
      ]
     },
     "execution_count": 57,
     "metadata": {},
     "output_type": "execute_result"
    }
   ],
   "source": [
    "import pandas as pd\n",
    "from pyvis.network import Network\n",
    "\n",
    "\n",
    "# --- Normalize the x and y coordinates ---\n",
    "\n",
    "# Min-max normalization: new_value = (value - min) / (max - min)\n",
    "df_dedup['x_norm'] = (df_dedup['x'] - df_dedup['x'].min()) / (df_dedup['x'].max() - df_dedup['x'].min())\n",
    "df_dedup['y_norm'] = (df_dedup['y'] - df_dedup['y'].min()) / (df_dedup['y'].max() - df_dedup['y'].min())\n",
    "\n",
    "\n",
    "# Example: assume df_dedup is your deduplicated DataFrame with these columns:\n",
    "# note_title, folder, x, y, links, cluster\n",
    "# (and links is a list of note titles)\n",
    "\n",
    "# Define a simple color mapping based on cluster number.\n",
    "def get_color(cluster):\n",
    "    # A palette of colors. Add more if you have many clusters.\n",
    "    palette = ['#e6194B', '#3cb44b', '#ffe119', '#4363d8', '#f58231',\n",
    "               '#911eb4', '#46f0f0', '#f032e6', '#bcf60c', '#fabebe']\n",
    "    try:\n",
    "        idx = int(cluster) % len(palette)\n",
    "        return palette[idx]\n",
    "    except (ValueError, TypeError):\n",
    "        # In case cluster is missing or not convertible to int\n",
    "        return '#cccccc'  # Default gray\n",
    "\n",
    "# Initialize the network.\n",
    "net = Network(height='800px', width='100%', notebook=True, directed=True)\n",
    "\n",
    "# Disable physics globally to force fixed positions.\n",
    "net.toggle_physics(False)\n",
    "\n",
    "# Choose a scaling factor for the UMAP coordinates.\n",
    "scale_factor = 1000\n",
    "\n",
    "# Add nodes to the network.\n",
    "for idx, row in df_dedup.iterrows():\n",
    "    # Build a tooltip using plain text with a newline.\n",
    "    # The newline (\\n) should create a line break in the tooltip.\n",
    "    tooltip = f\"{row['note_title']}\\nFolder: {row['folder']}\\nCluster: {row['cluster']}\"\n",
    "\n",
    "    x_pos = float(row['x_norm'] * scale_factor)\n",
    "    y_pos = float(row['y_norm'] * scale_factor)\n",
    "    \n",
    "    # Add node. Notice label is set to an empty string so it won't show by default.\n",
    "    net.add_node(\n",
    "        n_id=row['note_title'],  # Using note_title as unique identifier.\n",
    "        label='',                   # Empty label; title shows on hover instead.\n",
    "        title=tooltip,\n",
    "        x=x_pos,\n",
    "        y=y_pos,\n",
    "        fixed={'x': True, 'y': True},\n",
    "        color=get_color(row['cluster']),\n",
    "        # Optionally, you can set a size and some scaling options.\n",
    "        size=10,\n",
    "        shadow=True,  # Adds a shadow effect.\n",
    "        scaling={\"min\": 10, \"max\": 20}  # This helps with interactive hover effects.\n",
    "    )\n",
    "\n",
    "# Build a set of valid note titles for edge lookups.\n",
    "valid_titles = set(df_dedup['note_title'])\n",
    "\n",
    "# Add edges: for each note, draw an edge from the source note to each linked note.\n",
    "for idx, row in df_dedup.iterrows():\n",
    "    source_title = row['note_title']\n",
    "    if row['links']:\n",
    "        for target_title in row['links']:\n",
    "            target_title = target_title.strip()\n",
    "            if target_title in valid_titles:\n",
    "                net.add_edge(source_title, target_title)\n",
    "            else:\n",
    "                print(f\"Warning: Target note '{target_title}' not found for note '{source_title}'.\")\n",
    "\n",
    "# (Optional) Customize additional options using vis.js configuration.\n",
    "# For example, you can enable hover effects with additional configuration.\n",
    "net.set_options(\"\"\"\n",
    "var options = {\n",
    "  \"nodes\": {\n",
    "    \"font\": {\n",
    "      \"size\": 0,\n",
    "      \"face\": \"arial\",\n",
    "      \"color\": \"rgba(0,0,0,0)\"\n",
    "    },\n",
    "    \"borderWidth\": 2,\n",
    "    \"hover\": {\n",
    "      \"enabled\": true,\n",
    "      \"size\": 20\n",
    "    },\n",
    "    \"shadow\": {\n",
    "      \"enabled\": true\n",
    "    }\n",
    "  },\n",
    "  \"edges\": {\n",
    "    \"color\": {\n",
    "      \"inherit\": true\n",
    "    },\n",
    "    \"smooth\": false\n",
    "  },\n",
    "  \"interaction\": {\n",
    "    \"hover\": true,\n",
    "    \"tooltipDelay\": 200\n",
    "  }\n",
    "}\n",
    "\"\"\")\n",
    "\n",
    "# Save the network to an HTML file.\n",
    "net.show('notes_network.html')\n"
   ]
  },
  {
   "cell_type": "code",
   "execution_count": 62,
   "metadata": {},
   "outputs": [
    {
     "name": "stdout",
     "output_type": "stream",
     "text": [
      "Warning: When  cdn_resources is 'local' jupyter notebook has issues displaying graphics on chrome/safari. Use cdn_resources='in_line' or cdn_resources='remote' if you have issues viewing graphics in a notebook.\n",
      "Warning: Target note 'The Knowledge Project with Shane Parrish' not found for note '#137 Justin Su'a Peak Mental Performance'.\n",
      "Warning: Target note 'The Tim Ferriss Show' not found for note '#648 James Clear, Atomic Habits — Simple Strategies for Building (And Breaking) Habits, Questions for Personal Mastery and Growth, Tactics for Writing and Launching a Mega-Bestseller, Finding Leverage, and More'.\n",
      "Warning: Target note 'Homework For Life' not found for note '0 - Quick Bits - 2024-09-13 - start your second brain'.\n",
      "Warning: Target note 'Home - Priorities' not found for note '0 - Tasks this Week'.\n",
      "Warning: Target note 'Index' not found for note '0 - Tasks this Week'.\n",
      "Warning: Target note 'Next' not found for note '0 - Tasks this Week'.\n",
      "Warning: Target note 'sahilbloom.com' not found for note '11 Things I Quit to Transform My Life  the Curiosity Chronicle'.\n",
      "Warning: Target note 'sahilbloom.com' not found for note '13 Harsh Truths About Success Nobody Told You  the Curiosity Chronicle'.\n",
      "Warning: Target note 'oneusefulthing.org' not found for note '15 Times to Use AI, and 5 Not To'.\n",
      "Warning: Target note 'psychology of money' not found for note '17 - Wealth is What You Don't See- How to Avoid Lifestyle Creep'.\n",
      "Warning: Target note 'growth mindset' not found for note '19 - Love Failure'.\n",
      "Warning: Target note 'Ideas - Dapp And Trading#Meme Coins' not found for note '2024-02-04 - Creating a Token'.\n",
      "Warning: Target note 'Bricks' not found for note '2024-09-19 - Compound Knowledge, Build Your Bricks'.\n",
      "Warning: Target note 'Packets' not found for note '2024-09-19 - Compound Knowledge, Build Your Bricks'.\n",
      "Warning: Target note 'Take consistent baby steps' not found for note '2024-09-19 - Compound Knowledge, Build Your Bricks'.\n",
      "Warning: Target note '2025-02-01 - AI for distillation' not found for note '2025-02-01'.\n",
      "Warning: Target note 'MOC - Dopamine Log' not found for note '2025-02-01'.\n",
      "Warning: Target note 'for search' not found for note '2025-02-01'.\n",
      "Warning: Target note 'RAG - more than just stuffing things in a context window' not found for note '2025-02-01 - AI for distillation, for search'.\n",
      "Warning: Target note '2025-01-31 - what story no longer serves me - trading no longer serves me' not found for note '2025-02-01 - Trading hedge fund vs ASH'.\n",
      "Warning: Target note 'open source creator entrepreneur' not found for note '2025-02-02'.\n",
      "Warning: Target note 'one thing book' not found for note '2025-02-02 - Time series focus'.\n",
      "Warning: Target note 'Sorry kept marriage secret' not found for note '23 - The Night I met My Wife, Thank You Dad'.\n",
      "Warning: Target note 'Thank You Dad - Meeting my Wife' not found for note '23 - The Night I met My Wife, Thank You Dad'.\n",
      "Warning: Target note 'Slow to adopt Smart phone' not found for note '24 - It's Time to Say Bye to Hive and Upgrade to Iceberg'.\n",
      "Warning: Target note '2-Reference/Books/How to Take Smart Notes' not found for note '27 - How to take Smart Notes to Build your Second Brain'.\n",
      "Warning: Target note 'Balance Create' not found for note '30 - Reflecting on 30 days of Podcasting'.\n",
      "Warning: Target note 'Learn Do Reflect' not found for note '30 - Reflecting on 30 days of Podcasting'.\n",
      "Warning: Target note 'Think' not found for note '30 - Reflecting on 30 days of Podcasting'.\n",
      "Warning: Target note 'Consume Triad' not found for note '30 - Reflecting on 30 days of Podcasting'.\n",
      "Warning: Target note 'sahilbloom.com' not found for note '34 Life Lessons From 34 Years  the Curiosity Chronicle'.\n",
      "Warning: Target note 'Liked' not found for note '34 Life Lessons From 34 Years  the Curiosity Chronicle'.\n",
      "Warning: Target note 'sahilbloom.com' not found for note '9 Hidden Signs of Personal Growth  the Curiosity Chronicle'.\n",
      "Warning: Target note 'Yung Pueblo' not found for note '9 Lessons From 9 Years of Marriage'.\n",
      "Warning: Target note 'Deep Dive with Ali Abdaal' not found for note '9 Systems to Build a Life of Abundance - Sahil Bloom'.\n",
      "Warning: Target note '2023-11-16 - Staff Summit - Day 2' not found for note 'A Business Solves a Problem'.\n",
      "Warning: Target note 'Liked' not found for note 'A Hierarchy First Approach to Note Taking'.\n",
      "Warning: Target note 'kevinslin.com' not found for note 'A Hierarchy First Approach to Note Taking'.\n",
      "Warning: Target note 'aysajan' not found for note 'A Reflection on Richard Hamming's You and Your Research Striving for Greatness'.\n",
      "Warning: Target note '1A few useful things to know about ML.excalidraw' not found for note 'A few useful things to know about ML'.\n",
      "Warning: Target note 'Liked' not found for note 'AI Agents Invade Observability Snake Oil or the Future of SRE'.\n",
      "Warning: Target note 'Clay Smith' not found for note 'AI Agents Invade Observability Snake Oil or the Future of SRE'.\n",
      "Warning: Target note 'Holding Company' not found for note 'AI Data Processing Platform - Summarization'.\n",
      "Warning: Target note 'Augmented Empire Community' not found for note 'AI Data Processing Platform - Summarization'.\n",
      "Warning: Target note 'AI Startup' not found for note 'AI Data Processing Platform - Summarization'.\n",
      "Warning: Target note 'Projects' not found for note 'AI Data Processing Platform - Summarization'.\n",
      "Warning: Target note 'Archived - My Learning' not found for note 'AI Data Processing Platform - Summarization'.\n",
      "Warning: Target note '& Skills to Develop' not found for note 'AI Data Processing Platform - Summarization'.\n",
      "Warning: Target note 'MOC - Moonshot Ideas' not found for note 'AI Data Processing Platform - Summarization'.\n",
      "Warning: Target note 'MOC - Category POV - AE - Augmented Engineer' not found for note 'AI Frees Us From the Mundane - Is a Tool'.\n",
      "Warning: Target note 'ai plugins' not found for note 'AI Plugins for Obsidian'.\n",
      "Warning: Target note 'Chat with Entire Second Brain - llamaindex' not found for note 'AI Plugins for Obsidian'.\n",
      "Warning: Target note 'crypto rebalance' not found for note 'AI Startup Ideas - Data Pruning - quality data for models - AGI - open source augmentation'.\n",
      "Warning: Target note '2024-10-xx - Otter - ai data Eng' not found for note 'AI Startup Ideas - Data Pruning - quality data for models - AGI - open source augmentation'.\n",
      "Warning: Target note 'career' not found for note 'AI Startup Ideas - Data Pruning - quality data for models - AGI - open source augmentation'.\n",
      "Warning: Target note '2024-05-26 - Summary and Next' not found for note 'AI on the Blockchain'.\n",
      "Warning: Target note 'Long Term#2025-01-11 - Three paths' not found for note 'AMOC - AI Data Engineer - AI Time Series Researcher'.\n",
      "Warning: Target note 'AMOC - Priorities' not found for note 'AMOC - AI Data Engineer - AI Time Series Researcher'.\n",
      "Warning: Target note 'aligning with work' not found for note 'AMOC - AI Data Engineer - AI Time Series Researcher'.\n",
      "Warning: Target note 'Vision' not found for note 'AMOC - AI Data Engineer - AI Time Series Researcher'.\n",
      "Warning: Target note '2025-01-06 - my daily note fix' not found for note 'AMOC - Meta - Obsidian - Second Brain - My Organization Process'.\n",
      "Warning: Target note 'AMOC - Priorities' not found for note 'AMOC - My Brand, My Niche and Creator Brand'.\n",
      "Warning: Target note 'Long Term' not found for note 'AMOC - My Brand, My Niche and Creator Brand'.\n",
      "Warning: Target note 'Vision' not found for note 'AMOC - My Brand, My Niche and Creator Brand'.\n",
      "Warning: Target note 'IEP Ethan - Doctor Nonye' not found for note 'AMOC - Parenting'.\n",
      "Warning: Target note 'MOC Journal - State of Union - Ruvi' not found for note 'AMOC - Parenting'.\n",
      "Warning: Target note 'Homework For Life' not found for note 'AMOC - Parenting'.\n",
      "Warning: Target note 'Home - Priorities' not found for note 'AMOC - Priorities, Vision, Long Term'.\n",
      "Warning: Target note 'Index' not found for note 'AMOC - Priorities, Vision, Long Term'.\n",
      "Warning: Target note 'Next' not found for note 'AMOC - Priorities, Vision, Long Term'.\n",
      "Warning: Target note 'zapier agents' not found for note 'AR Glasses with LLMs'.\n",
      "Warning: Target note 'DD podcast#AR Glasses' not found for note 'AR Glasses with LLMs'.\n",
      "Warning: Target note '2024-06-14 - AR' not found for note 'AR Glasses with LLMs'.\n",
      "Warning: Target note 'Visit Profile' not found for note 'Advice to the Young'.\n",
      "Warning: Target note '& Skills to Develop' not found for note 'Airbyte for AI Models API Unified'.\n",
      "Warning: Target note 'Projects' not found for note 'Airbyte for AI Models API Unified'.\n",
      "Warning: Target note 'Archived - My Learning' not found for note 'Airbyte for AI Models API Unified'.\n",
      "Warning: Target note 'Brand' not found for note 'Ali Abdaal Course'.\n",
      "Warning: Target note 'MOC - YouTube - Video Skill' not found for note 'Ali Abdaal Course'.\n",
      "Warning: Target note 'Analytics' not found for note 'Ali Abdaal Course'.\n",
      "Warning: Target note '2024-07-23 - Lean into Augmented Engineer' not found for note 'All about the data - LLMS - good ai about the data matters'.\n",
      "Warning: Target note 'I trained a local LLM on 7 months of my notes' not found for note 'All about the data - LLMS - good ai about the data matters'.\n",
      "Warning: Target note 'Join Othmane for Time Series AI role' not found for note 'All about the data - LLMS - good ai about the data matters'.\n",
      "Warning: Target note 'here's what I learned' not found for note 'All about the data - LLMS - good ai about the data matters'.\n",
      "Warning: Target note 'seths.blog' not found for note 'Are You Making Something'.\n",
      "Warning: Target note 'Idea File - The Augmented Engineer' not found for note 'Augmented Engineer - Outlines as Content'.\n",
      "Warning: Target note 'Michael Woudenberg' not found for note 'Augmenting Intelligence'.\n",
      "Warning: Target note 'Liked' not found for note 'Augmenting Intelligence'.\n",
      "Warning: Target note '2024-01-24 - Goal to own a Niche - WFHFIRE plant the flag' not found for note 'Avoid Idea Hopping - Ideas are Cheap, Execution is What Matters'.\n",
      "Warning: Target note 'awareness' not found for note 'Awareness - bees only know they are bees'.\n",
      "Warning: Target note '2024-06-08 - Augmented Writer thinking' not found for note 'Be a good listener'.\n",
      "Warning: Target note 'Reminder' not found for note 'Better Pomodoro'.\n",
      "Warning: Target note 'Habit Triggers - Calendar' not found for note 'Better Pomodoro'.\n",
      "Warning: Target note 'Brand' not found for note 'Billions of views on YouTube'.\n",
      "Warning: Target note 'MOC - YouTube - Video Skill' not found for note 'Billions of views on YouTube'.\n",
      "Warning: Target note 'Analytics' not found for note 'Billions of views on YouTube'.\n",
      "Warning: Target note '2024-08-23 - ai eval' not found for note 'Biographies are mentorships with the dead'.\n",
      "Warning: Target note 'politics#Look at who’s biographies you enjoy' not found for note 'Biographies are mentorships with the dead'.\n",
      "Warning: Target note 'crypto options' not found for note 'Biographies are mentorships with the dead'.\n",
      "Warning: Target note 'politics#I cry when I’m onto it' not found for note 'Biographies are mentorships with the dead'.\n",
      "Warning: Target note 'augmented writer' not found for note 'Biographies are mentorships with the dead'.\n",
      "Warning: Target note '(deprecated) Journal - Tech FIRE - WFHFIRE -#2024-01-24' not found for note 'Book Content Map - 5.5 Hour Work Day'.\n",
      "Warning: Target note 'WFHFIRE - Category POV - v1' not found for note 'Book Content Map - 5.5 Hour Work Day'.\n",
      "Warning: Target note 'samuelthomasdavies.com' not found for note 'Book Summary Steal Like an Artist by Austin Kleon'.\n",
      "Warning: Target note 'sahilbloom.com' not found for note 'Brutally Honest Advice to My Younger Self  the Curiosity Chronicle'.\n",
      "Warning: Target note 'experiment more - take action' not found for note 'Build More - Be Curious, Take Action - Ask questions, Solve problems'.\n",
      "Warning: Target note 'do things' not found for note 'Build More - Be Curious, Take Action - Ask questions, Solve problems'.\n",
      "Warning: Target note 'plan less' not found for note 'Build More - Be Curious, Take Action - Ask questions, Solve problems'.\n",
      "Warning: Target note '2-Reference/Writing Skills/Ship30For30/My Observations' not found for note 'Build a Community'.\n",
      "Warning: Target note '(deprecated) Journal - Chris Lettieri - Augmented Engineer#2023-12-31 - My Routine' not found for note 'Building a Digital Business'.\n",
      "Warning: Target note 'Twitter Frustrations#Sales Ali' not found for note 'Business and Sales solve problems'.\n",
      "Warning: Target note 'Niche' not found for note 'Business and Sales solve problems'.\n",
      "Warning: Target note '2024-06-27 - Be My Self' not found for note 'Business and Sales solve problems'.\n",
      "Warning: Target note 'C4 Architecture Model' not found for note 'C4 Model with PlantUML'.\n",
      "Warning: Target note 'Outline As Content Templates' not found for note 'CT - Level 2 Notes'.\n",
      "Warning: Target note 'Main MOC - Chris On Data' not found for note 'Chaining LLMs - LLM Ensemble'.\n",
      "Warning: Target note 'Three Ways to Scale Yourself Beyond Mid-Level Engineer' not found for note 'Coding Skill Ceiling'.\n",
      "Warning: Target note 'ChatGPT - Category POV - LinkedIn and AE' not found for note 'Coding Skill Ceiling'.\n",
      "Warning: Target note 'Deep Dive with Ali Abdaal' not found for note 'Confronting My Productivity Guru - Tiago Forte'.\n",
      "Warning: Target note 'Focus your Learning' not found for note 'Consume the same content'.\n",
      "Warning: Target note 'not too much at once' not found for note 'Consume the same content'.\n",
      "Warning: Target note '2024-01-28 - Goal To Build Library of Content' not found for note 'Content Pieces are Assets Make them Quality'.\n",
      "Warning: Target note '& Skills to Develop' not found for note 'Context Aware AI Project Manager'.\n",
      "Warning: Target note 'Projects' not found for note 'Context Aware AI Project Manager'.\n",
      "Warning: Target note 'Archived - My Learning' not found for note 'Context Aware AI Project Manager'.\n",
      "Warning: Target note 'AI is having your own army of junior coders' not found for note 'Core Principles of AE'.\n",
      "Warning: Target note 'Social Platforms Lessons Learned' not found for note 'Credibility in Writing, Present Yourself Avatar'.\n",
      "Warning: Target note 'Journal - LEAN Writing Observations' not found for note 'Credibility in Writing, Present Yourself Avatar'.\n",
      "Warning: Target note 'ai plugins' not found for note 'DONE PMOC - Train LLM on My Data'.\n",
      "Warning: Target note 'Chat with Entire Second Brain - llamaindex' not found for note 'DONE PMOC - Train LLM on My Data'.\n",
      "Warning: Target note '2025-01-03#the nice thing about racism today' not found for note 'Daryl Davis Way'.\n",
      "Warning: Target note '2025-01-09 - Niche - data engineer for Ai research' not found for note 'Data as training samples'.\n",
      "Warning: Target note 'Ideas - Data Engineer Research' not found for note 'Data as training samples'.\n",
      "Warning: Target note 'Ideas - Data Engineer Research' not found for note 'Data centric AI'.\n",
      "Warning: Target note '2025-01-31 - compress at the token level' not found for note 'Data compression by meaning - data pruning'.\n",
      "Warning: Target note 'RAG - more than just stuffing things in a context window' not found for note 'Data compression by meaning - data pruning'.\n",
      "Warning: Target note '2025-01-29 - Clustering at training time or for RAG' not found for note 'Data compression by meaning - data pruning'.\n",
      "Warning: Target note 'Thank You Dad' not found for note 'Deliver on the Emotional Promise Entertaining'.\n",
      "Warning: Target note '23 - The Night I met My Wife' not found for note 'Deliver on the Emotional Promise Entertaining'.\n",
      "Warning: Target note 'Brand' not found for note 'Descript TikTok'.\n",
      "Warning: Target note 'MOC - YouTube - Video Skill' not found for note 'Descript TikTok'.\n",
      "Warning: Target note 'Analytics' not found for note 'Descript TikTok'.\n",
      "Warning: Target note 'Pasted image 20240108204703.png' not found for note 'Design tools of visualize value'.\n",
      "Warning: Target note 'MOC - Category POV - AE - Augmented Engineer' not found for note 'Digital exoskeleton'.\n",
      "Warning: Target note 'Focus your Learning' not found for note 'Do One Thing Better'.\n",
      "Warning: Target note 'not too much at once' not found for note 'Do One Thing Better'.\n",
      "Warning: Target note 'Can you Fat FIRE as just an employee' not found for note 'Do you need more than employee to be fat fire'.\n",
      "Warning: Target note 'Projects' not found for note 'Documentation ChatBot'.\n",
      "Warning: Target note '& Skills to Develop' not found for note 'Documentation ChatBot'.\n",
      "Warning: Target note 'Archived - My Learning' not found for note 'Documentation ChatBot'.\n",
      "Warning: Target note '2-Reference/Writing Skills/Ship30For30/Course Notes' not found for note 'Don't Build Something New, Unless Different'.\n",
      "Warning: Target note 'YT - the 5 stages of become an expert developer' not found for note 'Drawing on the right side of the brain'.\n",
      "Warning: Target note 'rest' not found for note 'Energy ebbs and flows'.\n",
      "Warning: Target note 'Take naps' not found for note 'Energy ebbs and flows'.\n",
      "Warning: Target note 'Deep Questions with Cal Newport' not found for note 'Ep. 278 How to Think'.\n",
      "Warning: Target note 'Deep Questions with Cal Newport' not found for note 'Ep. 326 Time to Unplug'.\n",
      "Warning: Target note 'Specific Knowledge' not found for note 'Escape competition through authenticity'.\n",
      "Warning: Target note 'Ikigai' not found for note 'Escape competition through authenticity'.\n",
      "Warning: Target note 'Category' not found for note 'Escape competition through authenticity'.\n",
      "Warning: Target note 'MOC - Exploring My Niche' not found for note 'Escape competition through authenticity'.\n",
      "Warning: Target note '2024-09 - StaffPlus Conference HW' not found for note 'Everybody is Faking it - Impostor Syndrome'.\n",
      "Warning: Target note 'Homework For Life#2024-04-07' not found for note 'Extroverted effort on Introverts making friends'.\n",
      "Warning: Target note 'e-student.org' not found for note 'Feynman Technique A Complete Beginner’s Guide - E-Student'.\n",
      "Warning: Target note 'Victory File - Feedback Wins#Nitai 2024-05-23' not found for note 'Find what gives you energy'.\n",
      "Warning: Target note 'Weekly Projects#Takes a few years' not found for note 'Find what gives you energy'.\n",
      "Warning: Target note '2024-05-22 - Sabbatical Plan' not found for note 'Find what gives you energy'.\n",
      "Warning: Target note 'Joyspan' not found for note 'Find what gives you energy'.\n",
      "Warning: Target note '2024-07-23 - Lean into Augmented Engineer' not found for note 'Find what gives you energy'.\n",
      "Warning: Target note 'go deep on AI skills' not found for note 'Find what gives you energy'.\n",
      "Warning: Target note 'Join Othmane for Time Series AI role' not found for note 'Find what gives you energy'.\n",
      "Warning: Target note '2024-05-23 - Focus on AI Skills' not found for note 'Find what gives you energy'.\n",
      "Warning: Target note 'AI for Money Game#Find what gives you energy and pursue that.' not found for note 'Find what gives you energy'.\n",
      "Warning: Target note 'Joyspan' not found for note 'Finding Niche - take forward steps'.\n",
      "Warning: Target note 'AI for Money Game' not found for note 'Finding Niche - take forward steps'.\n",
      "Warning: Target note '2024-05-22 - Sabbatical Plan' not found for note 'Finding Niche - take forward steps'.\n",
      "Warning: Target note '2024-01-21 - WFH FIRE (work from home)' not found for note 'Fired for jerking off'.\n",
      "Warning: Target note 'Focus on one thing but context switch higher up' not found for note 'Focus on the Most Important thing - Focus on the What'.\n",
      "Warning: Target note 'mail.jpg' not found for note 'Free Email Course and Misc Notes'.\n",
      "Warning: Target note 'Presentation Skills for Software Engineers' not found for note 'Give a good presentation'.\n",
      "Warning: Target note '2-Reference/Writing Skills/Ship30For30/My Observations' not found for note 'Give away Value to get sign ups'.\n",
      "Warning: Target note '2-Reference/Writing Skills/Ship30For30/My Observations' not found for note 'Give away for free to get attention'.\n",
      "Warning: Target note '3 Communication Mistakes I Made as a Staff Engineer and How Im Fixing Them' not found for note 'Good Communication is Clear'.\n",
      "Warning: Target note 'Can you Fat FIRE as just an employee' not found for note 'HENRY - how to get wealth from earner to wealth'.\n",
      "Warning: Target note '2023-11-15 - Habit Triggers' not found for note 'Habit Triggers - Calendar, Reminder'.\n",
      "Warning: Target note 'Habit Triggers - Calendar' not found for note 'High ROI Habits ROTI - Time Rich'.\n",
      "Warning: Target note 'Especially If There Awhile' not found for note 'High ROI Habits ROTI - Time Rich'.\n",
      "Warning: Target note 'Try New Things' not found for note 'High ROI Habits ROTI - Time Rich'.\n",
      "Warning: Target note 'Reminder' not found for note 'High ROI Habits ROTI - Time Rich'.\n",
      "Warning: Target note 'Brand' not found for note 'Home - Priorities, Next, Index'.\n",
      "Warning: Target note 'Analytics' not found for note 'Home - Priorities, Next, Index'.\n",
      "Warning: Target note 'MOC - YouTube - Video Skill' not found for note 'Home - Priorities, Next, Index'.\n",
      "Warning: Target note 'AMOC - Priorities' not found for note 'Home - Priorities, Next, Index'.\n",
      "Warning: Target note 'Long Term' not found for note 'Home - Priorities, Next, Index'.\n",
      "Warning: Target note 'AMOC - My Brand' not found for note 'Home - Priorities, Next, Index'.\n",
      "Warning: Target note 'My Niche and Creator Brand' not found for note 'Home - Priorities, Next, Index'.\n",
      "Warning: Target note 'Vision' not found for note 'Home - Priorities, Next, Index'.\n",
      "Warning: Target note 'Avil Beckford' not found for note 'Hook Point How to Stand Out in a 3-Second World by Brendan Kane'.\n",
      "Warning: Target note 'Liked' not found for note 'Hook Point How to Stand Out in a 3-Second World by Brendan Kane'.\n",
      "Warning: Target note 'Deep Dive with Ali Abdaal' not found for note 'How Dopamine Shapes Your Habits and Productivity - Tj Power'.\n",
      "Warning: Target note 'Ege Erdil' not found for note 'How Has DeepSeek Improved the Transformer Architecture'.\n",
      "Warning: Target note 'Liked' not found for note 'How I Built a #1-Ranked Podcast With 60M+ Downloads - The Blog of Author Tim Ferriss'.\n",
      "Warning: Target note 'tim.blog' not found for note 'How I Built a #1-Ranked Podcast With 60M+ Downloads - The Blog of Author Tim Ferriss'.\n",
      "Warning: Target note 'Deep Dive with Ali Abdaal' not found for note 'How I Grew From 0 to 500k Followers in Under 2 Years - Sahil Bloom'.\n",
      "Warning: Target note 'fchollet.substack.com' not found for note 'How I Think About LLM Prompt Engineering'.\n",
      "Warning: Target note 'nicholas.carlini.com' not found for note 'How I Use AI'.\n",
      "Warning: Target note 'Liked' not found for note 'How I Use AI'.\n",
      "Warning: Target note '2024-01-05 - Data Engineering and Trading' not found for note 'How I transitioned to engineering from non tech'.\n",
      "Warning: Target note 'Deep Dive with Ali Abdaal' not found for note 'How to Build a Business That Lets You Quit Your Job - Dickie Bush'.\n",
      "Warning: Target note 'paulgraham.com' not found for note 'How to Do What You Love'.\n",
      "Warning: Target note 'swyx.io' not found for note 'How to Learn in Private'.\n",
      "Warning: Target note 'Deep Dive with Ali Abdaal' not found for note 'How to Stay Focused and Beat Distraction - Nir Eyal'.\n",
      "Warning: Target note 'WFH Comedy' not found for note 'I am a content factory - build the factory'.\n",
      "Warning: Target note 'Lumen - AI Comedian' not found for note 'I am a content factory - build the factory'.\n",
      "Warning: Target note 'The only true passive investments' not found for note 'I give you permission to focus on your career as your side hustle'.\n",
      "Warning: Target note 'dont make a second job' not found for note 'I give you permission to focus on your career as your side hustle'.\n",
      "Warning: Target note '(deprecated) Journal - Bits of Chris' not found for note 'I meditated on Navals and heres what I see'.\n",
      "Warning: Target note 'Parenting two toddlers Staff Eng Migrations' not found for note 'Iceberg Summit 2024'.\n",
      "Warning: Target note 'augmented learner' not found for note 'Idea Validation Pipeline'.\n",
      "Warning: Target note 'ai for real life ideas' not found for note 'Idea Validation Pipeline'.\n",
      "Warning: Target note 'video' not found for note 'Idea Validation Pipeline'.\n",
      "Warning: Target note '2024-06-18 - idea validation first' not found for note 'Idea Validation Pipeline'.\n",
      "Warning: Target note '3-MOCs and Projects/Projects/Trading and Crypto/Later List' not found for note 'Ideas - Dapp And Trading'.\n",
      "Warning: Target note 'Youth Rugby 7s League' not found for note 'Inclusive to the Core'.\n",
      "Warning: Target note 'sahilbloom.com' not found for note 'Information-Action Gap, One Decision Away, & More  the Curiosity Chronicle'.\n",
      "Warning: Target note 'Especially If There Awhile' not found for note 'Introduce Entropy Random to Routine'.\n",
      "Warning: Target note 'Try New Things' not found for note 'Introduce Entropy Random to Routine'.\n",
      "Warning: Target note 'Especially If There Awhile' not found for note 'Invest in Things That Last'.\n",
      "Warning: Target note '2023-10-26 - DB Index Deep Dive Idea' not found for note 'Invest in Things That Last'.\n",
      "Warning: Target note 'Try New Things' not found for note 'Invest in Things That Last'.\n",
      "Warning: Target note 'Kevin Zhang' not found for note 'Investing in the Age of Generative AI'.\n",
      "Warning: Target note 'Especially If There Awhile' not found for note 'Just get started'.\n",
      "Warning: Target note 'Try New Things' not found for note 'Just get started'.\n",
      "Warning: Target note '& Skills to Develop' not found for note 'LLM Story Extractor Book Editor'.\n",
      "Warning: Target note 'Projects' not found for note 'LLM Story Extractor Book Editor'.\n",
      "Warning: Target note 'Archived - My Learning' not found for note 'LLM Story Extractor Book Editor'.\n",
      "Warning: Target note '& Skills to Develop' not found for note 'LLM Text Adventures'.\n",
      "Warning: Target note 'Archived - My Learning' not found for note 'LLM Text Adventures'.\n",
      "Warning: Target note 'Projects' not found for note 'LLM Text Adventures'.\n",
      "Warning: Target note 'Cloud Atlas - initial Questions and thoughts' not found for note 'LLM for journal parsing'.\n",
      "Warning: Target note 'DD podcast#AI Agents with Zapier' not found for note 'LLM for journal parsing'.\n",
      "Warning: Target note '2024-06-14 - AR' not found for note 'LLM for journal parsing'.\n",
      "Warning: Target note 'zapier agents' not found for note 'LLM for journal parsing'.\n",
      "Warning: Target note 'piaoyang0.wordpress.com' not found for note 'LLMs Are Not Suitable for (Advanced) Brainstorming'.\n",
      "Warning: Target note 'Balance Create' not found for note 'LONG - I wrote everyday for 45 days here's what I learned and why I wont do it again'.\n",
      "Warning: Target note 'Learn Do Reflect' not found for note 'LONG - I wrote everyday for 45 days here's what I learned and why I wont do it again'.\n",
      "Warning: Target note 'Think' not found for note 'LONG - I wrote everyday for 45 days here's what I learned and why I wont do it again'.\n",
      "Warning: Target note 'Consume Triad' not found for note 'LONG - I wrote everyday for 45 days here's what I learned and why I wont do it again'.\n",
      "Warning: Target note 'ai.meta.com' not found for note 'Large Concept Models Language Modeling in a Sentence Representation Space  Research - AI at Meta'.\n",
      "Warning: Target note 'understandingai.org' not found for note 'Large Language Models, Explained With a Minimum of Math and Jargon'.\n",
      "Warning: Target note 'Liked' not found for note 'Large Language Models, Explained With a Minimum of Math and Jargon'.\n",
      "Warning: Target note 'MOC - Engineering Book' not found for note 'Leading by Editing'.\n",
      "Warning: Target note '2024-04-09 - Finding ways to create content during projects' not found for note 'Learning Gears'.\n",
      "Warning: Target note 'css-tricks.com' not found for note 'Learning to Learn  CSS-Tricks'.\n",
      "Warning: Target note 'Liked' not found for note 'Learning to Learn  CSS-Tricks'.\n",
      "Warning: Target note 'kevin.the.li' not found for note 'Learning to Learn  KL'.\n",
      "Warning: Target note 'dev.jimgrey.net' not found for note 'Lessons Learned in 35 Years of Making Software'.\n",
      "Warning: Target note 'Liked' not found for note 'Lessons Learned in 35 Years of Making Software'.\n",
      "Warning: Target note '2024-03-29 - Supercommunicated with Justin' not found for note 'Levels of Life'.\n",
      "Warning: Target note 'Tanner Garrity' not found for note 'Life Lessons From Einstein's Gedankenexperiments'.\n",
      "Warning: Target note 'Liked' not found for note 'Life Lessons From Einstein's Gedankenexperiments'.\n",
      "Warning: Target note 'Specific Knowledge' not found for note 'Lifestyle Business, Minimalist Entreprenuer, Values'.\n",
      "Warning: Target note 'Niche' not found for note 'Lifestyle Business, Minimalist Entreprenuer, Values'.\n",
      "Warning: Target note 'Goals' not found for note 'Lifestyle Business, Minimalist Entreprenuer, Values'.\n",
      "Warning: Target note 'Niches' not found for note 'Lifestyle Business, Minimalist Entreprenuer, Values'.\n",
      "Warning: Target note 'MOC - Writing Why' not found for note 'Lifestyle Business, Minimalist Entreprenuer, Values'.\n",
      "Warning: Target note 'Be Uniquely You' not found for note 'Lifestyle Business, Minimalist Entreprenuer, Values'.\n",
      "Warning: Target note 'Storytelling' not found for note 'Lincoln Quote'.\n",
      "Warning: Target note 'Storyworthy with Matthew Dicks' not found for note 'Lincoln Quote'.\n",
      "Warning: Target note 'Balance Create' not found for note 'Listen - Do - Share Flywheel'.\n",
      "Warning: Target note 'Learn Do Reflect' not found for note 'Listen - Do - Share Flywheel'.\n",
      "Warning: Target note 'Think' not found for note 'Listen - Do - Share Flywheel'.\n",
      "Warning: Target note '2024-06-12 - My Content Flywheel' not found for note 'Listen - Do - Share Flywheel'.\n",
      "Warning: Target note 'Consume Triad' not found for note 'Listen - Do - Share Flywheel'.\n",
      "Warning: Target note '2-Reference/Writing Skills/Ship30For30/My Observations' not found for note 'Live Session 2 - Lean Writing'.\n",
      "Warning: Target note 'eig.png' not found for note 'Live Session 3 - EIG'.\n",
      "Warning: Target note 'Zhangchi Feng' not found for note 'LlamaFactory Unified Efficient Fine-Tuning of 100+ Language Models'.\n",
      "Warning: Target note 'Junhao Zhang' not found for note 'LlamaFactory Unified Efficient Fine-Tuning of 100+ Language Models'.\n",
      "Warning: Target note 'Richong Zhang' not found for note 'LlamaFactory Unified Efficient Fine-Tuning of 100+ Language Models'.\n",
      "Warning: Target note 'Yaowei Zheng' not found for note 'LlamaFactory Unified Efficient Fine-Tuning of 100+ Language Models'.\n",
      "Warning: Target note 'Zheyan Luo' not found for note 'LlamaFactory Unified Efficient Fine-Tuning of 100+ Language Models'.\n",
      "Warning: Target note 'Yongqiang Ma' not found for note 'LlamaFactory Unified Efficient Fine-Tuning of 100+ Language Models'.\n",
      "Warning: Target note 'ai/finetune' not found for note 'LlamaFactory Unified Efficient Fine-Tuning of 100+ Language Models'.\n",
      "Warning: Target note 'Yanhan Ye' not found for note 'LlamaFactory Unified Efficient Fine-Tuning of 100+ Language Models'.\n",
      "Warning: Target note 'Brand' not found for note 'MOC - AI Papers - AI Research in 1 Minute'.\n",
      "Warning: Target note 'Analytics' not found for note 'MOC - AI Papers - AI Research in 1 Minute'.\n",
      "Warning: Target note 'MOC - YouTube - Video Skill' not found for note 'MOC - AI Papers - AI Research in 1 Minute'.\n",
      "Warning: Target note 'Main MOC - Chris On Data' not found for note 'MOC - AI for Thinkers - Augmented Learner Tools and Brand'.\n",
      "Warning: Target note 'Holding Company' not found for note 'MOC - ASH - ARIA - the augmented intelligence company - moonshot'.\n",
      "Warning: Target note 'open source ai' not found for note 'MOC - ASH - ARIA - the augmented intelligence company - moonshot'.\n",
      "Warning: Target note 'Augmented Empire Community' not found for note 'MOC - ASH - ARIA - the augmented intelligence company - moonshot'.\n",
      "Warning: Target note 'AI Startup' not found for note 'MOC - ASH - ARIA - the augmented intelligence company - moonshot'.\n",
      "Warning: Target note 'MOC - Moonshot Ideas' not found for note 'MOC - ASH - ARIA - the augmented intelligence company - moonshot'.\n",
      "Warning: Target note 'Specific Knowledge' not found for note 'MOC - Advice on Finding Your Niche Special Knowledge'.\n",
      "Warning: Target note 'Ikigai' not found for note 'MOC - Advice on Finding Your Niche Special Knowledge'.\n",
      "Warning: Target note '2024-08-23 - ai eval' not found for note 'MOC - Advice on Finding Your Niche Special Knowledge'.\n",
      "Warning: Target note 'MOC - Exploring My Niche' not found for note 'MOC - Advice on Finding Your Niche Special Knowledge'.\n",
      "Warning: Target note 'Category' not found for note 'MOC - Advice on Finding Your Niche Special Knowledge'.\n",
      "Warning: Target note 'Niche' not found for note 'MOC - Advice on Finding Your Niche Special Knowledge'.\n",
      "Warning: Target note 'When Start Writing' not found for note 'MOC - Advice on Finding Your Niche Special Knowledge'.\n",
      "Warning: Target note 'crypto options' not found for note 'MOC - Advice on Finding Your Niche Special Knowledge'.\n",
      "Warning: Target note 'politics#I cry when I’m onto it' not found for note 'MOC - Advice on Finding Your Niche Special Knowledge'.\n",
      "Warning: Target note 'Dont Niche First' not found for note 'MOC - Advice on Finding Your Niche Special Knowledge'.\n",
      "Warning: Target note 'Be Uniquely You' not found for note 'MOC - Advice on Finding Your Niche Special Knowledge'.\n",
      "Warning: Target note 'augmented writer' not found for note 'MOC - Advice on Finding Your Niche Special Knowledge'.\n",
      "Warning: Target note 'Ideas - Data Engineer Research' not found for note 'MOC - Doing research, being scientist'.\n",
      "Warning: Target note 'Specific Knowledge' not found for note 'MOC - Exploring My Niche, Ikigai, Specific Knowledge, Category'.\n",
      "Warning: Target note '2024-01-05 - Data Engineering and Trading' not found for note 'MOC - Exploring My Niche, Ikigai, Specific Knowledge, Category'.\n",
      "Warning: Target note 'Niche' not found for note 'MOC - Exploring My Niche, Ikigai, Specific Knowledge, Category'.\n",
      "Warning: Target note '(deprecated) Journal - Bits of Chris' not found for note 'MOC - Exploring My Niche, Ikigai, Specific Knowledge, Category'.\n",
      "Warning: Target note '2023-11-22 - Why I Write aka My Niche' not found for note 'MOC - Exploring My Niche, Ikigai, Specific Knowledge, Category'.\n",
      "Warning: Target note '2024-01-03 - Exploring Niche' not found for note 'MOC - Exploring My Niche, Ikigai, Specific Knowledge, Category'.\n",
      "Warning: Target note 'Be Uniquely You' not found for note 'MOC - Exploring My Niche, Ikigai, Specific Knowledge, Category'.\n",
      "Warning: Target note 'Vision' not found for note 'MOC - Exploring My Niche, Ikigai, Specific Knowledge, Category'.\n",
      "Warning: Target note '2025-01-26 - You and your research lecture' not found for note 'MOC - Great Thoughts - Big Thoughts'.\n",
      "Warning: Target note '2024-04-10 - Project Work to Guide Learning In Public' not found for note 'MOC - Learn in Public - Part Time Creator'.\n",
      "Warning: Target note 'CL is BoC' not found for note 'MOC - Learn in Public - Part Time Creator'.\n",
      "Warning: Target note 'Tech evangelists marketers' not found for note 'MOC - Learn in Public - Part Time Creator'.\n",
      "Warning: Target note 'My Niche and Creator Brand#2024-09-02 - who do I want to serve' not found for note 'MOC - Marketing'.\n",
      "Warning: Target note 'AMOC - My Brand' not found for note 'MOC - Marketing'.\n",
      "Warning: Target note 'Brand' not found for note 'MOC - Mind Mapping, Visual PKM'.\n",
      "Warning: Target note 'MOC - YouTube - Video Skill' not found for note 'MOC - Mind Mapping, Visual PKM'.\n",
      "Warning: Target note 'Analytics' not found for note 'MOC - Mind Mapping, Visual PKM'.\n",
      "Warning: Target note '& Skills to Develop' not found for note 'MOC - Moonshot Ideas, AI Startup, Holding Company, Augmented Empire Community'.\n",
      "Warning: Target note 'Archived - My Learning' not found for note 'MOC - Moonshot Ideas, AI Startup, Holding Company, Augmented Empire Community'.\n",
      "Warning: Target note 'Projects' not found for note 'MOC - Moonshot Ideas, AI Startup, Holding Company, Augmented Empire Community'.\n",
      "Warning: Target note '2025-01-18 - My purpose' not found for note 'MOC - My Mission'.\n",
      "Warning: Target note 'my mission and old notes' not found for note 'MOC - My Mission'.\n",
      "Warning: Target note 'Podcast Relaunch - Research Focus' not found for note 'MOC - My Podcast - Bits of Chris'.\n",
      "Warning: Target note 'Reasoning in LLMs - DeepSeek' not found for note 'MOC - Reasoning and deep seek'.\n",
      "Warning: Target note 'R1' not found for note 'MOC - Reasoning and deep seek'.\n",
      "Warning: Target note '2024-01-28 - Remote Engineers - Audience' not found for note 'MOC - Remote Engineers Club'.\n",
      "Warning: Target note 'Ethan DVD Surprise - Story#Script' not found for note 'MOC - StaffPlus Talk'.\n",
      "Warning: Target note '2024-09 - StaffPlus Conference HW' not found for note 'MOC - StaffPlus Talk'.\n",
      "Warning: Target note 'Ethan DVD Surprise - Notes' not found for note 'MOC - StaffPlus Talk'.\n",
      "Warning: Target note 'Homework For Life' not found for note 'MOC - Storytelling'.\n",
      "Warning: Target note 'Storytelling' not found for note 'MOC - Storytelling'.\n",
      "Warning: Target note 'Storyworthy with Matthew Dicks' not found for note 'MOC - Storytelling'.\n",
      "Warning: Target note 'Template - Anatomy of a Story' not found for note 'MOC - Storytelling'.\n",
      "Warning: Target note '2-Reference/Writing Skills/Visualize Value/Course Notes' not found for note 'MOC - VV Jack Butcher'.\n",
      "Warning: Target note 'MOC - Category POV - Joyspan - wfhfire v2' not found for note 'MOC - WFHFIRE - Time Rich Investing'.\n",
      "Warning: Target note 'CT Exercise - WFHFIRE  v1' not found for note 'MOC - WFHFIRE - Time Rich Investing'.\n",
      "Warning: Target note 'WFHFIRE - Category POV - v1' not found for note 'MOC - WFHFIRE - Time Rich Investing'.\n",
      "Warning: Target note 'learn how to build software' not found for note 'MOC Idea - ASH - Augment stay human map'.\n",
      "Warning: Target note 'not write code' not found for note 'MOC Idea - ASH - Augment stay human map'.\n",
      "Warning: Target note 'Brand' not found for note 'MOC Journal - YouTube'.\n",
      "Warning: Target note 'MOC - YouTube - Video Skill' not found for note 'MOC Journal - YouTube'.\n",
      "Warning: Target note 'Analytics' not found for note 'MOC Journal - YouTube'.\n",
      "Warning: Target note 'Focus your Learning' not found for note 'MOC- Ship 30 for 30 Big Ideas'.\n",
      "Warning: Target note 'not too much at once' not found for note 'MOC- Ship 30 for 30 Big Ideas'.\n",
      "Warning: Target note '2024-06-16 - start up' not found for note 'Meme Coin for Creators'.\n",
      "Warning: Target note '2024-06-15 - dont publish high' not found for note 'Meme Coin for Creators'.\n",
      "Warning: Target note 'fathers day' not found for note 'Meme Coin for Creators'.\n",
      "Warning: Target note 'learn do share' not found for note 'Meme Coin for Creators'.\n",
      "Warning: Target note 'dont rush to quit' not found for note 'Meme Coin for Creators'.\n",
      "Warning: Target note '2024-06-08 - Augmented Writer thinking#Meme coin idea' not found for note 'Meme Coin for Creators'.\n",
      "Warning: Target note 'podcast' not found for note 'Meme Coin for Creators'.\n",
      "Warning: Target note 'Be Uniquely You' not found for note 'Money is a by product of the value you provide'.\n",
      "Warning: Target note 'Niche' not found for note 'Money is a by product of the value you provide'.\n",
      "Warning: Target note 'Specific Knowledge' not found for note 'Money is a by product of the value you provide'.\n",
      "Warning: Target note '2024-04-18 - dopamine detox log' not found for note 'More Molecule'.\n",
      "Warning: Target note '(deprecated) Journal - Chris Lettieri - Augmented Engineer#2023-12-31 - Motivation' not found for note 'Most Ideas Suck, just return to the good ones'.\n",
      "Warning: Target note 'my hobby' not found for note 'My Fear of Writing in Public'.\n",
      "Warning: Target note '2024-01-07 - Write as me' not found for note 'My Fear of Writing in Public'.\n",
      "Warning: Target note 'write for fun' not found for note 'My Fear of Writing in Public'.\n",
      "Warning: Target note 'Balance Create' not found for note 'My Focus Routine'.\n",
      "Warning: Target note 'Learn Do Reflect' not found for note 'My Focus Routine'.\n",
      "Warning: Target note 'Think' not found for note 'My Focus Routine'.\n",
      "Warning: Target note 'Consume Triad' not found for note 'My Focus Routine'.\n",
      "Warning: Target note '(deprecated) Journal - Chris Lettieri - Augmented Engineer#2023-12-31 - My Routine' not found for note 'My Productivity Routine'.\n",
      "Warning: Target note 'How I Use AI In My Second Brain#Tools I use' not found for note 'My Tools That I Use'.\n",
      "Warning: Target note '2024-01-05 - Data Engineering and Trading' not found for note 'My Trading Algo made 30k one afternoon but I still had to quit'.\n",
      "Warning: Target note '(deprecated) Journal - Chris Lettieri - Augmented Engineer#2023-12-31 - Motivation' not found for note 'Naval Up Everyday'.\n",
      "Warning: Target note 'neuralnetworksanddeeplearning.com' not found for note 'Neural Networks and Deep Learning'.\n",
      "Warning: Target note 'neuralnetworksanddeeplearning.com' not found for note 'Neural Networks and Deep Learning-2'.\n",
      "Warning: Target note 'Brand' not found for note 'New Tubers'.\n",
      "Warning: Target note 'MOC - YouTube - Video Skill' not found for note 'New Tubers'.\n",
      "Warning: Target note 'Analytics' not found for note 'New Tubers'.\n",
      "Warning: Target note 'Can you Fat FIRE as just an employee' not found for note 'New grad to millionaire, the 10 year plan for tech workers.'.\n",
      "Warning: Target note '2-Reference/Writing Skills/Visualize Value/My Observations' not found for note 'Observations on Other Influencers Creators'.\n",
      "Warning: Target note '2-Reference/Writing Skills/Ship30For30/My Observations' not found for note 'Observations on Other Influencers Creators'.\n",
      "Warning: Target note 'seths.blog' not found for note 'Ode How to Tell a Great Story'.\n",
      "Warning: Target note 'about.fb.com' not found for note 'Open Source AI Is the Path Forward  Meta'.\n",
      "Warning: Target note 'WFHFIRE - Category POV - v1' not found for note 'Optimize for Fulfillment Rate'.\n",
      "Warning: Target note 'MOC - Me a Founder' not found for note 'Organic Problems - follow your interests, curiosity'.\n",
      "Warning: Target note '(deprecated) Journal - Chris Lettieri - Augmented Engineer#2023-12-31 - Ive hit the compound effect' not found for note 'PKM ZK for Digital Business'.\n",
      "Warning: Target note '2025-02-02 - Triage next steps for Ai clone#Demo' not found for note 'PMOC - AI Clone - Fine tuning on my second brain'.\n",
      "Warning: Target note '#2025-02-01 - Link from MOCs - distill MOCs' not found for note 'PMOC - AI Clone - Fine tuning on my second brain'.\n",
      "Warning: Target note 'Ai weather predictor' not found for note 'PMOC - Climate AI - Temperature forecasting'.\n",
      "Warning: Target note 'Brand' not found for note 'PMOC YT - DONE - Neural Networks from Scratch Series'.\n",
      "Warning: Target note 'MOC - YouTube - Video Skill' not found for note 'PMOC YT - DONE - Neural Networks from Scratch Series'.\n",
      "Warning: Target note 'Analytics' not found for note 'PMOC YT - DONE - Neural Networks from Scratch Series'.\n",
      "Warning: Target note 'Brand' not found for note 'PTYA - Ali Course'.\n",
      "Warning: Target note 'MOC - YouTube - Video Skill' not found for note 'PTYA - Ali Course'.\n",
      "Warning: Target note 'Analytics' not found for note 'PTYA - Ali Course'.\n",
      "Warning: Target note 'Student-Teacher Setting#Student Probe and their Pruning process' not found for note 'Paper - Beyond Neural Scaling Laws - beating power law scaling via data pruning'.\n",
      "Warning: Target note 'augmented leaner tool kit#Perplexity' not found for note 'Perplexity Thread Learning Demo'.\n",
      "Warning: Target note 'Specific Knowledge' not found for note 'Personal Monopoly'.\n",
      "Warning: Target note 'Ikigai' not found for note 'Personal Monopoly'.\n",
      "Warning: Target note 'Category' not found for note 'Personal Monopoly'.\n",
      "Warning: Target note 'MOC - Exploring My Niche' not found for note 'Personal Monopoly'.\n",
      "Warning: Target note 'virtual environment - new project' not found for note 'Poetry - Python environments'.\n",
      "Warning: Target note '2024-09-19 - Compound Knowledge' not found for note 'Post - Compound Knowledge in the Information Age'.\n",
      "Warning: Target note 'Bricks' not found for note 'Post - Compound Knowledge in the Information Age'.\n",
      "Warning: Target note 'Take consistent baby steps' not found for note 'Post - Compound Knowledge in the Information Age'.\n",
      "Warning: Target note 'Build Your Bricks' not found for note 'Post - Compound Knowledge in the Information Age'.\n",
      "Warning: Target note 'Packets' not found for note 'Post - Compound Knowledge in the Information Age'.\n",
      "Warning: Target note 'Efficient Data Processing in Spark - Joseph Machado Book' not found for note 'Post - Spark Lessons'.\n",
      "Warning: Target note 'MOC - Spark' not found for note 'Post - Spark Lessons'.\n",
      "Warning: Target note '(deprecated) Journal - Chris Lettieri - Augmented Engineer#2023-12-31 - My Routine' not found for note 'Productivity Matters'.\n",
      "Warning: Target note 'Augmented Intelligence for Engineers#Perplexity Thread Learning Demo' not found for note 'Quick Bits - 2024-08-09'.\n",
      "Warning: Target note 'Specific Knowledge' not found for note 'Quitting vs Iterating - Finding Your Niche Ikigai'.\n",
      "Warning: Target note 'Ikigai' not found for note 'Quitting vs Iterating - Finding Your Niche Ikigai'.\n",
      "Warning: Target note '2024-02-10 - Lumens Ikigai#Iterate - puzzle illustration - try new things' not found for note 'Quitting vs Iterating - Finding Your Niche Ikigai'.\n",
      "Warning: Target note 'MOC - Exploring My Niche' not found for note 'Quitting vs Iterating - Finding Your Niche Ikigai'.\n",
      "Warning: Target note 'Category' not found for note 'Quitting vs Iterating - Finding Your Niche Ikigai'.\n",
      "Warning: Target note 'game changer' not found for note 'Raising the Threshold for Capture - DAM the Mind'.\n",
      "Warning: Target note 'Lower the bar to capture' not found for note 'Raising the Threshold for Capture - DAM the Mind'.\n",
      "Warning: Target note 'Play the Money Game not status' not found for note 'Reflections after 3 months of creating'.\n",
      "Warning: Target note 'Writing Journals' not found for note 'Reflections after 3 months of creating'.\n",
      "Warning: Target note '2024-03-29 - Staff DE with AI Newsletter' not found for note 'Reflections after 3 months of creating'.\n",
      "Warning: Target note '(deprecated) MOC - Creator' not found for note 'Reflections after 3 months of creating'.\n",
      "Warning: Target note '& Skills to Develop' not found for note 'Remote Manager Copilot - Remote Monitoring'.\n",
      "Warning: Target note 'Projects' not found for note 'Remote Manager Copilot - Remote Monitoring'.\n",
      "Warning: Target note 'Archived - My Learning' not found for note 'Remote Manager Copilot - Remote Monitoring'.\n",
      "Warning: Target note '2024-01-27 - Specific Problems of Remote Working Engineers' not found for note 'Remote Work Super Power - Blend the Boundaries'.\n",
      "Warning: Target note '2024-01-28 - Remote Engineers - Audience' not found for note 'Remote Work Super Power - Blend the Boundaries'.\n",
      "Warning: Target note 'Focus your Learning' not found for note 'Revisit the Good Reads'.\n",
      "Warning: Target note 'not too much at once' not found for note 'Revisit the Good Reads'.\n",
      "Warning: Target note 'AI is having your own army of junior coders' not found for note 'Role of Software Engineers Changing to overseer'.\n",
      "Warning: Target note 'SEO Writing#https //yoast.com/seo-friendly-introduction/' not found for note 'SEO - Introduction'.\n",
      "Warning: Target note 'SEO Writing#https //ghost.org/resources/beginners-guide-to-seo/' not found for note 'SEO Research'.\n",
      "Warning: Target note 'Raj Shamani's Figuring Out' not found for note 'Sahil Bloom on the Future of Artificial Intelligence, Content Creation and Relationships  FO 75'.\n",
      "Warning: Target note 'Capital Allocators – Inside the Institutional Investment Industry' not found for note 'Sahil Bloom – Creativity, Investing, and Engineered Serendipity'.\n",
      "Warning: Target note 'Marketing School - Digital Marketing and Online Marketing Tips' not found for note 'Sahil Bloom’s #1 Advice to All Content Creators'.\n",
      "Warning: Target note 'image_123650291.png' not found for note 'Sample Designs'.\n",
      "Warning: Target note 'image_123650291(3).png' not found for note 'Sample Designs'.\n",
      "Warning: Target note '6549.jpg' not found for note 'Sample Designs'.\n",
      "Warning: Target note 'image_123650291(5).png' not found for note 'Sample Designs'.\n",
      "Warning: Target note 'image_123650291(1).png' not found for note 'Sample Designs'.\n",
      "Warning: Target note 'image_123650291(2).png' not found for note 'Sample Designs'.\n",
      "Warning: Target note 'image_123650291(4).png' not found for note 'Sample Designs'.\n",
      "Warning: Target note 'Espresso Hour#Lean Writing - Full' not found for note 'Seek Feedback to Learn'.\n",
      "Warning: Target note 'MOC - Dopamine Log' not found for note 'Serotonin - here and now with weed'.\n",
      "Warning: Target note 'Weekly Projects' not found for note 'Short Projects, Focused Learning'.\n",
      "Warning: Target note '2024-05-23 - Focus on AI Skills' not found for note 'Short Projects, Focused Learning'.\n",
      "Warning: Target note '2024-04-21- dopamine log' not found for note 'Slow Sex'.\n",
      "Warning: Target note 'snats.xyz' not found for note 'Snats Website'.\n",
      "Warning: Target note 'Liked' not found for note 'Snats Website'.\n",
      "Warning: Target note 'Ideas - Dapp And Trading#DEX Arbitrage' not found for note 'Solana GitHub Repos'.\n",
      "Warning: Target note '2024-04-14 - dopamine detox' not found for note 'Some stories are useful, choose'.\n",
      "Warning: Target note 'WW3' not found for note 'Some stories are useful, choose'.\n",
      "Warning: Target note '2024-04-13 - Losing my Mind' not found for note 'Some stories are useful, choose'.\n",
      "Warning: Target note 'Spearfishing' not found for note 'Some stories are useful, choose'.\n",
      "Warning: Target note 'ww3' not found for note 'Some stories are useful, choose'.\n",
      "Warning: Target note 'Balance Create' not found for note 'Space and Time to Create and Think'.\n",
      "Warning: Target note 'Learn Do Reflect' not found for note 'Space and Time to Create and Think'.\n",
      "Warning: Target note 'Think' not found for note 'Space and Time to Create and Think'.\n",
      "Warning: Target note 'Consume Triad' not found for note 'Space and Time to Create and Think'.\n",
      "Warning: Target note '2024-01-05 - Data Engineering and Trading' not found for note 'Staff Eng Investor'.\n",
      "Warning: Target note '2024-03-14 - Vision' not found for note 'Staff Eng Investor'.\n",
      "Warning: Target note '2024-03-13 - Trading' not found for note 'Staff Eng Investor'.\n",
      "Warning: Target note 'Investing coming up again' not found for note 'Staff Eng Investor'.\n",
      "Warning: Target note 'StaffPlus Talk 2024' not found for note 'StaffPlus Conference Tips'.\n",
      "Warning: Target note 'Ethan DVD Surprise - Notes' not found for note 'StaffPlus Talk - Script'.\n",
      "Warning: Target note 'Ethan DVD Surprise - Story' not found for note 'StaffPlus Talk - Script'.\n",
      "Warning: Target note 'Trade Log#2024-08-23' not found for note 'Stock and Crypto Correlations'.\n",
      "Warning: Target note 'MOC - Better Thinking' not found for note 'Summarizing is thinking clearly'.\n",
      "Warning: Target note 'Meta Learning' not found for note 'Summarizing is thinking clearly'.\n",
      "Warning: Target note 'WW3' not found for note 'Super AI GPUs Global Warming Trick'.\n",
      "Warning: Target note 'Spearfishing' not found for note 'Super AI GPUs Global Warming Trick'.\n",
      "Warning: Target note '2024-04-13 - Losing my Mind' not found for note 'Super AI GPUs Global Warming Trick'.\n",
      "Warning: Target note 'arxiv.org' not found for note 'Text2SQL Is Not Enough Unifying AI and Databases With TAG'.\n",
      "Warning: Target note 'observer.com' not found for note 'The Benjamin Franklin Method How to (Actually) Be a Better Writer'.\n",
      "Warning: Target note 'sahilbloom.com' not found for note 'The Best Ideas of 2024  the Curiosity Chronicle'.\n",
      "Warning: Target note 'Rich Sutton' not found for note 'The Bitter Lesson'.\n",
      "Warning: Target note 'sahilbloom.com' not found for note 'The Case for Slowing Down  the Curiosity Chronicle'.\n",
      "Warning: Target note 'Email Scott' not found for note 'The Day You Became a Better Writer'.\n",
      "Warning: Target note 'writing' not found for note 'The Day You Became a Better Writer'.\n",
      "Warning: Target note 'sahilbloom.com' not found for note 'The Discipline of Desire, Beginner's Paradox, & More  the Curiosity Chronicle'.\n",
      "Warning: Target note 'markmanson.net' not found for note 'The Disease of More'.\n",
      "Warning: Target note 'fs.blog' not found for note 'The Feynman Technique Master the Art of Learning'.\n",
      "Warning: Target note 'Liked' not found for note 'The Ladders of Wealth Creation A Step-by-Step Roadmap to Building Wealth'.\n",
      "Warning: Target note 'nathanbarry.com' not found for note 'The Ladders of Wealth Creation A Step-by-Step Roadmap to Building Wealth'.\n",
      "Warning: Target note 'sahilbloom.com' not found for note 'The Taxes of Life You Need to Pay  the Curiosity Chronicle'.\n",
      "Warning: Target note 'Liked' not found for note 'The Taxes of Life You Need to Pay  the Curiosity Chronicle'.\n",
      "Warning: Target note 'karpathy.github.io' not found for note 'The Unreasonable Effectiveness of Recurrent Neural Networks'.\n",
      "Warning: Target note 'oneusefulthing.org' not found for note 'Thinking Like an AI'.\n",
      "Warning: Target note 'MOC - Category POV - Joyspan - wfhfire v2' not found for note 'Three Ways to Retire'.\n",
      "Warning: Target note 'Specific Knowledge' not found for note 'Three Ways to Retire'.\n",
      "Warning: Target note 'Niche' not found for note 'Three Ways to Retire'.\n",
      "Warning: Target note 'Lifestyle Business' not found for note 'Three Ways to Retire'.\n",
      "Warning: Target note 'Values' not found for note 'Three Ways to Retire'.\n",
      "Warning: Target note 'Minimalist Entreprenuer' not found for note 'Three Ways to Retire'.\n",
      "Warning: Target note 'Be Uniquely You' not found for note 'Three Ways to Retire'.\n",
      "Warning: Target note 'WFHFIRE - Category POV - v1' not found for note 'Time Freedom, not Retire Early'.\n",
      "Warning: Target note 'MOC - Category POV - AE - Augmented Engineer' not found for note 'Tools And Technique'.\n",
      "Warning: Target note 'Homework For Life#2024-03-07' not found for note 'Treat People how you want, don't berate for change'.\n",
      "Warning: Target note 'Algorithms to Live By#Explore/Exploit Tradeoff' not found for note 'Try New Things, Especially If There Awhile'.\n",
      "Warning: Target note '2025-01-14 - Creative vs pragmatic balance and niche' not found for note 'Two Brains, Two Personas'.\n",
      "Warning: Target note '2024-03-01 - Two Distinct Blocks of Time' not found for note 'Two Brains, Two Personas'.\n",
      "Warning: Target note '2024-04-04 - Learn in Public Staff DE' not found for note 'Two Brains, Two Personas'.\n",
      "Warning: Target note '2024-02-11 - Two Main Voices' not found for note 'Two Brains, Two Personas'.\n",
      "Warning: Target note 'Specific Knowledge' not found for note 'Two things for your Ikigai'.\n",
      "Warning: Target note 'Ikigai' not found for note 'Two things for your Ikigai'.\n",
      "Warning: Target note 'Category' not found for note 'Two things for your Ikigai'.\n",
      "Warning: Target note 'MOC - Exploring My Niche' not found for note 'Two things for your Ikigai'.\n",
      "Warning: Target note 'MOC - Dopamine Log' not found for note 'Unhooked Podcast'.\n",
      "Warning: Target note '2024-01-07 - Path to Influencer President' not found for note 'Voting Online'.\n",
      "Warning: Target note 'Create by sharing stories and then idea' not found for note 'Vulnerable without oversharing'.\n",
      "Warning: Target note 'AI cant write' not found for note 'Vulnerable without oversharing'.\n",
      "Warning: Target note 'authentic' not found for note 'Vulnerable without oversharing'.\n",
      "Warning: Target note 'My PKM and Task Management System' not found for note 'WFH Productivity System'.\n",
      "Warning: Target note 'Home - Priorities' not found for note 'WK - 25-02-01'.\n",
      "Warning: Target note 'Index' not found for note 'WK - 25-02-01'.\n",
      "Warning: Target note 'Next' not found for note 'WK - 25-02-01'.\n",
      "Warning: Target note 'Long Term' not found for note 'WK - 25-02-01'.\n",
      "Warning: Target note 'AMOC - Priorities' not found for note 'WK - 25-02-01'.\n",
      "Warning: Target note 'Weekly Reflection' not found for note 'WK - 25-02-01'.\n",
      "Warning: Target note 'Vision' not found for note 'WK - 25-02-01'.\n",
      "Warning: Target note 'jamesclear.com' not found for note 'What Every Successful Person Knows, but Never Says'.\n",
      "Warning: Target note 'paulgraham.com' not found for note 'What You (Want To) Want'.\n",
      "Warning: Target note 'Execution is What Matters' not found for note 'What is most important now'.\n",
      "Warning: Target note 'Focus your Learning' not found for note 'What is most important now'.\n",
      "Warning: Target note 'Avoid Idea Hopping - Ideas are Cheap' not found for note 'What is most important now'.\n",
      "Warning: Target note 'not too much at once' not found for note 'What is most important now'.\n",
      "Warning: Target note 'Especially If There Awhile' not found for note 'Why Adventure is Always a Good Investment'.\n",
      "Warning: Target note 'Try New Things' not found for note 'Why Adventure is Always a Good Investment'.\n",
      "Warning: Target note 'Why I Take Risk To Write On LinkedIn' not found for note 'Why I Write - Post'.\n",
      "Warning: Target note 'Consumer to Producer' not found for note 'Why I Write - Post'.\n",
      "Warning: Target note '2024-08-23 - ai eval' not found for note 'Work in public'.\n",
      "Warning: Target note 'open source creator entrepreneur' not found for note 'Work in public'.\n",
      "Warning: Target note 'politics' not found for note 'Work in public'.\n",
      "Warning: Target note 'crypto options' not found for note 'Work in public'.\n",
      "Warning: Target note 'augmented writer' not found for note 'Work in public'.\n",
      "Warning: Target note 'Think' not found for note 'Working in the business vs on the business - balance doing and process'.\n",
      "Warning: Target note 'Learn Do Reflect' not found for note 'Working in the business vs on the business - balance doing and process'.\n",
      "Warning: Target note 'Balance Create' not found for note 'Working in the business vs on the business - balance doing and process'.\n",
      "Warning: Target note 'Consume Triad' not found for note 'Working in the business vs on the business - balance doing and process'.\n",
      "Warning: Target note 'MOC - Engineering Book' not found for note 'Writing an RFC - Design Tradeoffs Communication'.\n",
      "Warning: Target note 'Pasted image 20231024093951.png' not found for note 'Writing an RFC - Design Tradeoffs Communication'.\n",
      "Warning: Target note 'Main MOC - Chris On Data' not found for note 'X Things That Changed from Senior to Staff'.\n",
      "Warning: Target note '1A few useful things to know about ML.excalidraw' not found for note 'YT - A Few Useful Things to Know about Machine Learning ML'.\n",
      "Warning: Target note 'ideas' not found for note 'YT - Day in Life or Remote Staff Data Engineer'.\n",
      "Warning: Target note '2024-12-06 - content for fun' not found for note 'YT - Day in Life or Remote Staff Data Engineer'.\n",
      "Warning: Target note 'remote de niche' not found for note 'YT - Day in Life or Remote Staff Data Engineer'.\n",
      "Warning: Target note 'Brand' not found for note 'YT - Hooks'.\n",
      "Warning: Target note 'mr beast tips#hooks and promise' not found for note 'YT - Hooks'.\n",
      "Warning: Target note 'Analytics' not found for note 'YT - Hooks'.\n",
      "Warning: Target note 'YT - Hook Prompt' not found for note 'YT - Hooks'.\n",
      "Warning: Target note 'MOC - YouTube - Video Skill' not found for note 'YT - Hooks'.\n",
      "Warning: Target note 'deep-learning github daily blog#2024-11-11 - PyTorch CNN' not found for note 'YT - How to Use PyTorch for Neural Networks - Basic steps'.\n",
      "Warning: Target note 'deep-learning github daily blog#2024-11-26 - Self Attention' not found for note 'YT - Self-Attention Mechanisms Basic'.\n",
      "Warning: Target note 'my explanation' not found for note 'YT - Self-Attention Mechanisms Basic'.\n",
      "Warning: Target note 'deep-learning github daily blog#2024-12-09 - Self-Attention in My Words' not found for note 'YT - Self-Attention Mechanisms Basic'.\n",
      "Warning: Target note 'YT - when to trust AI#idea' not found for note 'YT - when to trust AI'.\n",
      "Warning: Target note '2024-01-07 - Path to Influencer President' not found for note 'YT- president in 20 years'.\n",
      "Warning: Target note '2024-12-04#getting too far ahead' not found for note 'You Can't Tell People your 20 year moonshot plans'.\n",
      "Warning: Target note 'Be Uniquely You' not found for note 'Your outcome goals will probably fail so pick something fun'.\n",
      "Warning: Target note 'Niche' not found for note 'Your outcome goals will probably fail so pick something fun'.\n",
      "Warning: Target note 'Specific Knowledge' not found for note 'Your outcome goals will probably fail so pick something fun'.\n",
      "Warning: Target note 'YT - rise of the Ai data engineer' not found for note 'ai data engineer observations'.\n",
      "Warning: Target note 'MOC - Category POV - Joyspan - wfhfire v2' not found for note 'buy back time - roti purchases'.\n",
      "Warning: Target note 'Long Term#Shorts to prototype' not found for note 'content to prototype business ideas'.\n",
      "Warning: Target note 'AMOC - Priorities' not found for note 'content to prototype business ideas'.\n",
      "Warning: Target note 'Vision' not found for note 'content to prototype business ideas'.\n",
      "Warning: Target note 'Tools And Technique#Bruce Lee' not found for note 'depth vs breadth'.\n",
      "Warning: Target note 'MOC - Dopamine Log' not found for note 'dopamine post'.\n",
      "Warning: Target note 'Just-in-time' not found for note 'finding niche, compounding many small steps'.\n",
      "Warning: Target note 'Active' not found for note 'finding niche, compounding many small steps'.\n",
      "Warning: Target note 'intentional learning#keep taking incremental steps' not found for note 'finding niche, compounding many small steps'.\n",
      "Warning: Target note 'Brand' not found for note 'first 60 seconds of YouTube'.\n",
      "Warning: Target note 'MOC - YouTube - Video Skill' not found for note 'first 60 seconds of YouTube'.\n",
      "Warning: Target note 'Analytics#Mr beast tips' not found for note 'first 60 seconds of YouTube'.\n",
      "Warning: Target note 'Brand' not found for note 'focus by commitment'.\n",
      "Warning: Target note '2024-12-06 - Youtube valley of despair' not found for note 'focus by commitment'.\n",
      "Warning: Target note 'MOC - YouTube - Video Skill' not found for note 'focus by commitment'.\n",
      "Warning: Target note 'Analytics#2024-12-12 - video taking off' not found for note 'focus by commitment'.\n",
      "Warning: Target note 'Dad' not found for note 'how to find your tribe without getting lucky'.\n",
      "Warning: Target note 'find your niche ideas' not found for note 'how to find your tribe without getting lucky'.\n",
      "Warning: Target note '2024-05-11 - find your tribe thread' not found for note 'how to find your tribe without getting lucky'.\n",
      "Warning: Target note 'Learner' not found for note 'how to find your tribe without getting lucky'.\n",
      "Warning: Target note 'Engineer#Augmetned Learner -> finding hujmantity as we adapt to AI' not found for note 'how to find your tribe without getting lucky'.\n",
      "Warning: Target note '2024-06-02 - Three Augmented Niches' not found for note 'how to find your tribe without getting lucky'.\n",
      "Warning: Target note 'Execution is What Matters' not found for note 'ideas not original, give credit'.\n",
      "Warning: Target note 'just return to the good ones' not found for note 'ideas not original, give credit'.\n",
      "Warning: Target note 'Avoid Idea Hopping - Ideas are Cheap' not found for note 'ideas not original, give credit'.\n",
      "Warning: Target note 'Most Ideas Suck' not found for note 'ideas not original, give credit'.\n",
      "Warning: Target note '2025-01-16#Reflection' not found for note 'invest in your tools'.\n",
      "Warning: Target note 'Specific Knowledge' not found for note 'iterating on my niche'.\n",
      "Warning: Target note 'Ikigai' not found for note 'iterating on my niche'.\n",
      "Warning: Target note 'Category' not found for note 'iterating on my niche'.\n",
      "Warning: Target note 'MOC - Exploring My Niche' not found for note 'iterating on my niche'.\n",
      "Warning: Target note '2024-05-15 - night out at ricks' not found for note 'married man strip club'.\n",
      "Warning: Target note '2024-12-26 - mind mapping' not found for note 'mind mapping - Justin sung'.\n",
      "Warning: Target note 'youtube creators analysis#3 levels of mind mapping' not found for note 'mind mapping - Justin sung'.\n",
      "Warning: Target note 'Paul Graham Essays#Doing Good Work' not found for note 'my blueprint for being a part time creator as a full time software engineer'.\n",
      "Warning: Target note 'rest' not found for note 'naps remote work'.\n",
      "Warning: Target note 'Take naps' not found for note 'naps remote work'.\n",
      "Warning: Target note 'Balance Create' not found for note 'new creators should ignore welsh and koe'.\n",
      "Warning: Target note 'Learn Do Reflect' not found for note 'new creators should ignore welsh and koe'.\n",
      "Warning: Target note 'Think' not found for note 'new creators should ignore welsh and koe'.\n",
      "Warning: Target note 'Consume Triad' not found for note 'new creators should ignore welsh and koe'.\n",
      "Warning: Target note 'virtual environment - new project' not found for note 'new project'.\n",
      "Warning: Target note 'Be Uniquely You' not found for note 'niche - find a problem you like and solve it'.\n",
      "Warning: Target note 'Niche' not found for note 'niche - find a problem you like and solve it'.\n",
      "Warning: Target note 'Specific Knowledge' not found for note 'niche - find a problem you like and solve it'.\n",
      "Warning: Target note 'Take Action - Ask questions' not found for note 'plan less, experiment more - take action, do things'.\n",
      "Warning: Target note 'Solve problems' not found for note 'plan less, experiment more - take action, do things'.\n",
      "Warning: Target note '2025-01-20 - pivot on a weekly basis to follow interests while exploring' not found for note 'plan less, experiment more - take action, do things'.\n",
      "Warning: Target note 'Build More - Be Curious' not found for note 'plan less, experiment more - take action, do things'.\n",
      "Warning: Target note 'Balance Create' not found for note 'pragmatic productivity - WFHFIRE'.\n",
      "Warning: Target note 'WFHFIRE - Category POV - v1' not found for note 'pragmatic productivity - WFHFIRE'.\n",
      "Warning: Target note 'Learn Do Reflect' not found for note 'pragmatic productivity - WFHFIRE'.\n",
      "Warning: Target note 'Think' not found for note 'pragmatic productivity - WFHFIRE'.\n",
      "Warning: Target note 'Consume Triad' not found for note 'pragmatic productivity - WFHFIRE'.\n",
      "Warning: Target note 'AMOC - Priorities' not found for note 'prioritize - does this help me now or in future'.\n",
      "Warning: Target note 'Long Term' not found for note 'prioritize - does this help me now or in future'.\n",
      "Warning: Target note 'Vision' not found for note 'prioritize - does this help me now or in future'.\n",
      "Warning: Target note '3 blue 1 brown - neural networks#chapter 5' not found for note 'self-attention mechanisms'.\n",
      "Warning: Target note 'LLMs from Scratch Book#Chapter 3 - Coding Attention Mechanisms' not found for note 'self-attention mechanisms'.\n",
      "Warning: Target note 'joyspan' not found for note 'take risk to live a rich life'.\n",
      "Warning: Target note 'Time Rich Investing - Joy Span' not found for note 'take risk to live a rich life'.\n",
      "Warning: Target note 'The only true passive investments' not found for note 'the truth about passive income'.\n",
      "Warning: Target note 'dont make a second job' not found for note 'the truth about passive income'.\n",
      "Warning: Target note '2024-09-22 - use otter' not found for note 'ultra learning book'.\n",
      "Warning: Target note 'free recall ultralearning' not found for note 'ultra learning book'.\n",
      "Warning: Target note '2024-02-09 - Lumen Writing Back' not found for note 'why am I still unhappy won the money game'.\n",
      "Warning: Target note 'aisolopreneur.beehiiv.com' not found for note '🐙 Start With WHY, Not WHAT'.\n",
      "Warning: Target note 'Liked' not found for note '🐙 Start With WHY, Not WHAT'.\n",
      "Warning: Target note 'aisolopreneur.beehiiv.com' not found for note '🐙 the Data-Driven Way to Hit 1M Views'.\n",
      "Warning: Target note 'aisolopreneur.beehiiv.com' not found for note '🐙 to Generalize or to Specialize'.\n",
      "notes_network.html\n"
     ]
    },
    {
     "data": {
      "text/html": [
       "\n",
       "        <iframe\n",
       "            width=\"100%\"\n",
       "            height=\"800px\"\n",
       "            src=\"notes_network.html\"\n",
       "            frameborder=\"0\"\n",
       "            allowfullscreen\n",
       "            \n",
       "        ></iframe>\n",
       "        "
      ],
      "text/plain": [
       "<IPython.lib.display.IFrame at 0x14e52ffe0>"
      ]
     },
     "execution_count": 62,
     "metadata": {},
     "output_type": "execute_result"
    }
   ],
   "source": [
    "import pandas as pd\n",
    "import numpy as np\n",
    "from pyvis.network import Network\n",
    "\n",
    "# --- Example DataFrame ---\n",
    "# Assume df_dedup has columns: note_title, folder, x, y, links, cluster\n",
    "\n",
    "# Compute the center (you could also use median if preferred)\n",
    "center_x = df_dedup['x'].mean()\n",
    "center_y = df_dedup['y'].mean()\n",
    "\n",
    "# Define parameters for the radial transformation:\n",
    "# threshold: radii beyond which points will be compressed.\n",
    "# alpha: exponent (<1) that compresses distances beyond the threshold.\n",
    "threshold = 50   # adjust based on your data's scale\n",
    "alpha = 0.5      # 0.5 compresses distances (square-root compression)\n",
    "\n",
    "def compress_point(x, y, center_x, center_y, threshold, alpha):\n",
    "    \"\"\"\n",
    "    Convert (x, y) to polar coordinates relative to (center_x, center_y),\n",
    "    compress the radius if above threshold, and convert back to Cartesian.\n",
    "    \"\"\"\n",
    "    # Compute the displacement from center.\n",
    "    dx = x - center_x\n",
    "    dy = y - center_y\n",
    "    r = np.sqrt(dx*dx + dy*dy)\n",
    "    theta = np.arctan2(dy, dx)\n",
    "    \n",
    "    # Apply non-linear transformation only if r exceeds the threshold.\n",
    "    if r > threshold:\n",
    "        # Compress the extra radius: new_r = threshold + (r - threshold)^alpha\n",
    "        new_r = threshold + (r - threshold) ** alpha\n",
    "    else:\n",
    "        new_r = r\n",
    "    \n",
    "    # Convert back to Cartesian coordinates.\n",
    "    new_x = center_x + new_r * np.cos(theta)\n",
    "    new_y = center_y + new_r * np.sin(theta)\n",
    "    return new_x, new_y\n",
    "\n",
    "# Apply the transformation to your DataFrame.\n",
    "# Create new columns for the transformed positions.\n",
    "transformed_x = []\n",
    "transformed_y = []\n",
    "for idx, row in df_dedup.iterrows():\n",
    "    new_x, new_y = compress_point(row['x'], row['y'], center_x, center_y, threshold, alpha)\n",
    "    transformed_x.append(new_x)\n",
    "    transformed_y.append(new_y)\n",
    "\n",
    "df_dedup['x_trans'] = transformed_x\n",
    "df_dedup['y_trans'] = transformed_y\n",
    "\n",
    "# (Optional) You might want to scale or shift these new coordinates further\n",
    "# so that they fit well on your canvas. For example:\n",
    "scale_factor = 150  # adjust as needed\n",
    "df_dedup['x_final'] = df_dedup['x_trans'] * scale_factor\n",
    "df_dedup['y_final'] = df_dedup['y_trans'] * scale_factor\n",
    "\n",
    "df_dedup['x_rot'] = -df_dedup['y_final']\n",
    "df_dedup['y_rot'] = df_dedup['x_final']\n",
    "\n",
    "# --- Build the Pyvis network with the transformed coordinates ---\n",
    "\n",
    "def get_color(cluster):\n",
    "    palette = [\n",
    "        \"#e6194B\", \"#3cb44b\", \"#ffe119\", \"#4363d8\", \"#f58231\",\n",
    "        \"#911eb4\", \"#46f0f0\", \"#f032e6\", \"#bcf60c\", \"#fabebe\",\n",
    "        \"#008080\", \"#e6beff\", \"#9a6324\", \"#fffac8\", \"#800000\",\n",
    "        \"#aaffc3\", \"#808000\", \"#ffd8b1\", \"#000075\", \"#808080\",\n",
    "        \"#ff0000\", \"#00ff00\", \"#0000ff\", \"#ffff00\", \"#ff00ff\",\n",
    "        \"#00ffff\", \"#800080\", \"#696969\", \"#c0c0c0\", \"#ffa500\",\n",
    "        \"#f0e68c\", \"#dda0dd\", \"#98fb98\", \"#afeeee\", \"#db7093\",\n",
    "        \"#ffefd5\", \"#ffdab9\", \"#cd853f\", \"#8b4513\", \"#d2691e\",\n",
    "        \"#b8860b\", \"#d2b48c\", \"#deb887\", \"#f4a460\", \"#b22222\",\n",
    "        \"#ff6347\", \"#e9967a\", \"#fa8072\", \"#ffa07a\", \"#7fffd4\"\n",
    "    ]\n",
    "    try:\n",
    "        idx = int(cluster) % len(palette)\n",
    "        return palette[idx]\n",
    "    except (ValueError, TypeError):\n",
    "        return '#cccccc'  # default gray if cluster value is invalid\n",
    "\n",
    "\n",
    "net = Network(height='800px', width='100%', notebook=True, directed=True)\n",
    "net.toggle_physics(False)  # use fixed positions\n",
    "\n",
    "# Add nodes using the new (x_final, y_final) coordinates.\n",
    "for idx, row in df_dedup.iterrows():\n",
    "    tooltip = f\"{row['note_title']}\\nFolder: {row['folder']}\\nCluster: {row['cluster']}\"\n",
    "    net.add_node(\n",
    "        n_id=row['note_title'],\n",
    "        label='',                   # hide label by default\n",
    "        title=tooltip,\n",
    "        x=float(row['x_rot']),\n",
    "        y=float(row['y_rot']),\n",
    "        fixed={'x': True, 'y': True},\n",
    "        color=get_color(row['cluster']),\n",
    "        size=10,\n",
    "        shadow=True,\n",
    "        scaling={\"min\": 10, \"max\": 20}\n",
    "    )\n",
    "\n",
    "# Add edges.\n",
    "valid_titles = set(df_dedup['note_title'])\n",
    "for idx, row in df_dedup.iterrows():\n",
    "    source_title = row['note_title']\n",
    "    if row['links']:\n",
    "        for target_title in row['links']:\n",
    "            target_title = target_title.strip()\n",
    "            if target_title in valid_titles:\n",
    "                net.add_edge(source_title, target_title)\n",
    "            else:\n",
    "                print(f\"Warning: Target note '{target_title}' not found for note '{source_title}'.\")\n",
    "\n",
    "# Override global node label settings to hide labels (they will show only on hover).\n",
    "net.set_options(\"\"\"\n",
    "var options = {\n",
    "  \"nodes\": {\n",
    "    \"font\": {\n",
    "      \"size\": 0,\n",
    "      \"face\": \"arial\",\n",
    "      \"color\": \"rgba(0,0,0,0)\"\n",
    "    },\n",
    "    \"borderWidth\": 2,\n",
    "    \"hover\": {\n",
    "      \"enabled\": true,\n",
    "      \"size\": 20\n",
    "    },\n",
    "    \"shadow\": {\n",
    "      \"enabled\": true\n",
    "    }\n",
    "  },\n",
    "  \"edges\": {\n",
    "    \"color\": {\n",
    "      \"inherit\": true\n",
    "    },\n",
    "    \"smooth\": false\n",
    "  },\n",
    "  \"interaction\": {\n",
    "    \"hover\": true,\n",
    "    \"tooltipDelay\": 200\n",
    "  }\n",
    "}\n",
    "\"\"\")\n",
    "\n",
    "net.show('notes_network.html')\n"
   ]
  }
 ],
 "metadata": {
  "kernelspec": {
   "display_name": ".venv",
   "language": "python",
   "name": "python3"
  },
  "language_info": {
   "codemirror_mode": {
    "name": "ipython",
    "version": 3
   },
   "file_extension": ".py",
   "mimetype": "text/x-python",
   "name": "python",
   "nbconvert_exporter": "python",
   "pygments_lexer": "ipython3",
   "version": "3.12.7"
  }
 },
 "nbformat": 4,
 "nbformat_minor": 2
}
