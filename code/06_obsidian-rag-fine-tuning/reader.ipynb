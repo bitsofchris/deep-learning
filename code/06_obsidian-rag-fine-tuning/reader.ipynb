{
 "cells": [
  {
   "cell_type": "code",
   "execution_count": 2,
   "metadata": {},
   "outputs": [],
   "source": [
    "from my_obsidian_reader import ObsidianReader\n",
    "from moc import build_notes_map, get_moc_and_linked_notes"
   ]
  },
  {
   "cell_type": "code",
   "execution_count": 5,
   "metadata": {},
   "outputs": [],
   "source": [
    "reader = ObsidianReader(\"/Users/chris/zk-copy-for-testing/\", extract_tasks=True, remove_tasks_from_text=True)\n",
    "documents = reader.load_data()\n"
   ]
  },
  {
   "cell_type": "code",
   "execution_count": 6,
   "metadata": {},
   "outputs": [
    {
     "data": {
      "text/plain": [
       "Document(id_='96c784d0-1202-4942-b206-11be9e7690cc', embedding=None, metadata={'file_name': 'Home - Priorities, Next, Index.md', 'folder_path': '/Users/chris/zk-copy-for-testing', 'folder_name': '.', 'note_name': 'Home - Priorities, Next, Index', 'wikilinks': ['deep-learning github daily blog', 'AMOC - My Brand, My Niche and Creator Brand', 'AMOC - Meta - Obsidian - Second Brain - My Organization Process', 'MOC - YouTube - Video Skill, Brand, Analytics', 'AMOC - Priorities, Vision, Long Term', '0 - Tasks this Week', 'AMOC - AI Data Engineer - AI Time Series Researcher', 'MOC - My Podcast - Bits of Chris'], 'tasks': [], 'backlinks': ['AMOC - Priorities, Vision, Long Term', 'WK - 25-02-01', '0 - Tasks this Week', 'WK - 24-12-08', 'WK - 24-12-16', 'WK - 25-01-20', 'WK - 25-01-25', 'WK - 25-01-05', 'WK - 24-12-24', 'WK - 25-01-13']}, excluded_embed_metadata_keys=[], excluded_llm_metadata_keys=[], relationships={}, metadata_template='{key}: {value}', metadata_separator='\\n', text_resource=MediaResource(embeddings=None, data=None, text='Priorities & Next Tasks Areas Work\\n[[AMOC - Priorities, Vision, Long Term]] (becoming my meta vision/ priorities for self)\\n1. [[AMOC - AI Data Engineer - AI Time Series Researcher]]\\n1.  [[deep-learning github daily blog]]\\n2. Making YT videos on what I learn\\n2. [[MOC - YouTube - Video Skill, Brand, Analytics]]\\n3. Meta/ Obsidian/ Reading - [[AMOC - Meta - Obsidian - Second Brain - My Organization Process]]\\nTasks\\n[[0 - Tasks this Week]]\\n[[AMOC - AI Data Engineer - AI Time Series Researcher]]\\n[[AMOC - My Brand, My Niche and Creator Brand]] (niche, specialized knowledge)\\n- [[MOC - My Podcast - Bits of Chris]] (podcast logistics and skill)\\n- [[MOC - YouTube - Video Skill, Brand, Analytics]] (youtube logistics and skill)', path=None, url=None, mimetype=None), image_resource=None, audio_resource=None, video_resource=None, text_template='{metadata_str}\\n\\n{content}')"
      ]
     },
     "execution_count": 6,
     "metadata": {},
     "output_type": "execute_result"
    }
   ],
   "source": [
    "documents[0]"
   ]
  }
 ],
 "metadata": {
  "kernelspec": {
   "display_name": ".venv",
   "language": "python",
   "name": "python3"
  },
  "language_info": {
   "codemirror_mode": {
    "name": "ipython",
    "version": 3
   },
   "file_extension": ".py",
   "mimetype": "text/x-python",
   "name": "python",
   "nbconvert_exporter": "python",
   "pygments_lexer": "ipython3",
   "version": "3.12.7"
  }
 },
 "nbformat": 4,
 "nbformat_minor": 2
}
