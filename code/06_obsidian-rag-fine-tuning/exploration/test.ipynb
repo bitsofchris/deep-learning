{
 "cells": [
  {
   "cell_type": "code",
   "execution_count": null,
   "metadata": {},
   "outputs": [],
   "source": [
    "from my_obsidian_reader import ObsidianReader\n",
    "from moc import build_notes_map, get_moc_and_linked_notes\n",
    "from dotenv import load_dotenv\n",
    "\n",
    "# Load environment variables from .env file\n",
    "load_dotenv()"
   ]
  },
  {
   "cell_type": "code",
   "execution_count": null,
   "metadata": {},
   "outputs": [],
   "source": [
    "reader = ObsidianReader(\"/Users/chris/zk-copy-for-testing/\", extract_tasks=True, remove_tasks_from_text=True)\n",
    "documents = reader.load_data()\n",
    "# Build a hash map keyed by file name.\n",
    "notes_map = build_notes_map(documents)"
   ]
  },
  {
   "cell_type": "code",
   "execution_count": null,
   "metadata": {},
   "outputs": [],
   "source": [
    "len(documents)\n",
    "len(notes_map.keys())"
   ]
  },
  {
   "cell_type": "code",
   "execution_count": null,
   "metadata": {},
   "outputs": [],
   "source": [
    "# Build an index for an MOC file\n",
    "moc_file = \"Post - Compound Knowledge in the Information Age.md\"\n",
    "moc_file = \"MOC Idea - ASH - Augment stay human map.md\"\n",
    "moc_docs = get_moc_and_linked_notes(moc_file, notes_map, depth=2)\n",
    "len(moc_docs)"
   ]
  },
  {
   "cell_type": "code",
   "execution_count": null,
   "metadata": {},
   "outputs": [],
   "source": [
    "import pyperclip\n",
    "\n",
    "def concatenate_documents_text(documents) -> str:\n",
    "    text = \"\\n\\n\".join(doc.text for doc in documents)\n",
    "    pyperclip.copy(text)\n",
    "    print(\"Concatenated text has been copied to your clipboard.\")\n",
    "\n",
    "concatenate_documents_text(moc_docs)\n"
   ]
  },
  {
   "cell_type": "code",
   "execution_count": null,
   "metadata": {},
   "outputs": [],
   "source": [
    "from llama_index.core import VectorStoreIndex\n",
    "from llama_index.embeddings.huggingface import HuggingFaceEmbedding\n",
    "from llama_index.core import Settings\n",
    "\n",
    "# Build an index on the combined documents.\n",
    "Settings.embed_model = HuggingFaceEmbedding(\n",
    "    model_name=\"BAAI/bge-small-en-v1.5\",\n",
    "    device=\"cpu\"  # Use \"cuda\" for GPU acceleration\n",
    ")\n",
    "index = VectorStoreIndex.from_documents(moc_docs)"
   ]
  },
  {
   "cell_type": "code",
   "execution_count": null,
   "metadata": {},
   "outputs": [],
   "source": [
    "index.storage_context.persist(persist_dir=\"./storage\")"
   ]
  },
  {
   "cell_type": "code",
   "execution_count": null,
   "metadata": {},
   "outputs": [],
   "source": [
    "import os\n",
    "load_dotenv(\"/Users/chris/repos/deep-learning/keys.env\")\n",
    "\n",
    "from llama_index.llms.anthropic import Anthropic\n",
    "\n",
    "model_name = \"claude-3-5-sonnet-20241022\"\n",
    "Settings.llm = Anthropic(model=model_name, max_tokens=4000)\n",
    "query_engine = index.as_query_engine(similarity_top_k=25, response_mode=\"tree_summarize\",)"
   ]
  },
  {
   "cell_type": "code",
   "execution_count": null,
   "metadata": {},
   "outputs": [],
   "source": [
    "response = query_engine.query(\n",
    "    \"Based on all the notes you have related to 'Compound Knowledge in the Information Age', what are the key points? What am I trying to say? help me organize my thinking\", \n",
    ")\n",
    "response"
   ]
  },
  {
   "cell_type": "code",
   "execution_count": null,
   "metadata": {},
   "outputs": [],
   "source": [
    "response.response"
   ]
  }
 ],
 "metadata": {
  "kernelspec": {
   "display_name": ".venv",
   "language": "python",
   "name": "python3"
  },
  "language_info": {
   "codemirror_mode": {
    "name": "ipython",
    "version": 3
   },
   "file_extension": ".py",
   "mimetype": "text/x-python",
   "name": "python",
   "nbconvert_exporter": "python",
   "pygments_lexer": "ipython3",
   "version": "3.12.7"
  }
 },
 "nbformat": 4,
 "nbformat_minor": 2
}
