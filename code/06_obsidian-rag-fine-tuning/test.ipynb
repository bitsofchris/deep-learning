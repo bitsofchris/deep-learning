{
 "cells": [
  {
   "cell_type": "code",
   "execution_count": 1,
   "metadata": {},
   "outputs": [],
   "source": [
    "from my_obsidian_reader import ObsidianReader\n"
   ]
  },
  {
   "cell_type": "code",
   "execution_count": 2,
   "metadata": {},
   "outputs": [],
   "source": [
    "reader = ObsidianReader(\"/Users/chris/zk-copy-for-testing/0-Current Focus\", extract_tasks=True, remove_tasks_from_text=True)\n",
    "documents = reader.load_data()"
   ]
  },
  {
   "cell_type": "code",
   "execution_count": 3,
   "metadata": {},
   "outputs": [
    {
     "data": {
      "text/plain": [
       "Document(id_='47b354f8-70e1-4d01-b1a1-65784f0be9f0', embedding=None, metadata={'file_name': 'WK - 25-02-01.md', 'folder_path': '/Users/chris/zk-copy-for-testing/0-Current Focus', 'folder_name': '.', 'wikilinks': ['2025-01-31 - Ai clone as agents', 'Compound Knowledge', 'PMOC - Follow Obsidian Links for an Idea'], 'tasks': []}, excluded_embed_metadata_keys=[], excluded_llm_metadata_keys=[], relationships={}, metadata_template='{key}: {value}', metadata_separator='\\n', text_resource=MediaResource(embeddings=None, data=None, text='During week Compound Knowledge + RAG + Moonshot\\n- How does [[2025-01-31 - Ai clone as agents]] tie into my [[Compound Knowledge]]\\n- [[PMOC - Follow Obsidian Links for an Idea]]', path=None, url=None, mimetype=None), image_resource=None, audio_resource=None, video_resource=None, text_template='{metadata_str}\\n\\n{content}')"
      ]
     },
     "execution_count": 3,
     "metadata": {},
     "output_type": "execute_result"
    }
   ],
   "source": [
    "len(documents)\n",
    "documents[2]"
   ]
  }
 ],
 "metadata": {
  "kernelspec": {
   "display_name": ".venv",
   "language": "python",
   "name": "python3"
  },
  "language_info": {
   "codemirror_mode": {
    "name": "ipython",
    "version": 3
   },
   "file_extension": ".py",
   "mimetype": "text/x-python",
   "name": "python",
   "nbconvert_exporter": "python",
   "pygments_lexer": "ipython3",
   "version": "3.12.7"
  }
 },
 "nbformat": 4,
 "nbformat_minor": 2
}
