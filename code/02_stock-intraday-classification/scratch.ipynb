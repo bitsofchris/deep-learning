{
 "cells": [
  {
   "cell_type": "code",
   "execution_count": 17,
   "metadata": {},
   "outputs": [],
   "source": [
    "import yfinance as yf\n",
    "import pandas as pd\n",
    "import numpy as np\n",
    "\n"
   ]
  },
  {
   "cell_type": "code",
   "execution_count": null,
   "metadata": {},
   "outputs": [],
   "source": [
    "tickers = \"AAPL NVDA MSFT\"\n",
    "\n",
    "data = yf.download(tickers, period=\"max\", interval=\"1h\", group_by='ticker', threads=True, auto_adjust=True)\n",
    "\n"
   ]
  },
  {
   "cell_type": "code",
   "execution_count": 13,
   "metadata": {},
   "outputs": [
    {
     "data": {
      "text/html": [
       "<div>\n",
       "<style scoped>\n",
       "    .dataframe tbody tr th:only-of-type {\n",
       "        vertical-align: middle;\n",
       "    }\n",
       "\n",
       "    .dataframe tbody tr th {\n",
       "        vertical-align: top;\n",
       "    }\n",
       "\n",
       "    .dataframe thead th {\n",
       "        text-align: right;\n",
       "    }\n",
       "</style>\n",
       "<table border=\"1\" class=\"dataframe\">\n",
       "  <thead>\n",
       "    <tr style=\"text-align: right;\">\n",
       "      <th>Price</th>\n",
       "      <th>Open</th>\n",
       "      <th>High</th>\n",
       "      <th>Low</th>\n",
       "      <th>Close</th>\n",
       "      <th>Volume</th>\n",
       "    </tr>\n",
       "    <tr>\n",
       "      <th>Datetime</th>\n",
       "      <th></th>\n",
       "      <th></th>\n",
       "      <th></th>\n",
       "      <th></th>\n",
       "      <th></th>\n",
       "    </tr>\n",
       "  </thead>\n",
       "  <tbody>\n",
       "    <tr>\n",
       "      <th>2022-10-24 13:30:00+00:00</th>\n",
       "      <td>147.250000</td>\n",
       "      <td>148.350006</td>\n",
       "      <td>146.000000</td>\n",
       "      <td>146.630203</td>\n",
       "      <td>20169319</td>\n",
       "    </tr>\n",
       "    <tr>\n",
       "      <th>2022-10-24 14:30:00+00:00</th>\n",
       "      <td>146.630096</td>\n",
       "      <td>148.449997</td>\n",
       "      <td>146.470001</td>\n",
       "      <td>148.210007</td>\n",
       "      <td>10131448</td>\n",
       "    </tr>\n",
       "    <tr>\n",
       "      <th>2022-10-24 15:30:00+00:00</th>\n",
       "      <td>148.219894</td>\n",
       "      <td>148.820007</td>\n",
       "      <td>147.529999</td>\n",
       "      <td>148.436096</td>\n",
       "      <td>7921370</td>\n",
       "    </tr>\n",
       "    <tr>\n",
       "      <th>2022-10-24 16:30:00+00:00</th>\n",
       "      <td>148.434998</td>\n",
       "      <td>148.729996</td>\n",
       "      <td>147.910004</td>\n",
       "      <td>148.080002</td>\n",
       "      <td>6399968</td>\n",
       "    </tr>\n",
       "    <tr>\n",
       "      <th>2022-10-24 17:30:00+00:00</th>\n",
       "      <td>148.070007</td>\n",
       "      <td>149.365005</td>\n",
       "      <td>147.929993</td>\n",
       "      <td>149.285004</td>\n",
       "      <td>5909741</td>\n",
       "    </tr>\n",
       "  </tbody>\n",
       "</table>\n",
       "</div>"
      ],
      "text/plain": [
       "Price                            Open        High         Low       Close  \\\n",
       "Datetime                                                                    \n",
       "2022-10-24 13:30:00+00:00  147.250000  148.350006  146.000000  146.630203   \n",
       "2022-10-24 14:30:00+00:00  146.630096  148.449997  146.470001  148.210007   \n",
       "2022-10-24 15:30:00+00:00  148.219894  148.820007  147.529999  148.436096   \n",
       "2022-10-24 16:30:00+00:00  148.434998  148.729996  147.910004  148.080002   \n",
       "2022-10-24 17:30:00+00:00  148.070007  149.365005  147.929993  149.285004   \n",
       "\n",
       "Price                        Volume  \n",
       "Datetime                             \n",
       "2022-10-24 13:30:00+00:00  20169319  \n",
       "2022-10-24 14:30:00+00:00  10131448  \n",
       "2022-10-24 15:30:00+00:00   7921370  \n",
       "2022-10-24 16:30:00+00:00   6399968  \n",
       "2022-10-24 17:30:00+00:00   5909741  "
      ]
     },
     "execution_count": 13,
     "metadata": {},
     "output_type": "execute_result"
    }
   ],
   "source": [
    "data['AAPL'].head()"
   ]
  },
  {
   "cell_type": "code",
   "execution_count": 14,
   "metadata": {},
   "outputs": [
    {
     "data": {
      "text/plain": [
       "(3484, 15)"
      ]
     },
     "execution_count": 14,
     "metadata": {},
     "output_type": "execute_result"
    }
   ],
   "source": [
    "data.shape"
   ]
  },
  {
   "cell_type": "code",
   "execution_count": 21,
   "metadata": {},
   "outputs": [
    {
     "data": {
      "text/plain": [
       "MultiIndex([('AAPL',   'Open'),\n",
       "            ('AAPL',   'High'),\n",
       "            ('AAPL',    'Low'),\n",
       "            ('AAPL',  'Close'),\n",
       "            ('AAPL', 'Volume'),\n",
       "            ('MSFT',   'Open'),\n",
       "            ('MSFT',   'High'),\n",
       "            ('MSFT',    'Low'),\n",
       "            ('MSFT',  'Close'),\n",
       "            ('MSFT', 'Volume'),\n",
       "            ('NVDA',   'Open'),\n",
       "            ('NVDA',   'High'),\n",
       "            ('NVDA',    'Low'),\n",
       "            ('NVDA',  'Close'),\n",
       "            ('NVDA', 'Volume')],\n",
       "           names=['Ticker', 'Price'])"
      ]
     },
     "execution_count": 21,
     "metadata": {},
     "output_type": "execute_result"
    }
   ],
   "source": [
    "data.columns"
   ]
  },
  {
   "cell_type": "code",
   "execution_count": 16,
   "metadata": {},
   "outputs": [
    {
     "name": "stdout",
     "output_type": "stream",
     "text": [
      "Data for AAPL saved to 'AAPL_hourly_data.csv'\n",
      "Data for NVDA saved to 'NVDA_hourly_data.csv'\n",
      "Data for MSFT saved to 'MSFT_hourly_data.csv'\n"
     ]
    }
   ],
   "source": [
    "# Save the data\n",
    "for symbol in tickers.split(\" \"):\n",
    "    symbol_df = data[symbol]\n",
    "    symbol_df.to_csv(f'{symbol}_hourly_data.csv')\n",
    "    print(f\"Data for {symbol} saved to '{symbol}_hourly_data.csv'\")"
   ]
  },
  {
   "cell_type": "code",
   "execution_count": 24,
   "metadata": {},
   "outputs": [
    {
     "name": "stdout",
     "output_type": "stream",
     "text": [
      "['Datetime']\n"
     ]
    }
   ],
   "source": [
    "print(data.index.names)"
   ]
  },
  {
   "cell_type": "code",
   "execution_count": 25,
   "metadata": {},
   "outputs": [
    {
     "name": "stdout",
     "output_type": "stream",
     "text": [
      "MultiIndex([('AAPL',   'Open'),\n",
      "            ('AAPL',   'High'),\n",
      "            ('AAPL',    'Low'),\n",
      "            ('AAPL',  'Close'),\n",
      "            ('AAPL', 'Volume'),\n",
      "            ('MSFT',   'Open'),\n",
      "            ('MSFT',   'High'),\n",
      "            ('MSFT',    'Low'),\n",
      "            ('MSFT',  'Close'),\n",
      "            ('MSFT', 'Volume'),\n",
      "            ('NVDA',   'Open'),\n",
      "            ('NVDA',   'High'),\n",
      "            ('NVDA',    'Low'),\n",
      "            ('NVDA',  'Close'),\n",
      "            ('NVDA', 'Volume')],\n",
      "           names=['Ticker', 'Price'])\n"
     ]
    }
   ],
   "source": [
    "print(data.columns)"
   ]
  },
  {
   "cell_type": "code",
   "execution_count": 27,
   "metadata": {},
   "outputs": [
    {
     "name": "stderr",
     "output_type": "stream",
     "text": [
      "/tmp/ipykernel_2855/4140012834.py:1: FutureWarning: The previous implementation of stack is deprecated and will be removed in a future version of pandas. See the What's New notes for pandas 2.1.0 for details. Specify future_stack=True to adopt the new implementation and silence this warning.\n",
      "  data_long = data.stack(level='Ticker').reset_index()\n"
     ]
    },
    {
     "data": {
      "text/html": [
       "<div>\n",
       "<style scoped>\n",
       "    .dataframe tbody tr th:only-of-type {\n",
       "        vertical-align: middle;\n",
       "    }\n",
       "\n",
       "    .dataframe tbody tr th {\n",
       "        vertical-align: top;\n",
       "    }\n",
       "\n",
       "    .dataframe thead th {\n",
       "        text-align: right;\n",
       "    }\n",
       "</style>\n",
       "<table border=\"1\" class=\"dataframe\">\n",
       "  <thead>\n",
       "    <tr style=\"text-align: right;\">\n",
       "      <th></th>\n",
       "      <th>Date</th>\n",
       "      <th>Ticker</th>\n",
       "      <th>Open</th>\n",
       "      <th>High</th>\n",
       "      <th>Low</th>\n",
       "      <th>Close</th>\n",
       "      <th>Volume</th>\n",
       "    </tr>\n",
       "  </thead>\n",
       "  <tbody>\n",
       "    <tr>\n",
       "      <th>0</th>\n",
       "      <td>2022-10-24 13:30:00+00:00</td>\n",
       "      <td>AAPL</td>\n",
       "      <td>147.250000</td>\n",
       "      <td>148.350006</td>\n",
       "      <td>146.000000</td>\n",
       "      <td>146.630203</td>\n",
       "      <td>20169319</td>\n",
       "    </tr>\n",
       "    <tr>\n",
       "      <th>1</th>\n",
       "      <td>2022-10-24 13:30:00+00:00</td>\n",
       "      <td>MSFT</td>\n",
       "      <td>243.648895</td>\n",
       "      <td>245.729996</td>\n",
       "      <td>241.294998</td>\n",
       "      <td>242.479996</td>\n",
       "      <td>6780395</td>\n",
       "    </tr>\n",
       "    <tr>\n",
       "      <th>2</th>\n",
       "      <td>2022-10-24 13:30:00+00:00</td>\n",
       "      <td>NVDA</td>\n",
       "      <td>12.485000</td>\n",
       "      <td>12.488000</td>\n",
       "      <td>12.064000</td>\n",
       "      <td>12.147631</td>\n",
       "      <td>12959042</td>\n",
       "    </tr>\n",
       "    <tr>\n",
       "      <th>3</th>\n",
       "      <td>2022-10-24 14:30:00+00:00</td>\n",
       "      <td>AAPL</td>\n",
       "      <td>146.630096</td>\n",
       "      <td>148.449997</td>\n",
       "      <td>146.470001</td>\n",
       "      <td>148.210007</td>\n",
       "      <td>10131448</td>\n",
       "    </tr>\n",
       "    <tr>\n",
       "      <th>4</th>\n",
       "      <td>2022-10-24 14:30:00+00:00</td>\n",
       "      <td>MSFT</td>\n",
       "      <td>242.485001</td>\n",
       "      <td>244.597198</td>\n",
       "      <td>242.274994</td>\n",
       "      <td>244.520004</td>\n",
       "      <td>3068392</td>\n",
       "    </tr>\n",
       "  </tbody>\n",
       "</table>\n",
       "</div>"
      ],
      "text/plain": [
       "                       Date Ticker        Open        High         Low  \\\n",
       "0 2022-10-24 13:30:00+00:00   AAPL  147.250000  148.350006  146.000000   \n",
       "1 2022-10-24 13:30:00+00:00   MSFT  243.648895  245.729996  241.294998   \n",
       "2 2022-10-24 13:30:00+00:00   NVDA   12.485000   12.488000   12.064000   \n",
       "3 2022-10-24 14:30:00+00:00   AAPL  146.630096  148.449997  146.470001   \n",
       "4 2022-10-24 14:30:00+00:00   MSFT  242.485001  244.597198  242.274994   \n",
       "\n",
       "        Close    Volume  \n",
       "0  146.630203  20169319  \n",
       "1  242.479996   6780395  \n",
       "2   12.147631  12959042  \n",
       "3  148.210007  10131448  \n",
       "4  244.520004   3068392  "
      ]
     },
     "execution_count": 27,
     "metadata": {},
     "output_type": "execute_result"
    }
   ],
   "source": [
    "data_long = data.stack(level='Ticker').reset_index()\n",
    "data_long.columns = ['Date', 'Ticker', 'Open', 'High', 'Low', 'Close', 'Volume']\n",
    "data_long.head()"
   ]
  },
  {
   "cell_type": "code",
   "execution_count": 36,
   "metadata": {},
   "outputs": [
    {
     "name": "stdout",
     "output_type": "stream",
     "text": [
      "<class 'pandas.core.frame.DataFrame'>\n",
      "RangeIndex: 10452 entries, 0 to 10451\n",
      "Data columns (total 7 columns):\n",
      " #   Column  Non-Null Count  Dtype              \n",
      "---  ------  --------------  -----              \n",
      " 0   Date    10452 non-null  datetime64[ns, UTC]\n",
      " 1   Ticker  10452 non-null  object             \n",
      " 2   Open    10452 non-null  float64            \n",
      " 3   High    10452 non-null  float64            \n",
      " 4   Low     10452 non-null  float64            \n",
      " 5   Close   10452 non-null  float64            \n",
      " 6   Volume  10452 non-null  int64              \n",
      "dtypes: datetime64[ns, UTC](1), float64(4), int64(1), object(1)\n",
      "memory usage: 571.7+ KB\n"
     ]
    }
   ],
   "source": [
    "data_long.info()"
   ]
  },
  {
   "cell_type": "code",
   "execution_count": 33,
   "metadata": {},
   "outputs": [],
   "source": [
    "def engineer_features(df):\n",
    "    df = df.sort_values(by=['Ticker', 'Date'])\n",
    "\n",
    "    # Returns\n",
    "    df['Returns'] = df.groupby('Ticker')['Close'].pct_change()\n",
    "    df['Log_Returns'] = df.groupby('Ticker')['Close'].transform(lambda x: np.log(x / x.shift(1)))\n",
    "\n",
    "    # Volume features\n",
    "    df['Volume_Change'] = df.groupby('Ticker')['Volume'].pct_change()\n",
    "    df['Volume_MA_Ratio'] = df.groupby('Ticker')['Volume'].transform(lambda x: x / x.rolling(window=10).mean())\n",
    "\n",
    "    # Price momentum\n",
    "    for window in [1, 3, 5, 10]:\n",
    "        df[f'Momentum_{window}'] = df.groupby('Ticker')['Close'].transform(lambda x: x.pct_change(periods=window))\n",
    "\n",
    "    # Close Position to High and Low\n",
    "    df['Bar_Range'] = df['High'] - df['Low']\n",
    "    df['Close_Position'] = (df['Close'] - df['Low']) / df['Bar_Range']\n",
    "    # if high and low are equal, set close position to 0.5\n",
    "    df.loc[df['Bar_Range'] == 0, 'Close_Position'] = 0.5\n",
    "    df['Close_Position_Category'] = pd.cut(df['Close_Position'], \n",
    "                                           bins=[0, 0.2, 0.4, 0.6, 0.8, 1], \n",
    "                                           labels=['Very Low', 'Low', 'Middle', 'High', 'Very High'])\n",
    "\n",
    "    # Our label: 1 if next hour's price is higher, else 0\n",
    "    df['Target'] = df.groupby('Ticker')['Close'].transform(lambda x: (x.shift(-1) > x).astype(int))\n",
    "\n",
    "    # Drop NaN values\n",
    "    df.dropna(inplace=True)\n",
    "\n",
    "\n",
    "    return df\n",
    "\n",
    "df = engineer_features(data_long)\n",
    "\n"
   ]
  },
  {
   "cell_type": "code",
   "execution_count": 34,
   "metadata": {},
   "outputs": [
    {
     "data": {
      "text/html": [
       "<div>\n",
       "<style scoped>\n",
       "    .dataframe tbody tr th:only-of-type {\n",
       "        vertical-align: middle;\n",
       "    }\n",
       "\n",
       "    .dataframe tbody tr th {\n",
       "        vertical-align: top;\n",
       "    }\n",
       "\n",
       "    .dataframe thead th {\n",
       "        text-align: right;\n",
       "    }\n",
       "</style>\n",
       "<table border=\"1\" class=\"dataframe\">\n",
       "  <thead>\n",
       "    <tr style=\"text-align: right;\">\n",
       "      <th></th>\n",
       "      <th>Date</th>\n",
       "      <th>Ticker</th>\n",
       "      <th>Open</th>\n",
       "      <th>High</th>\n",
       "      <th>Low</th>\n",
       "      <th>Close</th>\n",
       "      <th>Volume</th>\n",
       "      <th>Returns</th>\n",
       "      <th>Log_Returns</th>\n",
       "      <th>Volume_Change</th>\n",
       "      <th>Volume_MA_Ratio</th>\n",
       "      <th>Momentum_1</th>\n",
       "      <th>Momentum_3</th>\n",
       "      <th>Momentum_5</th>\n",
       "      <th>Momentum_10</th>\n",
       "      <th>Bar_Range</th>\n",
       "      <th>Close_Position</th>\n",
       "      <th>Close_Position_Category</th>\n",
       "      <th>Target</th>\n",
       "    </tr>\n",
       "  </thead>\n",
       "  <tbody>\n",
       "    <tr>\n",
       "      <th>30</th>\n",
       "      <td>2022-10-25 16:30:00+00:00</td>\n",
       "      <td>AAPL</td>\n",
       "      <td>151.789993</td>\n",
       "      <td>151.839996</td>\n",
       "      <td>151.149994</td>\n",
       "      <td>151.494995</td>\n",
       "      <td>5889941</td>\n",
       "      <td>-0.002009</td>\n",
       "      <td>-0.002011</td>\n",
       "      <td>-0.278226</td>\n",
       "      <td>0.647903</td>\n",
       "      <td>-0.002009</td>\n",
       "      <td>0.002283</td>\n",
       "      <td>0.010101</td>\n",
       "      <td>0.033177</td>\n",
       "      <td>0.690002</td>\n",
       "      <td>0.500000</td>\n",
       "      <td>Middle</td>\n",
       "      <td>1</td>\n",
       "    </tr>\n",
       "    <tr>\n",
       "      <th>33</th>\n",
       "      <td>2022-10-25 17:30:00+00:00</td>\n",
       "      <td>AAPL</td>\n",
       "      <td>151.490005</td>\n",
       "      <td>152.050003</td>\n",
       "      <td>151.154999</td>\n",
       "      <td>152.049301</td>\n",
       "      <td>6496406</td>\n",
       "      <td>0.003659</td>\n",
       "      <td>0.003652</td>\n",
       "      <td>0.102966</td>\n",
       "      <td>0.744380</td>\n",
       "      <td>0.003659</td>\n",
       "      <td>0.003063</td>\n",
       "      <td>0.016644</td>\n",
       "      <td>0.025904</td>\n",
       "      <td>0.895004</td>\n",
       "      <td>0.999216</td>\n",
       "      <td>Very High</td>\n",
       "      <td>1</td>\n",
       "    </tr>\n",
       "    <tr>\n",
       "      <th>36</th>\n",
       "      <td>2022-10-25 18:30:00+00:00</td>\n",
       "      <td>AAPL</td>\n",
       "      <td>152.044998</td>\n",
       "      <td>152.300003</td>\n",
       "      <td>151.759995</td>\n",
       "      <td>152.268707</td>\n",
       "      <td>6861939</td>\n",
       "      <td>0.001443</td>\n",
       "      <td>0.001442</td>\n",
       "      <td>0.056267</td>\n",
       "      <td>0.795926</td>\n",
       "      <td>0.001443</td>\n",
       "      <td>0.003088</td>\n",
       "      <td>0.007401</td>\n",
       "      <td>0.025820</td>\n",
       "      <td>0.540009</td>\n",
       "      <td>0.942046</td>\n",
       "      <td>Very High</td>\n",
       "      <td>1</td>\n",
       "    </tr>\n",
       "    <tr>\n",
       "      <th>39</th>\n",
       "      <td>2022-10-25 19:30:00+00:00</td>\n",
       "      <td>AAPL</td>\n",
       "      <td>152.264999</td>\n",
       "      <td>152.490005</td>\n",
       "      <td>152.020004</td>\n",
       "      <td>152.380005</td>\n",
       "      <td>7608674</td>\n",
       "      <td>0.000731</td>\n",
       "      <td>0.000731</td>\n",
       "      <td>0.108823</td>\n",
       "      <td>0.870339</td>\n",
       "      <td>0.000731</td>\n",
       "      <td>0.005842</td>\n",
       "      <td>0.005245</td>\n",
       "      <td>0.029038</td>\n",
       "      <td>0.470001</td>\n",
       "      <td>0.765957</td>\n",
       "      <td>High</td>\n",
       "      <td>0</td>\n",
       "    </tr>\n",
       "    <tr>\n",
       "      <th>42</th>\n",
       "      <td>2022-10-26 13:30:00+00:00</td>\n",
       "      <td>AAPL</td>\n",
       "      <td>150.960007</td>\n",
       "      <td>151.320007</td>\n",
       "      <td>149.529999</td>\n",
       "      <td>150.660004</td>\n",
       "      <td>22487941</td>\n",
       "      <td>-0.011288</td>\n",
       "      <td>-0.011352</td>\n",
       "      <td>1.955566</td>\n",
       "      <td>2.162298</td>\n",
       "      <td>-0.011288</td>\n",
       "      <td>-0.009137</td>\n",
       "      <td>-0.007510</td>\n",
       "      <td>0.009211</td>\n",
       "      <td>1.790009</td>\n",
       "      <td>0.631285</td>\n",
       "      <td>High</td>\n",
       "      <td>1</td>\n",
       "    </tr>\n",
       "  </tbody>\n",
       "</table>\n",
       "</div>"
      ],
      "text/plain": [
       "                        Date Ticker        Open        High         Low  \\\n",
       "30 2022-10-25 16:30:00+00:00   AAPL  151.789993  151.839996  151.149994   \n",
       "33 2022-10-25 17:30:00+00:00   AAPL  151.490005  152.050003  151.154999   \n",
       "36 2022-10-25 18:30:00+00:00   AAPL  152.044998  152.300003  151.759995   \n",
       "39 2022-10-25 19:30:00+00:00   AAPL  152.264999  152.490005  152.020004   \n",
       "42 2022-10-26 13:30:00+00:00   AAPL  150.960007  151.320007  149.529999   \n",
       "\n",
       "         Close    Volume   Returns  Log_Returns  Volume_Change  \\\n",
       "30  151.494995   5889941 -0.002009    -0.002011      -0.278226   \n",
       "33  152.049301   6496406  0.003659     0.003652       0.102966   \n",
       "36  152.268707   6861939  0.001443     0.001442       0.056267   \n",
       "39  152.380005   7608674  0.000731     0.000731       0.108823   \n",
       "42  150.660004  22487941 -0.011288    -0.011352       1.955566   \n",
       "\n",
       "    Volume_MA_Ratio  Momentum_1  Momentum_3  Momentum_5  Momentum_10  \\\n",
       "30         0.647903   -0.002009    0.002283    0.010101     0.033177   \n",
       "33         0.744380    0.003659    0.003063    0.016644     0.025904   \n",
       "36         0.795926    0.001443    0.003088    0.007401     0.025820   \n",
       "39         0.870339    0.000731    0.005842    0.005245     0.029038   \n",
       "42         2.162298   -0.011288   -0.009137   -0.007510     0.009211   \n",
       "\n",
       "    Bar_Range  Close_Position Close_Position_Category  Target  \n",
       "30   0.690002        0.500000                  Middle       1  \n",
       "33   0.895004        0.999216               Very High       1  \n",
       "36   0.540009        0.942046               Very High       1  \n",
       "39   0.470001        0.765957                    High       0  \n",
       "42   1.790009        0.631285                    High       1  "
      ]
     },
     "execution_count": 34,
     "metadata": {},
     "output_type": "execute_result"
    }
   ],
   "source": [
    "df.head()"
   ]
  },
  {
   "cell_type": "code",
   "execution_count": 37,
   "metadata": {},
   "outputs": [
    {
     "name": "stdout",
     "output_type": "stream",
     "text": [
      "<class 'pandas.core.frame.DataFrame'>\n",
      "Index: 10377 entries, 30 to 10451\n",
      "Data columns (total 19 columns):\n",
      " #   Column                   Non-Null Count  Dtype              \n",
      "---  ------                   --------------  -----              \n",
      " 0   Date                     10377 non-null  datetime64[ns, UTC]\n",
      " 1   Ticker                   10377 non-null  object             \n",
      " 2   Open                     10377 non-null  float64            \n",
      " 3   High                     10377 non-null  float64            \n",
      " 4   Low                      10377 non-null  float64            \n",
      " 5   Close                    10377 non-null  float64            \n",
      " 6   Volume                   10377 non-null  int64              \n",
      " 7   Returns                  10377 non-null  float64            \n",
      " 8   Log_Returns              10377 non-null  float64            \n",
      " 9   Volume_Change            10377 non-null  float64            \n",
      " 10  Volume_MA_Ratio          10377 non-null  float64            \n",
      " 11  Momentum_1               10377 non-null  float64            \n",
      " 12  Momentum_3               10377 non-null  float64            \n",
      " 13  Momentum_5               10377 non-null  float64            \n",
      " 14  Momentum_10              10377 non-null  float64            \n",
      " 15  Bar_Range                10377 non-null  float64            \n",
      " 16  Close_Position           10377 non-null  float64            \n",
      " 17  Close_Position_Category  10377 non-null  category           \n",
      " 18  Target                   10377 non-null  int64              \n",
      "dtypes: category(1), datetime64[ns, UTC](1), float64(14), int64(2), object(1)\n",
      "memory usage: 1.5+ MB\n"
     ]
    }
   ],
   "source": [
    "df.info()"
   ]
  },
  {
   "cell_type": "code",
   "execution_count": null,
   "metadata": {},
   "outputs": [],
   "source": [
    "df.to_csv('hourly_data_features.csv', index=False)"
   ]
  }
 ],
 "metadata": {
  "kernelspec": {
   "display_name": "env",
   "language": "python",
   "name": "python3"
  },
  "language_info": {
   "codemirror_mode": {
    "name": "ipython",
    "version": 3
   },
   "file_extension": ".py",
   "mimetype": "text/x-python",
   "name": "python",
   "nbconvert_exporter": "python",
   "pygments_lexer": "ipython3",
   "version": "3.10.12"
  }
 },
 "nbformat": 4,
 "nbformat_minor": 2
}
